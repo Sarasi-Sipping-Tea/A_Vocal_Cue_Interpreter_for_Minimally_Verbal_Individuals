{
  "nbformat": 4,
  "nbformat_minor": 0,
  "metadata": {
    "colab": {
      "provenance": []
    },
    "kernelspec": {
      "name": "python3",
      "display_name": "Python 3"
    },
    "language_info": {
      "name": "python"
    }
  },
  "cells": [
    {
      "cell_type": "markdown",
      "source": [
        "# Train-Test by small sessions\n",
        "\n",
        "The audio files in the ReCANVo data set were collected by clipping vocalizations from longer recordings, taken in *sessions*. Part of our goal for this project is to understand if and how our classifiers can learn to distinguish sessions and use that information to \"cheat\" during label classification. To that end, there are two important things to note:\n",
        "1. In order to validate our models on unseen data, we need our test set to contain vocalizations from sessions that are not represented in training data;\n",
        "1. The number of vocalizations in each session varies considerably, to the point that some groups are small enough to cause issues during cross validation.\n",
        "\n",
        "With this in mind, we decided that all sessions with fewer than 15 representative after our initial train-test split should be moved to the test set. This should ensure that all sessions within training data are reasonably well populated, and that our testing set contains plenty of data from sessions not seen during training."
      ],
      "metadata": {
        "id": "umHNVJcbHVRD"
      }
    },
    {
      "cell_type": "code",
      "execution_count": 1,
      "metadata": {
        "id": "rlOCsLKwGpv9"
      },
      "outputs": [],
      "source": [
        "import pandas as pd\n",
        "from pathlib import Path"
      ]
    },
    {
      "cell_type": "code",
      "source": [
        "old_csv_loc = Path('directory_w_train_test.csv')\n",
        "new_csv_loc = Path('tt_small_sessions.csv')"
      ],
      "metadata": {
        "id": "k2yt9QsXQ22p"
      },
      "execution_count": 2,
      "outputs": []
    },
    {
      "cell_type": "code",
      "source": [
        "old_df = pd.read_csv(old_csv_loc)"
      ],
      "metadata": {
        "id": "Nk3gCB-fRBJD"
      },
      "execution_count": 3,
      "outputs": []
    },
    {
      "cell_type": "code",
      "source": [
        "# The session of each recording can be found in its file name.\n",
        "\n",
        "def get_session(filename: str) -> str:\n",
        "  return filename.split('-')[0][:-3]"
      ],
      "metadata": {
        "id": "JSTN_e5ORHbk"
      },
      "execution_count": 4,
      "outputs": []
    },
    {
      "cell_type": "code",
      "source": [
        "old_df['Session'] = old_df.Filename.apply(get_session)"
      ],
      "metadata": {
        "id": "CicTzkNfRX6R"
      },
      "execution_count": 5,
      "outputs": []
    },
    {
      "cell_type": "code",
      "source": [
        "session_counts = old_df.loc[old_df.is_test==0].Session.value_counts()"
      ],
      "metadata": {
        "id": "_3tVa0-wRri6"
      },
      "execution_count": 6,
      "outputs": []
    },
    {
      "cell_type": "code",
      "source": [
        "new_df = old_df.copy()\n",
        "new_df.loc[new_df.Session.isin(session_counts[session_counts < 15].index), 'is_test'] = 1"
      ],
      "metadata": {
        "id": "t34siIhQR4GW"
      },
      "execution_count": 7,
      "outputs": []
    },
    {
      "cell_type": "code",
      "source": [
        "new_df.to_csv(new_csv_loc)"
      ],
      "metadata": {
        "id": "vRYrwoOaY3fm"
      },
      "execution_count": 8,
      "outputs": []
    },
    {
      "cell_type": "code",
      "source": [],
      "metadata": {
        "id": "DMaQQBXMbL8X"
      },
      "execution_count": null,
      "outputs": []
    }
  ]
}