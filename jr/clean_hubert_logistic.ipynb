{
 "cells": [
  {
   "cell_type": "markdown",
   "metadata": {},
   "source": [
    "## HuBERT features + regularized logistic regression\n",
    "\n",
    "We extract HuBERT features for one participant and fit an L^2-regularized\n",
    "regression classifier on those features to predict label. The regularization\n",
    "strength is determined by a hyperparameter search. Using the optimal hyperparameter,\n",
    "we compute unweighted f_1 score using both ordinary cross validation, and\n",
    "hold-one-session-out validation. We also compute performance on the test set."
   ]
  },
  {
   "cell_type": "code",
   "execution_count": 1,
   "metadata": {},
   "outputs": [],
   "source": [
    "import matplotlib.pyplot as plt\n",
    "import numpy as np\n",
    "import pandas as pd\n",
    "from sklearn.linear_model import LogisticRegression\n",
    "from sklearn.metrics import f1_score, confusion_matrix\n",
    "from sklearn.model_selection import KFold, cross_val_predict\n",
    "from sklearn.pipeline import make_pipeline\n",
    "from sklearn.preprocessing import StandardScaler\n",
    "from skopt import BayesSearchCV\n",
    "from tqdm.notebook import tqdm\n",
    "\n",
    "from helpers import get_hubert_features, unweighted_f1"
   ]
  },
  {
   "cell_type": "code",
   "execution_count": 2,
   "metadata": {},
   "outputs": [
    {
     "data": {
      "application/vnd.jupyter.widget-view+json": {
       "model_id": "5a9a57f689884bca800a1f4e74e6e94b",
       "version_major": 2,
       "version_minor": 0
      },
      "text/plain": [
       "  0%|          | 0/981 [00:00<?, ?it/s]"
      ]
     },
     "metadata": {},
     "output_type": "display_data"
    }
   ],
   "source": [
    "# Get HuBERT features for one participant\n",
    "hubert_features = get_hubert_features(\"P05\")"
   ]
  },
  {
   "cell_type": "code",
   "execution_count": 3,
   "metadata": {},
   "outputs": [
    {
     "name": "stdout",
     "output_type": "stream",
     "text": [
      "OrderedDict([('logisticregression__C', 0.03361316666633539)])\n",
      "Best f1 score: 0.5965\n"
     ]
    }
   ],
   "source": [
    "# There are 768 generated features, which is a lot\n",
    "# relative to how many training data there are. So we\n",
    "# will need regularization. Using sk-optimize to optimize\n",
    "# strength of regularization parameter (this is overkill\n",
    "# since there's just one parameter, but oh well)\n",
    "X_tr, y_tr = hubert_features[\"X_tr\"], hubert_features[\"y_tr\"]\n",
    "est = make_pipeline(StandardScaler(), LogisticRegression(max_iter=10**6))\n",
    "opt = BayesSearchCV(\n",
    "    est,\n",
    "    {\n",
    "        \"logisticregression__C\": (5e-3, 1, \"log-uniform\"),\n",
    "    },\n",
    "    n_iter=20,\n",
    "    cv=KFold(n_splits=10, shuffle=True, random_state=12345),\n",
    "    scoring=\"f1_macro\",\n",
    ")\n",
    "opt.fit(X_tr, y_tr)\n",
    "print(opt.best_params_)\n",
    "print(\"Best f1 score:\", np.round(opt.best_score_, 4))\n",
    "C = opt.best_params_[\"logisticregression__C\"]"
   ]
  },
  {
   "cell_type": "code",
   "execution_count": 4,
   "metadata": {},
   "outputs": [
    {
     "name": "stdout",
     "output_type": "stream",
     "text": [
      "Out-of-sample f1 score: 0.6158\n"
     ]
    }
   ],
   "source": [
    "# Out-of-sample performance\n",
    "est = make_pipeline(\n",
    "    StandardScaler(),\n",
    "    LogisticRegression(C=C, max_iter=10**6),\n",
    ")\n",
    "oos_pred_prob = cross_val_predict(\n",
    "    est,\n",
    "    X_tr,\n",
    "    y_tr,\n",
    "    cv=KFold(\n",
    "        n_splits=10,\n",
    "        shuffle=True,\n",
    "        random_state=1234,  # Using different seed to avoid over-fitting parameter\n",
    "    ),\n",
    "    method=\"predict_proba\",\n",
    ")\n",
    "oos_pred = oos_pred_prob.argmax(1)\n",
    "print(\"Out-of-sample f1 score:\", unweighted_f1(y_tr, oos_pred))"
   ]
  },
  {
   "cell_type": "code",
   "execution_count": 5,
   "metadata": {},
   "outputs": [
    {
     "data": {
      "application/vnd.jupyter.widget-view+json": {
       "model_id": "a544775e9d534347848ef7aee5e73aac",
       "version_major": 2,
       "version_minor": 0
      },
      "text/plain": [
       "  0%|          | 0/15 [00:00<?, ?it/s]"
      ]
     },
     "metadata": {},
     "output_type": "display_data"
    },
    {
     "name": "stdout",
     "output_type": "stream",
     "text": [
      "Out-of-session f1 score: 0.3933\n"
     ]
    }
   ],
   "source": [
    "# Out of session performance is substantially worse, suggesting the model might\n",
    "# be picking up on background sounds\n",
    "label_list = hubert_features[\"label_list\"]\n",
    "session_tr = hubert_features[\"session_tr\"]\n",
    "pred_prob = np.zeros((len(X_tr), len(label_list)))\n",
    "pred_prob[:] = np.nan\n",
    "for session in tqdm(np.unique(session_tr)):\n",
    "    mask = session_tr == session\n",
    "    est = make_pipeline(\n",
    "        StandardScaler(),\n",
    "        LogisticRegression(C=C, max_iter=10**6),\n",
    "    )\n",
    "    est.fit(X_tr[~mask], y_tr[~mask])\n",
    "    pred = est.predict_proba(X_tr[mask])\n",
    "\n",
    "    # In case any labels are missing from training data:\n",
    "    pred_list = []\n",
    "    for n in range(len(label_list)):\n",
    "        pred_list.append(\n",
    "            pred[:, est.steps[1][1].classes_.tolist().index(n)]\n",
    "            if n in est.steps[1][1].classes_\n",
    "            else np.zeros(mask.sum())\n",
    "        )\n",
    "    pred = np.vstack(pred_list).T\n",
    "    pred_prob[mask] = pred\n",
    "assert not np.isnan(pred_prob).any()\n",
    "pred = pred_prob.argmax(1)\n",
    "print(\"Out-of-session f1 score:\", unweighted_f1(y_tr, pred))"
   ]
  },
  {
   "cell_type": "code",
   "execution_count": 6,
   "metadata": {},
   "outputs": [
    {
     "name": "stdout",
     "output_type": "stream",
     "text": [
      "f1 score, all test: 0.569\n",
      "f1 score, holdout sessions: 0.3618\n",
      "f1 score, sessions shared with training data: 0.6711\n"
     ]
    }
   ],
   "source": [
    "est = make_pipeline(StandardScaler(), LogisticRegression(C=C, max_iter=10**6))\n",
    "est.fit(X_tr, y_tr)\n",
    "X_te, y_te = hubert_features[\"X_te\"], hubert_features[\"y_te\"]\n",
    "pred = est.predict(X_te)\n",
    "print(\"f1 score, all test:\", unweighted_f1(y_te, pred))\n",
    "session_te = hubert_features[\"session_te\"]\n",
    "small_session_mask = ~pd.Series(session_te).isin(session_tr)\n",
    "print(\n",
    "    \"f1 score, holdout sessions:\",\n",
    "    unweighted_f1(y_te[small_session_mask], pred[small_session_mask]),\n",
    ")\n",
    "print(\n",
    "    \"f1 score, sessions shared with training data:\",\n",
    "    unweighted_f1(y_te[~small_session_mask], pred[~small_session_mask]),\n",
    ")"
   ]
  },
  {
   "cell_type": "code",
   "execution_count": 7,
   "metadata": {},
   "outputs": [
    {
     "data": {
      "text/html": [
       "<div>\n",
       "<style scoped>\n",
       "    .dataframe tbody tr th:only-of-type {\n",
       "        vertical-align: middle;\n",
       "    }\n",
       "\n",
       "    .dataframe tbody tr th {\n",
       "        vertical-align: top;\n",
       "    }\n",
       "\n",
       "    .dataframe thead th {\n",
       "        text-align: right;\n",
       "    }\n",
       "</style>\n",
       "<table border=\"1\" class=\"dataframe\">\n",
       "  <thead>\n",
       "    <tr style=\"text-align: right;\">\n",
       "      <th></th>\n",
       "      <th>selftalk</th>\n",
       "      <th>frustrated</th>\n",
       "      <th>delighted</th>\n",
       "      <th>dysregulated</th>\n",
       "      <th>happy</th>\n",
       "    </tr>\n",
       "  </thead>\n",
       "  <tbody>\n",
       "    <tr>\n",
       "      <th>selftalk</th>\n",
       "      <td>45</td>\n",
       "      <td>7</td>\n",
       "      <td>21</td>\n",
       "      <td>6</td>\n",
       "      <td>3</td>\n",
       "    </tr>\n",
       "    <tr>\n",
       "      <th>frustrated</th>\n",
       "      <td>9</td>\n",
       "      <td>62</td>\n",
       "      <td>10</td>\n",
       "      <td>10</td>\n",
       "      <td>0</td>\n",
       "    </tr>\n",
       "    <tr>\n",
       "      <th>delighted</th>\n",
       "      <td>29</td>\n",
       "      <td>4</td>\n",
       "      <td>53</td>\n",
       "      <td>12</td>\n",
       "      <td>3</td>\n",
       "    </tr>\n",
       "    <tr>\n",
       "      <th>dysregulated</th>\n",
       "      <td>3</td>\n",
       "      <td>2</td>\n",
       "      <td>3</td>\n",
       "      <td>12</td>\n",
       "      <td>0</td>\n",
       "    </tr>\n",
       "    <tr>\n",
       "      <th>happy</th>\n",
       "      <td>1</td>\n",
       "      <td>0</td>\n",
       "      <td>2</td>\n",
       "      <td>2</td>\n",
       "      <td>9</td>\n",
       "    </tr>\n",
       "  </tbody>\n",
       "</table>\n",
       "</div>"
      ],
      "text/plain": [
       "              selftalk  frustrated  delighted  dysregulated  happy\n",
       "selftalk            45           7         21             6      3\n",
       "frustrated           9          62         10            10      0\n",
       "delighted           29           4         53            12      3\n",
       "dysregulated         3           2          3            12      0\n",
       "happy                1           0          2             2      9"
      ]
     },
     "metadata": {},
     "output_type": "display_data"
    },
    {
     "data": {
      "image/png": "[encoded data removed]",
      "text/plain": [
       "<Figure size 700x700 with 1 Axes>"
      ]
     },
     "metadata": {},
     "output_type": "display_data"
    }
   ],
   "source": [
    "# Heatmap for test predictions\n",
    "conf_mat = confusion_matrix(pred, y_te)\n",
    "display(pd.DataFrame(conf_mat, label_list, label_list))\n",
    "plt.figure(figsize=(7, 7))\n",
    "plt.imshow(conf_mat, cmap=\"viridis\", interpolation=\"nearest\")\n",
    "plt.xticks(range(len(label_list)), labels=label_list)\n",
    "plt.yticks(range(len(label_list)), labels=label_list)\n",
    "plt.ylabel(\"Predicted label\")\n",
    "plt.xlabel(\"Actual label\")\n",
    "plt.show()"
   ]
  }
 ],
 "metadata": {
  "kernelspec": {
   "display_name": "ml_311",
   "language": "python",
   "name": "python3"
  },
  "language_info": {
   "codemirror_mode": {
    "name": "ipython",
    "version": 3
   },
   "file_extension": ".py",
   "mimetype": "text/x-python",
   "name": "python",
   "nbconvert_exporter": "python",
   "pygments_lexer": "ipython3",
   "version": "3.11.0"
  }
 },
 "nbformat": 4,
 "nbformat_minor": 2
}
