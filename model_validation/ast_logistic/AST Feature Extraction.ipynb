{
  "nbformat": 4,
  "nbformat_minor": 0,
  "metadata": {
    "colab": {
      "provenance": [],
      "toc_visible": true,
      "include_colab_link": true
    },
    "kernelspec": {
      "name": "python3",
      "display_name": "Python 3"
    },
    "language_info": {
      "name": "python"
    }
  },
  "cells": [
    {
      "cell_type": "markdown",
      "metadata": {
        "id": "view-in-github",
        "colab_type": "text"
      },
      "source": [
        "<a href=\"https://colab.research.google.com/github/julianrosen/erdos_dl_recanvo_project/blob/main/sj/AST%20Feature%20Extraction.ipynb\" target=\"_parent\"><img src=\"https://colab.research.google.com/assets/colab-badge.svg\" alt=\"Open In Colab\"/></a>"
      ]
    },
    {
      "cell_type": "markdown",
      "source": [
        "# Extracting Features with AST\n",
        "\n",
        "## Premise\n",
        "Our work is building upon the results from a 2021 paper titled “Transfer Learning with Real-World Nonverbal Vocalizations from Minimally Speaking Individuals” [https://www.media.mit.edu/publications/transfer-learning-with-real-world-nonverbal-vocalizations-from-minimally-speaking-individuals/] We use the ReCanVo dataset that the original authors had gathered. Each audio clip is labled by caretakers with tags such as \"Happy\", Dysregulated\" , \"Hungry\" , etc. Our goal is to build a classifier that predicts the label.\n",
        "\n",
        "<br>\n",
        "\n",
        "We use sevaral deep models to extract features from audio data including HuBert & AST. Here we focus on AST [Audio Spectrogram Transformer], which is a purely attention based model developed by Yuan Gong, Yu-An Chung, and James Glass for audio classification. [References: https://arxiv.org/pdf/2104.01778, https://github.com/YuanGongND/ast/tree/master] We use the first five layers of their model to extract features.\n",
        "\n",
        "\n",
        "<br>\n",
        "\n",
        "## This Notebook\n",
        "\n",
        "The Goal of this notebook is to extract AST features from the audio data, and save them for later use. We do this in three scenareos. In each scenario we drop the datapoints with lables that have less than 30 data points.\n",
        "- For Participant 01 we extract 4 types of features (with lables with lower than 30 data points removed)\n",
        "- For Participant 05 we had already extracted features in an earlier notebook. However there were some leftover features we still have to extract.\n",
        "- For the entire data set we extract the output given by the initial layer of AST\n",
        "\n",
        "</br>\n",
        "\n",
        "\n",
        "\n",
        "\n",
        "\n",
        "## Step 1 : Get the Data from the Recanovo Project"
      ],
      "metadata": {
        "id": "FWjKyuAOx7aI"
      }
    },
    {
      "cell_type": "code",
      "execution_count": null,
      "metadata": {
        "colab": {
          "base_uri": "https://localhost:8080/"
        },
        "id": "WLJhLAbMUYlk",
        "outputId": "255f7719-609f-404e-bf26-d634557a2220"
      },
      "outputs": [
        {
          "output_type": "stream",
          "name": "stdout",
          "text": [
            "Downloading...\n",
            "From (original): https://drive.google.com/uc?id=1e3ilpZosYjvGzjmO1Jaur6Ln4cJD8yAm\n",
            "From (redirected): https://drive.google.com/uc?id=1e3ilpZosYjvGzjmO1Jaur6Ln4cJD8yAm&confirm=t&uuid=9e52c008-69cb-4d9e-a3bf-725295957693\n",
            "To: /content/recanvo.tar.gz\n",
            "100% 1.06G/1.06G [00:24<00:00, 42.5MB/s]\n"
          ]
        }
      ],
      "source": [
        "# Get the Reconvo data from the link https://drive.google.com/uc?id=1e3ilpZosYjvGzjmO1Jaur6Ln4cJD8yAm\n",
        "# unzip it and put it in the directory: /content/data\n",
        "\n",
        "! gdown 1e3ilpZosYjvGzjmO1Jaur6Ln4cJD8yAm\n",
        "! tar -xf recanvo.tar.gz\n",
        "! rm recanvo.tar.gz\n",
        "! mv recanvo data"
      ]
    },
    {
      "cell_type": "markdown",
      "source": [
        "Importing necessary packages and libraries"
      ],
      "metadata": {
        "id": "zr2gZ7O0Q7Xd"
      }
    },
    {
      "cell_type": "code",
      "source": [
        "import functools\n",
        "from pathlib import Path\n",
        "\n",
        "import torchaudio.transforms as T\n",
        "import math\n",
        "\n",
        "\n",
        "import matplotlib.pyplot as plt\n",
        "import numpy as np\n",
        "import pandas as pd\n",
        "\n",
        "\n",
        "import torch\n",
        "import torchaudio\n",
        "from tqdm.notebook import tqdm\n"
      ],
      "metadata": {
        "id": "PJDA5FFLUuQS"
      },
      "execution_count": null,
      "outputs": []
    },
    {
      "cell_type": "markdown",
      "source": [
        "The train test split is made so at least one whole session is in the test set\n"
      ],
      "metadata": {
        "id": "FiHI827_zVE3"
      }
    },
    {
      "cell_type": "code",
      "source": [
        "# data files [importing the new train test split made by Ale from the link: https://drive.google.com/uc?id=1zMQzBcjoMXR1FipmrFXJ0rjD7S5IgeT4]\n",
        "! gdown 1zMQzBcjoMXR1FipmrFXJ0rjD7S5IgeT4 -O /content/new_train_test.csv"
      ],
      "metadata": {
        "colab": {
          "base_uri": "https://localhost:8080/"
        },
        "id": "VBe-FToFRcbe",
        "outputId": "c0bb0b23-a0f1-40e6-d4da-dddf9ee3f2fb"
      },
      "execution_count": null,
      "outputs": [
        {
          "output_type": "stream",
          "name": "stdout",
          "text": [
            "Downloading...\n",
            "From: https://drive.google.com/uc?id=1zMQzBcjoMXR1FipmrFXJ0rjD7S5IgeT4\n",
            "To: /content/new_train_test.csv\n",
            "\r  0% 0.00/523k [00:00<?, ?B/s]\r100% 523k/523k [00:00<00:00, 23.6MB/s]\n"
          ]
        }
      ]
    },
    {
      "cell_type": "code",
      "source": [
        "#create a dataframe to hold the data\n",
        "df = pd.read_csv('/content/new_train_test.csv')\n",
        "#check labels\n",
        "display(df.Label.value_counts())"
      ],
      "metadata": {
        "colab": {
          "base_uri": "https://localhost:8080/",
          "height": 805
        },
        "id": "6hb4vK3qDARw",
        "outputId": "14a186c4-985f-4aed-97be-f69bacf35b29"
      },
      "execution_count": null,
      "outputs": [
        {
          "output_type": "display_data",
          "data": {
            "text/plain": [
              "Label\n",
              "selftalk                  1885\n",
              "frustrated                1536\n",
              "delighted                 1272\n",
              "dysregulated               704\n",
              "social                     634\n",
              "request                    419\n",
              "affectionate               129\n",
              "yes                        123\n",
              "laughter                    93\n",
              "dysregulation-sick          74\n",
              "happy                       61\n",
              "help                        24\n",
              "more                        22\n",
              "protest                     21\n",
              "bathroom                    20\n",
              "dysregulation-bathroom      18\n",
              "no                          12\n",
              "glee                         8\n",
              "laugh                        8\n",
              "tablet                       7\n",
              "hunger                       4\n",
              "greeting                     3\n",
              "Name: count, dtype: int64"
            ],
            "text/html": [
              "<div>\n",
              "<style scoped>\n",
              "    .dataframe tbody tr th:only-of-type {\n",
              "        vertical-align: middle;\n",
              "    }\n",
              "\n",
              "    .dataframe tbody tr th {\n",
              "        vertical-align: top;\n",
              "    }\n",
              "\n",
              "    .dataframe thead th {\n",
              "        text-align: right;\n",
              "    }\n",
              "</style>\n",
              "<table border=\"1\" class=\"dataframe\">\n",
              "  <thead>\n",
              "    <tr style=\"text-align: right;\">\n",
              "      <th></th>\n",
              "      <th>count</th>\n",
              "    </tr>\n",
              "    <tr>\n",
              "      <th>Label</th>\n",
              "      <th></th>\n",
              "    </tr>\n",
              "  </thead>\n",
              "  <tbody>\n",
              "    <tr>\n",
              "      <th>selftalk</th>\n",
              "      <td>1885</td>\n",
              "    </tr>\n",
              "    <tr>\n",
              "      <th>frustrated</th>\n",
              "      <td>1536</td>\n",
              "    </tr>\n",
              "    <tr>\n",
              "      <th>delighted</th>\n",
              "      <td>1272</td>\n",
              "    </tr>\n",
              "    <tr>\n",
              "      <th>dysregulated</th>\n",
              "      <td>704</td>\n",
              "    </tr>\n",
              "    <tr>\n",
              "      <th>social</th>\n",
              "      <td>634</td>\n",
              "    </tr>\n",
              "    <tr>\n",
              "      <th>request</th>\n",
              "      <td>419</td>\n",
              "    </tr>\n",
              "    <tr>\n",
              "      <th>affectionate</th>\n",
              "      <td>129</td>\n",
              "    </tr>\n",
              "    <tr>\n",
              "      <th>yes</th>\n",
              "      <td>123</td>\n",
              "    </tr>\n",
              "    <tr>\n",
              "      <th>laughter</th>\n",
              "      <td>93</td>\n",
              "    </tr>\n",
              "    <tr>\n",
              "      <th>dysregulation-sick</th>\n",
              "      <td>74</td>\n",
              "    </tr>\n",
              "    <tr>\n",
              "      <th>happy</th>\n",
              "      <td>61</td>\n",
              "    </tr>\n",
              "    <tr>\n",
              "      <th>help</th>\n",
              "      <td>24</td>\n",
              "    </tr>\n",
              "    <tr>\n",
              "      <th>more</th>\n",
              "      <td>22</td>\n",
              "    </tr>\n",
              "    <tr>\n",
              "      <th>protest</th>\n",
              "      <td>21</td>\n",
              "    </tr>\n",
              "    <tr>\n",
              "      <th>bathroom</th>\n",
              "      <td>20</td>\n",
              "    </tr>\n",
              "    <tr>\n",
              "      <th>dysregulation-bathroom</th>\n",
              "      <td>18</td>\n",
              "    </tr>\n",
              "    <tr>\n",
              "      <th>no</th>\n",
              "      <td>12</td>\n",
              "    </tr>\n",
              "    <tr>\n",
              "      <th>glee</th>\n",
              "      <td>8</td>\n",
              "    </tr>\n",
              "    <tr>\n",
              "      <th>laugh</th>\n",
              "      <td>8</td>\n",
              "    </tr>\n",
              "    <tr>\n",
              "      <th>tablet</th>\n",
              "      <td>7</td>\n",
              "    </tr>\n",
              "    <tr>\n",
              "      <th>hunger</th>\n",
              "      <td>4</td>\n",
              "    </tr>\n",
              "    <tr>\n",
              "      <th>greeting</th>\n",
              "      <td>3</td>\n",
              "    </tr>\n",
              "  </tbody>\n",
              "</table>\n",
              "</div><br><label><b>dtype:</b> int64</label>"
            ]
          },
          "metadata": {}
        }
      ]
    },
    {
      "cell_type": "code",
      "source": [
        "Label_counts = df.Label.value_counts()\n",
        "Label_enough = Label_counts[Label_counts >= 30]"
      ],
      "metadata": {
        "id": "8S-T4epzgQ0Q"
      },
      "execution_count": null,
      "outputs": []
    },
    {
      "cell_type": "code",
      "source": [
        "print(Label_enough.index)"
      ],
      "metadata": {
        "colab": {
          "base_uri": "https://localhost:8080/"
        },
        "id": "Ci72roBWggn0",
        "outputId": "01b8d5fa-ae0f-4faa-e5fa-9526041f46d4"
      },
      "execution_count": null,
      "outputs": [
        {
          "output_type": "stream",
          "name": "stdout",
          "text": [
            "Index(['selftalk', 'frustrated', 'delighted', 'dysregulated', 'social',\n",
            "       'request', 'affectionate', 'yes', 'laughter', 'dysregulation-sick',\n",
            "       'happy'],\n",
            "      dtype='object', name='Label')\n"
          ]
        }
      ]
    },
    {
      "cell_type": "code",
      "source": [
        "\n",
        "df_dropped = df.loc[df.Label.isin(Label_enough.index)]\n"
      ],
      "metadata": {
        "id": "R_SRLGbAXQdB"
      },
      "execution_count": null,
      "outputs": []
    },
    {
      "cell_type": "code",
      "source": [
        "display(df_dropped)"
      ],
      "metadata": {
        "colab": {
          "base_uri": "https://localhost:8080/",
          "height": 423
        },
        "collapsed": true,
        "id": "wIQZukcUZkTz",
        "outputId": "b4ed06be-a64f-48b6-ec7e-bbdc81315d37"
      },
      "execution_count": null,
      "outputs": [
        {
          "output_type": "display_data",
          "data": {
            "text/plain": [
              "      Unnamed: 0                                   Filename Participant  \\\n",
              "0              0  200126_2142_00-13-04.06--00-13-04.324.wav         P01   \n",
              "1              1   200126_2142_00-06-41.54--00-06-42.47.wav         P01   \n",
              "2              2   200126_2142_00-11-35.94--00-11-37.08.wav         P01   \n",
              "3              3   200126_2142_00-12-11.66--00-12-15.31.wav         P01   \n",
              "4              4   200126_2142_00-00-24.55--00-00-24.95.wav         P01   \n",
              "...          ...                                        ...         ...   \n",
              "7072        7072    210318_1436_00-00-00.0--00-00-01.05.wav         P16   \n",
              "7073        7073   210201_1427_00-00-07.09--00-00-07.73.wav         P16   \n",
              "7074        7074  210112_1705_00-01-33.50--00-01-34.27c.wav         P16   \n",
              "7075        7075  210112_1705_00-02-15.45--00-02-16.20c.wav         P16   \n",
              "7076        7076    210113_1453_00-00-00.7--00-00-01.98.wav         P16   \n",
              "\n",
              "                   Label  is_test      Session  \n",
              "0     dysregulation-sick        0  200126_2142  \n",
              "1     dysregulation-sick        0  200126_2142  \n",
              "2     dysregulation-sick        0  200126_2142  \n",
              "3     dysregulation-sick        0  200126_2142  \n",
              "4     dysregulation-sick        1  200126_2142  \n",
              "...                  ...      ...          ...  \n",
              "7072           delighted        1  210318_1436  \n",
              "7073           delighted        1  210201_1427  \n",
              "7074           delighted        0  210112_1705  \n",
              "7075           delighted        0  210112_1705  \n",
              "7076           delighted        1  210113_1453  \n",
              "\n",
              "[6930 rows x 6 columns]"
            ],
            "text/html": [
              "\n",
              "  <div id=\"df-a2b6a475-a99a-4f93-beba-4516e98f98f5\" class=\"colab-df-container\">\n",
              "    <div>\n",
              "<style scoped>\n",
              "    .dataframe tbody tr th:only-of-type {\n",
              "        vertical-align: middle;\n",
              "    }\n",
              "\n",
              "    .dataframe tbody tr th {\n",
              "        vertical-align: top;\n",
              "    }\n",
              "\n",
              "    .dataframe thead th {\n",
              "        text-align: right;\n",
              "    }\n",
              "</style>\n",
              "<table border=\"1\" class=\"dataframe\">\n",
              "  <thead>\n",
              "    <tr style=\"text-align: right;\">\n",
              "      <th></th>\n",
              "      <th>Unnamed: 0</th>\n",
              "      <th>Filename</th>\n",
              "      <th>Participant</th>\n",
              "      <th>Label</th>\n",
              "      <th>is_test</th>\n",
              "      <th>Session</th>\n",
              "    </tr>\n",
              "  </thead>\n",
              "  <tbody>\n",
              "    <tr>\n",
              "      <th>0</th>\n",
              "      <td>0</td>\n",
              "      <td>200126_2142_00-13-04.06--00-13-04.324.wav</td>\n",
              "      <td>P01</td>\n",
              "      <td>dysregulation-sick</td>\n",
              "      <td>0</td>\n",
              "      <td>200126_2142</td>\n",
              "    </tr>\n",
              "    <tr>\n",
              "      <th>1</th>\n",
              "      <td>1</td>\n",
              "      <td>200126_2142_00-06-41.54--00-06-42.47.wav</td>\n",
              "      <td>P01</td>\n",
              "      <td>dysregulation-sick</td>\n",
              "      <td>0</td>\n",
              "      <td>200126_2142</td>\n",
              "    </tr>\n",
              "    <tr>\n",
              "      <th>2</th>\n",
              "      <td>2</td>\n",
              "      <td>200126_2142_00-11-35.94--00-11-37.08.wav</td>\n",
              "      <td>P01</td>\n",
              "      <td>dysregulation-sick</td>\n",
              "      <td>0</td>\n",
              "      <td>200126_2142</td>\n",
              "    </tr>\n",
              "    <tr>\n",
              "      <th>3</th>\n",
              "      <td>3</td>\n",
              "      <td>200126_2142_00-12-11.66--00-12-15.31.wav</td>\n",
              "      <td>P01</td>\n",
              "      <td>dysregulation-sick</td>\n",
              "      <td>0</td>\n",
              "      <td>200126_2142</td>\n",
              "    </tr>\n",
              "    <tr>\n",
              "      <th>4</th>\n",
              "      <td>4</td>\n",
              "      <td>200126_2142_00-00-24.55--00-00-24.95.wav</td>\n",
              "      <td>P01</td>\n",
              "      <td>dysregulation-sick</td>\n",
              "      <td>1</td>\n",
              "      <td>200126_2142</td>\n",
              "    </tr>\n",
              "    <tr>\n",
              "      <th>...</th>\n",
              "      <td>...</td>\n",
              "      <td>...</td>\n",
              "      <td>...</td>\n",
              "      <td>...</td>\n",
              "      <td>...</td>\n",
              "      <td>...</td>\n",
              "    </tr>\n",
              "    <tr>\n",
              "      <th>7072</th>\n",
              "      <td>7072</td>\n",
              "      <td>210318_1436_00-00-00.0--00-00-01.05.wav</td>\n",
              "      <td>P16</td>\n",
              "      <td>delighted</td>\n",
              "      <td>1</td>\n",
              "      <td>210318_1436</td>\n",
              "    </tr>\n",
              "    <tr>\n",
              "      <th>7073</th>\n",
              "      <td>7073</td>\n",
              "      <td>210201_1427_00-00-07.09--00-00-07.73.wav</td>\n",
              "      <td>P16</td>\n",
              "      <td>delighted</td>\n",
              "      <td>1</td>\n",
              "      <td>210201_1427</td>\n",
              "    </tr>\n",
              "    <tr>\n",
              "      <th>7074</th>\n",
              "      <td>7074</td>\n",
              "      <td>210112_1705_00-01-33.50--00-01-34.27c.wav</td>\n",
              "      <td>P16</td>\n",
              "      <td>delighted</td>\n",
              "      <td>0</td>\n",
              "      <td>210112_1705</td>\n",
              "    </tr>\n",
              "    <tr>\n",
              "      <th>7075</th>\n",
              "      <td>7075</td>\n",
              "      <td>210112_1705_00-02-15.45--00-02-16.20c.wav</td>\n",
              "      <td>P16</td>\n",
              "      <td>delighted</td>\n",
              "      <td>0</td>\n",
              "      <td>210112_1705</td>\n",
              "    </tr>\n",
              "    <tr>\n",
              "      <th>7076</th>\n",
              "      <td>7076</td>\n",
              "      <td>210113_1453_00-00-00.7--00-00-01.98.wav</td>\n",
              "      <td>P16</td>\n",
              "      <td>delighted</td>\n",
              "      <td>1</td>\n",
              "      <td>210113_1453</td>\n",
              "    </tr>\n",
              "  </tbody>\n",
              "</table>\n",
              "<p>6930 rows × 6 columns</p>\n",
              "</div>\n",
              "    <div class=\"colab-df-buttons\">\n",
              "\n",
              "  <div class=\"colab-df-container\">\n",
              "    <button class=\"colab-df-convert\" onclick=\"convertToInteractive('df-a2b6a475-a99a-4f93-beba-4516e98f98f5')\"\n",
              "            title=\"Convert this dataframe to an interactive table.\"\n",
              "            style=\"display:none;\">\n",
              "\n",
              "  <svg xmlns=\"http://www.w3.org/2000/svg\" height=\"24px\" viewBox=\"0 -960 960 960\">\n",
              "    <path d=\"M120-120v-720h720v720H120Zm60-500h600v-160H180v160Zm220 220h160v-160H400v160Zm0 220h160v-160H400v160ZM180-400h160v-160H180v160Zm440 0h160v-160H620v160ZM180-180h160v-160H180v160Zm440 0h160v-160H620v160Z\"/>\n",
              "  </svg>\n",
              "    </button>\n",
              "\n",
              "  <style>\n",
              "    .colab-df-container {\n",
              "      display:flex;\n",
              "      gap: 12px;\n",
              "    }\n",
              "\n",
              "    .colab-df-convert {\n",
              "      background-color: #E8F0FE;\n",
              "      border: none;\n",
              "      border-radius: 50%;\n",
              "      cursor: pointer;\n",
              "      display: none;\n",
              "      fill: #1967D2;\n",
              "      height: 32px;\n",
              "      padding: 0 0 0 0;\n",
              "      width: 32px;\n",
              "    }\n",
              "\n",
              "    .colab-df-convert:hover {\n",
              "      background-color: #E2EBFA;\n",
              "      box-shadow: 0px 1px 2px rgba(60, 64, 67, 0.3), 0px 1px 3px 1px rgba(60, 64, 67, 0.15);\n",
              "      fill: #174EA6;\n",
              "    }\n",
              "\n",
              "    .colab-df-buttons div {\n",
              "      margin-bottom: 4px;\n",
              "    }\n",
              "\n",
              "    [theme=dark] .colab-df-convert {\n",
              "      background-color: #3B4455;\n",
              "      fill: #D2E3FC;\n",
              "    }\n",
              "\n",
              "    [theme=dark] .colab-df-convert:hover {\n",
              "      background-color: #434B5C;\n",
              "      box-shadow: 0px 1px 3px 1px rgba(0, 0, 0, 0.15);\n",
              "      filter: drop-shadow(0px 1px 2px rgba(0, 0, 0, 0.3));\n",
              "      fill: #FFFFFF;\n",
              "    }\n",
              "  </style>\n",
              "\n",
              "    <script>\n",
              "      const buttonEl =\n",
              "        document.querySelector('#df-a2b6a475-a99a-4f93-beba-4516e98f98f5 button.colab-df-convert');\n",
              "      buttonEl.style.display =\n",
              "        google.colab.kernel.accessAllowed ? 'block' : 'none';\n",
              "\n",
              "      async function convertToInteractive(key) {\n",
              "        const element = document.querySelector('#df-a2b6a475-a99a-4f93-beba-4516e98f98f5');\n",
              "        const dataTable =\n",
              "          await google.colab.kernel.invokeFunction('convertToInteractive',\n",
              "                                                    [key], {});\n",
              "        if (!dataTable) return;\n",
              "\n",
              "        const docLinkHtml = 'Like what you see? Visit the ' +\n",
              "          '<a target=\"_blank\" href=https://colab.research.google.com/notebooks/data_table.ipynb>data table notebook</a>'\n",
              "          + ' to learn more about interactive tables.';\n",
              "        element.innerHTML = '';\n",
              "        dataTable['output_type'] = 'display_data';\n",
              "        await google.colab.output.renderOutput(dataTable, element);\n",
              "        const docLink = document.createElement('div');\n",
              "        docLink.innerHTML = docLinkHtml;\n",
              "        element.appendChild(docLink);\n",
              "      }\n",
              "    </script>\n",
              "  </div>\n",
              "\n",
              "\n",
              "<div id=\"df-437b7bc5-0d67-45a7-9319-11db4c08c3ce\">\n",
              "  <button class=\"colab-df-quickchart\" onclick=\"quickchart('df-437b7bc5-0d67-45a7-9319-11db4c08c3ce')\"\n",
              "            title=\"Suggest charts\"\n",
              "            style=\"display:none;\">\n",
              "\n",
              "<svg xmlns=\"http://www.w3.org/2000/svg\" height=\"24px\"viewBox=\"0 0 24 24\"\n",
              "     width=\"24px\">\n",
              "    <g>\n",
              "        <path d=\"M19 3H5c-1.1 0-2 .9-2 2v14c0 1.1.9 2 2 2h14c1.1 0 2-.9 2-2V5c0-1.1-.9-2-2-2zM9 17H7v-7h2v7zm4 0h-2V7h2v10zm4 0h-2v-4h2v4z\"/>\n",
              "    </g>\n",
              "</svg>\n",
              "  </button>\n",
              "\n",
              "<style>\n",
              "  .colab-df-quickchart {\n",
              "      --bg-color: #E8F0FE;\n",
              "      --fill-color: #1967D2;\n",
              "      --hover-bg-color: #E2EBFA;\n",
              "      --hover-fill-color: #174EA6;\n",
              "      --disabled-fill-color: #AAA;\n",
              "      --disabled-bg-color: #DDD;\n",
              "  }\n",
              "\n",
              "  [theme=dark] .colab-df-quickchart {\n",
              "      --bg-color: #3B4455;\n",
              "      --fill-color: #D2E3FC;\n",
              "      --hover-bg-color: #434B5C;\n",
              "      --hover-fill-color: #FFFFFF;\n",
              "      --disabled-bg-color: #3B4455;\n",
              "      --disabled-fill-color: #666;\n",
              "  }\n",
              "\n",
              "  .colab-df-quickchart {\n",
              "    background-color: var(--bg-color);\n",
              "    border: none;\n",
              "    border-radius: 50%;\n",
              "    cursor: pointer;\n",
              "    display: none;\n",
              "    fill: var(--fill-color);\n",
              "    height: 32px;\n",
              "    padding: 0;\n",
              "    width: 32px;\n",
              "  }\n",
              "\n",
              "  .colab-df-quickchart:hover {\n",
              "    background-color: var(--hover-bg-color);\n",
              "    box-shadow: 0 1px 2px rgba(60, 64, 67, 0.3), 0 1px 3px 1px rgba(60, 64, 67, 0.15);\n",
              "    fill: var(--button-hover-fill-color);\n",
              "  }\n",
              "\n",
              "  .colab-df-quickchart-complete:disabled,\n",
              "  .colab-df-quickchart-complete:disabled:hover {\n",
              "    background-color: var(--disabled-bg-color);\n",
              "    fill: var(--disabled-fill-color);\n",
              "    box-shadow: none;\n",
              "  }\n",
              "\n",
              "  .colab-df-spinner {\n",
              "    border: 2px solid var(--fill-color);\n",
              "    border-color: transparent;\n",
              "    border-bottom-color: var(--fill-color);\n",
              "    animation:\n",
              "      spin 1s steps(1) infinite;\n",
              "  }\n",
              "\n",
              "  @keyframes spin {\n",
              "    0% {\n",
              "      border-color: transparent;\n",
              "      border-bottom-color: var(--fill-color);\n",
              "      border-left-color: var(--fill-color);\n",
              "    }\n",
              "    20% {\n",
              "      border-color: transparent;\n",
              "      border-left-color: var(--fill-color);\n",
              "      border-top-color: var(--fill-color);\n",
              "    }\n",
              "    30% {\n",
              "      border-color: transparent;\n",
              "      border-left-color: var(--fill-color);\n",
              "      border-top-color: var(--fill-color);\n",
              "      border-right-color: var(--fill-color);\n",
              "    }\n",
              "    40% {\n",
              "      border-color: transparent;\n",
              "      border-right-color: var(--fill-color);\n",
              "      border-top-color: var(--fill-color);\n",
              "    }\n",
              "    60% {\n",
              "      border-color: transparent;\n",
              "      border-right-color: var(--fill-color);\n",
              "    }\n",
              "    80% {\n",
              "      border-color: transparent;\n",
              "      border-right-color: var(--fill-color);\n",
              "      border-bottom-color: var(--fill-color);\n",
              "    }\n",
              "    90% {\n",
              "      border-color: transparent;\n",
              "      border-bottom-color: var(--fill-color);\n",
              "    }\n",
              "  }\n",
              "</style>\n",
              "\n",
              "  <script>\n",
              "    async function quickchart(key) {\n",
              "      const quickchartButtonEl =\n",
              "        document.querySelector('#' + key + ' button');\n",
              "      quickchartButtonEl.disabled = true;  // To prevent multiple clicks.\n",
              "      quickchartButtonEl.classList.add('colab-df-spinner');\n",
              "      try {\n",
              "        const charts = await google.colab.kernel.invokeFunction(\n",
              "            'suggestCharts', [key], {});\n",
              "      } catch (error) {\n",
              "        console.error('Error during call to suggestCharts:', error);\n",
              "      }\n",
              "      quickchartButtonEl.classList.remove('colab-df-spinner');\n",
              "      quickchartButtonEl.classList.add('colab-df-quickchart-complete');\n",
              "    }\n",
              "    (() => {\n",
              "      let quickchartButtonEl =\n",
              "        document.querySelector('#df-437b7bc5-0d67-45a7-9319-11db4c08c3ce button');\n",
              "      quickchartButtonEl.style.display =\n",
              "        google.colab.kernel.accessAllowed ? 'block' : 'none';\n",
              "    })();\n",
              "  </script>\n",
              "</div>\n",
              "\n",
              "  <div id=\"id_4e5050e1-86c4-410f-99fa-0e41ebe986f8\">\n",
              "    <style>\n",
              "      .colab-df-generate {\n",
              "        background-color: #E8F0FE;\n",
              "        border: none;\n",
              "        border-radius: 50%;\n",
              "        cursor: pointer;\n",
              "        display: none;\n",
              "        fill: #1967D2;\n",
              "        height: 32px;\n",
              "        padding: 0 0 0 0;\n",
              "        width: 32px;\n",
              "      }\n",
              "\n",
              "      .colab-df-generate:hover {\n",
              "        background-color: #E2EBFA;\n",
              "        box-shadow: 0px 1px 2px rgba(60, 64, 67, 0.3), 0px 1px 3px 1px rgba(60, 64, 67, 0.15);\n",
              "        fill: #174EA6;\n",
              "      }\n",
              "\n",
              "      [theme=dark] .colab-df-generate {\n",
              "        background-color: #3B4455;\n",
              "        fill: #D2E3FC;\n",
              "      }\n",
              "\n",
              "      [theme=dark] .colab-df-generate:hover {\n",
              "        background-color: #434B5C;\n",
              "        box-shadow: 0px 1px 3px 1px rgba(0, 0, 0, 0.15);\n",
              "        filter: drop-shadow(0px 1px 2px rgba(0, 0, 0, 0.3));\n",
              "        fill: #FFFFFF;\n",
              "      }\n",
              "    </style>\n",
              "    <button class=\"colab-df-generate\" onclick=\"generateWithVariable('df_dropped')\"\n",
              "            title=\"Generate code using this dataframe.\"\n",
              "            style=\"display:none;\">\n",
              "\n",
              "  <svg xmlns=\"http://www.w3.org/2000/svg\" height=\"24px\"viewBox=\"0 0 24 24\"\n",
              "       width=\"24px\">\n",
              "    <path d=\"M7,19H8.4L18.45,9,17,7.55,7,17.6ZM5,21V16.75L18.45,3.32a2,2,0,0,1,2.83,0l1.4,1.43a1.91,1.91,0,0,1,.58,1.4,1.91,1.91,0,0,1-.58,1.4L9.25,21ZM18.45,9,17,7.55Zm-12,3A5.31,5.31,0,0,0,4.9,8.1,5.31,5.31,0,0,0,1,6.5,5.31,5.31,0,0,0,4.9,4.9,5.31,5.31,0,0,0,6.5,1,5.31,5.31,0,0,0,8.1,4.9,5.31,5.31,0,0,0,12,6.5,5.46,5.46,0,0,0,6.5,12Z\"/>\n",
              "  </svg>\n",
              "    </button>\n",
              "    <script>\n",
              "      (() => {\n",
              "      const buttonEl =\n",
              "        document.querySelector('#id_4e5050e1-86c4-410f-99fa-0e41ebe986f8 button.colab-df-generate');\n",
              "      buttonEl.style.display =\n",
              "        google.colab.kernel.accessAllowed ? 'block' : 'none';\n",
              "\n",
              "      buttonEl.onclick = () => {\n",
              "        google.colab.notebook.generateWithVariable('df_dropped');\n",
              "      }\n",
              "      })();\n",
              "    </script>\n",
              "  </div>\n",
              "\n",
              "    </div>\n",
              "  </div>\n"
            ],
            "application/vnd.google.colaboratory.intrinsic+json": {
              "type": "dataframe",
              "variable_name": "df_dropped",
              "summary": "{\n  \"name\": \"df_dropped\",\n  \"rows\": 6930,\n  \"fields\": [\n    {\n      \"column\": \"Unnamed: 0\",\n      \"properties\": {\n        \"dtype\": \"number\",\n        \"std\": 2046,\n        \"min\": 0,\n        \"max\": 7076,\n        \"num_unique_values\": 6930,\n        \"samples\": [\n          3503,\n          4814,\n          6509\n        ],\n        \"semantic_type\": \"\",\n        \"description\": \"\"\n      }\n    },\n    {\n      \"column\": \"Filename\",\n      \"properties\": {\n        \"dtype\": \"string\",\n        \"num_unique_values\": 6930,\n        \"samples\": [\n          \"200610_2153_00-00-22.48--00-00-24.82.wav\",\n          \"200906_1558_00-04-23.41--00-04-25.65.wav\",\n          \"210216_1100_00-03-36.88--00-03-37.74.wav\"\n        ],\n        \"semantic_type\": \"\",\n        \"description\": \"\"\n      }\n    },\n    {\n      \"column\": \"Participant\",\n      \"properties\": {\n        \"dtype\": \"category\",\n        \"num_unique_values\": 8,\n        \"samples\": [\n          \"P02\",\n          \"P08\",\n          \"P01\"\n        ],\n        \"semantic_type\": \"\",\n        \"description\": \"\"\n      }\n    },\n    {\n      \"column\": \"Label\",\n      \"properties\": {\n        \"dtype\": \"category\",\n        \"num_unique_values\": 11,\n        \"samples\": [\n          \"request\",\n          \"dysregulation-sick\",\n          \"happy\"\n        ],\n        \"semantic_type\": \"\",\n        \"description\": \"\"\n      }\n    },\n    {\n      \"column\": \"is_test\",\n      \"properties\": {\n        \"dtype\": \"number\",\n        \"std\": 0,\n        \"min\": 0,\n        \"max\": 1,\n        \"num_unique_values\": 2,\n        \"samples\": [\n          1,\n          0\n        ],\n        \"semantic_type\": \"\",\n        \"description\": \"\"\n      }\n    },\n    {\n      \"column\": \"Session\",\n      \"properties\": {\n        \"dtype\": \"category\",\n        \"num_unique_values\": 202,\n        \"samples\": [\n          \"200607_0053\",\n          \"210324_2036\"\n        ],\n        \"semantic_type\": \"\",\n        \"description\": \"\"\n      }\n    }\n  ]\n}"
            }
          },
          "metadata": {}
        }
      ]
    },
    {
      "cell_type": "code",
      "source": [
        "display(df_dropped.Label.value_counts())"
      ],
      "metadata": {
        "colab": {
          "base_uri": "https://localhost:8080/",
          "height": 460
        },
        "id": "5Tk08r2bhAjv",
        "outputId": "28f90ba9-c863-40aa-cb18-d2ef7ebaa2e8"
      },
      "execution_count": null,
      "outputs": [
        {
          "output_type": "display_data",
          "data": {
            "text/plain": [
              "Label\n",
              "selftalk              1885\n",
              "frustrated            1536\n",
              "delighted             1272\n",
              "dysregulated           704\n",
              "social                 634\n",
              "request                419\n",
              "affectionate           129\n",
              "yes                    123\n",
              "laughter                93\n",
              "dysregulation-sick      74\n",
              "happy                   61\n",
              "Name: count, dtype: int64"
            ],
            "text/html": [
              "<div>\n",
              "<style scoped>\n",
              "    .dataframe tbody tr th:only-of-type {\n",
              "        vertical-align: middle;\n",
              "    }\n",
              "\n",
              "    .dataframe tbody tr th {\n",
              "        vertical-align: top;\n",
              "    }\n",
              "\n",
              "    .dataframe thead th {\n",
              "        text-align: right;\n",
              "    }\n",
              "</style>\n",
              "<table border=\"1\" class=\"dataframe\">\n",
              "  <thead>\n",
              "    <tr style=\"text-align: right;\">\n",
              "      <th></th>\n",
              "      <th>count</th>\n",
              "    </tr>\n",
              "    <tr>\n",
              "      <th>Label</th>\n",
              "      <th></th>\n",
              "    </tr>\n",
              "  </thead>\n",
              "  <tbody>\n",
              "    <tr>\n",
              "      <th>selftalk</th>\n",
              "      <td>1885</td>\n",
              "    </tr>\n",
              "    <tr>\n",
              "      <th>frustrated</th>\n",
              "      <td>1536</td>\n",
              "    </tr>\n",
              "    <tr>\n",
              "      <th>delighted</th>\n",
              "      <td>1272</td>\n",
              "    </tr>\n",
              "    <tr>\n",
              "      <th>dysregulated</th>\n",
              "      <td>704</td>\n",
              "    </tr>\n",
              "    <tr>\n",
              "      <th>social</th>\n",
              "      <td>634</td>\n",
              "    </tr>\n",
              "    <tr>\n",
              "      <th>request</th>\n",
              "      <td>419</td>\n",
              "    </tr>\n",
              "    <tr>\n",
              "      <th>affectionate</th>\n",
              "      <td>129</td>\n",
              "    </tr>\n",
              "    <tr>\n",
              "      <th>yes</th>\n",
              "      <td>123</td>\n",
              "    </tr>\n",
              "    <tr>\n",
              "      <th>laughter</th>\n",
              "      <td>93</td>\n",
              "    </tr>\n",
              "    <tr>\n",
              "      <th>dysregulation-sick</th>\n",
              "      <td>74</td>\n",
              "    </tr>\n",
              "    <tr>\n",
              "      <th>happy</th>\n",
              "      <td>61</td>\n",
              "    </tr>\n",
              "  </tbody>\n",
              "</table>\n",
              "</div><br><label><b>dtype:</b> int64</label>"
            ]
          },
          "metadata": {}
        }
      ]
    },
    {
      "cell_type": "code",
      "source": [
        "# create seperate datasets for train vs test data\n",
        "train_all = df_dropped.loc[df_dropped.is_test == 0]\n",
        "test_all = df_dropped.loc[df_dropped.is_test == 1]"
      ],
      "metadata": {
        "id": "okq5xKiaUar6"
      },
      "execution_count": null,
      "outputs": []
    },
    {
      "cell_type": "code",
      "source": [
        "#Isolate the data for participant #01 and #05\n",
        "df_P01 = df.loc[df.Participant == \"P01\"]\n",
        "df_P05 = df.loc[df.Participant == \"P05\"]\n",
        "#check labels\n",
        "display(df_P05.Label.value_counts())"
      ],
      "metadata": {
        "colab": {
          "base_uri": "https://localhost:8080/",
          "height": 397
        },
        "id": "LIEQFM9iBXfl",
        "outputId": "5a2f23ed-c001-48fc-b87c-c8730d4ce0ca"
      },
      "execution_count": null,
      "outputs": [
        {
          "output_type": "display_data",
          "data": {
            "text/plain": [
              "Label\n",
              "selftalk        286\n",
              "frustrated      283\n",
              "delighted       235\n",
              "dysregulated    116\n",
              "happy            61\n",
              "help             24\n",
              "laughter         13\n",
              "request           6\n",
              "hunger            4\n",
              "Name: count, dtype: int64"
            ],
            "text/html": [
              "<div>\n",
              "<style scoped>\n",
              "    .dataframe tbody tr th:only-of-type {\n",
              "        vertical-align: middle;\n",
              "    }\n",
              "\n",
              "    .dataframe tbody tr th {\n",
              "        vertical-align: top;\n",
              "    }\n",
              "\n",
              "    .dataframe thead th {\n",
              "        text-align: right;\n",
              "    }\n",
              "</style>\n",
              "<table border=\"1\" class=\"dataframe\">\n",
              "  <thead>\n",
              "    <tr style=\"text-align: right;\">\n",
              "      <th></th>\n",
              "      <th>count</th>\n",
              "    </tr>\n",
              "    <tr>\n",
              "      <th>Label</th>\n",
              "      <th></th>\n",
              "    </tr>\n",
              "  </thead>\n",
              "  <tbody>\n",
              "    <tr>\n",
              "      <th>selftalk</th>\n",
              "      <td>286</td>\n",
              "    </tr>\n",
              "    <tr>\n",
              "      <th>frustrated</th>\n",
              "      <td>283</td>\n",
              "    </tr>\n",
              "    <tr>\n",
              "      <th>delighted</th>\n",
              "      <td>235</td>\n",
              "    </tr>\n",
              "    <tr>\n",
              "      <th>dysregulated</th>\n",
              "      <td>116</td>\n",
              "    </tr>\n",
              "    <tr>\n",
              "      <th>happy</th>\n",
              "      <td>61</td>\n",
              "    </tr>\n",
              "    <tr>\n",
              "      <th>help</th>\n",
              "      <td>24</td>\n",
              "    </tr>\n",
              "    <tr>\n",
              "      <th>laughter</th>\n",
              "      <td>13</td>\n",
              "    </tr>\n",
              "    <tr>\n",
              "      <th>request</th>\n",
              "      <td>6</td>\n",
              "    </tr>\n",
              "    <tr>\n",
              "      <th>hunger</th>\n",
              "      <td>4</td>\n",
              "    </tr>\n",
              "  </tbody>\n",
              "</table>\n",
              "</div><br><label><b>dtype:</b> int64</label>"
            ]
          },
          "metadata": {}
        }
      ]
    },
    {
      "cell_type": "code",
      "source": [
        "# drop labels with count less than 30 [DOUBLE CHECK]\n",
        "# P01\n",
        "Label_counts1 = df_P01.Label.value_counts()\n",
        "Label_enough1 = Label_counts1[Label_counts1 >= 30]\n",
        "\n",
        "df_P01_dropped = df_P01.loc[df_P01.Label.isin(Label_enough1.index)]\n",
        "\n",
        "# P05\n",
        "Label_counts5 = df_P05.Label.value_counts()\n",
        "Label_enough5 = Label_counts5[Label_counts5 >= 30]\n",
        "\n",
        "df_P05_dropped = df_P05.loc[df_P05.Label.isin(Label_enough5.index)]"
      ],
      "metadata": {
        "id": "wyT_Nzc6XdYf"
      },
      "execution_count": null,
      "outputs": []
    },
    {
      "cell_type": "code",
      "source": [
        "display(df_P01_dropped.Label.value_counts())"
      ],
      "metadata": {
        "colab": {
          "base_uri": "https://localhost:8080/",
          "height": 335
        },
        "id": "zyNl29xVifE7",
        "outputId": "859a8b72-e4f1-49be-ac3e-bc2e53c58e53"
      },
      "execution_count": null,
      "outputs": [
        {
          "output_type": "display_data",
          "data": {
            "text/plain": [
              "Label\n",
              "selftalk              564\n",
              "delighted             357\n",
              "dysregulated          212\n",
              "social                182\n",
              "frustrated            150\n",
              "request               130\n",
              "dysregulation-sick     74\n",
              "Name: count, dtype: int64"
            ],
            "text/html": [
              "<div>\n",
              "<style scoped>\n",
              "    .dataframe tbody tr th:only-of-type {\n",
              "        vertical-align: middle;\n",
              "    }\n",
              "\n",
              "    .dataframe tbody tr th {\n",
              "        vertical-align: top;\n",
              "    }\n",
              "\n",
              "    .dataframe thead th {\n",
              "        text-align: right;\n",
              "    }\n",
              "</style>\n",
              "<table border=\"1\" class=\"dataframe\">\n",
              "  <thead>\n",
              "    <tr style=\"text-align: right;\">\n",
              "      <th></th>\n",
              "      <th>count</th>\n",
              "    </tr>\n",
              "    <tr>\n",
              "      <th>Label</th>\n",
              "      <th></th>\n",
              "    </tr>\n",
              "  </thead>\n",
              "  <tbody>\n",
              "    <tr>\n",
              "      <th>selftalk</th>\n",
              "      <td>564</td>\n",
              "    </tr>\n",
              "    <tr>\n",
              "      <th>delighted</th>\n",
              "      <td>357</td>\n",
              "    </tr>\n",
              "    <tr>\n",
              "      <th>dysregulated</th>\n",
              "      <td>212</td>\n",
              "    </tr>\n",
              "    <tr>\n",
              "      <th>social</th>\n",
              "      <td>182</td>\n",
              "    </tr>\n",
              "    <tr>\n",
              "      <th>frustrated</th>\n",
              "      <td>150</td>\n",
              "    </tr>\n",
              "    <tr>\n",
              "      <th>request</th>\n",
              "      <td>130</td>\n",
              "    </tr>\n",
              "    <tr>\n",
              "      <th>dysregulation-sick</th>\n",
              "      <td>74</td>\n",
              "    </tr>\n",
              "  </tbody>\n",
              "</table>\n",
              "</div><br><label><b>dtype:</b> int64</label>"
            ]
          },
          "metadata": {}
        }
      ]
    },
    {
      "cell_type": "code",
      "source": [
        "display(df_P05_dropped.Label.value_counts())"
      ],
      "metadata": {
        "colab": {
          "base_uri": "https://localhost:8080/",
          "height": 272
        },
        "id": "frTeI2rjiV1g",
        "outputId": "5555845e-40b9-4b61-afef-a9f21eed80ee"
      },
      "execution_count": null,
      "outputs": [
        {
          "output_type": "display_data",
          "data": {
            "text/plain": [
              "Label\n",
              "selftalk        286\n",
              "frustrated      283\n",
              "delighted       235\n",
              "dysregulated    116\n",
              "happy            61\n",
              "Name: count, dtype: int64"
            ],
            "text/html": [
              "<div>\n",
              "<style scoped>\n",
              "    .dataframe tbody tr th:only-of-type {\n",
              "        vertical-align: middle;\n",
              "    }\n",
              "\n",
              "    .dataframe tbody tr th {\n",
              "        vertical-align: top;\n",
              "    }\n",
              "\n",
              "    .dataframe thead th {\n",
              "        text-align: right;\n",
              "    }\n",
              "</style>\n",
              "<table border=\"1\" class=\"dataframe\">\n",
              "  <thead>\n",
              "    <tr style=\"text-align: right;\">\n",
              "      <th></th>\n",
              "      <th>count</th>\n",
              "    </tr>\n",
              "    <tr>\n",
              "      <th>Label</th>\n",
              "      <th></th>\n",
              "    </tr>\n",
              "  </thead>\n",
              "  <tbody>\n",
              "    <tr>\n",
              "      <th>selftalk</th>\n",
              "      <td>286</td>\n",
              "    </tr>\n",
              "    <tr>\n",
              "      <th>frustrated</th>\n",
              "      <td>283</td>\n",
              "    </tr>\n",
              "    <tr>\n",
              "      <th>delighted</th>\n",
              "      <td>235</td>\n",
              "    </tr>\n",
              "    <tr>\n",
              "      <th>dysregulated</th>\n",
              "      <td>116</td>\n",
              "    </tr>\n",
              "    <tr>\n",
              "      <th>happy</th>\n",
              "      <td>61</td>\n",
              "    </tr>\n",
              "  </tbody>\n",
              "</table>\n",
              "</div><br><label><b>dtype:</b> int64</label>"
            ]
          },
          "metadata": {}
        }
      ]
    },
    {
      "cell_type": "markdown",
      "source": [
        "Test / Train data for each participant"
      ],
      "metadata": {
        "id": "qNPb_7FWzhuD"
      }
    },
    {
      "cell_type": "code",
      "source": [
        "#create a dataframe that contains training data for participant 05\n",
        "train_P05 = df_P05_dropped.loc[df_P05_dropped.is_test == 0]\n",
        "test_P05 = df_P05_dropped.loc[df_P05_dropped.is_test == 1]\n",
        "\n",
        "train_P01 = df_P01_dropped.loc[df_P01_dropped.is_test == 0]\n",
        "test_P01 = df_P01_dropped.loc[df_P01_dropped.is_test == 1]"
      ],
      "metadata": {
        "id": "i2C39ZAZHFjK"
      },
      "execution_count": null,
      "outputs": []
    },
    {
      "cell_type": "code",
      "source": [
        "#temporary cell: checking the dataframe\n",
        "#print(train_P05)\n",
        "print(train_P05.Label.value_counts())"
      ],
      "metadata": {
        "colab": {
          "base_uri": "https://localhost:8080/"
        },
        "id": "Ykw-2_omWlFY",
        "outputId": "05219a38-b470-4e03-f767-fe4d3ecff0e1",
        "collapsed": true
      },
      "execution_count": null,
      "outputs": [
        {
          "output_type": "stream",
          "name": "stdout",
          "text": [
            "Label\n",
            "frustrated      208\n",
            "selftalk        199\n",
            "delighted       146\n",
            "dysregulated     74\n",
            "happy            46\n",
            "Name: count, dtype: int64\n"
          ]
        }
      ]
    },
    {
      "cell_type": "code",
      "source": [
        "print(train_P01.Label.value_counts())"
      ],
      "metadata": {
        "colab": {
          "base_uri": "https://localhost:8080/"
        },
        "id": "my0rHmqqPBKs",
        "outputId": "6d6bdbb2-8ddc-4222-893c-df9d45f88b0a"
      },
      "execution_count": null,
      "outputs": [
        {
          "output_type": "stream",
          "name": "stdout",
          "text": [
            "Label\n",
            "selftalk              438\n",
            "delighted             270\n",
            "dysregulated          172\n",
            "social                143\n",
            "request               106\n",
            "frustrated             99\n",
            "dysregulation-sick     59\n",
            "Name: count, dtype: int64\n"
          ]
        }
      ]
    },
    {
      "cell_type": "markdown",
      "source": [
        "## Reformatting & Looping an Example to Fit the Input Format of AST\n",
        "\n",
        "The sample rate for our audio files is 44.1k. To fit the input format for AST we need it to be in 16k. We also need to convert .wav files to .flac format (a compressed format), so it's in the correct input format for AST. We will also loop the audio to fit the length required to be an inout to AST.\n",
        "\n",
        "In the following few cells, we isolate a single .wav file from our dataset and perform the reformatting and looping tasks. We will generalize it later to the entire dataset."
      ],
      "metadata": {
        "id": "jps0xhMCzwN_"
      }
    },
    {
      "cell_type": "code",
      "source": [
        "datadir = Path('/content/data/wav')\n",
        "\n",
        "target_sample_rate = 16000\n",
        "\n",
        "#choosing an example\n",
        "filename1 = train_P01.Filename.iloc[0]\n",
        "waveform1, sample_rate1 = torchaudio.load(datadir / filename1)\n",
        "resampler = T.Resample(orig_freq=sample_rate1, new_freq=target_sample_rate)\n",
        "# Apply the resampler\n",
        "resampled_waveform1 = resampler(waveform1)\n",
        "\n",
        "#check shape\n",
        "print(resampled_waveform1.shape)"
      ],
      "metadata": {
        "id": "WHM_rvO43cgB",
        "outputId": "aa17259a-a86b-4b4d-f420-700eeb102541",
        "colab": {
          "base_uri": "https://localhost:8080/"
        }
      },
      "execution_count": null,
      "outputs": [
        {
          "output_type": "stream",
          "name": "stdout",
          "text": [
            "torch.Size([2, 4224])\n"
          ]
        }
      ]
    },
    {
      "cell_type": "code",
      "source": [
        "#here we assume the waveform is names \"resampled_waveform1\"\n",
        "#make sure to have imported the following\n",
        "# import math\n",
        "\n",
        "l = len(resampled_waveform1[0])\n",
        "multiplier = math.ceil(200000 / l)\n",
        "#print(multiplier)\n",
        "\n",
        "# Create a list of the tensor repeated num_repeats times\n",
        "tensors_list = [resampled_waveform1] * multiplier\n",
        "# Concatenate them along the new dimension\n",
        "looped_waveform = torch.cat(tensors_list, dim=1)\n",
        "\n",
        "# Compute the end index for slicing\n",
        "end_index = 200000\n",
        "\n",
        "# Slice the tensor\n",
        "trimmed_tensor0 = looped_waveform[0][:end_index]\n",
        "trimmed_tensor = torch.tensor(trimmed_tensor0)\n",
        "trimmed_looped_waveform1 = trimmed_tensor.unsqueeze(0)\n",
        "\n",
        "print(trimmed_looped_waveform1.shape)"
      ],
      "metadata": {
        "id": "R51rRjON353B",
        "outputId": "bdaad4d9-05c0-40f5-bd4a-50a85924d143",
        "colab": {
          "base_uri": "https://localhost:8080/"
        }
      },
      "execution_count": null,
      "outputs": [
        {
          "output_type": "stream",
          "name": "stdout",
          "text": [
            "torch.Size([1, 200000])\n"
          ]
        },
        {
          "output_type": "stream",
          "name": "stderr",
          "text": [
            "<ipython-input-22-a055d26c6fd6>:19: UserWarning: To copy construct from a tensor, it is recommended to use sourceTensor.clone().detach() or sourceTensor.clone().detach().requires_grad_(True), rather than torch.tensor(sourceTensor).\n",
            "  trimmed_tensor = torch.tensor(trimmed_tensor0)\n"
          ]
        }
      ]
    },
    {
      "cell_type": "code",
      "source": [
        "#saving the wave form\n",
        "#target_sample_rate = 16000 #this was run before\n",
        "\n",
        "torchaudio.save('output_looped1.flac', trimmed_looped_waveform1, target_sample_rate)\n",
        "new_wav , new_sam = torchaudio.load('output_looped1.flac')\n",
        "\n",
        "print(new_wav.shape)"
      ],
      "metadata": {
        "id": "n1CILneA4OxD",
        "outputId": "9d6d0f0a-3499-416b-c3a2-6951b4fe6f8e",
        "colab": {
          "base_uri": "https://localhost:8080/"
        }
      },
      "execution_count": null,
      "outputs": [
        {
          "output_type": "stream",
          "name": "stdout",
          "text": [
            "torch.Size([1, 200000])\n"
          ]
        }
      ]
    },
    {
      "cell_type": "code",
      "source": [
        "from IPython.display import Audio\n",
        "\n",
        "# Path to the audio file in Google Drive\n",
        "audio_path = '/content/output_looped1.flac'\n",
        "\n",
        "# Create an Audio object\n",
        "audio = Audio(audio_path)\n",
        "\n",
        "# Display the audio player\n",
        "display(audio)"
      ],
      "metadata": {
        "id": "zzEnQ3vyiv3z",
        "outputId": "c386147a-297c-489d-e530-ec8ca1deab09",
        "colab": {
          "base_uri": "https://localhost:8080/",
          "height": 76
        }
      },
      "execution_count": null,
      "outputs": [
        {
          "output_type": "display_data",
          "data": {
            "text/plain": [
              "<IPython.lib.display.Audio object>"
            ],
            "text/html": [
              "\n",
              "                <audio  controls=\"controls\" >\n",
              "                    <source src=\"data:audio/flac;base64,ZkxhQwAAACIEgASAAAPSAAZPA+gA8AADDUAFquEas+0Lnn0K0zyQAoQWBAAALg0AAABMYXZmNTguNzYuMTAwAQAAABUAAABlbmNvZGVyPUxhdmY1OC43Ni4xMDCBACAAAAAAAAAAAAAAAAAAAAAAAAAAAAAAAAAAAAAAAAAAAAAAAAAAAAAAAAAAAAAAAAAAAAAAAAAAAAAAAAAAAAAAAAAAAAAAAAAAAAAAAAAAAAAAAAAAAAAAAAAAAAAAAAAAAAAAAAAAAAAAAAAAAAAAAAAAAAAAAAAAAAAAAAAAAAAAAAAAAAAAAAAAAAAAAAAAAAAAAAAAAAAAAAAAAAAAAAAAAAAAAAAAAAAAAAAAAAAAAAAAAAAAAAAAAAAAAAAAAAAAAAAAAAAAAAAAAAAAAAAAAAAAAAAAAAAAAAAAAAAAAAAAAAAAAAAAAAAAAAAAAAAAAAAAAAAAAAAAAAAAAAAAAAAAAAAAAAAAAAAAAAAAAAAAAAAAAAAAAAAAAAAAAAAAAAAAAAAAAAAAAAAAAAAAAAAAAAAAAAAAAAAAAAAAAAAAAAAAAAAAAAAAAAAAAAAAAAAAAAAAAAAAAAAAAAAAAAAAAAAAAAAAAAAAAAAAAAAAAAAAAAAAAAAAAAAAAAAAAAAAAAAAAAAAAAAAAAAAAAAAAAAAAAAAAAAAAAAAAAAAAAAAAAAAAAAAAAAAAAAAAAAAAAAAAAAAAAAAAAAAAAAAAAAAAAAAAAAAAAAAAAAAAAAAAAAAAAAAAAAAAAAAAAAAAAAAAAAAAAAAAAAAAAAAAAAAAAAAAAAAAAAAAAAAAAAAAAAAAAAAAAAAAAAAAAAAAAAAAAAAAAAAAAAAAAAAAAAAAAAAAAAAAAAAAAAAAAAAAAAAAAAAAAAAAAAAAAAAAAAAAAAAAAAAAAAAAAAAAAAAAAAAAAAAAAAAAAAAAAAAAAAAAAAAAAAAAAAAAAAAAAAAAAAAAAAAAAAAAAAAAAAAAAAAAAAAAAAAAAAAAAAAAAAAAAAAAAAAAAAAAAAAAAAAAAAAAAAAAAAAAAAAAAAAAAAAAAAAAAAAAAAAAAAAAAAAAAAAAAAAAAAAAAAAAAAAAAAAAAAAAAAAAAAAAAAAAAAAAAAAAAAAAAAAAAAAAAAAAAAAAAAAAAAAAAAAAAAAAAAAAAAAAAAAAAAAAAAAAAAAAAAAAAAAAAAAAAAAAAAAAAAAAAAAAAAAAAAAAAAAAAAAAAAAAAAAAAAAAAAAAAAAAAAAAAAAAAAAAAAAAAAAAAAAAAAAAAAAAAAAAAAAAAAAAAAAAAAAAAAAAAAAAAAAAAAAAAAAAAAAAAAAAAAAAAAAAAAAAAAAAAAAAAAAAAAAAAAAAAAAAAAAAAAAAAAAAAAAAAAAAAAAAAAAAAAAAAAAAAAAAAAAAAAAAAAAAAAAAAAAAAAAAAAAAAAAAAAAAAAAAAAAAAAAAAAAAAAAAAAAAAAAAAAAAAAAAAAAAAAAAAAAAAAAAAAAAAAAAAAAAAAAAAAAAAAAAAAAAAAAAAAAAAAAAAAAAAAAAAAAAAAAAAAAAAAAAAAAAAAAAAAAAAAAAAAAAAAAAAAAAAAAAAAAAAAAAAAAAAAAAAAAAAAAAAAAAAAAAAAAAAAAAAAAAAAAAAAAAAAAAAAAAAAAAAAAAAAAAAAAAAAAAAAAAAAAAAAAAAAAAAAAAAAAAAAAAAAAAAAAAAAAAAAAAAAAAAAAAAAAAAAAAAAAAAAAAAAAAAAAAAAAAAAAAAAAAAAAAAAAAAAAAAAAAAAAAAAAAAAAAAAAAAAAAAAAAAAAAAAAAAAAAAAAAAAAAAAAAAAAAAAAAAAAAAAAAAAAAAAAAAAAAAAAAAAAAAAAAAAAAAAAAAAAAAAAAAAAAAAAAAAAAAAAAAAAAAAAAAAAAAAAAAAAAAAAAAAAAAAAAAAAAAAAAAAAAAAAAAAAAAAAAAAAAAAAAAAAAAAAAAAAAAAAAAAAAAAAAAAAAAAAAAAAAAAAAAAAAAAAAAAAAAAAAAAAAAAAAAAAAAAAAAAAAAAAAAAAAAAAAAAAAAAAAAAAAAAAAAAAAAAAAAAAAAAAAAAAAAAAAAAAAAAAAAAAAAAAAAAAAAAAAAAAAAAAAAAAAAAAAAAAAAAAAAAAAAAAAAAAAAAAAAAAAAAAAAAAAAAAAAAAAAAAAAAAAAAAAAAAAAAAAAAAAAAAAAAAAAAAAAAAAAAAAAAAAAAAAAAAAAAAAAAAAAAAAAAAAAAAAAAAAAAAAAAAAAAAAAAAAAAAAAAAAAAAAAAAAAAAAAAAAAAAAAAAAAAAAAAAAAAAAAAAAAAAAAAAAAAAAAAAAAAAAAAAAAAAAAAAAAAAAAAAAAAAAAAAAAAAAAAAAAAAAAAAAAAAAAAAAAAAAAAAAAAAAAAAAAAAAAAAAAAAAAAAAAAAAAAAAAAAAAAAAAAAAAAAAAAAAAAAAAAAAAAAAAAAAAAAAAAAAAAAAAAAAAAAAAAAAAAAAAAAAAAAAAAAAAAAAAAAAAAAAAAAAAAAAAAAAAAAAAAAAAAAAAAAAAAAAAAAAAAAAAAAAAAAAAAAAAAAAAAAAAAAAAAAAAAAAAAAAAAAAAAAAAAAAAAAAAAAAAAAAAAAAAAAAAAAAAAAAAAAAAAAAAAAAAAAAAAAAAAAAAAAAAAAAAAAAAAAAAAAAAAAAAAAAAAAAAAAAAAAAAAAAAAAAAAAAAAAAAAAAAAAAAAAAAAAAAAAAAAAAAAAAAAAAAAAAAAAAAAAAAAAAAAAAAAAAAAAAAAAAAAAAAAAAAAAAAAAAAAAAAAAAAAAAAAAAAAAAAAAAAAAAAAAAAAAAAAAAAAAAAAAAAAAAAAAAAAAAAAAAAAAAAAAAAAAAAAAAAAAAAAAAAAAAAAAAAAAAAAAAAAAAAAAAAAAAAAAAAAAAAAAAAAAAAAAAAAAAAAAAAAAAAAAAAAAAAAAAAAAAAAAAAAAAAAAAAAAAAAAAAAAAAAAAAAAAAAAAAAAAAAAAAAAAAAAAAAAAAAAAAAAAAAAAAAAAAAAAAAAAAAAAAAAAAAAAAAAAAAAAAAAAAAAAAAAAAAAAAAAAAAAAAAAAAAAAAAAAAAAAAAAAAAAAAAAAAAAAAAAAAAAAAAAAAAAAAAAAAAAAAAAAAAAAAAAAAAAAAAAAAAAAAAAAAAAAAAAAAAAAAAAAAAAAAAAAAAAAAAAAAAAAAAAAAAAAAAAAAAAAAAAAAAAAAAAAAAAAAAAAAAAAAAAAAAAAAAAAAAAAAAAAAAAAAAAAAAAAAAAAAAAAAAAAAAAAAAAAAAAAAAAAAAAAAAAAAAAAAAAAAAAAAAAAAAAAAAAAAAAAAAAAAAAAAAAAAAAAAAAAAAAAAAAAAAAAAAAAAAAAAAAAAAAAAAAAAAAAAAAAAAAAAAAAAAAAAAAAAAAAAAAAAAAAAAAAAAAAAAAAAAAAAAAAAAAAAAAAAAAAAAAAAAAAAAAAAAAAAAAAAAAAAAAAAAAAAAAAAAAAAAAAAAAAAAAAAAAAAAAAAAAAAAAAAAAAAAAAAAAAAAAAAAAAAAAAAAAAAAAAAAAAAAAAAAAAAAAAAAAAAAAAAAAAAAAAAAAAAAAAAAAAAAAAAAAAAAAAAAAAAAAAAAAAAAAAAAAAAAAAAAAAAAAAAAAAAAAAAAAAAAAAAAAAAAAAAAAAAAAAAAAAAAAAAAAAAAAAAAAAAAAAAAAAAAAAAAAAAAAAAAAAAAAAAAAAAAAAAAAAAAAAAAAAAAAAAAAAAAAAAAAAAAAAAAAAAAAAAAAAAAAAAAAAAAAAAAAAAAAAAAAAAAAAAAAAAAAAAAAAAAAAAAAAAAAAAAAAAAAAAAAAAAAAAAAAAAAAAAAAAAAAAAAAAAAAAAAAAAAAAAAAAAAAAAAAAAAAAAAAAAAAAAAAAAAAAAAAAAAAAAAAAAAAAAAAAAAAAAAAAAAAAAAAAAAAAAAAAAAAAAAAAAAAAAAAAAAAAAAAAAAAAAAAAAAAAAAAAAAAAAAAAAAAAAAAAAAAAAAAAAAAAAAAAAAAAAAAAAAAAAAAAAAAAAAAAAAAAAAAAAAAAAAAAAAAAAAAAAAAAAAAAAAAAAAAAAAAAAAAAAAAAAAAAAAAAAAAAAAAAAAAAAAAAAAAAAAAAAAAAAAAAAAAAAAAAAAAAAAAAAAAAAAAAAAAAAAAAAAAAAAAAAAAAAAAAAAAAAAAAAAAAAAAAAAAAAAAAAAAAAAAAAAAAAAAAAAAAAAAAAAAAAAAAAAAAAAAAAAAAAAAAAAAAAAAAAAAAAAAAAAAAAAAAAAAAAAAAAAAAAAAAAAAAAAAAAAAAAAAAAAAAAAAAAAAAAAAAAAAAAAAAAAAAAAAAAAAAAAAAAAAAAAAAAAAAAAAAAAAAAAAAAAAAAAAAAAAAAAAAAAAAAAAAAAAAAAAAAAAAAAAAAAAAAAAAAAAAAAAAAAAAAAAAAAAAAAAAAAAAAAAAAAAAAAAAAAAAAAAAAAAAAAAAAAAAAAAAAAAAAAAAAAAAAAAAAAAAAAAAAAAAAAAAAAAAAAAAAAAAAAAAAAAAAAAAAAAAAAAAAAAAAAAAAAAAAAAAAAAAAAAAAAAAAAAAAAAAAAAAAAAAAAAAAAAAAAAAAAAAAAAAAAAAAAAAAAAAAAAAAAAAAAAAAAAAAAAAAAAAAAAAAAAAAAAAAAAAAAAAAAAAAAAAAAAAAAAAAAAAAAAAAAAAAAAAAAAAAAAAAAAAAAAAAAAAAAAAAAAAAAAAAAAAAAAAAAAAAAAAAAAAAAAAAAAAAAAAAAAAAAAAAAAAAAAAAAAAAAAAAAAAAAAAAAAAAAAAAAAAAAAAAAAAAAAAAAAAAAAAAAAAAAAAAAAAAAAAAAAAAAAAAAAAAAAAAAAAAAAAAAAAAAAAAAAAAAAAAAAAAAAAAAAAAAAAAAAAAAAAAAAAAAAAAAAAAAAAAAAAAAAAAAAAAAAAAAAAAAAAAAAAAAAAAAAAAAAAAAAAAAAAAAAAAAAAAAAAAAAAAAAAAAAAAAAAAAAAAAAAAAAAAAAAAAAAAAAAAAAAAAAAAAAAAAAAAAAAAAAAAAAAAAAAAAAAAAAAAAAAAAAAAAAAAAAAAAAAAAAAAAAAAAAAAAAAAAAAAAAAAAAAAAAAAAAAAAAAAAAAAAAAAAAAAAAAAAAAAAAAAAAAAAAAAAAAAAAAAAAAAAAAAAAAAAAAAAAAAAAAAAAAAAAAAAAAAAAAAAAAAAAAAAAAAAAAAAAAAAAAAAAAAAAAAAAAAAAAAAAAAAAAAAAAAAAAAAAAAAAAAAAAAAAAAAAAAAAAAAAAAAAAAAAAAAAAAAAAAAAAAAAAAAAAAAAAAAAAAAAAAAAAAAAAAAAAAAAAAAAAAAAAAAAAAAAAAAAAAAAAAAAAAAAAAAAAAAAAAAAAAAAAAAAAAAAAAAAAAAAAAAAAAAAAAAAAAAAAAAAAAAAAAAAAAAAAAAAAAAAAAAAAAAAAAAAAAAAAAAAAAAAAAAAAAAAAAAAAAAAAAAAAAAAAAAAAAAAAAAAAAAAAAAAAAAAAAAAAAAAAAAAAAAAAAAAAAAAAAAAAAAAAAAAAAAAAAAAAAAAAAAAAAAAAAAAAAAAAAAAAAAAAAAAAAAAAAAAAAAAAAAAAAAAAAAAAAAAAAAAAAAAAAAAAAAAAAAAAAAAAAAAAAAAAAAAAAAAAAAAAAAAAAAAAAAAAAAAAAAAAAAAAAAAAAAAAAAAAAAAAAAAAAAAAAAAAAAAAAAAAAAAAAAAAAAAAAAAAAAAAAAAAAAAAAAAAAAAAAAAAAAAAAAAAAAAAAAAAAAAAAAAAAAAAAAAAAAAAAAAAAAAAAAAAAAAAAAAAAAAAAAAAAAAAAAAAAAAAAAAAAAAAAAAAAAAAAAAAAAAAAAAAAAAAAAAAAAAAAAAAAAAAAAAAAAAAAAAAAAAAAAAAAAAAAAAAAAAAAAAAAAAAAAAAAAAAAAAAAAAAAAAAAAAAAAAAAAAAAAAAAAAAAAAAAAAAAAAAAAAAAAAAAAAAAAAAAAAAAAAAAAAAAAAAAAAAAAAAAAAAAAAAAAAAAAAAAAAAAAAAAAAAAAAAAAAAAAAAAAAAAAAAAAAAAAAAAAAAAAAAAAAAAAAAAAAAAAAAAAAAAAAAAAAAAAAAAAAAAAAAAAAAAAAAAAAAAAAAAAAAAAAAAAAAAAAAAAAAAAAAAAAAAAAAAAAAAAAAAAAAAAAAAAAAAAAAAAAAAAAAAAAAAAAAAAAAAAAAAAAAAAAAAAAAAAAAAAAAAAAAAAAAAAAAAAAAAAAAAAAAAAAAAAAAAAAAAAAAAAAAAAAAAAAAAAAAAAAAAAAAAAAAAAAAAAAAAAAAAAAAAAAAAAAAAAAAAAAAAAAAAAAAAAAAAAAAAAAAAAAAAAAAAAAAAAAAAAAAAAAAAAAAAAAAAAAAAAAAAAAAAAAAAAAAAAAAAAAAAAAAAAAAAAAAAAAAAAAAAAAAAAAAAAAAAAAAAAAAAAAAAAAAAAAAAAAAAAAAAAAAAAAAAAAAAAAAAAAAAAAAAAAAAAAAAAAAAAAAAAAAAAAAAAAAAAAAAAAAAAAAAAAAAAAAAAAAAAAAAAAAAAAAAAAAAAAAAAAAAAAAAAAAAAAAAAAAAAAAAAAAAAAAAAAAAAAAAAAAAAAAAAAAAAAAAAAAAAAAAAAAAAAAAAAAAAAAAAAAAAAAAAAAAAAAAAAAAAAAAAAAAAAAAAAAAAAAAAAAAAAAAAAAAAAAAAAAAAAAAAAAAAAAAAAAAAAAAAAAAAAAAAAAAAAAAAAAAAAAAAAAAAAAAAAAAAAAAAAAAAAAAAAAAAAAAAAAAAAAAAAAAAAAAAAAAAAAAAAAAAAAAAAAAAAAAAAAAAAAAAAAAAAAAAAAAAAAAAAAAAAAAAAAAAAAAAAAAAAAAAAAAAAAAAAAAAAAAAAAAAAAAAAAAAAAAAAAAAAAAAAAAAAAAAAAAAAAAAAAAAAAAAAAAAAAAAAAAAAAAAAAAAAAAAAAAAAAAAAAAAAAAAAAAAAAAAAAAAAAAAAAAAAAAAAAAAAAAAAAAAAAAAAAAAAAAAAAAAAAAAAAAAAAAAAAAAAAAAAAAAAAAAAAAAAAAAAAAAAAAAAAAAAAAAAAAAAAAAAAAAAAAAAAAAAAAAAAAAAAAAAAAAAAAAAAAAAAAAAAAAAAAAAAAAAAAAAAAAAAAAAAAAAAAAAAAAAAAAAAAAAAAAAAAAAAAAAAAAAAAAAAAAAAAAAAAAAAAAAAAAAAAAAAAAAAAAAAAAAAAAAAAAAAAAAAAAAAAAAAAAAAAAAAAAAAAAAAAAAAAAAAAAAAAAAAAAAAAAAAAAAAAAAAAAAAAAAAAAAAAAAAAAAAAAAAAAAAAAAAAAAAAAAAAAAAAAAAAAAAAAAAAAAAAAAAAAAAAAAAAAAAAAAAAAAAAAAAAAAAAAAAAAAAAAAAAAAAAAAAAAAAAAAAAAAAAAAAAAAAAAAAAAAAAAAAAAAAAAAAAAAAAAAAAAAAAAAAAAAAAAAAAAAAAAAAAAAAAAAAAAAAAAAAAAAAAAAAAAAAAAAAAAAAAAAAAAAAAAAAAAAAAAAAAAAAAAAAAAAAAAAAAAAAAAAAAAAAAAAAAAAAAAAAAAAAAAAAAAAAAAAAAAAAAAAAAAAAAAAAAAAAAAAAAAAAAAAAAAAAAAAAAAAAAAAAAAAAAAAAAAAAAAAAAAAAAAAAAAAAAAAAAAAAAAAAAAAAAAAAAAAAAAAAAAAAAAAAAAAAAAAAAAAAAAAAAAAAAAAAAAAAAAAAAAAAAAAAAAAAAAAAAAAAAAAAAAAAAAAAAAAAAAAAAAAAAAAAAAAAAAAAAAAAAAAAAAAAAAAAAAAAAAAAAAAAAAAAAAAAAAAAAAAAAAAAAAAAAAAAAAAAAAAAAAAAAAAAAAAAAAAAAAAAAAAAAAAAAAAAAAAAAAAAAAAAAAAAAAAAAAAAAAAAAAAAAAAAAAAAAAAAAAAAAAAAAAAAAAAAAAAAAAAAAAAAAAAAAAAAAAAAAAAAAAAAAAAAAAAAAAAAAAAAAAAAAAAAAAAAAAAAAAAAAAAAAAAAAAAAAAAAAAAAAAAAAAAAAAAAAAAAAAAAAAAAAAAAAAAAAAAAAAAAAAAAAAAAAAAAAAAAAAAAAAAAAAAAAAAAAAAAAAAAAAAAAAAAAAAAAAAAAAAAAAAAAAAAAAAAAAAAAAAAAAAAAAAAAAAAAAAAAAAAAAAAAAAAAAAAAAAAAAAAAAAAAAAAAAAAAAAAAAAAAAAAAAAAAAAAAAAAAAAAAAAAAAAAAAAAAAAAAAAAAAAAAAAAAAAAAAAAAAAAAAAAAAAAAAAAAAAAAAAAAAAAAAAAAAAAAAAAAAAAAAAAAAAAAAAAAAAAAAAAAAAAAAAAAAAAAAAAAAAAAAAAAAAAAAAAAAAAAAAAAAAAAAAAAAAAAAAAAAAAAAAAAAAAAAAAAAAAAAAAAAAAAAAAAAAAAAAAAAAAAAAAAAAAAAAAAAAAAAAAAAAAAAAAAAAAAAAAAAAAAAAAAAAAAAAAAAAAAAAAAAAAAAAAAAAAAAAAAAAAAAAAAAAAAAAAAAAAAAAAAAAAAAAAAAAAAAAAAAAAAAAAAAAAAAAAAAAAAAAAAAAAAAAAAAAAAAAAAAAAAAAAAAAAAAAAAAAAAAAAAAAAAAAAAAAAAAAAAAAAAAAAAAAAAAAAAAAAAAAAAAAAAAAAAAAAAAAAAAAAAAAAAAAAAAAAAAAAAAAAAAAAAAAAAAAAAAAAAAAAAAAAAAAAAAAAAAAAAAAAAAAAAAAAAAAAAAAAAAAAAAAAAAAAAAAAAAAAAAAAAAAAAAAAAAAAAAAAAAAAAAAAAAAAAAAAAAAAAAAAAAAAAAAAAAAAAAAAAAAAAAAAAAAAAAAAAAAAAAAAAAAAAAAAAAAAAAAAAAAAAAAAAAAAAAAAAAAAAAAAAAAAAAAAAAAAAAAAAAAAAAAAAAAAAAAAAAAAAAAAAAAAAAAAAAAAAAAAAAAAAAAAAAAAAAAAAAAAAAAAAAAAAAAAAAAAAAAAAAAAAAAAAAAAAAAAAAAAAAAAAAAAAAAAAAAAAAAAAAAAAAAAAAAAAAAAAAAAAAAAAAAAAAAAAAAAAAAAAAAAAAAAAAAAAAAAAAAAAAAAAAAAAAAAAAAAAAAAAAAAAAAAAAAAAAAAAAAAAAAAAAAAAAAAAAAAAAAAAAAAAAAAAAAAAAAAAAAAAAAAAAAAAAAAAAAAAAAAAAAAAAAAAAAAAAAAAAAAAAAAAAAAAAAAAAAAAAAAAAAAAAAAAAAAAAAAAAAAAAAAAAAAAAAAAAAAAAAAAAAAAAAAAAAAAAAAAAAAAAAAAAAAAAAAAAAAAAAAAAAAAAAAAAAAAAAAAAAAAAAAAAAAAAAAAAAAAAAAAAAAAAAAAAAAAAAAAAAAAAAAAAAAAAAAAAAAAAAAAAAAAAAAAAAAAAAAAAAAAAAAAAAAAAAAAAAAAAAAAAAAAAAAAAAAAAAAAAAAAAAAAAAAAAAAAAAAAAAAAAAAAAAAAAAAAAAAAAAAAAAAAAAAAAAAAAAAAAAAAAAAAAAAAAAAAAAAAAAAAAAAAAAAAAAAAAAAAAAAAAAAAAAAAAAAAAAAAAAAAAAAAAAAAAAAAAAAAAAAAAAAAAAAAAAAAAAAAAAAAAAAAAAAAAAAAAAAAAAAAAAAAAAAAAAAAAAAAAAAAAAAAAAAAAAAAAAAAAAAAAAAAAAAAAAAAAAAAAAAAAAAAAAAAAAAAAAAAAAAAAAAAAAAAAAAAAAAAAAAAAAAAAAAAAAAAAAAAAAAAAAAAAAAAAAAAAAAAAAAAAAAAAAAAAAAAAAAAAAAAAAAAAAAAAAAAAAAAAAAAAAAAAAAAAAAAAAAAAAAAAAAAAAAAAAAAAAAAAAAAAAAAAAAAAAAAAAAAAAAAAAAAAAAAAAAAAAAAAAAAAAAAAAAAAAAAAAAAAAAAAAAAAAAAAAAAAAAAAAAAAAAAAAAAAAAAAAAAAAAAAAAAAAAAAAAAAAAAAAAAAAAAAAAAAAAAAAAAAAAAAAAAAAAAAAAAAAAAAAAAAAAAAAAAAAAAAAAAAAAAAAAAAAAAAAAAAAAAAAAAAAAAAAAAAAAAAAAAAAAAAAAAAAAAAAAAAAAAAAAAAAAAAAAAAAAAAAAAAAAAAAAAAAAAAAAAAAAAAAAAAAAAAAAAAAAAAAAAAAAAAAAAAAAAAAAAAAAAAAAAAAAAAAAAAAAAAAAAAAAAAAAAAAAAAAAAAAAAAAAAAAAAAAAAAAAAAAAAAAAAAAAAAAAAAAAAAAAAAAAAAAAAAAAAAAAAAAAAAAAAAAAAAAAAAAAAAAAAAAAAAAAAAAAAAAAAAAAAAAAAAAAAAAAAAAAAAAAAAAAAAAAAAAAAAAAAAAAAAAAAAAAAAAAAAAAAAAAAAAAAAAAAAAAAAAAAAAAAAAAAAAAAAAAAAAAAAAAAAAAAAAAAAAAAAAAAAAAAAAAAAAAAAAAAAAAAAAAAAAAAAAAAAAAAAAAAAAAAAAAAAAAAAAAAAAAAAAAAAAAAAAAAAAAAAAAAAAAAAAAAAAAAAAAAAAAAAAAAAAAAAAAAAAAAAAAAAAAAAAAAAAAAAAAAAAAAAAAAAAAAAAAAAAAAAAAAAAAAAAAAAAAAAAAAAAAAAAAAAAAAAAAAAAAAAAAAAAAAAAAAAAAAAAAAAAAAAAAAAAAAAAAAAAAAAAAAAAAAAAAAAAAAAAAAAAAAAAAAAAAAAAAAAAAAAAAAAAAAAAAAAAAAAAAAAAAAAAAAAAAAAAAAAAAAAAAAAAAAAAAAAAAAAAAAAAAAAAAAAAAAAAAAAAAAAAAAAAAAAAAAAAAAAAAAAAAAAAAAAAAAAAAAAAAAAAAAAAAAAAAAAAAAAAAAAAAAAAAAAAAAAAAAAAAAAAAAAAAAAAAAAAAAAAAAAAAAAAAAAAAAAAAAAAAAAAAAAAAAAAAAAAAAAAAAAAAAAAAAAAAAAAAAAAAAAAAAAAAAAAAAAAAAAAAAAAAAAAAAAAAAAAAAAAAAAAAAAAAAAAAAAAAAAAAAAAAAAAAAAAAAAAAAAAAAAAAD/+DUIAANO8a/nEuR438LgyeaX7EHppeYpeKIufm9kGY1caARMfegBIPoEwiJSGacZLyzak1WpdUaHLREnOPJAnPMzqrgrqk860ChFQI1X4h5yKNUeVm+dghY6kg1ASkFcD6mKj3+wUig1oDqb11imTljrizeDLn1D74AV34uTjh8gLJvdfmjK4LZKXjxIZqIislgyPhPM7RjHa7wVlZ3Dsle8rOaXDEiKQMnRQr7RrG5c+JHPzxFweOfHGO3qrF4NuB8g/4uIJ3IdpaU067lBKf5vcoEzInNR6GsOxS2b0IJNT3P9Vmk6/0mD4iD1Lx+xslnM3r7ivt7i2pRida1XMCpfibM5uq0qHJXTIT9rR15CydMPl2QOPvGrobz1AMMWcw4NsGyC0HRBtbMVDDIybkBMJRSRFMxJFPeiPFLEXHHnKCtfTVy9/la9QNqf4J3Tv67FVwuLyfCVP6AQ5Z1+R3IpEVLpF2DD5orcEaGIqKoRoTjOhRB7WUrp0FmiJUN5VlfuC0QoALAGuPUG7BNoUDwloWIx4i/TX5XuXhYMggt8GnKHE5iPArFHeXDWWFP1yZEKdmLvP8ovlbcJDs5QseOBIDA/gUORBSZKTRXHkIT38ROFT5l7hMEBNUrXU3cJZW+tYslsUsSoyGoJxYUBEg2jfw0ADc3Cs+caFdFKwURKapX+xO+HNx0OaCu884M4liBysP6PpJfcjsKOHdQzVfamxqsLbPtL3Passv/2vKFYQMMdepFWGs8/bIO4NQW1HiD5sdslFlPva16xKL0qWPZQmMKKOAnx3QnhmoC83ffsb8LX8pMfUlJM8qX2gpP/FOD+ROw/9BFGlwyGKjUoCLQvLCVqwWTL+auRgO09Vc0BpM/dgYiJVyJlDvn/6U/G8Y64hDSRPTYa42WgCMrhT+hJYCMb9QgVSoNvFpmxAVxwguzJQIdUBI93oewL359IO8lTxL5kppzOhbJ6jMZFFVxF75apjf9jWFF4LfKJWLrHIfYCvvQmrNcPLugrz1PQMTsPCYLKAeAUdi/xeplPeZSwK7rtTVdGiL/hOk2oqDUcuQtA+4C9o5lkKnXK4QpcJciPSyjSLkEyDpqISpBLRy96kHAiu+GplH8eLpolBxmBLrDmxiC1hmfvNpe8yDDuAo22jAE0XIU3oVW18pIm7imajLML1dtFmtwVZLq6rGkExuo9iP3TV0iVsMI4B1heZlG5iIzcjg2aGoXeN/v/4ODdxeUWFXamaaNSHr5u+lOb8RzL+PJOuUOsZtYaPthqulFy8TfTMkf/mlyWUKRlpuWsqpLVxnSw0oKEnqSKo8Ak4yZQ7DMIODKH/bgXRQjL86RejQF/Ok4Eb4CW5WupGG97kZTmKLryfdk+oVEGEAYW1hIYr95LAbfNf3CHjetZFXyRYZn7J+1fe0/WkmJYN5wJ3hUh8NGQkwq97LELIQXugA6iyaLFTNgVkk28d6+svWmBxhJaYUImoX3vwQ4VQQtVhTqiU1ORHvXeNj8/yj4nLM7k1IzuBIeNzuGM9GgmGsTHjvc0aTkx1cW2S2is2msyK1GnnN+Er3etoa4tOGtkwBX+WhjyLaGW94BEXLsWd8gx27NPyILmiKsTkardpn5KCBSjjwqFHnKUHYqMM735K3HzHf6IPYpzC5NKI4ER7zQmmRkl73P5oORYxPiXY2006dTKsX46k+fRt8rVcOcFZTOsz9yKaIsIrLPKwWt+3OIUQE+zQSFt+S3mX6twU6oPMsLUrXroJUQ6CXlOH6VccLs/jy09JFR+rBTdEHXIiwoGgPcWGsO8BguxF40MyHsYpl7Um94y08tm72xqfcrLqgmPJZkNT0Mp+RDDt345wxe1Kc19RCiepbX9IRKkBX4SISDO7sUxOVm5G0S9sj/GiYCkPWJsKkBh/qXXqr5t9v3fVff25zcdHU4hYXfB6/QlE6Is9R/f7r+iZU8CH8sCl6hjMRTRkRePPpSX0oQnBMHcVvtsmErae5LotcfFLBKXgV4majkxJD+ZDtpR1tfr38iAhHhKekhMY+hun2L8JvenXEZ80YIIjRy/pN/wMsVrn/sFvpljBhq/4BabDaL/dzhRfExWhEoeInToLjB0r9E/bnoyRLiluMYlyknqN2MFjWe6Zs0MV5ZAEtb/+DUIAQROHnUiQyUlJbck9ySuIw8ifOYm+LHkTyvRAL69uGKXPtUBM+aTaMs9gr7jSNnJN3W+O+E/WQJ2MrnFYeBJG8wn0j96kUEmW/OFR1jvbV8KLjhzh44LbR/DOFVu5W4CJ0P4Sm9w5B+VI8ZAw0jOwo8qBgWZ8zYsYJyoqqvGbgrZlqjHbSBMRJSNEYoikiOKrLzahpiT3ALSg/SW+PcHeb2XdlAKtyaAt903rFu7F/nAiYlHqTobPBXMAM3dPkz3doRjn9McpLqz/DJx+NY5Bc2YPJjOOkVfe6uugqB6qt6qoitzMmHV+mR1i3tpRApxxkYYXVlG6rprkI6x+zfqeIrhEPjTezmgS8jVthKoP9m+31nuqvdwLvyEOHbFc+z2XQqO6zjgw9ainZ7yti8eb7WyK58Yf0cKk6xnVcnOyjCtWS9RatqSRUsK+Ip5TzAIdbFJN/QMx7Cq6X4tVomi0hp1Vouzq+cozRIquWP/HNCyEdjmCiFaHQHrivSV2ixGgZKcco86jBIIpHaXMKnenJBBvnbPMi+VG7vVjJrzS8p+vUkv3SWT/CuHGZRHV6lmSLcsp4LF51yAqSQ3Yap2DDJZaNjfMYRJPMLfLyx7NeJ7OqlawWzH0newtqFwxnhVZOOWZGL4gvFsMbXb9FX5440hRZUtt063io1HRyzgqZacXhq8doeg6x/nldo6vz6YLQRK0fIMOeL5TJdNwy/j2CIVgCthXmEYS157Uwzz63TJXzGOpyvOk3lbhl8/Yzb7X2V+7yxxv2qs0NBWCYVk5jmvkMJ0G40VebpOIvO1bA/LlyRI0gPOWiYeVCwemI0YaiARUu9zvPSwtUkVo99fzdqNGFPtjorb8/3yIzJAHolookszy3JWpA1mQVGCQLtSySFq8jWwpWIm99Go7SNhiekyNfIWv6vORlN0COvkL5A/wbAqyagisoJg6Vi8prPN4Ukzoe0wc6pk7ym/ti3E5tAzJ50E+2VwN3RQq1RS/bi8hfpHtlxAwjbig4cohMnEv8brzuDZHpEQ7Nk9y0c8M1qQ6k7btzUO/z5G+EQE3VrHK00hRK7SDpdvx5BF02cmhN5EzMjph5ngBaezaDC5MkKEM0rMUx0VZiNx/SUn5wpaJI57qP2I01CKGFyIh3W8Fz3QydqJjrmUZmFKUJ/RVx24TV3ZW/DwJguvInUE9xAVBlMK+4Q+br7FWjwlj8ReE7vMSeYNd02WkhlW4wFA80dS3hmkdzRxGXBOSXrBLaChSJTiqDS/D3DoHcoq1bxx1B+qxg2sKZJOMd9W7thYhAnF3krBk5NrNTaXHiaemcxfjWOS9QQWwKKvyosVKtbrdqpoNaTs77MucrWRrQvVSxx6snrUOmlCHbedcDy1bYiJt3jzmGkkrIK9xcmxt65Mjcyc4BHzhQpy/QlOtlxoqjKM+LujBjtZTQlQqsIsJELTeSp387HgC3sHQmlMYV3Wt++uV+Y0u11kCquaSo9Jh7Ik3N50Q3mLkFQR3Dfk9Jhz5GOOI+jWSvm5OC1hNBLT9fK60UZjxXEp43gL3y86NhUi3/i1lynSYPkNMl5gk4zCx+uNJxBCPWWvFLp2miPkkNctxZi1eLudFGr/Rm8Do+I1IgYhQhTe/VYN1nGjej2j8WHa9oIudgDGIeyZwu1vP7FPyf/nXtPvMMNs2uTXotRTL154RoXqdjSz92sMCrVBGvYk2VVRAtqIbEApw/m5ZTPSVbj/nAmIZUrIuwUypnd2YquRU4+RRXHLjPjvoCptCAiNLlvA1FfSHxRptHMkYCQCD2Gz2fjzsrAh8mmQNTLe3KvFYPjxeS28p16or1Q8EIl1AgbMnDeFv7JtN2XiraRTF35V81qL1cHvW5VzkuFdrMJn/k/csMSgWIKtppTRVa4F5a7+ge8vhLYcsBa7NOpLBkV0xI/QgiQKNPmISS/xd4BPPsEDmThbX5le7tqxQIlBWpEa9gTfGjmBg7SwvY7lWIgggNuEQbGgSWw1nhKgLdwLrlZCNCfLkLCSu0kmi1Hb7JbmLCJoPLOOMWyV2ds9ciNCFH7PQM5U2mgo1V8+S6e2tifH38raura0CREQY6pqaEj7nWY6OP/4NQgCDUwUkRBCCrEF0gMqA1cD5uYlIb0SOGv0AErfE2CIgZHWA5A6kc+kbKOJW/jOJ7SSufYXl4Yr7dMZOrf/qFlktxOEbFhnTljKQVRUHUupknx8wCTBBs3CknTthrKZjxqNIl0lljh2K+kIf3z0OEQklxAOjJuUmVzlsnInEmOq4s4MsNLkZL5NDbZM6TnmLSupoY0gLML9CxS8Urh5E/CgG0ix2uh6AE9EaoyPURIE13HwM7kmkzEKRzZeVgtbbeRI9PTHmhS4Slcutw+yCG7tWGte5PrwnYRKPMhWEka3B9s0uljdmJTl5e5fgKbuZeDi40vfOB9WGJZcsQ+evF1KMxj1HA+zt11kB64mhot31Xweoj/BtWnFp9d4hVp9Bhz5koqrpUiCqBhZcU3Gg+oJk2apRoiO5XbSwd7BFpVMyqOFEwMmGda3uHU4X3E1VNDi7SyLB5ozxPP5kdJV8DPlRbLbq3YPmrZCzp8RwQ7eF9J6zfkGuGb8tEZe1zFU17cC96k2i7MITQhZhu83X6+Us91OX90QMe0a/o/XUjFHoX0z/TLCb55OnnKL6+2G1Ib5jcX7ERCWz7xuicoC/bNzXWNsUXQOJtDDk32Rqa3r3VdD+qG/sdsRAFx/tzBipA1B9LbbWdCtfHPPatk8qEkdiT7E6wN416ztx4u1zeoLG37m6Dc4fYVTGkrB8ZwHziA3hzMg1/Cjv5yhSs0RKerU6GmmS2VxMhQCOyAqYeOsbwHiNsMijH8Dy6NVwvpinNOLkpW3ypkjCwTjT0VStdxdTD6kQcJ4EKX5y4GVvTNUBF4ncdQgDx1QamFujAFxzdREGFNeAwK1yZGR1tlaYybehI86tFS9yFqz8VEEa37BVWfneb/cc+S2eZfElYlI2ij7QMBTrAczIfktxjoDkJsQnmPVwQWxUaV3d0StqKDKEW2ZgkFFJT+wKx75zE7uSih1HIshWm9ztJa8WQnOX81bMtARNXtJ2VcR86TbSxP/WRQdz+3Y/K16pFsJPDKUM/VV2SbcsIoyFoOxLP3IzRWXpwBZTEmOZPsM4zTm9v8bY2kwujxuVgH1Ohbf1hEHFN4CRKLxuOa03xtgKRysyVeDfFw9IzyVa4PQQ48QISHSZ0w7LDoyUQlzjXhSFzzwI8qs5GTlgm+6Y+73E/7WMx1lj2iFO0FhSF8xTT9p8cSOJYZ0S596u4zgiGixqJpfKq5RAjSIiNTqFvy/C9J20YU0KVVT2LV2kBZEkEPFSYnBL9FG/pRcFxIAjK/iWx/YhzgTI0Y7hJ6k0BS0yp1V4MrIWxpBBMBOI6k4Q45dQTl44IJOfBMAibkokpNJ1nlc03bP0yuRtjamVuzSmSSKXpFlIsY3ZS0SgWa91FOfDcskjqYr8t6F14oHmLweof+dYRrzGGCL+nHBEDC5IfAm+qOlVTg/WGPipycIFBq5Z8LakwYGd+8pKaIyapCl94RJqL8+QTeEU9ZSvJf+ROEhonEGPolVVLZWuRFRFuWUZZY9XfJHwDO3e7Z5Q+jByR1xvLgf+99Jey2oWLIon2zsGSqInuerEnT7aRLn8na5vTZe0pQWO/HssBbyVkS76dGGmkLVm5n89JW0xiWYfxUnmygjW+NyOaafAHGs0U3SlcS3I5m2hqEsqO02bJkNT5gslUrurOpgJy5cue12SnIbY+Qu1ClmdNHu1V6SPlSIqZhIll7mHrUkEuUmooOVVZDn827l8ShdiDaNglrl806csx/yR4lzWCUOvU6DMELdGTM+TRIS6Kweti8NA1nJxB2ukhJea08EuxfqAh21rJO9hhFNbcnsEaikXR6Md7UTHtbmkeTnfiKE4LIadc8TgfcQhAVByt+VTPrcgtK5UwfTVx/R04nb075OhsloEOibNqWqDk7tDe0VRxxjFvUlPXE3PtqDSyF0fDK4NGSDP1ZZ5vGgmKgpWVXsrTuiTECwdsoHx6szouQzKVVqmQZKqc5MIxetZ6CT2PNbL48QdktkwDVbIiPNmZM4HntJIUAAUVH/+DUIAwpM/DH+HgCJAbAA2/8j/ifmJLK5BlM3o8jGXqrA3ANzgNjUNMnDz0DhYRpuyt8GKRt6jyOCDUUUq0KnP4U5wQQDysXhgHF8hXGIiZyqFllhKT+jYSivGmRt76FPxqediatCBEmxUqPpPeKeKXR+ytUuVDhGBZ1l+sWOhJpMh1dxBM9HCXqPX98/PkRDC7ScCbZNt0LZgTZ98nqeg1vcwjNF8twKJwsWu2iC+j+Q4ILlBfEME6+UXiEzEp+KdjwkGUpnmn7BWoey+RkNJVr9L6aMgwg7UoZpGNMpQRN2pSQa3e0YlLK5JCbza4XQTWSlGCFcawkKgiywMAHsGEaU8W5ZMF7wPrLa5FOM3TxhSjHyL1Or/8lCHY516vESJIsIsuMvM6XZJcDWEAWW6NBVK4giJJeshGgh6+x1ieF24Qtz9WMWVWFGMm0I9j7tPbq/uZWZAiWsTkpQxhneQ5K98H6Kby2GM9GRCd8jv+RSn670LKj9m73DQT7PsQtplRcEY4je8NBJmYv0MWF1EEfjrEVw4odLwohNU0JiO40+UEodGMMzLdBZ7ZlZRpQineqHWD0b8rDZYIdnHq9Sz1moZpJa6jsojhj5Bgvew1VEQKeYESiYxMVG7JXdhjEwvoCfOyKvJCCjcJClchIPRL2HEe5JN8CGP+TPm/mbeFtvWDODgrSO87R2EiFqwiCt08mXSzcZouBc1vPImg9dUWaZu48sNOmdryLdWo+RQ3NFK9We+shO5vxWpAtRJGMkSw4ly8EPZLCg4MURCM3tx0tGwSRXLfh7Gb069OQtFF2Tan3NMma7bPL61NEpyMCJLEjWzp2pN+3fDNbi8dad8iskkNAV7HtGYTBqWofwssnvWxO5DFrtWPIYvLxG8sEly7H2xO9czb0SeVquZSARtCdrXNssErcViYLhxGsimBfo2FxznVKacCCj2hZFXIxIX/ER9m1/WaKd4z4yI5Pb6JWzbgv0qIkoj+9GFQqjIloJD0nEhBAaSyI2bxmvw164QRRxMes3bjSES/Z8jfJXl7ryVNbwxBVece82lFJVovyT6aJR6c/lRtBpYMk25mOLqDU3oYXgnTaEHqmFy6n7b/HVH1pezD9+w7FOn6PXsdxzTUTQdGdV0hOMPxlA9S0VMFDQZA2pRnNlUx9HdrW9GEJw7AdLxFZ9CQVI8aV1NVzxMAAe6AfEIxBYozQfx7QBScgOXPlKbc+RP2z/CHtY1m6ztFLbX0aJ5asARwqyKsXrplCYFOKv3Bw2t7/JW8rnT08dEQcYP+AkAPAReEB+r7NINaJj53iMWCYBKBk7dxj+7eFob6S+fhLxoo10nPbOgNgbyEpr5dG9cQDLRkMVJuRcTYm+tStvuoYgeag1WDisjDHhFPxe5xuC7FUuUkW5eCTjLXW4DCy2RDRkgFXAREJmGEjr9z8ifqW7NTdoGzApiZwgszeHUrSuoYb2Oh2uw8XFdszQkRlbpI5RppZId2vjaaZP7hinPRnHlGkNZ1w8ktFpt0wqzmqzSlMDRm7Iss/YaOjKMY0vHW+ZkLZmSB3wdoGvHqBqIiXGjZz9keP7wNQTbhkEiuHDFULYtrmFBxpM6H1zxu6vDbHQJD7VyuzkX1sr2/zSOZxI6WUgzk1CvIyKcPppe8qUMCdLprySURDLKe1zREL5fYK+KRanAVbsaMnOCBAQeIEEDbh2oJz3XqixHnHgqhIeS4Pe2V74NxCLnjE8tMAqkk98gpMhQVSRzU3ORgUa68+VvteC91Vshz8Jcu+6HSyQhgzTuzS7qiYpQUhYMoW0ZcSo8bA1xsolDB0mCFUXIK0Cr0K+G4YDnAIyywWABvogMqpVoMEJbIX0cgQohIEKBTvOhrT64iNRDayymjyBu4tst2r3ZKdhQ5EqH3Rquxs/fOScrCvi/Vkg2PH/+DUIBB9O25rguOs18X3xwu5Y7CvxmuYpNaQ6fZNjSXp8rIO5Pl4BP/btnBISMqDWXQquFbs7+brkhEeueqg7X/RaRiwGkPeOmMnAPz3DOBhhQKLEporKyJUnD+A4+2E9C+x7Q41B0tlk5QIBXUG+hgE6cTQBeah1yid4rUZ4liJw7VmppCKvmXGVbh2Q9ciQ+gixDpghV8poDiEia60vocUYgHI+6J1TC5aPRDAGWeMJQYmAm2htjiJ33eX7WrrMtWkSabiWQ4458TgymaRgsX26+sjXZwgDAYmq9Tbn2VunQGiP/iCCGjHaYe9kW2HK632dVlRESGJZrPUjJpzDR1qVhsqLrY1pjtd3a0NArMHNG/CMgLMr1AoMbNbVQ98EOatbJY7EvHnS2fjKWE9Fm1y3gFQ0c1tt8BCL54XcJMUq0p8Yudzpk6lasjQxgTAP7pp9niVwajXmiwcpomTxG5nyIRQqtrI2tIuuVUkbUecPu+vG1s6UMvzkiAAcIZOQUvcd6VUeO/YRtW4wn1eGocnryKcJM7k5kWcPpxl+aQVYivTLJZFiaithzYIFqY01Ize6x8xu3X9Sgan+yj/hdvVNKXMi5F0/d4E5xbCOuESFaLVSFAQicxvfrbK2uCQp8qdDwMEfNz4gQCJ8RhBP0A9kXjoaCPaL8sPNoNCZgLNXUqUXK01RdoOJTlpQiqnRMsn7qaKs3DVnp59pjTPi568XoQofnAU9qA0nJT/EBM9xInjK7VEALwQ001AtYJdLnqgfkzfz0ZmOUv6AUAWA7igxK77d4bKFVRyLn/HLBUhXyn5Nx5dQifMY1C4+J3vkLyFFk0b5YnA18W2WurUuWglr7iJwIEOHwNCguhjc92tFzW//CnPRp5I1fN4Sao5q2gEtou1x9snQrdtDS3ZtmJ07Uqw/SVxs3OBXejCWeMXxfNVX2hxI1RV3O5A2+iV9wEh1NytU2AUH23OXh0Mla6d6t1OrHUqLnQZ/kyqVtwmSdU7JtLnk+Li5PAsZNFwVJrGwN8/1iVdLvuRM7MFEqF46wUKzC9bGORBNSqDpofF9rHYTHxXzHDA2YlgJc65VhRsi34s1B+3Ch+OLF2bsbLq6huiWzb7LzC8HWzwqZZiY45z1YxQpZPqK7nnN6Y1Ir6ltqxxf3IZ+kyb3JUrJz4il7bItQovHFmOUAgZH96E6FXf4+52wP9oTxcXLgtmLdnS9wrzMTxdIXsCt4jXiP3EJPvxup8RWQhVcRvd5BRtnxwYz4FrZbDZPnBoQi/qsI3H1Zhd1v7QNqvxolHuCwyBPGl/sFb7ciOspO0Hi9EUU43tq+pJBI+Z4CAk+G7lzyDKKij3jfUftETeppxiU9Tv4u9BM+JJTDIig7O2vO+MSricUeaRjBzZdls5fpQCts1zripiwPF6Z5UiyNVyFBauuZL1qwJGJBXBW3V/AICOtMQ13G1V2vmmufa27mnnu3G5HrQkcMLxjIq9gnveEXqby26QzMPhppZOI5Kn9KB4NBKz7Qmm/5Bu6Y1GpmfvceQ1j5aw1XIkIMTepfrqs9J2kI0zldjLWy7xMiWZ3TjW7LOgi7WRdQufmMvotCZmbXKLSz83ARGsVtS1BfikTOLlBD/CWjhChf6dHNXeZGJ0er++DokEN4I01b9UM7Y0vGTpTQBWSQZfIrtv20OoGofNl1JM6eJ21e5lTH9dv64pTOEWJaOvLUVd96hN2VxmvCxxtaAU6r2vPl0Q3wpTtlJ7N47Q7pNMNyReSYPrvr16xIsQ+qcyUxbaSQPDxv1YTz+GrKM9ZgzHmN5/maEFpYQ+gZkeOxw4PoJr35qkXToxtiWG+VSUNSpyimk9Lyltjm/6BY7hIogH0iJWqMJxKmd54Keb5giGFXt/Y7xMULUV6PGW4yQmISCZCWPfeDKA3Ox9c8TAq+hvz3UMFRfXjrU7K3Qw2nj9tmB1VwtGaXG65VP3K5vTJkPOnmNlMLgXdXSz0ayvyhYkrknT/sXTVS/ZPvhYrY+qPFNG43h2Bobtp+cVE3oWKZt6gKpjextgdYsKUnxBiOBx3tykLvTMYuZMiKhnaLDQp2on+6Orw2o1bZ7X/xTbk/kx8y1AJ8uVIayyevGOSBvH/+DUIBRhM7ifxz/Zp+WD7J/ya/6XmJoWyKmOva7FxjYUhmYCf3jSqh3CTKXQQRVx008Aij68dhDJLf4ddWSYvdaL79JfcOo/JjkVy25QqDLZyhCJg0yljdkJXqqux23QYbl9CFzRK8DEYVykrKFDMTX5V/L6cGICdiTfFXzItFfl33ZLM/Tx4hLMJm5Rwh3VT7iLIdLB2Tmp4epimSRjRGYIWodX7OKn06rVYzSUbUPQZN0aeb1czwTTUFx3UXQVW7GhdyB8w/ZgWRhZovi/z1lvXyTv04zKEJbJnNe8E8Q13liRzV1pLx34Ei3H66nK4KRkIotNyYP7MPaDrxtisCIe9gY3yFijCPejybaG0Y7inzwahJlphn+51blyiZGq7ISb2W4M9Wo13IuG4V4g6PPZ/b1Pl/74rsmB0QswV5fAVPd1RPIXllL787W5u20967EJ0fks18rxVvme6myfD+5+JlnNpv2Nb/WLR8c/12upn2P4I9irGiXMk7Mvf9/q6ZBS20BO6I+lJvSUv2P4pGaCJUlRKjbBL7Z8t80SYast1m6Mx/f+yf6KqtIgix5C4wd8iCL2mDSfDJKTFn6uYEmF/yEeKa9dWdoSLlDJ0VPHo7rdRTV58WzaipQJ5rwyRUziKd+W0hZklbK0FCs6pgkyOxN7kL5LegEMeX0RJjipIhl64qDakZuxZOkuN9kNHH2TWZ/b3bmEwvNCVRNfLPBrFRTn02Lf10zgCFOFFYLRdzZ3CnBJBx6l+saMKPQ3U2EPYwtvAwki9etWwagmhfF6fmRVl/fCQ+hPUxRuC8gOSWgrRsi5WtISwfqDs05cV9yMPWcEoe0EW6R0ENw/e2Mxz0TNTdWpzrtHSQs1DDZF8N7pgu/3wtPnCPEUmAIRvTpyfQbUVojChRA5KCJyKPB2VbKyxuywFDJlQd0cs7Deii+esHXuiNTYF1i9Cx4Am4Y/XeDy9WDSWWShDA0XnG2dBQBLtcuxhdWCq+v7rJmWE13T3onDmvzyPS1AICVwh+XXylVOwmqaJhUor1nBNswNjL1Woi2Jmol1ffmdWAkYZslxqwouWdVs1a1yc3MovaMj5FiXZnP7E57ReIIf+JUbCUBPjM8Wwnt0ZHJJP/0CEYna47kBbUgWJaS762snzU87ogm+4Ds/ZHfLQfZu1eq+sGgsa8DKZ5TR3DYK/SIX91VtfJpLldrJ30+lk6m3LyOj7mZkm8FiUEy0HMFqKfG+AVadYzuJcz2Ta07h8grEtqFokSjLolWWDZWei7M7YSz3olclxKLd3LAYikb3CFylz7Px2FrSGXFfH3HpREODjPSNHkjHn6GuGHbo55BaQ3xJ+QfJt4LWEAQ4RszbvS0SQE4vNyWJ5V/eHP5tox9nNfwUJBtyQ1BqB5VD1lAoBMlA7luVLaXAju9ltHz6XZBiwxoPiPPHQ9ERFs5K8xUjgJdJmzLt7LosaggjNH/CTy+nIQiY2U/NTz1kSIXot7sncPow1I/HxiuK/I3m1qx418p7Q6W0utd++F4oGkdfk7oAQLaHuI3NJwXLkTnAJAvEXS59fVOstFUkpWykarFmQ80EJsH1PjC3Ww+ICnrhHsHb/y70GwA7g1NiAqIWgGxx7N6+iIRHS7opUzlIPCZ3Wo59l4RqFoj1iVfJODbQt9+Jr5H8msDQK8EWumsbNGqSUn5JMqSkhPU0apF9PeJtXAThMV4QoSAOSR5YLdPPe7UKfFp4OiocsQa1ERWpy2CgU9pXy9m4mwyyABTqXEFECl5E+ClmnxLQxw29HYirOuRHBQ1pZWTj/NxvwweC3MO9baoFyQ+vSynYHJlRS9FMbSxqs4CF5CWzgfgyWsNg7uERpehgxDt7s5VKXlN4Py/4opk5O3LHCVC8osZpa/p5HrVCtupcmQjaMnZhVe6VwVqmlEvsqvK3Ryk2eojIIG58LTNfcHVXPN59yyChFJzIIeKSo2DSoHgRtvzHklsJWoL0WpPKSpfJ/aSzRXwSPOEw8Kp1jakHhqqYPZQ7FftEoaTbRlXF2uu62BWE+WjjcVCMTKS2/6HYUy4mDyyEtaZqkjzvCgmKORHuhltSntfybZyLQUBJcSqKlezfCx00QF/sutBp5aZ0eg7kAxxH/+DUIBhFM4MPjZum98FD2t/qc/xnmJSG8TDZv/aBB7wDgvcOe+T6Sg0wt4rQUtrDtH+4YQw9p4iaF81Qs5F6KoE2kTiLlIRMrabFGTWDfsk8zKakwPtJbKWB1Y7EYBPjd0IciGAjalC1NyWWHNMYKCzYWRXLKtgglG81HaVyuxD5T039mj6M9VkOKFe9yWzAlLJjYGqy8F6FBYvWhW6O40npEMUuAaUapVmuxbaNNG4QT066YjWZAhmX13Rh0Qk8Ru1iXbPx05eWim/407N+fRLALt6xuGZVi6zicczzCV9vLawCAknQhOSTieQxo3A3+wrLRrEIcbldTZJAvRBhZgTbvIUU6MmDXxdFzqH4PQdpW1ttuxa9USJxImdiPbyraed+ktl0OVsZPQeBm9lszanENwBRk2nChodF+y1RgG0RgFcMgMgEPB0O2RUnwocPELVAXMXYqtZCZFZS8IbZR9Y2XdaVhHx2GqjL/2jgM0Fn56/iMnbV41kEVQoIxTFyoy3xK6Zdzq7ofqYoIwj4rnUwCpmifjfoDA1YZSum6YhBPWuZHo2KYt+MXKRvjXC1Nq2irumLLZU/CKBchQxpCQyBsCQrBoqfwYmQVf3+PYeCa/kK8ZXFbNh5sIacb9BZ3x9T4/WcLWVcT0oNpr/HIv1z0yHFyGAT1FNRWCBrJdhqgg1W5USmi4MhK56UT/8HfF++hgj6D82jhOWWgtB10E9ovIRJd8qt3HT/9JGp8tKj1ORiqHOsfp60mS4xfklLTBHTLIcv/aKpM9OpjqxSoeophEJ/IpiXyz9C41CkohgL/DixigMyLcp+RzUZ2BeaPkLwwPni5TY8uUKFFxuqd03qYiPdTOaeQKVGhOCxQIjcTbhBV0LZdceo87UYqd+OxBDfktfhPeYT6M0lZcad5ByyoTBqA2CTO1phMPUV8SsgPCNhMIFzk8zloUirq/hJtY99pWfJb+kYlEWz7N/WliHwFtU3knCY3T5hLIJKrSVu6pH4EHLw95tlMTtQoZHCzAz3fnldddujG7Gple5yYPJp2QUeK17bzLE9L4P8xwljcxeKV70s7Pm/d5gyIIcJy5NSvruvlXU6mJZfK08loBPIJ+s/NSF+rbJSwpC4AwUWsT/ZTz9sZ9c7dusV0IOSgsxkUVhNHQgl3hQmo45TMizHTrXUmhCLjFLfYicurykMFSRo9ECWH5tA0eR7PQIoRMVxeVtUNpENSWbO7gSYqflbfoWEXrkyLpNlC/W6zHKiSzaQVwQHyokMs/+2iGF8l96clYanQKu65ViJST5Y4ZO/GhmmZ1EkbiGCjWc6GDHpTw128COQ4njJOFs2xCF9qE6YgleUn1M5XtJVybeMD1uYdKaVjr72trCxEdiAeFDhJwgCHFoSBR12IVCNF5OI/qjyZGCx6pSEbQxMxdR6YGid2IU9eYcamWHqzaV3TYbYnqq7j2ySKMg2KCm/vJM4AsaN+de4tr9K5ZcZZD5JFLTiIIyROn6R5DBBKEyn2Si7BAL8qVNYdHYcmyH9yj4J4F64ZPZL2YpfAyoGbaZRkSlAr0G/tsexXEmg9dP+FKFDTL23XTlIcd8v7tIkr//xNK63BL0/kWwukejt0Wj0W0AQZaEgEkOghqIxV0YYt+KLsIJ/LksW3oEePUtYLTZHk49sgdtAFeQJpGMtyu5PlgkUIYgHZ5iY7nt10YZs+Vz4a8vkexADRc4lTt45ozl9tcd8WpG08PPov0cFZBi00XtPjEF9OiWy7gTZTd1G4I1pIWmMf/NM6UvX2gg9rsx14tTxIvauKW0ep14YWTfJyXyC4z0e689SnkK7p/d41me0LydsVy1IUpkoMDJQBhrM+KohMhrtPxQzucdMiu8FC8CTKX5Sz4K0tLBy8kYt5aobbtwt1HM1NEVmg2TP/+DUIBxZO/SX9YP25/kb+rv7k/tP+weYpdaK+eutxWV+826OV/myI88SHVLwYjkHKVGhi3ypMDGn+dx0AwzY9SyJYV90b94jZ6B2PWjOCG0TsQ8MoEMRJhO5moj5WKvTRfkQy6RB1T2MuiPeUS8q5RdP4QZcDdvbPosKiJTpOLfM4EMSP9taqqShePE/JNpkV64XVXRF6M6hwMJgqXS9l466JFEWo6G6KVAV8Avp19Zpbr3A5UW/KdBU49VWjXW/3NP1iIOPWSAS6mhbp8QqMlJki0AtmoSXWCieDV5z4PmkYP8o8ZjNynScxNOsrxAn403LApLYepIJLeZOUZqTMMTBPoKqZCsRhfajk/f2Me/OO7b3hFwJOQ5u1FIGa7HnNljcQpTpmSHMtVpV1qMJWo2RXK8piirlFKsSllIvX0KzKLqMXxb5EM9cOsbkiZuxLLsh19D3rn1CfVT5dMM+5T+uwTXjpCF/vj8Rdm1HSkm02FW4LlLcmLiKGQ0yw73R7E9hq8WAr4YrE7F4eZHaW7RtWqKmK1SDc+jWpNeW1JWptMJWc0qZwrDM1ImZI0Cp5srWvKFuqeoEgeFoJtORLHtKKZLha1okxOogAD3QAFNAQyClxuwHpGJgDFQRMdiJnIJhZd/0MmQxPUwRodVCykY4lSKrJOYvSrJJ17gp+ToiVmikHAolQZVLcWLFrqMDThAEhdg6Ju44/rkg7q3Rycq95XJzhhhn+fl57Z0tdqZ7G3RoNRGd6+zbJFZGmmuyok8yERe8ovXkPe0ReyN80LwqLYWcu+QfGrxiKlSF/oqYlolweSf90/oy97OfcfHOJrjFpN2kHQBFBMwTSRjb0RIN4KNPxgttgQEpU6PY7Y2lUJdB9JfuApLYiXzzy1viJZanYrCSDc5Ij61gL2GIVrRaaqYaVT/i3RyMbq8N0smLCDKJ5ZByOrHiWmNJvOpoNv3y4QrhcEhqw1gVs44OxYeugXaYkhZiucvWmgjiKfzG2lbKBifbhe+1pRI96vb/UuXsFPsVSKx1WrbdXz9ZuiEOU5WVVz6TNQ6S9oy23pPBDBbKPLKZsRR5f1IixVIeOsS+VE+1YD9AuOQg4LoGTEGC+gpcJB87CtkZgSHWpHmSlibnToIvBoyJRhIhQMV6P/AlVkhQdOXj2zNyScGKVVfBgQLA9nxIKecDril3RQUQ82l0JHEPpKJ2xHbEMFDTcvqv8XIy/VYa1i63nWVCS3ZhKcWsAQcNK88L+A1tnL+iFQ2YoeJ1glUUzcjCBn9MDzAwG4vFOdIsPlqHQ0XkexmpA6ldzWVspRHhxTzvRksclipmOZIIFlQWNZeNM1SuW2zOEKGyNUhRKdJELeCuXxNYRsQO8SasET/iL4KmArZqR/S2QGSkyI4NOEH6Vv+Qk1Ks1v2gjlKSxgtkS4EFo0po/2YRkKJgw8Jqxd1snlG9CokeP1PEYNRHjKNaSfguhICtyTUmQshb8DPiRMJFYMtnbJ5qLwnlPKSlGfPNb+sUmnVt1gnBAUxlQurQwJfZdLNlrkobLYAcZ3KEioy4znmXC/Tem8wIIPpfyzQTG+ZGiKb6ff00qzW+Ue0tlPBOqYkI9lQqZASDDf8jqWNjGnTEYXn8CVsB5zQWKdFRqqrAnEFbwVGbRVSp6XgYgfgBSk41aE8rTI8KBCdos11zLzkY0X4KBTNBLx7e0uwD7eWbeZTnI1+JVBEpFDo+daeCq88EgesbrKCOUDLZqKqSxvRmN6R3ZDQCStKX+Mwp/KW0Y69Zl0ny1SipVKZqn1D10keEjTcn3A2QxMsLLxJYiw51jwhDZRW997JjLaKsl4rLbzaRhQQDgbd1xtbH8vE3EypN//OlDgdgNjxQrtBO1McTukHvprStEnD5mxK5MZGaLVSQtyXLIpjopLCM4SSz6/DXSGfyzN+UQz3V00o+BazOuHHHAl2wM856o9OLjo/7Kwe1yO6XkFZAYOshCIrVbra8dMhu6cDRPXGhxHb5g7IUckFsd2JKyChAdRPMKoPBgOFWiS7Zogr9FypoO0Mof//g1CAg7TgcyDc0UixldHUsfyR/pH2fmJ9GuTFffwQDXDZACx/7PASpk325AhJZaFcxLsnjWgrg4R6ltCmSnd4JDCKtwCCap9474QkzOKWJKOPFTLO4T/z82ypkQjklh9EW7jMRnZIalz66HYT/Y6YqoSrr6DhSiN0H1FMLv/vHwezVrKqubl7NrPwzQltOGWFZyxJ2I5RO+M7ksTMSvBPksjqmFBxOgHq2GVN3tBXRozZrg22eiFsDE62od7Kcn7TdD3cQYtSna0BzZx7FVzvZ/RSPKMQuNbNyEBSH9Cezw6Fhh8n7QIr7mo20iol3ayqbdnayl86ftPZvyUaqHoIhTNs9BPhBBoGkDrWfptzkwhmRoaGzfFPbkowkeLEkOBXLpwoP/mgyrefF5V/mlKz59opbeOsFVmpeQHYEOIptdGFz9gstCuewZoxbUWWtxCzPq5/ao9YdF0RvUJj79gOqJjpRsmXJ6zmmC4i3EPFOEdA9+dbJXCbtI+J1IhzOX8ZTlbQkCCw6tVSFGiUlzsHvTdV4T7qRVcOBCu70AIxwTuvHqInRHvcRVenBJBXDO7LNHVFu0zOCjFcHHXD4kJZIiOqPnoSyMX4XflnMn77nJE4UfUUh+TODNzjY+wn7hPhrqHy1l4oMJQYzM6DDqUyzAtvpa2V3Umc8alpC/jzsmMk+SnXopuRwZKDxkS6t0U80/3ez9m1yHkpFsaymBlXMxTBrNEbZnZP5fAbaU5Nf09HeeXISRG7BYhB7SRxwhKMD3hA9Ws/zJEXBF3lXuqg8k7RY0y+69tY3txdcscDWRPPSypt0hr17Zyeoy7vqf2Io4XY9JPbZeUuLVHKV3lNJz0rStrW5RjCNnRpuZ5KctuK3Rfe5U3R+/nHr4oxbK4kUUH67PG8DUENlTTsC+9IhnI975RlORexxImRe6l5a2wULOS/2i7k3tDX41PcyBo2SPhL2cZ/VhO4SnfzsEPInmFpH/Xo4VHODWJR5py2sP/ZmScPx8j9loVv5cCaWglBK9KL8ff9WZYh5Ue5XS22jzDjSPBJmFGx3caYX7Ze3N75M2xukwnX7bk/2ZHpAudmCeYit1UdTZ7rHh48rPKZse7VEN3YQZNUirTR9RueUdL8PekppPyzJxYdbtTTqsiaIGRo7dXSJYOnraeOmzg6WpxXbE2d+TPi3kljuiNlPGtCGxMJAqe6QTgg2KUZd5jkeTDrbvlUttqB6qIt7sRcKO8zuBulkquU7PqI238y+OotiOYgOX1qNCXpaDk1lx/qRWE7uOq7ME2W+vr0cWiq+cKciUJDH4pHRjMzMY9cb5z6ZO1qu4E0bFn0MGhAh4LVUnWkUpqo3hnbkvLCkdvCBd6pMc/AOGo5nJZ28zGgSG7h9mHWNplOZphPljUkkI9IvlfFVyDCO5ah/clWULEq7Q2JNsuG99uyZfPbynB/B4y0StPNgnhcXc6xnvfMNr3tgFyqC07lrPOswsrJVwxvFq5JC4a27vnDxvhI0jud/lWlyJcrOZYiFraGj+GvvZ3idFJvpWHsnUyesRxzq6kMc3/S+qOkQB4ZSqjrs7dxFJRLMEmxP7mnq3fJ9cHysuWHXv8ym7NN3lOmyKURKP0X8KAsSTGW20lIE6DNlBQsE7loM9WkVJeoodIL9kM7J35dhKbViJWuIZEC+c223BR+dcjl08I1Zgr/fEZJJazAl0Ok+h9NiXgtjWyems6bhWL7tFO9cDlcrPrOIqudskQyZwjnRlc3FIrm3AfDSXZKRawfTh+FImuG2FDKJI8YYdYN6zINX0LeYeI2lcrXVYTq2TqAWeN034kOF8DJlP79dR+VRgkJdX53bwCUeQVWmklNSuhnwMeIDWB8n2V5nZGOEzlUvefmrh0XlWGT8nLHjVk15O1/TNdwiRMtZEzUoKAYbh5WbCxqfk0BxbmF8SbLXUb8FZJIq8sAKpcyeRHqS4j6lJLfFmrcMWw9KqzDmQnUo4y3d7qxdnES6LjDDFmkAqVK1VObqtQkjjnfewlg6981QKekMSe2LpfgowNs9pkkxYVpMVyJ0vxCfUeLq09pOkYNjUeEnpg5cUfx3sLnJBYoUiXPX/+DUICTxK2uzdi+BA4iHh/9+i5iXWsbhkI6u4bd9wYUj9gYROoIEIjGZ8cOfVApF7cu0Clg0NZMl2abpbhRxYpTaY0Z4BQMRzXZ8GhGiSoXReQr+IsVH9FHgEfFLGKLJZlXT6eoChavsbpWocgla/5sULTnEV3Y2baXeCFmlketR9tGDKu0Oam7EJAKBLtUDlawU/E4ceM65OXpoGLgtp+l2MwDY/oXLC1JvhIZceI4bMSJFW0YXBFQz4sfGq15JvRdrvO4+jeYBh8b/W6AbtYIyV73zQuUTsSTOSTYTLqJDqGVqOb49DFPlKL17fWyLPuumd1z5J4SFNdtkxFnjWoSTBnudIBToSHP7lxdLZFX0tF74obupPAJ6C8inDiBwaLWXnj/V47+6gNak4J4c1IGcVoZ/6CkwIbWgWq8kXYYuNcG3K7RcvcTLCXqhWbhU5wEPyQEwh4zt+ctkmNQOmlm6boKy90VggwzzlshVwv3G6E0H389nLEHHTmoA1bLEwKKU21dHYqnn5sZyOuKEIVXZFCzTCq8jJpQWAehDgS8Apl5RCsiaemTG6GTwjYRSO4z5K/0d+Ml/oamSqGNLfhq7MzoMVgrVBvdA+NZiEhcdPk7E8owJGJXP4SDYr/E6j7ZpX6yPtrDdILOLGasVgzVk6ZMzWXQ6J+qE2RGdoQ4v9e7Nit151GuW9o1p6hkPOP2moIye+niB+pnDg1FJIBXBFFoLY1HM0yvLFHkrv3IDx9IF5BTQOgIBIzvqh5hZv4ey7uSOd03ygQiqms4MTKFmpDb9ZRF+FqtdcVehL1UaqxGp0+40NyE3rcL0dfgeE0WJUxtSea/o41KNjC71GQh6yxETZeiD7kbkF/nWqORLSoojJ7MR7jD1UnBqW2VuDgFee0tEfIPadiKjFEv1DLsBCbH8mQrRCLAc4vUtIrJvx/devhrEmkopuVlShtINS5XeCcRJI7MPRGFNfqqSVTXpF62WTx8qmqUFi6/RFjU/VVT8XIfNWQyaGNT5DIBQOaVk3PNk18AO0qaH3yFdkG1rhqr4d44JeymxyH8CQ8xGKed3G7xzQthczL0RYIQuJCWsYpkc/PQrUogFBmHbe4FJBKH/W0OCRGgwgNj7ojTWJ5Xswguzn6wRaOU4bK/OmPpGMJ5KCtRv6dk896yRoqpoGUxnNttho+jbwKIjRpRGvLQYlzBfSZkWCvjkTgsCdnJkJqN0Satg8xaCykl1nuvy3u7nYcTyhBwgwxeZJcvu4Lor5cO3RK6RBd1mOJAn+Vuk4CnYAxIjkk29iOF5ZMoK5SS10/Mi4Wn8VL9H0Cd27Z64iAvmNlWXLOUVChLDCoytET1HkJOu9f/pSL2RdzgxASFWi2PvHKdxZ2S5fh5mlFiPcz9rV7uRdQETpz+JfHbmNkL0uo0hzgM/RAxHVrREcz7KTSo0MGgc4ZJphkDtDYlDBSDnDeKgYUerI24KKe17ig9eRZxLUqNkwsk3tkpRet/Y85nCulDVh0nDgWa51BANZLBJig6qktI7Htiij1UcWvcplFgPgvMnR0PBIvVeVaqtliW2aOjLCyeyU3XnCEUUVuNJkg6pkE72S7BExxB7UiJ0M39WPzkyQ48QIZwCyejx/kjcaCdJen49vNLlQQao1ZTPlVAUJLQk3nhu5AjNgAl54FAslsbVFj/4rV2p18/tbFDObmcZsgckgvLctwS3bXqqY6/OZMuuaYwR1ie5CmoTA6AdS6JwgSqiNwahtPNp8KUK5f6zj7X+fm4fEX98iJlIlDEiqI2+VkQc7t4qyQ+xayxmycADvfDKP7FVHIPHuYpSSAlBDB9g3YOAbtLV8BD/gEJIQf0NI/bhAmCqtwEDrA0/CJPW9GJe+G8TZBdZ0iABRd+JmNKKXFngiDJHTGeN/SEgLiV8f/JMD6Wzdwd7ThILPtm/dBIPyqYbUJ8toQBLEwl6olIvY4zgrIvE8QmUP8o50l15omeDTEOgHma8FsEDcZVjev9tYlX7uRFnWAOMNdfrOEyEjZwi77xgesVCgC/pHG1fmUU+67nlcmdyuSs3RzM3DwwWD2VPrJKjS4T6idCLTm3M725xAk3UFLmnwcJdgp/H/+DUICjVMFhkXbBj+GAwV9RRBEnLmJfi5XDjsA8A5Xuzg1QKDWGwNitGvFpCyKjR32xqZo4iaMywjv+6mMkNqxvNlyJL/CN6WtGk5NIjzD9Qjmn76sPLNpyuZlv33xclngiFC24CZ/6/VukFDFIdcWBRbXsqXZjJwvrX5n+7FCT1ZjoKJ/Qes/Jw/uK1xMFr4ch1LPIRSllToqqMCrBjrnm1nr6gE78AlkPOm95TEt9BcILMVPyJzE1Knq5tJGQSB/t0IdcDuihun4DQRSZJMqVejyVU1Pc9Fsfzrarb4o0h0wsVFXX/2cQ2wKf+aFwGRt/ORikxXFlvv6p6ZMTCPqbBAGvQyM5KwCuKLELS+rRG3zMBNF2E0e7VsosctrG1qVf+n8f5iBLHXjsClyCrnlmBIYupQlIETYHDZF0yqRNZpyYvwsjC6sUaH/Ta18ovIyCiri9cIWaH3Ql2CS9HxzVdzXGx3ogxJCTH1S2A2vwEU+/vmtwQ7ct1rX5lpEjs7bTfyA6Rhk4ZQHcRwN6ZECRZ/Dd/0WTAVQVIH8cpmkiLgrSNRgl88J0s9ml3xcHo85ZjH1yli1Qg1GZ7KC0Hwj0poEauaqKYyFLLg1q41s4Y+NsqkWULn3QscWIC7EooCmOT4C3UtCHDALxFYbsD6ZJ+HKfLpmHEXXMQ5nDNR5MtZfktIUiXbM10t4eLAZD39W5iC/FNbAZXLPI5oG2IZ1F7iZhFK8Zlp6oKVKMTfr8NJ3zl1iZkSohjiOvjHrS3g0qw8WFROibj1EtKbdS/S1/pVnguODGWtUNOx71zTyKQWSs5y+CJJVNRCCKKHO30WbuCAU5sEe5niHYzyZYk1ecwgr8EckRmPwGitZLpLvetl8d0PLrV9ulSBZ6ZjXoQxPFug9th5l6E/rK3JVzndIxYFFsAmK3ttoyTthNyfA8j2Wae3RAJLsjXdpfNwYwviItDPSh/i1YWx5VhPJl4otCEGNdx7066EI07179PMZLzPIrnyRWAqXO5DGXjGRZ+UiLSxlmKksHutahBIx7DdXZql/g3B8O5BbNMdZUzMZLo3yaUtHiqQLIzRPCM2Ty+YgX5Sc1GQEc4kHaFfnlCWuvJehiqZMYbEVpxvPcmrnCcp06YRRNk9D2j6VrNd+GsTYEIhef4LYn1dhRNKxWBLlosBpcfEbqxEhVERsMle8KMfDL4lx5gqycer9u2IQBWmpfPfWjWrLVTpeuF0oplqghPNk13xOpOIu4i4eCcrak2uPTqJ2lulqVS0v5smZU6W5zEMPIQNqR6xhqOuXmrDnxNdZrJfPXUg/XwRS39EWUKB4HORWDI0kSXz35yXRM/UmJHZyVXAhyNn5hJdFCm2kiY9DVz/qNjpUiUcmku7rw42152r2j6qHPpCQnA83jxehFf9C8Hqt4GAV6QtKAjIF2RwrXjH/eqQ1kpK4MElU+/Zm4Y5CSt+QGEsfbLmXdt3komyXglM7jKxw2D2N9as4UsikYSsvDMOyS8ZWKZJqipOCIZqOTCy/VY7LBi0ogSLLkst3CZyoIhQObY5lGTe2iRJ65KOT+rCYzD/o44P9fdvjf1fUyWjrDop/yNYaGMlG2ZSRriOaC8Lmoj+mx+6r43j24E448vCKfd6HkqihpuRps1SWUEsZxn9iHMWm9IappCkuYI/9NUY3Txphc4BFKRBo67xEIo5RK4sEQEi0GwS0wRpnH2rRdL+Kqq9bem3EPGMXeDQEW0YuLqW9+YkA1c5Q9fhGt1DYFlLRJcIObT8ZfqReQcfCU7PiFipubZ3nJhO/OBH3//4NQgLMk7xr+cS5HjfwuDJ5pfsQeml5il4oi5+b2QZjVxoBEx96AEg+gTCIlIZpxkvLNqTVal1RoctESc48kCc8zOquCuqTzrQKEVAjVfiHnIo1R5Wb52CFjqSDUBKQVwPqYqPf7BSKDWgOpvXWKZOWOuLN4MufUPvgBXfi5OOHyAsm91+aMrgtkpePEhmoiKyWDI+E8ztGMdrvBWVncOyV7ys5pcMSIpAydFCvtGsblz4kc/PEXB458cY7eqsXg24HyD/i4gnch2lpTTruUEp/m9ygTMic1Hoaw7FLZvQgk1Pc/1WaTr/SYPiIPUvH7GyWczevuK+3uLalGJ1rVcwKl+Jszm6rSocldMhP2tHXkLJ0w+XZA4+8auhvPUAwxZzDg2wbILQdEG1sxUMMjJuQEwlFJEUzEkU96I8UsRccecoK19NXL3+Vr1A2p/gndO/rsVXC4vJ8JU/oBDlnX5HcikRUukXYMPmitwRoYioqhGhOM6FEHtZSunQWaIlQ3lWV+4LRCgAsAa49QbsE2hQPCWhYjHiL9Nfle5eFgyCC3wacocTmI8CsUd5cNZYU/XJkQp2Yu8/yi+VtwkOzlCx44EgMD+BQ5EFJkpNFceQhPfxE4VPmXuEwQE1StdTdwllb61iyWxSxKjIagnFhQESDaN/DQANzcKz5xoV0UrBREpqlf7E74c3HQ5oK7zzgziWIHKw/o+kl9yOwo4d1DNV9qbGqwts+0vc9qyy//a8oVhAwx16kVYazz9sg7g1BbUeIPmx2yUWU+9rXrEovSpY9lCYwoo4CfHdCeGagLzd9+xvwtfykx9SUkzypfaCk/8U4P5E7D/0EUaXDIYqNSgItC8sJWrBZMv5q5GA7T1VzQGkz92BiIlXImUO+f/pT8bxjriENJE9NhrjZaAIyuFP6ElgIxv1CBVKg28WmbEBXHCC7MlAh1QEj3eh7Avfn0g7yVPEvmSmnM6FsnqMxkUVXEXvlqmN/2NYUXgt8olYusch9gK+9Cas1w8u6CvPU9AxOw8JgsoB4BR2L/F6mU95lLAruu1NV0aIv+E6TaioNRy5C0D7gL2jmWQqdcrhClwlyI9LKNIuQTIOmohKkEtHL3qQcCK74amUfx4umiUHGYEusObGILWGZ+82l7zIMO4CjbaMATRchTehVbXykibuKZqMswvV20Wa3BVkurqsaQTG6j2I/dNXSJWwwjgHWF5mUbmIjNyODZoahd43+//g4N3F5RYVdqZpo1Ievm76U5vxHMv48k65Q6xm1ho+2Gq6UXLxN9MyR/+aXJZQpGWm5ayqktXGdLDSgoSepIqjwCTjJlDsMwg4Mof9uBdFCMvzpF6NAX86TgRvgJbla6kYb3uRlOYouvJ92T6hUQYQBhbWEhiv3ksBt81/cIeN61kVfJFhmfsn7V97T9aSYlg3nAneFSHw0ZCTCr3ssQshBe6ADqLJosVM2BWSTbx3r6y9aYHGElphQiahfe/BDhVBC1WFOqJTU5Ee9d42Pz/KPicszuTUjO4Eh43O4Yz0aCYaxMeO9zRpOTHVxbZLaKzaazIrUaec34Svd62hri04a2TAFf5aGPItoZb3gERcuxZ3yDHbs0/IguaIqxORqt2mfkoIFKOPCoUecpQdiowzvfkrcfMd/og9inMLk0ojgRHvNCaZGSXvc/mg5FjE+JdjbTTp1MqxfjqT59G3ytVw5wVlM6zP3Ipoiwiss8rBa37c4hRAT7NBIW35LeZfq3BTqg8ywtSteuglRDoJeU4fpVxwuz+PLT0kVH6sFN0QdciLCgaA9xYaw7wGC7EXjQzIeximXtSb3jLTy2bvbGp9ysuqCY8lmQ1PQyn5EMO3fjnDF7UpzX1EKJ6ltf0hEqQFfhIhIM7uxTE5WbkbRL2yP8aJgKQ9YmwqQGH+pdeqvm32/d9V9/bnNx0dTiFhd8Hr9CUToiz1H9/uv6JlTwIfywKXqGMxFNGRF48+lJfShCcEwdxW+2yYStp7kui1x8UsEpeBXiZqOTEkP5kO2lHW1+vfyICEeEp6SExj6G6fYvwm96dcRnzRggiNHL+k3/AyxWuf+wW+mWMGGr/gFpsNov93OFF8TFaESh4idOguMHSv0T9uejJEuKW4xiXKSeo3YwWNZ7pmzQxXlkA9Iv/4NQgMJ04edSJDJSUltyT3JK4jDyJ85ib4seRPK9EAvr24Ypc+1QEz5pNoyz2CvuNI2ck3db474T9ZAnYyucVh4EkbzCfSP3qRQSZb84VHWO9tXwouOHOHjgttH8M4VW7lbgInQ/hKb3DkH5UjxkDDSM7CjyoGBZnzNixgnKiqq8ZuCtmWqMdtIExElI0RiiKSI4qsvNqGmJPcAtKD9Jb49wd5vZd2UAq3JoC33TesW7sX+cCJiUepOhs8FcwAzd0+TPd2hGOf0xykurP8MnH41jkFzZg8mM46RV97q66CoHqq3qqiK3MyYdX6ZHWLe2lECnHGRhhdWUbqumuQjrH7N+p4iuEQ+NN7OaBLyNW2Eqg/2b7fWe6q93Au/IQ4dsVz7PZdCo7rOODD1qKdnvK2Lx5vtbIrnxh/RwqTrGdVyc7KMK1ZL1Fq2pJFSwr4inlPMAh1sUk39AzHsKrpfi1WiaLSGnVWi7Or5yjNEiq5Y/8c0LIR2OYKIVodAeuK9JXaLEaBkpxyjzqMEgikdpcwqd6ckEG+ds8yL5Ubu9WMmvNLyn69SS/dJZP8K4cZlEdXqWZItyyngsXnXICpJDdhqnYMMllo2N8xhEk8wt8vLHs14ns6qVrBbMfSd7C2oXDGeFVk45ZkYviC8Wwxtdv0VfnjjSFFlS23TreKjUdHLOCplpxeGrx2h6DrH+eV2jq/PpgtBErR8gw54vlMl03DL+PYIhWAK2FeYRhLXntTDPPrdMlfMY6nK86TeVuGXz9jNvtfZX7vLHG/aqzQ0FYJhWTmOa+QwnQbjRV5uk4i87VsD8uXJEjSA85aJh5ULB6YjRhqIBFS73O89LC1SRWj31/N2o0YU+2Oitvz/fIjMkAeiWiiSzPLclakDWZBUYJAu1LJIWryNbClYib30ajtI2GJ6TI18ha/q85GU3QI6+QvkD/BsCrJqCKygmDpWLyms83hSTOh7TBzqmTvKb+2LcTm0DMnnQT7ZXA3dFCrVFL9uLyF+ke2XEDCNuKDhyiEycS/xuvO4NkekRDs2T3LRzwzWpDqTtu3NQ7/Pkb4RATdWscrTSFErtIOl2/HkEXTZyaE3kTMyOmHmeAFp7NoMLkyQoQzSsxTHRVmI3H9JSfnClokjnuo/YjTUIoYXIiHdbwXPdDJ2omOuZRmYUpQn9FXHbhNXdlb8PAmC68idQT3EBUGUwr7hD5uvsVaPCWPxF4Tu8xJ5g13TZaSGVbjAUDzR1LeGaR3NHEZcE5JesEtoKFIlOKoNL8PcOgdyirVvHHUH6rGDawpkk4x31bu2FiECcXeSsGTk2s1NpceJp6ZzF+NY5L1BBbAoq/KixUq1ut2qmg1pOzvsy5ytZGtC9VLHHqyetQ6aUIdt51wPLVtiIm3ePOYaSSsgr3FybG3rkyNzJzgEfOFCnL9CU62XGiqMoz4u6MGO1lNCVCqwiwkQtN5KnfzseALewdCaUxhXda3765X5jS7XWQKq5pKj0mHsiTc3nRDeYuQVBHcN+T0mHPkY44j6NZK+bk4LWE0EtP18rrRRmPFcSnjeAvfLzo2FSLf+LWXKdJg+Q0yXmCTjMLH640nEEI9Za8UunaaI+SQ1y3FmLV4u50Uav9GbwOj4jUiBiFCFN79Vg3WcaN6PaPxYdr2gi52AMYh7JnC7W8/sU/J/+de0+8ww2za5Nei1FMvXnhGhep2NLP3awwKtUEa9iTZVVEC2ohsQCnD+bllM9JVuP+cCYhlSsi7BTKmd3Ziq5FTj5FFccuM+O+gKm0ICI0uW8DUV9IfFGm0cyRgJAIPYbPZ+POysCHyaZA1Mt7cq8Vg+PF5LbynXqivVDwQiXUCBsycN4W/sm03ZeKtpFMXflXzWovVwe9blXOS4V2swmf+T9ywxKBYgq2mlNFVrgXlrv6B7y+EthywFrs06ksGRXTEj9CCJAo0+YhJL/F3gE8+wQOZOFtfmV7u2rFAiUFakRr2BN8aOYGDtLC9juVYiCCA24RBsaBJbDWeEqAt3AuuVkI0J8uQsJK7SSaLUdvsluYsImg8s44xbJXZ2z1yI0IUfs9AzlTaaCjVXz5Lp7a2J8ffytq6trQJERBjqmpoSPudZh1A//g1CA0gTBSREEIKsQXSAyoDVwPm5iUhvRI4a/QASt8TYIiBkdYDkDqRz6Rso4lb+M4ntJK59heXhivt0xk6t/+oWWS3E4RsWGdOWMpBVFQdS6mSfHzAJMEGzcKSdO2GspmPGo0iXSWWOHYr6Qh/fPQ4RCSXEA6Mm5SZXOWycicSY6rizgyw0uRkvk0NtkzpOeYtK6mhjSAswv0LFLxSuHkT8KAbSLHa6HoAT0RqjI9REgTXcfAzuSaTMQpHNl5WC1tt5Ej09MeaFLhKVy63D7IIbu1Ya17k+vCdhEo8yFYSRrcH2zS6WN2YlOXl7l+Apu5l4OLjS984H1YYllyxD568XUozGPUcD7O3XWQHriaGi3fVfB6iP8G1acWn13iFWn0GHPmSiqulSIKoGFlxTcaD6gmTZqlGiI7ldtLB3sEWlUzKo4UTAyYZ1re4dThfcTVU0OLtLIsHmjPE8/mR0lXwM+VFsturdg+atkLOnxHBDt4X0nrN+Qa4Zvy0Rl7XMVTXtwL3qTaLswhNCFmG7zdfr5Sz3U5f3RAx7Rr+j9dSMUehfTP9MsJvnk6ecovr7YbUhvmNxfsREJbPvG6JygL9s3NdY2xRdA4m0MOTfZGprevdV0P6ob+x2xEAXH+3MGKkDUH0tttZ0K18c89q2TyoSR2JPsTrA3jXrO3Hi7XN6gsbfuboNzh9hVMaSsHxnAfOIDeHMyDX8KO/nKFKzREp6tToaaZLZXEyFAI7ICph46xvAeI2wyKMfwPLo1XC+mKc04uSlbfKmSMLBONPRVK13F1MPqRBwngQpfnLgZW9M1QEXidx1CAPHVBqYW6MAXHN1EQYU14DArXJkZHW2VpjJt6Ejzq0VL3IWrPxUQRrfsFVZ+d5v9xz5LZ5l8SViUjaKPtAwFOsBzMh+S3GOgOQmxCeY9XBBbFRpXd3RK2ooMoRbZmCQUUlP7ArHvnMTu5KKHUciyFab3O0lrxZCc5fzVsy0BE1e0nZVxHzpNtLE/9ZFB3P7dj8rXqkWwk8MpQz9VXZJtywijIWg7Es/cjNFZenAFlMSY5k+wzjNOb2/xtjaTC6PG5WAfU6Ft/WEQcU3gJEovG45rTfG2ApHKzJV4N8XD0jPJVrg9BDjxAhIdJnTDssOjJRCXONeFIXPPAjyqzkZOWCb7pj7vcT/tYzHWWPaIU7QWFIXzFNP2nxxI4lhnRLn3q7jOCIaLGoml8qrlECNIiI1OoW/L8L0nbRhTQpVVPYtXaQFkSQQ8VJicEv0Ub+lFwXEgCMr+JbH9iHOBMjRjuEnqTQFLTKnVXgyshbGkEEwE4jqThDjl1BOXjggk58EwCJuSiSk0nWeVzTds/TK5G2NqZW7NKZJIpekWUixjdlLRKBZr3UU58NyySOpivy3oXXigeYvB6h/51hGvMYYIv6ccEQMLkh8Cb6o6VVOD9YY+KnJwgUGrlnwtqTBgZ37ykpojJqkKX3hEmovz5BN4RT1lK8l/5E4SGicQY+iVVUtla5EVEW5ZRllj1d8kfAM7d7tnlD6MHJHXG8uB/730l7LahYsiifbOwZKoie56sSdPtpEufydrm9Nl7SlBY78eywFvJWRLvp0YaaQtWbmfz0lbTGJZh/FSebKCNb43I5pp8AcazRTdKVxLcjmbaGoSyo7TZsmQ1PmCyVSu6s6mAnLly57XZKchtj5C7UKWZ00e7VXpI+VIipmEiWXuYetSQS5Saig5VVkOfzbuXxKF2INo2CWuXzTpyzH/JHiXNYJQ69ToMwQt0ZMz5NEhLorB62Lw0DWcnEHa6SEl5rTwS7F+oCHbWsk72GEU1tyewRqKRdHox3tRMe1uaR5Od+IoTgshp1zxOB9xCEBUHK35VM+tyC0rlTB9NXH9HTidvTvk6GyWgQ6Js2paoOTu0N7RVHHGMW9SU9cTc+2oNLIXR8Mrg0ZIM/Vlnm8aCYqClZVeytO6JMQLB2ygfHqzOi5DMpVWqZBkqpzkwjF61noJPY81svjxB2S2TANVsiI82Zkzgee0khQACxLv/4NQgOKUz8Mf4eAIkBsADb/yP+J+YksrkGUzejyMZeqsDcA3OA2NQ0ycPPQOFhGm7K3wYpG3qPI4INRRSrQqc/hTnBBAPKxeGAcXyFcYiJnKoWWWEpP6NhKK8aZG3voU/Gp52Jq0IESbFSo+k94p4pdH7K1S5UOEYFnWX6xY6EmkyHV3EEz0cJeo9f3z8+REMLtJwJtk23QtmBNn3yep6DW9zCM0Xy3AonCxa7aIL6P5DgguUF8QwTr5ReITMSn4p2PCQZSmeafsFah7L5GQ0lWv0vpoyDCDtShmkY0ylBE3alJBrd7RiUsrkkJvNrhdBNZKUYIVxrCQqCLLAwAewYRpTxblkwXvA+strkU4zdPGFKMfIvU6v/yUIdjnXq8RIkiwiy4y8zpdklwNYQBZbo0FUriCIkl6yEaCHr7HWJ4XbhC3P1YxZVYUYybQj2Pu09ur+5lZkCJaxOSlDGGd5Dkr3wfopvLYYz0ZEJ3yO/5FKfrvQsqP2bvcNBPs+xC2mVFwRjiN7w0EmZi/QxYXUQR+OsRXDih0vCiE1TQmI7jT5QSh0YwzMt0FntmVlGlCKd6odYPRvysNlgh2cer1LPWahmklrqOyiOGPkGC97DVURAp5gRKJjExUbsld2GMTC+gJ87Iq8kIKNwkKVyEg9EvYcR7kk3wIY/5M+b+Zt4W29YM4OCtI7ztHYSIWrCIK3TyZdLNxmi4FzW88iaD11RZpm7jyw06Z2vIt1aj5FDc0Ur1Z76yE7m/FakC1EkYyRLDiXLwQ9ksKDgxREIze3HS0bBJFct+HsZvTr05C0UXZNqfc0yZrts8vrU0SnIwIksSNbOnak37d8M1uLx1p3yKySQ0BXse0ZhMGpah/Cyye9bE7kMWu1Y8hi8vEbywSXLsfbE71zNvRJ5Wq5lIBG0J2tc2ywStxWJguHEayKYF+jYXHOdUppwIKPaFkVcjEhf8RH2bX9Zop3jPjIjk9volbNuC/SoiSiP70YVCqMiWgkPScSEEBpLIjZvGa/DXrhBFHEx6zduNIRL9nyN8leXuvJU1vDEFV5x7zaUUlWi/JPpolHpz+VG0GlgyTbmY4uoNTehheCdNoQeqYXLqftv8dUfWl7MP37DsU6fo9ex3HNNRNB0Z1XSE4w/GUD1LRUwUNBkDalGc2VTH0d2tb0YQnDsB0vEVn0JBUjxpXU1XPEwAB7oB8QjEFijNB/HtAFJyA5c+Uptz5E/bP8Ie1jWbrO0UttfRonlqwBHCrIqxeumUJgU4q/cHDa3v8lbyudPTx0RBxg/4CQA8BF4QH6vs0g1omPneIxYJgEoGTt3GP7t4WhvpL5+EvGijXSc9s6A2BvISmvl0b1xAMtGQxUm5FxNib61K2+6hiB5qDVYOKyMMeEU/F7nG4LsVS5SRbl4JOMtdbgMLLZENGSAVcBEQmYYSOv3PyJ+pbs1N2gbMCmJnCCzN4dStK6hhvY6Ha7DxcV2zNCRGVukjlGmlkh3a+Nppk/uGKc9GceUaQ1nXDyS0Wm3TCrOarNKUwNGbsiyz9ho6MoxjS8db5mQtmZIHfB2ga8eoGoiJcaNnP2R4/vA1BNuGQSK4cMVQti2uYUHGkzofXPG7q8NsdAkPtXK7ORfWyvb/NI5nEjpZSDOTUK8jIpw+ml7ypQwJ0umvJJREMsp7XNEQvl9gr4pFqcBVuxoyc4IEBB4gQQNuHagnPdeqLEeceCqEh5Lg97ZXvg3EIueMTy0wCqST3yCkyFBVJHNTc5GBRrrz5W+14L3VWyHPwly77odLJCGDNO7NLuqJilBSFgyhbRlxKjxsDXGyiUMHSYIVRcgrQKvQr4bhgOcAjLLBYAG+iAyqlWgwQlshfRyBCiEgQoFO86GtPriI1ENrLKaPIG7i2y3avdkp2FDkSofdGq7Gz985JysK+L9WSBfZP/4NQgPLk7bmuC46zXxffHC7ljsK/Ga5ik1pDp9k2NJenysg7k+XgE/9u2cEhIyoNZdCq4Vuzv5uuSER656qDtf9FpGLAaQ946YycA/PcM4GGFAosSmisrIlScP4Dj7YT0L7HtDjUHS2WTlAgFdQb6GATpxNAF5qHXKJ3itRniWInDtWamkIq+ZcZVuHZD1yJD6CLEOmCFXymgOISJrrS+hxRiAcj7onVMLlo9EMAZZ4wlBiYCbaG2OInfd5ftausy1aRJpuJZDjjnxODKZpGCxfbr6yNdnCAMBiar1NufZW6dAaI/+IIIaMdph72RbYcrrfZ1WVERIYlms9SMmnMNHWpWGyoutjWmO13drQ0Cswc0b8IyAsyvUCgxs1tVD3wQ5q1sljsS8edLZ+MpYT0WbXLeAVDRzW23wEIvnhdwkxSrSnxi53OmTqVqyNDGBMA/umn2eJXBqNeaLBymiZPEbmfIhFCq2sja0i65VSRtR5w+768bWzpQy/OSIABwhk5BS9x3pVR479hG1bjCfV4ahyevIpwkzuTmRZw+nGX5pBViK9MslkWJqK2HNggWpjTUjN7rHzG7df1KBqf7KP+F29U0pcyLkXT93gTnFsI64RIVotVIUBCJzG9+tsra4JCnyp0PAwR83PiBAInxGEE/QD2ReOhoI9ovyw82g0JmAs1dSpRcrTVF2g4lOWlCKqdEyyfupoqzcNWenn2mNM+LnrxehCh+cBT2oDSclP8QEz3EieMrtUQAvBDTTUC1gl0ueqB+TN/PRmY5S/oBQBYDuKDErvt3hsoVVHIuf8csFSFfKfk3Hl1CJ8xjULj4ne+QvIUWTRvlicDXxbZa6tS5aCWvuInAgQ4fA0KC6GNz3a0XNb/8Kc9GnkjV83hJqjmraAS2i7XH2ydCt20NLdm2YnTtSrD9JXGzc4Fd6MJZ4xfF81VfaHEjVFXc7kDb6JX3ASHU3K1TYBQfbc5eHQyVrp3q3U6sdSoudBn+TKpW3CZJ1Tsm0ueT4uLk8Cxk0XBUmsbA3z/WJV0u+5EzswUSoXjrBQrML1sY5EE1KoOmh8X2sdhMfFfMcMDZiWAlzrlWFGyLfizUH7cKH44sXZuxsurqG6JbNvsvMLwdbPCplmJjjnPVjFClk+oruec3pjUivqW2rHF/chn6TJvclSsnPiKXtsi1Ci8cWY5QCBkf3oToVd/j7nbA/2hPFxcuC2Yt2dL3CvMxPF0hewK3iNeI/cQk+/G6nxFZCFVxG93kFG2fHBjPgWtlsNk+cGhCL+qwjcfVmF3W/tA2q/GiUe4LDIE8aX+wVvtyI6yk7QeL0RRTje2r6kkEj5ngICT4buXPIMoqKPeN9R+0RN6mnGJT1O/i70Ez4klMMiKDs7a874xKuJxR5pGMHNl2Wzl+lAK2zXOuKmLA8XpnlSLI1XIUFq65kvWrAkYkFcFbdX8AgI60xDXcbVXa+aa59rbuaee7cbketCRwwvGMir2Ce94RepvLbpDMw+Gmlk4jkqf0oHg0ErPtCab/kG7pjUamZ+9x5DWPlrDVciQgxN6l+uqz0naQjTOV2MtbLvEyJZndONbss6CLtZF1C5+Yy+i0JmZtcotLPzcBEaxW1LUF+KRM4uUEP8JaOEKF/p0c1d5kYnR6v74OiQQ3gjTVv1QztjS8ZOlNAFZJBl8iu2/bQ6gah82XUkzp4nbV7mVMf12/rilM4RYlo68tRV33qE3ZXGa8LHG1oBTqva8+XRDfClO2Uns3jtDuk0w3JF5Jg+u+vXrEixD6pzJTFtpJA8PG/VhPP4asoz1mDMeY3n+ZoQWlhD6BmR47HDg+gmvfmqRdOjG2JYb5VJQ1KnKKaT0vKW2Ob/oFjuEiiAfSIlaownEqZ3ngp5vmCIYVe39jvExQtRXo8ZbjJCYhIJkJY994MoDc7H1zxMCr6G/PdQwVF9eOtTsrdDDaeP22YHVXC0ZpcbrlU/crm9MmQ86eY2UwuBd1dLPRrK/KFiSuSdP+xdNVL9k++Fitj6o8U0bjeHYGhu2n5xUTehYpm3qAqmN7G2B1iwpSfEGI4HHe3KQu9Mxi5kyIqGdosNCnaif7o6vDajVtntf/FNuT+THzLUAny5UhrLJ68Y5Lk+//4NQgQc0zuJ/HP9mn5YPsn/Jr/peYmhbIqY69rsXGNhSGZgJ/eNKqHcJMpdBBFXHTTwCKPrx2EMkt/h11ZJi91ovv0l9w6j8mORXLblCoMtnKEImDTKWN2Qleqq7HbdBhuX0IXNErwMRhXKSsoUMxNflX8vpwYgJ2JN8VfMi0V+Xfdksz9PHiEswmblHCHdVPuIsh0sHZOanh6mKZJGNEZghah1fs4qfTqtVjNJRtQ9Bk3Rp5vVzPBNNQXHdRdBVbsaF3IHzD9mBZGFmi+L/PWW9fJO/TjMoQlsmc17wTxDXeWJHNXWkvHfgSLcfrqcrgpGQii03Jg/sw9oOvG2KwIh72BjfIWKMI96PJtobRjuKfPBqEmWmGf7nVuXKJkarshJvZbgz1ajXci4bhXiDo89n9vU+X/viuyYHRCzBXl8BU93VE8heWUvvztbm7bT3rsQnR+SzXyvFW+Z7qbJ8P7n4mWc2m/Y1v9YtHxz/Xa6mfY/gj2KsaJcyTsy9/3+rpkFLbQE7oj6Um9JS/Y/ikZoIlSVEqNsEvtny3zRJhqy3WbozH9/7J/oqq0iCLHkLjB3yIIvaYNJ8MkpMWfq5gSYX/IR4pr11Z2hIuUMnRU8ejut1FNXnxbNqKlAnmvDJFTOIp35bSFmSVsrQUKzqmCTI7E3uQvkt6AQx5fREmOKkiGXrioNqRm7Fk6S432Q0cfZNZn9vduYTC80JVE18s8GsVFOfTYt/XTOAIU4UVgtF3NncKcEkHHqX6xowo9DdTYQ9jC28DCSL161bBqCaF8Xp+ZFWX98JD6E9TFG4LyA5JaCtGyLla0hLB+oOzTlxX3Iw9ZwSh7QRbpHQQ3D97YzHPRM1N1anOu0dJCzUMNkXw3umC7/fC0+cI8RSYAhG9OnJ9BtRWiMKFEDkoInIo8HZVsrLG7LAUMmVB3RyzsN6KL56wde6I1NgXWL0LHgCbhj9d4PL1YNJZZKEMDRecbZ0FAEu1y7GF1YKr6/usmZYTXdPeicOa/PI9LUAgJXCH5dfKVU7CapomFSivWcE2zA2MvVaiLYmaiXV9+Z1YCRhmyXGrCi5Z1WzVrXJzcyi9oyPkWJdmc/sTntF4gh/4lRsJQE+MzxbCe3Rkckk//QIRidrjuQFtSBYlpLvrayfNTzuiCb7gOz9kd8tB9m7V6r6waCxrwMpnlNHcNgr9Ihf3VW18mkuV2snfT6WTqbcvI6PuZmSbwWJQTLQcwWop8b4BVp1jO4lzPZNrTuHyCsS2oWiRKMuiVZYNlZ6LszthLPeiVyXEot3csBiKRvcIXKXPs/HYWtIZcV8fcelEQ4OM9I0eSMefoa4YdujnkFpDfEn5B8m3gtYQBDhGzNu9LRJATi83JYnlX94c/m2jH2c1/BQkG3JDUGoHlUPWUCgEyUDuW5UtpcCO72W0fPpdkGLDGg+I88dD0REWzkrzFSOAl0mbMu3suixqCCM0f8JPL6chCJjZT81PPWRIhei3uydw+jDUj8fGK4r8jebWrHjXyntDpbS61374XigaR1+TugBAtoe4jc0nBcuROcAkC8RdLn19U6y0VSSlbKRqsWZDzQQmwfU+MLdbD4gKeuEewdv/LvQbADuDU2ICohaAbHHs3r6IhEdLuilTOUg8Jndajn2XhGoWiPWJV8k4NtC334mvkfyawNArwRa6axs0apJSfkkypKSE9TRqkX094m1cBOExXhChIA5JHlgt0897tQp8Wng6KhyxBrURFanLYKBT2lfL2bibDLIAFOpcQUQKXkT4KWafEtDHDb0diKs65EcFDWllZOP83G/DB4Lcw71tqgXJD69LKdgcmVFL0UxtLGqzgIXkJbOB+DJaw2Du4RGl6GDEO3uzlUpeU3g/L/iimTk7cscJULyixmlr+nketUK26lyZCNoydmFV7pXBWqaUS+yq8rdHKTZ6iMggbnwtM19wdVc83n3LIKEUnMgh4pKjYNKgeBG2/MeSWwlagvRak8pKl8n9pLNFfBI84TDwqnWNqQeGqpg9lDsV+0ShpNtGVcXa67rYFYT5aONxUIxMpLb/odhTLiYPLIS1pmqSPO8KCYo5Ee6GW1Ke1/JtnItBQElxKoqV7N8LHTRAX+y60GnlpnR6DuQCMpv/4NQgRdEzgw+Nm6b3wUPa3+pz/GeYlIbxMNm/9oEHvAOC9w575PpKDTC3itBS2sO0f7hhDD2niJoXzVCzkXoqgTaROIuUhEytpsUZNYN+yTzMpqTA+0lspYHVjsRgE+N3QhyIYCNqULU3JZYc0xgoLNhZFcsq2CCUbzUdpXK7EPlPTf2aPoz1WQ4oV73JbMCUsmNgarLwXoUFi9aFbo7jSekQxS4BpRqlWa7Fto00bhBPTrpiNZkCGZfXdGHRCTxG7WJds/HTl5aKb/jTs359EsAu3rG4ZlWLrOJxzPMJX28trAICSdCE5JOJ5DGjcDf7CstGsQhxuV1NkkC9EGFmBNu8hRToyYNfF0XOofg9B2lbW227Fr1RInEiZ2I9vKtp536S2XQ5Wxk9B4Gb2WzNqcQ3AFGTacKGh0X7LVGAbRGAVwyAyAQ8HQ7ZFSfChw8QtUBcxdiq1kJkVlLwhtlH1jZd1pWEfHYaqMv/aOAzQWfnr+IydtXjWQRVCgjFMXKjLfErpl3Oruh+pigjCPiudTAKmaJ+N+gMDVhlK6bpiEE9a5kejYpi34xcpG+NcLU2raKu6YstlT8IoFyFDGkJDIGwJCsGip/BiZBV/f49h4Jr+QrxlcVs2Hmwhpxv0FnfH1Pj9ZwtZVxPSg2mv8ci/XPTIcXIYBPUU1FYIGsl2GqCDVblRKaLgyErnpRP/wd8X76GCPoPzaOE5ZaC0HXQT2i8hEl3yq3cdP/0kany0qPU5GKoc6x+nrSZLjF+SUtMEdMshy/9oqkz06mOrFKh6imEQn8imJfLP0LjUKSiGAv8OLGKAzItyn5HNRnYF5o+QvDA+eLlNjy5QoUXG6p3TepiI91M5p5ApUaE4LFAiNxNuEFXQtl1x6jztRip347EEN+S1+E95hPozSVlxp3kHLKhMGoDYJM7WmEw9RXxKyA8I2EwgXOTzOWhSKur+Em1j32lZ8lv6RiURbPs39aWIfAW1TeScJjdPmEsgkqtJW7qkfgQcvD3m2UxO1ChkcLMDPd+eV1126MbsamV7nJg8mnZBR4rXtvMsT0vg/zHCWNzF4pXvSzs+b93mDIghwnLk1K+u6+VdTqYll8rTyWgE8gn6z81IX6tslLCkLgDBRaxP9lPP2xn1zt26xXQg5KCzGRRWE0dCCXeFCajjlMyLMdOtdSaEIuMUt9iJy6vKQwVJGj0QJYfm0DR5Hs9AihExXF5W1Q2kQ1JZs7uBJip+Vt+hYReuTIuk2UL9brMcqJLNpBXBAfKiQyz/7aIYXyX3pyVhqdAq7rlWIlJPljhk78aGaZnUSRuIYKNZzoYMelPDXbwI5DieMk4WzbEIX2oTpiCV5SfUzle0lXJt4wPW5h0ppWOvva2sLER2IB4UOEnCAIcWhIFHXYhUI0Xk4j+qPJkYLHqlIRtDEzF1HpgaJ3YhT15hxqZYerNpXdNhtieqruPbJIoyDYoKb+8kzgCxo3517i2v0rllxlkPkkUtOIgjJE6fpHkMEEoTKfZKLsEAvypU1h0dhybIf3KPgngXrhk9kvZil8DKgZtplGRKUCvQb+2x7FcSaD10/4UoUNMvbddOUhx3y/u0iSv//E0rrcEvT+RbC6R6O3RaPRbQBBloSASQ6CGojFXRhi34ouwgn8uSxbegR49S1gtNkeTj2yB20AV5AmkYy3K7k+WCRQhiAdnmJjue3XRhmz5XPhry+R7EANFziVO3jmjOX21x3xakbTw8+i/RwVkGLTRe0+MQX06JbLuBNlN3UbgjWkhaYx/80zpS9faCD2uzHXi1PEi9q4pbR6nXhhZN8nJfILjPR7rz1KeQrun93jWZ7QvJ2xXLUhSmSgwMlAGGsz4qiEyGu0/FDO5x0yK7wULwJMpflLPgrS0sHLyRi3lqhtu3C3UczU0RWaCtsf/4NQgSfU79Jf1g/bn+Rv6u/uT+0/7B5il1or5663FZX7zbo5X+bIjzxIdUvBiOQcpUaGLfKkwMaf53HQDDNj1LIlhX3Rv3iNnoHY9aM4IbROxDwygQxEmE7maiPlYq9NF+RDLpEHVPYy6I95RLyrlF0/hBlwN29s+iwqIlOk4t8zgQxI/21qqpKF48T8k2mRXrhdVdEXozqHAwmCpdL2XjrokURajobopUBXwC+nX1mluvcDlRb8p0FTj1VaNdb/c0/WIg49ZIBLqaFunxCoyUmSLQC2ahJdYKJ4NXnPg+aRg/yjxmM3KdJzE06yvECfjTcsCkth6kgkt5k5RmpMwxME+gqpkKxGF9qOT9/Yx7847tveEXAk5Dm7UUgZrsec2WNxClOmZIcy1WlXWowlajZFcrymKKuUUqxKWUi9fQrMouoxfFvkQz1w6xuSJm7EsuyHX0PeufUJ9VPl0wz7lP67BNeOkIX++PxF2bUdKSbTYVbguUtyYuIoZDTLDvdHsT2GrxYCvhisTsXh5kdpbtG1aoqYrVINz6Nak15bUlam0wlZzSpnCsMzUiZkjQKnmyta8oW6p6gSB4Wgm05Ese0opkuFrWiTE6iAAPdAAU0BDIKXG7AekYmAMVBEx2ImcgmFl3/QyZDE9TBGh1ULKRjiVIqsk5i9KsknXuCn5OiJWaKQcCiVBlUtxYsWuowNOEASF2Dom7jj+uSDurdHJyr3lcnOGGGf5+XntnS12pnsbdGg1EZ3r7NskVkaaa7KiTzIRF7yi9eQ97RF7I3zQvCothZy75B8avGIqVIX+ipiWiXB5J/3T+jL3s59x8c4muMWk3aQdAEUEzBNJGNvREg3go0/GC22BASlTo9jtjaVQl0H0l+4CktiJfPPLW+IllqdisJINzkiPrWAvYYhWtFpqphpVP+LdHIxurw3SyYsIMonlkHI6seJaY0m86mg2/fLhCuFwSGrDWBWzjg7Fh66BdpiSFmK5y9aaCOIp/MbaVsoGJ9uF77WlEj3q9v9S5ewU+xVIrHVatt1fP1m6IQ5TlZVXPpM1DpL2jLbek8EMFso8spmxFHl/UiLFUh46xL5UT7VgP0C45CDgugZMQYL6ClwkHzsK2RmBIdakeZKWJudOgi8GjIlGEiFAxXo/8CVWSFB05ePbM3JJwYpVV8GBAsD2fEgp5wOuKXdFBRDzaXQkcQ+konbEdsQwUNNy+q/xcjL9VhrWLredZUJLdmEpxawBBw0rzwv4DW2cv6IVDZih4nWCVRTNyMIGf0wPMDAbi8U50iw+WodDReR7GakDqV3NZWylEeHFPO9GSxyWKmY5kggWVBY1l40zVK5bbM4QobI1SFEp0kQt4K5fE1hGxA7xJqwRP+IvgqYCtmpH9LZAZKTIjg04QfpW/5CTUqzW/aCOUpLGC2RLgQWjSmj/ZhGQomDDwmrF3WyeUb0KiR4/U8Rg1EeMo1pJ+C6EgK3JNSZCyFvwM+JEwkVgy2dsnmovCeU8pKUZ881v6xSadW3WCcEBTGVC6tDAl9l0s2WuShstgBxncoSKjLjOeZcL9N6bzAgg+l/LNBMb5kaIpvp9/TSrNb5R7S2U8E6piQj2VCpkBIMN/yOpY2MadMRhefwJWwHnNBYp0VGqqsCcQVvBUZtFVKnpeBiB+AFKTjVoTytMjwoEJ2izXXMvORjRfgoFM0EvHt7S7APt5Zt5lOcjX4lUESkUOj51p4KrzwSB6xusoI5QMtmoqpLG9GY3pHdkNAJK0pf4zCn8pbRjr1mXSfLVKKlUpmqfUPXSR4SNNyfcDZDEywsvEliLDnWPCENlFb33smMtoqyXistvNpGFBAOBt3XG1sfy8TcTKk3/86UOB2A2PFCu0E7UxxO6Qe+mtK0ScPmbErkxkZotVJC3JcsimOiksIzhJLPr8NdIZ/LM35RDPdXTSj4FrM64cccCXbAzznqj04uOj/srB7XI7peQVkBg6yEIitVutrx0yG7pwNE9caHEdvmDshRyQWx3YkrIKEB1E8wqg8GA4VaJLtmiCv0XKmg7QzrT/+DUIE3pOBzINzRSLGV0dSx/JH+kfZ+Yn0a5MV9/BANcNkALH/s8BKmTfbkCElloVzEuyeNaCuDhHqW0KZKd3gkMIq3AIJqn3jvhCTM4pYko48VMs7hP/PzbKmRCOSWH0RbuMxGdkhqXProdhP9jpiqhKuvoOFKI3QfUUwu/+8fB7NWsqq5uXs2s/DNCW04ZYVnLEnYjlE74zuSxMxK8E+SyOqYUHE6AerYZU3e0FdGjNmuDbZ6IWwMTrah3spyftN0PdxBi1KdrQHNnHsVXO9n9FI8oxC41s3IQFIf0J7PDoWGHyftAivuajbSKiXdrKpt2drKXzp+09m/JRqoegiFM2z0E+EEGgaQOtZ+m3OTCGZGhobN8U9uSjCR4sSQ4FcunCg/+aDKt58XlX+aUrPn2ilt46wVWal5AdgQ4im10YXP2Cy0K57BmjFtRZa3ELM+rn9qj1h0XRG9QmPv2A6omOlGyZcnrOaYLiLcQ8U4R0D351slcJu0j4nUiHM5fxlOVtCQILDq1VIUaJSXOwe9N1XhPupFVw4EK7vQAjHBO68eoidEe9xFV6cEkFcM7ss0dUW7TM4KMVwcdcPiQlkiI6o+ehLIxfhd+WcyfvuckThR9RSH5M4M3ONj7CfuE+GuofLWXigwlBjMzoMOpTLMC2+lrZXdSZzxqWkL+POyYyT5Kdeim5HBkoPGRLq3RTzT/d7P2bXIeSkWxrKYGVczFMGs0Rtmdk/l8BtpTk1/T0d55chJEbsFiEHtJHHCEowPeED1az/MkRcEXeVe6qDyTtFjTL7r21je3F1yxwNZE89LKm3SGvXtnJ6jLu+p/Yijhdj0k9tl5S4tUcpXeU0nPStK2tblGMI2dGm5nkpy24rdF97lTdH7+cevijFsriRRQfrs8bwNQQ2VNOwL70iGcj3vlGU5F7HEiZF7qXlrbBQs5L/aLuTe0NfjU9zIGjZI+EvZxn9WE7hKd/OwQ8ieYWkf9ejhUc4NYlHmnLaw/9mZJw/HyP2WhW/lwJpaCUEr0ovx9/1ZliHlR7ldLbaPMONI8EmYUbHdxphftl7c3vkzbG6TCdftuT/ZkekC52YJ5iK3VR1NnuseHjys8pmx7tUQ3dhBk1SKtNH1G55R0vw96Smk/LMnFh1u1NOqyJogZGjt1dIlg6etp46bODpanFdsTZ35M+LeSWO6I2U8a0IbEwkCp7pBOCDYpRl3mOR5MOtu+VS22oHqoi3uxFwo7zO4G6WSq5Ts+ojbfzL46i2I5iA5fWo0JeloOTWXH+pFYTu46rswTZb6+vRxaKr5wpyJQkMfikdGMzMxj1xvnPpk7Wq7gTRsWfQwaECHgtVSdaRSmqjeGduS8sKR28IF3qkxz8A4ajmclnbzMaBIbuH2YdY2mU5mmE+WNSSQj0i+V8VXIMI7lqH9yVZQsSrtDYk2y4b327Jl89vKcH8HjLRK082CeFxdzrGe98w2ve2AXKoLTuWs86zCyslXDG8WrkkLhrbu+cPG+EjSO53+VaXIlys5liIWtoaP4a+9neJ0Um+lYeydTJ6xHHOrqQxzf9L6o6RAHhlKqOuzt3EUlEswSbE/uaerd8n1wfKy5Yde/zKbs03eU6bIpREo/RfwoCxJMZbbSUgToM2UFCwTuWgz1aRUl6ih0gv2Qzsnfl2EptWIla4hkQL5zbbcFH51yOXTwjVmCv98RkklrMCXQ6T6H02JeC2NbJ6azpuFYvu0U71wOVys+s4iq52yRDJnCOdGVzcUiubcB8NJdkpFrB9OH4Uia4bYUMokjxhh1g3rMg1fQt5h4jaVytdVhOrZOoBZ43TfiQ4XwMmU/v11H5VGCQl1fndvAJR5BVaaSU1K6GfAx4gNYHyfZXmdkY4TOVS95+auHReVYZPycseNWTXk7X9M13CJEy1kTNSgoBhuHlZsLGp+TQHFuYXxJstdRvwVkkirywAqlzJ5EepLiPqUkt8WatwxbD0qrMOZCdSjjLd3urF2cRLouMMMWaQCpUrVU5uq1CSOOd97CWDr3zVAp6QxJ7Yul+CjA2z2mSTFhWkxXInS/EJ9R4urT2k6Rg2NR4SemDlxR/HewuckFihSKjkP/4NQgUb0ra7N2L4EDiIeH/36LmJdaxuGQjq7ht33BhSP2BhE6ggQiMZnxw59UCkXty7QKWDQ1kyXZpuluFHFilNpjRngFAxHNdnwaEaJKhdF5Cv4ixUf0UeAR8UsYoslmVdPp6gKFq+xulahyCVr/mxQtOcRXdjZtpd4IWaWR61H20YMq7Q5qbsQkAoEu1QOVrBT8Thx4zrk5emgYuC2n6XYzANj+hcsLUm+Ehlx4jhsxIkVbRhcEVDPix8arXkm9F2u87j6N5gGHxv9boBu1gjJXvfNC5ROxJM5JNhMuokOoZWo5vj0MU+UovXt9bIs+66Z3XPknhIU122TEWeNahJMGe50gFOhIc/uXF0tkVfS0Xvihu6k8AnoLyKcOIHBotZeeP9Xjv7qA1qTgnhzUgZxWhn/oKTAhtaBaryRdhi41wbcrtFy9xMsJeqFZuFTnAQ/JATCHjO35y2SY1A6aWbpugrL3RWCDDPOWyFXC/cboTQffz2csQcdOagDVssTAopTbV0diqefmxnI64oQhVdkULNMKryMmlBYB6EOBLwCmXlEKyJp6ZMboZPCNhFI7jPkr/R34yX+hqZKoY0t+GrszOgxWCtUG90D41mISFx0+TsTyjAkYlc/hINiv8TqPtmlfrI+2sN0gs4sZqxWDNWTpkzNZdDon6oTZEZ2hDi/17s2K3XnUa5b2jWnqGQ84/aagjJ76eIH6mcODUUkgFcEUWgtjUczTK8sUeSu/cgPH0gXkFNA6AgEjO+qHmFm/h7Lu5I53TfKBCKqazgxMoWakNv1lEX4Wq11xV6EvVRqrEanT7jQ3ITetwvR1+B4TRYlTG1J5r+jjUo2MLvUZCHrLERNl6IPuRuQX+dao5EtKiiMnsxHuMPVScGpbZW4OAV57S0R8g9p2IqMUS/UMuwEJsfyZCtEIsBzi9S0ism/H916+GsSaSim5WVKG0g1Lld4JxEkjsw9EYU1+qpJVNekXrZZPHyqapQWLr9EWNT9VVPxch81ZDJoY1PkMgFA5pWTc82TXwA7SpoffIV2QbWuGqvh3jgl7KbHIfwJDzEYp53cbvHNC2FzMvRFghC4kJaximRz89CtSiAUGYdt7gUkEof9bQ4JEaDCA2PuiNNYnlezCC7OfrBFo5Thsr86Y+kYwnkoK1G/p2Tz3rJGiqmgZTGc222Gj6NvAoiNGlEa8tBiXMF9JmRYK+OROCwJ2cmQmo3RJq2DzFoLKSXWe6/Le7udhxPKEHCDDF5kly+7guivlw7dErpEF3WY4kCf5W6TgKdgDEiOSTb2I4XlkygrlJLXT8yLhafxUv0fQJ3btnriIC+Y2VZcs5RUKEsMKjK0RPUeQk671/+lIvZF3ODEBIVaLY+8cp3FnZLl+HmaUWI9zP2tXu5F1AROnP4l8duY2QvS6jSHOAz9EDEdWtERzPspNKjQwaBzhkmmGQO0NiUMFIOcN4qBhR6sjbgop7XuKD15FnEtSo2TCyTe2SlF639jzmcK6UNWHScOBZrnUEA1ksEmKDqqS0jse2KKPVRxa9ymUWA+C8ydHQ8Ei9V5Vqq2WJbZo6MsLJ7JTdecIRRRW40mSDqmQTvZLsETHEHtSInQzf1Y/OTJDjxAhnALJ6PH+SNxoJ0l6fj280uVBBqjVlM+VUBQktCTeeG7kCM2ACXngUCyWxtUWP/itXanXz+1sUM5uZxmyBySC8ty3BLdteqpjr85ky65pjBHWJ7kKahMDoB1LonCBKqI3BqG082nwpQrl/rOPtf5+bh8Rf3yImUiUMSKojb5WRBzu3irJD7FrLGbJwAO98Mo/sVUcg8e5ilJICUEMH2Ddg4Bu0tXwEP+AQkhB/Q0j9uECYKq3AQOsDT8Ik9b0Yl74bxNkF1nSIAFF34mY0opcWeCIMkdMZ439ISAuJXx/8kwPpbN3B3tOEgs+2b90Eg/KphtQny2hAEsTCXqiUi9jjOCsi8TxCZQ/yjnSXXmiZ4NMQ6AeZrwWwQNxlWN6/21iVfu5EWdYA4w11+s4TISNnCLvvGB6xUKAL+kcbV+ZRT7rueVyZ3K5KzdHMzcPDBYPZU+skqNLhPqJ0ItObczvbnECTdQUuafBwl2Dy9//4NQgVaEwWGRdsGP4YDBX1FEEScuYl+LlcOOwDwDle7ODVAoNYbA2K0a8WkLIqNHfbGpmjiJozLCO/7qYyQ2rG82XIkv8I3pa0aTk0iPMP1COafvqw8s2nK5mW/ffFyWeCIULbgJn/r9W6QUMUh1xYFFteypdmMnC+tfmf7sUJPVmOgon9B6z8nD+4rXEwWvhyHUs8hFKWVOiqowKsGOuebWevqATvwCWQ86b3lMS30FwgsxU/InMTUqerm0kZBIH+3Qh1wO6KG6fgNBFJkkypV6PJVTU9z0Wx/OtqtvijSHTCxUVdf/ZxDbAp/5oXAZG385GKTFcWW+/qnpkxMI+psEAa9DIzkrAK4osQtL6tEbfMwE0XYTR7tWyixy2sbWpV/6fx/mIEsdeOwKXIKueWYEhi6lCUgRNgcNkXTKpE1mnJi/CyMLqxRof9NrXyi8jIKKuL1whZofdCXYJL0fHNV3NcbHeiDEkJMfVLYDa/ART7++a3BDty3WtfmWkSOzttN/IDpGGThlAdxHA3pkQJFn8N3/RZMBVBUgfxymaSIuCtI1GCXzwnSz2aXfFwejzlmMfXKWLVCDUZnsoLQfCPSmgRq5qopjIUsuDWrjWzhj42yqRZQufdCxxYgLsSigKY5PgLdS0IcMAvEVhuwPpkn4cp8umYcRdcxDmcM1Hky1l+S0hSJdszXS3h4sBkPf1bmIL8U1sBlcs8jmgbYhnUXuJmEUrxmWnqgpUoxN+vw0nfOXWJmRKiGOI6+MetLeDSrDxYVE6JuPUS0pt1L9LX+lWeC44MZa1Q07HvXNPIpBZKznL4IklU1EIIooc7fRZu4IBTmwR7meIdjPJliTV5zCCvwRyRGY/AaK1kuku962Xx3Q8utX26VIFnpmNehDE8W6D22HmXoT+srclXOd0jFgUWwCYre22jJO2E3J8DyPZZp7dEAkuyNd2l83BjC+Ii0M9KH+LVhbHlWE8mXii0IQY13HvTroQjTvXv08xkvM8iufJFYCpc7kMZeMZFn5SItLGWYqSwe61qEEjHsN1dmqX+DcHw7kFs0x1lTMxkujfJpS0eKpAsjNE8IzZPL5iBflJzUZARziQdoV+eUJa68l6GKpkxhsRWnG89yaucJynTphFE2T0PaPpWs134axNgQiF5/gtifV2FE0rFYEuWiwGlx8RurESFURGwyV7wox8MviXHmCrJx6v27YhAFaal899aNastVOl64XSimWqCE82TXfE6k4i7iLh4JytqTa49OonaW6WpVLS/myZlTpbnMQw8hA2pHrGGo65easOfE11msl89dSD9fBFLf0RZQoHgc5FYMjSRJfPfnJdEz9SYkdnJVcCHI2fmEl0UKbaSJj0NXP+o2OlSJRyaS7uvDjbXnavaPqoc+kJCcDzePF6EV/0Lweq3gYBXpC0oCMgXZHCteMf96pDWSkrgwSVT79mbhjkJK35AYSx9suZd23eSibJeCUzuMrHDYPY31qzhSyKRhKy8Mw7JLxlYpkmqKk4Ihmo5MLL9VjssGLSiBIsuSy3cJnKgiFA5tjmUZN7aJEnrko5P6sJjMP+jjg/192+N/V9TJaOsOin/I1hoYyUbZlJGuI5oLwuaiP6bH7qvjePbgTjjy8Ip93oeSqKGm5GmzVJZQSxnGf2Icxab0hqmkKS5gj/01RjdPGmFzgEUpEGjrvEQijlEriwRASLQbBLTBGmcfatF0v4qqr1t6bcQ8Yxd4NARbRi4upb35iQDVzlD1+Ea3UNgWUtElwg5tPxl+pF5Bx8JTs+IWKm5tnecmE784Hsm//g1CBZhTvGv5xLkeN/C4Mnml+xB6aXmKXiiLn5vZBmNXGgETH3oASD6BMIiUhmnGS8s2pNVqXVGhy0RJzjyQJzzM6q4K6pPOtAoRUCNV+IecijVHlZvnYIWOpINQEpBXA+pio9/sFIoNaA6m9dYpk5Y64s3gy59Q++AFd+Lk44fICyb3X5oyuC2Sl48SGaiIrJYMj4TzO0Yx2u8FZWdw7JXvKzmlwxIikDJ0UK+0axuXPiRz88RcHjnxxjt6qxeDbgfIP+LiCdyHaWlNOu5QSn+b3KBMyJzUehrDsUtm9CCTU9z/VZpOv9Jg+Ig9S8fsbJZzN6+4r7e4tqUYnWtVzAqX4mzObqtKhyV0yE/a0deQsnTD5dkDj7xq6G89QDDFnMODbBsgtB0QbWzFQwyMm5ATCUUkRTMSRT3ojxSxFxx5ygrX01cvf5WvUDan+Cd07+uxVcLi8nwlT+gEOWdfkdyKRFS6Rdgw+aK3BGhiKiqEaE4zoUQe1lK6dBZoiVDeVZX7gtEKACwBrj1BuwTaFA8JaFiMeIv01+V7l4WDIILfBpyhxOYjwKxR3lw1lhT9cmRCnZi7z/KL5W3CQ7OULHjgSAwP4FDkQUmSk0Vx5CE9/EThU+Ze4TBATVK11N3CWVvrWLJbFLEqMhqCcWFARINo38NAA3NwrPnGhXRSsFESmqV/sTvhzcdDmgrvPODOJYgcrD+j6SX3I7Cjh3UM1X2psarC2z7S9z2rLL/9ryhWEDDHXqRVhrPP2yDuDUFtR4g+bHbJRZT72tesSi9Klj2UJjCijgJ8d0J4ZqAvN337G/C1/KTH1JSTPKl9oKT/xTg/kTsP/QRRpcMhio1KAi0LywlasFky/mrkYDtPVXNAaTP3YGIiVciZQ75/+lPxvGOuIQ0kT02GuNloAjK4U/oSWAjG/UIFUqDbxaZsQFccILsyUCHVASPd6HsC9+fSDvJU8S+ZKaczoWyeozGRRVcRe+WqY3/Y1hReC3yiVi6xyH2Ar70JqzXDy7oK89T0DE7DwmCygHgFHYv8XqZT3mUsCu67U1XRoi/4TpNqKg1HLkLQPuAvaOZZCp1yuEKXCXIj0so0i5BMg6aiEqQS0cvepBwIrvhqZR/Hi6aJQcZgS6w5sYgtYZn7zaXvMgw7gKNtowBNFyFN6FVtfKSJu4pmoyzC9XbRZrcFWS6uqxpBMbqPYj901dIlbDCOAdYXmZRuYiM3I4NmhqF3jf7/+Dg3cXlFhV2pmmjUh6+bvpTm/Ecy/jyTrlDrGbWGj7YarpRcvE30zJH/5pcllCkZablrKqS1cZ0sNKChJ6kiqPAJOMmUOwzCDgyh/24F0UIy/OkXo0BfzpOBG+AluVrqRhve5GU5ii68n3ZPqFRBhAGFtYSGK/eSwG3zX9wh43rWRV8kWGZ+yftX3tP1pJiWDecCd4VIfDRkJMKveyxCyEF7oAOosmixUzYFZJNvHevrL1pgcYSWmFCJqF978EOFUELVYU6olNTkR713jY/P8o+JyzO5NSM7gSHjc7hjPRoJhrEx473NGk5MdXFtktorNprMitRp5zfhK93raGuLThrZMAV/loY8i2hlveARFy7FnfIMduzT8iC5oirE5Gq3aZ+SggUo48KhR5ylB2KjDO9+Stx8x3+iD2KcwuTSiOBEe80JpkZJe9z+aDkWMT4l2NtNOnUyrF+OpPn0bfK1XDnBWUzrM/cimiLCKyzysFrftziFEBPs0Ehbfkt5l+rcFOqDzLC1K166CVEOgl5Th+lXHC7P48tPSRUfqwU3RB1yIsKBoD3FhrDvAYLsReNDMh7GKZe1JveMtPLZu9san3Ky6oJjyWZDU9DKfkQw7d+OcMXtSnNfUQonqW1/SESpAV+EiEgzu7FMTlZuRtEvbI/xomApD1ibCpAYf6l16q+bfb931X39uc3HR1OIWF3wev0JROiLPUf3+6/omVPAh/LApeoYzEU0ZEXjz6Ul9KEJwTB3Fb7bJhK2nuS6LXHxSwSl4FeJmo5MSQ/mQ7aUdbX69/IgIR4SnpITGPobp9i/Cb3p1xGfNGCCI0cv6Tf8DLFa5/7Bb6ZYwYav+AWmw2i/3c4UXxMVoRKHiJ06C4wdK/RP256MkS4pbjGJcpJ6jdjBY1numbNDFeWQE0+//g1CBdmTh51IkMlJSW3JPckriMPInzmJvix5E8r0QC+vbhilz7VATPmk2jLPYK+40jZyTd1vjvhP1kCdjK5xWHgSRvMJ9I/epFBJlvzhUdY721fCi44c4eOC20fwzhVbuVuAidD+EpvcOQflSPGQMNIzsKPKgYFmfM2LGCcqKqrxm4K2Zaox20gTESUjRGKIpIjiqy82oaYk9wC0oP0lvj3B3m9l3ZQCrcmgLfdN6xbuxf5wImJR6k6GzwVzADN3T5M93aEY5/THKS6s/wycfjWOQXNmDyYzjpFX3urroKgeqreqqIrczJh1fpkdYt7aUQKccZGGF1ZRuq6a5COsfs36niK4RD403s5oEvI1bYSqD/Zvt9Z7qr3cC78hDh2xXPs9l0Kjus44MPWop2e8rYvHm+1siufGH9HCpOsZ1XJzsowrVkvUWrakkVLCviKeU8wCHWxSTf0DMewqul+LVaJotIadVaLs6vnKM0SKrlj/xzQshHY5gohWh0B64r0ldosRoGSnHKPOowSCKR2lzCp3pyQQb52zzIvlRu71Yya80vKfr1JL90lk/wrhxmUR1epZki3LKeCxedcgKkkN2GqdgwyWWjY3zGESTzC3y8sezXiezqpWsFsx9J3sLahcMZ4VWTjlmRi+ILxbDG12/RV+eONIUWVLbdOt4qNR0cs4KmWnF4avHaHoOsf55XaOr8+mC0EStHyDDni+UyXTcMv49giFYArYV5hGEtee1MM8+t0yV8xjqcrzpN5W4ZfP2M2+19lfu8scb9qrNDQVgmFZOY5r5DCdBuNFXm6TiLztWwPy5ckSNIDzlomHlQsHpiNGGogEVLvc7z0sLVJFaPfX83ajRhT7Y6K2/P98iMyQB6JaKJLM8tyVqQNZkFRgkC7UskhavI1sKViJvfRqO0jYYnpMjXyFr+rzkZTdAjr5C+QP8GwKsmoIrKCYOlYvKazzeFJM6HtMHOqZO8pv7YtxObQMyedBPtlcDd0UKtUUv24vIX6R7ZcQMI24oOHKITJxL/G687g2R6REOzZPctHPDNakOpO27c1Dv8+RvhEBN1axytNIUSu0g6Xb8eQRdNnJoTeRMzI6YeZ4AWns2gwuTJChDNKzFMdFWYjcf0lJ+cKWiSOe6j9iNNQihhciId1vBc90MnaiY65lGZhSlCf0VcduE1d2Vvw8CYLryJ1BPcQFQZTCvuEPm6+xVo8JY/EXhO7zEnmDXdNlpIZVuMBQPNHUt4ZpHc0cRlwTkl6wS2goUiU4qg0vw9w6B3KKtW8cdQfqsYNrCmSTjHfVu7YWIQJxd5KwZOTazU2lx4mnpnMX41jkvUEFsCir8qLFSrW63aqaDWk7O+zLnK1ka0L1UscerJ61DppQh23nXA8tW2Iibd485hpJKyCvcXJsbeuTI3MnOAR84UKcv0JTrZcaKoyjPi7owY7WU0JUKrCLCRC03kqd/Ox4At7B0JpTGFd1rfvrlfmNLtdZAqrmkqPSYeyJNzedEN5i5BUEdw35PSYc+RjjiPo1kr5uTgtYTQS0/XyutFGY8VxKeN4C98vOjYVIt/4tZcp0mD5DTJeYJOMwsfrjScQQj1lrxS6dpoj5JDXLcWYtXi7nRRq/0ZvA6PiNSIGIUIU3v1WDdZxo3o9o/Fh2vaCLnYAxiHsmcLtbz+xT8n/517T7zDDbNrk16LUUy9eeEaF6nY0s/drDAq1QRr2JNlVUQLaiGxAKcP5uWUz0lW4/5wJiGVKyLsFMqZ3dmKrkVOPkUVxy4z476AqbQgIjS5bwNRX0h8UabRzJGAkAg9hs9n487KwIfJpkDUy3tyrxWD48XktvKdeqK9UPBCJdQIGzJw3hb+ybTdl4q2kUxd+VfNai9XB71uVc5LhXazCZ/5P3LDEoFiCraaU0VWuBeWu/oHvL4S2HLAWuzTqSwZFdMSP0IIkCjT5iEkv8XeATz7BA5k4W1+ZXu7asUCJQVqRGvYE3xo5gYO0sL2O5ViIIIDbhEGxoElsNZ4SoC3cC65WQjQny5CwkrtJJotR2+yW5iwiaDyzjjFsldnbPXIjQhR+z0DOVNpoKNVfPkuntrYnx9/K2rq2tAkREGOqamhI+51m7iX/+DUIGEtMFJEQQgqxBdIDKgNXA+bmJSG9Ejhr9ABK3xNgiIGR1gOQOpHPpGyjiVv4zie0krn2F5eGK+3TGTq3/6hZZLcThGxYZ05YykFUVB1LqZJ8fMAkwQbNwpJ07YaymY8ajSJdJZY4divpCH989DhEJJcQDoyblJlc5bJyJxJjquLODLDS5GS+TQ22TOk55i0rqaGNICzC/QsUvFK4eRPwoBtIsdroegBPRGqMj1ESBNdx8DO5JpMxCkc2XlYLW23kSPT0x5oUuEpXLrcPsghu7VhrXuT68J2ESjzIVhJGtwfbNLpY3ZiU5eXuX4Cm7mXg4uNL3zgfVhiWXLEPnrxdSjMY9RwPs7ddZAeuJoaLd9V8HqI/wbVpxafXeIVafQYc+ZKKq6VIgqgYWXFNxoPqCZNmqUaIjuV20sHewRaVTMqjhRMDJhnWt7h1OF9xNVTQ4u0siweaM8Tz+ZHSVfAz5UWy26t2D5q2Qs6fEcEO3hfSes35Brhm/LRGXtcxVNe3AvepNouzCE0IWYbvN1+vlLPdTl/dEDHtGv6P11IxR6F9M/0ywm+eTp5yi+vthtSG+Y3F+xEQls+8bonKAv2zc11jbFF0DibQw5N9kamt691XQ/qhv7HbEQBcf7cwYqQNQfS221nQrXxzz2rZPKhJHYk+xOsDeNes7ceLtc3qCxt+5ug3OH2FUxpKwfGcB84gN4czINfwo7+coUrNESnq1OhppktlcTIUAjsgKmHjrG8B4jbDIox/A8ujVcL6YpzTi5KVt8qZIwsE409FUrXcXUw+pEHCeBCl+cuBlb0zVAReJ3HUIA8dUGphbowBcc3URBhTXgMCtcmRkdbZWmMm3oSPOrRUvchas/FRBGt+wVVn53m/3HPktnmXxJWJSNoo+0DAU6wHMyH5LcY6A5CbEJ5j1cEFsVGld3dEraigyhFtmYJBRSU/sCse+cxO7koodRyLIVpvc7SWvFkJzl/NWzLQETV7SdlXEfOk20sT/1kUHc/t2PyteqRbCTwylDP1Vdkm3LCKMhaDsSz9yM0Vl6cAWUxJjmT7DOM05vb/G2NpMLo8blYB9ToW39YRBxTeAkSi8bjmtN8bYCkcrMlXg3xcPSM8lWuD0EOPECEh0mdMOyw6MlEJc414Uhc88CPKrORk5YJvumPu9xP+1jMdZY9ohTtBYUhfMU0/afHEjiWGdEuferuM4IhosaiaXyquUQI0iIjU6hb8vwvSdtGFNClVU9i1dpAWRJBDxUmJwS/RRv6UXBcSAIyv4lsf2Ic4EyNGO4SepNAUtMqdVeDKyFsaQQTATiOpOEOOXUE5eOCCTnwTAIm5KJKTSdZ5XNN2z9MrkbY2plbs0pkkil6RZSLGN2UtEoFmvdRTnw3LJI6mK/LehdeKB5i8HqH/nWEa8xhgi/pxwRAwuSHwJvqjpVU4P1hj4qcnCBQauWfC2pMGBnfvKSmiMmqQpfeESai/PkE3hFPWUryX/kThIaJxBj6JVVS2VrkRURbllGWWPV3yR8Azt3u2eUPowckdcby4H/vfSXstqFiyKJ9s7BkqiJ7nqxJ0+2kS5/J2ub02XtKUFjvx7LAW8lZEu+nRhppC1ZuZ/PSVtMYlmH8VJ5soI1vjcjmmnwBxrNFN0pXEtyOZtoahLKjtNmyZDU+YLJVK7qzqYCcuXLntdkpyG2PkLtQpZnTR7tVekj5UiKmYSJZe5h61JBLlJqKDlVWQ5/Nu5fEoXYg2jYJa5fNOnLMf8keJc1glDr1OgzBC3RkzPk0SEuisHrYvDQNZycQdrpISXmtPBLsX6gIdtayTvYYRTW3J7BGopF0ejHe1Ex7W5pHk534ihOCyGnXPE4H3EIQFQcrflUz63ILSuVMH01cf0dOJ29O+TobJaBDomzalqg5O7Q3tFUccYxb1JT1xNz7ag0shdHwyuDRkgz9WWebxoJioKVlV7K07okxAsHbKB8erM6LkMylVapkGSqnOTCMXrWegk9jzWy+PEHZLZMA1WyIjzZmTOB57SSFAAAgQ//g1CBlMTPwx/h4AiQGwANv/I/4n5iSyuQZTN6PIxl6qwNwDc4DY1DTJw89A4WEabsrfBikbeo8jgg1FFKtCpz+FOcEEA8rF4YBxfIVxiImcqhZZYSk/o2Eorxpkbe+hT8annYmrQgRJsVKj6T3inil0fsrVLlQ4RgWdZfrFjoSaTIdXcQTPRwl6j1/fPz5EQwu0nAm2TbdC2YE2ffJ6noNb3MIzRfLcCicLFrtogvo/kOCC5QXxDBOvlF4hMxKfinY8JBlKZ5p+wVqHsvkZDSVa/S+mjIMIO1KGaRjTKUETdqUkGt3tGJSyuSQm82uF0E1kpRghXGsJCoIssDAB7BhGlPFuWTBe8D6y2uRTjN08YUox8i9Tq//JQh2OderxEiSLCLLjLzOl2SXA1hAFlujQVSuIIiSXrIRoIevsdYnhduELc/VjFlVhRjJtCPY+7T26v7mVmQIlrE5KUMYZ3kOSvfB+im8thjPRkQnfI7/kUp+u9Cyo/Zu9w0E+z7ELaZUXBGOI3vDQSZmL9DFhdRBH46xFcOKHS8KITVNCYjuNPlBKHRjDMy3QWe2ZWUaUIp3qh1g9G/Kw2WCHZx6vUs9ZqGaSWuo7KI4Y+QYL3sNVRECnmBEomMTFRuyV3YYxML6AnzsiryQgo3CQpXISD0S9hxHuSTfAhj/kz5v5m3hbb1gzg4K0jvO0dhIhasIgrdPJl0s3GaLgXNbzyJoPXVFmmbuPLDTpna8i3VqPkUNzRSvVnvrITub8VqQLUSRjJEsOJcvBD2SwoODFEQjN7cdLRsEkVy34exm9OvTkLRRdk2p9zTJmu2zy+tTRKcjAiSxI1s6dqTft3wzW4vHWnfIrJJDQFex7RmEwalqH8LLJ71sTuQxa7VjyGLy8RvLBJcux9sTvXM29EnlarmUgEbQna1zbLBK3FYmC4cRrIpgX6Nhcc51SmnAgo9oWRVyMSF/xEfZtf1mineM+MiOT2+iVs24L9KiJKI/vRhUKoyJaCQ9JxIQQGksiNm8Zr8NeuEEUcTHrN240hEv2fI3yV5e68lTW8MQVXnHvNpRSVaL8k+miUenP5UbQaWDJNuZji6g1N6GF4J02hB6phcup+2/x1R9aXsw/fsOxTp+j17Hcc01E0HRnVdITjD8ZQPUtFTBQ0GQNqUZzZVMfR3a1vRhCcOwHS8RWfQkFSPGldTVc8TAAHugHxCMQWKM0H8e0AUnIDlz5Sm3PkT9s/wh7WNZus7RS219GieWrAEcKsirF66ZQmBTir9wcNre/yVvK509PHREHGD/gJADwEXhAfq+zSDWiY+d4jFgmASgZO3cY/u3haG+kvn4S8aKNdJz2zoDYG8hKa+XRvXEAy0ZDFSbkXE2JvrUrb7qGIHmoNVg4rIwx4RT8XucbguxVLlJFuXgk4y11uAwstkQ0ZIBVwERCZhhI6/c/In6luzU3aBswKYmcILM3h1K0rqGG9jodrsPFxXbM0JEZW6SOUaaWSHdr42mmT+4Ypz0Zx5RpDWdcPJLRabdMKs5qs0pTA0ZuyLLP2GjoyjGNLx1vmZC2Zkgd8HaBrx6gaiIlxo2c/ZHj+8DUE24ZBIrhwxVC2La5hQcaTOh9c8burw2x0CQ+1crs5F9bK9v80jmcSOllIM5NQryMinD6aXvKlDAnS6a8klEQyyntc0RC+X2CvikWpwFW7GjJzggQEHiBBA24dqCc916osR5x4KoSHkuD3tle+DcQi54xPLTAKpJPfIKTIUFUkc1NzkYFGuvPlb7XgvdVbIc/CXLvuh0skIYM07s0u6omKUFIWDKFtGXEqPGwNcbKJQwdJghVFyCtAq9CvhuGA5wCMssFgAb6IDKqVaDBCWyF9HIEKISBCgU7zoa0+uIjUQ2sspo8gbuLbLdq92SnYUORKh90arsbP3zknKwr4v1ZIFfe//g1CBpFTtua4LjrNfF98cLuWOwr8ZrmKTWkOn2TY0l6fKyDuT5eAT/27ZwSEjKg1l0KrhW7O/m65IRHrnqoO1/0WkYsBpD3jpjJwD89wzgYYUCixKaKysiVJw/gOPthPQvse0ONQdLZZOUCAV1BvoYBOnE0AXmodconeK1GeJYicO1ZqaQir5lxlW4dkPXIkPoIsQ6YIVfKaA4hImutL6HFGIByPuidUwuWj0QwBlnjCUGJgJtobY4id93l+1q6zLVpEmm4lkOOOfE4MpmkYLF9uvrI12cIAwGJqvU259lbp0Boj/4gghox2mHvZFthyut9nVZUREhiWaz1Iyacw0dalYbKi62NaY7Xd2tDQKzBzRvwjICzK9QKDGzW1UPfBDmrWyWOxLx50tn4ylhPRZtct4BUNHNbbfAQi+eF3CTFKtKfGLnc6ZOpWrI0MYEwD+6afZ4lcGo15osHKaJk8RuZ8iEUKrayNrSLrlVJG1HnD7vrxtbOlDL85IgAHCGTkFL3HelVHjv2EbVuMJ9XhqHJ68inCTO5OZFnD6cZfmkFWIr0yyWRYmorYc2CBamNNSM3usfMbt1/UoGp/so/4Xb1TSlzIuRdP3eBOcWwjrhEhWi1UhQEInMb362ytrgkKfKnQ8DBHzc+IEAifEYQT9APZF46Ggj2i/LDzaDQmYCzV1KlFytNUXaDiU5aUIqp0TLJ+6mirNw1Z6efaY0z4uevF6EKH5wFPagNJyU/xATPcSJ4yu1RAC8ENNNQLWCXS56oH5M389GZjlL+gFAFgO4oMSu+3eGyhVUci5/xywVIV8p+TceXUInzGNQuPid75C8hRZNG+WJwNfFtlrq1LloJa+4icCBDh8DQoLoY3PdrRc1v/wpz0aeSNXzeEmqOatoBLaLtcfbJ0K3bQ0t2bZidO1KsP0lcbNzgV3owlnjF8XzVV9ocSNUVdzuQNvolfcBIdTcrVNgFB9tzl4dDJWunerdTqx1Ki50Gf5MqlbcJknVOybS55Pi4uTwLGTRcFSaxsDfP9YlXS77kTOzBRKheOsFCswvWxjkQTUqg6aHxfax2Ex8V8xwwNmJYCXOuVYUbIt+LNQftwofjixdm7Gy6uobols2+y8wvB1s8KmWYmOOc9WMUKWT6iu55zemNSK+pbascX9yGfpMm9yVKyc+Ipe2yLUKLxxZjlAIGR/ehOhV3+PudsD/aE8XFy4LZi3Z0vcK8zE8XSF7AreI14j9xCT78bqfEVkIVXEb3eQUbZ8cGM+Ba2Ww2T5waEIv6rCNx9WYXdb+0Dar8aJR7gsMgTxpf7BW+3IjrKTtB4vRFFON7avqSQSPmeAgJPhu5c8gyioo9431H7RE3qacYlPU7+LvQTPiSUwyIoOztrzvjEq4nFHmkYwc2XZbOX6UArbNc64qYsDxemeVIsjVchQWrrmS9asCRiQVwVt1fwCAjrTENdxtVdr5prn2tu5p57txuR60JHDC8YyKvYJ73hF6m8tukMzD4aaWTiOSp/SgeDQSs+0Jpv+QbumNRqZn73HkNY+WsNVyJCDE3qX66rPSdpCNM5XYy1su8TIlmd041uyzoIu1kXULn5jL6LQmZm1yi0s/NwERrFbUtQX4pEzi5QQ/wlo4QoX+nRzV3mRidHq/vg6JBDeCNNW/VDO2NLxk6U0AVkkGXyK7b9tDqBqHzZdSTOnidtXuZUx/Xb+uKUzhFiWjry1FXfeoTdlcZrwscbWgFOq9rz5dEN8KU7ZSezeO0O6TTDckXkmD6769esSLEPqnMlMW2kkDw8b9WE8/hqyjPWYMx5jef5mhBaWEPoGZHjscOD6Ca9+apF06MbYlhvlUlDUqcoppPS8pbY5v+gWO4SKIB9IiVqjCcSpneeCnm+YIhhV7f2O8TFC1FejxluMkJiEgmQlj33gygNzsfXPEwKvob891DBUX1461Oyt0MNp4/bZgdVcLRmlxuuVT9yub0yZDzp5jZTC4F3V0s9Gsr8oWJK5J0/7F01Uv2T74WK2PqjxTRuN4dgaG7afnFRN6FimbeoCqY3sbYHWLClJ8QYjgcd7cpC70zGLmTIioZ2iw0KdqJ/ujq8NqNW2e1/8U25P5MfMtQCfLlSGssnrxjksAN//g1CBtCTO4n8c/2aflg+yf8mv+l5iaFsipjr2uxcY2FIZmAn940qodwkyl0EEVcdNPAIo+vHYQyS3+HXVkmL3Wi+/SX3DqPyY5FctuUKgy2coQiYNMpY3ZCV6qrsdt0GG5fQhc0SvAxGFcpKyhQzE1+Vfy+nBiAnYk3xV8yLRX5d92SzP08eISzCZuUcId1U+4iyHSwdk5qeHqYpkkY0RmCFqHV+zip9Oq1WM0lG1D0GTdGnm9XM8E01Bcd1F0FVuxoXcgfMP2YFkYWaL4v89Zb18k79OMyhCWyZzXvBPENd5Ykc1daS8d+BItx+upyuCkZCKLTcmD+zD2g68bYrAiHvYGN8hYowj3o8m2htGO4p88GoSZaYZ/udW5comRquyEm9luDPVqNdyLhuFeIOjz2f29T5f++K7JgdELMFeXwFT3dUTyF5ZS+/O1ubttPeuxCdH5LNfK8Vb5nupsnw/ufiZZzab9jW/1i0fHP9drqZ9j+CPYqxolzJOzL3/f6umQUttATuiPpSb0lL9j+KRmgiVJUSo2wS+2fLfNEmGrLdZujMf3/sn+iqrSIIseQuMHfIgi9pg0nwySkxZ+rmBJhf8hHimvXVnaEi5QydFTx6O63UU1efFs2oqUCea8MkVM4infltIWZJWytBQrOqYJMjsTe5C+S3oBDHl9ESY4qSIZeuKg2pGbsWTpLjfZDRx9k1mf2925hMLzQlUTXyzwaxUU59Ni39dM4AhThRWC0Xc2dwpwSQcepfrGjCj0N1NhD2MLbwMJIvXrVsGoJoXxen5kVZf3wkPoT1MUbgvIDkloK0bIuVrSEsH6g7NOXFfcjD1nBKHtBFukdBDcP3tjMc9EzU3Vqc67R0kLNQw2RfDe6YLv98LT5wjxFJgCEb06cn0G1FaIwoUQOSgicijwdlWyssbssBQyZUHdHLOw3oovnrB17ojU2BdYvQseAJuGP13g8vVg0llkoQwNF5xtnQUAS7XLsYXVgqvr+6yZlhNd096Jw5r88j0tQCAlcIfl18pVTsJqmiYVKK9ZwTbMDYy9VqItiZqJdX35nVgJGGbJcasKLlnVbNWtcnNzKL2jI+RYl2Zz+xOe0XiCH/iVGwlAT4zPFsJ7dGRyST/9AhGJ2uO5AW1IFiWku+trJ81PO6IJvuA7P2R3y0H2btXqvrBoLGvAymeU0dw2Cv0iF/dVbXyaS5Xayd9PpZOpty8jo+5mZJvBYlBMtBzBainxvgFWnWM7iXM9k2tO4fIKxLahaJEoy6JVlg2VnouzO2Es96JXJcSi3dywGIpG9whcpc+z8dha0hlxXx9x6URDg4z0jR5Ix5+hrhh26OeQWkN8SfkHybeC1hAEOEbM270tEkBOLzclieVf3hz+baMfZzX8FCQbckNQageVQ9ZQKATJQO5blS2lwI7vZbR8+l2QYsMaD4jzx0PRERbOSvMVI4CXSZsy7ey6LGoIIzR/wk8vpyEImNlPzU89ZEiF6Le7J3D6MNSPx8YrivyN5taseNfKe0OltLrXfvheKBpHX5O6AEC2h7iNzScFy5E5wCQLxF0ufX1TrLRVJKVspGqxZkPNBCbB9T4wt1sPiAp64R7B2/8u9BsAO4NTYgKiFoBscezevoiER0u6KVM5SDwmd1qOfZeEahaI9YlXyTg20Lffia+R/JrA0CvBFrprGzRqklJ+STKkpIT1NGqRfT3ibVwE4TFeEKEgDkkeWC3Tz3u1CnxaeDoqHLEGtREVqctgoFPaV8vZuJsMsgAU6lxBRApeRPgpZp8S0McNvR2IqzrkRwUNaWVk4/zcb8MHgtzDvW2qBckPr0sp2ByZUUvRTG0sarOAheQls4H4MlrDYO7hEaXoYMQ7e7OVSl5TeD8v+KKZOTtyxwlQvKLGaWv6eR61QrbqXJkI2jJ2YVXulcFappRL7Kryt0cpNnqIyCBufC0zX3B1VzzefcsgoRScyCHikqNg0qB4Ebb8x5JbCVqC9FqTykqXyf2ks0V8EjzhMPCqdY2pB4aqmD2UOxX7RKGk20ZVxdrrutgVhPlo43FQjEyktv+h2FMuJg8shLWmapI87woJijkR7oZbUp7X8m2ci0FASXEqipXs3wsdNEBf7LrQaeWmdHoO5AH94//g1CBxXTODD42bpvfBQ9rf6nP8Z5iUhvEw2b/2gQe8A4L3Dnvk+koNMLeK0FLaw7R/uGEMPaeImhfNULOReiqBNpE4i5SETK2mxRk1g37JPMympMD7SWylgdWOxGAT43dCHIhgI2pQtTcllhzTGCgs2FkVyyrYIJRvNR2lcrsQ+U9N/Zo+jPVZDihXvclswJSyY2BqsvBehQWL1oVujuNJ6RDFLgGlGqVZrsW2jTRuEE9OumI1mQIZl9d0YdEJPEbtYl2z8dOXlopv+NOzfn0SwC7esbhmVYus4nHM8wlfby2sAgJJ0ITkk4nkMaNwN/sKy0axCHG5XU2SQL0QYWYE27yFFOjJg18XRc6h+D0HaVtbbbsWvVEicSJnYj28q2nnfpLZdDlbGT0HgZvZbM2pxDcAUZNpwoaHRfstUYBtEYBXDIDIBDwdDtkVJ8KHDxC1QFzF2KrWQmRWUvCG2UfWNl3WlYR8dhqoy/9o4DNBZ+ev4jJ21eNZBFUKCMUxcqMt8SumXc6u6H6mKCMI+K51MAqZon436AwNWGUrpumIQT1rmR6NimLfjFykb41wtTatoq7piy2VPwigXIUMaQkMgbAkKwaKn8GJkFX9/j2Hgmv5CvGVxWzYebCGnG/QWd8fU+P1nC1lXE9KDaa/xyL9c9MhxchgE9RTUVggayXYaoINVuVEpouDISuelE//B3xfvoYI+g/No4TlloLQddBPaLyESXfKrdx0//SRqfLSo9TkYqhzrH6etJkuMX5JS0wR0yyHL/2iqTPTqY6sUqHqKYRCfyKYl8s/QuNQpKIYC/w4sYoDMi3Kfkc1GdgXmj5C8MD54uU2PLlChRcbqndN6mIj3UzmnkClRoTgsUCI3E24QVdC2XXHqPO1GKnfjsQQ35LX4T3mE+jNJWXGneQcsqEwagNgkztaYTD1FfErIDwjYTCBc5PM5aFIq6v4SbWPfaVnyW/pGJRFs+zf1pYh8BbVN5JwmN0+YSyCSq0lbuqR+BBy8PebZTE7UKGRwswM9355XXXboxuxqZXucmDyadkFHite28yxPS+D/McJY3MXile9LOz5v3eYMiCHCcuTUr67r5V1OpiWXytPJaATyCfrPzUhfq2yUsKQuAMFFrE/2U8/bGfXO3brFdCDkoLMZFFYTR0IJd4UJqOOUzIsx0611JoQi4xS32InLq8pDBUkaPRAlh+bQNHkez0CKETFcXlbVDaRDUlmzu4EmKn5W36FhF65Mi6TZQv1usxyoks2kFcEB8qJDLP/tohhfJfenJWGp0CruuVYiUk+WOGTvxoZpmdRJG4hgo1nOhgx6U8NdvAjkOJ4yThbNsQhfahOmIJXlJ9TOV7SVcm3jA9bmHSmlY6+9rawsRHYgHhQ4ScIAhxaEgUddiFQjReTiP6o8mRgseqUhG0MTMXUemBondiFPXmHGplh6s2ld02G2J6qu49skijINigpv7yTOALGjfnXuLa/SuWXGWQ+SRS04iCMkTp+keQwQShMp9kouwQC/KlTWHR2HJsh/co+CeBeuGT2S9mKXwMqBm2mUZEpQK9Bv7bHsVxJoPXT/hShQ0y9t105SHHfL+7SJK//8TSutwS9P5FsLpHo7dFo9FtAEGWhIBJDoIaiMVdGGLfii7CCfy5LFt6BHj1LWC02R5OPbIHbQBXkCaRjLcruT5YJFCGIB2eYmO57ddGGbPlc+GvL5HsQA0XOJU7eOaM5fbXHfFqRtPDz6L9HBWQYtNF7T4xBfTolsu4E2U3dRuCNaSFpjH/zTOlL19oIPa7MdeLU8SL2riltHqdeGFk3ycl8guM9HuvPUp5Cu6f3eNZntC8nbFctSFKZKDAyUAYazPiqITIa7T8UM7nHTIrvBQvAkyl+Us+CtLSwcvJGLeWqG27cLdRzNTRFZoAHM//g1CB1QTv0l/WD9uf5G/q7+5P7T/sHmKXWivnrrcVlfvNujlf5siPPEh1S8GI5BylRoYt8qTAxp/ncdAMM2PUsiWFfdG/eI2egdj1ozghtE7EPDKBDESYTuZqI+Vir00X5EMukQdU9jLoj3lEvKuUXT+EGXA3b2z6LCoiU6Ti3zOBDEj/bWqqkoXjxPyTaZFeuF1V0RejOocDCYKl0vZeOuiRRFqOhuilQFfAL6dfWaW69wOVFvynQVOPVVo11v9zT9YiDj1kgEupoW6fEKjJSZItALZqEl1gong1ec+D5pGD/KPGYzcp0nMTTrK8QJ+NNywKS2HqSCS3mTlGakzDEwT6CqmQrEYX2o5P39jHvzju294RcCTkObtRSBmux5zZY3EKU6ZkhzLVaVdajCVqNkVyvKYoq5RSrEpZSL19Csyi6jF8W+RDPXDrG5ImbsSy7IdfQ9659Qn1U+XTDPuU/rsE146Qhf74/EXZtR0pJtNhVuC5S3Ji4ihkNMsO90exPYavFgK+GKxOxeHmR2lu0bVqipitUg3Po1qTXltSVqbTCVnNKmcKwzNSJmSNAqebK1ryhbqnqBIHhaCbTkSx7SimS4WtaJMTqIAA90ABTQEMgpcbsB6RiYAxUETHYiZyCYWXf9DJkMT1MEaHVQspGOJUiqyTmL0qySde4Kfk6IlZopBwKJUGVS3Fixa6jA04QBIXYOibuOP65IO6t0cnKveVyc4YYZ/n5ee2dLXamext0aDURnevs2yRWRpprsqJPMhEXvKL15D3tEXsjfNC8Ki2FnLvkHxq8YipUhf6KmJaJcHkn/dP6Mvezn3Hxzia4xaTdpB0ARQTME0kY29ESDeCjT8YLbYEBKVOj2O2NpVCXQfSX7gKS2Il888tb4iWWp2Kwkg3OSI+tYC9hiFa0WmqmGlU/4t0cjG6vDdLJiwgyieWQcjqx4lpjSbzqaDb98uEK4XBIasNYFbOODsWHroF2mJIWYrnL1poI4in8xtpWygYn24XvtaUSPer2/1Ll7BT7FUisdVq23V8/WbohDlOVlVc+kzUOkvaMtt6TwQwWyjyymbEUeX9SIsVSHjrEvlRPtWA/QLjkIOC6BkxBgvoKXCQfOwrZGYEh1qR5kpYm506CLwaMiUYSIUDFej/wJVZIUHTl49szcknBilVXwYECwPZ8SCnnA64pd0UFEPNpdCRxD6SidsR2xDBQ03L6r/FyMv1WGtYut51lQkt2YSnFrAEHDSvPC/gNbZy/ohUNmKHidYJVFM3IwgZ/TA8wMBuLxTnSLD5ah0NF5HsZqQOpXc1lbKUR4cU870ZLHJYqZjmSCBZUFjWXjTNUrltszhChsjVIUSnSRC3grl8TWEbEDvEmrBE/4i+CpgK2akf0tkBkpMiODThB+lb/kJNSrNb9oI5SksYLZEuBBaNKaP9mEZCiYMPCasXdbJ5RvQqJHj9TxGDUR4yjWkn4LoSArck1JkLIW/Az4kTCRWDLZ2yeai8J5TykpRnzzW/rFJp1bdYJwQFMZULq0MCX2XSzZa5KGy2AHGdyhIqMuM55lwv03pvMCCD6X8s0ExvmRoim+n39NKs1vlHtLZTwTqmJCPZUKmQEgw3/I6ljYxp0xGF5/AlbAec0FinRUaqqwJxBW8FRm0VUqel4GIH4AUpONWhPK0yPCgQnaLNdcy85GNF+CgUzQS8e3tLsA+3lm3mU5yNfiVQRKRQ6PnWngqvPBIHrG6ygjlAy2aiqksb0Zjekd2Q0AkrSl/jMKfyltGOvWZdJ8tUoqVSmap9Q9dJHhI03J9wNkMTLCy8SWIsOdY8IQ2UVvfeyYy2irJeKy282kYUEA4G3dcbWx/LxNxMqTf/zpQ4HYDY8UK7QTtTHE7pB76a0rRJw+ZsSuTGRmi1UkLclyyKY6KSwjOEks+vw10hn8szflEM91dNKPgWszrhxxwJdsDPOeqPTi46P+ysHtcjul5BWQGDrIQiK1W62vHTIbunA0T1xocR2+YOyFHJBbHdiSsgoQHUTzCqDwYDhVoku2aIK/RcqaDtDTiP/4NQgeWU4HMg3NFIsZXR1LH8kf6R9n5ifRrkxX38EA1w2QAsf+zwEqZN9uQISWWhXMS7J41oK4OEepbQpkp3eCQwircAgmqfeO+EJMziliSjjxUyzuE/8/NsqZEI5JYfRFu4zEZ2SGpc+uh2E/2OmKqEq6+g4UojdB9RTC7/7x8Hs1ayqrm5ezaz8M0JbThlhWcsSdiOUTvjO5LEzErwT5LI6phQcToB6thlTd7QV0aM2a4NtnohbAxOtqHeynJ+03Q93EGLUp2tAc2cexVc72f0UjyjELjWzchAUh/Qns8OhYYfJ+0CK+5qNtIqJd2sqm3Z2spfOn7T2b8lGqh6CIUzbPQT4QQaBpA61n6bc5MIZkaGhs3xT25KMJHixJDgVy6cKD/5oMq3nxeVf5pSs+faKW3jrBVZqXkB2BDiKbXRhc/YLLQrnsGaMW1FlrcQsz6uf2qPWHRdEb1CY+/YDqiY6UbJlyes5pguItxDxThHQPfnWyVwm7SPidSIczl/GU5W0JAgsOrVUhRolJc7B703VeE+6kVXDgQru9ACMcE7rx6iJ0R73EVXpwSQVwzuyzR1RbtMzgoxXBx1w+JCWSIjqj56EsjF+F35ZzJ++5yROFH1FIfkzgzc42PsJ+4T4a6h8tZeKDCUGMzOgw6lMswLb6Wtld1JnPGpaQv487JjJPkp16KbkcGSg8ZEurdFPNP93s/Ztch5KRbGspgZVzMUwazRG2Z2T+XwG2lOTX9PR3nlyEkRuwWIQe0kccISjA94QPVrP8yRFwRd5V7qoPJO0WNMvuvbWN7cXXLHA1kTz0sqbdIa9e2cnqMu76n9iKOF2PST22XlLi1Ryld5TSc9K0ra1uUYwjZ0abmeSnLbit0X3uVN0fv5x6+KMWyuJFFB+uzxvA1BDZU07AvvSIZyPe+UZTkXscSJkXupeWtsFCzkv9ou5N7Q1+NT3MgaNkj4S9nGf1YTuEp387BDyJ5haR/16OFRzg1iUeactrD/2ZknD8fI/ZaFb+XAmloJQSvSi/H3/VmWIeVHuV0tto8w40jwSZhRsd3GmF+2Xtze+TNsbpMJ1+25P9mR6QLnZgnmIrdVHU2e6x4ePKzymbHu1RDd2EGTVIq00fUbnlHS/D3pKaT8sycWHW7U06rImiBkaO3V0iWDp62njps4OlqcV2xNnfkz4t5JY7ojZTxrQhsTCQKnukE4INilGXeY5Hkw6275VLbageqiLe7EXCjvM7gbpZKrlOz6iNt/MvjqLYjmIDl9ajQl6Wg5NZcf6kVhO7jquzBNlvr69HFoqvnCnIlCQx+KR0YzMzGPXG+c+mTtaruBNGxZ9DBoQIeC1VJ1pFKaqN4Z25LywpHbwgXeqTHPwDhqOZyWdvMxoEhu4fZh1jaZTmaYT5Y1JJCPSL5XxVcgwjuWof3JVlCxKu0NiTbLhvfbsmXz28pwfweMtErTzYJ4XF3OsZ73zDa97YBcqgtO5azzrMLKyVcMbxauSQuGtu75w8b4SNI7nf5VpciXKzmWIha2ho/hr72d4nRSb6Vh7J1MnrEcc6upDHN/0vqjpEAeGUqo67O3cRSUSzBJsT+5p6t3yfXB8rLlh17/MpuzTd5TpsilESj9F/CgLEkxlttJSBOgzZQULBO5aDPVpFSXqKHSC/ZDOyd+XYSm1YiVriGRAvnNttwUfnXI5dPCNWYK/3xGSSWswJdDpPofTYl4LY1snprOm4Vi+7RTvXA5XKz6ziKrnbJEMmcI50ZXNxSK5twHw0l2SkWsH04fhSJrhthQyiSPGGHWDesyDV9C3mHiNpXK11WE6tk6gFnjdN+JDhfAyZT+/XUflUYJCXV+d28AlHkFVppJTUroZ8DHiA1gfJ9leZ2RjhM5VL3n5q4dF5Vhk/Jyx41ZNeTtf0zXcIkTLWRM1KCgGG4eVmwsan5NAcW5hfEmy11G/BWSSKvLACqXMnkR6kuI+pSS3xZq3DFsPSqsw5kJ1KOMt3e6sXZxEui4wwxZpAKlStVTm6rUJI4533sJYOvfNUCnpDEnti6X4KMDbPaZJMWFaTFcidL8Qn1Hi6tPaTpGDY1HhJ6YOXFH8d7C5yQWKFIkuH//g1CB9eStrs3YvgQOIh4f/fouYl1rG4ZCOruG3fcGFI/YGETqCBCIxmfHDn1QKRe3LtApYNDWTJdmm6W4UcWKU2mNGeAUDEc12fBoRokqF0XkK/iLFR/RR4BHxSxiiyWZV0+nqAoWr7G6VqHIJWv+bFC05xFd2Nm2l3ghZpZHrUfbRgyrtDmpuxCQCgS7VA5WsFPxOHHjOuTl6aBi4LafpdjMA2P6FywtSb4SGXHiOGzEiRVtGFwRUM+LHxqteSb0Xa7zuPo3mAYfG/1ugG7WCMle980LlE7Ekzkk2Ey6iQ6hlajm+PQxT5Si9e31siz7rpndc+SeEhTXbZMRZ41qEkwZ7nSAU6Ehz+5cXS2RV9LRe+KG7qTwCegvIpw4gcGi1l54/1eO/uoDWpOCeHNSBnFaGf+gpMCG1oFqvJF2GLjXBtyu0XL3Eywl6oVm4VOcBD8kBMIeM7fnLZJjUDppZum6CsvdFYIMM85bIVcL9xuhNB9/PZyxBx05qANWyxMCilNtXR2Kp5+bGcjrihCFV2RQs0wqvIyaUFgHoQ4EvAKZeUQrImnpkxuhk8I2EUjuM+Sv9HfjJf6GpkqhjS34auzM6DFYK1Qb3QPjWYhIXHT5OxPKMCRiVz+Eg2K/xOo+2aV+sj7aw3SCzixmrFYM1ZOmTM1l0OifqhNkRnaEOL/XuzYrdedRrlvaNaeoZDzj9pqCMnvp4gfqZw4NRSSAVwRRaC2NRzNMryxR5K79yA8fSBeQU0DoCASM76oeYWb+Hsu7kjndN8oEIqprODEyhZqQ2/WURfharXXFXoS9VGqsRqdPuNDchN63C9HX4HhNFiVMbUnmv6ONSjYwu9RkIessRE2Xog+5G5Bf51qjkS0qKIyezEe4w9VJwaltlbg4BXntLRHyD2nYioxRL9Qy7AQmx/JkK0QiwHOL1LSKyb8f3Xr4axJpKKblZUobSDUuV3gnESSOzD0RhTX6qklU16Retlk8fKpqlBYuv0RY1P1VU/FyHzVkMmhjU+QyAUDmlZNzzZNfADtKmh98hXZBta4aq+HeOCXspsch/AkPMRinndxu8c0LYXMy9EWCELiQlrGKZHPz0K1KIBQZh23uBSQSh/1tDgkRoMIDY+6I01ieV7MILs5+sEWjlOGyvzpj6RjCeSgrUb+nZPPeskaKqaBlMZzbbYaPo28CiI0aURry0GJcwX0mZFgr45E4LAnZyZCajdEmrYPMWgspJdZ7r8t7u52HE8oQcIMMXmSXL7uC6K+XDt0SukQXdZjiQJ/lbpOAp2AMSI5JNvYjheWTKCuUktdPzIuFp/FS/R9Andu2euIgL5jZVlyzlFQoSwwqMrRE9R5CTrvX/6Ui9kXc4MQEhVotj7xyncWdkuX4eZpRYj3M/a1e7kXUBE6c/iXx25jZC9LqNIc4DP0QMR1a0RHM+yk0qNDBoHOGSaYZA7Q2JQwUg5w3ioGFHqyNuCinte4oPXkWcS1KjZMLJN7ZKUXrf2POZwrpQ1YdJw4FmudQQDWSwSYoOqpLSOx7Yoo9VHFr3KZRYD4LzJ0dDwSL1XlWqrZYltmjoywsnslN15whFFFbjSZIOqZBO9kuwRMcQe1IidDN/Vj85MkOPECGcAsno8f5I3GgnSXp+PbzS5UEGqNWUz5VQFCS0JN54buQIzYAJeeBQLJbG1RY/+K1dqdfP7WxQzm5nGbIHJILy3LcEt216qmOvzmTLrmmMEdYnuQpqEwOgHUuicIEqojcGobTzafClCuX+s4+1/n5uHxF/fIiZSJQxIqiNvlZEHO7eKskPsWssZsnAA73wyj+xVRyDx7mKUkgJQQwfYN2DgG7S1fAQ/4BCSEH9DSP24QJgqrcBA6wNPwiT1vRiXvhvE2QXWdIgAUXfiZjSilxZ4IgyR0xnjf0hIC4lfH/yTA+ls3cHe04SCz7Zv3QSD8qmG1CfLaEASxMJeqJSL2OM4KyLxPEJlD/KOdJdeaJng0xDoB5mvBbBA3GVY3r/bWJV+7kRZ1gDjDXX6zhMhI2cIu+8YHrFQoAv6RxtX5lFPuu55XJncrkrN0czNw8MFg9lT6ySo0uE+onQi05tzO9ucQJN1BS5p8HCXYEH2//g1CCDjTBYZF2wY/hgMFfUUQRJy5iX4uVw47APAOV7s4NUCg1hsDYrRrxaQsio0d9samaOImjMsI7/upjJDasbzZciS/wjelrRpOTSI8w/UI5p++rDyzacrmZb998XJZ4IhQtuAmf+v1bpBQxSHXFgUW17Kl2YycL61+Z/uxQk9WY6Cif0HrPycP7itcTBa+HIdSzyEUpZU6KqjAqwY655tZ6+oBO/AJZDzpveUxLfQXCCzFT8icxNSp6ubSRkEgf7dCHXA7oobp+A0EUmSTKlXo8lVNT3PRbH862q2+KNIdMLFRV1/9nENsCn/mhcBkbfzkYpMVxZb7+qemTEwj6mwQBr0MjOSsAriixC0vq0Rt8zATRdhNHu1bKLHLaxtalX/p/H+YgSx147Apcgq55ZgSGLqUJSBE2Bw2RdMqkTWacmL8LIwurFGh/02tfKLyMgoq4vXCFmh90JdgkvR8c1Xc1xsd6IMSQkx9UtgNr8BFPv75rcEO3Lda1+ZaRI7O2038gOkYZOGUB3EcDemRAkWfw3f9FkwFUFSB/HKZpIi4K0jUYJfPCdLPZpd8XB6POWYx9cpYtUINRmeygtB8I9KaBGrmqimMhSy4NauNbOGPjbKpFlC590LHFiAuxKKApjk+At1LQhwwC8RWG7A+mSfhyny6ZhxF1zEOZwzUeTLWX5LSFIl2zNdLeHiwGQ9/VuYgvxTWwGVyzyOaBtiGdRe4mYRSvGZaeqClSjE36/DSd85dYmZEqIY4jr4x60t4NKsPFhUTom49RLSm3Uv0tf6VZ4LjgxlrVDTse9c08ikFkrOcvgiSVTUQgiihzt9Fm7ggFObBHuZ4h2M8mWJNXnMIK/BHJEZj8BorWS6S73rZfHdDy61fbpUgWemY16EMTxboPbYeZehP6ytyVc53SMWBRbAJit7baMk7YTcnwPI9lmnt0QCS7I13aXzcGML4iLQz0of4tWFseVYTyZeKLQhBjXce9OuhCNO9e/TzGS8zyK58kVgKlzuQxl4xkWflIi0sZZipLB7rWoQSMew3V2apf4NwfDuQWzTHWVMzGS6N8mlLR4qkCyM0TwjNk8vmIF+UnNRkBHOJB2hX55QlrryXoYqmTGGxFacbz3Jq5wnKdOmEUTZPQ9o+lazXfhrE2BCIXn+C2J9XYUTSsVgS5aLAaXHxG6sRIVREbDJXvCjHwy+JceYKsnHq/btiEAVpqXz31o1qy1U6XrhdKKZaoITzZNd8TqTiLuIuHgnK2pNrj06idpbpalUtL+bJmVOlucxDDyEDakesYajrl5qw58TXWayXz11IP18EUt/RFlCgeBzkVgyNJEl89+cl0TP1JiR2clVwIcjZ+YSXRQptpImPQ1c/6jY6VIlHJpLu68ONtedq9o+qhz6QkJwPN48XoRX/QvB6reBgFekLSgIyBdkcK14x/3qkNZKSuDBJVPv2ZuGOQkrfkBhLH2y5l3bd5KJsl4JTO4yscNg9jfWrOFLIpGErLwzDskvGVimSaoqTgiGajkwsv1WOywYtKIEiy5LLdwmcqCIUDm2OZRk3tokSeuSjk/qwmMw/6OOD/X3b439X1Mlo6w6Kf8jWGhjJRtmUka4jmgvC5qI/psfuq+N49uBOOPLwin3eh5KooabkabNUllBLGcZ/YhzFpvSGqaQpLmCP/TVGN08aYXOARSkQaOu8RCKOUSuLBEBItBsEtMEaZx9q0XS/iqqvW3ptxDxjF3g0BFtGLi6lvfmJANXOUPX4RrdQ2BZS0SXCDm0/GX6kXkHHwlOz4hYqbm2d5yYTvzgU2L/+DUIIeRO8a/nEuR438LgyeaX7EHppeYpeKIufm9kGY1caARMfegBIPoEwiJSGacZLyzak1WpdUaHLREnOPJAnPMzqrgrqk860ChFQI1X4h5yKNUeVm+dghY6kg1ASkFcD6mKj3+wUig1oDqb11imTljrizeDLn1D74AV34uTjh8gLJvdfmjK4LZKXjxIZqIislgyPhPM7RjHa7wVlZ3Dsle8rOaXDEiKQMnRQr7RrG5c+JHPzxFweOfHGO3qrF4NuB8g/4uIJ3IdpaU067lBKf5vcoEzInNR6GsOxS2b0IJNT3P9Vmk6/0mD4iD1Lx+xslnM3r7ivt7i2pRida1XMCpfibM5uq0qHJXTIT9rR15CydMPl2QOPvGrobz1AMMWcw4NsGyC0HRBtbMVDDIybkBMJRSRFMxJFPeiPFLEXHHnKCtfTVy9/la9QNqf4J3Tv67FVwuLyfCVP6AQ5Z1+R3IpEVLpF2DD5orcEaGIqKoRoTjOhRB7WUrp0FmiJUN5VlfuC0QoALAGuPUG7BNoUDwloWIx4i/TX5XuXhYMggt8GnKHE5iPArFHeXDWWFP1yZEKdmLvP8ovlbcJDs5QseOBIDA/gUORBSZKTRXHkIT38ROFT5l7hMEBNUrXU3cJZW+tYslsUsSoyGoJxYUBEg2jfw0ADc3Cs+caFdFKwURKapX+xO+HNx0OaCu884M4liBysP6PpJfcjsKOHdQzVfamxqsLbPtL3Passv/2vKFYQMMdepFWGs8/bIO4NQW1HiD5sdslFlPva16xKL0qWPZQmMKKOAnx3QnhmoC83ffsb8LX8pMfUlJM8qX2gpP/FOD+ROw/9BFGlwyGKjUoCLQvLCVqwWTL+auRgO09Vc0BpM/dgYiJVyJlDvn/6U/G8Y64hDSRPTYa42WgCMrhT+hJYCMb9QgVSoNvFpmxAVxwguzJQIdUBI93oewL359IO8lTxL5kppzOhbJ6jMZFFVxF75apjf9jWFF4LfKJWLrHIfYCvvQmrNcPLugrz1PQMTsPCYLKAeAUdi/xeplPeZSwK7rtTVdGiL/hOk2oqDUcuQtA+4C9o5lkKnXK4QpcJciPSyjSLkEyDpqISpBLRy96kHAiu+GplH8eLpolBxmBLrDmxiC1hmfvNpe8yDDuAo22jAE0XIU3oVW18pIm7imajLML1dtFmtwVZLq6rGkExuo9iP3TV0iVsMI4B1heZlG5iIzcjg2aGoXeN/v/4ODdxeUWFXamaaNSHr5u+lOb8RzL+PJOuUOsZtYaPthqulFy8TfTMkf/mlyWUKRlpuWsqpLVxnSw0oKEnqSKo8Ak4yZQ7DMIODKH/bgXRQjL86RejQF/Ok4Eb4CW5WupGG97kZTmKLryfdk+oVEGEAYW1hIYr95LAbfNf3CHjetZFXyRYZn7J+1fe0/WkmJYN5wJ3hUh8NGQkwq97LELIQXugA6iyaLFTNgVkk28d6+svWmBxhJaYUImoX3vwQ4VQQtVhTqiU1ORHvXeNj8/yj4nLM7k1IzuBIeNzuGM9GgmGsTHjvc0aTkx1cW2S2is2msyK1GnnN+Er3etoa4tOGtkwBX+WhjyLaGW94BEXLsWd8gx27NPyILmiKsTkardpn5KCBSjjwqFHnKUHYqMM735K3HzHf6IPYpzC5NKI4ER7zQmmRkl73P5oORYxPiXY2006dTKsX46k+fRt8rVcOcFZTOsz9yKaIsIrLPKwWt+3OIUQE+zQSFt+S3mX6twU6oPMsLUrXroJUQ6CXlOH6VccLs/jy09JFR+rBTdEHXIiwoGgPcWGsO8BguxF40MyHsYpl7Um94y08tm72xqfcrLqgmPJZkNT0Mp+RDDt345wxe1Kc19RCiepbX9IRKkBX4SISDO7sUxOVm5G0S9sj/GiYCkPWJsKkBh/qXXqr5t9v3fVff25zcdHU4hYXfB6/QlE6Is9R/f7r+iZU8CH8sCl6hjMRTRkRePPpSX0oQnBMHcVvtsmErae5LotcfFLBKXgV4majkxJD+ZDtpR1tfr38iAhHhKekhMY+hun2L8JvenXEZ80YIIjRy/pN/wMsVrn/sFvpljBhq/4BabDaL/dzhRfExWhEoeInToLjB0r9E/bnoyRLiluMYlyknqN2MFjWe6Zs0MV5ZARz3/+DUIIu1OHnUiQyUlJbck9ySuIw8ifOYm+LHkTyvRAL69uGKXPtUBM+aTaMs9gr7jSNnJN3W+O+E/WQJ2MrnFYeBJG8wn0j96kUEmW/OFR1jvbV8KLjhzh44LbR/DOFVu5W4CJ0P4Sm9w5B+VI8ZAw0jOwo8qBgWZ8zYsYJyoqqvGbgrZlqjHbSBMRJSNEYoikiOKrLzahpiT3ALSg/SW+PcHeb2XdlAKtyaAt903rFu7F/nAiYlHqTobPBXMAM3dPkz3doRjn9McpLqz/DJx+NY5Bc2YPJjOOkVfe6uugqB6qt6qoitzMmHV+mR1i3tpRApxxkYYXVlG6rprkI6x+zfqeIrhEPjTezmgS8jVthKoP9m+31nuqvdwLvyEOHbFc+z2XQqO6zjgw9ainZ7yti8eb7WyK58Yf0cKk6xnVcnOyjCtWS9RatqSRUsK+Ip5TzAIdbFJN/QMx7Cq6X4tVomi0hp1Vouzq+cozRIquWP/HNCyEdjmCiFaHQHrivSV2ixGgZKcco86jBIIpHaXMKnenJBBvnbPMi+VG7vVjJrzS8p+vUkv3SWT/CuHGZRHV6lmSLcsp4LF51yAqSQ3Yap2DDJZaNjfMYRJPMLfLyx7NeJ7OqlawWzH0newtqFwxnhVZOOWZGL4gvFsMbXb9FX5440hRZUtt063io1HRyzgqZacXhq8doeg6x/nldo6vz6YLQRK0fIMOeL5TJdNwy/j2CIVgCthXmEYS157Uwzz63TJXzGOpyvOk3lbhl8/Yzb7X2V+7yxxv2qs0NBWCYVk5jmvkMJ0G40VebpOIvO1bA/LlyRI0gPOWiYeVCwemI0YaiARUu9zvPSwtUkVo99fzdqNGFPtjorb8/3yIzJAHolookszy3JWpA1mQVGCQLtSySFq8jWwpWIm99Go7SNhiekyNfIWv6vORlN0COvkL5A/wbAqyagisoJg6Vi8prPN4Ukzoe0wc6pk7ym/ti3E5tAzJ50E+2VwN3RQq1RS/bi8hfpHtlxAwjbig4cohMnEv8brzuDZHpEQ7Nk9y0c8M1qQ6k7btzUO/z5G+EQE3VrHK00hRK7SDpdvx5BF02cmhN5EzMjph5ngBaezaDC5MkKEM0rMUx0VZiNx/SUn5wpaJI57qP2I01CKGFyIh3W8Fz3QydqJjrmUZmFKUJ/RVx24TV3ZW/DwJguvInUE9xAVBlMK+4Q+br7FWjwlj8ReE7vMSeYNd02WkhlW4wFA80dS3hmkdzRxGXBOSXrBLaChSJTiqDS/D3DoHcoq1bxx1B+qxg2sKZJOMd9W7thYhAnF3krBk5NrNTaXHiaemcxfjWOS9QQWwKKvyosVKtbrdqpoNaTs77MucrWRrQvVSxx6snrUOmlCHbedcDy1bYiJt3jzmGkkrIK9xcmxt65Mjcyc4BHzhQpy/QlOtlxoqjKM+LujBjtZTQlQqsIsJELTeSp387HgC3sHQmlMYV3Wt++uV+Y0u11kCquaSo9Jh7Ik3N50Q3mLkFQR3Dfk9Jhz5GOOI+jWSvm5OC1hNBLT9fK60UZjxXEp43gL3y86NhUi3/i1lynSYPkNMl5gk4zCx+uNJxBCPWWvFLp2miPkkNctxZi1eLudFGr/Rm8Do+I1IgYhQhTe/VYN1nGjej2j8WHa9oIudgDGIeyZwu1vP7FPyf/nXtPvMMNs2uTXotRTL154RoXqdjSz92sMCrVBGvYk2VVRAtqIbEApw/m5ZTPSVbj/nAmIZUrIuwUypnd2YquRU4+RRXHLjPjvoCptCAiNLlvA1FfSHxRptHMkYCQCD2Gz2fjzsrAh8mmQNTLe3KvFYPjxeS28p16or1Q8EIl1AgbMnDeFv7JtN2XiraRTF35V81qL1cHvW5VzkuFdrMJn/k/csMSgWIKtppTRVa4F5a7+ge8vhLYcsBa7NOpLBkV0xI/QgiQKNPmISS/xd4BPPsEDmThbX5le7tqxQIlBWpEa9gTfGjmBg7SwvY7lWIgggNuEQbGgSWw1nhKgLdwLrlZCNCfLkLCSu0kmi1Hb7JbmLCJoPLOOMWyV2ds9ciNCFH7PQM5U2mgo1V8+S6e2tifH38raura0CREQY6pqaEj7nWbOUP/4NQgj6kwUkRBCCrEF0gMqA1cD5uYlIb0SOGv0AErfE2CIgZHWA5A6kc+kbKOJW/jOJ7SSufYXl4Yr7dMZOrf/qFlktxOEbFhnTljKQVRUHUupknx8wCTBBs3CknTthrKZjxqNIl0lljh2K+kIf3z0OEQklxAOjJuUmVzlsnInEmOq4s4MsNLkZL5NDbZM6TnmLSupoY0gLML9CxS8Urh5E/CgG0ix2uh6AE9EaoyPURIE13HwM7kmkzEKRzZeVgtbbeRI9PTHmhS4Slcutw+yCG7tWGte5PrwnYRKPMhWEka3B9s0uljdmJTl5e5fgKbuZeDi40vfOB9WGJZcsQ+evF1KMxj1HA+zt11kB64mhot31Xweoj/BtWnFp9d4hVp9Bhz5koqrpUiCqBhZcU3Gg+oJk2apRoiO5XbSwd7BFpVMyqOFEwMmGda3uHU4X3E1VNDi7SyLB5ozxPP5kdJV8DPlRbLbq3YPmrZCzp8RwQ7eF9J6zfkGuGb8tEZe1zFU17cC96k2i7MITQhZhu83X6+Us91OX90QMe0a/o/XUjFHoX0z/TLCb55OnnKL6+2G1Ib5jcX7ERCWz7xuicoC/bNzXWNsUXQOJtDDk32Rqa3r3VdD+qG/sdsRAFx/tzBipA1B9LbbWdCtfHPPatk8qEkdiT7E6wN416ztx4u1zeoLG37m6Dc4fYVTGkrB8ZwHziA3hzMg1/Cjv5yhSs0RKerU6GmmS2VxMhQCOyAqYeOsbwHiNsMijH8Dy6NVwvpinNOLkpW3ypkjCwTjT0VStdxdTD6kQcJ4EKX5y4GVvTNUBF4ncdQgDx1QamFujAFxzdREGFNeAwK1yZGR1tlaYybehI86tFS9yFqz8VEEa37BVWfneb/cc+S2eZfElYlI2ij7QMBTrAczIfktxjoDkJsQnmPVwQWxUaV3d0StqKDKEW2ZgkFFJT+wKx75zE7uSih1HIshWm9ztJa8WQnOX81bMtARNXtJ2VcR86TbSxP/WRQdz+3Y/K16pFsJPDKUM/VV2SbcsIoyFoOxLP3IzRWXpwBZTEmOZPsM4zTm9v8bY2kwujxuVgH1Ohbf1hEHFN4CRKLxuOa03xtgKRysyVeDfFw9IzyVa4PQQ48QISHSZ0w7LDoyUQlzjXhSFzzwI8qs5GTlgm+6Y+73E/7WMx1lj2iFO0FhSF8xTT9p8cSOJYZ0S596u4zgiGixqJpfKq5RAjSIiNTqFvy/C9J20YU0KVVT2LV2kBZEkEPFSYnBL9FG/pRcFxIAjK/iWx/YhzgTI0Y7hJ6k0BS0yp1V4MrIWxpBBMBOI6k4Q45dQTl44IJOfBMAibkokpNJ1nlc03bP0yuRtjamVuzSmSSKXpFlIsY3ZS0SgWa91FOfDcskjqYr8t6F14oHmLweof+dYRrzGGCL+nHBEDC5IfAm+qOlVTg/WGPipycIFBq5Z8LakwYGd+8pKaIyapCl94RJqL8+QTeEU9ZSvJf+ROEhonEGPolVVLZWuRFRFuWUZZY9XfJHwDO3e7Z5Q+jByR1xvLgf+99Jey2oWLIon2zsGSqInuerEnT7aRLn8na5vTZe0pQWO/HssBbyVkS76dGGmkLVm5n89JW0xiWYfxUnmygjW+NyOaafAHGs0U3SlcS3I5m2hqEsqO02bJkNT5gslUrurOpgJy5cue12SnIbY+Qu1ClmdNHu1V6SPlSIqZhIll7mHrUkEuUmooOVVZDn827l8ShdiDaNglrl806csx/yR4lzWCUOvU6DMELdGTM+TRIS6Kweti8NA1nJxB2ukhJea08EuxfqAh21rJO9hhFNbcnsEaikXR6Md7UTHtbmkeTnfiKE4LIadc8TgfcQhAVByt+VTPrcgtK5UwfTVx/R04nb075OhsloEOibNqWqDk7tDe0VRxxjFvUlPXE3PtqDSyF0fDK4NGSDP1ZZ5vGgmKgpWVXsrTuiTECwdsoHx6szouQzKVVqmQZKqc5MIxetZ6CT2PNbL48QdktkwDVbIiPNmZM4HntJIUAAWu3/+DUIJP9M/DH+HgCJAbAA2/8j/ifmJLK5BlM3o8jGXqrA3ANzgNjUNMnDz0DhYRpuyt8GKRt6jyOCDUUUq0KnP4U5wQQDysXhgHF8hXGIiZyqFllhKT+jYSivGmRt76FPxqediatCBEmxUqPpPeKeKXR+ytUuVDhGBZ1l+sWOhJpMh1dxBM9HCXqPX98/PkRDC7ScCbZNt0LZgTZ98nqeg1vcwjNF8twKJwsWu2iC+j+Q4ILlBfEME6+UXiEzEp+KdjwkGUpnmn7BWoey+RkNJVr9L6aMgwg7UoZpGNMpQRN2pSQa3e0YlLK5JCbza4XQTWSlGCFcawkKgiywMAHsGEaU8W5ZMF7wPrLa5FOM3TxhSjHyL1Or/8lCHY516vESJIsIsuMvM6XZJcDWEAWW6NBVK4giJJeshGgh6+x1ieF24Qtz9WMWVWFGMm0I9j7tPbq/uZWZAiWsTkpQxhneQ5K98H6Kby2GM9GRCd8jv+RSn670LKj9m73DQT7PsQtplRcEY4je8NBJmYv0MWF1EEfjrEVw4odLwohNU0JiO40+UEodGMMzLdBZ7ZlZRpQineqHWD0b8rDZYIdnHq9Sz1moZpJa6jsojhj5Bgvew1VEQKeYESiYxMVG7JXdhjEwvoCfOyKvJCCjcJClchIPRL2HEe5JN8CGP+TPm/mbeFtvWDODgrSO87R2EiFqwiCt08mXSzcZouBc1vPImg9dUWaZu48sNOmdryLdWo+RQ3NFK9We+shO5vxWpAtRJGMkSw4ly8EPZLCg4MURCM3tx0tGwSRXLfh7Gb069OQtFF2Tan3NMma7bPL61NEpyMCJLEjWzp2pN+3fDNbi8dad8iskkNAV7HtGYTBqWofwssnvWxO5DFrtWPIYvLxG8sEly7H2xO9czb0SeVquZSARtCdrXNssErcViYLhxGsimBfo2FxznVKacCCj2hZFXIxIX/ER9m1/WaKd4z4yI5Pb6JWzbgv0qIkoj+9GFQqjIloJD0nEhBAaSyI2bxmvw164QRRxMes3bjSES/Z8jfJXl7ryVNbwxBVece82lFJVovyT6aJR6c/lRtBpYMk25mOLqDU3oYXgnTaEHqmFy6n7b/HVH1pezD9+w7FOn6PXsdxzTUTQdGdV0hOMPxlA9S0VMFDQZA2pRnNlUx9HdrW9GEJw7AdLxFZ9CQVI8aV1NVzxMAAe6AfEIxBYozQfx7QBScgOXPlKbc+RP2z/CHtY1m6ztFLbX0aJ5asARwqyKsXrplCYFOKv3Bw2t7/JW8rnT08dEQcYP+AkAPAReEB+r7NINaJj53iMWCYBKBk7dxj+7eFob6S+fhLxoo10nPbOgNgbyEpr5dG9cQDLRkMVJuRcTYm+tStvuoYgeag1WDisjDHhFPxe5xuC7FUuUkW5eCTjLXW4DCy2RDRkgFXAREJmGEjr9z8ifqW7NTdoGzApiZwgszeHUrSuoYb2Oh2uw8XFdszQkRlbpI5RppZId2vjaaZP7hinPRnHlGkNZ1w8ktFpt0wqzmqzSlMDRm7Iss/YaOjKMY0vHW+ZkLZmSB3wdoGvHqBqIiXGjZz9keP7wNQTbhkEiuHDFULYtrmFBxpM6H1zxu6vDbHQJD7VyuzkX1sr2/zSOZxI6WUgzk1CvIyKcPppe8qUMCdLprySURDLKe1zREL5fYK+KRanAVbsaMnOCBAQeIEEDbh2oJz3XqixHnHgqhIeS4Pe2V74NxCLnjE8tMAqkk98gpMhQVSRzU3ORgUa68+VvteC91Vshz8Jcu+6HSyQhgzTuzS7qiYpQUhYMoW0ZcSo8bA1xsolDB0mCFUXIK0Cr0K+G4YDnAIyywWABvogMqpVoMEJbIX0cgQohIEKBTvOhrT64iNRDayymjyBu4tst2r3ZKdhQ5EqH3Rquxs/fOScrCvi/VkgUc//+DUIJfhO25rguOs18X3xwu5Y7CvxmuYpNaQ6fZNjSXp8rIO5Pl4BP/btnBISMqDWXQquFbs7+brkhEeueqg7X/RaRiwGkPeOmMnAPz3DOBhhQKLEporKyJUnD+A4+2E9C+x7Q41B0tlk5QIBXUG+hgE6cTQBeah1yid4rUZ4liJw7VmppCKvmXGVbh2Q9ciQ+gixDpghV8poDiEia60vocUYgHI+6J1TC5aPRDAGWeMJQYmAm2htjiJ33eX7WrrMtWkSabiWQ4458TgymaRgsX26+sjXZwgDAYmq9Tbn2VunQGiP/iCCGjHaYe9kW2HK632dVlRESGJZrPUjJpzDR1qVhsqLrY1pjtd3a0NArMHNG/CMgLMr1AoMbNbVQ98EOatbJY7EvHnS2fjKWE9Fm1y3gFQ0c1tt8BCL54XcJMUq0p8Yudzpk6lasjQxgTAP7pp9niVwajXmiwcpomTxG5nyIRQqtrI2tIuuVUkbUecPu+vG1s6UMvzkiAAcIZOQUvcd6VUeO/YRtW4wn1eGocnryKcJM7k5kWcPpxl+aQVYivTLJZFiaithzYIFqY01Ize6x8xu3X9Sgan+yj/hdvVNKXMi5F0/d4E5xbCOuESFaLVSFAQicxvfrbK2uCQp8qdDwMEfNz4gQCJ8RhBP0A9kXjoaCPaL8sPNoNCZgLNXUqUXK01RdoOJTlpQiqnRMsn7qaKs3DVnp59pjTPi568XoQofnAU9qA0nJT/EBM9xInjK7VEALwQ001AtYJdLnqgfkzfz0ZmOUv6AUAWA7igxK77d4bKFVRyLn/HLBUhXyn5Nx5dQifMY1C4+J3vkLyFFk0b5YnA18W2WurUuWglr7iJwIEOHwNCguhjc92tFzW//CnPRp5I1fN4Sao5q2gEtou1x9snQrdtDS3ZtmJ07Uqw/SVxs3OBXejCWeMXxfNVX2hxI1RV3O5A2+iV9wEh1NytU2AUH23OXh0Mla6d6t1OrHUqLnQZ/kyqVtwmSdU7JtLnk+Li5PAsZNFwVJrGwN8/1iVdLvuRM7MFEqF46wUKzC9bGORBNSqDpofF9rHYTHxXzHDA2YlgJc65VhRsi34s1B+3Ch+OLF2bsbLq6huiWzb7LzC8HWzwqZZiY45z1YxQpZPqK7nnN6Y1Ir6ltqxxf3IZ+kyb3JUrJz4il7bItQovHFmOUAgZH96E6FXf4+52wP9oTxcXLgtmLdnS9wrzMTxdIXsCt4jXiP3EJPvxup8RWQhVcRvd5BRtnxwYz4FrZbDZPnBoQi/qsI3H1Zhd1v7QNqvxolHuCwyBPGl/sFb7ciOspO0Hi9EUU43tq+pJBI+Z4CAk+G7lzyDKKij3jfUftETeppxiU9Tv4u9BM+JJTDIig7O2vO+MSricUeaRjBzZdls5fpQCts1zripiwPF6Z5UiyNVyFBauuZL1qwJGJBXBW3V/AICOtMQ13G1V2vmmufa27mnnu3G5HrQkcMLxjIq9gnveEXqby26QzMPhppZOI5Kn9KB4NBKz7Qmm/5Bu6Y1GpmfvceQ1j5aw1XIkIMTepfrqs9J2kI0zldjLWy7xMiWZ3TjW7LOgi7WRdQufmMvotCZmbXKLSz83ARGsVtS1BfikTOLlBD/CWjhChf6dHNXeZGJ0er++DokEN4I01b9UM7Y0vGTpTQBWSQZfIrtv20OoGofNl1JM6eJ21e5lTH9dv64pTOEWJaOvLUVd96hN2VxmvCxxtaAU6r2vPl0Q3wpTtlJ7N47Q7pNMNyReSYPrvr16xIsQ+qcyUxbaSQPDxv1YTz+GrKM9ZgzHmN5/maEFpYQ+gZkeOxw4PoJr35qkXToxtiWG+VSUNSpyimk9Lyltjm/6BY7hIogH0iJWqMJxKmd54Keb5giGFXt/Y7xMULUV6PGW4yQmISCZCWPfeDKA3Ox9c8TAq+hvz3UMFRfXjrU7K3Qw2nj9tmB1VwtGaXG65VP3K5vTJkPOnmNlMLgXdXSz0ayvyhYkrknT/sXTVS/ZPvhYrY+qPFNG43h2Bobtp+cVE3oWKZt6gKpjextgdYsKUnxBiOBx3tykLvTMYuZMiKhnaLDQp2on+6Orw2o1bZ7X/xTbk/kx8y1AJ8uVIayyevGOSrRf/+DUIJvFM7ifxz/Zp+WD7J/ya/6XmJoWyKmOva7FxjYUhmYCf3jSqh3CTKXQQRVx008Aij68dhDJLf4ddWSYvdaL79JfcOo/JjkVy25QqDLZyhCJg0yljdkJXqqux23QYbl9CFzRK8DEYVykrKFDMTX5V/L6cGICdiTfFXzItFfl33ZLM/Tx4hLMJm5Rwh3VT7iLIdLB2Tmp4epimSRjRGYIWodX7OKn06rVYzSUbUPQZN0aeb1czwTTUFx3UXQVW7GhdyB8w/ZgWRhZovi/z1lvXyTv04zKEJbJnNe8E8Q13liRzV1pLx34Ei3H66nK4KRkIotNyYP7MPaDrxtisCIe9gY3yFijCPejybaG0Y7inzwahJlphn+51blyiZGq7ISb2W4M9Wo13IuG4V4g6PPZ/b1Pl/74rsmB0QswV5fAVPd1RPIXllL787W5u20967EJ0fks18rxVvme6myfD+5+JlnNpv2Nb/WLR8c/12upn2P4I9irGiXMk7Mvf9/q6ZBS20BO6I+lJvSUv2P4pGaCJUlRKjbBL7Z8t80SYast1m6Mx/f+yf6KqtIgix5C4wd8iCL2mDSfDJKTFn6uYEmF/yEeKa9dWdoSLlDJ0VPHo7rdRTV58WzaipQJ5rwyRUziKd+W0hZklbK0FCs6pgkyOxN7kL5LegEMeX0RJjipIhl64qDakZuxZOkuN9kNHH2TWZ/b3bmEwvNCVRNfLPBrFRTn02Lf10zgCFOFFYLRdzZ3CnBJBx6l+saMKPQ3U2EPYwtvAwki9etWwagmhfF6fmRVl/fCQ+hPUxRuC8gOSWgrRsi5WtISwfqDs05cV9yMPWcEoe0EW6R0ENw/e2Mxz0TNTdWpzrtHSQs1DDZF8N7pgu/3wtPnCPEUmAIRvTpyfQbUVojChRA5KCJyKPB2VbKyxuywFDJlQd0cs7Deii+esHXuiNTYF1i9Cx4Am4Y/XeDy9WDSWWShDA0XnG2dBQBLtcuxhdWCq+v7rJmWE13T3onDmvzyPS1AICVwh+XXylVOwmqaJhUor1nBNswNjL1Woi2Jmol1ffmdWAkYZslxqwouWdVs1a1yc3MovaMj5FiXZnP7E57ReIIf+JUbCUBPjM8Wwnt0ZHJJP/0CEYna47kBbUgWJaS762snzU87ogm+4Ds/ZHfLQfZu1eq+sGgsa8DKZ5TR3DYK/SIX91VtfJpLldrJ30+lk6m3LyOj7mZkm8FiUEy0HMFqKfG+AVadYzuJcz2Ta07h8grEtqFokSjLolWWDZWei7M7YSz3olclxKLd3LAYikb3CFylz7Px2FrSGXFfH3HpREODjPSNHkjHn6GuGHbo55BaQ3xJ+QfJt4LWEAQ4RszbvS0SQE4vNyWJ5V/eHP5tox9nNfwUJBtyQ1BqB5VD1lAoBMlA7luVLaXAju9ltHz6XZBiwxoPiPPHQ9ERFs5K8xUjgJdJmzLt7LosaggjNH/CTy+nIQiY2U/NTz1kSIXot7sncPow1I/HxiuK/I3m1qx418p7Q6W0utd++F4oGkdfk7oAQLaHuI3NJwXLkTnAJAvEXS59fVOstFUkpWykarFmQ80EJsH1PjC3Ww+ICnrhHsHb/y70GwA7g1NiAqIWgGxx7N6+iIRHS7opUzlIPCZ3Wo59l4RqFoj1iVfJODbQt9+Jr5H8msDQK8EWumsbNGqSUn5JMqSkhPU0apF9PeJtXAThMV4QoSAOSR5YLdPPe7UKfFp4OiocsQa1ERWpy2CgU9pXy9m4mwyyABTqXEFECl5E+ClmnxLQxw29HYirOuRHBQ1pZWTj/NxvwweC3MO9baoFyQ+vSynYHJlRS9FMbSxqs4CF5CWzgfgyWsNg7uERpehgxDt7s5VKXlN4Py/4opk5O3LHCVC8osZpa/p5HrVCtupcmQjaMnZhVe6VwVqmlEvsqvK3Ryk2eojIIG58LTNfcHVXPN59yyChFJzIIeKSo2DSoHgRtvzHklsJWoL0WpPKSpfJ/aSzRXwSPOEw8Kp1jakHhqqYPZQ7FftEoaTbRlXF2uu62BWE+WjjcVCMTKS2/6HYUy4mDyyEtaZqkjzvCgmKORHuhltSntfybZyLQUBJcSqKlezfCx00QF/sutBp5aZ0eg7kAlFX/+DUIJ/ZM4MPjZum98FD2t/qc/xnmJSG8TDZv/aBB7wDgvcOe+T6Sg0wt4rQUtrDtH+4YQw9p4iaF81Qs5F6KoE2kTiLlIRMrabFGTWDfsk8zKakwPtJbKWB1Y7EYBPjd0IciGAjalC1NyWWHNMYKCzYWRXLKtgglG81HaVyuxD5T039mj6M9VkOKFe9yWzAlLJjYGqy8F6FBYvWhW6O40npEMUuAaUapVmuxbaNNG4QT066YjWZAhmX13Rh0Qk8Ru1iXbPx05eWim/407N+fRLALt6xuGZVi6zicczzCV9vLawCAknQhOSTieQxo3A3+wrLRrEIcbldTZJAvRBhZgTbvIUU6MmDXxdFzqH4PQdpW1ttuxa9USJxImdiPbyraed+ktl0OVsZPQeBm9lszanENwBRk2nChodF+y1RgG0RgFcMgMgEPB0O2RUnwocPELVAXMXYqtZCZFZS8IbZR9Y2XdaVhHx2GqjL/2jgM0Fn56/iMnbV41kEVQoIxTFyoy3xK6Zdzq7ofqYoIwj4rnUwCpmifjfoDA1YZSum6YhBPWuZHo2KYt+MXKRvjXC1Nq2irumLLZU/CKBchQxpCQyBsCQrBoqfwYmQVf3+PYeCa/kK8ZXFbNh5sIacb9BZ3x9T4/WcLWVcT0oNpr/HIv1z0yHFyGAT1FNRWCBrJdhqgg1W5USmi4MhK56UT/8HfF++hgj6D82jhOWWgtB10E9ovIRJd8qt3HT/9JGp8tKj1ORiqHOsfp60mS4xfklLTBHTLIcv/aKpM9OpjqxSoeophEJ/IpiXyz9C41CkohgL/DixigMyLcp+RzUZ2BeaPkLwwPni5TY8uUKFFxuqd03qYiPdTOaeQKVGhOCxQIjcTbhBV0LZdceo87UYqd+OxBDfktfhPeYT6M0lZcad5ByyoTBqA2CTO1phMPUV8SsgPCNhMIFzk8zloUirq/hJtY99pWfJb+kYlEWz7N/WliHwFtU3knCY3T5hLIJKrSVu6pH4EHLw95tlMTtQoZHCzAz3fnldddujG7Gple5yYPJp2QUeK17bzLE9L4P8xwljcxeKV70s7Pm/d5gyIIcJy5NSvruvlXU6mJZfK08loBPIJ+s/NSF+rbJSwpC4AwUWsT/ZTz9sZ9c7dusV0IOSgsxkUVhNHQgl3hQmo45TMizHTrXUmhCLjFLfYicurykMFSRo9ECWH5tA0eR7PQIoRMVxeVtUNpENSWbO7gSYqflbfoWEXrkyLpNlC/W6zHKiSzaQVwQHyokMs/+2iGF8l96clYanQKu65ViJST5Y4ZO/GhmmZ1EkbiGCjWc6GDHpTw128COQ4njJOFs2xCF9qE6YgleUn1M5XtJVybeMD1uYdKaVjr72trCxEdiAeFDhJwgCHFoSBR12IVCNF5OI/qjyZGCx6pSEbQxMxdR6YGid2IU9eYcamWHqzaV3TYbYnqq7j2ySKMg2KCm/vJM4AsaN+de4tr9K5ZcZZD5JFLTiIIyROn6R5DBBKEyn2Si7BAL8qVNYdHYcmyH9yj4J4F64ZPZL2YpfAyoGbaZRkSlAr0G/tsexXEmg9dP+FKFDTL23XTlIcd8v7tIkr//xNK63BL0/kWwukejt0Wj0W0AQZaEgEkOghqIxV0YYt+KLsIJ/LksW3oEePUtYLTZHk49sgdtAFeQJpGMtyu5PlgkUIYgHZ5iY7nt10YZs+Vz4a8vkexADRc4lTt45ozl9tcd8WpG08PPov0cFZBi00XtPjEF9OiWy7gTZTd1G4I1pIWmMf/NM6UvX2gg9rsx14tTxIvauKW0ep14YWTfJyXyC4z0e689SnkK7p/d41me0LydsVy1IUpkoMDJQBhrM+KohMhrtPxQzucdMiu8FC8CTKX5Sz4K0tLBy8kYt5aobbtwt1HM1NEVmgwxP/+DUIKNtO/SX9YP25/kb+rv7k/tP+weYpdaK+eutxWV+826OV/myI88SHVLwYjkHKVGhi3ypMDGn+dx0AwzY9SyJYV90b94jZ6B2PWjOCG0TsQ8MoEMRJhO5moj5WKvTRfkQy6RB1T2MuiPeUS8q5RdP4QZcDdvbPosKiJTpOLfM4EMSP9taqqShePE/JNpkV64XVXRF6M6hwMJgqXS9l466JFEWo6G6KVAV8Avp19Zpbr3A5UW/KdBU49VWjXW/3NP1iIOPWSAS6mhbp8QqMlJki0AtmoSXWCieDV5z4PmkYP8o8ZjNynScxNOsrxAn403LApLYepIJLeZOUZqTMMTBPoKqZCsRhfajk/f2Me/OO7b3hFwJOQ5u1FIGa7HnNljcQpTpmSHMtVpV1qMJWo2RXK8piirlFKsSllIvX0KzKLqMXxb5EM9cOsbkiZuxLLsh19D3rn1CfVT5dMM+5T+uwTXjpCF/vj8Rdm1HSkm02FW4LlLcmLiKGQ0yw73R7E9hq8WAr4YrE7F4eZHaW7RtWqKmK1SDc+jWpNeW1JWptMJWc0qZwrDM1ImZI0Cp5srWvKFuqeoEgeFoJtORLHtKKZLha1okxOogAD3QAFNAQyClxuwHpGJgDFQRMdiJnIJhZd/0MmQxPUwRodVCykY4lSKrJOYvSrJJ17gp+ToiVmikHAolQZVLcWLFrqMDThAEhdg6Ju44/rkg7q3Rycq95XJzhhhn+fl57Z0tdqZ7G3RoNRGd6+zbJFZGmmuyok8yERe8ovXkPe0ReyN80LwqLYWcu+QfGrxiKlSF/oqYlolweSf90/oy97OfcfHOJrjFpN2kHQBFBMwTSRjb0RIN4KNPxgttgQEpU6PY7Y2lUJdB9JfuApLYiXzzy1viJZanYrCSDc5Ij61gL2GIVrRaaqYaVT/i3RyMbq8N0smLCDKJ5ZByOrHiWmNJvOpoNv3y4QrhcEhqw1gVs44OxYeugXaYkhZiucvWmgjiKfzG2lbKBifbhe+1pRI96vb/UuXsFPsVSKx1WrbdXz9ZuiEOU5WVVz6TNQ6S9oy23pPBDBbKPLKZsRR5f1IixVIeOsS+VE+1YD9AuOQg4LoGTEGC+gpcJB87CtkZgSHWpHmSlibnToIvBoyJRhIhQMV6P/AlVkhQdOXj2zNyScGKVVfBgQLA9nxIKecDril3RQUQ82l0JHEPpKJ2xHbEMFDTcvqv8XIy/VYa1i63nWVCS3ZhKcWsAQcNK88L+A1tnL+iFQ2YoeJ1glUUzcjCBn9MDzAwG4vFOdIsPlqHQ0XkexmpA6ldzWVspRHhxTzvRksclipmOZIIFlQWNZeNM1SuW2zOEKGyNUhRKdJELeCuXxNYRsQO8SasET/iL4KmArZqR/S2QGSkyI4NOEH6Vv+Qk1Ks1v2gjlKSxgtkS4EFo0po/2YRkKJgw8Jqxd1snlG9CokeP1PEYNRHjKNaSfguhICtyTUmQshb8DPiRMJFYMtnbJ5qLwnlPKSlGfPNb+sUmnVt1gnBAUxlQurQwJfZdLNlrkobLYAcZ3KEioy4znmXC/Tem8wIIPpfyzQTG+ZGiKb6ff00qzW+Ue0tlPBOqYkI9lQqZASDDf8jqWNjGnTEYXn8CVsB5zQWKdFRqqrAnEFbwVGbRVSp6XgYgfgBSk41aE8rTI8KBCdos11zLzkY0X4KBTNBLx7e0uwD7eWbeZTnI1+JVBEpFDo+daeCq88EgesbrKCOUDLZqKqSxvRmN6R3ZDQCStKX+Mwp/KW0Y69Zl0ny1SipVKZqn1D10keEjTcn3A2QxMsLLxJYiw51jwhDZRW997JjLaKsl4rLbzaRhQQDgbd1xtbH8vE3EypN//OlDgdgNjxQrtBO1McTukHvprStEnD5mxK5MZGaLVSQtyXLIpjopLCM4SSz6/DXSGfyzN+UQz3V00o+BazOuHHHAl2wM856o9OLjo/7Kwe1yO6XkFZAYOshCIrVbra8dMhu6cDRPXGhxHb5g7IUckFsd2JKyChAdRPMKoPBgOFWiS7Zogr9FypoO0Ehe//g1CCncTgcyDc0UixldHUsfyR/pH2fmJ9GuTFffwQDXDZACx/7PASpk325AhJZaFcxLsnjWgrg4R6ltCmSnd4JDCKtwCCap9474QkzOKWJKOPFTLO4T/z82ypkQjklh9EW7jMRnZIalz66HYT/Y6YqoSrr6DhSiN0H1FMLv/vHwezVrKqubl7NrPwzQltOGWFZyxJ2I5RO+M7ksTMSvBPksjqmFBxOgHq2GVN3tBXRozZrg22eiFsDE62od7Kcn7TdD3cQYtSna0BzZx7FVzvZ/RSPKMQuNbNyEBSH9Cezw6Fhh8n7QIr7mo20iol3ayqbdnayl86ftPZvyUaqHoIhTNs9BPhBBoGkDrWfptzkwhmRoaGzfFPbkowkeLEkOBXLpwoP/mgyrefF5V/mlKz59opbeOsFVmpeQHYEOIptdGFz9gstCuewZoxbUWWtxCzPq5/ao9YdF0RvUJj79gOqJjpRsmXJ6zmmC4i3EPFOEdA9+dbJXCbtI+J1IhzOX8ZTlbQkCCw6tVSFGiUlzsHvTdV4T7qRVcOBCu70AIxwTuvHqInRHvcRVenBJBXDO7LNHVFu0zOCjFcHHXD4kJZIiOqPnoSyMX4XflnMn77nJE4UfUUh+TODNzjY+wn7hPhrqHy1l4oMJQYzM6DDqUyzAtvpa2V3Umc8alpC/jzsmMk+SnXopuRwZKDxkS6t0U80/3ez9m1yHkpFsaymBlXMxTBrNEbZnZP5fAbaU5Nf09HeeXISRG7BYhB7SRxwhKMD3hA9Ws/zJEXBF3lXuqg8k7RY0y+69tY3txdcscDWRPPSypt0hr17Zyeoy7vqf2Io4XY9JPbZeUuLVHKV3lNJz0rStrW5RjCNnRpuZ5KctuK3Rfe5U3R+/nHr4oxbK4kUUH67PG8DUENlTTsC+9IhnI975RlORexxImRe6l5a2wULOS/2i7k3tDX41PcyBo2SPhL2cZ/VhO4SnfzsEPInmFpH/Xo4VHODWJR5py2sP/ZmScPx8j9loVv5cCaWglBK9KL8ff9WZYh5Ue5XS22jzDjSPBJmFGx3caYX7Ze3N75M2xukwnX7bk/2ZHpAudmCeYit1UdTZ7rHh48rPKZse7VEN3YQZNUirTR9RueUdL8PekppPyzJxYdbtTTqsiaIGRo7dXSJYOnraeOmzg6WpxXbE2d+TPi3kljuiNlPGtCGxMJAqe6QTgg2KUZd5jkeTDrbvlUttqB6qIt7sRcKO8zuBulkquU7PqI238y+OotiOYgOX1qNCXpaDk1lx/qRWE7uOq7ME2W+vr0cWiq+cKciUJDH4pHRjMzMY9cb5z6ZO1qu4E0bFn0MGhAh4LVUnWkUpqo3hnbkvLCkdvCBd6pMc/AOGo5nJZ28zGgSG7h9mHWNplOZphPljUkkI9IvlfFVyDCO5ah/clWULEq7Q2JNsuG99uyZfPbynB/B4y0StPNgnhcXc6xnvfMNr3tgFyqC07lrPOswsrJVwxvFq5JC4a27vnDxvhI0jud/lWlyJcrOZYiFraGj+GvvZ3idFJvpWHsnUyesRxzq6kMc3/S+qOkQB4ZSqjrs7dxFJRLMEmxP7mnq3fJ9cHysuWHXv8ym7NN3lOmyKURKP0X8KAsSTGW20lIE6DNlBQsE7loM9WkVJeoodIL9kM7J35dhKbViJWuIZEC+c223BR+dcjl08I1Zgr/fEZJJazAl0Ok+h9NiXgtjWyems6bhWL7tFO9cDlcrPrOIqudskQyZwjnRlc3FIrm3AfDSXZKRawfTh+FImuG2FDKJI8YYdYN6zINX0LeYeI2lcrXVYTq2TqAWeN034kOF8DJlP79dR+VRgkJdX53bwCUeQVWmklNSuhnwMeIDWB8n2V5nZGOEzlUvefmrh0XlWGT8nLHjVk15O1/TNdwiRMtZEzUoKAYbh5WbCxqfk0BxbmF8SbLXUb8FZJIq8sAKpcyeRHqS4j6lJLfFmrcMWw9KqzDmQnUo4y3d7qxdnES6LjDDFmkAqVK1VObqtQkjjnfewlg6981QKekMSe2LpfgowNs9pkkxYVpMVyJ0vxCfUeLq09pOkYNjUeEnpg5cUfx3sLnJBYoUimgb/+DUIKtVK2uzdi+BA4iHh/9+i5iXWsbhkI6u4bd9wYUj9gYROoIEIjGZ8cOfVApF7cu0Clg0NZMl2abpbhRxYpTaY0Z4BQMRzXZ8GhGiSoXReQr+IsVH9FHgEfFLGKLJZlXT6eoChavsbpWocgla/5sULTnEV3Y2baXeCFmlketR9tGDKu0Oam7EJAKBLtUDlawU/E4ceM65OXpoGLgtp+l2MwDY/oXLC1JvhIZceI4bMSJFW0YXBFQz4sfGq15JvRdrvO4+jeYBh8b/W6AbtYIyV73zQuUTsSTOSTYTLqJDqGVqOb49DFPlKL17fWyLPuumd1z5J4SFNdtkxFnjWoSTBnudIBToSHP7lxdLZFX0tF74obupPAJ6C8inDiBwaLWXnj/V47+6gNak4J4c1IGcVoZ/6CkwIbWgWq8kXYYuNcG3K7RcvcTLCXqhWbhU5wEPyQEwh4zt+ctkmNQOmlm6boKy90VggwzzlshVwv3G6E0H389nLEHHTmoA1bLEwKKU21dHYqnn5sZyOuKEIVXZFCzTCq8jJpQWAehDgS8Apl5RCsiaemTG6GTwjYRSO4z5K/0d+Ml/oamSqGNLfhq7MzoMVgrVBvdA+NZiEhcdPk7E8owJGJXP4SDYr/E6j7ZpX6yPtrDdILOLGasVgzVk6ZMzWXQ6J+qE2RGdoQ4v9e7Nit151GuW9o1p6hkPOP2moIye+niB+pnDg1FJIBXBFFoLY1HM0yvLFHkrv3IDx9IF5BTQOgIBIzvqh5hZv4ey7uSOd03ygQiqms4MTKFmpDb9ZRF+FqtdcVehL1UaqxGp0+40NyE3rcL0dfgeE0WJUxtSea/o41KNjC71GQh6yxETZeiD7kbkF/nWqORLSoojJ7MR7jD1UnBqW2VuDgFee0tEfIPadiKjFEv1DLsBCbH8mQrRCLAc4vUtIrJvx/devhrEmkopuVlShtINS5XeCcRJI7MPRGFNfqqSVTXpF62WTx8qmqUFi6/RFjU/VVT8XIfNWQyaGNT5DIBQOaVk3PNk18AO0qaH3yFdkG1rhqr4d44JeymxyH8CQ8xGKed3G7xzQthczL0RYIQuJCWsYpkc/PQrUogFBmHbe4FJBKH/W0OCRGgwgNj7ojTWJ5Xswguzn6wRaOU4bK/OmPpGMJ5KCtRv6dk896yRoqpoGUxnNttho+jbwKIjRpRGvLQYlzBfSZkWCvjkTgsCdnJkJqN0Satg8xaCykl1nuvy3u7nYcTyhBwgwxeZJcvu4Lor5cO3RK6RBd1mOJAn+Vuk4CnYAxIjkk29iOF5ZMoK5SS10/Mi4Wn8VL9H0Cd27Z64iAvmNlWXLOUVChLDCoytET1HkJOu9f/pSL2RdzgxASFWi2PvHKdxZ2S5fh5mlFiPcz9rV7uRdQETpz+JfHbmNkL0uo0hzgM/RAxHVrREcz7KTSo0MGgc4ZJphkDtDYlDBSDnDeKgYUerI24KKe17ig9eRZxLUqNkwsk3tkpRet/Y85nCulDVh0nDgWa51BANZLBJig6qktI7Htiij1UcWvcplFgPgvMnR0PBIvVeVaqtliW2aOjLCyeyU3XnCEUUVuNJkg6pkE72S7BExxB7UiJ0M39WPzkyQ48QIZwCyejx/kjcaCdJen49vNLlQQao1ZTPlVAUJLQk3nhu5AjNgAl54FAslsbVFj/4rV2p18/tbFDObmcZsgckgvLctwS3bXqqY6/OZMuuaYwR1ie5CmoTA6AdS6JwgSqiNwahtPNp8KUK5f6zj7X+fm4fEX98iJlIlDEiqI2+VkQc7t4qyQ+xayxmycADvfDKP7FVHIPHuYpSSAlBDB9g3YOAbtLV8BD/gEJIQf0NI/bhAmCqtwEDrA0/CJPW9GJe+G8TZBdZ0iABRd+JmNKKXFngiDJHTGeN/SEgLiV8f/JMD6Wzdwd7ThILPtm/dBIPyqYbUJ8toQBLEwl6olIvY4zgrIvE8QmUP8o50l15omeDTEOgHma8FsEDcZVjev9tYlX7uRFnWAOMNdfrOEyEjZwi77xgesVCgC/pHG1fmUU+67nlcmdyuSs3RzM3DwwWD2VPrJKjS4T6idCLTm3M725xAk3UFLmnwcJdgjh3/+DUIK9JMFhkXbBj+GAwV9RRBEnLmJfi5XDjsA8A5Xuzg1QKDWGwNitGvFpCyKjR32xqZo4iaMywjv+6mMkNqxvNlyJL/CN6WtGk5NIjzD9Qjmn76sPLNpyuZlv33xclngiFC24CZ/6/VukFDFIdcWBRbXsqXZjJwvrX5n+7FCT1ZjoKJ/Qes/Jw/uK1xMFr4ch1LPIRSllToqqMCrBjrnm1nr6gE78AlkPOm95TEt9BcILMVPyJzE1Knq5tJGQSB/t0IdcDuihun4DQRSZJMqVejyVU1Pc9Fsfzrarb4o0h0wsVFXX/2cQ2wKf+aFwGRt/ORikxXFlvv6p6ZMTCPqbBAGvQyM5KwCuKLELS+rRG3zMBNF2E0e7VsosctrG1qVf+n8f5iBLHXjsClyCrnlmBIYupQlIETYHDZF0yqRNZpyYvwsjC6sUaH/Ta18ovIyCiri9cIWaH3Ql2CS9HxzVdzXGx3ogxJCTH1S2A2vwEU+/vmtwQ7ct1rX5lpEjs7bTfyA6Rhk4ZQHcRwN6ZECRZ/Dd/0WTAVQVIH8cpmkiLgrSNRgl88J0s9ml3xcHo85ZjH1yli1Qg1GZ7KC0Hwj0poEauaqKYyFLLg1q41s4Y+NsqkWULn3QscWIC7EooCmOT4C3UtCHDALxFYbsD6ZJ+HKfLpmHEXXMQ5nDNR5MtZfktIUiXbM10t4eLAZD39W5iC/FNbAZXLPI5oG2IZ1F7iZhFK8Zlp6oKVKMTfr8NJ3zl1iZkSohjiOvjHrS3g0qw8WFROibj1EtKbdS/S1/pVnguODGWtUNOx71zTyKQWSs5y+CJJVNRCCKKHO30WbuCAU5sEe5niHYzyZYk1ecwgr8EckRmPwGitZLpLvetl8d0PLrV9ulSBZ6ZjXoQxPFug9th5l6E/rK3JVzndIxYFFsAmK3ttoyTthNyfA8j2Wae3RAJLsjXdpfNwYwviItDPSh/i1YWx5VhPJl4otCEGNdx7066EI07179PMZLzPIrnyRWAqXO5DGXjGRZ+UiLSxlmKksHutahBIx7DdXZql/g3B8O5BbNMdZUzMZLo3yaUtHiqQLIzRPCM2Ty+YgX5Sc1GQEc4kHaFfnlCWuvJehiqZMYbEVpxvPcmrnCcp06YRRNk9D2j6VrNd+GsTYEIhef4LYn1dhRNKxWBLlosBpcfEbqxEhVERsMle8KMfDL4lx5gqycer9u2IQBWmpfPfWjWrLVTpeuF0oplqghPNk13xOpOIu4i4eCcrak2uPTqJ2lulqVS0v5smZU6W5zEMPIQNqR6xhqOuXmrDnxNdZrJfPXUg/XwRS39EWUKB4HORWDI0kSXz35yXRM/UmJHZyVXAhyNn5hJdFCm2kiY9DVz/qNjpUiUcmku7rw42152r2j6qHPpCQnA83jxehFf9C8Hqt4GAV6QtKAjIF2RwrXjH/eqQ1kpK4MElU+/Zm4Y5CSt+QGEsfbLmXdt3komyXglM7jKxw2D2N9as4UsikYSsvDMOyS8ZWKZJqipOCIZqOTCy/VY7LBi0ogSLLkst3CZyoIhQObY5lGTe2iRJ65KOT+rCYzD/o44P9fdvjf1fUyWjrDop/yNYaGMlG2ZSRriOaC8Lmoj+mx+6r43j24E448vCKfd6HkqihpuRps1SWUEsZxn9iHMWm9IappCkuYI/9NUY3Txphc4BFKRBo67xEIo5RK4sEQEi0GwS0wRpnH2rRdL+Kqq9bem3EPGMXeDQEW0YuLqW9+YkA1c5Q9fhGt1DYFlLRJcIObT8ZfqReQcfCU7PiFipubZ3nJhO/OAC1P/4NQgsx07xr+cS5HjfwuDJ5pfsQeml5il4oi5+b2QZjVxoBEx96AEg+gTCIlIZpxkvLNqTVal1RoctESc48kCc8zOquCuqTzrQKEVAjVfiHnIo1R5Wb52CFjqSDUBKQVwPqYqPf7BSKDWgOpvXWKZOWOuLN4MufUPvgBXfi5OOHyAsm91+aMrgtkpePEhmoiKyWDI+E8ztGMdrvBWVncOyV7ys5pcMSIpAydFCvtGsblz4kc/PEXB458cY7eqsXg24HyD/i4gnch2lpTTruUEp/m9ygTMic1Hoaw7FLZvQgk1Pc/1WaTr/SYPiIPUvH7GyWczevuK+3uLalGJ1rVcwKl+Jszm6rSocldMhP2tHXkLJ0w+XZA4+8auhvPUAwxZzDg2wbILQdEG1sxUMMjJuQEwlFJEUzEkU96I8UsRccecoK19NXL3+Vr1A2p/gndO/rsVXC4vJ8JU/oBDlnX5HcikRUukXYMPmitwRoYioqhGhOM6FEHtZSunQWaIlQ3lWV+4LRCgAsAa49QbsE2hQPCWhYjHiL9Nfle5eFgyCC3wacocTmI8CsUd5cNZYU/XJkQp2Yu8/yi+VtwkOzlCx44EgMD+BQ5EFJkpNFceQhPfxE4VPmXuEwQE1StdTdwllb61iyWxSxKjIagnFhQESDaN/DQANzcKz5xoV0UrBREpqlf7E74c3HQ5oK7zzgziWIHKw/o+kl9yOwo4d1DNV9qbGqwts+0vc9qyy//a8oVhAwx16kVYazz9sg7g1BbUeIPmx2yUWU+9rXrEovSpY9lCYwoo4CfHdCeGagLzd9+xvwtfykx9SUkzypfaCk/8U4P5E7D/0EUaXDIYqNSgItC8sJWrBZMv5q5GA7T1VzQGkz92BiIlXImUO+f/pT8bxjriENJE9NhrjZaAIyuFP6ElgIxv1CBVKg28WmbEBXHCC7MlAh1QEj3eh7Avfn0g7yVPEvmSmnM6FsnqMxkUVXEXvlqmN/2NYUXgt8olYusch9gK+9Cas1w8u6CvPU9AxOw8JgsoB4BR2L/F6mU95lLAruu1NV0aIv+E6TaioNRy5C0D7gL2jmWQqdcrhClwlyI9LKNIuQTIOmohKkEtHL3qQcCK74amUfx4umiUHGYEusObGILWGZ+82l7zIMO4CjbaMATRchTehVbXykibuKZqMswvV20Wa3BVkurqsaQTG6j2I/dNXSJWwwjgHWF5mUbmIjNyODZoahd43+//g4N3F5RYVdqZpo1Ievm76U5vxHMv48k65Q6xm1ho+2Gq6UXLxN9MyR/+aXJZQpGWm5ayqktXGdLDSgoSepIqjwCTjJlDsMwg4Mof9uBdFCMvzpF6NAX86TgRvgJbla6kYb3uRlOYouvJ92T6hUQYQBhbWEhiv3ksBt81/cIeN61kVfJFhmfsn7V97T9aSYlg3nAneFSHw0ZCTCr3ssQshBe6ADqLJosVM2BWSTbx3r6y9aYHGElphQiahfe/BDhVBC1WFOqJTU5Ee9d42Pz/KPicszuTUjO4Eh43O4Yz0aCYaxMeO9zRpOTHVxbZLaKzaazIrUaec34Svd62hri04a2TAFf5aGPItoZb3gERcuxZ3yDHbs0/IguaIqxORqt2mfkoIFKOPCoUecpQdiowzvfkrcfMd/og9inMLk0ojgRHvNCaZGSXvc/mg5FjE+JdjbTTp1MqxfjqT59G3ytVw5wVlM6zP3Ipoiwiss8rBa37c4hRAT7NBIW35LeZfq3BTqg8ywtSteuglRDoJeU4fpVxwuz+PLT0kVH6sFN0QdciLCgaA9xYaw7wGC7EXjQzIeximXtSb3jLTy2bvbGp9ysuqCY8lmQ1PQyn5EMO3fjnDF7UpzX1EKJ6ltf0hEqQFfhIhIM7uxTE5WbkbRL2yP8aJgKQ9YmwqQGH+pdeqvm32/d9V9/bnNx0dTiFhd8Hr9CUToiz1H9/uv6JlTwIfywKXqGMxFNGRF48+lJfShCcEwdxW+2yYStp7kui1x8UsEpeBXiZqOTEkP5kO2lHW1+vfyICEeEp6SExj6G6fYvwm96dcRnzRggiNHL+k3/AyxWuf+wW+mWMGGr/gFpsNov93OFF8TFaESh4idOguMHSv0T9uejJEuKW4xiXKSeo3YwWNZ7pmzQxXlkCtBv/4NQgtwE4edSJDJSUltyT3JK4jDyJ85ib4seRPK9EAvr24Ypc+1QEz5pNoyz2CvuNI2ck3db474T9ZAnYyucVh4EkbzCfSP3qRQSZb84VHWO9tXwouOHOHjgttH8M4VW7lbgInQ/hKb3DkH5UjxkDDSM7CjyoGBZnzNixgnKiqq8ZuCtmWqMdtIExElI0RiiKSI4qsvNqGmJPcAtKD9Jb49wd5vZd2UAq3JoC33TesW7sX+cCJiUepOhs8FcwAzd0+TPd2hGOf0xykurP8MnH41jkFzZg8mM46RV97q66CoHqq3qqiK3MyYdX6ZHWLe2lECnHGRhhdWUbqumuQjrH7N+p4iuEQ+NN7OaBLyNW2Eqg/2b7fWe6q93Au/IQ4dsVz7PZdCo7rOODD1qKdnvK2Lx5vtbIrnxh/RwqTrGdVyc7KMK1ZL1Fq2pJFSwr4inlPMAh1sUk39AzHsKrpfi1WiaLSGnVWi7Or5yjNEiq5Y/8c0LIR2OYKIVodAeuK9JXaLEaBkpxyjzqMEgikdpcwqd6ckEG+ds8yL5Ubu9WMmvNLyn69SS/dJZP8K4cZlEdXqWZItyyngsXnXICpJDdhqnYMMllo2N8xhEk8wt8vLHs14ns6qVrBbMfSd7C2oXDGeFVk45ZkYviC8Wwxtdv0VfnjjSFFlS23TreKjUdHLOCplpxeGrx2h6DrH+eV2jq/PpgtBErR8gw54vlMl03DL+PYIhWAK2FeYRhLXntTDPPrdMlfMY6nK86TeVuGXz9jNvtfZX7vLHG/aqzQ0FYJhWTmOa+QwnQbjRV5uk4i87VsD8uXJEjSA85aJh5ULB6YjRhqIBFS73O89LC1SRWj31/N2o0YU+2Oitvz/fIjMkAeiWiiSzPLclakDWZBUYJAu1LJIWryNbClYib30ajtI2GJ6TI18ha/q85GU3QI6+QvkD/BsCrJqCKygmDpWLyms83hSTOh7TBzqmTvKb+2LcTm0DMnnQT7ZXA3dFCrVFL9uLyF+ke2XEDCNuKDhyiEycS/xuvO4NkekRDs2T3LRzwzWpDqTtu3NQ7/Pkb4RATdWscrTSFErtIOl2/HkEXTZyaE3kTMyOmHmeAFp7NoMLkyQoQzSsxTHRVmI3H9JSfnClokjnuo/YjTUIoYXIiHdbwXPdDJ2omOuZRmYUpQn9FXHbhNXdlb8PAmC68idQT3EBUGUwr7hD5uvsVaPCWPxF4Tu8xJ5g13TZaSGVbjAUDzR1LeGaR3NHEZcE5JesEtoKFIlOKoNL8PcOgdyirVvHHUH6rGDawpkk4x31bu2FiECcXeSsGTk2s1NpceJp6ZzF+NY5L1BBbAoq/KixUq1ut2qmg1pOzvsy5ytZGtC9VLHHqyetQ6aUIdt51wPLVtiIm3ePOYaSSsgr3FybG3rkyNzJzgEfOFCnL9CU62XGiqMoz4u6MGO1lNCVCqwiwkQtN5KnfzseALewdCaUxhXda3765X5jS7XWQKq5pKj0mHsiTc3nRDeYuQVBHcN+T0mHPkY44j6NZK+bk4LWE0EtP18rrRRmPFcSnjeAvfLzo2FSLf+LWXKdJg+Q0yXmCTjMLH640nEEI9Za8UunaaI+SQ1y3FmLV4u50Uav9GbwOj4jUiBiFCFN79Vg3WcaN6PaPxYdr2gi52AMYh7JnC7W8/sU/J/+de0+8ww2za5Nei1FMvXnhGhep2NLP3awwKtUEa9iTZVVEC2ohsQCnD+bllM9JVuP+cCYhlSsi7BTKmd3Ziq5FTj5FFccuM+O+gKm0ICI0uW8DUV9IfFGm0cyRgJAIPYbPZ+POysCHyaZA1Mt7cq8Vg+PF5LbynXqivVDwQiXUCBsycN4W/sm03ZeKtpFMXflXzWovVwe9blXOS4V2swmf+T9ywxKBYgq2mlNFVrgXlrv6B7y+EthywFrs06ksGRXTEj9CCJAo0+YhJL/F3gE8+wQOZOFtfmV7u2rFAiUFakRr2BN8aOYGDtLC9juVYiCCA24RBsaBJbDWeEqAt3AuuVkI0J8uQsJK7SSaLUdvsluYsImg8s44xbJXZ2z1yI0IUfs9AzlTaaCjVXz5Lp7a2J8ffytq6trQJERBjqmpoSPudZhIH//g1CC7JTBSREEIKsQXSAyoDVwPm5iUhvRI4a/QASt8TYIiBkdYDkDqRz6Rso4lb+M4ntJK59heXhivt0xk6t/+oWWS3E4RsWGdOWMpBVFQdS6mSfHzAJMEGzcKSdO2GspmPGo0iXSWWOHYr6Qh/fPQ4RCSXEA6Mm5SZXOWycicSY6rizgyw0uRkvk0NtkzpOeYtK6mhjSAswv0LFLxSuHkT8KAbSLHa6HoAT0RqjI9REgTXcfAzuSaTMQpHNl5WC1tt5Ej09MeaFLhKVy63D7IIbu1Ya17k+vCdhEo8yFYSRrcH2zS6WN2YlOXl7l+Apu5l4OLjS984H1YYllyxD568XUozGPUcD7O3XWQHriaGi3fVfB6iP8G1acWn13iFWn0GHPmSiqulSIKoGFlxTcaD6gmTZqlGiI7ldtLB3sEWlUzKo4UTAyYZ1re4dThfcTVU0OLtLIsHmjPE8/mR0lXwM+VFsturdg+atkLOnxHBDt4X0nrN+Qa4Zvy0Rl7XMVTXtwL3qTaLswhNCFmG7zdfr5Sz3U5f3RAx7Rr+j9dSMUehfTP9MsJvnk6ecovr7YbUhvmNxfsREJbPvG6JygL9s3NdY2xRdA4m0MOTfZGprevdV0P6ob+x2xEAXH+3MGKkDUH0tttZ0K18c89q2TyoSR2JPsTrA3jXrO3Hi7XN6gsbfuboNzh9hVMaSsHxnAfOIDeHMyDX8KO/nKFKzREp6tToaaZLZXEyFAI7ICph46xvAeI2wyKMfwPLo1XC+mKc04uSlbfKmSMLBONPRVK13F1MPqRBwngQpfnLgZW9M1QEXidx1CAPHVBqYW6MAXHN1EQYU14DArXJkZHW2VpjJt6Ejzq0VL3IWrPxUQRrfsFVZ+d5v9xz5LZ5l8SViUjaKPtAwFOsBzMh+S3GOgOQmxCeY9XBBbFRpXd3RK2ooMoRbZmCQUUlP7ArHvnMTu5KKHUciyFab3O0lrxZCc5fzVsy0BE1e0nZVxHzpNtLE/9ZFB3P7dj8rXqkWwk8MpQz9VXZJtywijIWg7Es/cjNFZenAFlMSY5k+wzjNOb2/xtjaTC6PG5WAfU6Ft/WEQcU3gJEovG45rTfG2ApHKzJV4N8XD0jPJVrg9BDjxAhIdJnTDssOjJRCXONeFIXPPAjyqzkZOWCb7pj7vcT/tYzHWWPaIU7QWFIXzFNP2nxxI4lhnRLn3q7jOCIaLGoml8qrlECNIiI1OoW/L8L0nbRhTQpVVPYtXaQFkSQQ8VJicEv0Ub+lFwXEgCMr+JbH9iHOBMjRjuEnqTQFLTKnVXgyshbGkEEwE4jqThDjl1BOXjggk58EwCJuSiSk0nWeVzTds/TK5G2NqZW7NKZJIpekWUixjdlLRKBZr3UU58NyySOpivy3oXXigeYvB6h/51hGvMYYIv6ccEQMLkh8Cb6o6VVOD9YY+KnJwgUGrlnwtqTBgZ37ykpojJqkKX3hEmovz5BN4RT1lK8l/5E4SGicQY+iVVUtla5EVEW5ZRllj1d8kfAM7d7tnlD6MHJHXG8uB/730l7LahYsiifbOwZKoie56sSdPtpEufydrm9Nl7SlBY78eywFvJWRLvp0YaaQtWbmfz0lbTGJZh/FSebKCNb43I5pp8AcazRTdKVxLcjmbaGoSyo7TZsmQ1PmCyVSu6s6mAnLly57XZKchtj5C7UKWZ00e7VXpI+VIipmEiWXuYetSQS5Saig5VVkOfzbuXxKF2INo2CWuXzTpyzH/JHiXNYJQ69ToMwQt0ZMz5NEhLorB62Lw0DWcnEHa6SEl5rTwS7F+oCHbWsk72GEU1tyewRqKRdHox3tRMe1uaR5Od+IoTgshp1zxOB9xCEBUHK35VM+tyC0rlTB9NXH9HTidvTvk6GyWgQ6Js2paoOTu0N7RVHHGMW9SU9cTc+2oNLIXR8Mrg0ZIM/Vlnm8aCYqClZVeytO6JMQLB2ygfHqzOi5DMpVWqZBkqpzkwjF61noJPY81svjxB2S2TANVsiI82Zkzgee0khQAC2T//4NQgvzkz8Mf4eAIkBsADb/yP+J+YksrkGUzejyMZeqsDcA3OA2NQ0ycPPQOFhGm7K3wYpG3qPI4INRRSrQqc/hTnBBAPKxeGAcXyFcYiJnKoWWWEpP6NhKK8aZG3voU/Gp52Jq0IESbFSo+k94p4pdH7K1S5UOEYFnWX6xY6EmkyHV3EEz0cJeo9f3z8+REMLtJwJtk23QtmBNn3yep6DW9zCM0Xy3AonCxa7aIL6P5DgguUF8QwTr5ReITMSn4p2PCQZSmeafsFah7L5GQ0lWv0vpoyDCDtShmkY0ylBE3alJBrd7RiUsrkkJvNrhdBNZKUYIVxrCQqCLLAwAewYRpTxblkwXvA+strkU4zdPGFKMfIvU6v/yUIdjnXq8RIkiwiy4y8zpdklwNYQBZbo0FUriCIkl6yEaCHr7HWJ4XbhC3P1YxZVYUYybQj2Pu09ur+5lZkCJaxOSlDGGd5Dkr3wfopvLYYz0ZEJ3yO/5FKfrvQsqP2bvcNBPs+xC2mVFwRjiN7w0EmZi/QxYXUQR+OsRXDih0vCiE1TQmI7jT5QSh0YwzMt0FntmVlGlCKd6odYPRvysNlgh2cer1LPWahmklrqOyiOGPkGC97DVURAp5gRKJjExUbsld2GMTC+gJ87Iq8kIKNwkKVyEg9EvYcR7kk3wIY/5M+b+Zt4W29YM4OCtI7ztHYSIWrCIK3TyZdLNxmi4FzW88iaD11RZpm7jyw06Z2vIt1aj5FDc0Ur1Z76yE7m/FakC1EkYyRLDiXLwQ9ksKDgxREIze3HS0bBJFct+HsZvTr05C0UXZNqfc0yZrts8vrU0SnIwIksSNbOnak37d8M1uLx1p3yKySQ0BXse0ZhMGpah/Cyye9bE7kMWu1Y8hi8vEbywSXLsfbE71zNvRJ5Wq5lIBG0J2tc2ywStxWJguHEayKYF+jYXHOdUppwIKPaFkVcjEhf8RH2bX9Zop3jPjIjk9volbNuC/SoiSiP70YVCqMiWgkPScSEEBpLIjZvGa/DXrhBFHEx6zduNIRL9nyN8leXuvJU1vDEFV5x7zaUUlWi/JPpolHpz+VG0GlgyTbmY4uoNTehheCdNoQeqYXLqftv8dUfWl7MP37DsU6fo9ex3HNNRNB0Z1XSE4w/GUD1LRUwUNBkDalGc2VTH0d2tb0YQnDsB0vEVn0JBUjxpXU1XPEwAB7oB8QjEFijNB/HtAFJyA5c+Uptz5E/bP8Ie1jWbrO0UttfRonlqwBHCrIqxeumUJgU4q/cHDa3v8lbyudPTx0RBxg/4CQA8BF4QH6vs0g1omPneIxYJgEoGTt3GP7t4WhvpL5+EvGijXSc9s6A2BvISmvl0b1xAMtGQxUm5FxNib61K2+6hiB5qDVYOKyMMeEU/F7nG4LsVS5SRbl4JOMtdbgMLLZENGSAVcBEQmYYSOv3PyJ+pbs1N2gbMCmJnCCzN4dStK6hhvY6Ha7DxcV2zNCRGVukjlGmlkh3a+Nppk/uGKc9GceUaQ1nXDyS0Wm3TCrOarNKUwNGbsiyz9ho6MoxjS8db5mQtmZIHfB2ga8eoGoiJcaNnP2R4/vA1BNuGQSK4cMVQti2uYUHGkzofXPG7q8NsdAkPtXK7ORfWyvb/NI5nEjpZSDOTUK8jIpw+ml7ypQwJ0umvJJREMsp7XNEQvl9gr4pFqcBVuxoyc4IEBB4gQQNuHagnPdeqLEeceCqEh5Lg97ZXvg3EIueMTy0wCqST3yCkyFBVJHNTc5GBRrrz5W+14L3VWyHPwly77odLJCGDNO7NLuqJilBSFgyhbRlxKjxsDXGyiUMHSYIVRcgrQKvQr4bhgOcAjLLBYAG+iAyqlWgwQlshfRyBCiEgQoFO86GtPriI1ENrLKaPIG7i2y3avdkp2FDkSofdGq7Gz985JysK+L9WSAGaP/4NQgwk07bmuC46zXxffHC7ljsK/Ga5ik1pDp9k2NJenysg7k+XgE/9u2cEhIyoNZdCq4Vuzv5uuSER656qDtf9FpGLAaQ946YycA/PcM4GGFAosSmisrIlScP4Dj7YT0L7HtDjUHS2WTlAgFdQb6GATpxNAF5qHXKJ3itRniWInDtWamkIq+ZcZVuHZD1yJD6CLEOmCFXymgOISJrrS+hxRiAcj7onVMLlo9EMAZZ4wlBiYCbaG2OInfd5ftausy1aRJpuJZDjjnxODKZpGCxfbr6yNdnCAMBiar1NufZW6dAaI/+IIIaMdph72RbYcrrfZ1WVERIYlms9SMmnMNHWpWGyoutjWmO13drQ0Cswc0b8IyAsyvUCgxs1tVD3wQ5q1sljsS8edLZ+MpYT0WbXLeAVDRzW23wEIvnhdwkxSrSnxi53OmTqVqyNDGBMA/umn2eJXBqNeaLBymiZPEbmfIhFCq2sja0i65VSRtR5w+768bWzpQy/OSIABwhk5BS9x3pVR479hG1bjCfV4ahyevIpwkzuTmRZw+nGX5pBViK9MslkWJqK2HNggWpjTUjN7rHzG7df1KBqf7KP+F29U0pcyLkXT93gTnFsI64RIVotVIUBCJzG9+tsra4JCnyp0PAwR83PiBAInxGEE/QD2ReOhoI9ovyw82g0JmAs1dSpRcrTVF2g4lOWlCKqdEyyfupoqzcNWenn2mNM+LnrxehCh+cBT2oDSclP8QEz3EieMrtUQAvBDTTUC1gl0ueqB+TN/PRmY5S/oBQBYDuKDErvt3hsoVVHIuf8csFSFfKfk3Hl1CJ8xjULj4ne+QvIUWTRvlicDXxbZa6tS5aCWvuInAgQ4fA0KC6GNz3a0XNb/8Kc9GnkjV83hJqjmraAS2i7XH2ydCt20NLdm2YnTtSrD9JXGzc4Fd6MJZ4xfF81VfaHEjVFXc7kDb6JX3ASHU3K1TYBQfbc5eHQyVrp3q3U6sdSoudBn+TKpW3CZJ1Tsm0ueT4uLk8Cxk0XBUmsbA3z/WJV0u+5EzswUSoXjrBQrML1sY5EE1KoOmh8X2sdhMfFfMcMDZiWAlzrlWFGyLfizUH7cKH44sXZuxsurqG6JbNvsvMLwdbPCplmJjjnPVjFClk+oruec3pjUivqW2rHF/chn6TJvclSsnPiKXtsi1Ci8cWY5QCBkf3oToVd/j7nbA/2hPFxcuC2Yt2dL3CvMxPF0hewK3iNeI/cQk+/G6nxFZCFVxG93kFG2fHBjPgWtlsNk+cGhCL+qwjcfVmF3W/tA2q/GiUe4LDIE8aX+wVvtyI6yk7QeL0RRTje2r6kkEj5ngICT4buXPIMoqKPeN9R+0RN6mnGJT1O/i70Ez4klMMiKDs7a874xKuJxR5pGMHNl2Wzl+lAK2zXOuKmLA8XpnlSLI1XIUFq65kvWrAkYkFcFbdX8AgI60xDXcbVXa+aa59rbuaee7cbketCRwwvGMir2Ce94RepvLbpDMw+Gmlk4jkqf0oHg0ErPtCab/kG7pjUamZ+9x5DWPlrDVciQgxN6l+uqz0naQjTOV2MtbLvEyJZndONbss6CLtZF1C5+Yy+i0JmZtcotLPzcBEaxW1LUF+KRM4uUEP8JaOEKF/p0c1d5kYnR6v74OiQQ3gjTVv1QztjS8ZOlNAFZJBl8iu2/bQ6gah82XUkzp4nbV7mVMf12/rilM4RYlo68tRV33qE3ZXGa8LHG1oBTqva8+XRDfClO2Uns3jtDuk0w3JF5Jg+u+vXrEixD6pzJTFtpJA8PG/VhPP4asoz1mDMeY3n+ZoQWlhD6BmR47HDg+gmvfmqRdOjG2JYb5VJQ1KnKKaT0vKW2Ob/oFjuEiiAfSIlaownEqZ3ngp5vmCIYVe39jvExQtRXo8ZbjJCYhIJkJY994MoDc7H1zxMCr6G/PdQwVF9eOtTsrdDDaeP22YHVXC0ZpcbrlU/crm9MmQ86eY2UwuBd1dLPRrK/KFiSuSdP+xdNVL9k++Fitj6o8U0bjeHYGhu2n5xUTehYpm3qAqmN7G2B1iwpSfEGI4HHe3KQu9Mxi5kyIqGdosNCnaif7o6vDajVtntf/FNuT+THzLUAny5UhrLJ68Y5KJ4f/4NQgxlEzuJ/HP9mn5YPsn/Jr/peYmhbIqY69rsXGNhSGZgJ/eNKqHcJMpdBBFXHTTwCKPrx2EMkt/h11ZJi91ovv0l9w6j8mORXLblCoMtnKEImDTKWN2Qleqq7HbdBhuX0IXNErwMRhXKSsoUMxNflX8vpwYgJ2JN8VfMi0V+Xfdksz9PHiEswmblHCHdVPuIsh0sHZOanh6mKZJGNEZghah1fs4qfTqtVjNJRtQ9Bk3Rp5vVzPBNNQXHdRdBVbsaF3IHzD9mBZGFmi+L/PWW9fJO/TjMoQlsmc17wTxDXeWJHNXWkvHfgSLcfrqcrgpGQii03Jg/sw9oOvG2KwIh72BjfIWKMI96PJtobRjuKfPBqEmWmGf7nVuXKJkarshJvZbgz1ajXci4bhXiDo89n9vU+X/viuyYHRCzBXl8BU93VE8heWUvvztbm7bT3rsQnR+SzXyvFW+Z7qbJ8P7n4mWc2m/Y1v9YtHxz/Xa6mfY/gj2KsaJcyTsy9/3+rpkFLbQE7oj6Um9JS/Y/ikZoIlSVEqNsEvtny3zRJhqy3WbozH9/7J/oqq0iCLHkLjB3yIIvaYNJ8MkpMWfq5gSYX/IR4pr11Z2hIuUMnRU8ejut1FNXnxbNqKlAnmvDJFTOIp35bSFmSVsrQUKzqmCTI7E3uQvkt6AQx5fREmOKkiGXrioNqRm7Fk6S432Q0cfZNZn9vduYTC80JVE18s8GsVFOfTYt/XTOAIU4UVgtF3NncKcEkHHqX6xowo9DdTYQ9jC28DCSL161bBqCaF8Xp+ZFWX98JD6E9TFG4LyA5JaCtGyLla0hLB+oOzTlxX3Iw9ZwSh7QRbpHQQ3D97YzHPRM1N1anOu0dJCzUMNkXw3umC7/fC0+cI8RSYAhG9OnJ9BtRWiMKFEDkoInIo8HZVsrLG7LAUMmVB3RyzsN6KL56wde6I1NgXWL0LHgCbhj9d4PL1YNJZZKEMDRecbZ0FAEu1y7GF1YKr6/usmZYTXdPeicOa/PI9LUAgJXCH5dfKVU7CapomFSivWcE2zA2MvVaiLYmaiXV9+Z1YCRhmyXGrCi5Z1WzVrXJzcyi9oyPkWJdmc/sTntF4gh/4lRsJQE+MzxbCe3Rkckk//QIRidrjuQFtSBYlpLvrayfNTzuiCb7gOz9kd8tB9m7V6r6waCxrwMpnlNHcNgr9Ihf3VW18mkuV2snfT6WTqbcvI6PuZmSbwWJQTLQcwWop8b4BVp1jO4lzPZNrTuHyCsS2oWiRKMuiVZYNlZ6LszthLPeiVyXEot3csBiKRvcIXKXPs/HYWtIZcV8fcelEQ4OM9I0eSMefoa4YdujnkFpDfEn5B8m3gtYQBDhGzNu9LRJATi83JYnlX94c/m2jH2c1/BQkG3JDUGoHlUPWUCgEyUDuW5UtpcCO72W0fPpdkGLDGg+I88dD0REWzkrzFSOAl0mbMu3suixqCCM0f8JPL6chCJjZT81PPWRIhei3uydw+jDUj8fGK4r8jebWrHjXyntDpbS61374XigaR1+TugBAtoe4jc0nBcuROcAkC8RdLn19U6y0VSSlbKRqsWZDzQQmwfU+MLdbD4gKeuEewdv/LvQbADuDU2ICohaAbHHs3r6IhEdLuilTOUg8Jndajn2XhGoWiPWJV8k4NtC334mvkfyawNArwRa6axs0apJSfkkypKSE9TRqkX094m1cBOExXhChIA5JHlgt0897tQp8Wng6KhyxBrURFanLYKBT2lfL2bibDLIAFOpcQUQKXkT4KWafEtDHDb0diKs65EcFDWllZOP83G/DB4Lcw71tqgXJD69LKdgcmVFL0UxtLGqzgIXkJbOB+DJaw2Du4RGl6GDEO3uzlUpeU3g/L/iimTk7cscJULyixmlr+nketUK26lyZCNoydmFV7pXBWqaUS+yq8rdHKTZ6iMggbnwtM19wdVc83n3LIKEUnMgh4pKjYNKgeBG2/MeSWwlagvRak8pKl8n9pLNFfBI84TDwqnWNqQeGqpg9lDsV+0ShpNtGVcXa67rYFYT5aONxUIxMpLb/odhTLiYPLIS1pmqSPO8KCYo5Ee6GW1Ke1/JtnItBQElxKoqV7N8LHTRAX+y60GnlpnR6DuQDoFv/4NQgynUzgw+Nm6b3wUPa3+pz/GeYlIbxMNm/9oEHvAOC9w575PpKDTC3itBS2sO0f7hhDD2niJoXzVCzkXoqgTaROIuUhEytpsUZNYN+yTzMpqTA+0lspYHVjsRgE+N3QhyIYCNqULU3JZYc0xgoLNhZFcsq2CCUbzUdpXK7EPlPTf2aPoz1WQ4oV73JbMCUsmNgarLwXoUFi9aFbo7jSekQxS4BpRqlWa7Fto00bhBPTrpiNZkCGZfXdGHRCTxG7WJds/HTl5aKb/jTs359EsAu3rG4ZlWLrOJxzPMJX28trAICSdCE5JOJ5DGjcDf7CstGsQhxuV1NkkC9EGFmBNu8hRToyYNfF0XOofg9B2lbW227Fr1RInEiZ2I9vKtp536S2XQ5Wxk9B4Gb2WzNqcQ3AFGTacKGh0X7LVGAbRGAVwyAyAQ8HQ7ZFSfChw8QtUBcxdiq1kJkVlLwhtlH1jZd1pWEfHYaqMv/aOAzQWfnr+IydtXjWQRVCgjFMXKjLfErpl3Oruh+pigjCPiudTAKmaJ+N+gMDVhlK6bpiEE9a5kejYpi34xcpG+NcLU2raKu6YstlT8IoFyFDGkJDIGwJCsGip/BiZBV/f49h4Jr+QrxlcVs2Hmwhpxv0FnfH1Pj9ZwtZVxPSg2mv8ci/XPTIcXIYBPUU1FYIGsl2GqCDVblRKaLgyErnpRP/wd8X76GCPoPzaOE5ZaC0HXQT2i8hEl3yq3cdP/0kany0qPU5GKoc6x+nrSZLjF+SUtMEdMshy/9oqkz06mOrFKh6imEQn8imJfLP0LjUKSiGAv8OLGKAzItyn5HNRnYF5o+QvDA+eLlNjy5QoUXG6p3TepiI91M5p5ApUaE4LFAiNxNuEFXQtl1x6jztRip347EEN+S1+E95hPozSVlxp3kHLKhMGoDYJM7WmEw9RXxKyA8I2EwgXOTzOWhSKur+Em1j32lZ8lv6RiURbPs39aWIfAW1TeScJjdPmEsgkqtJW7qkfgQcvD3m2UxO1ChkcLMDPd+eV1126MbsamV7nJg8mnZBR4rXtvMsT0vg/zHCWNzF4pXvSzs+b93mDIghwnLk1K+u6+VdTqYll8rTyWgE8gn6z81IX6tslLCkLgDBRaxP9lPP2xn1zt26xXQg5KCzGRRWE0dCCXeFCajjlMyLMdOtdSaEIuMUt9iJy6vKQwVJGj0QJYfm0DR5Hs9AihExXF5W1Q2kQ1JZs7uBJip+Vt+hYReuTIuk2UL9brMcqJLNpBXBAfKiQyz/7aIYXyX3pyVhqdAq7rlWIlJPljhk78aGaZnUSRuIYKNZzoYMelPDXbwI5DieMk4WzbEIX2oTpiCV5SfUzle0lXJt4wPW5h0ppWOvva2sLER2IB4UOEnCAIcWhIFHXYhUI0Xk4j+qPJkYLHqlIRtDEzF1HpgaJ3YhT15hxqZYerNpXdNhtieqruPbJIoyDYoKb+8kzgCxo3517i2v0rllxlkPkkUtOIgjJE6fpHkMEEoTKfZKLsEAvypU1h0dhybIf3KPgngXrhk9kvZil8DKgZtplGRKUCvQb+2x7FcSaD10/4UoUNMvbddOUhx3y/u0iSv//E0rrcEvT+RbC6R6O3RaPRbQBBloSASQ6CGojFXRhi34ouwgn8uSxbegR49S1gtNkeTj2yB20AV5AmkYy3K7k+WCRQhiAdnmJjue3XRhmz5XPhry+R7EANFziVO3jmjOX21x3xakbTw8+i/RwVkGLTRe0+MQX06JbLuBNlN3UbgjWkhaYx/80zpS9faCD2uzHXi1PEi9q4pbR6nXhhZN8nJfILjPR7rz1KeQrun93jWZ7QvJ2xXLUhSmSgwMlAGGsz4qiEyGu0/FDO5x0yK7wULwJMpflLPgrS0sHLyRi3lqhtu3C3UczU0RWaDoyP/4NQgzmk79Jf1g/bn+Rv6u/uT+0/7B5il1or5663FZX7zbo5X+bIjzxIdUvBiOQcpUaGLfKkwMaf53HQDDNj1LIlhX3Rv3iNnoHY9aM4IbROxDwygQxEmE7maiPlYq9NF+RDLpEHVPYy6I95RLyrlF0/hBlwN29s+iwqIlOk4t8zgQxI/21qqpKF48T8k2mRXrhdVdEXozqHAwmCpdL2XjrokURajobopUBXwC+nX1mluvcDlRb8p0FTj1VaNdb/c0/WIg49ZIBLqaFunxCoyUmSLQC2ahJdYKJ4NXnPg+aRg/yjxmM3KdJzE06yvECfjTcsCkth6kgkt5k5RmpMwxME+gqpkKxGF9qOT9/Yx7847tveEXAk5Dm7UUgZrsec2WNxClOmZIcy1WlXWowlajZFcrymKKuUUqxKWUi9fQrMouoxfFvkQz1w6xuSJm7EsuyHX0PeufUJ9VPl0wz7lP67BNeOkIX++PxF2bUdKSbTYVbguUtyYuIoZDTLDvdHsT2GrxYCvhisTsXh5kdpbtG1aoqYrVINz6Nak15bUlam0wlZzSpnCsMzUiZkjQKnmyta8oW6p6gSB4Wgm05Ese0opkuFrWiTE6iAAPdAAU0BDIKXG7AekYmAMVBEx2ImcgmFl3/QyZDE9TBGh1ULKRjiVIqsk5i9KsknXuCn5OiJWaKQcCiVBlUtxYsWuowNOEASF2Dom7jj+uSDurdHJyr3lcnOGGGf5+XntnS12pnsbdGg1EZ3r7NskVkaaa7KiTzIRF7yi9eQ97RF7I3zQvCothZy75B8avGIqVIX+ipiWiXB5J/3T+jL3s59x8c4muMWk3aQdAEUEzBNJGNvREg3go0/GC22BASlTo9jtjaVQl0H0l+4CktiJfPPLW+IllqdisJINzkiPrWAvYYhWtFpqphpVP+LdHIxurw3SyYsIMonlkHI6seJaY0m86mg2/fLhCuFwSGrDWBWzjg7Fh66BdpiSFmK5y9aaCOIp/MbaVsoGJ9uF77WlEj3q9v9S5ewU+xVIrHVatt1fP1m6IQ5TlZVXPpM1DpL2jLbek8EMFso8spmxFHl/UiLFUh46xL5UT7VgP0C45CDgugZMQYL6ClwkHzsK2RmBIdakeZKWJudOgi8GjIlGEiFAxXo/8CVWSFB05ePbM3JJwYpVV8GBAsD2fEgp5wOuKXdFBRDzaXQkcQ+konbEdsQwUNNy+q/xcjL9VhrWLredZUJLdmEpxawBBw0rzwv4DW2cv6IVDZih4nWCVRTNyMIGf0wPMDAbi8U50iw+WodDReR7GakDqV3NZWylEeHFPO9GSxyWKmY5kggWVBY1l40zVK5bbM4QobI1SFEp0kQt4K5fE1hGxA7xJqwRP+IvgqYCtmpH9LZAZKTIjg04QfpW/5CTUqzW/aCOUpLGC2RLgQWjSmj/ZhGQomDDwmrF3WyeUb0KiR4/U8Rg1EeMo1pJ+C6EgK3JNSZCyFvwM+JEwkVgy2dsnmovCeU8pKUZ881v6xSadW3WCcEBTGVC6tDAl9l0s2WuShstgBxncoSKjLjOeZcL9N6bzAgg+l/LNBMb5kaIpvp9/TSrNb5R7S2U8E6piQj2VCpkBIMN/yOpY2MadMRhefwJWwHnNBYp0VGqqsCcQVvBUZtFVKnpeBiB+AFKTjVoTytMjwoEJ2izXXMvORjRfgoFM0EvHt7S7APt5Zt5lOcjX4lUESkUOj51p4KrzwSB6xusoI5QMtmoqpLG9GY3pHdkNAJK0pf4zCn8pbRjr1mXSfLVKKlUpmqfUPXSR4SNNyfcDZDEywsvEliLDnWPCENlFb33smMtoqyXistvNpGFBAOBt3XG1sfy8TcTKk3/86UOB2A2PFCu0E7UxxO6Qe+mtK0ScPmbErkxkZotVJC3JcsimOiksIzhJLPr8NdIZ/LM35RDPdXTSj4FrM64cccCXbAzznqj04uOj/srB7XI7peQVkBg6yEIitVutrx0yG7pwNE9caHEdvmDshRyQWx3YkrIKEB1E8wqg8GA4VaJLtmiCv0XKmg7Q+TH/+DUINI9OBzINzRSLGV0dSx/JH+kfZ+Yn0a5MV9/BANcNkALH/s8BKmTfbkCElloVzEuyeNaCuDhHqW0KZKd3gkMIq3AIJqn3jvhCTM4pYko48VMs7hP/PzbKmRCOSWH0RbuMxGdkhqXProdhP9jpiqhKuvoOFKI3QfUUwu/+8fB7NWsqq5uXs2s/DNCW04ZYVnLEnYjlE74zuSxMxK8E+SyOqYUHE6AerYZU3e0FdGjNmuDbZ6IWwMTrah3spyftN0PdxBi1KdrQHNnHsVXO9n9FI8oxC41s3IQFIf0J7PDoWGHyftAivuajbSKiXdrKpt2drKXzp+09m/JRqoegiFM2z0E+EEGgaQOtZ+m3OTCGZGhobN8U9uSjCR4sSQ4FcunCg/+aDKt58XlX+aUrPn2ilt46wVWal5AdgQ4im10YXP2Cy0K57BmjFtRZa3ELM+rn9qj1h0XRG9QmPv2A6omOlGyZcnrOaYLiLcQ8U4R0D351slcJu0j4nUiHM5fxlOVtCQILDq1VIUaJSXOwe9N1XhPupFVw4EK7vQAjHBO68eoidEe9xFV6cEkFcM7ss0dUW7TM4KMVwcdcPiQlkiI6o+ehLIxfhd+WcyfvuckThR9RSH5M4M3ONj7CfuE+GuofLWXigwlBjMzoMOpTLMC2+lrZXdSZzxqWkL+POyYyT5Kdeim5HBkoPGRLq3RTzT/d7P2bXIeSkWxrKYGVczFMGs0Rtmdk/l8BtpTk1/T0d55chJEbsFiEHtJHHCEowPeED1az/MkRcEXeVe6qDyTtFjTL7r21je3F1yxwNZE89LKm3SGvXtnJ6jLu+p/Yijhdj0k9tl5S4tUcpXeU0nPStK2tblGMI2dGm5nkpy24rdF97lTdH7+cevijFsriRRQfrs8bwNQQ2VNOwL70iGcj3vlGU5F7HEiZF7qXlrbBQs5L/aLuTe0NfjU9zIGjZI+EvZxn9WE7hKd/OwQ8ieYWkf9ejhUc4NYlHmnLaw/9mZJw/HyP2WhW/lwJpaCUEr0ovx9/1ZliHlR7ldLbaPMONI8EmYUbHdxphftl7c3vkzbG6TCdftuT/ZkekC52YJ5iK3VR1NnuseHjys8pmx7tUQ3dhBk1SKtNH1G55R0vw96Smk/LMnFh1u1NOqyJogZGjt1dIlg6etp46bODpanFdsTZ35M+LeSWO6I2U8a0IbEwkCp7pBOCDYpRl3mOR5MOtu+VS22oHqoi3uxFwo7zO4G6WSq5Ts+ojbfzL46i2I5iA5fWo0JeloOTWXH+pFYTu46rswTZb6+vRxaKr5wpyJQkMfikdGMzMxj1xvnPpk7Wq7gTRsWfQwaECHgtVSdaRSmqjeGduS8sKR28IF3qkxz8A4ajmclnbzMaBIbuH2YdY2mU5mmE+WNSSQj0i+V8VXIMI7lqH9yVZQsSrtDYk2y4b327Jl89vKcH8HjLRK082CeFxdzrGe98w2ve2AXKoLTuWs86zCyslXDG8WrkkLhrbu+cPG+EjSO53+VaXIlys5liIWtoaP4a+9neJ0Um+lYeydTJ6xHHOrqQxzf9L6o6RAHhlKqOuzt3EUlEswSbE/uaerd8n1wfKy5Yde/zKbs03eU6bIpREo/RfwoCxJMZbbSUgToM2UFCwTuWgz1aRUl6ih0gv2Qzsnfl2EptWIla4hkQL5zbbcFH51yOXTwjVmCv98RkklrMCXQ6T6H02JeC2NbJ6azpuFYvu0U71wOVys+s4iq52yRDJnCOdGVzcUiubcB8NJdkpFrB9OH4Uia4bYUMokjxhh1g3rMg1fQt5h4jaVytdVhOrZOoBZ43TfiQ4XwMmU/v11H5VGCQl1fndvAJR5BVaaSU1K6GfAx4gNYHyfZXmdkY4TOVS95+auHReVYZPycseNWTXk7X9M13CJEy1kTNSgoBhuHlZsLGp+TQHFuYXxJstdRvwVkkirywAqlzJ5EepLiPqUkt8WatwxbD0qrMOZCdSjjLd3urF2cRLouMMMWaQCpUrVU5uq1CSOOd97CWDr3zVAp6QxJ7Yul+CjA2z2mSTFhWkxXInS/EJ9R4urT2k6Rg2NR4SemDlxR/HewuckFihSKGzf/4NQg1iEra7N2L4EDiIeH/36LmJdaxuGQjq7ht33BhSP2BhE6ggQiMZnxw59UCkXty7QKWDQ1kyXZpuluFHFilNpjRngFAxHNdnwaEaJKhdF5Cv4ixUf0UeAR8UsYoslmVdPp6gKFq+xulahyCVr/mxQtOcRXdjZtpd4IWaWR61H20YMq7Q5qbsQkAoEu1QOVrBT8Thx4zrk5emgYuC2n6XYzANj+hcsLUm+Ehlx4jhsxIkVbRhcEVDPix8arXkm9F2u87j6N5gGHxv9boBu1gjJXvfNC5ROxJM5JNhMuokOoZWo5vj0MU+UovXt9bIs+66Z3XPknhIU122TEWeNahJMGe50gFOhIc/uXF0tkVfS0Xvihu6k8AnoLyKcOIHBotZeeP9Xjv7qA1qTgnhzUgZxWhn/oKTAhtaBaryRdhi41wbcrtFy9xMsJeqFZuFTnAQ/JATCHjO35y2SY1A6aWbpugrL3RWCDDPOWyFXC/cboTQffz2csQcdOagDVssTAopTbV0diqefmxnI64oQhVdkULNMKryMmlBYB6EOBLwCmXlEKyJp6ZMboZPCNhFI7jPkr/R34yX+hqZKoY0t+GrszOgxWCtUG90D41mISFx0+TsTyjAkYlc/hINiv8TqPtmlfrI+2sN0gs4sZqxWDNWTpkzNZdDon6oTZEZ2hDi/17s2K3XnUa5b2jWnqGQ84/aagjJ76eIH6mcODUUkgFcEUWgtjUczTK8sUeSu/cgPH0gXkFNA6AgEjO+qHmFm/h7Lu5I53TfKBCKqazgxMoWakNv1lEX4Wq11xV6EvVRqrEanT7jQ3ITetwvR1+B4TRYlTG1J5r+jjUo2MLvUZCHrLERNl6IPuRuQX+dao5EtKiiMnsxHuMPVScGpbZW4OAV57S0R8g9p2IqMUS/UMuwEJsfyZCtEIsBzi9S0ism/H916+GsSaSim5WVKG0g1Lld4JxEkjsw9EYU1+qpJVNekXrZZPHyqapQWLr9EWNT9VVPxch81ZDJoY1PkMgFA5pWTc82TXwA7SpoffIV2QbWuGqvh3jgl7KbHIfwJDzEYp53cbvHNC2FzMvRFghC4kJaximRz89CtSiAUGYdt7gUkEof9bQ4JEaDCA2PuiNNYnlezCC7OfrBFo5Thsr86Y+kYwnkoK1G/p2Tz3rJGiqmgZTGc222Gj6NvAoiNGlEa8tBiXMF9JmRYK+OROCwJ2cmQmo3RJq2DzFoLKSXWe6/Le7udhxPKEHCDDF5kly+7guivlw7dErpEF3WY4kCf5W6TgKdgDEiOSTb2I4XlkygrlJLXT8yLhafxUv0fQJ3btnriIC+Y2VZcs5RUKEsMKjK0RPUeQk671/+lIvZF3ODEBIVaLY+8cp3FnZLl+HmaUWI9zP2tXu5F1AROnP4l8duY2QvS6jSHOAz9EDEdWtERzPspNKjQwaBzhkmmGQO0NiUMFIOcN4qBhR6sjbgop7XuKD15FnEtSo2TCyTe2SlF639jzmcK6UNWHScOBZrnUEA1ksEmKDqqS0jse2KKPVRxa9ymUWA+C8ydHQ8Ei9V5Vqq2WJbZo6MsLJ7JTdecIRRRW40mSDqmQTvZLsETHEHtSInQzf1Y/OTJDjxAhnALJ6PH+SNxoJ0l6fj280uVBBqjVlM+VUBQktCTeeG7kCM2ACXngUCyWxtUWP/itXanXz+1sUM5uZxmyBySC8ty3BLdteqpjr85ky65pjBHWJ7kKahMDoB1LonCBKqI3BqG082nwpQrl/rOPtf5+bh8Rf3yImUiUMSKojb5WRBzu3irJD7FrLGbJwAO98Mo/sVUcg8e5ilJICUEMH2Ddg4Bu0tXwEP+AQkhB/Q0j9uECYKq3AQOsDT8Ik9b0Yl74bxNkF1nSIAFF34mY0opcWeCIMkdMZ439ISAuJXx/8kwPpbN3B3tOEgs+2b90Eg/KphtQny2hAEsTCXqiUi9jjOCsi8TxCZQ/yjnSXXmiZ4NMQ6AeZrwWwQNxlWN6/21iVfu5EWdYA4w11+s4TISNnCLvvGB6xUKAL+kcbV+ZRT7rueVyZ3K5KzdHMzcPDBYPZU+skqNLhPqJ0ItObczvbnECTdQUuafBwl2CwaP/4NQg2gUwWGRdsGP4YDBX1FEEScuYl+LlcOOwDwDle7ODVAoNYbA2K0a8WkLIqNHfbGpmjiJozLCO/7qYyQ2rG82XIkv8I3pa0aTk0iPMP1COafvqw8s2nK5mW/ffFyWeCIULbgJn/r9W6QUMUh1xYFFteypdmMnC+tfmf7sUJPVmOgon9B6z8nD+4rXEwWvhyHUs8hFKWVOiqowKsGOuebWevqATvwCWQ86b3lMS30FwgsxU/InMTUqerm0kZBIH+3Qh1wO6KG6fgNBFJkkypV6PJVTU9z0Wx/OtqtvijSHTCxUVdf/ZxDbAp/5oXAZG385GKTFcWW+/qnpkxMI+psEAa9DIzkrAK4osQtL6tEbfMwE0XYTR7tWyixy2sbWpV/6fx/mIEsdeOwKXIKueWYEhi6lCUgRNgcNkXTKpE1mnJi/CyMLqxRof9NrXyi8jIKKuL1whZofdCXYJL0fHNV3NcbHeiDEkJMfVLYDa/ART7++a3BDty3WtfmWkSOzttN/IDpGGThlAdxHA3pkQJFn8N3/RZMBVBUgfxymaSIuCtI1GCXzwnSz2aXfFwejzlmMfXKWLVCDUZnsoLQfCPSmgRq5qopjIUsuDWrjWzhj42yqRZQufdCxxYgLsSigKY5PgLdS0IcMAvEVhuwPpkn4cp8umYcRdcxDmcM1Hky1l+S0hSJdszXS3h4sBkPf1bmIL8U1sBlcs8jmgbYhnUXuJmEUrxmWnqgpUoxN+vw0nfOXWJmRKiGOI6+MetLeDSrDxYVE6JuPUS0pt1L9LX+lWeC44MZa1Q07HvXNPIpBZKznL4IklU1EIIooc7fRZu4IBTmwR7meIdjPJliTV5zCCvwRyRGY/AaK1kuku962Xx3Q8utX26VIFnpmNehDE8W6D22HmXoT+srclXOd0jFgUWwCYre22jJO2E3J8DyPZZp7dEAkuyNd2l83BjC+Ii0M9KH+LVhbHlWE8mXii0IQY13HvTroQjTvXv08xkvM8iufJFYCpc7kMZeMZFn5SItLGWYqSwe61qEEjHsN1dmqX+DcHw7kFs0x1lTMxkujfJpS0eKpAsjNE8IzZPL5iBflJzUZARziQdoV+eUJa68l6GKpkxhsRWnG89yaucJynTphFE2T0PaPpWs134axNgQiF5/gtifV2FE0rFYEuWiwGlx8RurESFURGwyV7wox8MviXHmCrJx6v27YhAFaal899aNastVOl64XSimWqCE82TXfE6k4i7iLh4JytqTa49OonaW6WpVLS/myZlTpbnMQw8hA2pHrGGo65easOfE11msl89dSD9fBFLf0RZQoHgc5FYMjSRJfPfnJdEz9SYkdnJVcCHI2fmEl0UKbaSJj0NXP+o2OlSJRyaS7uvDjbXnavaPqoc+kJCcDzePF6EV/0Lweq3gYBXpC0oCMgXZHCteMf96pDWSkrgwSVT79mbhjkJK35AYSx9suZd23eSibJeCUzuMrHDYPY31qzhSyKRhKy8Mw7JLxlYpkmqKk4Ihmo5MLL9VjssGLSiBIsuSy3cJnKgiFA5tjmUZN7aJEnrko5P6sJjMP+jjg/192+N/V9TJaOsOin/I1hoYyUbZlJGuI5oLwuaiP6bH7qvjePbgTjjy8Ip93oeSqKGm5GmzVJZQSxnGf2Icxab0hqmkKS5gj/01RjdPGmFzgEUpEGjrvEQijlEriwRASLQbBLTBGmcfatF0v4qqr1t6bcQ8Yxd4NARbRi4upb35iQDVzlD1+Ea3UNgWUtElwg5tPxl+pF5Bx8JTs+IWKm5tnecmE784PAO//g1CDeGTvGv5xLkeN/C4Mnml+xB6aXmKXiiLn5vZBmNXGgETH3oASD6BMIiUhmnGS8s2pNVqXVGhy0RJzjyQJzzM6q4K6pPOtAoRUCNV+IecijVHlZvnYIWOpINQEpBXA+pio9/sFIoNaA6m9dYpk5Y64s3gy59Q++AFd+Lk44fICyb3X5oyuC2Sl48SGaiIrJYMj4TzO0Yx2u8FZWdw7JXvKzmlwxIikDJ0UK+0axuXPiRz88RcHjnxxjt6qxeDbgfIP+LiCdyHaWlNOu5QSn+b3KBMyJzUehrDsUtm9CCTU9z/VZpOv9Jg+Ig9S8fsbJZzN6+4r7e4tqUYnWtVzAqX4mzObqtKhyV0yE/a0deQsnTD5dkDj7xq6G89QDDFnMODbBsgtB0QbWzFQwyMm5ATCUUkRTMSRT3ojxSxFxx5ygrX01cvf5WvUDan+Cd07+uxVcLi8nwlT+gEOWdfkdyKRFS6Rdgw+aK3BGhiKiqEaE4zoUQe1lK6dBZoiVDeVZX7gtEKACwBrj1BuwTaFA8JaFiMeIv01+V7l4WDIILfBpyhxOYjwKxR3lw1lhT9cmRCnZi7z/KL5W3CQ7OULHjgSAwP4FDkQUmSk0Vx5CE9/EThU+Ze4TBATVK11N3CWVvrWLJbFLEqMhqCcWFARINo38NAA3NwrPnGhXRSsFESmqV/sTvhzcdDmgrvPODOJYgcrD+j6SX3I7Cjh3UM1X2psarC2z7S9z2rLL/9ryhWEDDHXqRVhrPP2yDuDUFtR4g+bHbJRZT72tesSi9Klj2UJjCijgJ8d0J4ZqAvN337G/C1/KTH1JSTPKl9oKT/xTg/kTsP/QRRpcMhio1KAi0LywlasFky/mrkYDtPVXNAaTP3YGIiVciZQ75/+lPxvGOuIQ0kT02GuNloAjK4U/oSWAjG/UIFUqDbxaZsQFccILsyUCHVASPd6HsC9+fSDvJU8S+ZKaczoWyeozGRRVcRe+WqY3/Y1hReC3yiVi6xyH2Ar70JqzXDy7oK89T0DE7DwmCygHgFHYv8XqZT3mUsCu67U1XRoi/4TpNqKg1HLkLQPuAvaOZZCp1yuEKXCXIj0so0i5BMg6aiEqQS0cvepBwIrvhqZR/Hi6aJQcZgS6w5sYgtYZn7zaXvMgw7gKNtowBNFyFN6FVtfKSJu4pmoyzC9XbRZrcFWS6uqxpBMbqPYj901dIlbDCOAdYXmZRuYiM3I4NmhqF3jf7/+Dg3cXlFhV2pmmjUh6+bvpTm/Ecy/jyTrlDrGbWGj7YarpRcvE30zJH/5pcllCkZablrKqS1cZ0sNKChJ6kiqPAJOMmUOwzCDgyh/24F0UIy/OkXo0BfzpOBG+AluVrqRhve5GU5ii68n3ZPqFRBhAGFtYSGK/eSwG3zX9wh43rWRV8kWGZ+yftX3tP1pJiWDecCd4VIfDRkJMKveyxCyEF7oAOosmixUzYFZJNvHevrL1pgcYSWmFCJqF978EOFUELVYU6olNTkR713jY/P8o+JyzO5NSM7gSHjc7hjPRoJhrEx473NGk5MdXFtktorNprMitRp5zfhK93raGuLThrZMAV/loY8i2hlveARFy7FnfIMduzT8iC5oirE5Gq3aZ+SggUo48KhR5ylB2KjDO9+Stx8x3+iD2KcwuTSiOBEe80JpkZJe9z+aDkWMT4l2NtNOnUyrF+OpPn0bfK1XDnBWUzrM/cimiLCKyzysFrftziFEBPs0Ehbfkt5l+rcFOqDzLC1K166CVEOgl5Th+lXHC7P48tPSRUfqwU3RB1yIsKBoD3FhrDvAYLsReNDMh7GKZe1JveMtPLZu9san3Ky6oJjyWZDU9DKfkQw7d+OcMXtSnNfUQonqW1/SESpAV+EiEgzu7FMTlZuRtEvbI/xomApD1ibCpAYf6l16q+bfb931X39uc3HR1OIWF3wev0JROiLPUf3+6/omVPAh/LApeoYzEU0ZEXjz6Ul9KEJwTB3Fb7bJhK2nuS6LXHxSwSl4FeJmo5MSQ/mQ7aUdbX69/IgIR4SnpITGPobp9i/Cb3p1xGfNGCCI0cv6Tf8DLFa5/7Bb6ZYwYav+AWmw2i/3c4UXxMVoRKHiJ06C4wdK/RP256MkS4pbjGJcpJ6jdjBY1numbNDFeWQBjV//g1CDirTh51IkMlJSW3JPckriMPInzmJvix5E8r0QC+vbhilz7VATPmk2jLPYK+40jZyTd1vjvhP1kCdjK5xWHgSRvMJ9I/epFBJlvzhUdY721fCi44c4eOC20fwzhVbuVuAidD+EpvcOQflSPGQMNIzsKPKgYFmfM2LGCcqKqrxm4K2Zaox20gTESUjRGKIpIjiqy82oaYk9wC0oP0lvj3B3m9l3ZQCrcmgLfdN6xbuxf5wImJR6k6GzwVzADN3T5M93aEY5/THKS6s/wycfjWOQXNmDyYzjpFX3urroKgeqreqqIrczJh1fpkdYt7aUQKccZGGF1ZRuq6a5COsfs36niK4RD403s5oEvI1bYSqD/Zvt9Z7qr3cC78hDh2xXPs9l0Kjus44MPWop2e8rYvHm+1siufGH9HCpOsZ1XJzsowrVkvUWrakkVLCviKeU8wCHWxSTf0DMewqul+LVaJotIadVaLs6vnKM0SKrlj/xzQshHY5gohWh0B64r0ldosRoGSnHKPOowSCKR2lzCp3pyQQb52zzIvlRu71Yya80vKfr1JL90lk/wrhxmUR1epZki3LKeCxedcgKkkN2GqdgwyWWjY3zGESTzC3y8sezXiezqpWsFsx9J3sLahcMZ4VWTjlmRi+ILxbDG12/RV+eONIUWVLbdOt4qNR0cs4KmWnF4avHaHoOsf55XaOr8+mC0EStHyDDni+UyXTcMv49giFYArYV5hGEtee1MM8+t0yV8xjqcrzpN5W4ZfP2M2+19lfu8scb9qrNDQVgmFZOY5r5DCdBuNFXm6TiLztWwPy5ckSNIDzlomHlQsHpiNGGogEVLvc7z0sLVJFaPfX83ajRhT7Y6K2/P98iMyQB6JaKJLM8tyVqQNZkFRgkC7UskhavI1sKViJvfRqO0jYYnpMjXyFr+rzkZTdAjr5C+QP8GwKsmoIrKCYOlYvKazzeFJM6HtMHOqZO8pv7YtxObQMyedBPtlcDd0UKtUUv24vIX6R7ZcQMI24oOHKITJxL/G687g2R6REOzZPctHPDNakOpO27c1Dv8+RvhEBN1axytNIUSu0g6Xb8eQRdNnJoTeRMzI6YeZ4AWns2gwuTJChDNKzFMdFWYjcf0lJ+cKWiSOe6j9iNNQihhciId1vBc90MnaiY65lGZhSlCf0VcduE1d2Vvw8CYLryJ1BPcQFQZTCvuEPm6+xVo8JY/EXhO7zEnmDXdNlpIZVuMBQPNHUt4ZpHc0cRlwTkl6wS2goUiU4qg0vw9w6B3KKtW8cdQfqsYNrCmSTjHfVu7YWIQJxd5KwZOTazU2lx4mnpnMX41jkvUEFsCir8qLFSrW63aqaDWk7O+zLnK1ka0L1UscerJ61DppQh23nXA8tW2Iibd485hpJKyCvcXJsbeuTI3MnOAR84UKcv0JTrZcaKoyjPi7owY7WU0JUKrCLCRC03kqd/Ox4At7B0JpTGFd1rfvrlfmNLtdZAqrmkqPSYeyJNzedEN5i5BUEdw35PSYc+RjjiPo1kr5uTgtYTQS0/XyutFGY8VxKeN4C98vOjYVIt/4tZcp0mD5DTJeYJOMwsfrjScQQj1lrxS6dpoj5JDXLcWYtXi7nRRq/0ZvA6PiNSIGIUIU3v1WDdZxo3o9o/Fh2vaCLnYAxiHsmcLtbz+xT8n/517T7zDDbNrk16LUUy9eeEaF6nY0s/drDAq1QRr2JNlVUQLaiGxAKcP5uWUz0lW4/5wJiGVKyLsFMqZ3dmKrkVOPkUVxy4z476AqbQgIjS5bwNRX0h8UabRzJGAkAg9hs9n487KwIfJpkDUy3tyrxWD48XktvKdeqK9UPBCJdQIGzJw3hb+ybTdl4q2kUxd+VfNai9XB71uVc5LhXazCZ/5P3LDEoFiCraaU0VWuBeWu/oHvL4S2HLAWuzTqSwZFdMSP0IIkCjT5iEkv8XeATz7BA5k4W1+ZXu7asUCJQVqRGvYE3xo5gYO0sL2O5ViIIIDbhEGxoElsNZ4SoC3cC65WQjQny5CwkrtJJotR2+yW5iwiaDyzjjFsldnbPXIjQhR+z0DOVNpoKNVfPkuntrYnx9/K2rq2tAkREGOqamhI+51mgKD/+DUIOaxMFJEQQgqxBdIDKgNXA+bmJSG9Ejhr9ABK3xNgiIGR1gOQOpHPpGyjiVv4zie0krn2F5eGK+3TGTq3/6hZZLcThGxYZ05YykFUVB1LqZJ8fMAkwQbNwpJ07YaymY8ajSJdJZY4divpCH989DhEJJcQDoyblJlc5bJyJxJjquLODLDS5GS+TQ22TOk55i0rqaGNICzC/QsUvFK4eRPwoBtIsdroegBPRGqMj1ESBNdx8DO5JpMxCkc2XlYLW23kSPT0x5oUuEpXLrcPsghu7VhrXuT68J2ESjzIVhJGtwfbNLpY3ZiU5eXuX4Cm7mXg4uNL3zgfVhiWXLEPnrxdSjMY9RwPs7ddZAeuJoaLd9V8HqI/wbVpxafXeIVafQYc+ZKKq6VIgqgYWXFNxoPqCZNmqUaIjuV20sHewRaVTMqjhRMDJhnWt7h1OF9xNVTQ4u0siweaM8Tz+ZHSVfAz5UWy26t2D5q2Qs6fEcEO3hfSes35Brhm/LRGXtcxVNe3AvepNouzCE0IWYbvN1+vlLPdTl/dEDHtGv6P11IxR6F9M/0ywm+eTp5yi+vthtSG+Y3F+xEQls+8bonKAv2zc11jbFF0DibQw5N9kamt691XQ/qhv7HbEQBcf7cwYqQNQfS221nQrXxzz2rZPKhJHYk+xOsDeNes7ceLtc3qCxt+5ug3OH2FUxpKwfGcB84gN4czINfwo7+coUrNESnq1OhppktlcTIUAjsgKmHjrG8B4jbDIox/A8ujVcL6YpzTi5KVt8qZIwsE409FUrXcXUw+pEHCeBCl+cuBlb0zVAReJ3HUIA8dUGphbowBcc3URBhTXgMCtcmRkdbZWmMm3oSPOrRUvchas/FRBGt+wVVn53m/3HPktnmXxJWJSNoo+0DAU6wHMyH5LcY6A5CbEJ5j1cEFsVGld3dEraigyhFtmYJBRSU/sCse+cxO7koodRyLIVpvc7SWvFkJzl/NWzLQETV7SdlXEfOk20sT/1kUHc/t2PyteqRbCTwylDP1Vdkm3LCKMhaDsSz9yM0Vl6cAWUxJjmT7DOM05vb/G2NpMLo8blYB9ToW39YRBxTeAkSi8bjmtN8bYCkcrMlXg3xcPSM8lWuD0EOPECEh0mdMOyw6MlEJc414Uhc88CPKrORk5YJvumPu9xP+1jMdZY9ohTtBYUhfMU0/afHEjiWGdEuferuM4IhosaiaXyquUQI0iIjU6hb8vwvSdtGFNClVU9i1dpAWRJBDxUmJwS/RRv6UXBcSAIyv4lsf2Ic4EyNGO4SepNAUtMqdVeDKyFsaQQTATiOpOEOOXUE5eOCCTnwTAIm5KJKTSdZ5XNN2z9MrkbY2plbs0pkkil6RZSLGN2UtEoFmvdRTnw3LJI6mK/LehdeKB5i8HqH/nWEa8xhgi/pxwRAwuSHwJvqjpVU4P1hj4qcnCBQauWfC2pMGBnfvKSmiMmqQpfeESai/PkE3hFPWUryX/kThIaJxBj6JVVS2VrkRURbllGWWPV3yR8Azt3u2eUPowckdcby4H/vfSXstqFiyKJ9s7BkqiJ7nqxJ0+2kS5/J2ub02XtKUFjvx7LAW8lZEu+nRhppC1ZuZ/PSVtMYlmH8VJ5soI1vjcjmmnwBxrNFN0pXEtyOZtoahLKjtNmyZDU+YLJVK7qzqYCcuXLntdkpyG2PkLtQpZnTR7tVekj5UiKmYSJZe5h61JBLlJqKDlVWQ5/Nu5fEoXYg2jYJa5fNOnLMf8keJc1glDr1OgzBC3RkzPk0SEuisHrYvDQNZycQdrpISXmtPBLsX6gIdtayTvYYRTW3J7BGopF0ejHe1Ex7W5pHk534ihOCyGnXPE4H3EIQFQcrflUz63ILSuVMH01cf0dOJ29O+TobJaBDomzalqg5O7Q3tFUccYxb1JT1xNz7ag0shdHwyuDRkgz9WWebxoJioKVlV7K07okxAsHbKB8erM6LkMylVapkGSqnOTCMXrWegk9jzWy+PEHZLZMA1WyIjzZmTOB57SSFAAAOs//g1CDqlTPwx/h4AiQGwANv/I/4n5iSyuQZTN6PIxl6qwNwDc4DY1DTJw89A4WEabsrfBikbeo8jgg1FFKtCpz+FOcEEA8rF4YBxfIVxiImcqhZZYSk/o2Eorxpkbe+hT8annYmrQgRJsVKj6T3inil0fsrVLlQ4RgWdZfrFjoSaTIdXcQTPRwl6j1/fPz5EQwu0nAm2TbdC2YE2ffJ6noNb3MIzRfLcCicLFrtogvo/kOCC5QXxDBOvlF4hMxKfinY8JBlKZ5p+wVqHsvkZDSVa/S+mjIMIO1KGaRjTKUETdqUkGt3tGJSyuSQm82uF0E1kpRghXGsJCoIssDAB7BhGlPFuWTBe8D6y2uRTjN08YUox8i9Tq//JQh2OderxEiSLCLLjLzOl2SXA1hAFlujQVSuIIiSXrIRoIevsdYnhduELc/VjFlVhRjJtCPY+7T26v7mVmQIlrE5KUMYZ3kOSvfB+im8thjPRkQnfI7/kUp+u9Cyo/Zu9w0E+z7ELaZUXBGOI3vDQSZmL9DFhdRBH46xFcOKHS8KITVNCYjuNPlBKHRjDMy3QWe2ZWUaUIp3qh1g9G/Kw2WCHZx6vUs9ZqGaSWuo7KI4Y+QYL3sNVRECnmBEomMTFRuyV3YYxML6AnzsiryQgo3CQpXISD0S9hxHuSTfAhj/kz5v5m3hbb1gzg4K0jvO0dhIhasIgrdPJl0s3GaLgXNbzyJoPXVFmmbuPLDTpna8i3VqPkUNzRSvVnvrITub8VqQLUSRjJEsOJcvBD2SwoODFEQjN7cdLRsEkVy34exm9OvTkLRRdk2p9zTJmu2zy+tTRKcjAiSxI1s6dqTft3wzW4vHWnfIrJJDQFex7RmEwalqH8LLJ71sTuQxa7VjyGLy8RvLBJcux9sTvXM29EnlarmUgEbQna1zbLBK3FYmC4cRrIpgX6Nhcc51SmnAgo9oWRVyMSF/xEfZtf1mineM+MiOT2+iVs24L9KiJKI/vRhUKoyJaCQ9JxIQQGksiNm8Zr8NeuEEUcTHrN240hEv2fI3yV5e68lTW8MQVXnHvNpRSVaL8k+miUenP5UbQaWDJNuZji6g1N6GF4J02hB6phcup+2/x1R9aXsw/fsOxTp+j17Hcc01E0HRnVdITjD8ZQPUtFTBQ0GQNqUZzZVMfR3a1vRhCcOwHS8RWfQkFSPGldTVc8TAAHugHxCMQWKM0H8e0AUnIDlz5Sm3PkT9s/wh7WNZus7RS219GieWrAEcKsirF66ZQmBTir9wcNre/yVvK509PHREHGD/gJADwEXhAfq+zSDWiY+d4jFgmASgZO3cY/u3haG+kvn4S8aKNdJz2zoDYG8hKa+XRvXEAy0ZDFSbkXE2JvrUrb7qGIHmoNVg4rIwx4RT8XucbguxVLlJFuXgk4y11uAwstkQ0ZIBVwERCZhhI6/c/In6luzU3aBswKYmcILM3h1K0rqGG9jodrsPFxXbM0JEZW6SOUaaWSHdr42mmT+4Ypz0Zx5RpDWdcPJLRabdMKs5qs0pTA0ZuyLLP2GjoyjGNLx1vmZC2Zkgd8HaBrx6gaiIlxo2c/ZHj+8DUE24ZBIrhwxVC2La5hQcaTOh9c8burw2x0CQ+1crs5F9bK9v80jmcSOllIM5NQryMinD6aXvKlDAnS6a8klEQyyntc0RC+X2CvikWpwFW7GjJzggQEHiBBA24dqCc916osR5x4KoSHkuD3tle+DcQi54xPLTAKpJPfIKTIUFUkc1NzkYFGuvPlb7XgvdVbIc/CXLvuh0skIYM07s0u6omKUFIWDKFtGXEqPGwNcbKJQwdJghVFyCtAq9CvhuGA5wCMssFgAb6IDKqVaDBCWyF9HIEKISBCgU7zoa0+uIjUQ2sspo8gbuLbLdq92SnYUORKh90arsbP3zknKwr4v1ZIME///g1CDuiTtua4LjrNfF98cLuWOwr8ZrmKTWkOn2TY0l6fKyDuT5eAT/27ZwSEjKg1l0KrhW7O/m65IRHrnqoO1/0WkYsBpD3jpjJwD89wzgYYUCixKaKysiVJw/gOPthPQvse0ONQdLZZOUCAV1BvoYBOnE0AXmodconeK1GeJYicO1ZqaQir5lxlW4dkPXIkPoIsQ6YIVfKaA4hImutL6HFGIByPuidUwuWj0QwBlnjCUGJgJtobY4id93l+1q6zLVpEmm4lkOOOfE4MpmkYLF9uvrI12cIAwGJqvU259lbp0Boj/4gghox2mHvZFthyut9nVZUREhiWaz1Iyacw0dalYbKi62NaY7Xd2tDQKzBzRvwjICzK9QKDGzW1UPfBDmrWyWOxLx50tn4ylhPRZtct4BUNHNbbfAQi+eF3CTFKtKfGLnc6ZOpWrI0MYEwD+6afZ4lcGo15osHKaJk8RuZ8iEUKrayNrSLrlVJG1HnD7vrxtbOlDL85IgAHCGTkFL3HelVHjv2EbVuMJ9XhqHJ68inCTO5OZFnD6cZfmkFWIr0yyWRYmorYc2CBamNNSM3usfMbt1/UoGp/so/4Xb1TSlzIuRdP3eBOcWwjrhEhWi1UhQEInMb362ytrgkKfKnQ8DBHzc+IEAifEYQT9APZF46Ggj2i/LDzaDQmYCzV1KlFytNUXaDiU5aUIqp0TLJ+6mirNw1Z6efaY0z4uevF6EKH5wFPagNJyU/xATPcSJ4yu1RAC8ENNNQLWCXS56oH5M389GZjlL+gFAFgO4oMSu+3eGyhVUci5/xywVIV8p+TceXUInzGNQuPid75C8hRZNG+WJwNfFtlrq1LloJa+4icCBDh8DQoLoY3PdrRc1v/wpz0aeSNXzeEmqOatoBLaLtcfbJ0K3bQ0t2bZidO1KsP0lcbNzgV3owlnjF8XzVV9ocSNUVdzuQNvolfcBIdTcrVNgFB9tzl4dDJWunerdTqx1Ki50Gf5MqlbcJknVOybS55Pi4uTwLGTRcFSaxsDfP9YlXS77kTOzBRKheOsFCswvWxjkQTUqg6aHxfax2Ex8V8xwwNmJYCXOuVYUbIt+LNQftwofjixdm7Gy6uobols2+y8wvB1s8KmWYmOOc9WMUKWT6iu55zemNSK+pbascX9yGfpMm9yVKyc+Ipe2yLUKLxxZjlAIGR/ehOhV3+PudsD/aE8XFy4LZi3Z0vcK8zE8XSF7AreI14j9xCT78bqfEVkIVXEb3eQUbZ8cGM+Ba2Ww2T5waEIv6rCNx9WYXdb+0Dar8aJR7gsMgTxpf7BW+3IjrKTtB4vRFFON7avqSQSPmeAgJPhu5c8gyioo9431H7RE3qacYlPU7+LvQTPiSUwyIoOztrzvjEq4nFHmkYwc2XZbOX6UArbNc64qYsDxemeVIsjVchQWrrmS9asCRiQVwVt1fwCAjrTENdxtVdr5prn2tu5p57txuR60JHDC8YyKvYJ73hF6m8tukMzD4aaWTiOSp/SgeDQSs+0Jpv+QbumNRqZn73HkNY+WsNVyJCDE3qX66rPSdpCNM5XYy1su8TIlmd041uyzoIu1kXULn5jL6LQmZm1yi0s/NwERrFbUtQX4pEzi5QQ/wlo4QoX+nRzV3mRidHq/vg6JBDeCNNW/VDO2NLxk6U0AVkkGXyK7b9tDqBqHzZdSTOnidtXuZUx/Xb+uKUzhFiWjry1FXfeoTdlcZrwscbWgFOq9rz5dEN8KU7ZSezeO0O6TTDckXkmD6769esSLEPqnMlMW2kkDw8b9WE8/hqyjPWYMx5jef5mhBaWEPoGZHjscOD6Ca9+apF06MbYlhvlUlDUqcoppPS8pbY5v+gWO4SKIB9IiVqjCcSpneeCnm+YIhhV7f2O8TFC1FejxluMkJiEgmQlj33gygNzsfXPEwKvob891DBUX1461Oyt0MNp4/bZgdVcLRmlxuuVT9yub0yZDzp5jZTC4F3V0s9Gsr8oWJK5J0/7F01Uv2T74WK2PqjxTRuN4dgaG7afnFRN6FimbeoCqY3sbYHWLClJ8QYjgcd7cpC70zGLmTIioZ2iw0KdqJ/ujq8NqNW2e1/8U25P5MfMtQCfLlSGssnrxjkmvr//g1CDy3TO4n8c/2aflg+yf8mv+l5iaFsipjr2uxcY2FIZmAn940qodwkyl0EEVcdNPAIo+vHYQyS3+HXVkmL3Wi+/SX3DqPyY5FctuUKgy2coQiYNMpY3ZCV6qrsdt0GG5fQhc0SvAxGFcpKyhQzE1+Vfy+nBiAnYk3xV8yLRX5d92SzP08eISzCZuUcId1U+4iyHSwdk5qeHqYpkkY0RmCFqHV+zip9Oq1WM0lG1D0GTdGnm9XM8E01Bcd1F0FVuxoXcgfMP2YFkYWaL4v89Zb18k79OMyhCWyZzXvBPENd5Ykc1daS8d+BItx+upyuCkZCKLTcmD+zD2g68bYrAiHvYGN8hYowj3o8m2htGO4p88GoSZaYZ/udW5comRquyEm9luDPVqNdyLhuFeIOjz2f29T5f++K7JgdELMFeXwFT3dUTyF5ZS+/O1ubttPeuxCdH5LNfK8Vb5nupsnw/ufiZZzab9jW/1i0fHP9drqZ9j+CPYqxolzJOzL3/f6umQUttATuiPpSb0lL9j+KRmgiVJUSo2wS+2fLfNEmGrLdZujMf3/sn+iqrSIIseQuMHfIgi9pg0nwySkxZ+rmBJhf8hHimvXVnaEi5QydFTx6O63UU1efFs2oqUCea8MkVM4infltIWZJWytBQrOqYJMjsTe5C+S3oBDHl9ESY4qSIZeuKg2pGbsWTpLjfZDRx9k1mf2925hMLzQlUTXyzwaxUU59Ni39dM4AhThRWC0Xc2dwpwSQcepfrGjCj0N1NhD2MLbwMJIvXrVsGoJoXxen5kVZf3wkPoT1MUbgvIDkloK0bIuVrSEsH6g7NOXFfcjD1nBKHtBFukdBDcP3tjMc9EzU3Vqc67R0kLNQw2RfDe6YLv98LT5wjxFJgCEb06cn0G1FaIwoUQOSgicijwdlWyssbssBQyZUHdHLOw3oovnrB17ojU2BdYvQseAJuGP13g8vVg0llkoQwNF5xtnQUAS7XLsYXVgqvr+6yZlhNd096Jw5r88j0tQCAlcIfl18pVTsJqmiYVKK9ZwTbMDYy9VqItiZqJdX35nVgJGGbJcasKLlnVbNWtcnNzKL2jI+RYl2Zz+xOe0XiCH/iVGwlAT4zPFsJ7dGRyST/9AhGJ2uO5AW1IFiWku+trJ81PO6IJvuA7P2R3y0H2btXqvrBoLGvAymeU0dw2Cv0iF/dVbXyaS5Xayd9PpZOpty8jo+5mZJvBYlBMtBzBainxvgFWnWM7iXM9k2tO4fIKxLahaJEoy6JVlg2VnouzO2Es96JXJcSi3dywGIpG9whcpc+z8dha0hlxXx9x6URDg4z0jR5Ix5+hrhh26OeQWkN8SfkHybeC1hAEOEbM270tEkBOLzclieVf3hz+baMfZzX8FCQbckNQageVQ9ZQKATJQO5blS2lwI7vZbR8+l2QYsMaD4jzx0PRERbOSvMVI4CXSZsy7ey6LGoIIzR/wk8vpyEImNlPzU89ZEiF6Le7J3D6MNSPx8YrivyN5taseNfKe0OltLrXfvheKBpHX5O6AEC2h7iNzScFy5E5wCQLxF0ufX1TrLRVJKVspGqxZkPNBCbB9T4wt1sPiAp64R7B2/8u9BsAO4NTYgKiFoBscezevoiER0u6KVM5SDwmd1qOfZeEahaI9YlXyTg20Lffia+R/JrA0CvBFrprGzRqklJ+STKkpIT1NGqRfT3ibVwE4TFeEKEgDkkeWC3Tz3u1CnxaeDoqHLEGtREVqctgoFPaV8vZuJsMsgAU6lxBRApeRPgpZp8S0McNvR2IqzrkRwUNaWVk4/zcb8MHgtzDvW2qBckPr0sp2ByZUUvRTG0sarOAheQls4H4MlrDYO7hEaXoYMQ7e7OVSl5TeD8v+KKZOTtyxwlQvKLGaWv6eR61QrbqXJkI2jJ2YVXulcFappRL7Kryt0cpNnqIyCBufC0zX3B1VzzefcsgoRScyCHikqNg0qB4Ebb8x5JbCVqC9FqTykqXyf2ks0V8EjzhMPCqdY2pB4aqmD2UOxX7RKGk20ZVxdrrutgVhPlo43FQjEyktv+h2FMuJg8shLWmapI87woJijkR7oZbUp7X8m2ci0FASXEqipXs3wsdNEBf7LrQaeWmdHoO5AEPU//g1CD2wTODD42bpvfBQ9rf6nP8Z5iUhvEw2b/2gQe8A4L3Dnvk+koNMLeK0FLaw7R/uGEMPaeImhfNULOReiqBNpE4i5SETK2mxRk1g37JPMympMD7SWylgdWOxGAT43dCHIhgI2pQtTcllhzTGCgs2FkVyyrYIJRvNR2lcrsQ+U9N/Zo+jPVZDihXvclswJSyY2BqsvBehQWL1oVujuNJ6RDFLgGlGqVZrsW2jTRuEE9OumI1mQIZl9d0YdEJPEbtYl2z8dOXlopv+NOzfn0SwC7esbhmVYus4nHM8wlfby2sAgJJ0ITkk4nkMaNwN/sKy0axCHG5XU2SQL0QYWYE27yFFOjJg18XRc6h+D0HaVtbbbsWvVEicSJnYj28q2nnfpLZdDlbGT0HgZvZbM2pxDcAUZNpwoaHRfstUYBtEYBXDIDIBDwdDtkVJ8KHDxC1QFzF2KrWQmRWUvCG2UfWNl3WlYR8dhqoy/9o4DNBZ+ev4jJ21eNZBFUKCMUxcqMt8SumXc6u6H6mKCMI+K51MAqZon436AwNWGUrpumIQT1rmR6NimLfjFykb41wtTatoq7piy2VPwigXIUMaQkMgbAkKwaKn8GJkFX9/j2Hgmv5CvGVxWzYebCGnG/QWd8fU+P1nC1lXE9KDaa/xyL9c9MhxchgE9RTUVggayXYaoINVuVEpouDISuelE//B3xfvoYI+g/No4TlloLQddBPaLyESXfKrdx0//SRqfLSo9TkYqhzrH6etJkuMX5JS0wR0yyHL/2iqTPTqY6sUqHqKYRCfyKYl8s/QuNQpKIYC/w4sYoDMi3Kfkc1GdgXmj5C8MD54uU2PLlChRcbqndN6mIj3UzmnkClRoTgsUCI3E24QVdC2XXHqPO1GKnfjsQQ35LX4T3mE+jNJWXGneQcsqEwagNgkztaYTD1FfErIDwjYTCBc5PM5aFIq6v4SbWPfaVnyW/pGJRFs+zf1pYh8BbVN5JwmN0+YSyCSq0lbuqR+BBy8PebZTE7UKGRwswM9355XXXboxuxqZXucmDyadkFHite28yxPS+D/McJY3MXile9LOz5v3eYMiCHCcuTUr67r5V1OpiWXytPJaATyCfrPzUhfq2yUsKQuAMFFrE/2U8/bGfXO3brFdCDkoLMZFFYTR0IJd4UJqOOUzIsx0611JoQi4xS32InLq8pDBUkaPRAlh+bQNHkez0CKETFcXlbVDaRDUlmzu4EmKn5W36FhF65Mi6TZQv1usxyoks2kFcEB8qJDLP/tohhfJfenJWGp0CruuVYiUk+WOGTvxoZpmdRJG4hgo1nOhgx6U8NdvAjkOJ4yThbNsQhfahOmIJXlJ9TOV7SVcm3jA9bmHSmlY6+9rawsRHYgHhQ4ScIAhxaEgUddiFQjReTiP6o8mRgseqUhG0MTMXUemBondiFPXmHGplh6s2ld02G2J6qu49skijINigpv7yTOALGjfnXuLa/SuWXGWQ+SRS04iCMkTp+keQwQShMp9kouwQC/KlTWHR2HJsh/co+CeBeuGT2S9mKXwMqBm2mUZEpQK9Bv7bHsVxJoPXT/hShQ0y9t105SHHfL+7SJK//8TSutwS9P5FsLpHo7dFo9FtAEGWhIBJDoIaiMVdGGLfii7CCfy5LFt6BHj1LWC02R5OPbIHbQBXkCaRjLcruT5YJFCGIB2eYmO57ddGGbPlc+GvL5HsQA0XOJU7eOaM5fbXHfFqRtPDz6L9HBWQYtNF7T4xBfTolsu4E2U3dRuCNaSFpjH/zTOlL19oIPa7MdeLU8SL2riltHqdeGFk3ycl8guM9HuvPUp5Cu6f3eNZntC8nbFctSFKZKDAyUAYazPiqITIa7T8UM7nHTIrvBQvAkyl+Us+CtLSwcvJGLeWqG27cLdRzNTRFZoBvs//g1CD65Tv0l/WD9uf5G/q7+5P7T/sHmKXWivnrrcVlfvNujlf5siPPEh1S8GI5BylRoYt8qTAxp/ncdAMM2PUsiWFfdG/eI2egdj1ozghtE7EPDKBDESYTuZqI+Vir00X5EMukQdU9jLoj3lEvKuUXT+EGXA3b2z6LCoiU6Ti3zOBDEj/bWqqkoXjxPyTaZFeuF1V0RejOocDCYKl0vZeOuiRRFqOhuilQFfAL6dfWaW69wOVFvynQVOPVVo11v9zT9YiDj1kgEupoW6fEKjJSZItALZqEl1gong1ec+D5pGD/KPGYzcp0nMTTrK8QJ+NNywKS2HqSCS3mTlGakzDEwT6CqmQrEYX2o5P39jHvzju294RcCTkObtRSBmux5zZY3EKU6ZkhzLVaVdajCVqNkVyvKYoq5RSrEpZSL19Csyi6jF8W+RDPXDrG5ImbsSy7IdfQ9659Qn1U+XTDPuU/rsE146Qhf74/EXZtR0pJtNhVuC5S3Ji4ihkNMsO90exPYavFgK+GKxOxeHmR2lu0bVqipitUg3Po1qTXltSVqbTCVnNKmcKwzNSJmSNAqebK1ryhbqnqBIHhaCbTkSx7SimS4WtaJMTqIAA90ABTQEMgpcbsB6RiYAxUETHYiZyCYWXf9DJkMT1MEaHVQspGOJUiqyTmL0qySde4Kfk6IlZopBwKJUGVS3Fixa6jA04QBIXYOibuOP65IO6t0cnKveVyc4YYZ/n5ee2dLXamext0aDURnevs2yRWRpprsqJPMhEXvKL15D3tEXsjfNC8Ki2FnLvkHxq8YipUhf6KmJaJcHkn/dP6Mvezn3Hxzia4xaTdpB0ARQTME0kY29ESDeCjT8YLbYEBKVOj2O2NpVCXQfSX7gKS2Il888tb4iWWp2Kwkg3OSI+tYC9hiFa0WmqmGlU/4t0cjG6vDdLJiwgyieWQcjqx4lpjSbzqaDb98uEK4XBIasNYFbOODsWHroF2mJIWYrnL1poI4in8xtpWygYn24XvtaUSPer2/1Ll7BT7FUisdVq23V8/WbohDlOVlVc+kzUOkvaMtt6TwQwWyjyymbEUeX9SIsVSHjrEvlRPtWA/QLjkIOC6BkxBgvoKXCQfOwrZGYEh1qR5kpYm506CLwaMiUYSIUDFej/wJVZIUHTl49szcknBilVXwYECwPZ8SCnnA64pd0UFEPNpdCRxD6SidsR2xDBQ03L6r/FyMv1WGtYut51lQkt2YSnFrAEHDSvPC/gNbZy/ohUNmKHidYJVFM3IwgZ/TA8wMBuLxTnSLD5ah0NF5HsZqQOpXc1lbKUR4cU870ZLHJYqZjmSCBZUFjWXjTNUrltszhChsjVIUSnSRC3grl8TWEbEDvEmrBE/4i+CpgK2akf0tkBkpMiODThB+lb/kJNSrNb9oI5SksYLZEuBBaNKaP9mEZCiYMPCasXdbJ5RvQqJHj9TxGDUR4yjWkn4LoSArck1JkLIW/Az4kTCRWDLZ2yeai8J5TykpRnzzW/rFJp1bdYJwQFMZULq0MCX2XSzZa5KGy2AHGdyhIqMuM55lwv03pvMCCD6X8s0ExvmRoim+n39NKs1vlHtLZTwTqmJCPZUKmQEgw3/I6ljYxp0xGF5/AlbAec0FinRUaqqwJxBW8FRm0VUqel4GIH4AUpONWhPK0yPCgQnaLNdcy85GNF+CgUzQS8e3tLsA+3lm3mU5yNfiVQRKRQ6PnWngqvPBIHrG6ygjlAy2aiqksb0Zjekd2Q0AkrSl/jMKfyltGOvWZdJ8tUoqVSmap9Q9dJHhI03J9wNkMTLCy8SWIsOdY8IQ2UVvfeyYy2irJeKy282kYUEA4G3dcbWx/LxNxMqTf/zpQ4HYDY8UK7QTtTHE7pB76a0rRJw+ZsSuTGRmi1UkLclyyKY6KSwjOEks+vw10hn8szflEM91dNKPgWszrhxxwJdsDPOeqPTi46P+ysHtcjul5BWQGDrIQiK1W62vHTIbunA0T1xocR2+YOyFHJBbHdiSsgoQHUTzCqDwYDhVoku2aIK/RcqaDtA1+P/4NQg/vk4HMg3NFIsZXR1LH8kf6R9n5ifRrkxX38EA1w2QAsf+zwEqZN9uQISWWhXMS7J41oK4OEepbQpkp3eCQwircAgmqfeO+EJMziliSjjxUyzuE/8/NsqZEI5JYfRFu4zEZ2SGpc+uh2E/2OmKqEq6+g4UojdB9RTC7/7x8Hs1ayqrm5ezaz8M0JbThlhWcsSdiOUTvjO5LEzErwT5LI6phQcToB6thlTd7QV0aM2a4NtnohbAxOtqHeynJ+03Q93EGLUp2tAc2cexVc72f0UjyjELjWzchAUh/Qns8OhYYfJ+0CK+5qNtIqJd2sqm3Z2spfOn7T2b8lGqh6CIUzbPQT4QQaBpA61n6bc5MIZkaGhs3xT25KMJHixJDgVy6cKD/5oMq3nxeVf5pSs+faKW3jrBVZqXkB2BDiKbXRhc/YLLQrnsGaMW1FlrcQsz6uf2qPWHRdEb1CY+/YDqiY6UbJlyes5pguItxDxThHQPfnWyVwm7SPidSIczl/GU5W0JAgsOrVUhRolJc7B703VeE+6kVXDgQru9ACMcE7rx6iJ0R73EVXpwSQVwzuyzR1RbtMzgoxXBx1w+JCWSIjqj56EsjF+F35ZzJ++5yROFH1FIfkzgzc42PsJ+4T4a6h8tZeKDCUGMzOgw6lMswLb6Wtld1JnPGpaQv487JjJPkp16KbkcGSg8ZEurdFPNP93s/Ztch5KRbGspgZVzMUwazRG2Z2T+XwG2lOTX9PR3nlyEkRuwWIQe0kccISjA94QPVrP8yRFwRd5V7qoPJO0WNMvuvbWN7cXXLHA1kTz0sqbdIa9e2cnqMu76n9iKOF2PST22XlLi1Ryld5TSc9K0ra1uUYwjZ0abmeSnLbit0X3uVN0fv5x6+KMWyuJFFB+uzxvA1BDZU07AvvSIZyPe+UZTkXscSJkXupeWtsFCzkv9ou5N7Q1+NT3MgaNkj4S9nGf1YTuEp387BDyJ5haR/16OFRzg1iUeactrD/2ZknD8fI/ZaFb+XAmloJQSvSi/H3/VmWIeVHuV0tto8w40jwSZhRsd3GmF+2Xtze+TNsbpMJ1+25P9mR6QLnZgnmIrdVHU2e6x4ePKzymbHu1RDd2EGTVIq00fUbnlHS/D3pKaT8sycWHW7U06rImiBkaO3V0iWDp62njps4OlqcV2xNnfkz4t5JY7ojZTxrQhsTCQKnukE4INilGXeY5Hkw6275VLbageqiLe7EXCjvM7gbpZKrlOz6iNt/MvjqLYjmIDl9ajQl6Wg5NZcf6kVhO7jquzBNlvr69HFoqvnCnIlCQx+KR0YzMzGPXG+c+mTtaruBNGxZ9DBoQIeC1VJ1pFKaqN4Z25LywpHbwgXeqTHPwDhqOZyWdvMxoEhu4fZh1jaZTmaYT5Y1JJCPSL5XxVcgwjuWof3JVlCxKu0NiTbLhvfbsmXz28pwfweMtErTzYJ4XF3OsZ73zDa97YBcqgtO5azzrMLKyVcMbxauSQuGtu75w8b4SNI7nf5VpciXKzmWIha2ho/hr72d4nRSb6Vh7J1MnrEcc6upDHN/0vqjpEAeGUqo67O3cRSUSzBJsT+5p6t3yfXB8rLlh17/MpuzTd5TpsilESj9F/CgLEkxlttJSBOgzZQULBO5aDPVpFSXqKHSC/ZDOyd+XYSm1YiVriGRAvnNttwUfnXI5dPCNWYK/3xGSSWswJdDpPofTYl4LY1snprOm4Vi+7RTvXA5XKz6ziKrnbJEMmcI50ZXNxSK5twHw0l2SkWsH04fhSJrhthQyiSPGGHWDesyDV9C3mHiNpXK11WE6tk6gFnjdN+JDhfAyZT+/XUflUYJCXV+d28AlHkFVppJTUroZ8DHiA1gfJ9leZ2RjhM5VL3n5q4dF5Vhk/Jyx41ZNeTtf0zXcIkTLWRM1KCgGG4eVmwsan5NAcW5hfEmy11G/BWSSKvLACqXMnkR6kuI+pSS3xZq3DFsPSqsw5kJ1KOMt3e6sXZxEui4wwxZpAKlStVTm6rUJI4533sJYOvfNUCnpDEnti6X4KMDbPaZJMWFaTFcidL8Qn1Hi6tPaTpGDY1HhJ6YOXFH8d7C5yQWKFIo10//g1CEDEStrs3YvgQOIh4f/fouYl1rG4ZCOruG3fcGFI/YGETqCBCIxmfHDn1QKRe3LtApYNDWTJdmm6W4UcWKU2mNGeAUDEc12fBoRokqF0XkK/iLFR/RR4BHxSxiiyWZV0+nqAoWr7G6VqHIJWv+bFC05xFd2Nm2l3ghZpZHrUfbRgyrtDmpuxCQCgS7VA5WsFPxOHHjOuTl6aBi4LafpdjMA2P6FywtSb4SGXHiOGzEiRVtGFwRUM+LHxqteSb0Xa7zuPo3mAYfG/1ugG7WCMle980LlE7Ekzkk2Ey6iQ6hlajm+PQxT5Si9e31siz7rpndc+SeEhTXbZMRZ41qEkwZ7nSAU6Ehz+5cXS2RV9LRe+KG7qTwCegvIpw4gcGi1l54/1eO/uoDWpOCeHNSBnFaGf+gpMCG1oFqvJF2GLjXBtyu0XL3Eywl6oVm4VOcBD8kBMIeM7fnLZJjUDppZum6CsvdFYIMM85bIVcL9xuhNB9/PZyxBx05qANWyxMCilNtXR2Kp5+bGcjrihCFV2RQs0wqvIyaUFgHoQ4EvAKZeUQrImnpkxuhk8I2EUjuM+Sv9HfjJf6GpkqhjS34auzM6DFYK1Qb3QPjWYhIXHT5OxPKMCRiVz+Eg2K/xOo+2aV+sj7aw3SCzixmrFYM1ZOmTM1l0OifqhNkRnaEOL/XuzYrdedRrlvaNaeoZDzj9pqCMnvp4gfqZw4NRSSAVwRRaC2NRzNMryxR5K79yA8fSBeQU0DoCASM76oeYWb+Hsu7kjndN8oEIqprODEyhZqQ2/WURfharXXFXoS9VGqsRqdPuNDchN63C9HX4HhNFiVMbUnmv6ONSjYwu9RkIessRE2Xog+5G5Bf51qjkS0qKIyezEe4w9VJwaltlbg4BXntLRHyD2nYioxRL9Qy7AQmx/JkK0QiwHOL1LSKyb8f3Xr4axJpKKblZUobSDUuV3gnESSOzD0RhTX6qklU16Retlk8fKpqlBYuv0RY1P1VU/FyHzVkMmhjU+QyAUDmlZNzzZNfADtKmh98hXZBta4aq+HeOCXspsch/AkPMRinndxu8c0LYXMy9EWCELiQlrGKZHPz0K1KIBQZh23uBSQSh/1tDgkRoMIDY+6I01ieV7MILs5+sEWjlOGyvzpj6RjCeSgrUb+nZPPeskaKqaBlMZzbbYaPo28CiI0aURry0GJcwX0mZFgr45E4LAnZyZCajdEmrYPMWgspJdZ7r8t7u52HE8oQcIMMXmSXL7uC6K+XDt0SukQXdZjiQJ/lbpOAp2AMSI5JNvYjheWTKCuUktdPzIuFp/FS/R9Andu2euIgL5jZVlyzlFQoSwwqMrRE9R5CTrvX/6Ui9kXc4MQEhVotj7xyncWdkuX4eZpRYj3M/a1e7kXUBE6c/iXx25jZC9LqNIc4DP0QMR1a0RHM+yk0qNDBoHOGSaYZA7Q2JQwUg5w3ioGFHqyNuCinte4oPXkWcS1KjZMLJN7ZKUXrf2POZwrpQ1YdJw4FmudQQDWSwSYoOqpLSOx7Yoo9VHFr3KZRYD4LzJ0dDwSL1XlWqrZYltmjoywsnslN15whFFFbjSZIOqZBO9kuwRMcQe1IidDN/Vj85MkOPECGcAsno8f5I3GgnSXp+PbzS5UEGqNWUz5VQFCS0JN54buQIzYAJeeBQLJbG1RY/+K1dqdfP7WxQzm5nGbIHJILy3LcEt216qmOvzmTLrmmMEdYnuQpqEwOgHUuicIEqojcGobTzafClCuX+s4+1/n5uHxF/fIiZSJQxIqiNvlZEHO7eKskPsWssZsnAA73wyj+xVRyDx7mKUkgJQQwfYN2DgG7S1fAQ/4BCSEH9DSP24QJgqrcBA6wNPwiT1vRiXvhvE2QXWdIgAUXfiZjSilxZ4IgyR0xnjf0hIC4lfH/yTA+ls3cHe04SCz7Zv3QSD8qmG1CfLaEASxMJeqJSL2OM4KyLxPEJlD/KOdJdeaJng0xDoB5mvBbBA3GVY3r/bWJV+7kRZ1gDjDXX6zhMhI2cIu+8YHrFQoAv6RxtX5lFPuu55XJncrkrN0czNw8MFg9lT6ySo0uE+onQi05tzO9ucQJN1BS5p8HCXYGR1//g1CEHDTBYZF2wY/hgMFfUUQRJy5iX4uVw47APAOV7s4NUCg1hsDYrRrxaQsio0d9samaOImjMsI7/upjJDasbzZciS/wjelrRpOTSI8w/UI5p++rDyzacrmZb998XJZ4IhQtuAmf+v1bpBQxSHXFgUW17Kl2YycL61+Z/uxQk9WY6Cif0HrPycP7itcTBa+HIdSzyEUpZU6KqjAqwY655tZ6+oBO/AJZDzpveUxLfQXCCzFT8icxNSp6ubSRkEgf7dCHXA7oobp+A0EUmSTKlXo8lVNT3PRbH862q2+KNIdMLFRV1/9nENsCn/mhcBkbfzkYpMVxZb7+qemTEwj6mwQBr0MjOSsAriixC0vq0Rt8zATRdhNHu1bKLHLaxtalX/p/H+YgSx147Apcgq55ZgSGLqUJSBE2Bw2RdMqkTWacmL8LIwurFGh/02tfKLyMgoq4vXCFmh90JdgkvR8c1Xc1xsd6IMSQkx9UtgNr8BFPv75rcEO3Lda1+ZaRI7O2038gOkYZOGUB3EcDemRAkWfw3f9FkwFUFSB/HKZpIi4K0jUYJfPCdLPZpd8XB6POWYx9cpYtUINRmeygtB8I9KaBGrmqimMhSy4NauNbOGPjbKpFlC590LHFiAuxKKApjk+At1LQhwwC8RWG7A+mSfhyny6ZhxF1zEOZwzUeTLWX5LSFIl2zNdLeHiwGQ9/VuYgvxTWwGVyzyOaBtiGdRe4mYRSvGZaeqClSjE36/DSd85dYmZEqIY4jr4x60t4NKsPFhUTom49RLSm3Uv0tf6VZ4LjgxlrVDTse9c08ikFkrOcvgiSVTUQgiihzt9Fm7ggFObBHuZ4h2M8mWJNXnMIK/BHJEZj8BorWS6S73rZfHdDy61fbpUgWemY16EMTxboPbYeZehP6ytyVc53SMWBRbAJit7baMk7YTcnwPI9lmnt0QCS7I13aXzcGML4iLQz0of4tWFseVYTyZeKLQhBjXce9OuhCNO9e/TzGS8zyK58kVgKlzuQxl4xkWflIi0sZZipLB7rWoQSMew3V2apf4NwfDuQWzTHWVMzGS6N8mlLR4qkCyM0TwjNk8vmIF+UnNRkBHOJB2hX55QlrryXoYqmTGGxFacbz3Jq5wnKdOmEUTZPQ9o+lazXfhrE2BCIXn+C2J9XYUTSsVgS5aLAaXHxG6sRIVREbDJXvCjHwy+JceYKsnHq/btiEAVpqXz31o1qy1U6XrhdKKZaoITzZNd8TqTiLuIuHgnK2pNrj06idpbpalUtL+bJmVOlucxDDyEDakesYajrl5qw58TXWayXz11IP18EUt/RFlCgeBzkVgyNJEl89+cl0TP1JiR2clVwIcjZ+YSXRQptpImPQ1c/6jY6VIlHJpLu68ONtedq9o+qhz6QkJwPN48XoRX/QvB6reBgFekLSgIyBdkcK14x/3qkNZKSuDBJVPv2ZuGOQkrfkBhLH2y5l3bd5KJsl4JTO4yscNg9jfWrOFLIpGErLwzDskvGVimSaoqTgiGajkwsv1WOywYtKIEiy5LLdwmcqCIUDm2OZRk3tokSeuSjk/qwmMw/6OOD/X3b439X1Mlo6w6Kf8jWGhjJRtmUka4jmgvC5qI/psfuq+N49uBOOPLwin3eh5KooabkabNUllBLGcZ/YhzFpvSGqaQpLmCP/TVGN08aYXOARSkQaOu8RCKOUSuLBEBItBsEtMEaZx9q0XS/iqqvW3ptxDxjF3g0BFtGLi6lvfmJANXOUPX4RrdQ2BZS0SXCDm0/GX6kXkHHwlOz4hYqbm2d5yYTvzg9U//+DUIQspO8a/nEuR438LgyeaX7EHppeYpeKIufm9kGY1caARMfegBIPoEwiJSGacZLyzak1WpdUaHLREnOPJAnPMzqrgrqk860ChFQI1X4h5yKNUeVm+dghY6kg1ASkFcD6mKj3+wUig1oDqb11imTljrizeDLn1D74AV34uTjh8gLJvdfmjK4LZKXjxIZqIislgyPhPM7RjHa7wVlZ3Dsle8rOaXDEiKQMnRQr7RrG5c+JHPzxFweOfHGO3qrF4NuB8g/4uIJ3IdpaU067lBKf5vcoEzInNR6GsOxS2b0IJNT3P9Vmk6/0mD4iD1Lx+xslnM3r7ivt7i2pRida1XMCpfibM5uq0qHJXTIT9rR15CydMPl2QOPvGrobz1AMMWcw4NsGyC0HRBtbMVDDIybkBMJRSRFMxJFPeiPFLEXHHnKCtfTVy9/la9QNqf4J3Tv67FVwuLyfCVP6AQ5Z1+R3IpEVLpF2DD5orcEaGIqKoRoTjOhRB7WUrp0FmiJUN5VlfuC0QoALAGuPUG7BNoUDwloWIx4i/TX5XuXhYMggt8GnKHE5iPArFHeXDWWFP1yZEKdmLvP8ovlbcJDs5QseOBIDA/gUORBSZKTRXHkIT38ROFT5l7hMEBNUrXU3cJZW+tYslsUsSoyGoJxYUBEg2jfw0ADc3Cs+caFdFKwURKapX+xO+HNx0OaCu884M4liBysP6PpJfcjsKOHdQzVfamxqsLbPtL3Passv/2vKFYQMMdepFWGs8/bIO4NQW1HiD5sdslFlPva16xKL0qWPZQmMKKOAnx3QnhmoC83ffsb8LX8pMfUlJM8qX2gpP/FOD+ROw/9BFGlwyGKjUoCLQvLCVqwWTL+auRgO09Vc0BpM/dgYiJVyJlDvn/6U/G8Y64hDSRPTYa42WgCMrhT+hJYCMb9QgVSoNvFpmxAVxwguzJQIdUBI93oewL359IO8lTxL5kppzOhbJ6jMZFFVxF75apjf9jWFF4LfKJWLrHIfYCvvQmrNcPLugrz1PQMTsPCYLKAeAUdi/xeplPeZSwK7rtTVdGiL/hOk2oqDUcuQtA+4C9o5lkKnXK4QpcJciPSyjSLkEyDpqISpBLRy96kHAiu+GplH8eLpolBxmBLrDmxiC1hmfvNpe8yDDuAo22jAE0XIU3oVW18pIm7imajLML1dtFmtwVZLq6rGkExuo9iP3TV0iVsMI4B1heZlG5iIzcjg2aGoXeN/v/4ODdxeUWFXamaaNSHr5u+lOb8RzL+PJOuUOsZtYaPthqulFy8TfTMkf/mlyWUKRlpuWsqpLVxnSw0oKEnqSKo8Ak4yZQ7DMIODKH/bgXRQjL86RejQF/Ok4Eb4CW5WupGG97kZTmKLryfdk+oVEGEAYW1hIYr95LAbfNf3CHjetZFXyRYZn7J+1fe0/WkmJYN5wJ3hUh8NGQkwq97LELIQXugA6iyaLFTNgVkk28d6+svWmBxhJaYUImoX3vwQ4VQQtVhTqiU1ORHvXeNj8/yj4nLM7k1IzuBIeNzuGM9GgmGsTHjvc0aTkx1cW2S2is2msyK1GnnN+Er3etoa4tOGtkwBX+WhjyLaGW94BEXLsWd8gx27NPyILmiKsTkardpn5KCBSjjwqFHnKUHYqMM735K3HzHf6IPYpzC5NKI4ER7zQmmRkl73P5oORYxPiXY2006dTKsX46k+fRt8rVcOcFZTOsz9yKaIsIrLPKwWt+3OIUQE+zQSFt+S3mX6twU6oPMsLUrXroJUQ6CXlOH6VccLs/jy09JFR+rBTdEHXIiwoGgPcWGsO8BguxF40MyHsYpl7Um94y08tm72xqfcrLqgmPJZkNT0Mp+RDDt345wxe1Kc19RCiepbX9IRKkBX4SISDO7sUxOVm5G0S9sj/GiYCkPWJsKkBh/qXXqr5t9v3fVff25zcdHU4hYXfB6/QlE6Is9R/f7r+iZU8CH8sCl6hjMRTRkRePPpSX0oQnBMHcVvtsmErae5LotcfFLBKXgV4majkxJD+ZDtpR1tfr38iAhHhKekhMY+hun2L8JvenXEZ80YIIjRy/pN/wMsVrn/sFvpljBhq/4BabDaL/dzhRfExWhEoeInToLjB0r9E/bnoyRLiluMYlyknqN2MFjWe6Zs0MV5ZAWKD/+DUIQ81OHnUiQyUlJbck9ySuIw8ifOYm+LHkTyvRAL69uGKXPtUBM+aTaMs9gr7jSNnJN3W+O+E/WQJ2MrnFYeBJG8wn0j96kUEmW/OFR1jvbV8KLjhzh44LbR/DOFVu5W4CJ0P4Sm9w5B+VI8ZAw0jOwo8qBgWZ8zYsYJyoqqvGbgrZlqjHbSBMRJSNEYoikiOKrLzahpiT3ALSg/SW+PcHeb2XdlAKtyaAt903rFu7F/nAiYlHqTobPBXMAM3dPkz3doRjn9McpLqz/DJx+NY5Bc2YPJjOOkVfe6uugqB6qt6qoitzMmHV+mR1i3tpRApxxkYYXVlG6rprkI6x+zfqeIrhEPjTezmgS8jVthKoP9m+31nuqvdwLvyEOHbFc+z2XQqO6zjgw9ainZ7yti8eb7WyK58Yf0cKk6xnVcnOyjCtWS9RatqSRUsK+Ip5TzAIdbFJN/QMx7Cq6X4tVomi0hp1Vouzq+cozRIquWP/HNCyEdjmCiFaHQHrivSV2ixGgZKcco86jBIIpHaXMKnenJBBvnbPMi+VG7vVjJrzS8p+vUkv3SWT/CuHGZRHV6lmSLcsp4LF51yAqSQ3Yap2DDJZaNjfMYRJPMLfLyx7NeJ7OqlawWzH0newtqFwxnhVZOOWZGL4gvFsMbXb9FX5440hRZUtt063io1HRyzgqZacXhq8doeg6x/nldo6vz6YLQRK0fIMOeL5TJdNwy/j2CIVgCthXmEYS157Uwzz63TJXzGOpyvOk3lbhl8/Yzb7X2V+7yxxv2qs0NBWCYVk5jmvkMJ0G40VebpOIvO1bA/LlyRI0gPOWiYeVCwemI0YaiARUu9zvPSwtUkVo99fzdqNGFPtjorb8/3yIzJAHolookszy3JWpA1mQVGCQLtSySFq8jWwpWIm99Go7SNhiekyNfIWv6vORlN0COvkL5A/wbAqyagisoJg6Vi8prPN4Ukzoe0wc6pk7ym/ti3E5tAzJ50E+2VwN3RQq1RS/bi8hfpHtlxAwjbig4cohMnEv8brzuDZHpEQ7Nk9y0c8M1qQ6k7btzUO/z5G+EQE3VrHK00hRK7SDpdvx5BF02cmhN5EzMjph5ngBaezaDC5MkKEM0rMUx0VZiNx/SUn5wpaJI57qP2I01CKGFyIh3W8Fz3QydqJjrmUZmFKUJ/RVx24TV3ZW/DwJguvInUE9xAVBlMK+4Q+br7FWjwlj8ReE7vMSeYNd02WkhlW4wFA80dS3hmkdzRxGXBOSXrBLaChSJTiqDS/D3DoHcoq1bxx1B+qxg2sKZJOMd9W7thYhAnF3krBk5NrNTaXHiaemcxfjWOS9QQWwKKvyosVKtbrdqpoNaTs77MucrWRrQvVSxx6snrUOmlCHbedcDy1bYiJt3jzmGkkrIK9xcmxt65Mjcyc4BHzhQpy/QlOtlxoqjKM+LujBjtZTQlQqsIsJELTeSp387HgC3sHQmlMYV3Wt++uV+Y0u11kCquaSo9Jh7Ik3N50Q3mLkFQR3Dfk9Jhz5GOOI+jWSvm5OC1hNBLT9fK60UZjxXEp43gL3y86NhUi3/i1lynSYPkNMl5gk4zCx+uNJxBCPWWvFLp2miPkkNctxZi1eLudFGr/Rm8Do+I1IgYhQhTe/VYN1nGjej2j8WHa9oIudgDGIeyZwu1vP7FPyf/nXtPvMMNs2uTXotRTL154RoXqdjSz92sMCrVBGvYk2VVRAtqIbEApw/m5ZTPSVbj/nAmIZUrIuwUypnd2YquRU4+RRXHLjPjvoCptCAiNLlvA1FfSHxRptHMkYCQCD2Gz2fjzsrAh8mmQNTLe3KvFYPjxeS28p16or1Q8EIl1AgbMnDeFv7JtN2XiraRTF35V81qL1cHvW5VzkuFdrMJn/k/csMSgWIKtppTRVa4F5a7+ge8vhLYcsBa7NOpLBkV0xI/QgiQKNPmISS/xd4BPPsEDmThbX5le7tqxQIlBWpEa9gTfGjmBg7SwvY7lWIgggNuEQbGgSWw1nhKgLdwLrlZCNCfLkLCSu0kmi1Hb7JbmLCJoPLOOMWyV2ds9ciNCFH7PQM5U2mgo1V8+S6e2tifH38raura0CREQY6pqaEj7nWaZI//4NQhE2EwUkRBCCrEF0gMqA1cD5uYlIb0SOGv0AErfE2CIgZHWA5A6kc+kbKOJW/jOJ7SSufYXl4Yr7dMZOrf/qFlktxOEbFhnTljKQVRUHUupknx8wCTBBs3CknTthrKZjxqNIl0lljh2K+kIf3z0OEQklxAOjJuUmVzlsnInEmOq4s4MsNLkZL5NDbZM6TnmLSupoY0gLML9CxS8Urh5E/CgG0ix2uh6AE9EaoyPURIE13HwM7kmkzEKRzZeVgtbbeRI9PTHmhS4Slcutw+yCG7tWGte5PrwnYRKPMhWEka3B9s0uljdmJTl5e5fgKbuZeDi40vfOB9WGJZcsQ+evF1KMxj1HA+zt11kB64mhot31Xweoj/BtWnFp9d4hVp9Bhz5koqrpUiCqBhZcU3Gg+oJk2apRoiO5XbSwd7BFpVMyqOFEwMmGda3uHU4X3E1VNDi7SyLB5ozxPP5kdJV8DPlRbLbq3YPmrZCzp8RwQ7eF9J6zfkGuGb8tEZe1zFU17cC96k2i7MITQhZhu83X6+Us91OX90QMe0a/o/XUjFHoX0z/TLCb55OnnKL6+2G1Ib5jcX7ERCWz7xuicoC/bNzXWNsUXQOJtDDk32Rqa3r3VdD+qG/sdsRAFx/tzBipA1B9LbbWdCtfHPPatk8qEkdiT7E6wN416ztx4u1zeoLG37m6Dc4fYVTGkrB8ZwHziA3hzMg1/Cjv5yhSs0RKerU6GmmS2VxMhQCOyAqYeOsbwHiNsMijH8Dy6NVwvpinNOLkpW3ypkjCwTjT0VStdxdTD6kQcJ4EKX5y4GVvTNUBF4ncdQgDx1QamFujAFxzdREGFNeAwK1yZGR1tlaYybehI86tFS9yFqz8VEEa37BVWfneb/cc+S2eZfElYlI2ij7QMBTrAczIfktxjoDkJsQnmPVwQWxUaV3d0StqKDKEW2ZgkFFJT+wKx75zE7uSih1HIshWm9ztJa8WQnOX81bMtARNXtJ2VcR86TbSxP/WRQdz+3Y/K16pFsJPDKUM/VV2SbcsIoyFoOxLP3IzRWXpwBZTEmOZPsM4zTm9v8bY2kwujxuVgH1Ohbf1hEHFN4CRKLxuOa03xtgKRysyVeDfFw9IzyVa4PQQ48QISHSZ0w7LDoyUQlzjXhSFzzwI8qs5GTlgm+6Y+73E/7WMx1lj2iFO0FhSF8xTT9p8cSOJYZ0S596u4zgiGixqJpfKq5RAjSIiNTqFvy/C9J20YU0KVVT2LV2kBZEkEPFSYnBL9FG/pRcFxIAjK/iWx/YhzgTI0Y7hJ6k0BS0yp1V4MrIWxpBBMBOI6k4Q45dQTl44IJOfBMAibkokpNJ1nlc03bP0yuRtjamVuzSmSSKXpFlIsY3ZS0SgWa91FOfDcskjqYr8t6F14oHmLweof+dYRrzGGCL+nHBEDC5IfAm+qOlVTg/WGPipycIFBq5Z8LakwYGd+8pKaIyapCl94RJqL8+QTeEU9ZSvJf+ROEhonEGPolVVLZWuRFRFuWUZZY9XfJHwDO3e7Z5Q+jByR1xvLgf+99Jey2oWLIon2zsGSqInuerEnT7aRLn8na5vTZe0pQWO/HssBbyVkS76dGGmkLVm5n89JW0xiWYfxUnmygjW+NyOaafAHGs0U3SlcS3I5m2hqEsqO02bJkNT5gslUrurOpgJy5cue12SnIbY+Qu1ClmdNHu1V6SPlSIqZhIll7mHrUkEuUmooOVVZDn827l8ShdiDaNglrl806csx/yR4lzWCUOvU6DMELdGTM+TRIS6Kweti8NA1nJxB2ukhJea08EuxfqAh21rJO9hhFNbcnsEaikXR6Md7UTHtbmkeTnfiKE4LIadc8TgfcQhAVByt+VTPrcgtK5UwfTVx/R04nb075OhsloEOibNqWqDk7tDe0VRxxjFvUlPXE3PtqDSyF0fDK4NGSDP1ZZ5vGgmKgpWVXsrTuiTECwdsoHx6szouQzKVVqmQZKqc5MIxetZ6CT2PNbL48QdktkwDVbIiPNmZM4HntJIUAAmf//+DUIRd9M/DH+HgCJAbAA2/8j/ifmJLK5BlM3o8jGXqrA3ANzgNjUNMnDz0DhYRpuyt8GKRt6jyOCDUUUq0KnP4U5wQQDysXhgHF8hXGIiZyqFllhKT+jYSivGmRt76FPxqediatCBEmxUqPpPeKeKXR+ytUuVDhGBZ1l+sWOhJpMh1dxBM9HCXqPX98/PkRDC7ScCbZNt0LZgTZ98nqeg1vcwjNF8twKJwsWu2iC+j+Q4ILlBfEME6+UXiEzEp+KdjwkGUpnmn7BWoey+RkNJVr9L6aMgwg7UoZpGNMpQRN2pSQa3e0YlLK5JCbza4XQTWSlGCFcawkKgiywMAHsGEaU8W5ZMF7wPrLa5FOM3TxhSjHyL1Or/8lCHY516vESJIsIsuMvM6XZJcDWEAWW6NBVK4giJJeshGgh6+x1ieF24Qtz9WMWVWFGMm0I9j7tPbq/uZWZAiWsTkpQxhneQ5K98H6Kby2GM9GRCd8jv+RSn670LKj9m73DQT7PsQtplRcEY4je8NBJmYv0MWF1EEfjrEVw4odLwohNU0JiO40+UEodGMMzLdBZ7ZlZRpQineqHWD0b8rDZYIdnHq9Sz1moZpJa6jsojhj5Bgvew1VEQKeYESiYxMVG7JXdhjEwvoCfOyKvJCCjcJClchIPRL2HEe5JN8CGP+TPm/mbeFtvWDODgrSO87R2EiFqwiCt08mXSzcZouBc1vPImg9dUWaZu48sNOmdryLdWo+RQ3NFK9We+shO5vxWpAtRJGMkSw4ly8EPZLCg4MURCM3tx0tGwSRXLfh7Gb069OQtFF2Tan3NMma7bPL61NEpyMCJLEjWzp2pN+3fDNbi8dad8iskkNAV7HtGYTBqWofwssnvWxO5DFrtWPIYvLxG8sEly7H2xO9czb0SeVquZSARtCdrXNssErcViYLhxGsimBfo2FxznVKacCCj2hZFXIxIX/ER9m1/WaKd4z4yI5Pb6JWzbgv0qIkoj+9GFQqjIloJD0nEhBAaSyI2bxmvw164QRRxMes3bjSES/Z8jfJXl7ryVNbwxBVece82lFJVovyT6aJR6c/lRtBpYMk25mOLqDU3oYXgnTaEHqmFy6n7b/HVH1pezD9+w7FOn6PXsdxzTUTQdGdV0hOMPxlA9S0VMFDQZA2pRnNlUx9HdrW9GEJw7AdLxFZ9CQVI8aV1NVzxMAAe6AfEIxBYozQfx7QBScgOXPlKbc+RP2z/CHtY1m6ztFLbX0aJ5asARwqyKsXrplCYFOKv3Bw2t7/JW8rnT08dEQcYP+AkAPAReEB+r7NINaJj53iMWCYBKBk7dxj+7eFob6S+fhLxoo10nPbOgNgbyEpr5dG9cQDLRkMVJuRcTYm+tStvuoYgeag1WDisjDHhFPxe5xuC7FUuUkW5eCTjLXW4DCy2RDRkgFXAREJmGEjr9z8ifqW7NTdoGzApiZwgszeHUrSuoYb2Oh2uw8XFdszQkRlbpI5RppZId2vjaaZP7hinPRnHlGkNZ1w8ktFpt0wqzmqzSlMDRm7Iss/YaOjKMY0vHW+ZkLZmSB3wdoGvHqBqIiXGjZz9keP7wNQTbhkEiuHDFULYtrmFBxpM6H1zxu6vDbHQJD7VyuzkX1sr2/zSOZxI6WUgzk1CvIyKcPppe8qUMCdLprySURDLKe1zREL5fYK+KRanAVbsaMnOCBAQeIEEDbh2oJz3XqixHnHgqhIeS4Pe2V74NxCLnjE8tMAqkk98gpMhQVSRzU3ORgUa68+VvteC91Vshz8Jcu+6HSyQhgzTuzS7qiYpQUhYMoW0ZcSo8bA1xsolDB0mCFUXIK0Cr0K+G4YDnAIyywWABvogMqpVoMEJbIX0cgQohIEKBTvOhrT64iNRDayymjyBu4tst2r3ZKdhQ5EqH3Rquxs/fOScrCvi/Vkg0sL/+DUIRtZO25rguOs18X3xwu5Y7CvxmuYpNaQ6fZNjSXp8rIO5Pl4BP/btnBISMqDWXQquFbs7+brkhEeueqg7X/RaRiwGkPeOmMnAPz3DOBhhQKLEporKyJUnD+A4+2E9C+x7Q41B0tlk5QIBXUG+hgE6cTQBeah1yid4rUZ4liJw7VmppCKvmXGVbh2Q9ciQ+gixDpghV8poDiEia60vocUYgHI+6J1TC5aPRDAGWeMJQYmAm2htjiJ33eX7WrrMtWkSabiWQ4458TgymaRgsX26+sjXZwgDAYmq9Tbn2VunQGiP/iCCGjHaYe9kW2HK632dVlRESGJZrPUjJpzDR1qVhsqLrY1pjtd3a0NArMHNG/CMgLMr1AoMbNbVQ98EOatbJY7EvHnS2fjKWE9Fm1y3gFQ0c1tt8BCL54XcJMUq0p8Yudzpk6lasjQxgTAP7pp9niVwajXmiwcpomTxG5nyIRQqtrI2tIuuVUkbUecPu+vG1s6UMvzkiAAcIZOQUvcd6VUeO/YRtW4wn1eGocnryKcJM7k5kWcPpxl+aQVYivTLJZFiaithzYIFqY01Ize6x8xu3X9Sgan+yj/hdvVNKXMi5F0/d4E5xbCOuESFaLVSFAQicxvfrbK2uCQp8qdDwMEfNz4gQCJ8RhBP0A9kXjoaCPaL8sPNoNCZgLNXUqUXK01RdoOJTlpQiqnRMsn7qaKs3DVnp59pjTPi568XoQofnAU9qA0nJT/EBM9xInjK7VEALwQ001AtYJdLnqgfkzfz0ZmOUv6AUAWA7igxK77d4bKFVRyLn/HLBUhXyn5Nx5dQifMY1C4+J3vkLyFFk0b5YnA18W2WurUuWglr7iJwIEOHwNCguhjc92tFzW//CnPRp5I1fN4Sao5q2gEtou1x9snQrdtDS3ZtmJ07Uqw/SVxs3OBXejCWeMXxfNVX2hxI1RV3O5A2+iV9wEh1NytU2AUH23OXh0Mla6d6t1OrHUqLnQZ/kyqVtwmSdU7JtLnk+Li5PAsZNFwVJrGwN8/1iVdLvuRM7MFEqF46wUKzC9bGORBNSqDpofF9rHYTHxXzHDA2YlgJc65VhRsi34s1B+3Ch+OLF2bsbLq6huiWzb7LzC8HWzwqZZiY45z1YxQpZPqK7nnN6Y1Ir6ltqxxf3IZ+kyb3JUrJz4il7bItQovHFmOUAgZH96E6FXf4+52wP9oTxcXLgtmLdnS9wrzMTxdIXsCt4jXiP3EJPvxup8RWQhVcRvd5BRtnxwYz4FrZbDZPnBoQi/qsI3H1Zhd1v7QNqvxolHuCwyBPGl/sFb7ciOspO0Hi9EUU43tq+pJBI+Z4CAk+G7lzyDKKij3jfUftETeppxiU9Tv4u9BM+JJTDIig7O2vO+MSricUeaRjBzZdls5fpQCts1zripiwPF6Z5UiyNVyFBauuZL1qwJGJBXBW3V/AICOtMQ13G1V2vmmufa27mnnu3G5HrQkcMLxjIq9gnveEXqby26QzMPhppZOI5Kn9KB4NBKz7Qmm/5Bu6Y1GpmfvceQ1j5aw1XIkIMTepfrqs9J2kI0zldjLWy7xMiWZ3TjW7LOgi7WRdQufmMvotCZmbXKLSz83ARGsVtS1BfikTOLlBD/CWjhChf6dHNXeZGJ0er++DokEN4I01b9UM7Y0vGTpTQBWSQZfIrtv20OoGofNl1JM6eJ21e5lTH9dv64pTOEWJaOvLUVd96hN2VxmvCxxtaAU6r2vPl0Q3wpTtlJ7N47Q7pNMNyReSYPrvr16xIsQ+qcyUxbaSQPDxv1YTz+GrKM9ZgzHmN5/maEFpYQ+gZkeOxw4PoJr35qkXToxtiWG+VSUNSpyimk9Lyltjm/6BY7hIogH0iJWqMJxKmd54Keb5giGFXt/Y7xMULUV6PGW4yQmISCZCWPfeDKA3Ox9c8TAq+hvz3UMFRfXjrU7K3Qw2nj9tmB1VwtGaXG65VP3K5vTJkPOnmNlMLgXdXSz0ayvyhYkrknT/sXTVS/ZPvhYrY+qPFNG43h2Bobtp+cVE3oWKZt6gKpjextgdYsKUnxBiOBx3tykLvTMYuZMiKhnaLDQp2on+6Orw2o1bZ7X/xTbk/kx8y1AJ8uVIayyevGOS8WX/+DUIR9FM7ifxz/Zp+WD7J/ya/6XmJoWyKmOva7FxjYUhmYCf3jSqh3CTKXQQRVx008Aij68dhDJLf4ddWSYvdaL79JfcOo/JjkVy25QqDLZyhCJg0yljdkJXqqux23QYbl9CFzRK8DEYVykrKFDMTX5V/L6cGICdiTfFXzItFfl33ZLM/Tx4hLMJm5Rwh3VT7iLIdLB2Tmp4epimSRjRGYIWodX7OKn06rVYzSUbUPQZN0aeb1czwTTUFx3UXQVW7GhdyB8w/ZgWRhZovi/z1lvXyTv04zKEJbJnNe8E8Q13liRzV1pLx34Ei3H66nK4KRkIotNyYP7MPaDrxtisCIe9gY3yFijCPejybaG0Y7inzwahJlphn+51blyiZGq7ISb2W4M9Wo13IuG4V4g6PPZ/b1Pl/74rsmB0QswV5fAVPd1RPIXllL787W5u20967EJ0fks18rxVvme6myfD+5+JlnNpv2Nb/WLR8c/12upn2P4I9irGiXMk7Mvf9/q6ZBS20BO6I+lJvSUv2P4pGaCJUlRKjbBL7Z8t80SYast1m6Mx/f+yf6KqtIgix5C4wd8iCL2mDSfDJKTFn6uYEmF/yEeKa9dWdoSLlDJ0VPHo7rdRTV58WzaipQJ5rwyRUziKd+W0hZklbK0FCs6pgkyOxN7kL5LegEMeX0RJjipIhl64qDakZuxZOkuN9kNHH2TWZ/b3bmEwvNCVRNfLPBrFRTn02Lf10zgCFOFFYLRdzZ3CnBJBx6l+saMKPQ3U2EPYwtvAwki9etWwagmhfF6fmRVl/fCQ+hPUxRuC8gOSWgrRsi5WtISwfqDs05cV9yMPWcEoe0EW6R0ENw/e2Mxz0TNTdWpzrtHSQs1DDZF8N7pgu/3wtPnCPEUmAIRvTpyfQbUVojChRA5KCJyKPB2VbKyxuywFDJlQd0cs7Deii+esHXuiNTYF1i9Cx4Am4Y/XeDy9WDSWWShDA0XnG2dBQBLtcuxhdWCq+v7rJmWE13T3onDmvzyPS1AICVwh+XXylVOwmqaJhUor1nBNswNjL1Woi2Jmol1ffmdWAkYZslxqwouWdVs1a1yc3MovaMj5FiXZnP7E57ReIIf+JUbCUBPjM8Wwnt0ZHJJP/0CEYna47kBbUgWJaS762snzU87ogm+4Ds/ZHfLQfZu1eq+sGgsa8DKZ5TR3DYK/SIX91VtfJpLldrJ30+lk6m3LyOj7mZkm8FiUEy0HMFqKfG+AVadYzuJcz2Ta07h8grEtqFokSjLolWWDZWei7M7YSz3olclxKLd3LAYikb3CFylz7Px2FrSGXFfH3HpREODjPSNHkjHn6GuGHbo55BaQ3xJ+QfJt4LWEAQ4RszbvS0SQE4vNyWJ5V/eHP5tox9nNfwUJBtyQ1BqB5VD1lAoBMlA7luVLaXAju9ltHz6XZBiwxoPiPPHQ9ERFs5K8xUjgJdJmzLt7LosaggjNH/CTy+nIQiY2U/NTz1kSIXot7sncPow1I/HxiuK/I3m1qx418p7Q6W0utd++F4oGkdfk7oAQLaHuI3NJwXLkTnAJAvEXS59fVOstFUkpWykarFmQ80EJsH1PjC3Ww+ICnrhHsHb/y70GwA7g1NiAqIWgGxx7N6+iIRHS7opUzlIPCZ3Wo59l4RqFoj1iVfJODbQt9+Jr5H8msDQK8EWumsbNGqSUn5JMqSkhPU0apF9PeJtXAThMV4QoSAOSR5YLdPPe7UKfFp4OiocsQa1ERWpy2CgU9pXy9m4mwyyABTqXEFECl5E+ClmnxLQxw29HYirOuRHBQ1pZWTj/NxvwweC3MO9baoFyQ+vSynYHJlRS9FMbSxqs4CF5CWzgfgyWsNg7uERpehgxDt7s5VKXlN4Py/4opk5O3LHCVC8osZpa/p5HrVCtupcmQjaMnZhVe6VwVqmlEvsqvK3Ryk2eojIIG58LTNfcHVXPN59yyChFJzIIeKSo2DSoHgRtvzHklsJWoL0WpPKSpfJ/aSzRXwSPOEw8Kp1jakHhqqYPZQ7FftEoaTbRlXF2uu62BWE+WjjcVCMTKS2/6HYUy4mDyyEtaZqkjzvCgmKORHuhltSntfybZyLQUBJcSqKlezfCx00QF/sutBp5aZ0eg7kAFYv/+DUISPxM4MPjZum98FD2t/qc/xnmJSG8TDZv/aBB7wDgvcOe+T6Sg0wt4rQUtrDtH+4YQw9p4iaF81Qs5F6KoE2kTiLlIRMrabFGTWDfsk8zKakwPtJbKWB1Y7EYBPjd0IciGAjalC1NyWWHNMYKCzYWRXLKtgglG81HaVyuxD5T039mj6M9VkOKFe9yWzAlLJjYGqy8F6FBYvWhW6O40npEMUuAaUapVmuxbaNNG4QT066YjWZAhmX13Rh0Qk8Ru1iXbPx05eWim/407N+fRLALt6xuGZVi6zicczzCV9vLawCAknQhOSTieQxo3A3+wrLRrEIcbldTZJAvRBhZgTbvIUU6MmDXxdFzqH4PQdpW1ttuxa9USJxImdiPbyraed+ktl0OVsZPQeBm9lszanENwBRk2nChodF+y1RgG0RgFcMgMgEPB0O2RUnwocPELVAXMXYqtZCZFZS8IbZR9Y2XdaVhHx2GqjL/2jgM0Fn56/iMnbV41kEVQoIxTFyoy3xK6Zdzq7ofqYoIwj4rnUwCpmifjfoDA1YZSum6YhBPWuZHo2KYt+MXKRvjXC1Nq2irumLLZU/CKBchQxpCQyBsCQrBoqfwYmQVf3+PYeCa/kK8ZXFbNh5sIacb9BZ3x9T4/WcLWVcT0oNpr/HIv1z0yHFyGAT1FNRWCBrJdhqgg1W5USmi4MhK56UT/8HfF++hgj6D82jhOWWgtB10E9ovIRJd8qt3HT/9JGp8tKj1ORiqHOsfp60mS4xfklLTBHTLIcv/aKpM9OpjqxSoeophEJ/IpiXyz9C41CkohgL/DixigMyLcp+RzUZ2BeaPkLwwPni5TY8uUKFFxuqd03qYiPdTOaeQKVGhOCxQIjcTbhBV0LZdceo87UYqd+OxBDfktfhPeYT6M0lZcad5ByyoTBqA2CTO1phMPUV8SsgPCNhMIFzk8zloUirq/hJtY99pWfJb+kYlEWz7N/WliHwFtU3knCY3T5hLIJKrSVu6pH4EHLw95tlMTtQoZHCzAz3fnldddujG7Gple5yYPJp2QUeK17bzLE9L4P8xwljcxeKV70s7Pm/d5gyIIcJy5NSvruvlXU6mJZfK08loBPIJ+s/NSF+rbJSwpC4AwUWsT/ZTz9sZ9c7dusV0IOSgsxkUVhNHQgl3hQmo45TMizHTrXUmhCLjFLfYicurykMFSRo9ECWH5tA0eR7PQIoRMVxeVtUNpENSWbO7gSYqflbfoWEXrkyLpNlC/W6zHKiSzaQVwQHyokMs/+2iGF8l96clYanQKu65ViJST5Y4ZO/GhmmZ1EkbiGCjWc6GDHpTw128COQ4njJOFs2xCF9qE6YgleUn1M5XtJVybeMD1uYdKaVjr72trCxEdiAeFDhJwgCHFoSBR12IVCNF5OI/qjyZGCx6pSEbQxMxdR6YGid2IU9eYcamWHqzaV3TYbYnqq7j2ySKMg2KCm/vJM4AsaN+de4tr9K5ZcZZD5JFLTiIIyROn6R5DBBKEyn2Si7BAL8qVNYdHYcmyH9yj4J4F64ZPZL2YpfAyoGbaZRkSlAr0G/tsexXEmg9dP+FKFDTL23XTlIcd8v7tIkr//xNK63BL0/kWwukejt0Wj0W0AQZaEgEkOghqIxV0YYt+KLsIJ/LksW3oEePUtYLTZHk49sgdtAFeQJpGMtyu5PlgkUIYgHZ5iY7nt10YZs+Vz4a8vkexADRc4lTt45ozl9tcd8WpG08PPov0cFZBi00XtPjEF9OiWy7gTZTd1G4I1pIWmMf/NM6UvX2gg9rsx14tTxIvauKW0ep14YWTfJyXyC4z0e689SnkK7p/d41me0LydsVy1IUpkoMDJQBhrM+KohMhrtPxQzucdMiu8FC8CTKX5Sz4K0tLBy8kYt5aobbtwt1HM1NEVmgQQ7/+DUISftO/SX9YP25/kb+rv7k/tP+weYpdaK+eutxWV+826OV/myI88SHVLwYjkHKVGhi3ypMDGn+dx0AwzY9SyJYV90b94jZ6B2PWjOCG0TsQ8MoEMRJhO5moj5WKvTRfkQy6RB1T2MuiPeUS8q5RdP4QZcDdvbPosKiJTpOLfM4EMSP9taqqShePE/JNpkV64XVXRF6M6hwMJgqXS9l466JFEWo6G6KVAV8Avp19Zpbr3A5UW/KdBU49VWjXW/3NP1iIOPWSAS6mhbp8QqMlJki0AtmoSXWCieDV5z4PmkYP8o8ZjNynScxNOsrxAn403LApLYepIJLeZOUZqTMMTBPoKqZCsRhfajk/f2Me/OO7b3hFwJOQ5u1FIGa7HnNljcQpTpmSHMtVpV1qMJWo2RXK8piirlFKsSllIvX0KzKLqMXxb5EM9cOsbkiZuxLLsh19D3rn1CfVT5dMM+5T+uwTXjpCF/vj8Rdm1HSkm02FW4LlLcmLiKGQ0yw73R7E9hq8WAr4YrE7F4eZHaW7RtWqKmK1SDc+jWpNeW1JWptMJWc0qZwrDM1ImZI0Cp5srWvKFuqeoEgeFoJtORLHtKKZLha1okxOogAD3QAFNAQyClxuwHpGJgDFQRMdiJnIJhZd/0MmQxPUwRodVCykY4lSKrJOYvSrJJ17gp+ToiVmikHAolQZVLcWLFrqMDThAEhdg6Ju44/rkg7q3Rycq95XJzhhhn+fl57Z0tdqZ7G3RoNRGd6+zbJFZGmmuyok8yERe8ovXkPe0ReyN80LwqLYWcu+QfGrxiKlSF/oqYlolweSf90/oy97OfcfHOJrjFpN2kHQBFBMwTSRjb0RIN4KNPxgttgQEpU6PY7Y2lUJdB9JfuApLYiXzzy1viJZanYrCSDc5Ij61gL2GIVrRaaqYaVT/i3RyMbq8N0smLCDKJ5ZByOrHiWmNJvOpoNv3y4QrhcEhqw1gVs44OxYeugXaYkhZiucvWmgjiKfzG2lbKBifbhe+1pRI96vb/UuXsFPsVSKx1WrbdXz9ZuiEOU5WVVz6TNQ6S9oy23pPBDBbKPLKZsRR5f1IixVIeOsS+VE+1YD9AuOQg4LoGTEGC+gpcJB87CtkZgSHWpHmSlibnToIvBoyJRhIhQMV6P/AlVkhQdOXj2zNyScGKVVfBgQLA9nxIKecDril3RQUQ82l0JHEPpKJ2xHbEMFDTcvqv8XIy/VYa1i63nWVCS3ZhKcWsAQcNK88L+A1tnL+iFQ2YoeJ1glUUzcjCBn9MDzAwG4vFOdIsPlqHQ0XkexmpA6ldzWVspRHhxTzvRksclipmOZIIFlQWNZeNM1SuW2zOEKGyNUhRKdJELeCuXxNYRsQO8SasET/iL4KmArZqR/S2QGSkyI4NOEH6Vv+Qk1Ks1v2gjlKSxgtkS4EFo0po/2YRkKJgw8Jqxd1snlG9CokeP1PEYNRHjKNaSfguhICtyTUmQshb8DPiRMJFYMtnbJ5qLwnlPKSlGfPNb+sUmnVt1gnBAUxlQurQwJfZdLNlrkobLYAcZ3KEioy4znmXC/Tem8wIIPpfyzQTG+ZGiKb6ff00qzW+Ue0tlPBOqYkI9lQqZASDDf8jqWNjGnTEYXn8CVsB5zQWKdFRqqrAnEFbwVGbRVSp6XgYgfgBSk41aE8rTI8KBCdos11zLzkY0X4KBTNBLx7e0uwD7eWbeZTnI1+JVBEpFDo+daeCq88EgesbrKCOUDLZqKqSxvRmN6R3ZDQCStKX+Mwp/KW0Y69Zl0ny1SipVKZqn1D10keEjTcn3A2QxMsLLxJYiw51jwhDZRW997JjLaKsl4rLbzaRhQQDgbd1xtbH8vE3EypN//OlDgdgNjxQrtBO1McTukHvprStEnD5mxK5MZGaLVSQtyXLIpjopLCM4SSz6/DXSGfyzN+UQz3V00o+BazOuHHHAl2wM856o9OLjo/7Kwe1yO6XkFZAYOshCIrVbra8dMhu6cDRPXGhxHb5g7IUckFsd2JKyChAdRPMKoPBgOFWiS7Zogr9FypoO0Gnc//g1CEryTgcyDc0UixldHUsfyR/pH2fmJ9GuTFffwQDXDZACx/7PASpk325AhJZaFcxLsnjWgrg4R6ltCmSnd4JDCKtwCCap9474QkzOKWJKOPFTLO4T/z82ypkQjklh9EW7jMRnZIalz66HYT/Y6YqoSrr6DhSiN0H1FMLv/vHwezVrKqubl7NrPwzQltOGWFZyxJ2I5RO+M7ksTMSvBPksjqmFBxOgHq2GVN3tBXRozZrg22eiFsDE62od7Kcn7TdD3cQYtSna0BzZx7FVzvZ/RSPKMQuNbNyEBSH9Cezw6Fhh8n7QIr7mo20iol3ayqbdnayl86ftPZvyUaqHoIhTNs9BPhBBoGkDrWfptzkwhmRoaGzfFPbkowkeLEkOBXLpwoP/mgyrefF5V/mlKz59opbeOsFVmpeQHYEOIptdGFz9gstCuewZoxbUWWtxCzPq5/ao9YdF0RvUJj79gOqJjpRsmXJ6zmmC4i3EPFOEdA9+dbJXCbtI+J1IhzOX8ZTlbQkCCw6tVSFGiUlzsHvTdV4T7qRVcOBCu70AIxwTuvHqInRHvcRVenBJBXDO7LNHVFu0zOCjFcHHXD4kJZIiOqPnoSyMX4XflnMn77nJE4UfUUh+TODNzjY+wn7hPhrqHy1l4oMJQYzM6DDqUyzAtvpa2V3Umc8alpC/jzsmMk+SnXopuRwZKDxkS6t0U80/3ez9m1yHkpFsaymBlXMxTBrNEbZnZP5fAbaU5Nf09HeeXISRG7BYhB7SRxwhKMD3hA9Ws/zJEXBF3lXuqg8k7RY0y+69tY3txdcscDWRPPSypt0hr17Zyeoy7vqf2Io4XY9JPbZeUuLVHKV3lNJz0rStrW5RjCNnRpuZ5KctuK3Rfe5U3R+/nHr4oxbK4kUUH67PG8DUENlTTsC+9IhnI975RlORexxImRe6l5a2wULOS/2i7k3tDX41PcyBo2SPhL2cZ/VhO4SnfzsEPInmFpH/Xo4VHODWJR5py2sP/ZmScPx8j9loVv5cCaWglBK9KL8ff9WZYh5Ue5XS22jzDjSPBJmFGx3caYX7Ze3N75M2xukwnX7bk/2ZHpAudmCeYit1UdTZ7rHh48rPKZse7VEN3YQZNUirTR9RueUdL8PekppPyzJxYdbtTTqsiaIGRo7dXSJYOnraeOmzg6WpxXbE2d+TPi3kljuiNlPGtCGxMJAqe6QTgg2KUZd5jkeTDrbvlUttqB6qIt7sRcKO8zuBulkquU7PqI238y+OotiOYgOX1qNCXpaDk1lx/qRWE7uOq7ME2W+vr0cWiq+cKciUJDH4pHRjMzMY9cb5z6ZO1qu4E0bFn0MGhAh4LVUnWkUpqo3hnbkvLCkdvCBd6pMc/AOGo5nJZ28zGgSG7h9mHWNplOZphPljUkkI9IvlfFVyDCO5ah/clWULEq7Q2JNsuG99uyZfPbynB/B4y0StPNgnhcXc6xnvfMNr3tgFyqC07lrPOswsrJVwxvFq5JC4a27vnDxvhI0jud/lWlyJcrOZYiFraGj+GvvZ3idFJvpWHsnUyesRxzq6kMc3/S+qOkQB4ZSqjrs7dxFJRLMEmxP7mnq3fJ9cHysuWHXv8ym7NN3lOmyKURKP0X8KAsSTGW20lIE6DNlBQsE7loM9WkVJeoodIL9kM7J35dhKbViJWuIZEC+c223BR+dcjl08I1Zgr/fEZJJazAl0Ok+h9NiXgtjWyems6bhWL7tFO9cDlcrPrOIqudskQyZwjnRlc3FIrm3AfDSXZKRawfTh+FImuG2FDKJI8YYdYN6zINX0LeYeI2lcrXVYTq2TqAWeN034kOF8DJlP79dR+VRgkJdX53bwCUeQVWmklNSuhnwMeIDWB8n2V5nZGOEzlUvefmrh0XlWGT8nLHjVk15O1/TNdwiRMtZEzUoKAYbh5WbCxqfk0BxbmF8SbLXUb8FZJIq8sAKpcyeRHqS4j6lJLfFmrcMWw9KqzDmQnUo4y3d7qxdnES6LjDDFmkAqVK1VObqtQkjjnfewlg6981QKekMSe2LpfgowNs9pkkxYVpMVyJ0vxCfUeLq09pOkYNjUeEnpg5cUfx3sLnJBYoUi/lj/+DUIS/VK2uzdi+BA4iHh/9+i5iXWsbhkI6u4bd9wYUj9gYROoIEIjGZ8cOfVApF7cu0Clg0NZMl2abpbhRxYpTaY0Z4BQMRzXZ8GhGiSoXReQr+IsVH9FHgEfFLGKLJZlXT6eoChavsbpWocgla/5sULTnEV3Y2baXeCFmlketR9tGDKu0Oam7EJAKBLtUDlawU/E4ceM65OXpoGLgtp+l2MwDY/oXLC1JvhIZceI4bMSJFW0YXBFQz4sfGq15JvRdrvO4+jeYBh8b/W6AbtYIyV73zQuUTsSTOSTYTLqJDqGVqOb49DFPlKL17fWyLPuumd1z5J4SFNdtkxFnjWoSTBnudIBToSHP7lxdLZFX0tF74obupPAJ6C8inDiBwaLWXnj/V47+6gNak4J4c1IGcVoZ/6CkwIbWgWq8kXYYuNcG3K7RcvcTLCXqhWbhU5wEPyQEwh4zt+ctkmNQOmlm6boKy90VggwzzlshVwv3G6E0H389nLEHHTmoA1bLEwKKU21dHYqnn5sZyOuKEIVXZFCzTCq8jJpQWAehDgS8Apl5RCsiaemTG6GTwjYRSO4z5K/0d+Ml/oamSqGNLfhq7MzoMVgrVBvdA+NZiEhcdPk7E8owJGJXP4SDYr/E6j7ZpX6yPtrDdILOLGasVgzVk6ZMzWXQ6J+qE2RGdoQ4v9e7Nit151GuW9o1p6hkPOP2moIye+niB+pnDg1FJIBXBFFoLY1HM0yvLFHkrv3IDx9IF5BTQOgIBIzvqh5hZv4ey7uSOd03ygQiqms4MTKFmpDb9ZRF+FqtdcVehL1UaqxGp0+40NyE3rcL0dfgeE0WJUxtSea/o41KNjC71GQh6yxETZeiD7kbkF/nWqORLSoojJ7MR7jD1UnBqW2VuDgFee0tEfIPadiKjFEv1DLsBCbH8mQrRCLAc4vUtIrJvx/devhrEmkopuVlShtINS5XeCcRJI7MPRGFNfqqSVTXpF62WTx8qmqUFi6/RFjU/VVT8XIfNWQyaGNT5DIBQOaVk3PNk18AO0qaH3yFdkG1rhqr4d44JeymxyH8CQ8xGKed3G7xzQthczL0RYIQuJCWsYpkc/PQrUogFBmHbe4FJBKH/W0OCRGgwgNj7ojTWJ5Xswguzn6wRaOU4bK/OmPpGMJ5KCtRv6dk896yRoqpoGUxnNttho+jbwKIjRpRGvLQYlzBfSZkWCvjkTgsCdnJkJqN0Satg8xaCykl1nuvy3u7nYcTyhBwgwxeZJcvu4Lor5cO3RK6RBd1mOJAn+Vuk4CnYAxIjkk29iOF5ZMoK5SS10/Mi4Wn8VL9H0Cd27Z64iAvmNlWXLOUVChLDCoytET1HkJOu9f/pSL2RdzgxASFWi2PvHKdxZ2S5fh5mlFiPcz9rV7uRdQETpz+JfHbmNkL0uo0hzgM/RAxHVrREcz7KTSo0MGgc4ZJphkDtDYlDBSDnDeKgYUerI24KKe17ig9eRZxLUqNkwsk3tkpRet/Y85nCulDVh0nDgWa51BANZLBJig6qktI7Htiij1UcWvcplFgPgvMnR0PBIvVeVaqtliW2aOjLCyeyU3XnCEUUVuNJkg6pkE72S7BExxB7UiJ0M39WPzkyQ48QIZwCyejx/kjcaCdJen49vNLlQQao1ZTPlVAUJLQk3nhu5AjNgAl54FAslsbVFj/4rV2p18/tbFDObmcZsgckgvLctwS3bXqqY6/OZMuuaYwR1ie5CmoTA6AdS6JwgSqiNwahtPNp8KUK5f6zj7X+fm4fEX98iJlIlDEiqI2+VkQc7t4qyQ+xayxmycADvfDKP7FVHIPHuYpSSAlBDB9g3YOAbtLV8BD/gEJIQf0NI/bhAmCqtwEDrA0/CJPW9GJe+G8TZBdZ0iABRd+JmNKKXFngiDJHTGeN/SEgLiV8f/JMD6Wzdwd7ThILPtm/dBIPyqYbUJ8toQBLEwl6olIvY4zgrIvE8QmUP8o50l15omeDTEOgHma8FsEDcZVjev9tYlX7uRFnWAOMNdfrOEyEjZwi77xgesVCgC/pHG1fmUU+67nlcmdyuSs3RzM3DwwWD2VPrJKjS4T6idCLTm3M725xAk3UFLmnwcJdg13T/+DUITOBMFhkXbBj+GAwV9RRBEnLmJfi5XDjsA8A5Xuzg1QKDWGwNitGvFpCyKjR32xqZo4iaMywjv+6mMkNqxvNlyJL/CN6WtGk5NIjzD9Qjmn76sPLNpyuZlv33xclngiFC24CZ/6/VukFDFIdcWBRbXsqXZjJwvrX5n+7FCT1ZjoKJ/Qes/Jw/uK1xMFr4ch1LPIRSllToqqMCrBjrnm1nr6gE78AlkPOm95TEt9BcILMVPyJzE1Knq5tJGQSB/t0IdcDuihun4DQRSZJMqVejyVU1Pc9Fsfzrarb4o0h0wsVFXX/2cQ2wKf+aFwGRt/ORikxXFlvv6p6ZMTCPqbBAGvQyM5KwCuKLELS+rRG3zMBNF2E0e7VsosctrG1qVf+n8f5iBLHXjsClyCrnlmBIYupQlIETYHDZF0yqRNZpyYvwsjC6sUaH/Ta18ovIyCiri9cIWaH3Ql2CS9HxzVdzXGx3ogxJCTH1S2A2vwEU+/vmtwQ7ct1rX5lpEjs7bTfyA6Rhk4ZQHcRwN6ZECRZ/Dd/0WTAVQVIH8cpmkiLgrSNRgl88J0s9ml3xcHo85ZjH1yli1Qg1GZ7KC0Hwj0poEauaqKYyFLLg1q41s4Y+NsqkWULn3QscWIC7EooCmOT4C3UtCHDALxFYbsD6ZJ+HKfLpmHEXXMQ5nDNR5MtZfktIUiXbM10t4eLAZD39W5iC/FNbAZXLPI5oG2IZ1F7iZhFK8Zlp6oKVKMTfr8NJ3zl1iZkSohjiOvjHrS3g0qw8WFROibj1EtKbdS/S1/pVnguODGWtUNOx71zTyKQWSs5y+CJJVNRCCKKHO30WbuCAU5sEe5niHYzyZYk1ecwgr8EckRmPwGitZLpLvetl8d0PLrV9ulSBZ6ZjXoQxPFug9th5l6E/rK3JVzndIxYFFsAmK3ttoyTthNyfA8j2Wae3RAJLsjXdpfNwYwviItDPSh/i1YWx5VhPJl4otCEGNdx7066EI07179PMZLzPIrnyRWAqXO5DGXjGRZ+UiLSxlmKksHutahBIx7DdXZql/g3B8O5BbNMdZUzMZLo3yaUtHiqQLIzRPCM2Ty+YgX5Sc1GQEc4kHaFfnlCWuvJehiqZMYbEVpxvPcmrnCcp06YRRNk9D2j6VrNd+GsTYEIhef4LYn1dhRNKxWBLlosBpcfEbqxEhVERsMle8KMfDL4lx5gqycer9u2IQBWmpfPfWjWrLVTpeuF0oplqghPNk13xOpOIu4i4eCcrak2uPTqJ2lulqVS0v5smZU6W5zEMPIQNqR6xhqOuXmrDnxNdZrJfPXUg/XwRS39EWUKB4HORWDI0kSXz35yXRM/UmJHZyVXAhyNn5hJdFCm2kiY9DVz/qNjpUiUcmku7rw42152r2j6qHPpCQnA83jxehFf9C8Hqt4GAV6QtKAjIF2RwrXjH/eqQ1kpK4MElU+/Zm4Y5CSt+QGEsfbLmXdt3komyXglM7jKxw2D2N9as4UsikYSsvDMOyS8ZWKZJqipOCIZqOTCy/VY7LBi0ogSLLkst3CZyoIhQObY5lGTe2iRJ65KOT+rCYzD/o44P9fdvjf1fUyWjrDop/yNYaGMlG2ZSRriOaC8Lmoj+mx+6r43j24E448vCKfd6HkqihpuRps1SWUEsZxn9iHMWm9IappCkuYI/9NUY3Txphc4BFKRBo67xEIo5RK4sEQEi0GwS0wRpnH2rRdL+Kqq9bem3EPGMXeDQEW0YuLqW9+YkA1c5Q9fhGt1DYFlLRJcIObT8ZfqReQcfCU7PiFipubZ3nJhO/OB2mf/4NQhN507xr+cS5HjfwuDJ5pfsQeml5il4oi5+b2QZjVxoBEx96AEg+gTCIlIZpxkvLNqTVal1RoctESc48kCc8zOquCuqTzrQKEVAjVfiHnIo1R5Wb52CFjqSDUBKQVwPqYqPf7BSKDWgOpvXWKZOWOuLN4MufUPvgBXfi5OOHyAsm91+aMrgtkpePEhmoiKyWDI+E8ztGMdrvBWVncOyV7ys5pcMSIpAydFCvtGsblz4kc/PEXB458cY7eqsXg24HyD/i4gnch2lpTTruUEp/m9ygTMic1Hoaw7FLZvQgk1Pc/1WaTr/SYPiIPUvH7GyWczevuK+3uLalGJ1rVcwKl+Jszm6rSocldMhP2tHXkLJ0w+XZA4+8auhvPUAwxZzDg2wbILQdEG1sxUMMjJuQEwlFJEUzEkU96I8UsRccecoK19NXL3+Vr1A2p/gndO/rsVXC4vJ8JU/oBDlnX5HcikRUukXYMPmitwRoYioqhGhOM6FEHtZSunQWaIlQ3lWV+4LRCgAsAa49QbsE2hQPCWhYjHiL9Nfle5eFgyCC3wacocTmI8CsUd5cNZYU/XJkQp2Yu8/yi+VtwkOzlCx44EgMD+BQ5EFJkpNFceQhPfxE4VPmXuEwQE1StdTdwllb61iyWxSxKjIagnFhQESDaN/DQANzcKz5xoV0UrBREpqlf7E74c3HQ5oK7zzgziWIHKw/o+kl9yOwo4d1DNV9qbGqwts+0vc9qyy//a8oVhAwx16kVYazz9sg7g1BbUeIPmx2yUWU+9rXrEovSpY9lCYwoo4CfHdCeGagLzd9+xvwtfykx9SUkzypfaCk/8U4P5E7D/0EUaXDIYqNSgItC8sJWrBZMv5q5GA7T1VzQGkz92BiIlXImUO+f/pT8bxjriENJE9NhrjZaAIyuFP6ElgIxv1CBVKg28WmbEBXHCC7MlAh1QEj3eh7Avfn0g7yVPEvmSmnM6FsnqMxkUVXEXvlqmN/2NYUXgt8olYusch9gK+9Cas1w8u6CvPU9AxOw8JgsoB4BR2L/F6mU95lLAruu1NV0aIv+E6TaioNRy5C0D7gL2jmWQqdcrhClwlyI9LKNIuQTIOmohKkEtHL3qQcCK74amUfx4umiUHGYEusObGILWGZ+82l7zIMO4CjbaMATRchTehVbXykibuKZqMswvV20Wa3BVkurqsaQTG6j2I/dNXSJWwwjgHWF5mUbmIjNyODZoahd43+//g4N3F5RYVdqZpo1Ievm76U5vxHMv48k65Q6xm1ho+2Gq6UXLxN9MyR/+aXJZQpGWm5ayqktXGdLDSgoSepIqjwCTjJlDsMwg4Mof9uBdFCMvzpF6NAX86TgRvgJbla6kYb3uRlOYouvJ92T6hUQYQBhbWEhiv3ksBt81/cIeN61kVfJFhmfsn7V97T9aSYlg3nAneFSHw0ZCTCr3ssQshBe6ADqLJosVM2BWSTbx3r6y9aYHGElphQiahfe/BDhVBC1WFOqJTU5Ee9d42Pz/KPicszuTUjO4Eh43O4Yz0aCYaxMeO9zRpOTHVxbZLaKzaazIrUaec34Svd62hri04a2TAFf5aGPItoZb3gERcuxZ3yDHbs0/IguaIqxORqt2mfkoIFKOPCoUecpQdiowzvfkrcfMd/og9inMLk0ojgRHvNCaZGSXvc/mg5FjE+JdjbTTp1MqxfjqT59G3ytVw5wVlM6zP3Ipoiwiss8rBa37c4hRAT7NBIW35LeZfq3BTqg8ywtSteuglRDoJeU4fpVxwuz+PLT0kVH6sFN0QdciLCgaA9xYaw7wGC7EXjQzIeximXtSb3jLTy2bvbGp9ysuqCY8lmQ1PQyn5EMO3fjnDF7UpzX1EKJ6ltf0hEqQFfhIhIM7uxTE5WbkbRL2yP8aJgKQ9YmwqQGH+pdeqvm32/d9V9/bnNx0dTiFhd8Hr9CUToiz1H9/uv6JlTwIfywKXqGMxFNGRF48+lJfShCcEwdxW+2yYStp7kui1x8UsEpeBXiZqOTEkP5kO2lHW1+vfyICEeEp6SExj6G6fYvwm96dcRnzRggiNHL+k3/AyxWuf+wW+mWMGGr/gFpsNov93OFF8TFaESh4idOguMHSv0T9uejJEuKW4xiXKSeo3YwWNZ7pmzQxXlkDx3v/4NQhO7k4edSJDJSUltyT3JK4jDyJ85ib4seRPK9EAvr24Ypc+1QEz5pNoyz2CvuNI2ck3db474T9ZAnYyucVh4EkbzCfSP3qRQSZb84VHWO9tXwouOHOHjgttH8M4VW7lbgInQ/hKb3DkH5UjxkDDSM7CjyoGBZnzNixgnKiqq8ZuCtmWqMdtIExElI0RiiKSI4qsvNqGmJPcAtKD9Jb49wd5vZd2UAq3JoC33TesW7sX+cCJiUepOhs8FcwAzd0+TPd2hGOf0xykurP8MnH41jkFzZg8mM46RV97q66CoHqq3qqiK3MyYdX6ZHWLe2lECnHGRhhdWUbqumuQjrH7N+p4iuEQ+NN7OaBLyNW2Eqg/2b7fWe6q93Au/IQ4dsVz7PZdCo7rOODD1qKdnvK2Lx5vtbIrnxh/RwqTrGdVyc7KMK1ZL1Fq2pJFSwr4inlPMAh1sUk39AzHsKrpfi1WiaLSGnVWi7Or5yjNEiq5Y/8c0LIR2OYKIVodAeuK9JXaLEaBkpxyjzqMEgikdpcwqd6ckEG+ds8yL5Ubu9WMmvNLyn69SS/dJZP8K4cZlEdXqWZItyyngsXnXICpJDdhqnYMMllo2N8xhEk8wt8vLHs14ns6qVrBbMfSd7C2oXDGeFVk45ZkYviC8Wwxtdv0VfnjjSFFlS23TreKjUdHLOCplpxeGrx2h6DrH+eV2jq/PpgtBErR8gw54vlMl03DL+PYIhWAK2FeYRhLXntTDPPrdMlfMY6nK86TeVuGXz9jNvtfZX7vLHG/aqzQ0FYJhWTmOa+QwnQbjRV5uk4i87VsD8uXJEjSA85aJh5ULB6YjRhqIBFS73O89LC1SRWj31/N2o0YU+2Oitvz/fIjMkAeiWiiSzPLclakDWZBUYJAu1LJIWryNbClYib30ajtI2GJ6TI18ha/q85GU3QI6+QvkD/BsCrJqCKygmDpWLyms83hSTOh7TBzqmTvKb+2LcTm0DMnnQT7ZXA3dFCrVFL9uLyF+ke2XEDCNuKDhyiEycS/xuvO4NkekRDs2T3LRzwzWpDqTtu3NQ7/Pkb4RATdWscrTSFErtIOl2/HkEXTZyaE3kTMyOmHmeAFp7NoMLkyQoQzSsxTHRVmI3H9JSfnClokjnuo/YjTUIoYXIiHdbwXPdDJ2omOuZRmYUpQn9FXHbhNXdlb8PAmC68idQT3EBUGUwr7hD5uvsVaPCWPxF4Tu8xJ5g13TZaSGVbjAUDzR1LeGaR3NHEZcE5JesEtoKFIlOKoNL8PcOgdyirVvHHUH6rGDawpkk4x31bu2FiECcXeSsGTk2s1NpceJp6ZzF+NY5L1BBbAoq/KixUq1ut2qmg1pOzvsy5ytZGtC9VLHHqyetQ6aUIdt51wPLVtiIm3ePOYaSSsgr3FybG3rkyNzJzgEfOFCnL9CU62XGiqMoz4u6MGO1lNCVCqwiwkQtN5KnfzseALewdCaUxhXda3765X5jS7XWQKq5pKj0mHsiTc3nRDeYuQVBHcN+T0mHPkY44j6NZK+bk4LWE0EtP18rrRRmPFcSnjeAvfLzo2FSLf+LWXKdJg+Q0yXmCTjMLH640nEEI9Za8UunaaI+SQ1y3FmLV4u50Uav9GbwOj4jUiBiFCFN79Vg3WcaN6PaPxYdr2gi52AMYh7JnC7W8/sU/J/+de0+8ww2za5Nei1FMvXnhGhep2NLP3awwKtUEa9iTZVVEC2ohsQCnD+bllM9JVuP+cCYhlSsi7BTKmd3Ziq5FTj5FFccuM+O+gKm0ICI0uW8DUV9IfFGm0cyRgJAIPYbPZ+POysCHyaZA1Mt7cq8Vg+PF5LbynXqivVDwQiXUCBsycN4W/sm03ZeKtpFMXflXzWovVwe9blXOS4V2swmf+T9ywxKBYgq2mlNFVrgXlrv6B7y+EthywFrs06ksGRXTEj9CCJAo0+YhJL/F3gE8+wQOZOFtfmV7u2rFAiUFakRr2BN8aOYGDtLC9juVYiCCA24RBsaBJbDWeEqAt3AuuVkI0J8uQsJK7SSaLUdvsluYsImg8s44xbJXZ2z1yI0IUfs9AzlTaaCjVXz5Lp7a2J8ffytq6trQJERBjqmpoSPudZr5b//g1CE/pTBSREEIKsQXSAyoDVwPm5iUhvRI4a/QASt8TYIiBkdYDkDqRz6Rso4lb+M4ntJK59heXhivt0xk6t/+oWWS3E4RsWGdOWMpBVFQdS6mSfHzAJMEGzcKSdO2GspmPGo0iXSWWOHYr6Qh/fPQ4RCSXEA6Mm5SZXOWycicSY6rizgyw0uRkvk0NtkzpOeYtK6mhjSAswv0LFLxSuHkT8KAbSLHa6HoAT0RqjI9REgTXcfAzuSaTMQpHNl5WC1tt5Ej09MeaFLhKVy63D7IIbu1Ya17k+vCdhEo8yFYSRrcH2zS6WN2YlOXl7l+Apu5l4OLjS984H1YYllyxD568XUozGPUcD7O3XWQHriaGi3fVfB6iP8G1acWn13iFWn0GHPmSiqulSIKoGFlxTcaD6gmTZqlGiI7ldtLB3sEWlUzKo4UTAyYZ1re4dThfcTVU0OLtLIsHmjPE8/mR0lXwM+VFsturdg+atkLOnxHBDt4X0nrN+Qa4Zvy0Rl7XMVTXtwL3qTaLswhNCFmG7zdfr5Sz3U5f3RAx7Rr+j9dSMUehfTP9MsJvnk6ecovr7YbUhvmNxfsREJbPvG6JygL9s3NdY2xRdA4m0MOTfZGprevdV0P6ob+x2xEAXH+3MGKkDUH0tttZ0K18c89q2TyoSR2JPsTrA3jXrO3Hi7XN6gsbfuboNzh9hVMaSsHxnAfOIDeHMyDX8KO/nKFKzREp6tToaaZLZXEyFAI7ICph46xvAeI2wyKMfwPLo1XC+mKc04uSlbfKmSMLBONPRVK13F1MPqRBwngQpfnLgZW9M1QEXidx1CAPHVBqYW6MAXHN1EQYU14DArXJkZHW2VpjJt6Ejzq0VL3IWrPxUQRrfsFVZ+d5v9xz5LZ5l8SViUjaKPtAwFOsBzMh+S3GOgOQmxCeY9XBBbFRpXd3RK2ooMoRbZmCQUUlP7ArHvnMTu5KKHUciyFab3O0lrxZCc5fzVsy0BE1e0nZVxHzpNtLE/9ZFB3P7dj8rXqkWwk8MpQz9VXZJtywijIWg7Es/cjNFZenAFlMSY5k+wzjNOb2/xtjaTC6PG5WAfU6Ft/WEQcU3gJEovG45rTfG2ApHKzJV4N8XD0jPJVrg9BDjxAhIdJnTDssOjJRCXONeFIXPPAjyqzkZOWCb7pj7vcT/tYzHWWPaIU7QWFIXzFNP2nxxI4lhnRLn3q7jOCIaLGoml8qrlECNIiI1OoW/L8L0nbRhTQpVVPYtXaQFkSQQ8VJicEv0Ub+lFwXEgCMr+JbH9iHOBMjRjuEnqTQFLTKnVXgyshbGkEEwE4jqThDjl1BOXjggk58EwCJuSiSk0nWeVzTds/TK5G2NqZW7NKZJIpekWUixjdlLRKBZr3UU58NyySOpivy3oXXigeYvB6h/51hGvMYYIv6ccEQMLkh8Cb6o6VVOD9YY+KnJwgUGrlnwtqTBgZ37ykpojJqkKX3hEmovz5BN4RT1lK8l/5E4SGicQY+iVVUtla5EVEW5ZRllj1d8kfAM7d7tnlD6MHJHXG8uB/730l7LahYsiifbOwZKoie56sSdPtpEufydrm9Nl7SlBY78eywFvJWRLvp0YaaQtWbmfz0lbTGJZh/FSebKCNb43I5pp8AcazRTdKVxLcjmbaGoSyo7TZsmQ1PmCyVSu6s6mAnLly57XZKchtj5C7UKWZ00e7VXpI+VIipmEiWXuYetSQS5Saig5VVkOfzbuXxKF2INo2CWuXzTpyzH/JHiXNYJQ69ToMwQt0ZMz5NEhLorB62Lw0DWcnEHa6SEl5rTwS7F+oCHbWsk72GEU1tyewRqKRdHox3tRMe1uaR5Od+IoTgshp1zxOB9xCEBUHK35VM+tyC0rlTB9NXH9HTidvTvk6GyWgQ6Js2paoOTu0N7RVHHGMW9SU9cTc+2oNLIXR8Mrg0ZIM/Vlnm8aCYqClZVeytO6JMQLB2ygfHqzOi5DMpVWqZBkqpzkwjF61noJPY81svjxB2S2TANVsiI82Zkzgee0khQABgOv/4NQhQtEz8Mf4eAIkBsADb/yP+J+YksrkGUzejyMZeqsDcA3OA2NQ0ycPPQOFhGm7K3wYpG3qPI4INRRSrQqc/hTnBBAPKxeGAcXyFcYiJnKoWWWEpP6NhKK8aZG3voU/Gp52Jq0IESbFSo+k94p4pdH7K1S5UOEYFnWX6xY6EmkyHV3EEz0cJeo9f3z8+REMLtJwJtk23QtmBNn3yep6DW9zCM0Xy3AonCxa7aIL6P5DgguUF8QwTr5ReITMSn4p2PCQZSmeafsFah7L5GQ0lWv0vpoyDCDtShmkY0ylBE3alJBrd7RiUsrkkJvNrhdBNZKUYIVxrCQqCLLAwAewYRpTxblkwXvA+strkU4zdPGFKMfIvU6v/yUIdjnXq8RIkiwiy4y8zpdklwNYQBZbo0FUriCIkl6yEaCHr7HWJ4XbhC3P1YxZVYUYybQj2Pu09ur+5lZkCJaxOSlDGGd5Dkr3wfopvLYYz0ZEJ3yO/5FKfrvQsqP2bvcNBPs+xC2mVFwRjiN7w0EmZi/QxYXUQR+OsRXDih0vCiE1TQmI7jT5QSh0YwzMt0FntmVlGlCKd6odYPRvysNlgh2cer1LPWahmklrqOyiOGPkGC97DVURAp5gRKJjExUbsld2GMTC+gJ87Iq8kIKNwkKVyEg9EvYcR7kk3wIY/5M+b+Zt4W29YM4OCtI7ztHYSIWrCIK3TyZdLNxmi4FzW88iaD11RZpm7jyw06Z2vIt1aj5FDc0Ur1Z76yE7m/FakC1EkYyRLDiXLwQ9ksKDgxREIze3HS0bBJFct+HsZvTr05C0UXZNqfc0yZrts8vrU0SnIwIksSNbOnak37d8M1uLx1p3yKySQ0BXse0ZhMGpah/Cyye9bE7kMWu1Y8hi8vEbywSXLsfbE71zNvRJ5Wq5lIBG0J2tc2ywStxWJguHEayKYF+jYXHOdUppwIKPaFkVcjEhf8RH2bX9Zop3jPjIjk9volbNuC/SoiSiP70YVCqMiWgkPScSEEBpLIjZvGa/DXrhBFHEx6zduNIRL9nyN8leXuvJU1vDEFV5x7zaUUlWi/JPpolHpz+VG0GlgyTbmY4uoNTehheCdNoQeqYXLqftv8dUfWl7MP37DsU6fo9ex3HNNRNB0Z1XSE4w/GUD1LRUwUNBkDalGc2VTH0d2tb0YQnDsB0vEVn0JBUjxpXU1XPEwAB7oB8QjEFijNB/HtAFJyA5c+Uptz5E/bP8Ie1jWbrO0UttfRonlqwBHCrIqxeumUJgU4q/cHDa3v8lbyudPTx0RBxg/4CQA8BF4QH6vs0g1omPneIxYJgEoGTt3GP7t4WhvpL5+EvGijXSc9s6A2BvISmvl0b1xAMtGQxUm5FxNib61K2+6hiB5qDVYOKyMMeEU/F7nG4LsVS5SRbl4JOMtdbgMLLZENGSAVcBEQmYYSOv3PyJ+pbs1N2gbMCmJnCCzN4dStK6hhvY6Ha7DxcV2zNCRGVukjlGmlkh3a+Nppk/uGKc9GceUaQ1nXDyS0Wm3TCrOarNKUwNGbsiyz9ho6MoxjS8db5mQtmZIHfB2ga8eoGoiJcaNnP2R4/vA1BNuGQSK4cMVQti2uYUHGkzofXPG7q8NsdAkPtXK7ORfWyvb/NI5nEjpZSDOTUK8jIpw+ml7ypQwJ0umvJJREMsp7XNEQvl9gr4pFqcBVuxoyc4IEBB4gQQNuHagnPdeqLEeceCqEh5Lg97ZXvg3EIueMTy0wCqST3yCkyFBVJHNTc5GBRrrz5W+14L3VWyHPwly77odLJCGDNO7NLuqJilBSFgyhbRlxKjxsDXGyiUMHSYIVRcgrQKvQr4bhgOcAjLLBYAG+iAyqlWgwQlshfRyBCiEgQoFO86GtPriI1ENrLKaPIG7i2y3avdkp2FDkSofdGq7Gz985JysK+L9WSAVlf/4NQhRs07bmuC46zXxffHC7ljsK/Ga5ik1pDp9k2NJenysg7k+XgE/9u2cEhIyoNZdCq4Vuzv5uuSER656qDtf9FpGLAaQ946YycA/PcM4GGFAosSmisrIlScP4Dj7YT0L7HtDjUHS2WTlAgFdQb6GATpxNAF5qHXKJ3itRniWInDtWamkIq+ZcZVuHZD1yJD6CLEOmCFXymgOISJrrS+hxRiAcj7onVMLlo9EMAZZ4wlBiYCbaG2OInfd5ftausy1aRJpuJZDjjnxODKZpGCxfbr6yNdnCAMBiar1NufZW6dAaI/+IIIaMdph72RbYcrrfZ1WVERIYlms9SMmnMNHWpWGyoutjWmO13drQ0Cswc0b8IyAsyvUCgxs1tVD3wQ5q1sljsS8edLZ+MpYT0WbXLeAVDRzW23wEIvnhdwkxSrSnxi53OmTqVqyNDGBMA/umn2eJXBqNeaLBymiZPEbmfIhFCq2sja0i65VSRtR5w+768bWzpQy/OSIABwhk5BS9x3pVR479hG1bjCfV4ahyevIpwkzuTmRZw+nGX5pBViK9MslkWJqK2HNggWpjTUjN7rHzG7df1KBqf7KP+F29U0pcyLkXT93gTnFsI64RIVotVIUBCJzG9+tsra4JCnyp0PAwR83PiBAInxGEE/QD2ReOhoI9ovyw82g0JmAs1dSpRcrTVF2g4lOWlCKqdEyyfupoqzcNWenn2mNM+LnrxehCh+cBT2oDSclP8QEz3EieMrtUQAvBDTTUC1gl0ueqB+TN/PRmY5S/oBQBYDuKDErvt3hsoVVHIuf8csFSFfKfk3Hl1CJ8xjULj4ne+QvIUWTRvlicDXxbZa6tS5aCWvuInAgQ4fA0KC6GNz3a0XNb/8Kc9GnkjV83hJqjmraAS2i7XH2ydCt20NLdm2YnTtSrD9JXGzc4Fd6MJZ4xfF81VfaHEjVFXc7kDb6JX3ASHU3K1TYBQfbc5eHQyVrp3q3U6sdSoudBn+TKpW3CZJ1Tsm0ueT4uLk8Cxk0XBUmsbA3z/WJV0u+5EzswUSoXjrBQrML1sY5EE1KoOmh8X2sdhMfFfMcMDZiWAlzrlWFGyLfizUH7cKH44sXZuxsurqG6JbNvsvMLwdbPCplmJjjnPVjFClk+oruec3pjUivqW2rHF/chn6TJvclSsnPiKXtsi1Ci8cWY5QCBkf3oToVd/j7nbA/2hPFxcuC2Yt2dL3CvMxPF0hewK3iNeI/cQk+/G6nxFZCFVxG93kFG2fHBjPgWtlsNk+cGhCL+qwjcfVmF3W/tA2q/GiUe4LDIE8aX+wVvtyI6yk7QeL0RRTje2r6kkEj5ngICT4buXPIMoqKPeN9R+0RN6mnGJT1O/i70Ez4klMMiKDs7a874xKuJxR5pGMHNl2Wzl+lAK2zXOuKmLA8XpnlSLI1XIUFq65kvWrAkYkFcFbdX8AgI60xDXcbVXa+aa59rbuaee7cbketCRwwvGMir2Ce94RepvLbpDMw+Gmlk4jkqf0oHg0ErPtCab/kG7pjUamZ+9x5DWPlrDVciQgxN6l+uqz0naQjTOV2MtbLvEyJZndONbss6CLtZF1C5+Yy+i0JmZtcotLPzcBEaxW1LUF+KRM4uUEP8JaOEKF/p0c1d5kYnR6v74OiQQ3gjTVv1QztjS8ZOlNAFZJBl8iu2/bQ6gah82XUkzp4nbV7mVMf12/rilM4RYlo68tRV33qE3ZXGa8LHG1oBTqva8+XRDfClO2Uns3jtDuk0w3JF5Jg+u+vXrEixD6pzJTFtpJA8PG/VhPP4asoz1mDMeY3n+ZoQWlhD6BmR47HDg+gmvfmqRdOjG2JYb5VJQ1KnKKaT0vKW2Ob/oFjuEiiAfSIlaownEqZ3ngp5vmCIYVe39jvExQtRXo8ZbjJCYhIJkJY994MoDc7H1zxMCr6G/PdQwVF9eOtTsrdDDaeP22YHVXC0ZpcbrlU/crm9MmQ86eY2UwuBd1dLPRrK/KFiSuSdP+xdNVL9k++Fitj6o8U0bjeHYGhu2n5xUTehYpm3qAqmN7G2B1iwpSfEGI4HHe3KQu9Mxi5kyIqGdosNCnaif7o6vDajVtntf/FNuT+THzLUAny5UhrLJ68Y5KVKf/4NQhSukzuJ/HP9mn5YPsn/Jr/peYmhbIqY69rsXGNhSGZgJ/eNKqHcJMpdBBFXHTTwCKPrx2EMkt/h11ZJi91ovv0l9w6j8mORXLblCoMtnKEImDTKWN2Qleqq7HbdBhuX0IXNErwMRhXKSsoUMxNflX8vpwYgJ2JN8VfMi0V+Xfdksz9PHiEswmblHCHdVPuIsh0sHZOanh6mKZJGNEZghah1fs4qfTqtVjNJRtQ9Bk3Rp5vVzPBNNQXHdRdBVbsaF3IHzD9mBZGFmi+L/PWW9fJO/TjMoQlsmc17wTxDXeWJHNXWkvHfgSLcfrqcrgpGQii03Jg/sw9oOvG2KwIh72BjfIWKMI96PJtobRjuKfPBqEmWmGf7nVuXKJkarshJvZbgz1ajXci4bhXiDo89n9vU+X/viuyYHRCzBXl8BU93VE8heWUvvztbm7bT3rsQnR+SzXyvFW+Z7qbJ8P7n4mWc2m/Y1v9YtHxz/Xa6mfY/gj2KsaJcyTsy9/3+rpkFLbQE7oj6Um9JS/Y/ikZoIlSVEqNsEvtny3zRJhqy3WbozH9/7J/oqq0iCLHkLjB3yIIvaYNJ8MkpMWfq5gSYX/IR4pr11Z2hIuUMnRU8ejut1FNXnxbNqKlAnmvDJFTOIp35bSFmSVsrQUKzqmCTI7E3uQvkt6AQx5fREmOKkiGXrioNqRm7Fk6S432Q0cfZNZn9vduYTC80JVE18s8GsVFOfTYt/XTOAIU4UVgtF3NncKcEkHHqX6xowo9DdTYQ9jC28DCSL161bBqCaF8Xp+ZFWX98JD6E9TFG4LyA5JaCtGyLla0hLB+oOzTlxX3Iw9ZwSh7QRbpHQQ3D97YzHPRM1N1anOu0dJCzUMNkXw3umC7/fC0+cI8RSYAhG9OnJ9BtRWiMKFEDkoInIo8HZVsrLG7LAUMmVB3RyzsN6KL56wde6I1NgXWL0LHgCbhj9d4PL1YNJZZKEMDRecbZ0FAEu1y7GF1YKr6/usmZYTXdPeicOa/PI9LUAgJXCH5dfKVU7CapomFSivWcE2zA2MvVaiLYmaiXV9+Z1YCRhmyXGrCi5Z1WzVrXJzcyi9oyPkWJdmc/sTntF4gh/4lRsJQE+MzxbCe3Rkckk//QIRidrjuQFtSBYlpLvrayfNTzuiCb7gOz9kd8tB9m7V6r6waCxrwMpnlNHcNgr9Ihf3VW18mkuV2snfT6WTqbcvI6PuZmSbwWJQTLQcwWop8b4BVp1jO4lzPZNrTuHyCsS2oWiRKMuiVZYNlZ6LszthLPeiVyXEot3csBiKRvcIXKXPs/HYWtIZcV8fcelEQ4OM9I0eSMefoa4YdujnkFpDfEn5B8m3gtYQBDhGzNu9LRJATi83JYnlX94c/m2jH2c1/BQkG3JDUGoHlUPWUCgEyUDuW5UtpcCO72W0fPpdkGLDGg+I88dD0REWzkrzFSOAl0mbMu3suixqCCM0f8JPL6chCJjZT81PPWRIhei3uydw+jDUj8fGK4r8jebWrHjXyntDpbS61374XigaR1+TugBAtoe4jc0nBcuROcAkC8RdLn19U6y0VSSlbKRqsWZDzQQmwfU+MLdbD4gKeuEewdv/LvQbADuDU2ICohaAbHHs3r6IhEdLuilTOUg8Jndajn2XhGoWiPWJV8k4NtC334mvkfyawNArwRa6axs0apJSfkkypKSE9TRqkX094m1cBOExXhChIA5JHlgt0897tQp8Wng6KhyxBrURFanLYKBT2lfL2bibDLIAFOpcQUQKXkT4KWafEtDHDb0diKs65EcFDWllZOP83G/DB4Lcw71tqgXJD69LKdgcmVFL0UxtLGqzgIXkJbOB+DJaw2Du4RGl6GDEO3uzlUpeU3g/L/iimTk7cscJULyixmlr+nketUK26lyZCNoydmFV7pXBWqaUS+yq8rdHKTZ6iMggbnwtM19wdVc83n3LIKEUnMgh4pKjYNKgeBG2/MeSWwlagvRak8pKl8n9pLNFfBI84TDwqnWNqQeGqpg9lDsV+0ShpNtGVcXa67rYFYT5aONxUIxMpLb/odhTLiYPLIS1pmqSPO8KCYo5Ee6GW1Ke1/JtnItBQElxKoqV7N8LHTRAX+y60GnlpnR6DuQBePP/4NQhTvUzgw+Nm6b3wUPa3+pz/GeYlIbxMNm/9oEHvAOC9w575PpKDTC3itBS2sO0f7hhDD2niJoXzVCzkXoqgTaROIuUhEytpsUZNYN+yTzMpqTA+0lspYHVjsRgE+N3QhyIYCNqULU3JZYc0xgoLNhZFcsq2CCUbzUdpXK7EPlPTf2aPoz1WQ4oV73JbMCUsmNgarLwXoUFi9aFbo7jSekQxS4BpRqlWa7Fto00bhBPTrpiNZkCGZfXdGHRCTxG7WJds/HTl5aKb/jTs359EsAu3rG4ZlWLrOJxzPMJX28trAICSdCE5JOJ5DGjcDf7CstGsQhxuV1NkkC9EGFmBNu8hRToyYNfF0XOofg9B2lbW227Fr1RInEiZ2I9vKtp536S2XQ5Wxk9B4Gb2WzNqcQ3AFGTacKGh0X7LVGAbRGAVwyAyAQ8HQ7ZFSfChw8QtUBcxdiq1kJkVlLwhtlH1jZd1pWEfHYaqMv/aOAzQWfnr+IydtXjWQRVCgjFMXKjLfErpl3Oruh+pigjCPiudTAKmaJ+N+gMDVhlK6bpiEE9a5kejYpi34xcpG+NcLU2raKu6YstlT8IoFyFDGkJDIGwJCsGip/BiZBV/f49h4Jr+QrxlcVs2Hmwhpxv0FnfH1Pj9ZwtZVxPSg2mv8ci/XPTIcXIYBPUU1FYIGsl2GqCDVblRKaLgyErnpRP/wd8X76GCPoPzaOE5ZaC0HXQT2i8hEl3yq3cdP/0kany0qPU5GKoc6x+nrSZLjF+SUtMEdMshy/9oqkz06mOrFKh6imEQn8imJfLP0LjUKSiGAv8OLGKAzItyn5HNRnYF5o+QvDA+eLlNjy5QoUXG6p3TepiI91M5p5ApUaE4LFAiNxNuEFXQtl1x6jztRip347EEN+S1+E95hPozSVlxp3kHLKhMGoDYJM7WmEw9RXxKyA8I2EwgXOTzOWhSKur+Em1j32lZ8lv6RiURbPs39aWIfAW1TeScJjdPmEsgkqtJW7qkfgQcvD3m2UxO1ChkcLMDPd+eV1126MbsamV7nJg8mnZBR4rXtvMsT0vg/zHCWNzF4pXvSzs+b93mDIghwnLk1K+u6+VdTqYll8rTyWgE8gn6z81IX6tslLCkLgDBRaxP9lPP2xn1zt26xXQg5KCzGRRWE0dCCXeFCajjlMyLMdOtdSaEIuMUt9iJy6vKQwVJGj0QJYfm0DR5Hs9AihExXF5W1Q2kQ1JZs7uBJip+Vt+hYReuTIuk2UL9brMcqJLNpBXBAfKiQyz/7aIYXyX3pyVhqdAq7rlWIlJPljhk78aGaZnUSRuIYKNZzoYMelPDXbwI5DieMk4WzbEIX2oTpiCV5SfUzle0lXJt4wPW5h0ppWOvva2sLER2IB4UOEnCAIcWhIFHXYhUI0Xk4j+qPJkYLHqlIRtDEzF1HpgaJ3YhT15hxqZYerNpXdNhtieqruPbJIoyDYoKb+8kzgCxo3517i2v0rllxlkPkkUtOIgjJE6fpHkMEEoTKfZKLsEAvypU1h0dhybIf3KPgngXrhk9kvZil8DKgZtplGRKUCvQb+2x7FcSaD10/4UoUNMvbddOUhx3y/u0iSv//E0rrcEvT+RbC6R6O3RaPRbQBBloSASQ6CGojFXRhi34ouwgn8uSxbegR49S1gtNkeTj2yB20AV5AmkYy3K7k+WCRQhiAdnmJjue3XRhmz5XPhry+R7EANFziVO3jmjOX21x3xakbTw8+i/RwVkGLTRe0+MQX06JbLuBNlN3UbgjWkhaYx/80zpS9faCD2uzHXi1PEi9q4pbR6nXhhZN8nJfILjPR7rz1KeQrun93jWZ7QvJ2xXLUhSmSgwMlAGGsz4qiEyGu0/FDO5x0yK7wULwJMpflLPgrS0sHLyRi3lqhtu3C3UczU0RWaB2X//4NQhUqE79Jf1g/bn+Rv6u/uT+0/7B5il1or5663FZX7zbo5X+bIjzxIdUvBiOQcpUaGLfKkwMaf53HQDDNj1LIlhX3Rv3iNnoHY9aM4IbROxDwygQxEmE7maiPlYq9NF+RDLpEHVPYy6I95RLyrlF0/hBlwN29s+iwqIlOk4t8zgQxI/21qqpKF48T8k2mRXrhdVdEXozqHAwmCpdL2XjrokURajobopUBXwC+nX1mluvcDlRb8p0FTj1VaNdb/c0/WIg49ZIBLqaFunxCoyUmSLQC2ahJdYKJ4NXnPg+aRg/yjxmM3KdJzE06yvECfjTcsCkth6kgkt5k5RmpMwxME+gqpkKxGF9qOT9/Yx7847tveEXAk5Dm7UUgZrsec2WNxClOmZIcy1WlXWowlajZFcrymKKuUUqxKWUi9fQrMouoxfFvkQz1w6xuSJm7EsuyHX0PeufUJ9VPl0wz7lP67BNeOkIX++PxF2bUdKSbTYVbguUtyYuIoZDTLDvdHsT2GrxYCvhisTsXh5kdpbtG1aoqYrVINz6Nak15bUlam0wlZzSpnCsMzUiZkjQKnmyta8oW6p6gSB4Wgm05Ese0opkuFrWiTE6iAAPdAAU0BDIKXG7AekYmAMVBEx2ImcgmFl3/QyZDE9TBGh1ULKRjiVIqsk5i9KsknXuCn5OiJWaKQcCiVBlUtxYsWuowNOEASF2Dom7jj+uSDurdHJyr3lcnOGGGf5+XntnS12pnsbdGg1EZ3r7NskVkaaa7KiTzIRF7yi9eQ97RF7I3zQvCothZy75B8avGIqVIX+ipiWiXB5J/3T+jL3s59x8c4muMWk3aQdAEUEzBNJGNvREg3go0/GC22BASlTo9jtjaVQl0H0l+4CktiJfPPLW+IllqdisJINzkiPrWAvYYhWtFpqphpVP+LdHIxurw3SyYsIMonlkHI6seJaY0m86mg2/fLhCuFwSGrDWBWzjg7Fh66BdpiSFmK5y9aaCOIp/MbaVsoGJ9uF77WlEj3q9v9S5ewU+xVIrHVatt1fP1m6IQ5TlZVXPpM1DpL2jLbek8EMFso8spmxFHl/UiLFUh46xL5UT7VgP0C45CDgugZMQYL6ClwkHzsK2RmBIdakeZKWJudOgi8GjIlGEiFAxXo/8CVWSFB05ePbM3JJwYpVV8GBAsD2fEgp5wOuKXdFBRDzaXQkcQ+konbEdsQwUNNy+q/xcjL9VhrWLredZUJLdmEpxawBBw0rzwv4DW2cv6IVDZih4nWCVRTNyMIGf0wPMDAbi8U50iw+WodDReR7GakDqV3NZWylEeHFPO9GSxyWKmY5kggWVBY1l40zVK5bbM4QobI1SFEp0kQt4K5fE1hGxA7xJqwRP+IvgqYCtmpH9LZAZKTIjg04QfpW/5CTUqzW/aCOUpLGC2RLgQWjSmj/ZhGQomDDwmrF3WyeUb0KiR4/U8Rg1EeMo1pJ+C6EgK3JNSZCyFvwM+JEwkVgy2dsnmovCeU8pKUZ881v6xSadW3WCcEBTGVC6tDAl9l0s2WuShstgBxncoSKjLjOeZcL9N6bzAgg+l/LNBMb5kaIpvp9/TSrNb5R7S2U8E6piQj2VCpkBIMN/yOpY2MadMRhefwJWwHnNBYp0VGqqsCcQVvBUZtFVKnpeBiB+AFKTjVoTytMjwoEJ2izXXMvORjRfgoFM0EvHt7S7APt5Zt5lOcjX4lUESkUOj51p4KrzwSB6xusoI5QMtmoqpLG9GY3pHdkNAJK0pf4zCn8pbRjr1mXSfLVKKlUpmqfUPXSR4SNNyfcDZDEywsvEliLDnWPCENlFb33smMtoqyXistvNpGFBAOBt3XG1sfy8TcTKk3/86UOB2A2PFCu0E7UxxO6Qe+mtK0ScPmbErkxkZotVJC3JcsimOiksIzhJLPr8NdIZ/LM35RDPdXTSj4FrM64cccCXbAzznqj04uOj/srB7XI7peQVkBg6yEIitVutrx0yG7pwNE9caHEdvmDshRyQWx3YkrIKEB1E8wqg8GA4VaJLtmiCv0XKmg7QKqn/+DUIVa9OBzINzRSLGV0dSx/JH+kfZ+Yn0a5MV9/BANcNkALH/s8BKmTfbkCElloVzEuyeNaCuDhHqW0KZKd3gkMIq3AIJqn3jvhCTM4pYko48VMs7hP/PzbKmRCOSWH0RbuMxGdkhqXProdhP9jpiqhKuvoOFKI3QfUUwu/+8fB7NWsqq5uXs2s/DNCW04ZYVnLEnYjlE74zuSxMxK8E+SyOqYUHE6AerYZU3e0FdGjNmuDbZ6IWwMTrah3spyftN0PdxBi1KdrQHNnHsVXO9n9FI8oxC41s3IQFIf0J7PDoWGHyftAivuajbSKiXdrKpt2drKXzp+09m/JRqoegiFM2z0E+EEGgaQOtZ+m3OTCGZGhobN8U9uSjCR4sSQ4FcunCg/+aDKt58XlX+aUrPn2ilt46wVWal5AdgQ4im10YXP2Cy0K57BmjFtRZa3ELM+rn9qj1h0XRG9QmPv2A6omOlGyZcnrOaYLiLcQ8U4R0D351slcJu0j4nUiHM5fxlOVtCQILDq1VIUaJSXOwe9N1XhPupFVw4EK7vQAjHBO68eoidEe9xFV6cEkFcM7ss0dUW7TM4KMVwcdcPiQlkiI6o+ehLIxfhd+WcyfvuckThR9RSH5M4M3ONj7CfuE+GuofLWXigwlBjMzoMOpTLMC2+lrZXdSZzxqWkL+POyYyT5Kdeim5HBkoPGRLq3RTzT/d7P2bXIeSkWxrKYGVczFMGs0Rtmdk/l8BtpTk1/T0d55chJEbsFiEHtJHHCEowPeED1az/MkRcEXeVe6qDyTtFjTL7r21je3F1yxwNZE89LKm3SGvXtnJ6jLu+p/Yijhdj0k9tl5S4tUcpXeU0nPStK2tblGMI2dGm5nkpy24rdF97lTdH7+cevijFsriRRQfrs8bwNQQ2VNOwL70iGcj3vlGU5F7HEiZF7qXlrbBQs5L/aLuTe0NfjU9zIGjZI+EvZxn9WE7hKd/OwQ8ieYWkf9ejhUc4NYlHmnLaw/9mZJw/HyP2WhW/lwJpaCUEr0ovx9/1ZliHlR7ldLbaPMONI8EmYUbHdxphftl7c3vkzbG6TCdftuT/ZkekC52YJ5iK3VR1NnuseHjys8pmx7tUQ3dhBk1SKtNH1G55R0vw96Smk/LMnFh1u1NOqyJogZGjt1dIlg6etp46bODpanFdsTZ35M+LeSWO6I2U8a0IbEwkCp7pBOCDYpRl3mOR5MOtu+VS22oHqoi3uxFwo7zO4G6WSq5Ts+ojbfzL46i2I5iA5fWo0JeloOTWXH+pFYTu46rswTZb6+vRxaKr5wpyJQkMfikdGMzMxj1xvnPpk7Wq7gTRsWfQwaECHgtVSdaRSmqjeGduS8sKR28IF3qkxz8A4ajmclnbzMaBIbuH2YdY2mU5mmE+WNSSQj0i+V8VXIMI7lqH9yVZQsSrtDYk2y4b327Jl89vKcH8HjLRK082CeFxdzrGe98w2ve2AXKoLTuWs86zCyslXDG8WrkkLhrbu+cPG+EjSO53+VaXIlys5liIWtoaP4a+9neJ0Um+lYeydTJ6xHHOrqQxzf9L6o6RAHhlKqOuzt3EUlEswSbE/uaerd8n1wfKy5Yde/zKbs03eU6bIpREo/RfwoCxJMZbbSUgToM2UFCwTuWgz1aRUl6ih0gv2Qzsnfl2EptWIla4hkQL5zbbcFH51yOXTwjVmCv98RkklrMCXQ6T6H02JeC2NbJ6azpuFYvu0U71wOVys+s4iq52yRDJnCOdGVzcUiubcB8NJdkpFrB9OH4Uia4bYUMokjxhh1g3rMg1fQt5h4jaVytdVhOrZOoBZ43TfiQ4XwMmU/v11H5VGCQl1fndvAJR5BVaaSU1K6GfAx4gNYHyfZXmdkY4TOVS95+auHReVYZPycseNWTXk7X9M13CJEy1kTNSgoBhuHlZsLGp+TQHFuYXxJstdRvwVkkirywAqlzJ5EepLiPqUkt8WatwxbD0qrMOZCdSjjLd3urF2cRLouMMMWaQCpUrVU5uq1CSOOd97CWDr3zVAp6QxJ7Yul+CjA2z2mSTFhWkxXInS/EJ9R4urT2k6Rg2NR4SemDlxR/HewuckFihSI8Cv/4NQhWpkra7N2L4EDiIeH/36LmJdaxuGQjq7ht33BhSP2BhE6ggQiMZnxw59UCkXty7QKWDQ1kyXZpuluFHFilNpjRngFAxHNdnwaEaJKhdF5Cv4ixUf0UeAR8UsYoslmVdPp6gKFq+xulahyCVr/mxQtOcRXdjZtpd4IWaWR61H20YMq7Q5qbsQkAoEu1QOVrBT8Thx4zrk5emgYuC2n6XYzANj+hcsLUm+Ehlx4jhsxIkVbRhcEVDPix8arXkm9F2u87j6N5gGHxv9boBu1gjJXvfNC5ROxJM5JNhMuokOoZWo5vj0MU+UovXt9bIs+66Z3XPknhIU122TEWeNahJMGe50gFOhIc/uXF0tkVfS0Xvihu6k8AnoLyKcOIHBotZeeP9Xjv7qA1qTgnhzUgZxWhn/oKTAhtaBaryRdhi41wbcrtFy9xMsJeqFZuFTnAQ/JATCHjO35y2SY1A6aWbpugrL3RWCDDPOWyFXC/cboTQffz2csQcdOagDVssTAopTbV0diqefmxnI64oQhVdkULNMKryMmlBYB6EOBLwCmXlEKyJp6ZMboZPCNhFI7jPkr/R34yX+hqZKoY0t+GrszOgxWCtUG90D41mISFx0+TsTyjAkYlc/hINiv8TqPtmlfrI+2sN0gs4sZqxWDNWTpkzNZdDon6oTZEZ2hDi/17s2K3XnUa5b2jWnqGQ84/aagjJ76eIH6mcODUUkgFcEUWgtjUczTK8sUeSu/cgPH0gXkFNA6AgEjO+qHmFm/h7Lu5I53TfKBCKqazgxMoWakNv1lEX4Wq11xV6EvVRqrEanT7jQ3ITetwvR1+B4TRYlTG1J5r+jjUo2MLvUZCHrLERNl6IPuRuQX+dao5EtKiiMnsxHuMPVScGpbZW4OAV57S0R8g9p2IqMUS/UMuwEJsfyZCtEIsBzi9S0ism/H916+GsSaSim5WVKG0g1Lld4JxEkjsw9EYU1+qpJVNekXrZZPHyqapQWLr9EWNT9VVPxch81ZDJoY1PkMgFA5pWTc82TXwA7SpoffIV2QbWuGqvh3jgl7KbHIfwJDzEYp53cbvHNC2FzMvRFghC4kJaximRz89CtSiAUGYdt7gUkEof9bQ4JEaDCA2PuiNNYnlezCC7OfrBFo5Thsr86Y+kYwnkoK1G/p2Tz3rJGiqmgZTGc222Gj6NvAoiNGlEa8tBiXMF9JmRYK+OROCwJ2cmQmo3RJq2DzFoLKSXWe6/Le7udhxPKEHCDDF5kly+7guivlw7dErpEF3WY4kCf5W6TgKdgDEiOSTb2I4XlkygrlJLXT8yLhafxUv0fQJ3btnriIC+Y2VZcs5RUKEsMKjK0RPUeQk671/+lIvZF3ODEBIVaLY+8cp3FnZLl+HmaUWI9zP2tXu5F1AROnP4l8duY2QvS6jSHOAz9EDEdWtERzPspNKjQwaBzhkmmGQO0NiUMFIOcN4qBhR6sjbgop7XuKD15FnEtSo2TCyTe2SlF639jzmcK6UNWHScOBZrnUEA1ksEmKDqqS0jse2KKPVRxa9ymUWA+C8ydHQ8Ei9V5Vqq2WJbZo6MsLJ7JTdecIRRRW40mSDqmQTvZLsETHEHtSInQzf1Y/OTJDjxAhnALJ6PH+SNxoJ0l6fj280uVBBqjVlM+VUBQktCTeeG7kCM2ACXngUCyWxtUWP/itXanXz+1sUM5uZxmyBySC8ty3BLdteqpjr85ky65pjBHWJ7kKahMDoB1LonCBKqI3BqG082nwpQrl/rOPtf5+bh8Rf3yImUiUMSKojb5WRBzu3irJD7FrLGbJwAO98Mo/sVUcg8e5ilJICUEMH2Ddg4Bu0tXwEP+AQkhB/Q0j9uECYKq3AQOsDT8Ik9b0Yl74bxNkF1nSIAFF34mY0opcWeCIMkdMZ439ISAuJXx/8kwPpbN3B3tOEgs+2b90Eg/KphtQny2hAEsTCXqiUi9jjOCsi8TxCZQ/yjnSXXmiZ4NMQ6AeZrwWwQNxlWN6/21iVfu5EWdYA4w11+s4TISNnCLvvGB6xUKAL+kcbV+ZRT7rueVyZ3K5KzdHMzcPDBYPZU+skqNLhPqJ0ItObczvbnECTdQUuafBwl2CCcv/4NQhXoUwWGRdsGP4YDBX1FEEScuYl+LlcOOwDwDle7ODVAoNYbA2K0a8WkLIqNHfbGpmjiJozLCO/7qYyQ2rG82XIkv8I3pa0aTk0iPMP1COafvqw8s2nK5mW/ffFyWeCIULbgJn/r9W6QUMUh1xYFFteypdmMnC+tfmf7sUJPVmOgon9B6z8nD+4rXEwWvhyHUs8hFKWVOiqowKsGOuebWevqATvwCWQ86b3lMS30FwgsxU/InMTUqerm0kZBIH+3Qh1wO6KG6fgNBFJkkypV6PJVTU9z0Wx/OtqtvijSHTCxUVdf/ZxDbAp/5oXAZG385GKTFcWW+/qnpkxMI+psEAa9DIzkrAK4osQtL6tEbfMwE0XYTR7tWyixy2sbWpV/6fx/mIEsdeOwKXIKueWYEhi6lCUgRNgcNkXTKpE1mnJi/CyMLqxRof9NrXyi8jIKKuL1whZofdCXYJL0fHNV3NcbHeiDEkJMfVLYDa/ART7++a3BDty3WtfmWkSOzttN/IDpGGThlAdxHA3pkQJFn8N3/RZMBVBUgfxymaSIuCtI1GCXzwnSz2aXfFwejzlmMfXKWLVCDUZnsoLQfCPSmgRq5qopjIUsuDWrjWzhj42yqRZQufdCxxYgLsSigKY5PgLdS0IcMAvEVhuwPpkn4cp8umYcRdcxDmcM1Hky1l+S0hSJdszXS3h4sBkPf1bmIL8U1sBlcs8jmgbYhnUXuJmEUrxmWnqgpUoxN+vw0nfOXWJmRKiGOI6+MetLeDSrDxYVE6JuPUS0pt1L9LX+lWeC44MZa1Q07HvXNPIpBZKznL4IklU1EIIooc7fRZu4IBTmwR7meIdjPJliTV5zCCvwRyRGY/AaK1kuku962Xx3Q8utX26VIFnpmNehDE8W6D22HmXoT+srclXOd0jFgUWwCYre22jJO2E3J8DyPZZp7dEAkuyNd2l83BjC+Ii0M9KH+LVhbHlWE8mXii0IQY13HvTroQjTvXv08xkvM8iufJFYCpc7kMZeMZFn5SItLGWYqSwe61qEEjHsN1dmqX+DcHw7kFs0x1lTMxkujfJpS0eKpAsjNE8IzZPL5iBflJzUZARziQdoV+eUJa68l6GKpkxhsRWnG89yaucJynTphFE2T0PaPpWs134axNgQiF5/gtifV2FE0rFYEuWiwGlx8RurESFURGwyV7wox8MviXHmCrJx6v27YhAFaal899aNastVOl64XSimWqCE82TXfE6k4i7iLh4JytqTa49OonaW6WpVLS/myZlTpbnMQw8hA2pHrGGo65easOfE11msl89dSD9fBFLf0RZQoHgc5FYMjSRJfPfnJdEz9SYkdnJVcCHI2fmEl0UKbaSJj0NXP+o2OlSJRyaS7uvDjbXnavaPqoc+kJCcDzePF6EV/0Lweq3gYBXpC0oCMgXZHCteMf96pDWSkrgwSVT79mbhjkJK35AYSx9suZd23eSibJeCUzuMrHDYPY31qzhSyKRhKy8Mw7JLxlYpkmqKk4Ihmo5MLL9VjssGLSiBIsuSy3cJnKgiFA5tjmUZN7aJEnrko5P6sJjMP+jjg/192+N/V9TJaOsOin/I1hoYyUbZlJGuI5oLwuaiP6bH7qvjePbgTjjy8Ip93oeSqKGm5GmzVJZQSxnGf2Icxab0hqmkKS5gj/01RjdPGmFzgEUpEGjrvEQijlEriwRASLQbBLTBGmcfatF0v4qqr1t6bcQ8Yxd4NARbRi4upb35iQDVzlD1+Ea3UNgWUtElwg5tPxl+pF5Bx8JTs+IWKm5tnecmE784FYj//g1CFiMTvGv5xLkeN/C4Mnml+xB6aXmKXiiLn5vZBmNXGgETH3oASD6BMIiUhmnGS8s2pNVqXVGhy0RJzjyQJzzM6q4K6pPOtAoRUCNV+IecijVHlZvnYIWOpINQEpBXA+pio9/sFIoNaA6m9dYpk5Y64s3gy59Q++AFd+Lk44fICyb3X5oyuC2Sl48SGaiIrJYMj4TzO0Yx2u8FZWdw7JXvKzmlwxIikDJ0UK+0axuXPiRz88RcHjnxxjt6qxeDbgfIP+LiCdyHaWlNOu5QSn+b3KBMyJzUehrDsUtm9CCTU9z/VZpOv9Jg+Ig9S8fsbJZzN6+4r7e4tqUYnWtVzAqX4mzObqtKhyV0yE/a0deQsnTD5dkDj7xq6G89QDDFnMODbBsgtB0QbWzFQwyMm5ATCUUkRTMSRT3ojxSxFxx5ygrX01cvf5WvUDan+Cd07+uxVcLi8nwlT+gEOWdfkdyKRFS6Rdgw+aK3BGhiKiqEaE4zoUQe1lK6dBZoiVDeVZX7gtEKACwBrj1BuwTaFA8JaFiMeIv01+V7l4WDIILfBpyhxOYjwKxR3lw1lhT9cmRCnZi7z/KL5W3CQ7OULHjgSAwP4FDkQUmSk0Vx5CE9/EThU+Ze4TBATVK11N3CWVvrWLJbFLEqMhqCcWFARINo38NAA3NwrPnGhXRSsFESmqV/sTvhzcdDmgrvPODOJYgcrD+j6SX3I7Cjh3UM1X2psarC2z7S9z2rLL/9ryhWEDDHXqRVhrPP2yDuDUFtR4g+bHbJRZT72tesSi9Klj2UJjCijgJ8d0J4ZqAvN337G/C1/KTH1JSTPKl9oKT/xTg/kTsP/QRRpcMhio1KAi0LywlasFky/mrkYDtPVXNAaTP3YGIiVciZQ75/+lPxvGOuIQ0kT02GuNloAjK4U/oSWAjG/UIFUqDbxaZsQFccILsyUCHVASPd6HsC9+fSDvJU8S+ZKaczoWyeozGRRVcRe+WqY3/Y1hReC3yiVi6xyH2Ar70JqzXDy7oK89T0DE7DwmCygHgFHYv8XqZT3mUsCu67U1XRoi/4TpNqKg1HLkLQPuAvaOZZCp1yuEKXCXIj0so0i5BMg6aiEqQS0cvepBwIrvhqZR/Hi6aJQcZgS6w5sYgtYZn7zaXvMgw7gKNtowBNFyFN6FVtfKSJu4pmoyzC9XbRZrcFWS6uqxpBMbqPYj901dIlbDCOAdYXmZRuYiM3I4NmhqF3jf7/+Dg3cXlFhV2pmmjUh6+bvpTm/Ecy/jyTrlDrGbWGj7YarpRcvE30zJH/5pcllCkZablrKqS1cZ0sNKChJ6kiqPAJOMmUOwzCDgyh/24F0UIy/OkXo0BfzpOBG+AluVrqRhve5GU5ii68n3ZPqFRBhAGFtYSGK/eSwG3zX9wh43rWRV8kWGZ+yftX3tP1pJiWDecCd4VIfDRkJMKveyxCyEF7oAOosmixUzYFZJNvHevrL1pgcYSWmFCJqF978EOFUELVYU6olNTkR713jY/P8o+JyzO5NSM7gSHjc7hjPRoJhrEx473NGk5MdXFtktorNprMitRp5zfhK93raGuLThrZMAV/loY8i2hlveARFy7FnfIMduzT8iC5oirE5Gq3aZ+SggUo48KhR5ylB2KjDO9+Stx8x3+iD2KcwuTSiOBEe80JpkZJe9z+aDkWMT4l2NtNOnUyrF+OpPn0bfK1XDnBWUzrM/cimiLCKyzysFrftziFEBPs0Ehbfkt5l+rcFOqDzLC1K166CVEOgl5Th+lXHC7P48tPSRUfqwU3RB1yIsKBoD3FhrDvAYLsReNDMh7GKZe1JveMtPLZu9san3Ky6oJjyWZDU9DKfkQw7d+OcMXtSnNfUQonqW1/SESpAV+EiEgzu7FMTlZuRtEvbI/xomApD1ibCpAYf6l16q+bfb931X39uc3HR1OIWF3wev0JROiLPUf3+6/omVPAh/LApeoYzEU0ZEXjz6Ul9KEJwTB3Fb7bJhK2nuS6LXHxSwSl4FeJmo5MSQ/mQ7aUdbX69/IgIR4SnpITGPobp9i/Cb3p1xGfNGCCI0cv6Tf8DLFa5/7Bb6ZYwYav+AWmw2i/3c4UXxMVoRKHiJ06C4wdK/RP256MkS4pbjGJcpJ6jdjBY1numbNDFeWQAzT//g1CFmLTh51IkMlJSW3JPckriMPInzmJvix5E8r0QC+vbhilz7VATPmk2jLPYK+40jZyTd1vjvhP1kCdjK5xWHgSRvMJ9I/epFBJlvzhUdY721fCi44c4eOC20fwzhVbuVuAidD+EpvcOQflSPGQMNIzsKPKgYFmfM2LGCcqKqrxm4K2Zaox20gTESUjRGKIpIjiqy82oaYk9wC0oP0lvj3B3m9l3ZQCrcmgLfdN6xbuxf5wImJR6k6GzwVzADN3T5M93aEY5/THKS6s/wycfjWOQXNmDyYzjpFX3urroKgeqreqqIrczJh1fpkdYt7aUQKccZGGF1ZRuq6a5COsfs36niK4RD403s5oEvI1bYSqD/Zvt9Z7qr3cC78hDh2xXPs9l0Kjus44MPWop2e8rYvHm+1siufGH9HCpOsZ1XJzsowrVkvUWrakkVLCviKeU8wCHWxSTf0DMewqul+LVaJotIadVaLs6vnKM0SKrlj/xzQshHY5gohWh0B64r0ldosRoGSnHKPOowSCKR2lzCp3pyQQb52zzIvlRu71Yya80vKfr1JL90lk/wrhxmUR1epZki3LKeCxedcgKkkN2GqdgwyWWjY3zGESTzC3y8sezXiezqpWsFsx9J3sLahcMZ4VWTjlmRi+ILxbDG12/RV+eONIUWVLbdOt4qNR0cs4KmWnF4avHaHoOsf55XaOr8+mC0EStHyDDni+UyXTcMv49giFYArYV5hGEtee1MM8+t0yV8xjqcrzpN5W4ZfP2M2+19lfu8scb9qrNDQVgmFZOY5r5DCdBuNFXm6TiLztWwPy5ckSNIDzlomHlQsHpiNGGogEVLvc7z0sLVJFaPfX83ajRhT7Y6K2/P98iMyQB6JaKJLM8tyVqQNZkFRgkC7UskhavI1sKViJvfRqO0jYYnpMjXyFr+rzkZTdAjr5C+QP8GwKsmoIrKCYOlYvKazzeFJM6HtMHOqZO8pv7YtxObQMyedBPtlcDd0UKtUUv24vIX6R7ZcQMI24oOHKITJxL/G687g2R6REOzZPctHPDNakOpO27c1Dv8+RvhEBN1axytNIUSu0g6Xb8eQRdNnJoTeRMzI6YeZ4AWns2gwuTJChDNKzFMdFWYjcf0lJ+cKWiSOe6j9iNNQihhciId1vBc90MnaiY65lGZhSlCf0VcduE1d2Vvw8CYLryJ1BPcQFQZTCvuEPm6+xVo8JY/EXhO7zEnmDXdNlpIZVuMBQPNHUt4ZpHc0cRlwTkl6wS2goUiU4qg0vw9w6B3KKtW8cdQfqsYNrCmSTjHfVu7YWIQJxd5KwZOTazU2lx4mnpnMX41jkvUEFsCir8qLFSrW63aqaDWk7O+zLnK1ka0L1UscerJ61DppQh23nXA8tW2Iibd485hpJKyCvcXJsbeuTI3MnOAR84UKcv0JTrZcaKoyjPi7owY7WU0JUKrCLCRC03kqd/Ox4At7B0JpTGFd1rfvrlfmNLtdZAqrmkqPSYeyJNzedEN5i5BUEdw35PSYc+RjjiPo1kr5uTgtYTQS0/XyutFGY8VxKeN4C98vOjYVIt/4tZcp0mD5DTJeYJOMwsfrjScQQj1lrxS6dpoj5JDXLcWYtXi7nRRq/0ZvA6PiNSIGIUIU3v1WDdZxo3o9o/Fh2vaCLnYAxiHsmcLtbz+xT8n/517T7zDDbNrk16LUUy9eeEaF6nY0s/drDAq1QRr2JNlVUQLaiGxAKcP5uWUz0lW4/5wJiGVKyLsFMqZ3dmKrkVOPkUVxy4z476AqbQgIjS5bwNRX0h8UabRzJGAkAg9hs9n487KwIfJpkDUy3tyrxWD48XktvKdeqK9UPBCJdQIGzJw3hb+ybTdl4q2kUxd+VfNai9XB71uVc5LhXazCZ/5P3LDEoFiCraaU0VWuBeWu/oHvL4S2HLAWuzTqSwZFdMSP0IIkCjT5iEkv8XeATz7BA5k4W1+ZXu7asUCJQVqRGvYE3xo5gYO0sL2O5ViIIIDbhEGxoElsNZ4SoC3cC65WQjQny5CwkrtJJotR2+yW5iwiaDyzjjFsldnbPXIjQhR+z0DOVNpoKNVfPkuntrYnx9/K2rq2tAkREGOqamhI+51m19P/+DUIWoJMFJEQQgqxBdIDKgNXA+bmJSG9Ejhr9ABK3xNgiIGR1gOQOpHPpGyjiVv4zie0krn2F5eGK+3TGTq3/6hZZLcThGxYZ05YykFUVB1LqZJ8fMAkwQbNwpJ07YaymY8ajSJdJZY4divpCH989DhEJJcQDoyblJlc5bJyJxJjquLODLDS5GS+TQ22TOk55i0rqaGNICzC/QsUvFK4eRPwoBtIsdroegBPRGqMj1ESBNdx8DO5JpMxCkc2XlYLW23kSPT0x5oUuEpXLrcPsghu7VhrXuT68J2ESjzIVhJGtwfbNLpY3ZiU5eXuX4Cm7mXg4uNL3zgfVhiWXLEPnrxdSjMY9RwPs7ddZAeuJoaLd9V8HqI/wbVpxafXeIVafQYc+ZKKq6VIgqgYWXFNxoPqCZNmqUaIjuV20sHewRaVTMqjhRMDJhnWt7h1OF9xNVTQ4u0siweaM8Tz+ZHSVfAz5UWy26t2D5q2Qs6fEcEO3hfSes35Brhm/LRGXtcxVNe3AvepNouzCE0IWYbvN1+vlLPdTl/dEDHtGv6P11IxR6F9M/0ywm+eTp5yi+vthtSG+Y3F+xEQls+8bonKAv2zc11jbFF0DibQw5N9kamt691XQ/qhv7HbEQBcf7cwYqQNQfS221nQrXxzz2rZPKhJHYk+xOsDeNes7ceLtc3qCxt+5ug3OH2FUxpKwfGcB84gN4czINfwo7+coUrNESnq1OhppktlcTIUAjsgKmHjrG8B4jbDIox/A8ujVcL6YpzTi5KVt8qZIwsE409FUrXcXUw+pEHCeBCl+cuBlb0zVAReJ3HUIA8dUGphbowBcc3URBhTXgMCtcmRkdbZWmMm3oSPOrRUvchas/FRBGt+wVVn53m/3HPktnmXxJWJSNoo+0DAU6wHMyH5LcY6A5CbEJ5j1cEFsVGld3dEraigyhFtmYJBRSU/sCse+cxO7koodRyLIVpvc7SWvFkJzl/NWzLQETV7SdlXEfOk20sT/1kUHc/t2PyteqRbCTwylDP1Vdkm3LCKMhaDsSz9yM0Vl6cAWUxJjmT7DOM05vb/G2NpMLo8blYB9ToW39YRBxTeAkSi8bjmtN8bYCkcrMlXg3xcPSM8lWuD0EOPECEh0mdMOyw6MlEJc414Uhc88CPKrORk5YJvumPu9xP+1jMdZY9ohTtBYUhfMU0/afHEjiWGdEuferuM4IhosaiaXyquUQI0iIjU6hb8vwvSdtGFNClVU9i1dpAWRJBDxUmJwS/RRv6UXBcSAIyv4lsf2Ic4EyNGO4SepNAUtMqdVeDKyFsaQQTATiOpOEOOXUE5eOCCTnwTAIm5KJKTSdZ5XNN2z9MrkbY2plbs0pkkil6RZSLGN2UtEoFmvdRTnw3LJI6mK/LehdeKB5i8HqH/nWEa8xhgi/pxwRAwuSHwJvqjpVU4P1hj4qcnCBQauWfC2pMGBnfvKSmiMmqQpfeESai/PkE3hFPWUryX/kThIaJxBj6JVVS2VrkRURbllGWWPV3yR8Azt3u2eUPowckdcby4H/vfSXstqFiyKJ9s7BkqiJ7nqxJ0+2kS5/J2ub02XtKUFjvx7LAW8lZEu+nRhppC1ZuZ/PSVtMYlmH8VJ5soI1vjcjmmnwBxrNFN0pXEtyOZtoahLKjtNmyZDU+YLJVK7qzqYCcuXLntdkpyG2PkLtQpZnTR7tVekj5UiKmYSJZe5h61JBLlJqKDlVWQ5/Nu5fEoXYg2jYJa5fNOnLMf8keJc1glDr1OgzBC3RkzPk0SEuisHrYvDQNZycQdrpISXmtPBLsX6gIdtayTvYYRTW3J7BGopF0ejHe1Ex7W5pHk534ihOCyGnXPE4H3EIQFQcrflUz63ILSuVMH01cf0dOJ29O+TobJaBDomzalqg5O7Q3tFUccYxb1JT1xNz7ag0shdHwyuDRkgz9WWebxoJioKVlV7K07okxAsHbKB8erM6LkMylVapkGSqnOTCMXrWegk9jzWy+PEHZLZMA1WyIjzZmTOB57SSFAANkE//g1CFuFTPwx/h4AiQGwANv/I/4n5iSyuQZTN6PIxl6qwNwDc4DY1DTJw89A4WEabsrfBikbeo8jgg1FFKtCpz+FOcEEA8rF4YBxfIVxiImcqhZZYSk/o2Eorxpkbe+hT8annYmrQgRJsVKj6T3inil0fsrVLlQ4RgWdZfrFjoSaTIdXcQTPRwl6j1/fPz5EQwu0nAm2TbdC2YE2ffJ6noNb3MIzRfLcCicLFrtogvo/kOCC5QXxDBOvlF4hMxKfinY8JBlKZ5p+wVqHsvkZDSVa/S+mjIMIO1KGaRjTKUETdqUkGt3tGJSyuSQm82uF0E1kpRghXGsJCoIssDAB7BhGlPFuWTBe8D6y2uRTjN08YUox8i9Tq//JQh2OderxEiSLCLLjLzOl2SXA1hAFlujQVSuIIiSXrIRoIevsdYnhduELc/VjFlVhRjJtCPY+7T26v7mVmQIlrE5KUMYZ3kOSvfB+im8thjPRkQnfI7/kUp+u9Cyo/Zu9w0E+z7ELaZUXBGOI3vDQSZmL9DFhdRBH46xFcOKHS8KITVNCYjuNPlBKHRjDMy3QWe2ZWUaUIp3qh1g9G/Kw2WCHZx6vUs9ZqGaSWuo7KI4Y+QYL3sNVRECnmBEomMTFRuyV3YYxML6AnzsiryQgo3CQpXISD0S9hxHuSTfAhj/kz5v5m3hbb1gzg4K0jvO0dhIhasIgrdPJl0s3GaLgXNbzyJoPXVFmmbuPLDTpna8i3VqPkUNzRSvVnvrITub8VqQLUSRjJEsOJcvBD2SwoODFEQjN7cdLRsEkVy34exm9OvTkLRRdk2p9zTJmu2zy+tTRKcjAiSxI1s6dqTft3wzW4vHWnfIrJJDQFex7RmEwalqH8LLJ71sTuQxa7VjyGLy8RvLBJcux9sTvXM29EnlarmUgEbQna1zbLBK3FYmC4cRrIpgX6Nhcc51SmnAgo9oWRVyMSF/xEfZtf1mineM+MiOT2+iVs24L9KiJKI/vRhUKoyJaCQ9JxIQQGksiNm8Zr8NeuEEUcTHrN240hEv2fI3yV5e68lTW8MQVXnHvNpRSVaL8k+miUenP5UbQaWDJNuZji6g1N6GF4J02hB6phcup+2/x1R9aXsw/fsOxTp+j17Hcc01E0HRnVdITjD8ZQPUtFTBQ0GQNqUZzZVMfR3a1vRhCcOwHS8RWfQkFSPGldTVc8TAAHugHxCMQWKM0H8e0AUnIDlz5Sm3PkT9s/wh7WNZus7RS219GieWrAEcKsirF66ZQmBTir9wcNre/yVvK509PHREHGD/gJADwEXhAfq+zSDWiY+d4jFgmASgZO3cY/u3haG+kvn4S8aKNdJz2zoDYG8hKa+XRvXEAy0ZDFSbkXE2JvrUrb7qGIHmoNVg4rIwx4RT8XucbguxVLlJFuXgk4y11uAwstkQ0ZIBVwERCZhhI6/c/In6luzU3aBswKYmcILM3h1K0rqGG9jodrsPFxXbM0JEZW6SOUaaWSHdr42mmT+4Ypz0Zx5RpDWdcPJLRabdMKs5qs0pTA0ZuyLLP2GjoyjGNLx1vmZC2Zkgd8HaBrx6gaiIlxo2c/ZHj+8DUE24ZBIrhwxVC2La5hQcaTOh9c8burw2x0CQ+1crs5F9bK9v80jmcSOllIM5NQryMinD6aXvKlDAnS6a8klEQyyntc0RC+X2CvikWpwFW7GjJzggQEHiBBA24dqCc916osR5x4KoSHkuD3tle+DcQi54xPLTAKpJPfIKTIUFUkc1NzkYFGuvPlb7XgvdVbIc/CXLvuh0skIYM07s0u6omKUFIWDKFtGXEqPGwNcbKJQwdJghVFyCtAq9CvhuGA5wCMssFgAb6IDKqVaDBCWyF9HIEKISBCgU7zoa0+uIjUQ2sspo8gbuLbLdq92SnYUORKh90arsbP3zknKwr4v1ZIEIy//g1CFyQTtua4LjrNfF98cLuWOwr8ZrmKTWkOn2TY0l6fKyDuT5eAT/27ZwSEjKg1l0KrhW7O/m65IRHrnqoO1/0WkYsBpD3jpjJwD89wzgYYUCixKaKysiVJw/gOPthPQvse0ONQdLZZOUCAV1BvoYBOnE0AXmodconeK1GeJYicO1ZqaQir5lxlW4dkPXIkPoIsQ6YIVfKaA4hImutL6HFGIByPuidUwuWj0QwBlnjCUGJgJtobY4id93l+1q6zLVpEmm4lkOOOfE4MpmkYLF9uvrI12cIAwGJqvU259lbp0Boj/4gghox2mHvZFthyut9nVZUREhiWaz1Iyacw0dalYbKi62NaY7Xd2tDQKzBzRvwjICzK9QKDGzW1UPfBDmrWyWOxLx50tn4ylhPRZtct4BUNHNbbfAQi+eF3CTFKtKfGLnc6ZOpWrI0MYEwD+6afZ4lcGo15osHKaJk8RuZ8iEUKrayNrSLrlVJG1HnD7vrxtbOlDL85IgAHCGTkFL3HelVHjv2EbVuMJ9XhqHJ68inCTO5OZFnD6cZfmkFWIr0yyWRYmorYc2CBamNNSM3usfMbt1/UoGp/so/4Xb1TSlzIuRdP3eBOcWwjrhEhWi1UhQEInMb362ytrgkKfKnQ8DBHzc+IEAifEYQT9APZF46Ggj2i/LDzaDQmYCzV1KlFytNUXaDiU5aUIqp0TLJ+6mirNw1Z6efaY0z4uevF6EKH5wFPagNJyU/xATPcSJ4yu1RAC8ENNNQLWCXS56oH5M389GZjlL+gFAFgO4oMSu+3eGyhVUci5/xywVIV8p+TceXUInzGNQuPid75C8hRZNG+WJwNfFtlrq1LloJa+4icCBDh8DQoLoY3PdrRc1v/wpz0aeSNXzeEmqOatoBLaLtcfbJ0K3bQ0t2bZidO1KsP0lcbNzgV3owlnjF8XzVV9ocSNUVdzuQNvolfcBIdTcrVNgFB9tzl4dDJWunerdTqx1Ki50Gf5MqlbcJknVOybS55Pi4uTwLGTRcFSaxsDfP9YlXS77kTOzBRKheOsFCswvWxjkQTUqg6aHxfax2Ex8V8xwwNmJYCXOuVYUbIt+LNQftwofjixdm7Gy6uobols2+y8wvB1s8KmWYmOOc9WMUKWT6iu55zemNSK+pbascX9yGfpMm9yVKyc+Ipe2yLUKLxxZjlAIGR/ehOhV3+PudsD/aE8XFy4LZi3Z0vcK8zE8XSF7AreI14j9xCT78bqfEVkIVXEb3eQUbZ8cGM+Ba2Ww2T5waEIv6rCNx9WYXdb+0Dar8aJR7gsMgTxpf7BW+3IjrKTtB4vRFFON7avqSQSPmeAgJPhu5c8gyioo9431H7RE3qacYlPU7+LvQTPiSUwyIoOztrzvjEq4nFHmkYwc2XZbOX6UArbNc64qYsDxemeVIsjVchQWrrmS9asCRiQVwVt1fwCAjrTENdxtVdr5prn2tu5p57txuR60JHDC8YyKvYJ73hF6m8tukMzD4aaWTiOSp/SgeDQSs+0Jpv+QbumNRqZn73HkNY+WsNVyJCDE3qX66rPSdpCNM5XYy1su8TIlmd041uyzoIu1kXULn5jL6LQmZm1yi0s/NwERrFbUtQX4pEzi5QQ/wlo4QoX+nRzV3mRidHq/vg6JBDeCNNW/VDO2NLxk6U0AVkkGXyK7b9tDqBqHzZdSTOnidtXuZUx/Xb+uKUzhFiWjry1FXfeoTdlcZrwscbWgFOq9rz5dEN8KU7ZSezeO0O6TTDckXkmD6769esSLEPqnMlMW2kkDw8b9WE8/hqyjPWYMx5jef5mhBaWEPoGZHjscOD6Ca9+apF06MbYlhvlUlDUqcoppPS8pbY5v+gWO4SKIB9IiVqjCcSpneeCnm+YIhhV7f2O8TFC1FejxluMkJiEgmQlj33gygNzsfXPEwKvob891DBUX1461Oyt0MNp4/bZgdVcLRmlxuuVT9yub0yZDzp5jZTC4F3V0s9Gsr8oWJK5J0/7F01Uv2T74WK2PqjxTRuN4dgaG7afnFRN6FimbeoCqY3sbYHWLClJ8QYjgcd7cpC70zGLmTIioZ2iw0KdqJ/ujq8NqNW2e1/8U25P5MfMtQCfLlSGssnrxjkrbt//g1CF2XTO4n8c/2aflg+yf8mv+l5iaFsipjr2uxcY2FIZmAn940qodwkyl0EEVcdNPAIo+vHYQyS3+HXVkmL3Wi+/SX3DqPyY5FctuUKgy2coQiYNMpY3ZCV6qrsdt0GG5fQhc0SvAxGFcpKyhQzE1+Vfy+nBiAnYk3xV8yLRX5d92SzP08eISzCZuUcId1U+4iyHSwdk5qeHqYpkkY0RmCFqHV+zip9Oq1WM0lG1D0GTdGnm9XM8E01Bcd1F0FVuxoXcgfMP2YFkYWaL4v89Zb18k79OMyhCWyZzXvBPENd5Ykc1daS8d+BItx+upyuCkZCKLTcmD+zD2g68bYrAiHvYGN8hYowj3o8m2htGO4p88GoSZaYZ/udW5comRquyEm9luDPVqNdyLhuFeIOjz2f29T5f++K7JgdELMFeXwFT3dUTyF5ZS+/O1ubttPeuxCdH5LNfK8Vb5nupsnw/ufiZZzab9jW/1i0fHP9drqZ9j+CPYqxolzJOzL3/f6umQUttATuiPpSb0lL9j+KRmgiVJUSo2wS+2fLfNEmGrLdZujMf3/sn+iqrSIIseQuMHfIgi9pg0nwySkxZ+rmBJhf8hHimvXVnaEi5QydFTx6O63UU1efFs2oqUCea8MkVM4infltIWZJWytBQrOqYJMjsTe5C+S3oBDHl9ESY4qSIZeuKg2pGbsWTpLjfZDRx9k1mf2925hMLzQlUTXyzwaxUU59Ni39dM4AhThRWC0Xc2dwpwSQcepfrGjCj0N1NhD2MLbwMJIvXrVsGoJoXxen5kVZf3wkPoT1MUbgvIDkloK0bIuVrSEsH6g7NOXFfcjD1nBKHtBFukdBDcP3tjMc9EzU3Vqc67R0kLNQw2RfDe6YLv98LT5wjxFJgCEb06cn0G1FaIwoUQOSgicijwdlWyssbssBQyZUHdHLOw3oovnrB17ojU2BdYvQseAJuGP13g8vVg0llkoQwNF5xtnQUAS7XLsYXVgqvr+6yZlhNd096Jw5r88j0tQCAlcIfl18pVTsJqmiYVKK9ZwTbMDYy9VqItiZqJdX35nVgJGGbJcasKLlnVbNWtcnNzKL2jI+RYl2Zz+xOe0XiCH/iVGwlAT4zPFsJ7dGRyST/9AhGJ2uO5AW1IFiWku+trJ81PO6IJvuA7P2R3y0H2btXqvrBoLGvAymeU0dw2Cv0iF/dVbXyaS5Xayd9PpZOpty8jo+5mZJvBYlBMtBzBainxvgFWnWM7iXM9k2tO4fIKxLahaJEoy6JVlg2VnouzO2Es96JXJcSi3dywGIpG9whcpc+z8dha0hlxXx9x6URDg4z0jR5Ix5+hrhh26OeQWkN8SfkHybeC1hAEOEbM270tEkBOLzclieVf3hz+baMfZzX8FCQbckNQageVQ9ZQKATJQO5blS2lwI7vZbR8+l2QYsMaD4jzx0PRERbOSvMVI4CXSZsy7ey6LGoIIzR/wk8vpyEImNlPzU89ZEiF6Le7J3D6MNSPx8YrivyN5taseNfKe0OltLrXfvheKBpHX5O6AEC2h7iNzScFy5E5wCQLxF0ufX1TrLRVJKVspGqxZkPNBCbB9T4wt1sPiAp64R7B2/8u9BsAO4NTYgKiFoBscezevoiER0u6KVM5SDwmd1qOfZeEahaI9YlXyTg20Lffia+R/JrA0CvBFrprGzRqklJ+STKkpIT1NGqRfT3ibVwE4TFeEKEgDkkeWC3Tz3u1CnxaeDoqHLEGtREVqctgoFPaV8vZuJsMsgAU6lxBRApeRPgpZp8S0McNvR2IqzrkRwUNaWVk4/zcb8MHgtzDvW2qBckPr0sp2ByZUUvRTG0sarOAheQls4H4MlrDYO7hEaXoYMQ7e7OVSl5TeD8v+KKZOTtyxwlQvKLGaWv6eR61QrbqXJkI2jJ2YVXulcFappRL7Kryt0cpNnqIyCBufC0zX3B1VzzefcsgoRScyCHikqNg0qB4Ebb8x5JbCVqC9FqTykqXyf2ks0V8EjzhMPCqdY2pB4aqmD2UOxX7RKGk20ZVxdrrutgVhPlo43FQjEyktv+h2FMuJg8shLWmapI87woJijkR7oZbUp7X8m2ci0FASXEqipXs3wsdNEBf7LrQaeWmdHoO5AMIK//g1CF6eTODD42bpvfBQ9rf6nP8Z5iUhvEw2b/2gQe8A4L3Dnvk+koNMLeK0FLaw7R/uGEMPaeImhfNULOReiqBNpE4i5SETK2mxRk1g37JPMympMD7SWylgdWOxGAT43dCHIhgI2pQtTcllhzTGCgs2FkVyyrYIJRvNR2lcrsQ+U9N/Zo+jPVZDihXvclswJSyY2BqsvBehQWL1oVujuNJ6RDFLgGlGqVZrsW2jTRuEE9OumI1mQIZl9d0YdEJPEbtYl2z8dOXlopv+NOzfn0SwC7esbhmVYus4nHM8wlfby2sAgJJ0ITkk4nkMaNwN/sKy0axCHG5XU2SQL0QYWYE27yFFOjJg18XRc6h+D0HaVtbbbsWvVEicSJnYj28q2nnfpLZdDlbGT0HgZvZbM2pxDcAUZNpwoaHRfstUYBtEYBXDIDIBDwdDtkVJ8KHDxC1QFzF2KrWQmRWUvCG2UfWNl3WlYR8dhqoy/9o4DNBZ+ev4jJ21eNZBFUKCMUxcqMt8SumXc6u6H6mKCMI+K51MAqZon436AwNWGUrpumIQT1rmR6NimLfjFykb41wtTatoq7piy2VPwigXIUMaQkMgbAkKwaKn8GJkFX9/j2Hgmv5CvGVxWzYebCGnG/QWd8fU+P1nC1lXE9KDaa/xyL9c9MhxchgE9RTUVggayXYaoINVuVEpouDISuelE//B3xfvoYI+g/No4TlloLQddBPaLyESXfKrdx0//SRqfLSo9TkYqhzrH6etJkuMX5JS0wR0yyHL/2iqTPTqY6sUqHqKYRCfyKYl8s/QuNQpKIYC/w4sYoDMi3Kfkc1GdgXmj5C8MD54uU2PLlChRcbqndN6mIj3UzmnkClRoTgsUCI3E24QVdC2XXHqPO1GKnfjsQQ35LX4T3mE+jNJWXGneQcsqEwagNgkztaYTD1FfErIDwjYTCBc5PM5aFIq6v4SbWPfaVnyW/pGJRFs+zf1pYh8BbVN5JwmN0+YSyCSq0lbuqR+BBy8PebZTE7UKGRwswM9355XXXboxuxqZXucmDyadkFHite28yxPS+D/McJY3MXile9LOz5v3eYMiCHCcuTUr67r5V1OpiWXytPJaATyCfrPzUhfq2yUsKQuAMFFrE/2U8/bGfXO3brFdCDkoLMZFFYTR0IJd4UJqOOUzIsx0611JoQi4xS32InLq8pDBUkaPRAlh+bQNHkez0CKETFcXlbVDaRDUlmzu4EmKn5W36FhF65Mi6TZQv1usxyoks2kFcEB8qJDLP/tohhfJfenJWGp0CruuVYiUk+WOGTvxoZpmdRJG4hgo1nOhgx6U8NdvAjkOJ4yThbNsQhfahOmIJXlJ9TOV7SVcm3jA9bmHSmlY6+9rawsRHYgHhQ4ScIAhxaEgUddiFQjReTiP6o8mRgseqUhG0MTMXUemBondiFPXmHGplh6s2ld02G2J6qu49skijINigpv7yTOALGjfnXuLa/SuWXGWQ+SRS04iCMkTp+keQwQShMp9kouwQC/KlTWHR2HJsh/co+CeBeuGT2S9mKXwMqBm2mUZEpQK9Bv7bHsVxJoPXT/hShQ0y9t105SHHfL+7SJK//8TSutwS9P5FsLpHo7dFo9FtAEGWhIBJDoIaiMVdGGLfii7CCfy5LFt6BHj1LWC02R5OPbIHbQBXkCaRjLcruT5YJFCGIB2eYmO57ddGGbPlc+GvL5HsQA0XOJU7eOaM5fbXHfFqRtPDz6L9HBWQYtNF7T4xBfTolsu4E2U3dRuCNaSFpjH/zTOlL19oIPa7MdeLU8SL2riltHqdeGFk3ycl8guM9HuvPUp5Cu6f3eNZntC8nbFctSFKZKDAyUAYazPiqITIa7T8UM7nHTIrvBQvAkyl+Us+CtLSwcvJGLeWqG27cLdRzNTRFZoNoi//g1CF+ZTv0l/WD9uf5G/q7+5P7T/sHmKXWivnrrcVlfvNujlf5siPPEh1S8GI5BylRoYt8qTAxp/ncdAMM2PUsiWFfdG/eI2egdj1ozghtE7EPDKBDESYTuZqI+Vir00X5EMukQdU9jLoj3lEvKuUXT+EGXA3b2z6LCoiU6Ti3zOBDEj/bWqqkoXjxPyTaZFeuF1V0RejOocDCYKl0vZeOuiRRFqOhuilQFfAL6dfWaW69wOVFvynQVOPVVo11v9zT9YiDj1kgEupoW6fEKjJSZItALZqEl1gong1ec+D5pGD/KPGYzcp0nMTTrK8QJ+NNywKS2HqSCS3mTlGakzDEwT6CqmQrEYX2o5P39jHvzju294RcCTkObtRSBmux5zZY3EKU6ZkhzLVaVdajCVqNkVyvKYoq5RSrEpZSL19Csyi6jF8W+RDPXDrG5ImbsSy7IdfQ9659Qn1U+XTDPuU/rsE146Qhf74/EXZtR0pJtNhVuC5S3Ji4ihkNMsO90exPYavFgK+GKxOxeHmR2lu0bVqipitUg3Po1qTXltSVqbTCVnNKmcKwzNSJmSNAqebK1ryhbqnqBIHhaCbTkSx7SimS4WtaJMTqIAA90ABTQEMgpcbsB6RiYAxUETHYiZyCYWXf9DJkMT1MEaHVQspGOJUiqyTmL0qySde4Kfk6IlZopBwKJUGVS3Fixa6jA04QBIXYOibuOP65IO6t0cnKveVyc4YYZ/n5ee2dLXamext0aDURnevs2yRWRpprsqJPMhEXvKL15D3tEXsjfNC8Ki2FnLvkHxq8YipUhf6KmJaJcHkn/dP6Mvezn3Hxzia4xaTdpB0ARQTME0kY29ESDeCjT8YLbYEBKVOj2O2NpVCXQfSX7gKS2Il888tb4iWWp2Kwkg3OSI+tYC9hiFa0WmqmGlU/4t0cjG6vDdLJiwgyieWQcjqx4lpjSbzqaDb98uEK4XBIasNYFbOODsWHroF2mJIWYrnL1poI4in8xtpWygYn24XvtaUSPer2/1Ll7BT7FUisdVq23V8/WbohDlOVlVc+kzUOkvaMtt6TwQwWyjyymbEUeX9SIsVSHjrEvlRPtWA/QLjkIOC6BkxBgvoKXCQfOwrZGYEh1qR5kpYm506CLwaMiUYSIUDFej/wJVZIUHTl49szcknBilVXwYECwPZ8SCnnA64pd0UFEPNpdCRxD6SidsR2xDBQ03L6r/FyMv1WGtYut51lQkt2YSnFrAEHDSvPC/gNbZy/ohUNmKHidYJVFM3IwgZ/TA8wMBuLxTnSLD5ah0NF5HsZqQOpXc1lbKUR4cU870ZLHJYqZjmSCBZUFjWXjTNUrltszhChsjVIUSnSRC3grl8TWEbEDvEmrBE/4i+CpgK2akf0tkBkpMiODThB+lb/kJNSrNb9oI5SksYLZEuBBaNKaP9mEZCiYMPCasXdbJ5RvQqJHj9TxGDUR4yjWkn4LoSArck1JkLIW/Az4kTCRWDLZ2yeai8J5TykpRnzzW/rFJp1bdYJwQFMZULq0MCX2XSzZa5KGy2AHGdyhIqMuM55lwv03pvMCCD6X8s0ExvmRoim+n39NKs1vlHtLZTwTqmJCPZUKmQEgw3/I6ljYxp0xGF5/AlbAec0FinRUaqqwJxBW8FRm0VUqel4GIH4AUpONWhPK0yPCgQnaLNdcy85GNF+CgUzQS8e3tLsA+3lm3mU5yNfiVQRKRQ6PnWngqvPBIHrG6ygjlAy2aiqksb0Zjekd2Q0AkrSl/jMKfyltGOvWZdJ8tUoqVSmap9Q9dJHhI03J9wNkMTLCy8SWIsOdY8IQ2UVvfeyYy2irJeKy282kYUEA4G3dcbWx/LxNxMqTf/zpQ4HYDY8UK7QTtTHE7pB76a0rRJw+ZsSuTGRmi1UkLclyyKY6KSwjOEks+vw10hn8szflEM91dNKPgWszrhxxwJdsDPOeqPTi46P+ysHtcjul5BWQGDrIQiK1W62vHTIbunA0T1xocR2+YOyFHJBbHdiSsgoQHUTzCqDwYDhVoku2aIK/RcqaDtAUev/4NQhgJE4HMg3NFIsZXR1LH8kf6R9n5ifRrkxX38EA1w2QAsf+zwEqZN9uQISWWhXMS7J41oK4OEepbQpkp3eCQwircAgmqfeO+EJMziliSjjxUyzuE/8/NsqZEI5JYfRFu4zEZ2SGpc+uh2E/2OmKqEq6+g4UojdB9RTC7/7x8Hs1ayqrm5ezaz8M0JbThlhWcsSdiOUTvjO5LEzErwT5LI6phQcToB6thlTd7QV0aM2a4NtnohbAxOtqHeynJ+03Q93EGLUp2tAc2cexVc72f0UjyjELjWzchAUh/Qns8OhYYfJ+0CK+5qNtIqJd2sqm3Z2spfOn7T2b8lGqh6CIUzbPQT4QQaBpA61n6bc5MIZkaGhs3xT25KMJHixJDgVy6cKD/5oMq3nxeVf5pSs+faKW3jrBVZqXkB2BDiKbXRhc/YLLQrnsGaMW1FlrcQsz6uf2qPWHRdEb1CY+/YDqiY6UbJlyes5pguItxDxThHQPfnWyVwm7SPidSIczl/GU5W0JAgsOrVUhRolJc7B703VeE+6kVXDgQru9ACMcE7rx6iJ0R73EVXpwSQVwzuyzR1RbtMzgoxXBx1w+JCWSIjqj56EsjF+F35ZzJ++5yROFH1FIfkzgzc42PsJ+4T4a6h8tZeKDCUGMzOgw6lMswLb6Wtld1JnPGpaQv487JjJPkp16KbkcGSg8ZEurdFPNP93s/Ztch5KRbGspgZVzMUwazRG2Z2T+XwG2lOTX9PR3nlyEkRuwWIQe0kccISjA94QPVrP8yRFwRd5V7qoPJO0WNMvuvbWN7cXXLHA1kTz0sqbdIa9e2cnqMu76n9iKOF2PST22XlLi1Ryld5TSc9K0ra1uUYwjZ0abmeSnLbit0X3uVN0fv5x6+KMWyuJFFB+uzxvA1BDZU07AvvSIZyPe+UZTkXscSJkXupeWtsFCzkv9ou5N7Q1+NT3MgaNkj4S9nGf1YTuEp387BDyJ5haR/16OFRzg1iUeactrD/2ZknD8fI/ZaFb+XAmloJQSvSi/H3/VmWIeVHuV0tto8w40jwSZhRsd3GmF+2Xtze+TNsbpMJ1+25P9mR6QLnZgnmIrdVHU2e6x4ePKzymbHu1RDd2EGTVIq00fUbnlHS/D3pKaT8sycWHW7U06rImiBkaO3V0iWDp62njps4OlqcV2xNnfkz4t5JY7ojZTxrQhsTCQKnukE4INilGXeY5Hkw6275VLbageqiLe7EXCjvM7gbpZKrlOz6iNt/MvjqLYjmIDl9ajQl6Wg5NZcf6kVhO7jquzBNlvr69HFoqvnCnIlCQx+KR0YzMzGPXG+c+mTtaruBNGxZ9DBoQIeC1VJ1pFKaqN4Z25LywpHbwgXeqTHPwDhqOZyWdvMxoEhu4fZh1jaZTmaYT5Y1JJCPSL5XxVcgwjuWof3JVlCxKu0NiTbLhvfbsmXz28pwfweMtErTzYJ4XF3OsZ73zDa97YBcqgtO5azzrMLKyVcMbxauSQuGtu75w8b4SNI7nf5VpciXKzmWIha2ho/hr72d4nRSb6Vh7J1MnrEcc6upDHN/0vqjpEAeGUqo67O3cRSUSzBJsT+5p6t3yfXB8rLlh17/MpuzTd5TpsilESj9F/CgLEkxlttJSBOgzZQULBO5aDPVpFSXqKHSC/ZDOyd+XYSm1YiVriGRAvnNttwUfnXI5dPCNWYK/3xGSSWswJdDpPofTYl4LY1snprOm4Vi+7RTvXA5XKz6ziKrnbJEMmcI50ZXNxSK5twHw0l2SkWsH04fhSJrhthQyiSPGGHWDesyDV9C3mHiNpXK11WE6tk6gFnjdN+JDhfAyZT+/XUflUYJCXV+d28AlHkFVppJTUroZ8DHiA1gfJ9leZ2RjhM5VL3n5q4dF5Vhk/Jyx41ZNeTtf0zXcIkTLWRM1KCgGG4eVmwsan5NAcW5hfEmy11G/BWSSKvLACqXMnkR6kuI+pSS3xZq3DFsPSqsw5kJ1KOMt3e6sXZxEui4wwxZpAKlStVTm6rUJI4533sJYOvfNUCnpDEnti6X4KMDbPaZJMWFaTFcidL8Qn1Hi6tPaTpGDY1HhJ6YOXFH8d7C5yQWKFIjMS//g1CGEjStrs3YvgQOIh4f/fouYl1rG4ZCOruG3fcGFI/YGETqCBCIxmfHDn1QKRe3LtApYNDWTJdmm6W4UcWKU2mNGeAUDEc12fBoRokqF0XkK/iLFR/RR4BHxSxiiyWZV0+nqAoWr7G6VqHIJWv+bFC05xFd2Nm2l3ghZpZHrUfbRgyrtDmpuxCQCgS7VA5WsFPxOHHjOuTl6aBi4LafpdjMA2P6FywtSb4SGXHiOGzEiRVtGFwRUM+LHxqteSb0Xa7zuPo3mAYfG/1ugG7WCMle980LlE7Ekzkk2Ey6iQ6hlajm+PQxT5Si9e31siz7rpndc+SeEhTXbZMRZ41qEkwZ7nSAU6Ehz+5cXS2RV9LRe+KG7qTwCegvIpw4gcGi1l54/1eO/uoDWpOCeHNSBnFaGf+gpMCG1oFqvJF2GLjXBtyu0XL3Eywl6oVm4VOcBD8kBMIeM7fnLZJjUDppZum6CsvdFYIMM85bIVcL9xuhNB9/PZyxBx05qANWyxMCilNtXR2Kp5+bGcjrihCFV2RQs0wqvIyaUFgHoQ4EvAKZeUQrImnpkxuhk8I2EUjuM+Sv9HfjJf6GpkqhjS34auzM6DFYK1Qb3QPjWYhIXHT5OxPKMCRiVz+Eg2K/xOo+2aV+sj7aw3SCzixmrFYM1ZOmTM1l0OifqhNkRnaEOL/XuzYrdedRrlvaNaeoZDzj9pqCMnvp4gfqZw4NRSSAVwRRaC2NRzNMryxR5K79yA8fSBeQU0DoCASM76oeYWb+Hsu7kjndN8oEIqprODEyhZqQ2/WURfharXXFXoS9VGqsRqdPuNDchN63C9HX4HhNFiVMbUnmv6ONSjYwu9RkIessRE2Xog+5G5Bf51qjkS0qKIyezEe4w9VJwaltlbg4BXntLRHyD2nYioxRL9Qy7AQmx/JkK0QiwHOL1LSKyb8f3Xr4axJpKKblZUobSDUuV3gnESSOzD0RhTX6qklU16Retlk8fKpqlBYuv0RY1P1VU/FyHzVkMmhjU+QyAUDmlZNzzZNfADtKmh98hXZBta4aq+HeOCXspsch/AkPMRinndxu8c0LYXMy9EWCELiQlrGKZHPz0K1KIBQZh23uBSQSh/1tDgkRoMIDY+6I01ieV7MILs5+sEWjlOGyvzpj6RjCeSgrUb+nZPPeskaKqaBlMZzbbYaPo28CiI0aURry0GJcwX0mZFgr45E4LAnZyZCajdEmrYPMWgspJdZ7r8t7u52HE8oQcIMMXmSXL7uC6K+XDt0SukQXdZjiQJ/lbpOAp2AMSI5JNvYjheWTKCuUktdPzIuFp/FS/R9Andu2euIgL5jZVlyzlFQoSwwqMrRE9R5CTrvX/6Ui9kXc4MQEhVotj7xyncWdkuX4eZpRYj3M/a1e7kXUBE6c/iXx25jZC9LqNIc4DP0QMR1a0RHM+yk0qNDBoHOGSaYZA7Q2JQwUg5w3ioGFHqyNuCinte4oPXkWcS1KjZMLJN7ZKUXrf2POZwrpQ1YdJw4FmudQQDWSwSYoOqpLSOx7Yoo9VHFr3KZRYD4LzJ0dDwSL1XlWqrZYltmjoywsnslN15whFFFbjSZIOqZBO9kuwRMcQe1IidDN/Vj85MkOPECGcAsno8f5I3GgnSXp+PbzS5UEGqNWUz5VQFCS0JN54buQIzYAJeeBQLJbG1RY/+K1dqdfP7WxQzm5nGbIHJILy3LcEt216qmOvzmTLrmmMEdYnuQpqEwOgHUuicIEqojcGobTzafClCuX+s4+1/n5uHxF/fIiZSJQxIqiNvlZEHO7eKskPsWssZsnAA73wyj+xVRyDx7mKUkgJQQwfYN2DgG7S1fAQ/4BCSEH9DSP24QJgqrcBA6wNPwiT1vRiXvhvE2QXWdIgAUXfiZjSilxZ4IgyR0xnjf0hIC4lfH/yTA+ls3cHe04SCz7Zv3QSD8qmG1CfLaEASxMJeqJSL2OM4KyLxPEJlD/KOdJdeaJng0xDoB5mvBbBA3GVY3r/bWJV+7kRZ1gDjDXX6zhMhI2cIu+8YHrFQoAv6RxtX5lFPuu55XJncrkrN0czNw8MFg9lT6ySo0uE+onQi05tzO9ucQJN1BS5p8HCXYCbq//g1CGIqTBYZF2wY/hgMFfUUQRJy5iX4uVw47APAOV7s4NUCg1hsDYrRrxaQsio0d9samaOImjMsI7/upjJDasbzZciS/wjelrRpOTSI8w/UI5p++rDyzacrmZb998XJZ4IhQtuAmf+v1bpBQxSHXFgUW17Kl2YycL61+Z/uxQk9WY6Cif0HrPycP7itcTBa+HIdSzyEUpZU6KqjAqwY655tZ6+oBO/AJZDzpveUxLfQXCCzFT8icxNSp6ubSRkEgf7dCHXA7oobp+A0EUmSTKlXo8lVNT3PRbH862q2+KNIdMLFRV1/9nENsCn/mhcBkbfzkYpMVxZb7+qemTEwj6mwQBr0MjOSsAriixC0vq0Rt8zATRdhNHu1bKLHLaxtalX/p/H+YgSx147Apcgq55ZgSGLqUJSBE2Bw2RdMqkTWacmL8LIwurFGh/02tfKLyMgoq4vXCFmh90JdgkvR8c1Xc1xsd6IMSQkx9UtgNr8BFPv75rcEO3Lda1+ZaRI7O2038gOkYZOGUB3EcDemRAkWfw3f9FkwFUFSB/HKZpIi4K0jUYJfPCdLPZpd8XB6POWYx9cpYtUINRmeygtB8I9KaBGrmqimMhSy4NauNbOGPjbKpFlC590LHFiAuxKKApjk+At1LQhwwC8RWG7A+mSfhyny6ZhxF1zEOZwzUeTLWX5LSFIl2zNdLeHiwGQ9/VuYgvxTWwGVyzyOaBtiGdRe4mYRSvGZaeqClSjE36/DSd85dYmZEqIY4jr4x60t4NKsPFhUTom49RLSm3Uv0tf6VZ4LjgxlrVDTse9c08ikFkrOcvgiSVTUQgiihzt9Fm7ggFObBHuZ4h2M8mWJNXnMIK/BHJEZj8BorWS6S73rZfHdDy61fbpUgWemY16EMTxboPbYeZehP6ytyVc53SMWBRbAJit7baMk7YTcnwPI9lmnt0QCS7I13aXzcGML4iLQz0of4tWFseVYTyZeKLQhBjXce9OuhCNO9e/TzGS8zyK58kVgKlzuQxl4xkWflIi0sZZipLB7rWoQSMew3V2apf4NwfDuQWzTHWVMzGS6N8mlLR4qkCyM0TwjNk8vmIF+UnNRkBHOJB2hX55QlrryXoYqmTGGxFacbz3Jq5wnKdOmEUTZPQ9o+lazXfhrE2BCIXn+C2J9XYUTSsVgS5aLAaXHxG6sRIVREbDJXvCjHwy+JceYKsnHq/btiEAVpqXz31o1qy1U6XrhdKKZaoITzZNd8TqTiLuIuHgnK2pNrj06idpbpalUtL+bJmVOlucxDDyEDakesYajrl5qw58TXWayXz11IP18EUt/RFlCgeBzkVgyNJEl89+cl0TP1JiR2clVwIcjZ+YSXRQptpImPQ1c/6jY6VIlHJpLu68ONtedq9o+qhz6QkJwPN48XoRX/QvB6reBgFekLSgIyBdkcK14x/3qkNZKSuDBJVPv2ZuGOQkrfkBhLH2y5l3bd5KJsl4JTO4yscNg9jfWrOFLIpGErLwzDskvGVimSaoqTgiGajkwsv1WOywYtKIEiy5LLdwmcqCIUDm2OZRk3tokSeuSjk/qwmMw/6OOD/X3b439X1Mlo6w6Kf8jWGhjJRtmUka4jmgvC5qI/psfuq+N49uBOOPLwin3eh5KooabkabNUllBLGcZ/YhzFpvSGqaQpLmCP/TVGN08aYXOARSkQaOu8RCKOUSuLBEBItBsEtMEaZx9q0XS/iqqvW3ptxDxjF3g0BFtGLi6lvfmJANXOUPX4RrdQ2BZS0SXCDm0/GX6kXkHHwlOz4hYqbm2d5yYTvzgfmf/+DUIYy1O8a/nEuR438LgyeaX7EHppeYpeKIufm9kGY1caARMfegBIPoEwiJSGacZLyzak1WpdUaHLREnOPJAnPMzqrgrqk860ChFQI1X4h5yKNUeVm+dghY6kg1ASkFcD6mKj3+wUig1oDqb11imTljrizeDLn1D74AV34uTjh8gLJvdfmjK4LZKXjxIZqIislgyPhPM7RjHa7wVlZ3Dsle8rOaXDEiKQMnRQr7RrG5c+JHPzxFweOfHGO3qrF4NuB8g/4uIJ3IdpaU067lBKf5vcoEzInNR6GsOxS2b0IJNT3P9Vmk6/0mD4iD1Lx+xslnM3r7ivt7i2pRida1XMCpfibM5uq0qHJXTIT9rR15CydMPl2QOPvGrobz1AMMWcw4NsGyC0HRBtbMVDDIybkBMJRSRFMxJFPeiPFLEXHHnKCtfTVy9/la9QNqf4J3Tv67FVwuLyfCVP6AQ5Z1+R3IpEVLpF2DD5orcEaGIqKoRoTjOhRB7WUrp0FmiJUN5VlfuC0QoALAGuPUG7BNoUDwloWIx4i/TX5XuXhYMggt8GnKHE5iPArFHeXDWWFP1yZEKdmLvP8ovlbcJDs5QseOBIDA/gUORBSZKTRXHkIT38ROFT5l7hMEBNUrXU3cJZW+tYslsUsSoyGoJxYUBEg2jfw0ADc3Cs+caFdFKwURKapX+xO+HNx0OaCu884M4liBysP6PpJfcjsKOHdQzVfamxqsLbPtL3Passv/2vKFYQMMdepFWGs8/bIO4NQW1HiD5sdslFlPva16xKL0qWPZQmMKKOAnx3QnhmoC83ffsb8LX8pMfUlJM8qX2gpP/FOD+ROw/9BFGlwyGKjUoCLQvLCVqwWTL+auRgO09Vc0BpM/dgYiJVyJlDvn/6U/G8Y64hDSRPTYa42WgCMrhT+hJYCMb9QgVSoNvFpmxAVxwguzJQIdUBI93oewL359IO8lTxL5kppzOhbJ6jMZFFVxF75apjf9jWFF4LfKJWLrHIfYCvvQmrNcPLugrz1PQMTsPCYLKAeAUdi/xeplPeZSwK7rtTVdGiL/hOk2oqDUcuQtA+4C9o5lkKnXK4QpcJciPSyjSLkEyDpqISpBLRy96kHAiu+GplH8eLpolBxmBLrDmxiC1hmfvNpe8yDDuAo22jAE0XIU3oVW18pIm7imajLML1dtFmtwVZLq6rGkExuo9iP3TV0iVsMI4B1heZlG5iIzcjg2aGoXeN/v/4ODdxeUWFXamaaNSHr5u+lOb8RzL+PJOuUOsZtYaPthqulFy8TfTMkf/mlyWUKRlpuWsqpLVxnSw0oKEnqSKo8Ak4yZQ7DMIODKH/bgXRQjL86RejQF/Ok4Eb4CW5WupGG97kZTmKLryfdk+oVEGEAYW1hIYr95LAbfNf3CHjetZFXyRYZn7J+1fe0/WkmJYN5wJ3hUh8NGQkwq97LELIQXugA6iyaLFTNgVkk28d6+svWmBxhJaYUImoX3vwQ4VQQtVhTqiU1ORHvXeNj8/yj4nLM7k1IzuBIeNzuGM9GgmGsTHjvc0aTkx1cW2S2is2msyK1GnnN+Er3etoa4tOGtkwBX+WhjyLaGW94BEXLsWd8gx27NPyILmiKsTkardpn5KCBSjjwqFHnKUHYqMM735K3HzHf6IPYpzC5NKI4ER7zQmmRkl73P5oORYxPiXY2006dTKsX46k+fRt8rVcOcFZTOsz9yKaIsIrLPKwWt+3OIUQE+zQSFt+S3mX6twU6oPMsLUrXroJUQ6CXlOH6VccLs/jy09JFR+rBTdEHXIiwoGgPcWGsO8BguxF40MyHsYpl7Um94y08tm72xqfcrLqgmPJZkNT0Mp+RDDt345wxe1Kc19RCiepbX9IRKkBX4SISDO7sUxOVm5G0S9sj/GiYCkPWJsKkBh/qXXqr5t9v3fVff25zcdHU4hYXfB6/QlE6Is9R/f7r+iZU8CH8sCl6hjMRTRkRePPpSX0oQnBMHcVvtsmErae5LotcfFLBKXgV4majkxJD+ZDtpR1tfr38iAhHhKekhMY+hun2L8JvenXEZ80YIIjRy/pN/wMsVrn/sFvpljBhq/4BabDaL/dzhRfExWhEoeInToLjB0r9E/bnoyRLiluMYlyknqN2MFjWe6Zs0MV5ZADUv/+DUIZDhOHnUiQyUlJbck9ySuIw8ifOYm+LHkTyvRAL69uGKXPtUBM+aTaMs9gr7jSNnJN3W+O+E/WQJ2MrnFYeBJG8wn0j96kUEmW/OFR1jvbV8KLjhzh44LbR/DOFVu5W4CJ0P4Sm9w5B+VI8ZAw0jOwo8qBgWZ8zYsYJyoqqvGbgrZlqjHbSBMRJSNEYoikiOKrLzahpiT3ALSg/SW+PcHeb2XdlAKtyaAt903rFu7F/nAiYlHqTobPBXMAM3dPkz3doRjn9McpLqz/DJx+NY5Bc2YPJjOOkVfe6uugqB6qt6qoitzMmHV+mR1i3tpRApxxkYYXVlG6rprkI6x+zfqeIrhEPjTezmgS8jVthKoP9m+31nuqvdwLvyEOHbFc+z2XQqO6zjgw9ainZ7yti8eb7WyK58Yf0cKk6xnVcnOyjCtWS9RatqSRUsK+Ip5TzAIdbFJN/QMx7Cq6X4tVomi0hp1Vouzq+cozRIquWP/HNCyEdjmCiFaHQHrivSV2ixGgZKcco86jBIIpHaXMKnenJBBvnbPMi+VG7vVjJrzS8p+vUkv3SWT/CuHGZRHV6lmSLcsp4LF51yAqSQ3Yap2DDJZaNjfMYRJPMLfLyx7NeJ7OqlawWzH0newtqFwxnhVZOOWZGL4gvFsMbXb9FX5440hRZUtt063io1HRyzgqZacXhq8doeg6x/nldo6vz6YLQRK0fIMOeL5TJdNwy/j2CIVgCthXmEYS157Uwzz63TJXzGOpyvOk3lbhl8/Yzb7X2V+7yxxv2qs0NBWCYVk5jmvkMJ0G40VebpOIvO1bA/LlyRI0gPOWiYeVCwemI0YaiARUu9zvPSwtUkVo99fzdqNGFPtjorb8/3yIzJAHolookszy3JWpA1mQVGCQLtSySFq8jWwpWIm99Go7SNhiekyNfIWv6vORlN0COvkL5A/wbAqyagisoJg6Vi8prPN4Ukzoe0wc6pk7ym/ti3E5tAzJ50E+2VwN3RQq1RS/bi8hfpHtlxAwjbig4cohMnEv8brzuDZHpEQ7Nk9y0c8M1qQ6k7btzUO/z5G+EQE3VrHK00hRK7SDpdvx5BF02cmhN5EzMjph5ngBaezaDC5MkKEM0rMUx0VZiNx/SUn5wpaJI57qP2I01CKGFyIh3W8Fz3QydqJjrmUZmFKUJ/RVx24TV3ZW/DwJguvInUE9xAVBlMK+4Q+br7FWjwlj8ReE7vMSeYNd02WkhlW4wFA80dS3hmkdzRxGXBOSXrBLaChSJTiqDS/D3DoHcoq1bxx1B+qxg2sKZJOMd9W7thYhAnF3krBk5NrNTaXHiaemcxfjWOS9QQWwKKvyosVKtbrdqpoNaTs77MucrWRrQvVSxx6snrUOmlCHbedcDy1bYiJt3jzmGkkrIK9xcmxt65Mjcyc4BHzhQpy/QlOtlxoqjKM+LujBjtZTQlQqsIsJELTeSp387HgC3sHQmlMYV3Wt++uV+Y0u11kCquaSo9Jh7Ik3N50Q3mLkFQR3Dfk9Jhz5GOOI+jWSvm5OC1hNBLT9fK60UZjxXEp43gL3y86NhUi3/i1lynSYPkNMl5gk4zCx+uNJxBCPWWvFLp2miPkkNctxZi1eLudFGr/Rm8Do+I1IgYhQhTe/VYN1nGjej2j8WHa9oIudgDGIeyZwu1vP7FPyf/nXtPvMMNs2uTXotRTL154RoXqdjSz92sMCrVBGvYk2VVRAtqIbEApw/m5ZTPSVbj/nAmIZUrIuwUypnd2YquRU4+RRXHLjPjvoCptCAiNLlvA1FfSHxRptHMkYCQCD2Gz2fjzsrAh8mmQNTLe3KvFYPjxeS28p16or1Q8EIl1AgbMnDeFv7JtN2XiraRTF35V81qL1cHvW5VzkuFdrMJn/k/csMSgWIKtppTRVa4F5a7+ge8vhLYcsBa7NOpLBkV0xI/QgiQKNPmISS/xd4BPPsEDmThbX5le7tqxQIlBWpEa9gTfGjmBg7SwvY7lWIgggNuEQbGgSWw1nhKgLdwLrlZCNCfLkLCSu0kmi1Hb7JbmLCJoPLOOMWyV2ds9ciNCFH7PQM5U2mgo1V8+S6e2tifH38raura0CREQY6pqaEj7nWYbEP/4NQhlP0wUkRBCCrEF0gMqA1cD5uYlIb0SOGv0AErfE2CIgZHWA5A6kc+kbKOJW/jOJ7SSufYXl4Yr7dMZOrf/qFlktxOEbFhnTljKQVRUHUupknx8wCTBBs3CknTthrKZjxqNIl0lljh2K+kIf3z0OEQklxAOjJuUmVzlsnInEmOq4s4MsNLkZL5NDbZM6TnmLSupoY0gLML9CxS8Urh5E/CgG0ix2uh6AE9EaoyPURIE13HwM7kmkzEKRzZeVgtbbeRI9PTHmhS4Slcutw+yCG7tWGte5PrwnYRKPMhWEka3B9s0uljdmJTl5e5fgKbuZeDi40vfOB9WGJZcsQ+evF1KMxj1HA+zt11kB64mhot31Xweoj/BtWnFp9d4hVp9Bhz5koqrpUiCqBhZcU3Gg+oJk2apRoiO5XbSwd7BFpVMyqOFEwMmGda3uHU4X3E1VNDi7SyLB5ozxPP5kdJV8DPlRbLbq3YPmrZCzp8RwQ7eF9J6zfkGuGb8tEZe1zFU17cC96k2i7MITQhZhu83X6+Us91OX90QMe0a/o/XUjFHoX0z/TLCb55OnnKL6+2G1Ib5jcX7ERCWz7xuicoC/bNzXWNsUXQOJtDDk32Rqa3r3VdD+qG/sdsRAFx/tzBipA1B9LbbWdCtfHPPatk8qEkdiT7E6wN416ztx4u1zeoLG37m6Dc4fYVTGkrB8ZwHziA3hzMg1/Cjv5yhSs0RKerU6GmmS2VxMhQCOyAqYeOsbwHiNsMijH8Dy6NVwvpinNOLkpW3ypkjCwTjT0VStdxdTD6kQcJ4EKX5y4GVvTNUBF4ncdQgDx1QamFujAFxzdREGFNeAwK1yZGR1tlaYybehI86tFS9yFqz8VEEa37BVWfneb/cc+S2eZfElYlI2ij7QMBTrAczIfktxjoDkJsQnmPVwQWxUaV3d0StqKDKEW2ZgkFFJT+wKx75zE7uSih1HIshWm9ztJa8WQnOX81bMtARNXtJ2VcR86TbSxP/WRQdz+3Y/K16pFsJPDKUM/VV2SbcsIoyFoOxLP3IzRWXpwBZTEmOZPsM4zTm9v8bY2kwujxuVgH1Ohbf1hEHFN4CRKLxuOa03xtgKRysyVeDfFw9IzyVa4PQQ48QISHSZ0w7LDoyUQlzjXhSFzzwI8qs5GTlgm+6Y+73E/7WMx1lj2iFO0FhSF8xTT9p8cSOJYZ0S596u4zgiGixqJpfKq5RAjSIiNTqFvy/C9J20YU0KVVT2LV2kBZEkEPFSYnBL9FG/pRcFxIAjK/iWx/YhzgTI0Y7hJ6k0BS0yp1V4MrIWxpBBMBOI6k4Q45dQTl44IJOfBMAibkokpNJ1nlc03bP0yuRtjamVuzSmSSKXpFlIsY3ZS0SgWa91FOfDcskjqYr8t6F14oHmLweof+dYRrzGGCL+nHBEDC5IfAm+qOlVTg/WGPipycIFBq5Z8LakwYGd+8pKaIyapCl94RJqL8+QTeEU9ZSvJf+ROEhonEGPolVVLZWuRFRFuWUZZY9XfJHwDO3e7Z5Q+jByR1xvLgf+99Jey2oWLIon2zsGSqInuerEnT7aRLn8na5vTZe0pQWO/HssBbyVkS76dGGmkLVm5n89JW0xiWYfxUnmygjW+NyOaafAHGs0U3SlcS3I5m2hqEsqO02bJkNT5gslUrurOpgJy5cue12SnIbY+Qu1ClmdNHu1V6SPlSIqZhIll7mHrUkEuUmooOVVZDn827l8ShdiDaNglrl806csx/yR4lzWCUOvU6DMELdGTM+TRIS6Kweti8NA1nJxB2ukhJea08EuxfqAh21rJO9hhFNbcnsEaikXR6Md7UTHtbmkeTnfiKE4LIadc8TgfcQhAVByt+VTPrcgtK5UwfTVx/R04nb075OhsloEOibNqWqDk7tDe0VRxxjFvUlPXE3PtqDSyF0fDK4NGSDP1ZZ5vGgmKgpWVXsrTuiTECwdsoHx6szouQzKVVqmQZKqc5MIxetZ6CT2PNbL48QdktkwDVbIiPNmZM4HntJIUAAkkP/+DUIZjZM/DH+HgCJAbAA2/8j/ifmJLK5BlM3o8jGXqrA3ANzgNjUNMnDz0DhYRpuyt8GKRt6jyOCDUUUq0KnP4U5wQQDysXhgHF8hXGIiZyqFllhKT+jYSivGmRt76FPxqediatCBEmxUqPpPeKeKXR+ytUuVDhGBZ1l+sWOhJpMh1dxBM9HCXqPX98/PkRDC7ScCbZNt0LZgTZ98nqeg1vcwjNF8twKJwsWu2iC+j+Q4ILlBfEME6+UXiEzEp+KdjwkGUpnmn7BWoey+RkNJVr9L6aMgwg7UoZpGNMpQRN2pSQa3e0YlLK5JCbza4XQTWSlGCFcawkKgiywMAHsGEaU8W5ZMF7wPrLa5FOM3TxhSjHyL1Or/8lCHY516vESJIsIsuMvM6XZJcDWEAWW6NBVK4giJJeshGgh6+x1ieF24Qtz9WMWVWFGMm0I9j7tPbq/uZWZAiWsTkpQxhneQ5K98H6Kby2GM9GRCd8jv+RSn670LKj9m73DQT7PsQtplRcEY4je8NBJmYv0MWF1EEfjrEVw4odLwohNU0JiO40+UEodGMMzLdBZ7ZlZRpQineqHWD0b8rDZYIdnHq9Sz1moZpJa6jsojhj5Bgvew1VEQKeYESiYxMVG7JXdhjEwvoCfOyKvJCCjcJClchIPRL2HEe5JN8CGP+TPm/mbeFtvWDODgrSO87R2EiFqwiCt08mXSzcZouBc1vPImg9dUWaZu48sNOmdryLdWo+RQ3NFK9We+shO5vxWpAtRJGMkSw4ly8EPZLCg4MURCM3tx0tGwSRXLfh7Gb069OQtFF2Tan3NMma7bPL61NEpyMCJLEjWzp2pN+3fDNbi8dad8iskkNAV7HtGYTBqWofwssnvWxO5DFrtWPIYvLxG8sEly7H2xO9czb0SeVquZSARtCdrXNssErcViYLhxGsimBfo2FxznVKacCCj2hZFXIxIX/ER9m1/WaKd4z4yI5Pb6JWzbgv0qIkoj+9GFQqjIloJD0nEhBAaSyI2bxmvw164QRRxMes3bjSES/Z8jfJXl7ryVNbwxBVece82lFJVovyT6aJR6c/lRtBpYMk25mOLqDU3oYXgnTaEHqmFy6n7b/HVH1pezD9+w7FOn6PXsdxzTUTQdGdV0hOMPxlA9S0VMFDQZA2pRnNlUx9HdrW9GEJw7AdLxFZ9CQVI8aV1NVzxMAAe6AfEIxBYozQfx7QBScgOXPlKbc+RP2z/CHtY1m6ztFLbX0aJ5asARwqyKsXrplCYFOKv3Bw2t7/JW8rnT08dEQcYP+AkAPAReEB+r7NINaJj53iMWCYBKBk7dxj+7eFob6S+fhLxoo10nPbOgNgbyEpr5dG9cQDLRkMVJuRcTYm+tStvuoYgeag1WDisjDHhFPxe5xuC7FUuUkW5eCTjLXW4DCy2RDRkgFXAREJmGEjr9z8ifqW7NTdoGzApiZwgszeHUrSuoYb2Oh2uw8XFdszQkRlbpI5RppZId2vjaaZP7hinPRnHlGkNZ1w8ktFpt0wqzmqzSlMDRm7Iss/YaOjKMY0vHW+ZkLZmSB3wdoGvHqBqIiXGjZz9keP7wNQTbhkEiuHDFULYtrmFBxpM6H1zxu6vDbHQJD7VyuzkX1sr2/zSOZxI6WUgzk1CvIyKcPppe8qUMCdLprySURDLKe1zREL5fYK+KRanAVbsaMnOCBAQeIEEDbh2oJz3XqixHnHgqhIeS4Pe2V74NxCLnjE8tMAqkk98gpMhQVSRzU3ORgUa68+VvteC91Vshz8Jcu+6HSyQhgzTuzS7qiYpQUhYMoW0ZcSo8bA1xsolDB0mCFUXIK0Cr0K+G4YDnAIyywWABvogMqpVoMEJbIX0cgQohIEKBTvOhrT64iNRDayymjyBu4tst2r3ZKdhQ5EqH3Rquxs/fOScrCvi/VkgRCP/+DUIZzFO25rguOs18X3xwu5Y7CvxmuYpNaQ6fZNjSXp8rIO5Pl4BP/btnBISMqDWXQquFbs7+brkhEeueqg7X/RaRiwGkPeOmMnAPz3DOBhhQKLEporKyJUnD+A4+2E9C+x7Q41B0tlk5QIBXUG+hgE6cTQBeah1yid4rUZ4liJw7VmppCKvmXGVbh2Q9ciQ+gixDpghV8poDiEia60vocUYgHI+6J1TC5aPRDAGWeMJQYmAm2htjiJ33eX7WrrMtWkSabiWQ4458TgymaRgsX26+sjXZwgDAYmq9Tbn2VunQGiP/iCCGjHaYe9kW2HK632dVlRESGJZrPUjJpzDR1qVhsqLrY1pjtd3a0NArMHNG/CMgLMr1AoMbNbVQ98EOatbJY7EvHnS2fjKWE9Fm1y3gFQ0c1tt8BCL54XcJMUq0p8Yudzpk6lasjQxgTAP7pp9niVwajXmiwcpomTxG5nyIRQqtrI2tIuuVUkbUecPu+vG1s6UMvzkiAAcIZOQUvcd6VUeO/YRtW4wn1eGocnryKcJM7k5kWcPpxl+aQVYivTLJZFiaithzYIFqY01Ize6x8xu3X9Sgan+yj/hdvVNKXMi5F0/d4E5xbCOuESFaLVSFAQicxvfrbK2uCQp8qdDwMEfNz4gQCJ8RhBP0A9kXjoaCPaL8sPNoNCZgLNXUqUXK01RdoOJTlpQiqnRMsn7qaKs3DVnp59pjTPi568XoQofnAU9qA0nJT/EBM9xInjK7VEALwQ001AtYJdLnqgfkzfz0ZmOUv6AUAWA7igxK77d4bKFVRyLn/HLBUhXyn5Nx5dQifMY1C4+J3vkLyFFk0b5YnA18W2WurUuWglr7iJwIEOHwNCguhjc92tFzW//CnPRp5I1fN4Sao5q2gEtou1x9snQrdtDS3ZtmJ07Uqw/SVxs3OBXejCWeMXxfNVX2hxI1RV3O5A2+iV9wEh1NytU2AUH23OXh0Mla6d6t1OrHUqLnQZ/kyqVtwmSdU7JtLnk+Li5PAsZNFwVJrGwN8/1iVdLvuRM7MFEqF46wUKzC9bGORBNSqDpofF9rHYTHxXzHDA2YlgJc65VhRsi34s1B+3Ch+OLF2bsbLq6huiWzb7LzC8HWzwqZZiY45z1YxQpZPqK7nnN6Y1Ir6ltqxxf3IZ+kyb3JUrJz4il7bItQovHFmOUAgZH96E6FXf4+52wP9oTxcXLgtmLdnS9wrzMTxdIXsCt4jXiP3EJPvxup8RWQhVcRvd5BRtnxwYz4FrZbDZPnBoQi/qsI3H1Zhd1v7QNqvxolHuCwyBPGl/sFb7ciOspO0Hi9EUU43tq+pJBI+Z4CAk+G7lzyDKKij3jfUftETeppxiU9Tv4u9BM+JJTDIig7O2vO+MSricUeaRjBzZdls5fpQCts1zripiwPF6Z5UiyNVyFBauuZL1qwJGJBXBW3V/AICOtMQ13G1V2vmmufa27mnnu3G5HrQkcMLxjIq9gnveEXqby26QzMPhppZOI5Kn9KB4NBKz7Qmm/5Bu6Y1GpmfvceQ1j5aw1XIkIMTepfrqs9J2kI0zldjLWy7xMiWZ3TjW7LOgi7WRdQufmMvotCZmbXKLSz83ARGsVtS1BfikTOLlBD/CWjhChf6dHNXeZGJ0er++DokEN4I01b9UM7Y0vGTpTQBWSQZfIrtv20OoGofNl1JM6eJ21e5lTH9dv64pTOEWJaOvLUVd96hN2VxmvCxxtaAU6r2vPl0Q3wpTtlJ7N47Q7pNMNyReSYPrvr16xIsQ+qcyUxbaSQPDxv1YTz+GrKM9ZgzHmN5/maEFpYQ+gZkeOxw4PoJr35qkXToxtiWG+VSUNSpyimk9Lyltjm/6BY7hIogH0iJWqMJxKmd54Keb5giGFXt/Y7xMULUV6PGW4yQmISCZCWPfeDKA3Ox9c8TAq+hvz3UMFRfXjrU7K3Qw2nj9tmB1VwtGaXG65VP3K5vTJkPOnmNlMLgXdXSz0ayvyhYkrknT/sXTVS/ZPvhYrY+qPFNG43h2Bobtp+cVE3oWKZt6gKpjextgdYsKUnxBiOBx3tykLvTMYuZMiKhnaLDQp2on+6Orw2o1bZ7X/xTbk/kx8y1AJ8uVIayyevGOSWoP/+DUIaBxM7ifxz/Zp+WD7J/ya/6XmJoWyKmOva7FxjYUhmYCf3jSqh3CTKXQQRVx008Aij68dhDJLf4ddWSYvdaL79JfcOo/JjkVy25QqDLZyhCJg0yljdkJXqqux23QYbl9CFzRK8DEYVykrKFDMTX5V/L6cGICdiTfFXzItFfl33ZLM/Tx4hLMJm5Rwh3VT7iLIdLB2Tmp4epimSRjRGYIWodX7OKn06rVYzSUbUPQZN0aeb1czwTTUFx3UXQVW7GhdyB8w/ZgWRhZovi/z1lvXyTv04zKEJbJnNe8E8Q13liRzV1pLx34Ei3H66nK4KRkIotNyYP7MPaDrxtisCIe9gY3yFijCPejybaG0Y7inzwahJlphn+51blyiZGq7ISb2W4M9Wo13IuG4V4g6PPZ/b1Pl/74rsmB0QswV5fAVPd1RPIXllL787W5u20967EJ0fks18rxVvme6myfD+5+JlnNpv2Nb/WLR8c/12upn2P4I9irGiXMk7Mvf9/q6ZBS20BO6I+lJvSUv2P4pGaCJUlRKjbBL7Z8t80SYast1m6Mx/f+yf6KqtIgix5C4wd8iCL2mDSfDJKTFn6uYEmF/yEeKa9dWdoSLlDJ0VPHo7rdRTV58WzaipQJ5rwyRUziKd+W0hZklbK0FCs6pgkyOxN7kL5LegEMeX0RJjipIhl64qDakZuxZOkuN9kNHH2TWZ/b3bmEwvNCVRNfLPBrFRTn02Lf10zgCFOFFYLRdzZ3CnBJBx6l+saMKPQ3U2EPYwtvAwki9etWwagmhfF6fmRVl/fCQ+hPUxRuC8gOSWgrRsi5WtISwfqDs05cV9yMPWcEoe0EW6R0ENw/e2Mxz0TNTdWpzrtHSQs1DDZF8N7pgu/3wtPnCPEUmAIRvTpyfQbUVojChRA5KCJyKPB2VbKyxuywFDJlQd0cs7Deii+esHXuiNTYF1i9Cx4Am4Y/XeDy9WDSWWShDA0XnG2dBQBLtcuxhdWCq+v7rJmWE13T3onDmvzyPS1AICVwh+XXylVOwmqaJhUor1nBNswNjL1Woi2Jmol1ffmdWAkYZslxqwouWdVs1a1yc3MovaMj5FiXZnP7E57ReIIf+JUbCUBPjM8Wwnt0ZHJJP/0CEYna47kBbUgWJaS762snzU87ogm+4Ds/ZHfLQfZu1eq+sGgsa8DKZ5TR3DYK/SIX91VtfJpLldrJ30+lk6m3LyOj7mZkm8FiUEy0HMFqKfG+AVadYzuJcz2Ta07h8grEtqFokSjLolWWDZWei7M7YSz3olclxKLd3LAYikb3CFylz7Px2FrSGXFfH3HpREODjPSNHkjHn6GuGHbo55BaQ3xJ+QfJt4LWEAQ4RszbvS0SQE4vNyWJ5V/eHP5tox9nNfwUJBtyQ1BqB5VD1lAoBMlA7luVLaXAju9ltHz6XZBiwxoPiPPHQ9ERFs5K8xUjgJdJmzLt7LosaggjNH/CTy+nIQiY2U/NTz1kSIXot7sncPow1I/HxiuK/I3m1qx418p7Q6W0utd++F4oGkdfk7oAQLaHuI3NJwXLkTnAJAvEXS59fVOstFUkpWykarFmQ80EJsH1PjC3Ww+ICnrhHsHb/y70GwA7g1NiAqIWgGxx7N6+iIRHS7opUzlIPCZ3Wo59l4RqFoj1iVfJODbQt9+Jr5H8msDQK8EWumsbNGqSUn5JMqSkhPU0apF9PeJtXAThMV4QoSAOSR5YLdPPe7UKfFp4OiocsQa1ERWpy2CgU9pXy9m4mwyyABTqXEFECl5E+ClmnxLQxw29HYirOuRHBQ1pZWTj/NxvwweC3MO9baoFyQ+vSynYHJlRS9FMbSxqs4CF5CWzgfgyWsNg7uERpehgxDt7s5VKXlN4Py/4opk5O3LHCVC8osZpa/p5HrVCtupcmQjaMnZhVe6VwVqmlEvsqvK3Ryk2eojIIG58LTNfcHVXPN59yyChFJzIIeKSo2DSoHgRtvzHklsJWoL0WpPKSpfJ/aSzRXwSPOEw8Kp1jakHhqqYPZQ7FftEoaTbRlXF2uu62BWE+WjjcVCMTKS2/6HYUy4mDyyEtaZqkjzvCgmKORHuhltSntfybZyLQUBJcSqKlezfCx00QF/sutBp5aZ0eg7kA9vf/+DUIaRtM4MPjZum98FD2t/qc/xnmJSG8TDZv/aBB7wDgvcOe+T6Sg0wt4rQUtrDtH+4YQw9p4iaF81Qs5F6KoE2kTiLlIRMrabFGTWDfsk8zKakwPtJbKWB1Y7EYBPjd0IciGAjalC1NyWWHNMYKCzYWRXLKtgglG81HaVyuxD5T039mj6M9VkOKFe9yWzAlLJjYGqy8F6FBYvWhW6O40npEMUuAaUapVmuxbaNNG4QT066YjWZAhmX13Rh0Qk8Ru1iXbPx05eWim/407N+fRLALt6xuGZVi6zicczzCV9vLawCAknQhOSTieQxo3A3+wrLRrEIcbldTZJAvRBhZgTbvIUU6MmDXxdFzqH4PQdpW1ttuxa9USJxImdiPbyraed+ktl0OVsZPQeBm9lszanENwBRk2nChodF+y1RgG0RgFcMgMgEPB0O2RUnwocPELVAXMXYqtZCZFZS8IbZR9Y2XdaVhHx2GqjL/2jgM0Fn56/iMnbV41kEVQoIxTFyoy3xK6Zdzq7ofqYoIwj4rnUwCpmifjfoDA1YZSum6YhBPWuZHo2KYt+MXKRvjXC1Nq2irumLLZU/CKBchQxpCQyBsCQrBoqfwYmQVf3+PYeCa/kK8ZXFbNh5sIacb9BZ3x9T4/WcLWVcT0oNpr/HIv1z0yHFyGAT1FNRWCBrJdhqgg1W5USmi4MhK56UT/8HfF++hgj6D82jhOWWgtB10E9ovIRJd8qt3HT/9JGp8tKj1ORiqHOsfp60mS4xfklLTBHTLIcv/aKpM9OpjqxSoeophEJ/IpiXyz9C41CkohgL/DixigMyLcp+RzUZ2BeaPkLwwPni5TY8uUKFFxuqd03qYiPdTOaeQKVGhOCxQIjcTbhBV0LZdceo87UYqd+OxBDfktfhPeYT6M0lZcad5ByyoTBqA2CTO1phMPUV8SsgPCNhMIFzk8zloUirq/hJtY99pWfJb+kYlEWz7N/WliHwFtU3knCY3T5hLIJKrSVu6pH4EHLw95tlMTtQoZHCzAz3fnldddujG7Gple5yYPJp2QUeK17bzLE9L4P8xwljcxeKV70s7Pm/d5gyIIcJy5NSvruvlXU6mJZfK08loBPIJ+s/NSF+rbJSwpC4AwUWsT/ZTz9sZ9c7dusV0IOSgsxkUVhNHQgl3hQmo45TMizHTrXUmhCLjFLfYicurykMFSRo9ECWH5tA0eR7PQIoRMVxeVtUNpENSWbO7gSYqflbfoWEXrkyLpNlC/W6zHKiSzaQVwQHyokMs/+2iGF8l96clYanQKu65ViJST5Y4ZO/GhmmZ1EkbiGCjWc6GDHpTw128COQ4njJOFs2xCF9qE6YgleUn1M5XtJVybeMD1uYdKaVjr72trCxEdiAeFDhJwgCHFoSBR12IVCNF5OI/qjyZGCx6pSEbQxMxdR6YGid2IU9eYcamWHqzaV3TYbYnqq7j2ySKMg2KCm/vJM4AsaN+de4tr9K5ZcZZD5JFLTiIIyROn6R5DBBKEyn2Si7BAL8qVNYdHYcmyH9yj4J4F64ZPZL2YpfAyoGbaZRkSlAr0G/tsexXEmg9dP+FKFDTL23XTlIcd8v7tIkr//xNK63BL0/kWwukejt0Wj0W0AQZaEgEkOghqIxV0YYt+KLsIJ/LksW3oEePUtYLTZHk49sgdtAFeQJpGMtyu5PlgkUIYgHZ5iY7nt10YZs+Vz4a8vkexADRc4lTt45ozl9tcd8WpG08PPov0cFZBi00XtPjEF9OiWy7gTZTd1G4I1pIWmMf/NM6UvX2gg9rsx14tTxIvauKW0ep14YWTfJyXyC4z0e689SnkK7p/d41me0LydsVy1IUpkoMDJQBhrM+KohMhrtPxQzucdMiu8FC8CTKX5Sz4K0tLBy8kYt5aobbtwt1HM1NEVmgWy7/+DUIahJO/SX9YP25/kb+rv7k/tP+weYpdaK+eutxWV+826OV/myI88SHVLwYjkHKVGhi3ypMDGn+dx0AwzY9SyJYV90b94jZ6B2PWjOCG0TsQ8MoEMRJhO5moj5WKvTRfkQy6RB1T2MuiPeUS8q5RdP4QZcDdvbPosKiJTpOLfM4EMSP9taqqShePE/JNpkV64XVXRF6M6hwMJgqXS9l466JFEWo6G6KVAV8Avp19Zpbr3A5UW/KdBU49VWjXW/3NP1iIOPWSAS6mhbp8QqMlJki0AtmoSXWCieDV5z4PmkYP8o8ZjNynScxNOsrxAn403LApLYepIJLeZOUZqTMMTBPoKqZCsRhfajk/f2Me/OO7b3hFwJOQ5u1FIGa7HnNljcQpTpmSHMtVpV1qMJWo2RXK8piirlFKsSllIvX0KzKLqMXxb5EM9cOsbkiZuxLLsh19D3rn1CfVT5dMM+5T+uwTXjpCF/vj8Rdm1HSkm02FW4LlLcmLiKGQ0yw73R7E9hq8WAr4YrE7F4eZHaW7RtWqKmK1SDc+jWpNeW1JWptMJWc0qZwrDM1ImZI0Cp5srWvKFuqeoEgeFoJtORLHtKKZLha1okxOogAD3QAFNAQyClxuwHpGJgDFQRMdiJnIJhZd/0MmQxPUwRodVCykY4lSKrJOYvSrJJ17gp+ToiVmikHAolQZVLcWLFrqMDThAEhdg6Ju44/rkg7q3Rycq95XJzhhhn+fl57Z0tdqZ7G3RoNRGd6+zbJFZGmmuyok8yERe8ovXkPe0ReyN80LwqLYWcu+QfGrxiKlSF/oqYlolweSf90/oy97OfcfHOJrjFpN2kHQBFBMwTSRjb0RIN4KNPxgttgQEpU6PY7Y2lUJdB9JfuApLYiXzzy1viJZanYrCSDc5Ij61gL2GIVrRaaqYaVT/i3RyMbq8N0smLCDKJ5ZByOrHiWmNJvOpoNv3y4QrhcEhqw1gVs44OxYeugXaYkhZiucvWmgjiKfzG2lbKBifbhe+1pRI96vb/UuXsFPsVSKx1WrbdXz9ZuiEOU5WVVz6TNQ6S9oy23pPBDBbKPLKZsRR5f1IixVIeOsS+VE+1YD9AuOQg4LoGTEGC+gpcJB87CtkZgSHWpHmSlibnToIvBoyJRhIhQMV6P/AlVkhQdOXj2zNyScGKVVfBgQLA9nxIKecDril3RQUQ82l0JHEPpKJ2xHbEMFDTcvqv8XIy/VYa1i63nWVCS3ZhKcWsAQcNK88L+A1tnL+iFQ2YoeJ1glUUzcjCBn9MDzAwG4vFOdIsPlqHQ0XkexmpA6ldzWVspRHhxTzvRksclipmOZIIFlQWNZeNM1SuW2zOEKGyNUhRKdJELeCuXxNYRsQO8SasET/iL4KmArZqR/S2QGSkyI4NOEH6Vv+Qk1Ks1v2gjlKSxgtkS4EFo0po/2YRkKJgw8Jqxd1snlG9CokeP1PEYNRHjKNaSfguhICtyTUmQshb8DPiRMJFYMtnbJ5qLwnlPKSlGfPNb+sUmnVt1gnBAUxlQurQwJfZdLNlrkobLYAcZ3KEioy4znmXC/Tem8wIIPpfyzQTG+ZGiKb6ff00qzW+Ue0tlPBOqYkI9lQqZASDDf8jqWNjGnTEYXn8CVsB5zQWKdFRqqrAnEFbwVGbRVSp6XgYgfgBSk41aE8rTI8KBCdos11zLzkY0X4KBTNBLx7e0uwD7eWbeZTnI1+JVBEpFDo+daeCq88EgesbrKCOUDLZqKqSxvRmN6R3ZDQCStKX+Mwp/KW0Y69Zl0ny1SipVKZqn1D10keEjTcn3A2QxMsLLxJYiw51jwhDZRW997JjLaKsl4rLbzaRhQQDgbd1xtbH8vE3EypN//OlDgdgNjxQrtBO1McTukHvprStEnD5mxK5MZGaLVSQtyXLIpjopLCM4SSz6/DXSGfyzN+UQz3V00o+BazOuHHHAl2wM856o9OLjo/7Kwe1yO6XkFZAYOshCIrVbra8dMhu6cDRPXGhxHb5g7IUckFsd2JKyChAdRPMKoPBgOFWiS7Zogr9FypoO0I+s//g1CGsVTgcyDc0UixldHUsfyR/pH2fmJ9GuTFffwQDXDZACx/7PASpk325AhJZaFcxLsnjWgrg4R6ltCmSnd4JDCKtwCCap9474QkzOKWJKOPFTLO4T/z82ypkQjklh9EW7jMRnZIalz66HYT/Y6YqoSrr6DhSiN0H1FMLv/vHwezVrKqubl7NrPwzQltOGWFZyxJ2I5RO+M7ksTMSvBPksjqmFBxOgHq2GVN3tBXRozZrg22eiFsDE62od7Kcn7TdD3cQYtSna0BzZx7FVzvZ/RSPKMQuNbNyEBSH9Cezw6Fhh8n7QIr7mo20iol3ayqbdnayl86ftPZvyUaqHoIhTNs9BPhBBoGkDrWfptzkwhmRoaGzfFPbkowkeLEkOBXLpwoP/mgyrefF5V/mlKz59opbeOsFVmpeQHYEOIptdGFz9gstCuewZoxbUWWtxCzPq5/ao9YdF0RvUJj79gOqJjpRsmXJ6zmmC4i3EPFOEdA9+dbJXCbtI+J1IhzOX8ZTlbQkCCw6tVSFGiUlzsHvTdV4T7qRVcOBCu70AIxwTuvHqInRHvcRVenBJBXDO7LNHVFu0zOCjFcHHXD4kJZIiOqPnoSyMX4XflnMn77nJE4UfUUh+TODNzjY+wn7hPhrqHy1l4oMJQYzM6DDqUyzAtvpa2V3Umc8alpC/jzsmMk+SnXopuRwZKDxkS6t0U80/3ez9m1yHkpFsaymBlXMxTBrNEbZnZP5fAbaU5Nf09HeeXISRG7BYhB7SRxwhKMD3hA9Ws/zJEXBF3lXuqg8k7RY0y+69tY3txdcscDWRPPSypt0hr17Zyeoy7vqf2Io4XY9JPbZeUuLVHKV3lNJz0rStrW5RjCNnRpuZ5KctuK3Rfe5U3R+/nHr4oxbK4kUUH67PG8DUENlTTsC+9IhnI975RlORexxImRe6l5a2wULOS/2i7k3tDX41PcyBo2SPhL2cZ/VhO4SnfzsEPInmFpH/Xo4VHODWJR5py2sP/ZmScPx8j9loVv5cCaWglBK9KL8ff9WZYh5Ue5XS22jzDjSPBJmFGx3caYX7Ze3N75M2xukwnX7bk/2ZHpAudmCeYit1UdTZ7rHh48rPKZse7VEN3YQZNUirTR9RueUdL8PekppPyzJxYdbtTTqsiaIGRo7dXSJYOnraeOmzg6WpxXbE2d+TPi3kljuiNlPGtCGxMJAqe6QTgg2KUZd5jkeTDrbvlUttqB6qIt7sRcKO8zuBulkquU7PqI238y+OotiOYgOX1qNCXpaDk1lx/qRWE7uOq7ME2W+vr0cWiq+cKciUJDH4pHRjMzMY9cb5z6ZO1qu4E0bFn0MGhAh4LVUnWkUpqo3hnbkvLCkdvCBd6pMc/AOGo5nJZ28zGgSG7h9mHWNplOZphPljUkkI9IvlfFVyDCO5ah/clWULEq7Q2JNsuG99uyZfPbynB/B4y0StPNgnhcXc6xnvfMNr3tgFyqC07lrPOswsrJVwxvFq5JC4a27vnDxvhI0jud/lWlyJcrOZYiFraGj+GvvZ3idFJvpWHsnUyesRxzq6kMc3/S+qOkQB4ZSqjrs7dxFJRLMEmxP7mnq3fJ9cHysuWHXv8ym7NN3lOmyKURKP0X8KAsSTGW20lIE6DNlBQsE7loM9WkVJeoodIL9kM7J35dhKbViJWuIZEC+c223BR+dcjl08I1Zgr/fEZJJazAl0Ok+h9NiXgtjWyems6bhWL7tFO9cDlcrPrOIqudskQyZwjnRlc3FIrm3AfDSXZKRawfTh+FImuG2FDKJI8YYdYN6zINX0LeYeI2lcrXVYTq2TqAWeN034kOF8DJlP79dR+VRgkJdX53bwCUeQVWmklNSuhnwMeIDWB8n2V5nZGOEzlUvefmrh0XlWGT8nLHjVk15O1/TNdwiRMtZEzUoKAYbh5WbCxqfk0BxbmF8SbLXUb8FZJIq8sAKpcyeRHqS4j6lJLfFmrcMWw9KqzDmQnUo4y3d7qxdnES6LjDDFmkAqVK1VObqtQkjjnfewlg6981QKekMSe2LpfgowNs9pkkxYVpMVyJ0vxCfUeLq09pOkYNjUeEnpg5cUfx3sLnJBYoUiOKv/+DUIbABK2uzdi+BA4iHh/9+i5iXWsbhkI6u4bd9wYUj9gYROoIEIjGZ8cOfVApF7cu0Clg0NZMl2abpbhRxYpTaY0Z4BQMRzXZ8GhGiSoXReQr+IsVH9FHgEfFLGKLJZlXT6eoChavsbpWocgla/5sULTnEV3Y2baXeCFmlketR9tGDKu0Oam7EJAKBLtUDlawU/E4ceM65OXpoGLgtp+l2MwDY/oXLC1JvhIZceI4bMSJFW0YXBFQz4sfGq15JvRdrvO4+jeYBh8b/W6AbtYIyV73zQuUTsSTOSTYTLqJDqGVqOb49DFPlKL17fWyLPuumd1z5J4SFNdtkxFnjWoSTBnudIBToSHP7lxdLZFX0tF74obupPAJ6C8inDiBwaLWXnj/V47+6gNak4J4c1IGcVoZ/6CkwIbWgWq8kXYYuNcG3K7RcvcTLCXqhWbhU5wEPyQEwh4zt+ctkmNQOmlm6boKy90VggwzzlshVwv3G6E0H389nLEHHTmoA1bLEwKKU21dHYqnn5sZyOuKEIVXZFCzTCq8jJpQWAehDgS8Apl5RCsiaemTG6GTwjYRSO4z5K/0d+Ml/oamSqGNLfhq7MzoMVgrVBvdA+NZiEhcdPk7E8owJGJXP4SDYr/E6j7ZpX6yPtrDdILOLGasVgzVk6ZMzWXQ6J+qE2RGdoQ4v9e7Nit151GuW9o1p6hkPOP2moIye+niB+pnDg1FJIBXBFFoLY1HM0yvLFHkrv3IDx9IF5BTQOgIBIzvqh5hZv4ey7uSOd03ygQiqms4MTKFmpDb9ZRF+FqtdcVehL1UaqxGp0+40NyE3rcL0dfgeE0WJUxtSea/o41KNjC71GQh6yxETZeiD7kbkF/nWqORLSoojJ7MR7jD1UnBqW2VuDgFee0tEfIPadiKjFEv1DLsBCbH8mQrRCLAc4vUtIrJvx/devhrEmkopuVlShtINS5XeCcRJI7MPRGFNfqqSVTXpF62WTx8qmqUFi6/RFjU/VVT8XIfNWQyaGNT5DIBQOaVk3PNk18AO0qaH3yFdkG1rhqr4d44JeymxyH8CQ8xGKed3G7xzQthczL0RYIQuJCWsYpkc/PQrUogFBmHbe4FJBKH/W0OCRGgwgNj7ojTWJ5Xswguzn6wRaOU4bK/OmPpGMJ5KCtRv6dk896yRoqpoGUxnNttho+jbwKIjRpRGvLQYlzBfSZkWCvjkTgsCdnJkJqN0Satg8xaCykl1nuvy3u7nYcTyhBwgwxeZJcvu4Lor5cO3RK6RBd1mOJAn+Vuk4CnYAxIjkk29iOF5ZMoK5SS10/Mi4Wn8VL9H0Cd27Z64iAvmNlWXLOUVChLDCoytET1HkJOu9f/pSL2RdzgxASFWi2PvHKdxZ2S5fh5mlFiPcz9rV7uRdQETpz+JfHbmNkL0uo0hzgM/RAxHVrREcz7KTSo0MGgc4ZJphkDtDYlDBSDnDeKgYUerI24KKe17ig9eRZxLUqNkwsk3tkpRet/Y85nCulDVh0nDgWa51BANZLBJig6qktI7Htiij1UcWvcplFgPgvMnR0PBIvVeVaqtliW2aOjLCyeyU3XnCEUUVuNJkg6pkE72S7BExxB7UiJ0M39WPzkyQ48QIZwCyejx/kjcaCdJen49vNLlQQao1ZTPlVAUJLQk3nhu5AjNgAl54FAslsbVFj/4rV2p18/tbFDObmcZsgckgvLctwS3bXqqY6/OZMuuaYwR1ie5CmoTA6AdS6JwgSqiNwahtPNp8KUK5f6zj7X+fm4fEX98iJlIlDEiqI2+VkQc7t4qyQ+xayxmycADvfDKP7FVHIPHuYpSSAlBDB9g3YOAbtLV8BD/gEJIQf0NI/bhAmCqtwEDrA0/CJPW9GJe+G8TZBdZ0iABRd+JmNKKXFngiDJHTGeN/SEgLiV8f/JMD6Wzdwd7ThILPtm/dBIPyqYbUJ8toQBLEwl6olIvY4zgrIvE8QmUP8o50l15omeDTEOgHma8FsEDcZVjev9tYlX7uRFnWAOMNdfrOEyEjZwi77xgesVCgC/pHG1fmUU+67nlcmdyuSs3RzM3DwwWD2VPrJKjS4T6idCLTm3M725xAk3UFLmnwcJdgKH7/+DUIbQdMFhkXbBj+GAwV9RRBEnLmJfi5XDjsA8A5Xuzg1QKDWGwNitGvFpCyKjR32xqZo4iaMywjv+6mMkNqxvNlyJL/CN6WtGk5NIjzD9Qjmn76sPLNpyuZlv33xclngiFC24CZ/6/VukFDFIdcWBRbXsqXZjJwvrX5n+7FCT1ZjoKJ/Qes/Jw/uK1xMFr4ch1LPIRSllToqqMCrBjrnm1nr6gE78AlkPOm95TEt9BcILMVPyJzE1Knq5tJGQSB/t0IdcDuihun4DQRSZJMqVejyVU1Pc9Fsfzrarb4o0h0wsVFXX/2cQ2wKf+aFwGRt/ORikxXFlvv6p6ZMTCPqbBAGvQyM5KwCuKLELS+rRG3zMBNF2E0e7VsosctrG1qVf+n8f5iBLHXjsClyCrnlmBIYupQlIETYHDZF0yqRNZpyYvwsjC6sUaH/Ta18ovIyCiri9cIWaH3Ql2CS9HxzVdzXGx3ogxJCTH1S2A2vwEU+/vmtwQ7ct1rX5lpEjs7bTfyA6Rhk4ZQHcRwN6ZECRZ/Dd/0WTAVQVIH8cpmkiLgrSNRgl88J0s9ml3xcHo85ZjH1yli1Qg1GZ7KC0Hwj0poEauaqKYyFLLg1q41s4Y+NsqkWULn3QscWIC7EooCmOT4C3UtCHDALxFYbsD6ZJ+HKfLpmHEXXMQ5nDNR5MtZfktIUiXbM10t4eLAZD39W5iC/FNbAZXLPI5oG2IZ1F7iZhFK8Zlp6oKVKMTfr8NJ3zl1iZkSohjiOvjHrS3g0qw8WFROibj1EtKbdS/S1/pVnguODGWtUNOx71zTyKQWSs5y+CJJVNRCCKKHO30WbuCAU5sEe5niHYzyZYk1ecwgr8EckRmPwGitZLpLvetl8d0PLrV9ulSBZ6ZjXoQxPFug9th5l6E/rK3JVzndIxYFFsAmK3ttoyTthNyfA8j2Wae3RAJLsjXdpfNwYwviItDPSh/i1YWx5VhPJl4otCEGNdx7066EI07179PMZLzPIrnyRWAqXO5DGXjGRZ+UiLSxlmKksHutahBIx7DdXZql/g3B8O5BbNMdZUzMZLo3yaUtHiqQLIzRPCM2Ty+YgX5Sc1GQEc4kHaFfnlCWuvJehiqZMYbEVpxvPcmrnCcp06YRRNk9D2j6VrNd+GsTYEIhef4LYn1dhRNKxWBLlosBpcfEbqxEhVERsMle8KMfDL4lx5gqycer9u2IQBWmpfPfWjWrLVTpeuF0oplqghPNk13xOpOIu4i4eCcrak2uPTqJ2lulqVS0v5smZU6W5zEMPIQNqR6xhqOuXmrDnxNdZrJfPXUg/XwRS39EWUKB4HORWDI0kSXz35yXRM/UmJHZyVXAhyNn5hJdFCm2kiY9DVz/qNjpUiUcmku7rw42152r2j6qHPpCQnA83jxehFf9C8Hqt4GAV6QtKAjIF2RwrXjH/eqQ1kpK4MElU+/Zm4Y5CSt+QGEsfbLmXdt3komyXglM7jKxw2D2N9as4UsikYSsvDMOyS8ZWKZJqipOCIZqOTCy/VY7LBi0ogSLLkst3CZyoIhQObY5lGTe2iRJ65KOT+rCYzD/o44P9fdvjf1fUyWjrDop/yNYaGMlG2ZSRriOaC8Lmoj+mx+6r43j24E448vCKfd6HkqihpuRps1SWUEsZxn9iHMWm9IappCkuYI/9NUY3Txphc4BFKRBo67xEIo5RK4sEQEi0GwS0wRpnH2rRdL+Kqq9bem3EPGMXeDQEW0YuLqW9+YkA1c5Q9fhGt1DYFlLRJcIObT8ZfqReQcfCU7PiFipubZ3nJhO/OAzkv/4NQhuDk7xr+cS5HjfwuDJ5pfsQeml5il4oi5+b2QZjVxoBEx96AEg+gTCIlIZpxkvLNqTVal1RoctESc48kCc8zOquCuqTzrQKEVAjVfiHnIo1R5Wb52CFjqSDUBKQVwPqYqPf7BSKDWgOpvXWKZOWOuLN4MufUPvgBXfi5OOHyAsm91+aMrgtkpePEhmoiKyWDI+E8ztGMdrvBWVncOyV7ys5pcMSIpAydFCvtGsblz4kc/PEXB458cY7eqsXg24HyD/i4gnch2lpTTruUEp/m9ygTMic1Hoaw7FLZvQgk1Pc/1WaTr/SYPiIPUvH7GyWczevuK+3uLalGJ1rVcwKl+Jszm6rSocldMhP2tHXkLJ0w+XZA4+8auhvPUAwxZzDg2wbILQdEG1sxUMMjJuQEwlFJEUzEkU96I8UsRccecoK19NXL3+Vr1A2p/gndO/rsVXC4vJ8JU/oBDlnX5HcikRUukXYMPmitwRoYioqhGhOM6FEHtZSunQWaIlQ3lWV+4LRCgAsAa49QbsE2hQPCWhYjHiL9Nfle5eFgyCC3wacocTmI8CsUd5cNZYU/XJkQp2Yu8/yi+VtwkOzlCx44EgMD+BQ5EFJkpNFceQhPfxE4VPmXuEwQE1StdTdwllb61iyWxSxKjIagnFhQESDaN/DQANzcKz5xoV0UrBREpqlf7E74c3HQ5oK7zzgziWIHKw/o+kl9yOwo4d1DNV9qbGqwts+0vc9qyy//a8oVhAwx16kVYazz9sg7g1BbUeIPmx2yUWU+9rXrEovSpY9lCYwoo4CfHdCeGagLzd9+xvwtfykx9SUkzypfaCk/8U4P5E7D/0EUaXDIYqNSgItC8sJWrBZMv5q5GA7T1VzQGkz92BiIlXImUO+f/pT8bxjriENJE9NhrjZaAIyuFP6ElgIxv1CBVKg28WmbEBXHCC7MlAh1QEj3eh7Avfn0g7yVPEvmSmnM6FsnqMxkUVXEXvlqmN/2NYUXgt8olYusch9gK+9Cas1w8u6CvPU9AxOw8JgsoB4BR2L/F6mU95lLAruu1NV0aIv+E6TaioNRy5C0D7gL2jmWQqdcrhClwlyI9LKNIuQTIOmohKkEtHL3qQcCK74amUfx4umiUHGYEusObGILWGZ+82l7zIMO4CjbaMATRchTehVbXykibuKZqMswvV20Wa3BVkurqsaQTG6j2I/dNXSJWwwjgHWF5mUbmIjNyODZoahd43+//g4N3F5RYVdqZpo1Ievm76U5vxHMv48k65Q6xm1ho+2Gq6UXLxN9MyR/+aXJZQpGWm5ayqktXGdLDSgoSepIqjwCTjJlDsMwg4Mof9uBdFCMvzpF6NAX86TgRvgJbla6kYb3uRlOYouvJ92T6hUQYQBhbWEhiv3ksBt81/cIeN61kVfJFhmfsn7V97T9aSYlg3nAneFSHw0ZCTCr3ssQshBe6ADqLJosVM2BWSTbx3r6y9aYHGElphQiahfe/BDhVBC1WFOqJTU5Ee9d42Pz/KPicszuTUjO4Eh43O4Yz0aCYaxMeO9zRpOTHVxbZLaKzaazIrUaec34Svd62hri04a2TAFf5aGPItoZb3gERcuxZ3yDHbs0/IguaIqxORqt2mfkoIFKOPCoUecpQdiowzvfkrcfMd/og9inMLk0ojgRHvNCaZGSXvc/mg5FjE+JdjbTTp1MqxfjqT59G3ytVw5wVlM6zP3Ipoiwiss8rBa37c4hRAT7NBIW35LeZfq3BTqg8ywtSteuglRDoJeU4fpVxwuz+PLT0kVH6sFN0QdciLCgaA9xYaw7wGC7EXjQzIeximXtSb3jLTy2bvbGp9ysuqCY8lmQ1PQyn5EMO3fjnDF7UpzX1EKJ6ltf0hEqQFfhIhIM7uxTE5WbkbRL2yP8aJgKQ9YmwqQGH+pdeqvm32/d9V9/bnNx0dTiFhd8Hr9CUToiz1H9/uv6JlTwIfywKXqGMxFNGRF48+lJfShCcEwdxW+2yYStp7kui1x8UsEpeBXiZqOTEkP5kO2lHW1+vfyICEeEp6SExj6G6fYvwm96dcRnzRggiNHL+k3/AyxWuf+wW+mWMGGr/gFpsNov93OFF8TFaESh4idOguMHSv0T9uejJEuKW4xiXKSeo3YwWNZ7pmzQxXlkDncP/4NQhvCU4edSJDJSUltyT3JK4jDyJ85ib4seRPK9EAvr24Ypc+1QEz5pNoyz2CvuNI2ck3db474T9ZAnYyucVh4EkbzCfSP3qRQSZb84VHWO9tXwouOHOHjgttH8M4VW7lbgInQ/hKb3DkH5UjxkDDSM7CjyoGBZnzNixgnKiqq8ZuCtmWqMdtIExElI0RiiKSI4qsvNqGmJPcAtKD9Jb49wd5vZd2UAq3JoC33TesW7sX+cCJiUepOhs8FcwAzd0+TPd2hGOf0xykurP8MnH41jkFzZg8mM46RV97q66CoHqq3qqiK3MyYdX6ZHWLe2lECnHGRhhdWUbqumuQjrH7N+p4iuEQ+NN7OaBLyNW2Eqg/2b7fWe6q93Au/IQ4dsVz7PZdCo7rOODD1qKdnvK2Lx5vtbIrnxh/RwqTrGdVyc7KMK1ZL1Fq2pJFSwr4inlPMAh1sUk39AzHsKrpfi1WiaLSGnVWi7Or5yjNEiq5Y/8c0LIR2OYKIVodAeuK9JXaLEaBkpxyjzqMEgikdpcwqd6ckEG+ds8yL5Ubu9WMmvNLyn69SS/dJZP8K4cZlEdXqWZItyyngsXnXICpJDdhqnYMMllo2N8xhEk8wt8vLHs14ns6qVrBbMfSd7C2oXDGeFVk45ZkYviC8Wwxtdv0VfnjjSFFlS23TreKjUdHLOCplpxeGrx2h6DrH+eV2jq/PpgtBErR8gw54vlMl03DL+PYIhWAK2FeYRhLXntTDPPrdMlfMY6nK86TeVuGXz9jNvtfZX7vLHG/aqzQ0FYJhWTmOa+QwnQbjRV5uk4i87VsD8uXJEjSA85aJh5ULB6YjRhqIBFS73O89LC1SRWj31/N2o0YU+2Oitvz/fIjMkAeiWiiSzPLclakDWZBUYJAu1LJIWryNbClYib30ajtI2GJ6TI18ha/q85GU3QI6+QvkD/BsCrJqCKygmDpWLyms83hSTOh7TBzqmTvKb+2LcTm0DMnnQT7ZXA3dFCrVFL9uLyF+ke2XEDCNuKDhyiEycS/xuvO4NkekRDs2T3LRzwzWpDqTtu3NQ7/Pkb4RATdWscrTSFErtIOl2/HkEXTZyaE3kTMyOmHmeAFp7NoMLkyQoQzSsxTHRVmI3H9JSfnClokjnuo/YjTUIoYXIiHdbwXPdDJ2omOuZRmYUpQn9FXHbhNXdlb8PAmC68idQT3EBUGUwr7hD5uvsVaPCWPxF4Tu8xJ5g13TZaSGVbjAUDzR1LeGaR3NHEZcE5JesEtoKFIlOKoNL8PcOgdyirVvHHUH6rGDawpkk4x31bu2FiECcXeSsGTk2s1NpceJp6ZzF+NY5L1BBbAoq/KixUq1ut2qmg1pOzvsy5ytZGtC9VLHHqyetQ6aUIdt51wPLVtiIm3ePOYaSSsgr3FybG3rkyNzJzgEfOFCnL9CU62XGiqMoz4u6MGO1lNCVCqwiwkQtN5KnfzseALewdCaUxhXda3765X5jS7XWQKq5pKj0mHsiTc3nRDeYuQVBHcN+T0mHPkY44j6NZK+bk4LWE0EtP18rrRRmPFcSnjeAvfLzo2FSLf+LWXKdJg+Q0yXmCTjMLH640nEEI9Za8UunaaI+SQ1y3FmLV4u50Uav9GbwOj4jUiBiFCFN79Vg3WcaN6PaPxYdr2gi52AMYh7JnC7W8/sU/J/+de0+8ww2za5Nei1FMvXnhGhep2NLP3awwKtUEa9iTZVVEC2ohsQCnD+bllM9JVuP+cCYhlSsi7BTKmd3Ziq5FTj5FFccuM+O+gKm0ICI0uW8DUV9IfFGm0cyRgJAIPYbPZ+POysCHyaZA1Mt7cq8Vg+PF5LbynXqivVDwQiXUCBsycN4W/sm03ZeKtpFMXflXzWovVwe9blXOS4V2swmf+T9ywxKBYgq2mlNFVrgXlrv6B7y+EthywFrs06ksGRXTEj9CCJAo0+YhJL/F3gE8+wQOZOFtfmV7u2rFAiUFakRr2BN8aOYGDtLC9juVYiCCA24RBsaBJbDWeEqAt3AuuVkI0J8uQsJK7SSaLUdvsluYsImg8s44xbJXZ2z1yI0IUfs9AzlTaaCjVXz5Lp7a2J8ffytq6trQJERBjqmpoSPudZrEc//g1CHBUTBSREEIKsQXSAyoDVwPm5iUhvRI4a/QASt8TYIiBkdYDkDqRz6Rso4lb+M4ntJK59heXhivt0xk6t/+oWWS3E4RsWGdOWMpBVFQdS6mSfHzAJMEGzcKSdO2GspmPGo0iXSWWOHYr6Qh/fPQ4RCSXEA6Mm5SZXOWycicSY6rizgyw0uRkvk0NtkzpOeYtK6mhjSAswv0LFLxSuHkT8KAbSLHa6HoAT0RqjI9REgTXcfAzuSaTMQpHNl5WC1tt5Ej09MeaFLhKVy63D7IIbu1Ya17k+vCdhEo8yFYSRrcH2zS6WN2YlOXl7l+Apu5l4OLjS984H1YYllyxD568XUozGPUcD7O3XWQHriaGi3fVfB6iP8G1acWn13iFWn0GHPmSiqulSIKoGFlxTcaD6gmTZqlGiI7ldtLB3sEWlUzKo4UTAyYZ1re4dThfcTVU0OLtLIsHmjPE8/mR0lXwM+VFsturdg+atkLOnxHBDt4X0nrN+Qa4Zvy0Rl7XMVTXtwL3qTaLswhNCFmG7zdfr5Sz3U5f3RAx7Rr+j9dSMUehfTP9MsJvnk6ecovr7YbUhvmNxfsREJbPvG6JygL9s3NdY2xRdA4m0MOTfZGprevdV0P6ob+x2xEAXH+3MGKkDUH0tttZ0K18c89q2TyoSR2JPsTrA3jXrO3Hi7XN6gsbfuboNzh9hVMaSsHxnAfOIDeHMyDX8KO/nKFKzREp6tToaaZLZXEyFAI7ICph46xvAeI2wyKMfwPLo1XC+mKc04uSlbfKmSMLBONPRVK13F1MPqRBwngQpfnLgZW9M1QEXidx1CAPHVBqYW6MAXHN1EQYU14DArXJkZHW2VpjJt6Ejzq0VL3IWrPxUQRrfsFVZ+d5v9xz5LZ5l8SViUjaKPtAwFOsBzMh+S3GOgOQmxCeY9XBBbFRpXd3RK2ooMoRbZmCQUUlP7ArHvnMTu5KKHUciyFab3O0lrxZCc5fzVsy0BE1e0nZVxHzpNtLE/9ZFB3P7dj8rXqkWwk8MpQz9VXZJtywijIWg7Es/cjNFZenAFlMSY5k+wzjNOb2/xtjaTC6PG5WAfU6Ft/WEQcU3gJEovG45rTfG2ApHKzJV4N8XD0jPJVrg9BDjxAhIdJnTDssOjJRCXONeFIXPPAjyqzkZOWCb7pj7vcT/tYzHWWPaIU7QWFIXzFNP2nxxI4lhnRLn3q7jOCIaLGoml8qrlECNIiI1OoW/L8L0nbRhTQpVVPYtXaQFkSQQ8VJicEv0Ub+lFwXEgCMr+JbH9iHOBMjRjuEnqTQFLTKnVXgyshbGkEEwE4jqThDjl1BOXjggk58EwCJuSiSk0nWeVzTds/TK5G2NqZW7NKZJIpekWUixjdlLRKBZr3UU58NyySOpivy3oXXigeYvB6h/51hGvMYYIv6ccEQMLkh8Cb6o6VVOD9YY+KnJwgUGrlnwtqTBgZ37ykpojJqkKX3hEmovz5BN4RT1lK8l/5E4SGicQY+iVVUtla5EVEW5ZRllj1d8kfAM7d7tnlD6MHJHXG8uB/730l7LahYsiifbOwZKoie56sSdPtpEufydrm9Nl7SlBY78eywFvJWRLvp0YaaQtWbmfz0lbTGJZh/FSebKCNb43I5pp8AcazRTdKVxLcjmbaGoSyo7TZsmQ1PmCyVSu6s6mAnLly57XZKchtj5C7UKWZ00e7VXpI+VIipmEiWXuYetSQS5Saig5VVkOfzbuXxKF2INo2CWuXzTpyzH/JHiXNYJQ69ToMwQt0ZMz5NEhLorB62Lw0DWcnEHa6SEl5rTwS7F+oCHbWsk72GEU1tyewRqKRdHox3tRMe1uaR5Od+IoTgshp1zxOB9xCEBUHK35VM+tyC0rlTB9NXH9HTidvTvk6GyWgQ6Js2paoOTu0N7RVHHGMW9SU9cTc+2oNLIXR8Mrg0ZIM/Vlnm8aCYqClZVeytO6JMQLB2ygfHqzOi5DMpVWqZBkqpzkwjF61noJPY81svjxB2S2TANVsiI82Zkzgee0khQAArff/4NQhxU0z8Mf4eAIkBsADb/yP+J+YksrkGUzejyMZeqsDcA3OA2NQ0ycPPQOFhGm7K3wYpG3qPI4INRRSrQqc/hTnBBAPKxeGAcXyFcYiJnKoWWWEpP6NhKK8aZG3voU/Gp52Jq0IESbFSo+k94p4pdH7K1S5UOEYFnWX6xY6EmkyHV3EEz0cJeo9f3z8+REMLtJwJtk23QtmBNn3yep6DW9zCM0Xy3AonCxa7aIL6P5DgguUF8QwTr5ReITMSn4p2PCQZSmeafsFah7L5GQ0lWv0vpoyDCDtShmkY0ylBE3alJBrd7RiUsrkkJvNrhdBNZKUYIVxrCQqCLLAwAewYRpTxblkwXvA+strkU4zdPGFKMfIvU6v/yUIdjnXq8RIkiwiy4y8zpdklwNYQBZbo0FUriCIkl6yEaCHr7HWJ4XbhC3P1YxZVYUYybQj2Pu09ur+5lZkCJaxOSlDGGd5Dkr3wfopvLYYz0ZEJ3yO/5FKfrvQsqP2bvcNBPs+xC2mVFwRjiN7w0EmZi/QxYXUQR+OsRXDih0vCiE1TQmI7jT5QSh0YwzMt0FntmVlGlCKd6odYPRvysNlgh2cer1LPWahmklrqOyiOGPkGC97DVURAp5gRKJjExUbsld2GMTC+gJ87Iq8kIKNwkKVyEg9EvYcR7kk3wIY/5M+b+Zt4W29YM4OCtI7ztHYSIWrCIK3TyZdLNxmi4FzW88iaD11RZpm7jyw06Z2vIt1aj5FDc0Ur1Z76yE7m/FakC1EkYyRLDiXLwQ9ksKDgxREIze3HS0bBJFct+HsZvTr05C0UXZNqfc0yZrts8vrU0SnIwIksSNbOnak37d8M1uLx1p3yKySQ0BXse0ZhMGpah/Cyye9bE7kMWu1Y8hi8vEbywSXLsfbE71zNvRJ5Wq5lIBG0J2tc2ywStxWJguHEayKYF+jYXHOdUppwIKPaFkVcjEhf8RH2bX9Zop3jPjIjk9volbNuC/SoiSiP70YVCqMiWgkPScSEEBpLIjZvGa/DXrhBFHEx6zduNIRL9nyN8leXuvJU1vDEFV5x7zaUUlWi/JPpolHpz+VG0GlgyTbmY4uoNTehheCdNoQeqYXLqftv8dUfWl7MP37DsU6fo9ex3HNNRNB0Z1XSE4w/GUD1LRUwUNBkDalGc2VTH0d2tb0YQnDsB0vEVn0JBUjxpXU1XPEwAB7oB8QjEFijNB/HtAFJyA5c+Uptz5E/bP8Ie1jWbrO0UttfRonlqwBHCrIqxeumUJgU4q/cHDa3v8lbyudPTx0RBxg/4CQA8BF4QH6vs0g1omPneIxYJgEoGTt3GP7t4WhvpL5+EvGijXSc9s6A2BvISmvl0b1xAMtGQxUm5FxNib61K2+6hiB5qDVYOKyMMeEU/F7nG4LsVS5SRbl4JOMtdbgMLLZENGSAVcBEQmYYSOv3PyJ+pbs1N2gbMCmJnCCzN4dStK6hhvY6Ha7DxcV2zNCRGVukjlGmlkh3a+Nppk/uGKc9GceUaQ1nXDyS0Wm3TCrOarNKUwNGbsiyz9ho6MoxjS8db5mQtmZIHfB2ga8eoGoiJcaNnP2R4/vA1BNuGQSK4cMVQti2uYUHGkzofXPG7q8NsdAkPtXK7ORfWyvb/NI5nEjpZSDOTUK8jIpw+ml7ypQwJ0umvJJREMsp7XNEQvl9gr4pFqcBVuxoyc4IEBB4gQQNuHagnPdeqLEeceCqEh5Lg97ZXvg3EIueMTy0wCqST3yCkyFBVJHNTc5GBRrrz5W+14L3VWyHPwly77odLJCGDNO7NLuqJilBSFgyhbRlxKjxsDXGyiUMHSYIVRcgrQKvQr4bhgOcAjLLBYAG+iAyqlWgwQlshfRyBCiEgQoFO86GtPriI1ENrLKaPIG7i2y3avdkp2FDkSofdGq7Gz985JysK+L9WSBMmf/4NQhyWk7bmuC46zXxffHC7ljsK/Ga5ik1pDp9k2NJenysg7k+XgE/9u2cEhIyoNZdCq4Vuzv5uuSER656qDtf9FpGLAaQ946YycA/PcM4GGFAosSmisrIlScP4Dj7YT0L7HtDjUHS2WTlAgFdQb6GATpxNAF5qHXKJ3itRniWInDtWamkIq+ZcZVuHZD1yJD6CLEOmCFXymgOISJrrS+hxRiAcj7onVMLlo9EMAZZ4wlBiYCbaG2OInfd5ftausy1aRJpuJZDjjnxODKZpGCxfbr6yNdnCAMBiar1NufZW6dAaI/+IIIaMdph72RbYcrrfZ1WVERIYlms9SMmnMNHWpWGyoutjWmO13drQ0Cswc0b8IyAsyvUCgxs1tVD3wQ5q1sljsS8edLZ+MpYT0WbXLeAVDRzW23wEIvnhdwkxSrSnxi53OmTqVqyNDGBMA/umn2eJXBqNeaLBymiZPEbmfIhFCq2sja0i65VSRtR5w+768bWzpQy/OSIABwhk5BS9x3pVR479hG1bjCfV4ahyevIpwkzuTmRZw+nGX5pBViK9MslkWJqK2HNggWpjTUjN7rHzG7df1KBqf7KP+F29U0pcyLkXT93gTnFsI64RIVotVIUBCJzG9+tsra4JCnyp0PAwR83PiBAInxGEE/QD2ReOhoI9ovyw82g0JmAs1dSpRcrTVF2g4lOWlCKqdEyyfupoqzcNWenn2mNM+LnrxehCh+cBT2oDSclP8QEz3EieMrtUQAvBDTTUC1gl0ueqB+TN/PRmY5S/oBQBYDuKDErvt3hsoVVHIuf8csFSFfKfk3Hl1CJ8xjULj4ne+QvIUWTRvlicDXxbZa6tS5aCWvuInAgQ4fA0KC6GNz3a0XNb/8Kc9GnkjV83hJqjmraAS2i7XH2ydCt20NLdm2YnTtSrD9JXGzc4Fd6MJZ4xfF81VfaHEjVFXc7kDb6JX3ASHU3K1TYBQfbc5eHQyVrp3q3U6sdSoudBn+TKpW3CZJ1Tsm0ueT4uLk8Cxk0XBUmsbA3z/WJV0u+5EzswUSoXjrBQrML1sY5EE1KoOmh8X2sdhMfFfMcMDZiWAlzrlWFGyLfizUH7cKH44sXZuxsurqG6JbNvsvMLwdbPCplmJjjnPVjFClk+oruec3pjUivqW2rHF/chn6TJvclSsnPiKXtsi1Ci8cWY5QCBkf3oToVd/j7nbA/2hPFxcuC2Yt2dL3CvMxPF0hewK3iNeI/cQk+/G6nxFZCFVxG93kFG2fHBjPgWtlsNk+cGhCL+qwjcfVmF3W/tA2q/GiUe4LDIE8aX+wVvtyI6yk7QeL0RRTje2r6kkEj5ngICT4buXPIMoqKPeN9R+0RN6mnGJT1O/i70Ez4klMMiKDs7a874xKuJxR5pGMHNl2Wzl+lAK2zXOuKmLA8XpnlSLI1XIUFq65kvWrAkYkFcFbdX8AgI60xDXcbVXa+aa59rbuaee7cbketCRwwvGMir2Ce94RepvLbpDMw+Gmlk4jkqf0oHg0ErPtCab/kG7pjUamZ+9x5DWPlrDVciQgxN6l+uqz0naQjTOV2MtbLvEyJZndONbss6CLtZF1C5+Yy+i0JmZtcotLPzcBEaxW1LUF+KRM4uUEP8JaOEKF/p0c1d5kYnR6v74OiQQ3gjTVv1QztjS8ZOlNAFZJBl8iu2/bQ6gah82XUkzp4nbV7mVMf12/rilM4RYlo68tRV33qE3ZXGa8LHG1oBTqva8+XRDfClO2Uns3jtDuk0w3JF5Jg+u+vXrEixD6pzJTFtpJA8PG/VhPP4asoz1mDMeY3n+ZoQWlhD6BmR47HDg+gmvfmqRdOjG2JYb5VJQ1KnKKaT0vKW2Ob/oFjuEiiAfSIlaownEqZ3ngp5vmCIYVe39jvExQtRXo8ZbjJCYhIJkJY994MoDc7H1zxMCr6G/PdQwVF9eOtTsrdDDaeP22YHVXC0ZpcbrlU/crm9MmQ86eY2UwuBd1dLPRrK/KFiSuSdP+xdNVL9k++Fitj6o8U0bjeHYGhu2n5xUTehYpm3qAqmN7G2B1iwpSfEGI4HHe3KQu9Mxi5kyIqGdosNCnaif7o6vDajVtntf/FNuT+THzLUAny5UhrLJ68Y5J+df/4NQhzXUzuJ/HP9mn5YPsn/Jr/peYmhbIqY69rsXGNhSGZgJ/eNKqHcJMpdBBFXHTTwCKPrx2EMkt/h11ZJi91ovv0l9w6j8mORXLblCoMtnKEImDTKWN2Qleqq7HbdBhuX0IXNErwMRhXKSsoUMxNflX8vpwYgJ2JN8VfMi0V+Xfdksz9PHiEswmblHCHdVPuIsh0sHZOanh6mKZJGNEZghah1fs4qfTqtVjNJRtQ9Bk3Rp5vVzPBNNQXHdRdBVbsaF3IHzD9mBZGFmi+L/PWW9fJO/TjMoQlsmc17wTxDXeWJHNXWkvHfgSLcfrqcrgpGQii03Jg/sw9oOvG2KwIh72BjfIWKMI96PJtobRjuKfPBqEmWmGf7nVuXKJkarshJvZbgz1ajXci4bhXiDo89n9vU+X/viuyYHRCzBXl8BU93VE8heWUvvztbm7bT3rsQnR+SzXyvFW+Z7qbJ8P7n4mWc2m/Y1v9YtHxz/Xa6mfY/gj2KsaJcyTsy9/3+rpkFLbQE7oj6Um9JS/Y/ikZoIlSVEqNsEvtny3zRJhqy3WbozH9/7J/oqq0iCLHkLjB3yIIvaYNJ8MkpMWfq5gSYX/IR4pr11Z2hIuUMnRU8ejut1FNXnxbNqKlAnmvDJFTOIp35bSFmSVsrQUKzqmCTI7E3uQvkt6AQx5fREmOKkiGXrioNqRm7Fk6S432Q0cfZNZn9vduYTC80JVE18s8GsVFOfTYt/XTOAIU4UVgtF3NncKcEkHHqX6xowo9DdTYQ9jC28DCSL161bBqCaF8Xp+ZFWX98JD6E9TFG4LyA5JaCtGyLla0hLB+oOzTlxX3Iw9ZwSh7QRbpHQQ3D97YzHPRM1N1anOu0dJCzUMNkXw3umC7/fC0+cI8RSYAhG9OnJ9BtRWiMKFEDkoInIo8HZVsrLG7LAUMmVB3RyzsN6KL56wde6I1NgXWL0LHgCbhj9d4PL1YNJZZKEMDRecbZ0FAEu1y7GF1YKr6/usmZYTXdPeicOa/PI9LUAgJXCH5dfKVU7CapomFSivWcE2zA2MvVaiLYmaiXV9+Z1YCRhmyXGrCi5Z1WzVrXJzcyi9oyPkWJdmc/sTntF4gh/4lRsJQE+MzxbCe3Rkckk//QIRidrjuQFtSBYlpLvrayfNTzuiCb7gOz9kd8tB9m7V6r6waCxrwMpnlNHcNgr9Ihf3VW18mkuV2snfT6WTqbcvI6PuZmSbwWJQTLQcwWop8b4BVp1jO4lzPZNrTuHyCsS2oWiRKMuiVZYNlZ6LszthLPeiVyXEot3csBiKRvcIXKXPs/HYWtIZcV8fcelEQ4OM9I0eSMefoa4YdujnkFpDfEn5B8m3gtYQBDhGzNu9LRJATi83JYnlX94c/m2jH2c1/BQkG3JDUGoHlUPWUCgEyUDuW5UtpcCO72W0fPpdkGLDGg+I88dD0REWzkrzFSOAl0mbMu3suixqCCM0f8JPL6chCJjZT81PPWRIhei3uydw+jDUj8fGK4r8jebWrHjXyntDpbS61374XigaR1+TugBAtoe4jc0nBcuROcAkC8RdLn19U6y0VSSlbKRqsWZDzQQmwfU+MLdbD4gKeuEewdv/LvQbADuDU2ICohaAbHHs3r6IhEdLuilTOUg8Jndajn2XhGoWiPWJV8k4NtC334mvkfyawNArwRa6axs0apJSfkkypKSE9TRqkX094m1cBOExXhChIA5JHlgt0897tQp8Wng6KhyxBrURFanLYKBT2lfL2bibDLIAFOpcQUQKXkT4KWafEtDHDb0diKs65EcFDWllZOP83G/DB4Lcw71tqgXJD69LKdgcmVFL0UxtLGqzgIXkJbOB+DJaw2Du4RGl6GDEO3uzlUpeU3g/L/iimTk7cscJULyixmlr+nketUK26lyZCNoydmFV7pXBWqaUS+yq8rdHKTZ6iMggbnwtM19wdVc83n3LIKEUnMgh4pKjYNKgeBG2/MeSWwlagvRak8pKl8n9pLNFfBI84TDwqnWNqQeGqpg9lDsV+0ShpNtGVcXa67rYFYT5aONxUIxMpLb/odhTLiYPLIS1pmqSPO8KCYo5Ee6GW1Ke1/JtnItBQElxKoqV7N8LHTRAX+y60GnlpnR6DuQA6jP/4NQh0SEzgw+Nm6b3wUPa3+pz/GeYlIbxMNm/9oEHvAOC9w575PpKDTC3itBS2sO0f7hhDD2niJoXzVCzkXoqgTaROIuUhEytpsUZNYN+yTzMpqTA+0lspYHVjsRgE+N3QhyIYCNqULU3JZYc0xgoLNhZFcsq2CCUbzUdpXK7EPlPTf2aPoz1WQ4oV73JbMCUsmNgarLwXoUFi9aFbo7jSekQxS4BpRqlWa7Fto00bhBPTrpiNZkCGZfXdGHRCTxG7WJds/HTl5aKb/jTs359EsAu3rG4ZlWLrOJxzPMJX28trAICSdCE5JOJ5DGjcDf7CstGsQhxuV1NkkC9EGFmBNu8hRToyYNfF0XOofg9B2lbW227Fr1RInEiZ2I9vKtp536S2XQ5Wxk9B4Gb2WzNqcQ3AFGTacKGh0X7LVGAbRGAVwyAyAQ8HQ7ZFSfChw8QtUBcxdiq1kJkVlLwhtlH1jZd1pWEfHYaqMv/aOAzQWfnr+IydtXjWQRVCgjFMXKjLfErpl3Oruh+pigjCPiudTAKmaJ+N+gMDVhlK6bpiEE9a5kejYpi34xcpG+NcLU2raKu6YstlT8IoFyFDGkJDIGwJCsGip/BiZBV/f49h4Jr+QrxlcVs2Hmwhpxv0FnfH1Pj9ZwtZVxPSg2mv8ci/XPTIcXIYBPUU1FYIGsl2GqCDVblRKaLgyErnpRP/wd8X76GCPoPzaOE5ZaC0HXQT2i8hEl3yq3cdP/0kany0qPU5GKoc6x+nrSZLjF+SUtMEdMshy/9oqkz06mOrFKh6imEQn8imJfLP0LjUKSiGAv8OLGKAzItyn5HNRnYF5o+QvDA+eLlNjy5QoUXG6p3TepiI91M5p5ApUaE4LFAiNxNuEFXQtl1x6jztRip347EEN+S1+E95hPozSVlxp3kHLKhMGoDYJM7WmEw9RXxKyA8I2EwgXOTzOWhSKur+Em1j32lZ8lv6RiURbPs39aWIfAW1TeScJjdPmEsgkqtJW7qkfgQcvD3m2UxO1ChkcLMDPd+eV1126MbsamV7nJg8mnZBR4rXtvMsT0vg/zHCWNzF4pXvSzs+b93mDIghwnLk1K+u6+VdTqYll8rTyWgE8gn6z81IX6tslLCkLgDBRaxP9lPP2xn1zt26xXQg5KCzGRRWE0dCCXeFCajjlMyLMdOtdSaEIuMUt9iJy6vKQwVJGj0QJYfm0DR5Hs9AihExXF5W1Q2kQ1JZs7uBJip+Vt+hYReuTIuk2UL9brMcqJLNpBXBAfKiQyz/7aIYXyX3pyVhqdAq7rlWIlJPljhk78aGaZnUSRuIYKNZzoYMelPDXbwI5DieMk4WzbEIX2oTpiCV5SfUzle0lXJt4wPW5h0ppWOvva2sLER2IB4UOEnCAIcWhIFHXYhUI0Xk4j+qPJkYLHqlIRtDEzF1HpgaJ3YhT15hxqZYerNpXdNhtieqruPbJIoyDYoKb+8kzgCxo3517i2v0rllxlkPkkUtOIgjJE6fpHkMEEoTKfZKLsEAvypU1h0dhybIf3KPgngXrhk9kvZil8DKgZtplGRKUCvQb+2x7FcSaD10/4UoUNMvbddOUhx3y/u0iSv//E0rrcEvT+RbC6R6O3RaPRbQBBloSASQ6CGojFXRhi34ouwgn8uSxbegR49S1gtNkeTj2yB20AV5AmkYy3K7k+WCRQhiAdnmJjue3XRhmz5XPhry+R7EANFziVO3jmjOX21x3xakbTw8+i/RwVkGLTRe0+MQX06JbLuBNlN3UbgjWkhaYx/80zpS9faCD2uzHXi1PEi9q4pbR6nXhhZN8nJfILjPR7rz1KeQrun93jWZ7QvJ2xXLUhSmSgwMlAGGsz4qiEyGu0/FDO5x0yK7wULwJMpflLPgrS0sHLyRi3lqhtu3C3UczU0RWaCNlP/4NQh1T079Jf1g/bn+Rv6u/uT+0/7B5il1or5663FZX7zbo5X+bIjzxIdUvBiOQcpUaGLfKkwMaf53HQDDNj1LIlhX3Rv3iNnoHY9aM4IbROxDwygQxEmE7maiPlYq9NF+RDLpEHVPYy6I95RLyrlF0/hBlwN29s+iwqIlOk4t8zgQxI/21qqpKF48T8k2mRXrhdVdEXozqHAwmCpdL2XjrokURajobopUBXwC+nX1mluvcDlRb8p0FTj1VaNdb/c0/WIg49ZIBLqaFunxCoyUmSLQC2ahJdYKJ4NXnPg+aRg/yjxmM3KdJzE06yvECfjTcsCkth6kgkt5k5RmpMwxME+gqpkKxGF9qOT9/Yx7847tveEXAk5Dm7UUgZrsec2WNxClOmZIcy1WlXWowlajZFcrymKKuUUqxKWUi9fQrMouoxfFvkQz1w6xuSJm7EsuyHX0PeufUJ9VPl0wz7lP67BNeOkIX++PxF2bUdKSbTYVbguUtyYuIoZDTLDvdHsT2GrxYCvhisTsXh5kdpbtG1aoqYrVINz6Nak15bUlam0wlZzSpnCsMzUiZkjQKnmyta8oW6p6gSB4Wgm05Ese0opkuFrWiTE6iAAPdAAU0BDIKXG7AekYmAMVBEx2ImcgmFl3/QyZDE9TBGh1ULKRjiVIqsk5i9KsknXuCn5OiJWaKQcCiVBlUtxYsWuowNOEASF2Dom7jj+uSDurdHJyr3lcnOGGGf5+XntnS12pnsbdGg1EZ3r7NskVkaaa7KiTzIRF7yi9eQ97RF7I3zQvCothZy75B8avGIqVIX+ipiWiXB5J/3T+jL3s59x8c4muMWk3aQdAEUEzBNJGNvREg3go0/GC22BASlTo9jtjaVQl0H0l+4CktiJfPPLW+IllqdisJINzkiPrWAvYYhWtFpqphpVP+LdHIxurw3SyYsIMonlkHI6seJaY0m86mg2/fLhCuFwSGrDWBWzjg7Fh66BdpiSFmK5y9aaCOIp/MbaVsoGJ9uF77WlEj3q9v9S5ewU+xVIrHVatt1fP1m6IQ5TlZVXPpM1DpL2jLbek8EMFso8spmxFHl/UiLFUh46xL5UT7VgP0C45CDgugZMQYL6ClwkHzsK2RmBIdakeZKWJudOgi8GjIlGEiFAxXo/8CVWSFB05ePbM3JJwYpVV8GBAsD2fEgp5wOuKXdFBRDzaXQkcQ+konbEdsQwUNNy+q/xcjL9VhrWLredZUJLdmEpxawBBw0rzwv4DW2cv6IVDZih4nWCVRTNyMIGf0wPMDAbi8U50iw+WodDReR7GakDqV3NZWylEeHFPO9GSxyWKmY5kggWVBY1l40zVK5bbM4QobI1SFEp0kQt4K5fE1hGxA7xJqwRP+IvgqYCtmpH9LZAZKTIjg04QfpW/5CTUqzW/aCOUpLGC2RLgQWjSmj/ZhGQomDDwmrF3WyeUb0KiR4/U8Rg1EeMo1pJ+C6EgK3JNSZCyFvwM+JEwkVgy2dsnmovCeU8pKUZ881v6xSadW3WCcEBTGVC6tDAl9l0s2WuShstgBxncoSKjLjOeZcL9N6bzAgg+l/LNBMb5kaIpvp9/TSrNb5R7S2U8E6piQj2VCpkBIMN/yOpY2MadMRhefwJWwHnNBYp0VGqqsCcQVvBUZtFVKnpeBiB+AFKTjVoTytMjwoEJ2izXXMvORjRfgoFM0EvHt7S7APt5Zt5lOcjX4lUESkUOj51p4KrzwSB6xusoI5QMtmoqpLG9GY3pHdkNAJK0pf4zCn8pbRjr1mXSfLVKKlUpmqfUPXSR4SNNyfcDZDEywsvEliLDnWPCENlFb33smMtoqyXistvNpGFBAOBt3XG1sfy8TcTKk3/86UOB2A2PFCu0E7UxxO6Qe+mtK0ScPmbErkxkZotVJC3JcsimOiksIzhJLPr8NdIZ/LM35RDPdXTSj4FrM64cccCXbAzznqj04uOj/srB7XI7peQVkBg6yEIitVutrx0yG7pwNE9caHEdvmDshRyQWx3YkrIKEB1E8wqg8GA4VaJLtmiCv0XKmg7QHSz/+DUIdkZOBzINzRSLGV0dSx/JH+kfZ+Yn0a5MV9/BANcNkALH/s8BKmTfbkCElloVzEuyeNaCuDhHqW0KZKd3gkMIq3AIJqn3jvhCTM4pYko48VMs7hP/PzbKmRCOSWH0RbuMxGdkhqXProdhP9jpiqhKuvoOFKI3QfUUwu/+8fB7NWsqq5uXs2s/DNCW04ZYVnLEnYjlE74zuSxMxK8E+SyOqYUHE6AerYZU3e0FdGjNmuDbZ6IWwMTrah3spyftN0PdxBi1KdrQHNnHsVXO9n9FI8oxC41s3IQFIf0J7PDoWGHyftAivuajbSKiXdrKpt2drKXzp+09m/JRqoegiFM2z0E+EEGgaQOtZ+m3OTCGZGhobN8U9uSjCR4sSQ4FcunCg/+aDKt58XlX+aUrPn2ilt46wVWal5AdgQ4im10YXP2Cy0K57BmjFtRZa3ELM+rn9qj1h0XRG9QmPv2A6omOlGyZcnrOaYLiLcQ8U4R0D351slcJu0j4nUiHM5fxlOVtCQILDq1VIUaJSXOwe9N1XhPupFVw4EK7vQAjHBO68eoidEe9xFV6cEkFcM7ss0dUW7TM4KMVwcdcPiQlkiI6o+ehLIxfhd+WcyfvuckThR9RSH5M4M3ONj7CfuE+GuofLWXigwlBjMzoMOpTLMC2+lrZXdSZzxqWkL+POyYyT5Kdeim5HBkoPGRLq3RTzT/d7P2bXIeSkWxrKYGVczFMGs0Rtmdk/l8BtpTk1/T0d55chJEbsFiEHtJHHCEowPeED1az/MkRcEXeVe6qDyTtFjTL7r21je3F1yxwNZE89LKm3SGvXtnJ6jLu+p/Yijhdj0k9tl5S4tUcpXeU0nPStK2tblGMI2dGm5nkpy24rdF97lTdH7+cevijFsriRRQfrs8bwNQQ2VNOwL70iGcj3vlGU5F7HEiZF7qXlrbBQs5L/aLuTe0NfjU9zIGjZI+EvZxn9WE7hKd/OwQ8ieYWkf9ejhUc4NYlHmnLaw/9mZJw/HyP2WhW/lwJpaCUEr0ovx9/1ZliHlR7ldLbaPMONI8EmYUbHdxphftl7c3vkzbG6TCdftuT/ZkekC52YJ5iK3VR1NnuseHjys8pmx7tUQ3dhBk1SKtNH1G55R0vw96Smk/LMnFh1u1NOqyJogZGjt1dIlg6etp46bODpanFdsTZ35M+LeSWO6I2U8a0IbEwkCp7pBOCDYpRl3mOR5MOtu+VS22oHqoi3uxFwo7zO4G6WSq5Ts+ojbfzL46i2I5iA5fWo0JeloOTWXH+pFYTu46rswTZb6+vRxaKr5wpyJQkMfikdGMzMxj1xvnPpk7Wq7gTRsWfQwaECHgtVSdaRSmqjeGduS8sKR28IF3qkxz8A4ajmclnbzMaBIbuH2YdY2mU5mmE+WNSSQj0i+V8VXIMI7lqH9yVZQsSrtDYk2y4b327Jl89vKcH8HjLRK082CeFxdzrGe98w2ve2AXKoLTuWs86zCyslXDG8WrkkLhrbu+cPG+EjSO53+VaXIlys5liIWtoaP4a+9neJ0Um+lYeydTJ6xHHOrqQxzf9L6o6RAHhlKqOuzt3EUlEswSbE/uaerd8n1wfKy5Yde/zKbs03eU6bIpREo/RfwoCxJMZbbSUgToM2UFCwTuWgz1aRUl6ih0gv2Qzsnfl2EptWIla4hkQL5zbbcFH51yOXTwjVmCv98RkklrMCXQ6T6H02JeC2NbJ6azpuFYvu0U71wOVys+s4iq52yRDJnCOdGVzcUiubcB8NJdkpFrB9OH4Uia4bYUMokjxhh1g3rMg1fQt5h4jaVytdVhOrZOoBZ43TfiQ4XwMmU/v11H5VGCQl1fndvAJR5BVaaSU1K6GfAx4gNYHyfZXmdkY4TOVS95+auHReVYZPycseNWTXk7X9M13CJEy1kTNSgoBhuHlZsLGp+TQHFuYXxJstdRvwVkkirywAqlzJ5EepLiPqUkt8WatwxbD0qrMOZCdSjjLd3urF2cRLouMMMWaQCpUrVU5uq1CSOOd97CWDr3zVAp6QxJ7Yul+CjA2z2mSTFhWkxXInS/EJ9R4urT2k6Rg2NR4SemDlxR/HewuckFihSIkYP/4NQh3QUra7N2L4EDiIeH/36LmJdaxuGQjq7ht33BhSP2BhE6ggQiMZnxw59UCkXty7QKWDQ1kyXZpuluFHFilNpjRngFAxHNdnwaEaJKhdF5Cv4ixUf0UeAR8UsYoslmVdPp6gKFq+xulahyCVr/mxQtOcRXdjZtpd4IWaWR61H20YMq7Q5qbsQkAoEu1QOVrBT8Thx4zrk5emgYuC2n6XYzANj+hcsLUm+Ehlx4jhsxIkVbRhcEVDPix8arXkm9F2u87j6N5gGHxv9boBu1gjJXvfNC5ROxJM5JNhMuokOoZWo5vj0MU+UovXt9bIs+66Z3XPknhIU122TEWeNahJMGe50gFOhIc/uXF0tkVfS0Xvihu6k8AnoLyKcOIHBotZeeP9Xjv7qA1qTgnhzUgZxWhn/oKTAhtaBaryRdhi41wbcrtFy9xMsJeqFZuFTnAQ/JATCHjO35y2SY1A6aWbpugrL3RWCDDPOWyFXC/cboTQffz2csQcdOagDVssTAopTbV0diqefmxnI64oQhVdkULNMKryMmlBYB6EOBLwCmXlEKyJp6ZMboZPCNhFI7jPkr/R34yX+hqZKoY0t+GrszOgxWCtUG90D41mISFx0+TsTyjAkYlc/hINiv8TqPtmlfrI+2sN0gs4sZqxWDNWTpkzNZdDon6oTZEZ2hDi/17s2K3XnUa5b2jWnqGQ84/aagjJ76eIH6mcODUUkgFcEUWgtjUczTK8sUeSu/cgPH0gXkFNA6AgEjO+qHmFm/h7Lu5I53TfKBCKqazgxMoWakNv1lEX4Wq11xV6EvVRqrEanT7jQ3ITetwvR1+B4TRYlTG1J5r+jjUo2MLvUZCHrLERNl6IPuRuQX+dao5EtKiiMnsxHuMPVScGpbZW4OAV57S0R8g9p2IqMUS/UMuwEJsfyZCtEIsBzi9S0ism/H916+GsSaSim5WVKG0g1Lld4JxEkjsw9EYU1+qpJVNekXrZZPHyqapQWLr9EWNT9VVPxch81ZDJoY1PkMgFA5pWTc82TXwA7SpoffIV2QbWuGqvh3jgl7KbHIfwJDzEYp53cbvHNC2FzMvRFghC4kJaximRz89CtSiAUGYdt7gUkEof9bQ4JEaDCA2PuiNNYnlezCC7OfrBFo5Thsr86Y+kYwnkoK1G/p2Tz3rJGiqmgZTGc222Gj6NvAoiNGlEa8tBiXMF9JmRYK+OROCwJ2cmQmo3RJq2DzFoLKSXWe6/Le7udhxPKEHCDDF5kly+7guivlw7dErpEF3WY4kCf5W6TgKdgDEiOSTb2I4XlkygrlJLXT8yLhafxUv0fQJ3btnriIC+Y2VZcs5RUKEsMKjK0RPUeQk671/+lIvZF3ODEBIVaLY+8cp3FnZLl+HmaUWI9zP2tXu5F1AROnP4l8duY2QvS6jSHOAz9EDEdWtERzPspNKjQwaBzhkmmGQO0NiUMFIOcN4qBhR6sjbgop7XuKD15FnEtSo2TCyTe2SlF639jzmcK6UNWHScOBZrnUEA1ksEmKDqqS0jse2KKPVRxa9ymUWA+C8ydHQ8Ei9V5Vqq2WJbZo6MsLJ7JTdecIRRRW40mSDqmQTvZLsETHEHtSInQzf1Y/OTJDjxAhnALJ6PH+SNxoJ0l6fj280uVBBqjVlM+VUBQktCTeeG7kCM2ACXngUCyWxtUWP/itXanXz+1sUM5uZxmyBySC8ty3BLdteqpjr85ky65pjBHWJ7kKahMDoB1LonCBKqI3BqG082nwpQrl/rOPtf5+bh8Rf3yImUiUMSKojb5WRBzu3irJD7FrLGbJwAO98Mo/sVUcg8e5ilJICUEMH2Ddg4Bu0tXwEP+AQkhB/Q0j9uECYKq3AQOsDT8Ik9b0Yl74bxNkF1nSIAFF34mY0opcWeCIMkdMZ439ISAuJXx/8kwPpbN3B3tOEgs+2b90Eg/KphtQny2hAEsTCXqiUi9jjOCsi8TxCZQ/yjnSXXmiZ4NMQ6AeZrwWwQNxlWN6/21iVfu5EWdYA4w11+s4TISNnCLvvGB6xUKAL+kcbV+ZRT7rueVyZ3K5KzdHMzcPDBYPZU+skqNLhPqJ0ItObczvbnECTdQUuafBwl2DA7f/4NQh4bEwWGRdsGP4YDBX1FEEScuYl+LlcOOwDwDle7ODVAoNYbA2K0a8WkLIqNHfbGpmjiJozLCO/7qYyQ2rG82XIkv8I3pa0aTk0iPMP1COafvqw8s2nK5mW/ffFyWeCIULbgJn/r9W6QUMUh1xYFFteypdmMnC+tfmf7sUJPVmOgon9B6z8nD+4rXEwWvhyHUs8hFKWVOiqowKsGOuebWevqATvwCWQ86b3lMS30FwgsxU/InMTUqerm0kZBIH+3Qh1wO6KG6fgNBFJkkypV6PJVTU9z0Wx/OtqtvijSHTCxUVdf/ZxDbAp/5oXAZG385GKTFcWW+/qnpkxMI+psEAa9DIzkrAK4osQtL6tEbfMwE0XYTR7tWyixy2sbWpV/6fx/mIEsdeOwKXIKueWYEhi6lCUgRNgcNkXTKpE1mnJi/CyMLqxRof9NrXyi8jIKKuL1whZofdCXYJL0fHNV3NcbHeiDEkJMfVLYDa/ART7++a3BDty3WtfmWkSOzttN/IDpGGThlAdxHA3pkQJFn8N3/RZMBVBUgfxymaSIuCtI1GCXzwnSz2aXfFwejzlmMfXKWLVCDUZnsoLQfCPSmgRq5qopjIUsuDWrjWzhj42yqRZQufdCxxYgLsSigKY5PgLdS0IcMAvEVhuwPpkn4cp8umYcRdcxDmcM1Hky1l+S0hSJdszXS3h4sBkPf1bmIL8U1sBlcs8jmgbYhnUXuJmEUrxmWnqgpUoxN+vw0nfOXWJmRKiGOI6+MetLeDSrDxYVE6JuPUS0pt1L9LX+lWeC44MZa1Q07HvXNPIpBZKznL4IklU1EIIooc7fRZu4IBTmwR7meIdjPJliTV5zCCvwRyRGY/AaK1kuku962Xx3Q8utX26VIFnpmNehDE8W6D22HmXoT+srclXOd0jFgUWwCYre22jJO2E3J8DyPZZp7dEAkuyNd2l83BjC+Ii0M9KH+LVhbHlWE8mXii0IQY13HvTroQjTvXv08xkvM8iufJFYCpc7kMZeMZFn5SItLGWYqSwe61qEEjHsN1dmqX+DcHw7kFs0x1lTMxkujfJpS0eKpAsjNE8IzZPL5iBflJzUZARziQdoV+eUJa68l6GKpkxhsRWnG89yaucJynTphFE2T0PaPpWs134axNgQiF5/gtifV2FE0rFYEuWiwGlx8RurESFURGwyV7wox8MviXHmCrJx6v27YhAFaal899aNastVOl64XSimWqCE82TXfE6k4i7iLh4JytqTa49OonaW6WpVLS/myZlTpbnMQw8hA2pHrGGo65easOfE11msl89dSD9fBFLf0RZQoHgc5FYMjSRJfPfnJdEz9SYkdnJVcCHI2fmEl0UKbaSJj0NXP+o2OlSJRyaS7uvDjbXnavaPqoc+kJCcDzePF6EV/0Lweq3gYBXpC0oCMgXZHCteMf96pDWSkrgwSVT79mbhjkJK35AYSx9suZd23eSibJeCUzuMrHDYPY31qzhSyKRhKy8Mw7JLxlYpkmqKk4Ihmo5MLL9VjssGLSiBIsuSy3cJnKgiFA5tjmUZN7aJEnrko5P6sJjMP+jjg/192+N/V9TJaOsOin/I1hoYyUbZlJGuI5oLwuaiP6bH7qvjePbgTjjy8Ip93oeSqKGm5GmzVJZQSxnGf2Icxab0hqmkKS5gj/01RjdPGmFzgEUpEGjrvEQijlEriwRASLQbBLTBGmcfatF0v4qqr1t6bcQ8Yxd4NARbRi4upb35iQDVzlD1+Ea3UNgWUtElwg5tPxl+pF5Bx8JTs+IWKm5tnecmE784PnO//g1CHlrTvGv5xLkeN/C4Mnml+xB6aXmKXiiLn5vZBmNXGgETH3oASD6BMIiUhmnGS8s2pNVqXVGhy0RJzjyQJzzM6q4K6pPOtAoRUCNV+IecijVHlZvnYIWOpINQEpBXA+pio9/sFIoNaA6m9dYpk5Y64s3gy59Q++AFd+Lk44fICyb3X5oyuC2Sl48SGaiIrJYMj4TzO0Yx2u8FZWdw7JXvKzmlwxIikDJ0UK+0axuXPiRz88RcHjnxxjt6qxeDbgfIP+LiCdyHaWlNOu5QSn+b3KBMyJzUehrDsUtm9CCTU9z/VZpOv9Jg+Ig9S8fsbJZzN6+4r7e4tqUYnWtVzAqX4mzObqtKhyV0yE/a0deQsnTD5dkDj7xq6G89QDDFnMODbBsgtB0QbWzFQwyMm5ATCUUkRTMSRT3ojxSxFxx5ygrX01cvf5WvUDan+Cd07+uxVcLi8nwlT+gEOWdfkdyKRFS6Rdgw+aK3BGhiKiqEaE4zoUQe1lK6dBZoiVDeVZX7gtEKACwBrj1BuwTaFA8JaFiMeIv01+V7l4WDIILfBpyhxOYjwKxR3lw1lhT9cmRCnZi7z/KL5W3CQ7OULHjgSAwP4FDkQUmSk0Vx5CE9/EThU+Ze4TBATVK11N3CWVvrWLJbFLEqMhqCcWFARINo38NAA3NwrPnGhXRSsFESmqV/sTvhzcdDmgrvPODOJYgcrD+j6SX3I7Cjh3UM1X2psarC2z7S9z2rLL/9ryhWEDDHXqRVhrPP2yDuDUFtR4g+bHbJRZT72tesSi9Klj2UJjCijgJ8d0J4ZqAvN337G/C1/KTH1JSTPKl9oKT/xTg/kTsP/QRRpcMhio1KAi0LywlasFky/mrkYDtPVXNAaTP3YGIiVciZQ75/+lPxvGOuIQ0kT02GuNloAjK4U/oSWAjG/UIFUqDbxaZsQFccILsyUCHVASPd6HsC9+fSDvJU8S+ZKaczoWyeozGRRVcRe+WqY3/Y1hReC3yiVi6xyH2Ar70JqzXDy7oK89T0DE7DwmCygHgFHYv8XqZT3mUsCu67U1XRoi/4TpNqKg1HLkLQPuAvaOZZCp1yuEKXCXIj0so0i5BMg6aiEqQS0cvepBwIrvhqZR/Hi6aJQcZgS6w5sYgtYZn7zaXvMgw7gKNtowBNFyFN6FVtfKSJu4pmoyzC9XbRZrcFWS6uqxpBMbqPYj901dIlbDCOAdYXmZRuYiM3I4NmhqF3jf7/+Dg3cXlFhV2pmmjUh6+bvpTm/Ecy/jyTrlDrGbWGj7YarpRcvE30zJH/5pcllCkZablrKqS1cZ0sNKChJ6kiqPAJOMmUOwzCDgyh/24F0UIy/OkXo0BfzpOBG+AluVrqRhve5GU5ii68n3ZPqFRBhAGFtYSGK/eSwG3zX9wh43rWRV8kWGZ+yftX3tP1pJiWDecCd4VIfDRkJMKveyxCyEF7oAOosmixUzYFZJNvHevrL1pgcYSWmFCJqF978EOFUELVYU6olNTkR713jY/P8o+JyzO5NSM7gSHjc7hjPRoJhrEx473NGk5MdXFtktorNprMitRp5zfhK93raGuLThrZMAV/loY8i2hlveARFy7FnfIMduzT8iC5oirE5Gq3aZ+SggUo48KhR5ylB2KjDO9+Stx8x3+iD2KcwuTSiOBEe80JpkZJe9z+aDkWMT4l2NtNOnUyrF+OpPn0bfK1XDnBWUzrM/cimiLCKyzysFrftziFEBPs0Ehbfkt5l+rcFOqDzLC1K166CVEOgl5Th+lXHC7P48tPSRUfqwU3RB1yIsKBoD3FhrDvAYLsReNDMh7GKZe1JveMtPLZu9san3Ky6oJjyWZDU9DKfkQw7d+OcMXtSnNfUQonqW1/SESpAV+EiEgzu7FMTlZuRtEvbI/xomApD1ibCpAYf6l16q+bfb931X39uc3HR1OIWF3wev0JROiLPUf3+6/omVPAh/LApeoYzEU0ZEXjz6Ul9KEJwTB3Fb7bJhK2nuS6LXHxSwSl4FeJmo5MSQ/mQ7aUdbX69/IgIR4SnpITGPobp9i/Cb3p1xGfNGCCI0cv6Tf8DLFa5/7Bb6ZYwYav+AWmw2i/3c4UXxMVoRKHiJ06C4wdK/RP256MkS4pbjGJcpJ6jdjBY1numbNDFeWQFk4//g1CHpiTh51IkMlJSW3JPckriMPInzmJvix5E8r0QC+vbhilz7VATPmk2jLPYK+40jZyTd1vjvhP1kCdjK5xWHgSRvMJ9I/epFBJlvzhUdY721fCi44c4eOC20fwzhVbuVuAidD+EpvcOQflSPGQMNIzsKPKgYFmfM2LGCcqKqrxm4K2Zaox20gTESUjRGKIpIjiqy82oaYk9wC0oP0lvj3B3m9l3ZQCrcmgLfdN6xbuxf5wImJR6k6GzwVzADN3T5M93aEY5/THKS6s/wycfjWOQXNmDyYzjpFX3urroKgeqreqqIrczJh1fpkdYt7aUQKccZGGF1ZRuq6a5COsfs36niK4RD403s5oEvI1bYSqD/Zvt9Z7qr3cC78hDh2xXPs9l0Kjus44MPWop2e8rYvHm+1siufGH9HCpOsZ1XJzsowrVkvUWrakkVLCviKeU8wCHWxSTf0DMewqul+LVaJotIadVaLs6vnKM0SKrlj/xzQshHY5gohWh0B64r0ldosRoGSnHKPOowSCKR2lzCp3pyQQb52zzIvlRu71Yya80vKfr1JL90lk/wrhxmUR1epZki3LKeCxedcgKkkN2GqdgwyWWjY3zGESTzC3y8sezXiezqpWsFsx9J3sLahcMZ4VWTjlmRi+ILxbDG12/RV+eONIUWVLbdOt4qNR0cs4KmWnF4avHaHoOsf55XaOr8+mC0EStHyDDni+UyXTcMv49giFYArYV5hGEtee1MM8+t0yV8xjqcrzpN5W4ZfP2M2+19lfu8scb9qrNDQVgmFZOY5r5DCdBuNFXm6TiLztWwPy5ckSNIDzlomHlQsHpiNGGogEVLvc7z0sLVJFaPfX83ajRhT7Y6K2/P98iMyQB6JaKJLM8tyVqQNZkFRgkC7UskhavI1sKViJvfRqO0jYYnpMjXyFr+rzkZTdAjr5C+QP8GwKsmoIrKCYOlYvKazzeFJM6HtMHOqZO8pv7YtxObQMyedBPtlcDd0UKtUUv24vIX6R7ZcQMI24oOHKITJxL/G687g2R6REOzZPctHPDNakOpO27c1Dv8+RvhEBN1axytNIUSu0g6Xb8eQRdNnJoTeRMzI6YeZ4AWns2gwuTJChDNKzFMdFWYjcf0lJ+cKWiSOe6j9iNNQihhciId1vBc90MnaiY65lGZhSlCf0VcduE1d2Vvw8CYLryJ1BPcQFQZTCvuEPm6+xVo8JY/EXhO7zEnmDXdNlpIZVuMBQPNHUt4ZpHc0cRlwTkl6wS2goUiU4qg0vw9w6B3KKtW8cdQfqsYNrCmSTjHfVu7YWIQJxd5KwZOTazU2lx4mnpnMX41jkvUEFsCir8qLFSrW63aqaDWk7O+zLnK1ka0L1UscerJ61DppQh23nXA8tW2Iibd485hpJKyCvcXJsbeuTI3MnOAR84UKcv0JTrZcaKoyjPi7owY7WU0JUKrCLCRC03kqd/Ox4At7B0JpTGFd1rfvrlfmNLtdZAqrmkqPSYeyJNzedEN5i5BUEdw35PSYc+RjjiPo1kr5uTgtYTQS0/XyutFGY8VxKeN4C98vOjYVIt/4tZcp0mD5DTJeYJOMwsfrjScQQj1lrxS6dpoj5JDXLcWYtXi7nRRq/0ZvA6PiNSIGIUIU3v1WDdZxo3o9o/Fh2vaCLnYAxiHsmcLtbz+xT8n/517T7zDDbNrk16LUUy9eeEaF6nY0s/drDAq1QRr2JNlVUQLaiGxAKcP5uWUz0lW4/5wJiGVKyLsFMqZ3dmKrkVOPkUVxy4z476AqbQgIjS5bwNRX0h8UabRzJGAkAg9hs9n487KwIfJpkDUy3tyrxWD48XktvKdeqK9UPBCJdQIGzJw3hb+ybTdl4q2kUxd+VfNai9XB71uVc5LhXazCZ/5P3LDEoFiCraaU0VWuBeWu/oHvL4S2HLAWuzTqSwZFdMSP0IIkCjT5iEkv8XeATz7BA5k4W1+ZXu7asUCJQVqRGvYE3xo5gYO0sL2O5ViIIIDbhEGxoElsNZ4SoC3cC65WQjQny5CwkrtJJotR2+yW5iwiaDyzjjFsldnbPXIjQhR+z0DOVNpoKNVfPkuntrYnx9/K2rq2tAkREGOqamhI+51mI7v/+DUIe2VMFJEQQgqxBdIDKgNXA+bmJSG9Ejhr9ABK3xNgiIGR1gOQOpHPpGyjiVv4zie0krn2F5eGK+3TGTq3/6hZZLcThGxYZ05YykFUVB1LqZJ8fMAkwQbNwpJ07YaymY8ajSJdJZY4divpCH989DhEJJcQDoyblJlc5bJyJxJjquLODLDS5GS+TQ22TOk55i0rqaGNICzC/QsUvFK4eRPwoBtIsdroegBPRGqMj1ESBNdx8DO5JpMxCkc2XlYLW23kSPT0x5oUuEpXLrcPsghu7VhrXuT68J2ESjzIVhJGtwfbNLpY3ZiU5eXuX4Cm7mXg4uNL3zgfVhiWXLEPnrxdSjMY9RwPs7ddZAeuJoaLd9V8HqI/wbVpxafXeIVafQYc+ZKKq6VIgqgYWXFNxoPqCZNmqUaIjuV20sHewRaVTMqjhRMDJhnWt7h1OF9xNVTQ4u0siweaM8Tz+ZHSVfAz5UWy26t2D5q2Qs6fEcEO3hfSes35Brhm/LRGXtcxVNe3AvepNouzCE0IWYbvN1+vlLPdTl/dEDHtGv6P11IxR6F9M/0ywm+eTp5yi+vthtSG+Y3F+xEQls+8bonKAv2zc11jbFF0DibQw5N9kamt691XQ/qhv7HbEQBcf7cwYqQNQfS221nQrXxzz2rZPKhJHYk+xOsDeNes7ceLtc3qCxt+5ug3OH2FUxpKwfGcB84gN4czINfwo7+coUrNESnq1OhppktlcTIUAjsgKmHjrG8B4jbDIox/A8ujVcL6YpzTi5KVt8qZIwsE409FUrXcXUw+pEHCeBCl+cuBlb0zVAReJ3HUIA8dUGphbowBcc3URBhTXgMCtcmRkdbZWmMm3oSPOrRUvchas/FRBGt+wVVn53m/3HPktnmXxJWJSNoo+0DAU6wHMyH5LcY6A5CbEJ5j1cEFsVGld3dEraigyhFtmYJBRSU/sCse+cxO7koodRyLIVpvc7SWvFkJzl/NWzLQETV7SdlXEfOk20sT/1kUHc/t2PyteqRbCTwylDP1Vdkm3LCKMhaDsSz9yM0Vl6cAWUxJjmT7DOM05vb/G2NpMLo8blYB9ToW39YRBxTeAkSi8bjmtN8bYCkcrMlXg3xcPSM8lWuD0EOPECEh0mdMOyw6MlEJc414Uhc88CPKrORk5YJvumPu9xP+1jMdZY9ohTtBYUhfMU0/afHEjiWGdEuferuM4IhosaiaXyquUQI0iIjU6hb8vwvSdtGFNClVU9i1dpAWRJBDxUmJwS/RRv6UXBcSAIyv4lsf2Ic4EyNGO4SepNAUtMqdVeDKyFsaQQTATiOpOEOOXUE5eOCCTnwTAIm5KJKTSdZ5XNN2z9MrkbY2plbs0pkkil6RZSLGN2UtEoFmvdRTnw3LJI6mK/LehdeKB5i8HqH/nWEa8xhgi/pxwRAwuSHwJvqjpVU4P1hj4qcnCBQauWfC2pMGBnfvKSmiMmqQpfeESai/PkE3hFPWUryX/kThIaJxBj6JVVS2VrkRURbllGWWPV3yR8Azt3u2eUPowckdcby4H/vfSXstqFiyKJ9s7BkqiJ7nqxJ0+2kS5/J2ub02XtKUFjvx7LAW8lZEu+nRhppC1ZuZ/PSVtMYlmH8VJ5soI1vjcjmmnwBxrNFN0pXEtyOZtoahLKjtNmyZDU+YLJVK7qzqYCcuXLntdkpyG2PkLtQpZnTR7tVekj5UiKmYSJZe5h61JBLlJqKDlVWQ5/Nu5fEoXYg2jYJa5fNOnLMf8keJc1glDr1OgzBC3RkzPk0SEuisHrYvDQNZycQdrpISXmtPBLsX6gIdtayTvYYRTW3J7BGopF0ejHe1Ex7W5pHk534ihOCyGnXPE4H3EIQFQcrflUz63ILSuVMH01cf0dOJ29O+TobJaBDomzalqg5O7Q3tFUccYxb1JT1xNz7ag0shdHwyuDRkgz9WWebxoJioKVlV7K07okxAsHbKB8erM6LkMylVapkGSqnOTCMXrWegk9jzWy+PEHZLZMA1WyIjzZmTOB57SSFAANK4//g1CHxwTPwx/h4AiQGwANv/I/4n5iSyuQZTN6PIxl6qwNwDc4DY1DTJw89A4WEabsrfBikbeo8jgg1FFKtCpz+FOcEEA8rF4YBxfIVxiImcqhZZYSk/o2Eorxpkbe+hT8annYmrQgRJsVKj6T3inil0fsrVLlQ4RgWdZfrFjoSaTIdXcQTPRwl6j1/fPz5EQwu0nAm2TbdC2YE2ffJ6noNb3MIzRfLcCicLFrtogvo/kOCC5QXxDBOvlF4hMxKfinY8JBlKZ5p+wVqHsvkZDSVa/S+mjIMIO1KGaRjTKUETdqUkGt3tGJSyuSQm82uF0E1kpRghXGsJCoIssDAB7BhGlPFuWTBe8D6y2uRTjN08YUox8i9Tq//JQh2OderxEiSLCLLjLzOl2SXA1hAFlujQVSuIIiSXrIRoIevsdYnhduELc/VjFlVhRjJtCPY+7T26v7mVmQIlrE5KUMYZ3kOSvfB+im8thjPRkQnfI7/kUp+u9Cyo/Zu9w0E+z7ELaZUXBGOI3vDQSZmL9DFhdRBH46xFcOKHS8KITVNCYjuNPlBKHRjDMy3QWe2ZWUaUIp3qh1g9G/Kw2WCHZx6vUs9ZqGaSWuo7KI4Y+QYL3sNVRECnmBEomMTFRuyV3YYxML6AnzsiryQgo3CQpXISD0S9hxHuSTfAhj/kz5v5m3hbb1gzg4K0jvO0dhIhasIgrdPJl0s3GaLgXNbzyJoPXVFmmbuPLDTpna8i3VqPkUNzRSvVnvrITub8VqQLUSRjJEsOJcvBD2SwoODFEQjN7cdLRsEkVy34exm9OvTkLRRdk2p9zTJmu2zy+tTRKcjAiSxI1s6dqTft3wzW4vHWnfIrJJDQFex7RmEwalqH8LLJ71sTuQxa7VjyGLy8RvLBJcux9sTvXM29EnlarmUgEbQna1zbLBK3FYmC4cRrIpgX6Nhcc51SmnAgo9oWRVyMSF/xEfZtf1mineM+MiOT2+iVs24L9KiJKI/vRhUKoyJaCQ9JxIQQGksiNm8Zr8NeuEEUcTHrN240hEv2fI3yV5e68lTW8MQVXnHvNpRSVaL8k+miUenP5UbQaWDJNuZji6g1N6GF4J02hB6phcup+2/x1R9aXsw/fsOxTp+j17Hcc01E0HRnVdITjD8ZQPUtFTBQ0GQNqUZzZVMfR3a1vRhCcOwHS8RWfQkFSPGldTVc8TAAHugHxCMQWKM0H8e0AUnIDlz5Sm3PkT9s/wh7WNZus7RS219GieWrAEcKsirF66ZQmBTir9wcNre/yVvK509PHREHGD/gJADwEXhAfq+zSDWiY+d4jFgmASgZO3cY/u3haG+kvn4S8aKNdJz2zoDYG8hKa+XRvXEAy0ZDFSbkXE2JvrUrb7qGIHmoNVg4rIwx4RT8XucbguxVLlJFuXgk4y11uAwstkQ0ZIBVwERCZhhI6/c/In6luzU3aBswKYmcILM3h1K0rqGG9jodrsPFxXbM0JEZW6SOUaaWSHdr42mmT+4Ypz0Zx5RpDWdcPJLRabdMKs5qs0pTA0ZuyLLP2GjoyjGNLx1vmZC2Zkgd8HaBrx6gaiIlxo2c/ZHj+8DUE24ZBIrhwxVC2La5hQcaTOh9c8burw2x0CQ+1crs5F9bK9v80jmcSOllIM5NQryMinD6aXvKlDAnS6a8klEQyyntc0RC+X2CvikWpwFW7GjJzggQEHiBBA24dqCc916osR5x4KoSHkuD3tle+DcQi54xPLTAKpJPfIKTIUFUkc1NzkYFGuvPlb7XgvdVbIc/CXLvuh0skIYM07s0u6omKUFIWDKFtGXEqPGwNcbKJQwdJghVFyCtAq9CvhuGA5wCMssFgAb6IDKqVaDBCWyF9HIEKISBCgU7zoa0+uIjUQ2sspo8gbuLbLdq92SnYUORKh90arsbP3zknKwr4v1ZIMsM//g1CH13Ttua4LjrNfF98cLuWOwr8ZrmKTWkOn2TY0l6fKyDuT5eAT/27ZwSEjKg1l0KrhW7O/m65IRHrnqoO1/0WkYsBpD3jpjJwD89wzgYYUCixKaKysiVJw/gOPthPQvse0ONQdLZZOUCAV1BvoYBOnE0AXmodconeK1GeJYicO1ZqaQir5lxlW4dkPXIkPoIsQ6YIVfKaA4hImutL6HFGIByPuidUwuWj0QwBlnjCUGJgJtobY4id93l+1q6zLVpEmm4lkOOOfE4MpmkYLF9uvrI12cIAwGJqvU259lbp0Boj/4gghox2mHvZFthyut9nVZUREhiWaz1Iyacw0dalYbKi62NaY7Xd2tDQKzBzRvwjICzK9QKDGzW1UPfBDmrWyWOxLx50tn4ylhPRZtct4BUNHNbbfAQi+eF3CTFKtKfGLnc6ZOpWrI0MYEwD+6afZ4lcGo15osHKaJk8RuZ8iEUKrayNrSLrlVJG1HnD7vrxtbOlDL85IgAHCGTkFL3HelVHjv2EbVuMJ9XhqHJ68inCTO5OZFnD6cZfmkFWIr0yyWRYmorYc2CBamNNSM3usfMbt1/UoGp/so/4Xb1TSlzIuRdP3eBOcWwjrhEhWi1UhQEInMb362ytrgkKfKnQ8DBHzc+IEAifEYQT9APZF46Ggj2i/LDzaDQmYCzV1KlFytNUXaDiU5aUIqp0TLJ+6mirNw1Z6efaY0z4uevF6EKH5wFPagNJyU/xATPcSJ4yu1RAC8ENNNQLWCXS56oH5M389GZjlL+gFAFgO4oMSu+3eGyhVUci5/xywVIV8p+TceXUInzGNQuPid75C8hRZNG+WJwNfFtlrq1LloJa+4icCBDh8DQoLoY3PdrRc1v/wpz0aeSNXzeEmqOatoBLaLtcfbJ0K3bQ0t2bZidO1KsP0lcbNzgV3owlnjF8XzVV9ocSNUVdzuQNvolfcBIdTcrVNgFB9tzl4dDJWunerdTqx1Ki50Gf5MqlbcJknVOybS55Pi4uTwLGTRcFSaxsDfP9YlXS77kTOzBRKheOsFCswvWxjkQTUqg6aHxfax2Ex8V8xwwNmJYCXOuVYUbIt+LNQftwofjixdm7Gy6uobols2+y8wvB1s8KmWYmOOc9WMUKWT6iu55zemNSK+pbascX9yGfpMm9yVKyc+Ipe2yLUKLxxZjlAIGR/ehOhV3+PudsD/aE8XFy4LZi3Z0vcK8zE8XSF7AreI14j9xCT78bqfEVkIVXEb3eQUbZ8cGM+Ba2Ww2T5waEIv6rCNx9WYXdb+0Dar8aJR7gsMgTxpf7BW+3IjrKTtB4vRFFON7avqSQSPmeAgJPhu5c8gyioo9431H7RE3qacYlPU7+LvQTPiSUwyIoOztrzvjEq4nFHmkYwc2XZbOX6UArbNc64qYsDxemeVIsjVchQWrrmS9asCRiQVwVt1fwCAjrTENdxtVdr5prn2tu5p57txuR60JHDC8YyKvYJ73hF6m8tukMzD4aaWTiOSp/SgeDQSs+0Jpv+QbumNRqZn73HkNY+WsNVyJCDE3qX66rPSdpCNM5XYy1su8TIlmd041uyzoIu1kXULn5jL6LQmZm1yi0s/NwERrFbUtQX4pEzi5QQ/wlo4QoX+nRzV3mRidHq/vg6JBDeCNNW/VDO2NLxk6U0AVkkGXyK7b9tDqBqHzZdSTOnidtXuZUx/Xb+uKUzhFiWjry1FXfeoTdlcZrwscbWgFOq9rz5dEN8KU7ZSezeO0O6TTDckXkmD6769esSLEPqnMlMW2kkDw8b9WE8/hqyjPWYMx5jef5mhBaWEPoGZHjscOD6Ca9+apF06MbYlhvlUlDUqcoppPS8pbY5v+gWO4SKIB9IiVqjCcSpneeCnm+YIhhV7f2O8TFC1FejxluMkJiEgmQlj33gygNzsfXPEwKvob891DBUX1461Oyt0MNp4/bZgdVcLRmlxuuVT9yub0yZDzp5jZTC4F3V0s9Gsr8oWJK5J0/7F01Uv2T74WK2PqjxTRuN4dgaG7afnFRN6FimbeoCqY3sbYHWLClJ8QYjgcd7cpC70zGLmTIioZ2iw0KdqJ/ujq8NqNW2e1/8U25P5MfMtQCfLlSGssnrxjkh0L//g1CH5+TO4n8c/2aflg+yf8mv+l5iaFsipjr2uxcY2FIZmAn940qodwkyl0EEVcdNPAIo+vHYQyS3+HXVkmL3Wi+/SX3DqPyY5FctuUKgy2coQiYNMpY3ZCV6qrsdt0GG5fQhc0SvAxGFcpKyhQzE1+Vfy+nBiAnYk3xV8yLRX5d92SzP08eISzCZuUcId1U+4iyHSwdk5qeHqYpkkY0RmCFqHV+zip9Oq1WM0lG1D0GTdGnm9XM8E01Bcd1F0FVuxoXcgfMP2YFkYWaL4v89Zb18k79OMyhCWyZzXvBPENd5Ykc1daS8d+BItx+upyuCkZCKLTcmD+zD2g68bYrAiHvYGN8hYowj3o8m2htGO4p88GoSZaYZ/udW5comRquyEm9luDPVqNdyLhuFeIOjz2f29T5f++K7JgdELMFeXwFT3dUTyF5ZS+/O1ubttPeuxCdH5LNfK8Vb5nupsnw/ufiZZzab9jW/1i0fHP9drqZ9j+CPYqxolzJOzL3/f6umQUttATuiPpSb0lL9j+KRmgiVJUSo2wS+2fLfNEmGrLdZujMf3/sn+iqrSIIseQuMHfIgi9pg0nwySkxZ+rmBJhf8hHimvXVnaEi5QydFTx6O63UU1efFs2oqUCea8MkVM4infltIWZJWytBQrOqYJMjsTe5C+S3oBDHl9ESY4qSIZeuKg2pGbsWTpLjfZDRx9k1mf2925hMLzQlUTXyzwaxUU59Ni39dM4AhThRWC0Xc2dwpwSQcepfrGjCj0N1NhD2MLbwMJIvXrVsGoJoXxen5kVZf3wkPoT1MUbgvIDkloK0bIuVrSEsH6g7NOXFfcjD1nBKHtBFukdBDcP3tjMc9EzU3Vqc67R0kLNQw2RfDe6YLv98LT5wjxFJgCEb06cn0G1FaIwoUQOSgicijwdlWyssbssBQyZUHdHLOw3oovnrB17ojU2BdYvQseAJuGP13g8vVg0llkoQwNF5xtnQUAS7XLsYXVgqvr+6yZlhNd096Jw5r88j0tQCAlcIfl18pVTsJqmiYVKK9ZwTbMDYy9VqItiZqJdX35nVgJGGbJcasKLlnVbNWtcnNzKL2jI+RYl2Zz+xOe0XiCH/iVGwlAT4zPFsJ7dGRyST/9AhGJ2uO5AW1IFiWku+trJ81PO6IJvuA7P2R3y0H2btXqvrBoLGvAymeU0dw2Cv0iF/dVbXyaS5Xayd9PpZOpty8jo+5mZJvBYlBMtBzBainxvgFWnWM7iXM9k2tO4fIKxLahaJEoy6JVlg2VnouzO2Es96JXJcSi3dywGIpG9whcpc+z8dha0hlxXx9x6URDg4z0jR5Ix5+hrhh26OeQWkN8SfkHybeC1hAEOEbM270tEkBOLzclieVf3hz+baMfZzX8FCQbckNQageVQ9ZQKATJQO5blS2lwI7vZbR8+l2QYsMaD4jzx0PRERbOSvMVI4CXSZsy7ey6LGoIIzR/wk8vpyEImNlPzU89ZEiF6Le7J3D6MNSPx8YrivyN5taseNfKe0OltLrXfvheKBpHX5O6AEC2h7iNzScFy5E5wCQLxF0ufX1TrLRVJKVspGqxZkPNBCbB9T4wt1sPiAp64R7B2/8u9BsAO4NTYgKiFoBscezevoiER0u6KVM5SDwmd1qOfZeEahaI9YlXyTg20Lffia+R/JrA0CvBFrprGzRqklJ+STKkpIT1NGqRfT3ibVwE4TFeEKEgDkkeWC3Tz3u1CnxaeDoqHLEGtREVqctgoFPaV8vZuJsMsgAU6lxBRApeRPgpZp8S0McNvR2IqzrkRwUNaWVk4/zcb8MHgtzDvW2qBckPr0sp2ByZUUvRTG0sarOAheQls4H4MlrDYO7hEaXoYMQ7e7OVSl5TeD8v+KKZOTtyxwlQvKLGaWv6eR61QrbqXJkI2jJ2YVXulcFappRL7Kryt0cpNnqIyCBufC0zX3B1VzzefcsgoRScyCHikqNg0qB4Ebb8x5JbCVqC9FqTykqXyf2ks0V8EjzhMPCqdY2pB4aqmD2UOxX7RKGk20ZVxdrrutgVhPlo43FQjEyktv+h2FMuJg8shLWmapI87woJijkR7oZbUp7X8m2ci0FASXEqipXs3wsdNEBf7LrQaeWmdHoO5AJFO//g1CH95TODD42bpvfBQ9rf6nP8Z5iUhvEw2b/2gQe8A4L3Dnvk+koNMLeK0FLaw7R/uGEMPaeImhfNULOReiqBNpE4i5SETK2mxRk1g37JPMympMD7SWylgdWOxGAT43dCHIhgI2pQtTcllhzTGCgs2FkVyyrYIJRvNR2lcrsQ+U9N/Zo+jPVZDihXvclswJSyY2BqsvBehQWL1oVujuNJ6RDFLgGlGqVZrsW2jTRuEE9OumI1mQIZl9d0YdEJPEbtYl2z8dOXlopv+NOzfn0SwC7esbhmVYus4nHM8wlfby2sAgJJ0ITkk4nkMaNwN/sKy0axCHG5XU2SQL0QYWYE27yFFOjJg18XRc6h+D0HaVtbbbsWvVEicSJnYj28q2nnfpLZdDlbGT0HgZvZbM2pxDcAUZNpwoaHRfstUYBtEYBXDIDIBDwdDtkVJ8KHDxC1QFzF2KrWQmRWUvCG2UfWNl3WlYR8dhqoy/9o4DNBZ+ev4jJ21eNZBFUKCMUxcqMt8SumXc6u6H6mKCMI+K51MAqZon436AwNWGUrpumIQT1rmR6NimLfjFykb41wtTatoq7piy2VPwigXIUMaQkMgbAkKwaKn8GJkFX9/j2Hgmv5CvGVxWzYebCGnG/QWd8fU+P1nC1lXE9KDaa/xyL9c9MhxchgE9RTUVggayXYaoINVuVEpouDISuelE//B3xfvoYI+g/No4TlloLQddBPaLyESXfKrdx0//SRqfLSo9TkYqhzrH6etJkuMX5JS0wR0yyHL/2iqTPTqY6sUqHqKYRCfyKYl8s/QuNQpKIYC/w4sYoDMi3Kfkc1GdgXmj5C8MD54uU2PLlChRcbqndN6mIj3UzmnkClRoTgsUCI3E24QVdC2XXHqPO1GKnfjsQQ35LX4T3mE+jNJWXGneQcsqEwagNgkztaYTD1FfErIDwjYTCBc5PM5aFIq6v4SbWPfaVnyW/pGJRFs+zf1pYh8BbVN5JwmN0+YSyCSq0lbuqR+BBy8PebZTE7UKGRwswM9355XXXboxuxqZXucmDyadkFHite28yxPS+D/McJY3MXile9LOz5v3eYMiCHCcuTUr67r5V1OpiWXytPJaATyCfrPzUhfq2yUsKQuAMFFrE/2U8/bGfXO3brFdCDkoLMZFFYTR0IJd4UJqOOUzIsx0611JoQi4xS32InLq8pDBUkaPRAlh+bQNHkez0CKETFcXlbVDaRDUlmzu4EmKn5W36FhF65Mi6TZQv1usxyoks2kFcEB8qJDLP/tohhfJfenJWGp0CruuVYiUk+WOGTvxoZpmdRJG4hgo1nOhgx6U8NdvAjkOJ4yThbNsQhfahOmIJXlJ9TOV7SVcm3jA9bmHSmlY6+9rawsRHYgHhQ4ScIAhxaEgUddiFQjReTiP6o8mRgseqUhG0MTMXUemBondiFPXmHGplh6s2ld02G2J6qu49skijINigpv7yTOALGjfnXuLa/SuWXGWQ+SRS04iCMkTp+keQwQShMp9kouwQC/KlTWHR2HJsh/co+CeBeuGT2S9mKXwMqBm2mUZEpQK9Bv7bHsVxJoPXT/hShQ0y9t105SHHfL+7SJK//8TSutwS9P5FsLpHo7dFo9FtAEGWhIBJDoIaiMVdGGLfii7CCfy5LFt6BHj1LWC02R5OPbIHbQBXkCaRjLcruT5YJFCGIB2eYmO57ddGGbPlc+GvL5HsQA0XOJU7eOaM5fbXHfFqRtPDz6L9HBWQYtNF7T4xBfTolsu4E2U3dRuCNaSFpjH/zTOlL19oIPa7MdeLU8SL2riltHqdeGFk3ycl8guM9HuvPUp5Cu6f3eNZntC8nbFctSFKZKDAyUAYazPiqITIa7T8UM7nHTIrvBQvAkyl+Us+CtLSwcvJGLeWqG27cLdRzNTRFZoMAC//g1CMKAR079Jf1g/bn+Rv6u/uT+0/7B5il1or5663FZX7zbo5X+bIjzxIdUvBiOQcpUaGLfKkwMaf53HQDDNj1LIlhX3Rv3iNnoHY9aM4IbROxDwygQxEmE7maiPlYq9NF+RDLpEHVPYy6I95RLyrlF0/hBlwN29s+iwqIlOk4t8zgQxI/21qqpKF48T8k2mRXrhdVdEXozqHAwmCpdL2XjrokURajobopUBXwC+nX1mluvcDlRb8p0FTj1VaNdb/c0/WIg49ZIBLqaFunxCoyUmSLQC2ahJdYKJ4NXnPg+aRg/yjxmM3KdJzE06yvECfjTcsCkth6kgkt5k5RmpMwxME+gqpkKxGF9qOT9/Yx7847tveEXAk5Dm7UUgZrsec2WNxClOmZIcy1WlXWowlajZFcrymKKuUUqxKWUi9fQrMouoxfFvkQz1w6xuSJm7EsuyHX0PeufUJ9VPl0wz7lP67BNeOkIX++PxF2bUdKSbTYVbguUtyYuIoZDTLDvdHsT2GrxYCvhisTsXh5kdpbtG1aoqYrVINz6Nak15bUlam0wlZzSpnCsMzUiZkjQKnmyta8oW6p6gSB4Wgm05Ese0opkuFrWiTE6iAAPdAAU0BDIKXG7AekYmAMVBEx2ImcgmFl3/QyZDE9TBGh1ULKRjiVIqsk5i9KsknXuCn5OiJWaKQcCiVBlUtxYsWuowNOEASF2Dom7jj+uSDurdHJyr3lcnOGGGf5+XntnS12pnsbdGg1EZ3r7NskVkaaa7KiTzIRF7yi9eQ97RF7I3zQvCothZy75B8avGIqVIX+ipiWiXB5J/3T+jL3s59x8c4muMWk3aQdAEUEzBNJGNvREg3go0/GC22BASlTo9jtjaVQl0H0l+4CktiJfPPLW+IllqdisJINzkiPrWAvYYhWtFpqphpVP+LdHIxurw3SyYsIMonlkHI6seJaY0m86mg2/fLhCuFwSGrDWBWzjg7Fh66BdpiSFmK5y9aaCOIp/MbaVsoGJ9uF77WlEj3q9v9S5ewU+xVIrHVatt1fP1m6IQ5TlZVXPpM1DpL2jLbek8EMFso8spmxFHl/UiLFUh46xL5UT7VgP0C45CDgugZMQYL6ClwkHzsK2RmBIdakeZKWJudOgi8GjIlGEiFAxXo/8CVWSFB05ePbM3JJwYpVV8GBAsD2fEgp5wOuKXdFBRDzaXQkcQ+konbEdsQwUNNy+q/xcjL9VhrWLredZUJLdmEpxawBBw0rzwv4DW2cv6IVDZih4nWCVRTNyMIGf0wPMDAbi8U50iw+WodDReR7GakDqV3NZWylEeHFPO9GSxyWKmY5kggWVBY1l40zVK5bbM4QobI1SFEp0kQt4K5fE1hGxA7xJqwRP+IvgqYCtmpH9LZAZKTIjg04QfpW/5CTUqzW/aCOUpLGC2RLgQWjSmj/ZhGQomDDwmrF3WyeUb0KiR4/U8Rg1EeMo1pJ+C6EgK3JNSZCyFvwM+JEwkVgy2dsnmovCeU8pKUZ881v6xSadW3WCcEBTGVC6tDAl9l0s2WuShstgBxncoSKjLjOeZcL9N6bzAgg+l/LNBMb5kaIpvp9/TSrNb5R7S2U8E6piQj2VCpkBIMN/yOpY2MadMRhefwJWwHnNBYp0VGqqsCcQVvBUZtFVKnpeBiB+AFKTjVoTytMjwoEJ2izXXMvORjRfgoFM0EvHt7S7APt5Zt5lOcjX4lUESkUOj51p4KrzwSB6xusoI5QMtmoqpLG9GY3pHdkNAJK0pf4zCn8pbRjr1mXSfLVKKlUpmqfUPXSR4SNNyfcDZDEywsvEliLDnWPCENlFb33smMtoqyXistvNpGFBAOBt3XG1sfy8TcTKk3/86UOB2A2PFCu0E7UxxO6Qe+mtK0ScPmbErkxkZotVJC3JcsimOiksIzhJLPr8NdIZ/LM35RDPdXTSj4FrM64cccCXbAzznqj04uOj/srB7XI7peQVkBg6yEIitVutrx0yG7pwNE9caHEdvmDshRyQWx3YkrIKEB1E8wqg8GA4VaJLtmiCv0XKmg7QcfT/+DUIwoFATgcyDc0UixldHUsfyR/pH2fmJ9GuTFffwQDXDZACx/7PASpk325AhJZaFcxLsnjWgrg4R6ltCmSnd4JDCKtwCCap9474QkzOKWJKOPFTLO4T/z82ypkQjklh9EW7jMRnZIalz66HYT/Y6YqoSrr6DhSiN0H1FMLv/vHwezVrKqubl7NrPwzQltOGWFZyxJ2I5RO+M7ksTMSvBPksjqmFBxOgHq2GVN3tBXRozZrg22eiFsDE62od7Kcn7TdD3cQYtSna0BzZx7FVzvZ/RSPKMQuNbNyEBSH9Cezw6Fhh8n7QIr7mo20iol3ayqbdnayl86ftPZvyUaqHoIhTNs9BPhBBoGkDrWfptzkwhmRoaGzfFPbkowkeLEkOBXLpwoP/mgyrefF5V/mlKz59opbeOsFVmpeQHYEOIptdGFz9gstCuewZoxbUWWtxCzPq5/ao9YdF0RvUJj79gOqJjpRsmXJ6zmmC4i3EPFOEdA9+dbJXCbtI+J1IhzOX8ZTlbQkCCw6tVSFGiUlzsHvTdV4T7qRVcOBCu70AIxwTuvHqInRHvcRVenBJBXDO7LNHVFu0zOCjFcHHXD4kJZIiOqPnoSyMX4XflnMn77nJE4UfUUh+TODNzjY+wn7hPhrqHy1l4oMJQYzM6DDqUyzAtvpa2V3Umc8alpC/jzsmMk+SnXopuRwZKDxkS6t0U80/3ez9m1yHkpFsaymBlXMxTBrNEbZnZP5fAbaU5Nf09HeeXISRG7BYhB7SRxwhKMD3hA9Ws/zJEXBF3lXuqg8k7RY0y+69tY3txdcscDWRPPSypt0hr17Zyeoy7vqf2Io4XY9JPbZeUuLVHKV3lNJz0rStrW5RjCNnRpuZ5KctuK3Rfe5U3R+/nHr4oxbK4kUUH67PG8DUENlTTsC+9IhnI975RlORexxImRe6l5a2wULOS/2i7k3tDX41PcyBo2SPhL2cZ/VhO4SnfzsEPInmFpH/Xo4VHODWJR5py2sP/ZmScPx8j9loVv5cCaWglBK9KL8ff9WZYh5Ue5XS22jzDjSPBJmFGx3caYX7Ze3N75M2xukwnX7bk/2ZHpAudmCeYit1UdTZ7rHh48rPKZse7VEN3YQZNUirTR9RueUdL8PekppPyzJxYdbtTTqsiaIGRo7dXSJYOnraeOmzg6WpxXbE2d+TPi3kljuiNlPGtCGxMJAqe6QTgg2KUZd5jkeTDrbvlUttqB6qIt7sRcKO8zuBulkquU7PqI238y+OotiOYgOX1qNCXpaDk1lx/qRWE7uOq7ME2W+vr0cWiq+cKciUJDH4pHRjMzMY9cb5z6ZO1qu4E0bFn0MGhAh4LVUnWkUpqo3hnbkvLCkdvCBd6pMc/AOGo5nJZ28zGgSG7h9mHWNplOZphPljUkkI9IvlfFVyDCO5ah/clWULEq7Q2JNsuG99uyZfPbynB/B4y0StPNgnhcXc6xnvfMNr3tgFyqC07lrPOswsrJVwxvFq5JC4a27vnDxvhI0jud/lWlyJcrOZYiFraGj+GvvZ3idFJvpWHsnUyesRxzq6kMc3/S+qOkQB4ZSqjrs7dxFJRLMEmxP7mnq3fJ9cHysuWHXv8ym7NN3lOmyKURKP0X8KAsSTGW20lIE6DNlBQsE7loM9WkVJeoodIL9kM7J35dhKbViJWuIZEC+c223BR+dcjl08I1Zgr/fEZJJazAl0Ok+h9NiXgtjWyems6bhWL7tFO9cDlcrPrOIqudskQyZwjnRlc3FIrm3AfDSXZKRawfTh+FImuG2FDKJI8YYdYN6zINX0LeYeI2lcrXVYTq2TqAWeN034kOF8DJlP79dR+VRgkJdX53bwCUeQVWmklNSuhnwMeIDWB8n2V5nZGOEzlUvefmrh0XlWGT8nLHjVk15O1/TNdwiRMtZEzUoKAYbh5WbCxqfk0BxbmF8SbLXUb8FZJIq8sAKpcyeRHqS4j6lJLfFmrcMWw9KqzDmQnUo4y3d7qxdnES6LjDDFmkAqVK1VObqtQkjjnfewlg6981QKekMSe2LpfgowNs9pkkxYVpMVyJ0vxCfUeLq09pOkYNjUeEnpg5cUfx3sLnJBYoUirJb/+DUIwoJJStrs3YvgQOIh4f/fouYl1rG4ZCOruG3fcGFI/YGETqCBCIxmfHDn1QKRe3LtApYNDWTJdmm6W4UcWKU2mNGeAUDEc12fBoRokqF0XkK/iLFR/RR4BHxSxiiyWZV0+nqAoWr7G6VqHIJWv+bFC05xFd2Nm2l3ghZpZHrUfbRgyrtDmpuxCQCgS7VA5WsFPxOHHjOuTl6aBi4LafpdjMA2P6FywtSb4SGXHiOGzEiRVtGFwRUM+LHxqteSb0Xa7zuPo3mAYfG/1ugG7WCMle980LlE7Ekzkk2Ey6iQ6hlajm+PQxT5Si9e31siz7rpndc+SeEhTXbZMRZ41qEkwZ7nSAU6Ehz+5cXS2RV9LRe+KG7qTwCegvIpw4gcGi1l54/1eO/uoDWpOCeHNSBnFaGf+gpMCG1oFqvJF2GLjXBtyu0XL3Eywl6oVm4VOcBD8kBMIeM7fnLZJjUDppZum6CsvdFYIMM85bIVcL9xuhNB9/PZyxBx05qANWyxMCilNtXR2Kp5+bGcjrihCFV2RQs0wqvIyaUFgHoQ4EvAKZeUQrImnpkxuhk8I2EUjuM+Sv9HfjJf6GpkqhjS34auzM6DFYK1Qb3QPjWYhIXHT5OxPKMCRiVz+Eg2K/xOo+2aV+sj7aw3SCzixmrFYM1ZOmTM1l0OifqhNkRnaEOL/XuzYrdedRrlvaNaeoZDzj9pqCMnvp4gfqZw4NRSSAVwRRaC2NRzNMryxR5K79yA8fSBeQU0DoCASM76oeYWb+Hsu7kjndN8oEIqprODEyhZqQ2/WURfharXXFXoS9VGqsRqdPuNDchN63C9HX4HhNFiVMbUnmv6ONSjYwu9RkIessRE2Xog+5G5Bf51qjkS0qKIyezEe4w9VJwaltlbg4BXntLRHyD2nYioxRL9Qy7AQmx/JkK0QiwHOL1LSKyb8f3Xr4axJpKKblZUobSDUuV3gnESSOzD0RhTX6qklU16Retlk8fKpqlBYuv0RY1P1VU/FyHzVkMmhjU+QyAUDmlZNzzZNfADtKmh98hXZBta4aq+HeOCXspsch/AkPMRinndxu8c0LYXMy9EWCELiQlrGKZHPz0K1KIBQZh23uBSQSh/1tDgkRoMIDY+6I01ieV7MILs5+sEWjlOGyvzpj6RjCeSgrUb+nZPPeskaKqaBlMZzbbYaPo28CiI0aURry0GJcwX0mZFgr45E4LAnZyZCajdEmrYPMWgspJdZ7r8t7u52HE8oQcIMMXmSXL7uC6K+XDt0SukQXdZjiQJ/lbpOAp2AMSI5JNvYjheWTKCuUktdPzIuFp/FS/R9Andu2euIgL5jZVlyzlFQoSwwqMrRE9R5CTrvX/6Ui9kXc4MQEhVotj7xyncWdkuX4eZpRYj3M/a1e7kXUBE6c/iXx25jZC9LqNIc4DP0QMR1a0RHM+yk0qNDBoHOGSaYZA7Q2JQwUg5w3ioGFHqyNuCinte4oPXkWcS1KjZMLJN7ZKUXrf2POZwrpQ1YdJw4FmudQQDWSwSYoOqpLSOx7Yoo9VHFr3KZRYD4LzJ0dDwSL1XlWqrZYltmjoywsnslN15whFFFbjSZIOqZBO9kuwRMcQe1IidDN/Vj85MkOPECGcAsno8f5I3GgnSXp+PbzS5UEGqNWUz5VQFCS0JN54buQIzYAJeeBQLJbG1RY/+K1dqdfP7WxQzm5nGbIHJILy3LcEt216qmOvzmTLrmmMEdYnuQpqEwOgHUuicIEqojcGobTzafClCuX+s4+1/n5uHxF/fIiZSJQxIqiNvlZEHO7eKskPsWssZsnAA73wyj+xVRyDx7mKUkgJQQwfYN2DgG7S1fAQ/4BCSEH9DSP24QJgqrcBA6wNPwiT1vRiXvhvE2QXWdIgAUXfiZjSilxZ4IgyR0xnjf0hIC4lfH/yTA+ls3cHe04SCz7Zv3QSD8qmG1CfLaEASxMJeqJSL2OM4KyLxPEJlD/KOdJdeaJng0xDoB5mvBbBA3GVY3r/bWJV+7kRZ1gDjDXX6zhMhI2cIu+8YHrFQoAv6RxtX5lFPuu55XJncrkrN0czNw8MFg9lT6ySo0uE+onQi05tzO9ucQJN1BS5p8HCXYLvk//g1CMKDTkwWGRdsGP4YDBX1FEEScuYl+LlcOOwDwDle7ODVAoNYbA2K0a8WkLIqNHfbGpmjiJozLCO/7qYyQ2rG82XIkv8I3pa0aTk0iPMP1COafvqw8s2nK5mW/ffFyWeCIULbgJn/r9W6QUMUh1xYFFteypdmMnC+tfmf7sUJPVmOgon9B6z8nD+4rXEwWvhyHUs8hFKWVOiqowKsGOuebWevqATvwCWQ86b3lMS30FwgsxU/InMTUqerm0kZBIH+3Qh1wO6KG6fgNBFJkkypV6PJVTU9z0Wx/OtqtvijSHTCxUVdf/ZxDbAp/5oXAZG385GKTFcWW+/qnpkxMI+psEAa9DIzkrAK4osQtL6tEbfMwE0XYTR7tWyixy2sbWpV/6fx/mIEsdeOwKXIKueWYEhi6lCUgRNgcNkXTKpE1mnJi/CyMLqxRof9NrXyi8jIKKuL1whZofdCXYJL0fHNV3NcbHeiDEkJMfVLYDa/ART7++a3BDty3WtfmWkSOzttN/IDpGGThlAdxHA3pkQJFn8N3/RZMBVBUgfxymaSIuCtI1GCXzwnSz2aXfFwejzlmMfXKWLVCDUZnsoLQfCPSmgRq5qopjIUsuDWrjWzhj42yqRZQufdCxxYgLsSigKY5PgLdS0IcMAvEVhuwPpkn4cp8umYcRdcxDmcM1Hky1l+S0hSJdszXS3h4sBkPf1bmIL8U1sBlcs8jmgbYhnUXuJmEUrxmWnqgpUoxN+vw0nfOXWJmRKiGOI6+MetLeDSrDxYVE6JuPUS0pt1L9LX+lWeC44MZa1Q07HvXNPIpBZKznL4IklU1EIIooc7fRZu4IBTmwR7meIdjPJliTV5zCCvwRyRGY/AaK1kuku962Xx3Q8utX26VIFnpmNehDE8W6D22HmXoT+srclXOd0jFgUWwCYre22jJO2E3J8DyPZZp7dEAkuyNd2l83BjC+Ii0M9KH+LVhbHlWE8mXii0IQY13HvTroQjTvXv08xkvM8iufJFYCpc7kMZeMZFn5SItLGWYqSwe61qEEjHsN1dmqX+DcHw7kFs0x1lTMxkujfJpS0eKpAsjNE8IzZPL5iBflJzUZARziQdoV+eUJa68l6GKpkxhsRWnG89yaucJynTphFE2T0PaPpWs134axNgQiF5/gtifV2FE0rFYEuWiwGlx8RurESFURGwyV7wox8MviXHmCrJx6v27YhAFaal899aNastVOl64XSimWqCE82TXfE6k4i7iLh4JytqTa49OonaW6WpVLS/myZlTpbnMQw8hA2pHrGGo65easOfE11msl89dSD9fBFLf0RZQoHgc5FYMjSRJfPfnJdEz9SYkdnJVcCHI2fmEl0UKbaSJj0NXP+o2OlSJRyaS7uvDjbXnavaPqoc+kJCcDzePF6EV/0Lweq3gYBXpC0oCMgXZHCteMf96pDWSkrgwSVT79mbhjkJK35AYSx9suZd23eSibJeCUzuMrHDYPY31qzhSyKRhKy8Mw7JLxlYpkmqKk4Ihmo5MLL9VjssGLSiBIsuSy3cJnKgiFA5tjmUZN7aJEnrko5P6sJjMP+jjg/192+N/V9TJaOsOin/I1hoYyUbZlJGuI5oLwuaiP6bH7qvjePbgTjjy8Ip93oeSqKGm5GmzVJZQSxnGf2Icxab0hqmkKS5gj/01RjdPGmFzgEUpEGjrvEQijlEriwRASLQbBLTBGmcfatF0v4qqr1t6bcQ8Yxd4NARbRi4upb35iQDVzlD1+Ea3UNgWUtElwg5tPxl+pF5Bx8JTs+IWKm5tnecmE784Iaa//g1CMKEW07xr+cS5HjfwuDJ5pfsQeml5il4oi5+b2QZjVxoBEx96AEg+gTCIlIZpxkvLNqTVal1RoctESc48kCc8zOquCuqTzrQKEVAjVfiHnIo1R5Wb52CFjqSDUBKQVwPqYqPf7BSKDWgOpvXWKZOWOuLN4MufUPvgBXfi5OOHyAsm91+aMrgtkpePEhmoiKyWDI+E8ztGMdrvBWVncOyV7ys5pcMSIpAydFCvtGsblz4kc/PEXB458cY7eqsXg24HyD/i4gnch2lpTTruUEp/m9ygTMic1Hoaw7FLZvQgk1Pc/1WaTr/SYPiIPUvH7GyWczevuK+3uLalGJ1rVcwKl+Jszm6rSocldMhP2tHXkLJ0w+XZA4+8auhvPUAwxZzDg2wbILQdEG1sxUMMjJuQEwlFJEUzEkU96I8UsRccecoK19NXL3+Vr1A2p/gndO/rsVXC4vJ8JU/oBDlnX5HcikRUukXYMPmitwRoYioqhGhOM6FEHtZSunQWaIlQ3lWV+4LRCgAsAa49QbsE2hQPCWhYjHiL9Nfle5eFgyCC3wacocTmI8CsUd5cNZYU/XJkQp2Yu8/yi+VtwkOzlCx44EgMD+BQ5EFJkpNFceQhPfxE4VPmXuEwQE1StdTdwllb61iyWxSxKjIagnFhQESDaN/DQANzcKz5xoV0UrBREpqlf7E74c3HQ5oK7zzgziWIHKw/o+kl9yOwo4d1DNV9qbGqwts+0vc9qyy//a8oVhAwx16kVYazz9sg7g1BbUeIPmx2yUWU+9rXrEovSpY9lCYwoo4CfHdCeGagLzd9+xvwtfykx9SUkzypfaCk/8U4P5E7D/0EUaXDIYqNSgItC8sJWrBZMv5q5GA7T1VzQGkz92BiIlXImUO+f/pT8bxjriENJE9NhrjZaAIyuFP6ElgIxv1CBVKg28WmbEBXHCC7MlAh1QEj3eh7Avfn0g7yVPEvmSmnM6FsnqMxkUVXEXvlqmN/2NYUXgt8olYusch9gK+9Cas1w8u6CvPU9AxOw8JgsoB4BR2L/F6mU95lLAruu1NV0aIv+E6TaioNRy5C0D7gL2jmWQqdcrhClwlyI9LKNIuQTIOmohKkEtHL3qQcCK74amUfx4umiUHGYEusObGILWGZ+82l7zIMO4CjbaMATRchTehVbXykibuKZqMswvV20Wa3BVkurqsaQTG6j2I/dNXSJWwwjgHWF5mUbmIjNyODZoahd43+//g4N3F5RYVdqZpo1Ievm76U5vxHMv48k65Q6xm1ho+2Gq6UXLxN9MyR/+aXJZQpGWm5ayqktXGdLDSgoSepIqjwCTjJlDsMwg4Mof9uBdFCMvzpF6NAX86TgRvgJbla6kYb3uRlOYouvJ92T6hUQYQBhbWEhiv3ksBt81/cIeN61kVfJFhmfsn7V97T9aSYlg3nAneFSHw0ZCTCr3ssQshBe6ADqLJosVM2BWSTbx3r6y9aYHGElphQiahfe/BDhVBC1WFOqJTU5Ee9d42Pz/KPicszuTUjO4Eh43O4Yz0aCYaxMeO9zRpOTHVxbZLaKzaazIrUaec34Svd62hri04a2TAFf5aGPItoZb3gERcuxZ3yDHbs0/IguaIqxORqt2mfkoIFKOPCoUecpQdiowzvfkrcfMd/og9inMLk0ojgRHvNCaZGSXvc/mg5FjE+JdjbTTp1MqxfjqT59G3ytVw5wVlM6zP3Ipoiwiss8rBa37c4hRAT7NBIW35LeZfq3BTqg8ywtSteuglRDoJeU4fpVxwuz+PLT0kVH6sFN0QdciLCgaA9xYaw7wGC7EXjQzIeximXtSb3jLTy2bvbGp9ysuqCY8lmQ1PQyn5EMO3fjnDF7UpzX1EKJ6ltf0hEqQFfhIhIM7uxTE5WbkbRL2yP8aJgKQ9YmwqQGH+pdeqvm32/d9V9/bnNx0dTiFhd8Hr9CUToiz1H9/uv6JlTwIfywKXqGMxFNGRF48+lJfShCcEwdxW+2yYStp7kui1x8UsEpeBXiZqOTEkP5kO2lHW1+vfyICEeEp6SExj6G6fYvwm96dcRnzRggiNHL+k3/AyxWuf+wW+mWMGGr/gFpsNov93OFF8TFaESh4idOguMHSv0T9uejJEuKW4xiXKSeo3YwWNZ7pmzQxXlkBFvf/4NQjChVxOHnUiQyUlJbck9ySuIw8ifOYm+LHkTyvRAL69uGKXPtUBM+aTaMs9gr7jSNnJN3W+O+E/WQJ2MrnFYeBJG8wn0j96kUEmW/OFR1jvbV8KLjhzh44LbR/DOFVu5W4CJ0P4Sm9w5B+VI8ZAw0jOwo8qBgWZ8zYsYJyoqqvGbgrZlqjHbSBMRJSNEYoikiOKrLzahpiT3ALSg/SW+PcHeb2XdlAKtyaAt903rFu7F/nAiYlHqTobPBXMAM3dPkz3doRjn9McpLqz/DJx+NY5Bc2YPJjOOkVfe6uugqB6qt6qoitzMmHV+mR1i3tpRApxxkYYXVlG6rprkI6x+zfqeIrhEPjTezmgS8jVthKoP9m+31nuqvdwLvyEOHbFc+z2XQqO6zjgw9ainZ7yti8eb7WyK58Yf0cKk6xnVcnOyjCtWS9RatqSRUsK+Ip5TzAIdbFJN/QMx7Cq6X4tVomi0hp1Vouzq+cozRIquWP/HNCyEdjmCiFaHQHrivSV2ixGgZKcco86jBIIpHaXMKnenJBBvnbPMi+VG7vVjJrzS8p+vUkv3SWT/CuHGZRHV6lmSLcsp4LF51yAqSQ3Yap2DDJZaNjfMYRJPMLfLyx7NeJ7OqlawWzH0newtqFwxnhVZOOWZGL4gvFsMbXb9FX5440hRZUtt063io1HRyzgqZacXhq8doeg6x/nldo6vz6YLQRK0fIMOeL5TJdNwy/j2CIVgCthXmEYS157Uwzz63TJXzGOpyvOk3lbhl8/Yzb7X2V+7yxxv2qs0NBWCYVk5jmvkMJ0G40VebpOIvO1bA/LlyRI0gPOWiYeVCwemI0YaiARUu9zvPSwtUkVo99fzdqNGFPtjorb8/3yIzJAHolookszy3JWpA1mQVGCQLtSySFq8jWwpWIm99Go7SNhiekyNfIWv6vORlN0COvkL5A/wbAqyagisoJg6Vi8prPN4Ukzoe0wc6pk7ym/ti3E5tAzJ50E+2VwN3RQq1RS/bi8hfpHtlxAwjbig4cohMnEv8brzuDZHpEQ7Nk9y0c8M1qQ6k7btzUO/z5G+EQE3VrHK00hRK7SDpdvx5BF02cmhN5EzMjph5ngBaezaDC5MkKEM0rMUx0VZiNx/SUn5wpaJI57qP2I01CKGFyIh3W8Fz3QydqJjrmUZmFKUJ/RVx24TV3ZW/DwJguvInUE9xAVBlMK+4Q+br7FWjwlj8ReE7vMSeYNd02WkhlW4wFA80dS3hmkdzRxGXBOSXrBLaChSJTiqDS/D3DoHcoq1bxx1B+qxg2sKZJOMd9W7thYhAnF3krBk5NrNTaXHiaemcxfjWOS9QQWwKKvyosVKtbrdqpoNaTs77MucrWRrQvVSxx6snrUOmlCHbedcDy1bYiJt3jzmGkkrIK9xcmxt65Mjcyc4BHzhQpy/QlOtlxoqjKM+LujBjtZTQlQqsIsJELTeSp387HgC3sHQmlMYV3Wt++uV+Y0u11kCquaSo9Jh7Ik3N50Q3mLkFQR3Dfk9Jhz5GOOI+jWSvm5OC1hNBLT9fK60UZjxXEp43gL3y86NhUi3/i1lynSYPkNMl5gk4zCx+uNJxBCPWWvFLp2miPkkNctxZi1eLudFGr/Rm8Do+I1IgYhQhTe/VYN1nGjej2j8WHa9oIudgDGIeyZwu1vP7FPyf/nXtPvMMNs2uTXotRTL154RoXqdjSz92sMCrVBGvYk2VVRAtqIbEApw/m5ZTPSVbj/nAmIZUrIuwUypnd2YquRU4+RRXHLjPjvoCptCAiNLlvA1FfSHxRptHMkYCQCD2Gz2fjzsrAh8mmQNTLe3KvFYPjxeS28p16or1Q8EIl1AgbMnDeFv7JtN2XiraRTF35V81qL1cHvW5VzkuFdrMJn/k/csMSgWIKtppTRVa4F5a7+ge8vhLYcsBa7NOpLBkV0xI/QgiQKNPmISS/xd4BPPsEDmThbX5le7tqxQIlBWpEa9gTfGjmBg7SwvY7lWIgggNuEQbGgSWw1nhKgLdwLrlZCNCfLkLCSu0kmi1Hb7JbmLCJoPLOOMWyV2ds9ciNCFH7PQM5U2mgo1V8+S6e2tifH38raura0CREQY6pqaEj7nWauEf/4NQjChlVMFJEQQgqxBdIDKgNXA+bmJSG9Ejhr9ABK3xNgiIGR1gOQOpHPpGyjiVv4zie0krn2F5eGK+3TGTq3/6hZZLcThGxYZ05YykFUVB1LqZJ8fMAkwQbNwpJ07YaymY8ajSJdJZY4divpCH989DhEJJcQDoyblJlc5bJyJxJjquLODLDS5GS+TQ22TOk55i0rqaGNICzC/QsUvFK4eRPwoBtIsdroegBPRGqMj1ESBNdx8DO5JpMxCkc2XlYLW23kSPT0x5oUuEpXLrcPsghu7VhrXuT68J2ESjzIVhJGtwfbNLpY3ZiU5eXuX4Cm7mXg4uNL3zgfVhiWXLEPnrxdSjMY9RwPs7ddZAeuJoaLd9V8HqI/wbVpxafXeIVafQYc+ZKKq6VIgqgYWXFNxoPqCZNmqUaIjuV20sHewRaVTMqjhRMDJhnWt7h1OF9xNVTQ4u0siweaM8Tz+ZHSVfAz5UWy26t2D5q2Qs6fEcEO3hfSes35Brhm/LRGXtcxVNe3AvepNouzCE0IWYbvN1+vlLPdTl/dEDHtGv6P11IxR6F9M/0ywm+eTp5yi+vthtSG+Y3F+xEQls+8bonKAv2zc11jbFF0DibQw5N9kamt691XQ/qhv7HbEQBcf7cwYqQNQfS221nQrXxzz2rZPKhJHYk+xOsDeNes7ceLtc3qCxt+5ug3OH2FUxpKwfGcB84gN4czINfwo7+coUrNESnq1OhppktlcTIUAjsgKmHjrG8B4jbDIox/A8ujVcL6YpzTi5KVt8qZIwsE409FUrXcXUw+pEHCeBCl+cuBlb0zVAReJ3HUIA8dUGphbowBcc3URBhTXgMCtcmRkdbZWmMm3oSPOrRUvchas/FRBGt+wVVn53m/3HPktnmXxJWJSNoo+0DAU6wHMyH5LcY6A5CbEJ5j1cEFsVGld3dEraigyhFtmYJBRSU/sCse+cxO7koodRyLIVpvc7SWvFkJzl/NWzLQETV7SdlXEfOk20sT/1kUHc/t2PyteqRbCTwylDP1Vdkm3LCKMhaDsSz9yM0Vl6cAWUxJjmT7DOM05vb/G2NpMLo8blYB9ToW39YRBxTeAkSi8bjmtN8bYCkcrMlXg3xcPSM8lWuD0EOPECEh0mdMOyw6MlEJc414Uhc88CPKrORk5YJvumPu9xP+1jMdZY9ohTtBYUhfMU0/afHEjiWGdEuferuM4IhosaiaXyquUQI0iIjU6hb8vwvSdtGFNClVU9i1dpAWRJBDxUmJwS/RRv6UXBcSAIyv4lsf2Ic4EyNGO4SepNAUtMqdVeDKyFsaQQTATiOpOEOOXUE5eOCCTnwTAIm5KJKTSdZ5XNN2z9MrkbY2plbs0pkkil6RZSLGN2UtEoFmvdRTnw3LJI6mK/LehdeKB5i8HqH/nWEa8xhgi/pxwRAwuSHwJvqjpVU4P1hj4qcnCBQauWfC2pMGBnfvKSmiMmqQpfeESai/PkE3hFPWUryX/kThIaJxBj6JVVS2VrkRURbllGWWPV3yR8Azt3u2eUPowckdcby4H/vfSXstqFiyKJ9s7BkqiJ7nqxJ0+2kS5/J2ub02XtKUFjvx7LAW8lZEu+nRhppC1ZuZ/PSVtMYlmH8VJ5soI1vjcjmmnwBxrNFN0pXEtyOZtoahLKjtNmyZDU+YLJVK7qzqYCcuXLntdkpyG2PkLtQpZnTR7tVekj5UiKmYSJZe5h61JBLlJqKDlVWQ5/Nu5fEoXYg2jYJa5fNOnLMf8keJc1glDr1OgzBC3RkzPk0SEuisHrYvDQNZycQdrpISXmtPBLsX6gIdtayTvYYRTW3J7BGopF0ejHe1Ex7W5pHk534ihOCyGnXPE4H3EIQFQcrflUz63ILSuVMH01cf0dOJ29O+TobJaBDomzalqg5O7Q3tFUccYxb1JT1xNz7ag0shdHwyuDRkgz9WWebxoJioKVlV7K07okxAsHbKB8erM6LkMylVapkGSqnOTCMXrWegk9jzWy+PEHZLZMA1WyIjzZmTOB57SSFAAN2c//g1CMKHUkz8Mf4eAIkBsADb/yP+J+YksrkGUzejyMZeqsDcA3OA2NQ0ycPPQOFhGm7K3wYpG3qPI4INRRSrQqc/hTnBBAPKxeGAcXyFcYiJnKoWWWEpP6NhKK8aZG3voU/Gp52Jq0IESbFSo+k94p4pdH7K1S5UOEYFnWX6xY6EmkyHV3EEz0cJeo9f3z8+REMLtJwJtk23QtmBNn3yep6DW9zCM0Xy3AonCxa7aIL6P5DgguUF8QwTr5ReITMSn4p2PCQZSmeafsFah7L5GQ0lWv0vpoyDCDtShmkY0ylBE3alJBrd7RiUsrkkJvNrhdBNZKUYIVxrCQqCLLAwAewYRpTxblkwXvA+strkU4zdPGFKMfIvU6v/yUIdjnXq8RIkiwiy4y8zpdklwNYQBZbo0FUriCIkl6yEaCHr7HWJ4XbhC3P1YxZVYUYybQj2Pu09ur+5lZkCJaxOSlDGGd5Dkr3wfopvLYYz0ZEJ3yO/5FKfrvQsqP2bvcNBPs+xC2mVFwRjiN7w0EmZi/QxYXUQR+OsRXDih0vCiE1TQmI7jT5QSh0YwzMt0FntmVlGlCKd6odYPRvysNlgh2cer1LPWahmklrqOyiOGPkGC97DVURAp5gRKJjExUbsld2GMTC+gJ87Iq8kIKNwkKVyEg9EvYcR7kk3wIY/5M+b+Zt4W29YM4OCtI7ztHYSIWrCIK3TyZdLNxmi4FzW88iaD11RZpm7jyw06Z2vIt1aj5FDc0Ur1Z76yE7m/FakC1EkYyRLDiXLwQ9ksKDgxREIze3HS0bBJFct+HsZvTr05C0UXZNqfc0yZrts8vrU0SnIwIksSNbOnak37d8M1uLx1p3yKySQ0BXse0ZhMGpah/Cyye9bE7kMWu1Y8hi8vEbywSXLsfbE71zNvRJ5Wq5lIBG0J2tc2ywStxWJguHEayKYF+jYXHOdUppwIKPaFkVcjEhf8RH2bX9Zop3jPjIjk9volbNuC/SoiSiP70YVCqMiWgkPScSEEBpLIjZvGa/DXrhBFHEx6zduNIRL9nyN8leXuvJU1vDEFV5x7zaUUlWi/JPpolHpz+VG0GlgyTbmY4uoNTehheCdNoQeqYXLqftv8dUfWl7MP37DsU6fo9ex3HNNRNB0Z1XSE4w/GUD1LRUwUNBkDalGc2VTH0d2tb0YQnDsB0vEVn0JBUjxpXU1XPEwAB7oB8QjEFijNB/HtAFJyA5c+Uptz5E/bP8Ie1jWbrO0UttfRonlqwBHCrIqxeumUJgU4q/cHDa3v8lbyudPTx0RBxg/4CQA8BF4QH6vs0g1omPneIxYJgEoGTt3GP7t4WhvpL5+EvGijXSc9s6A2BvISmvl0b1xAMtGQxUm5FxNib61K2+6hiB5qDVYOKyMMeEU/F7nG4LsVS5SRbl4JOMtdbgMLLZENGSAVcBEQmYYSOv3PyJ+pbs1N2gbMCmJnCCzN4dStK6hhvY6Ha7DxcV2zNCRGVukjlGmlkh3a+Nppk/uGKc9GceUaQ1nXDyS0Wm3TCrOarNKUwNGbsiyz9ho6MoxjS8db5mQtmZIHfB2ga8eoGoiJcaNnP2R4/vA1BNuGQSK4cMVQti2uYUHGkzofXPG7q8NsdAkPtXK7ORfWyvb/NI5nEjpZSDOTUK8jIpw+ml7ypQwJ0umvJJREMsp7XNEQvl9gr4pFqcBVuxoyc4IEBB4gQQNuHagnPdeqLEeceCqEh5Lg97ZXvg3EIueMTy0wCqST3yCkyFBVJHNTc5GBRrrz5W+14L3VWyHPwly77odLJCGDNO7NLuqJilBSFgyhbRlxKjxsDXGyiUMHSYIVRcgrQKvQr4bhgOcAjLLBYAG+iAyqlWgwQlshfRyBCiEgQoFO86GtPriI1ENrLKaPIG7i2y3avdkp2FDkSofdGq7Gz985JysK+L9WSCSqv/4NQjCiH9O25rguOs18X3xwu5Y7CvxmuYpNaQ6fZNjSXp8rIO5Pl4BP/btnBISMqDWXQquFbs7+brkhEeueqg7X/RaRiwGkPeOmMnAPz3DOBhhQKLEporKyJUnD+A4+2E9C+x7Q41B0tlk5QIBXUG+hgE6cTQBeah1yid4rUZ4liJw7VmppCKvmXGVbh2Q9ciQ+gixDpghV8poDiEia60vocUYgHI+6J1TC5aPRDAGWeMJQYmAm2htjiJ33eX7WrrMtWkSabiWQ4458TgymaRgsX26+sjXZwgDAYmq9Tbn2VunQGiP/iCCGjHaYe9kW2HK632dVlRESGJZrPUjJpzDR1qVhsqLrY1pjtd3a0NArMHNG/CMgLMr1AoMbNbVQ98EOatbJY7EvHnS2fjKWE9Fm1y3gFQ0c1tt8BCL54XcJMUq0p8Yudzpk6lasjQxgTAP7pp9niVwajXmiwcpomTxG5nyIRQqtrI2tIuuVUkbUecPu+vG1s6UMvzkiAAcIZOQUvcd6VUeO/YRtW4wn1eGocnryKcJM7k5kWcPpxl+aQVYivTLJZFiaithzYIFqY01Ize6x8xu3X9Sgan+yj/hdvVNKXMi5F0/d4E5xbCOuESFaLVSFAQicxvfrbK2uCQp8qdDwMEfNz4gQCJ8RhBP0A9kXjoaCPaL8sPNoNCZgLNXUqUXK01RdoOJTlpQiqnRMsn7qaKs3DVnp59pjTPi568XoQofnAU9qA0nJT/EBM9xInjK7VEALwQ001AtYJdLnqgfkzfz0ZmOUv6AUAWA7igxK77d4bKFVRyLn/HLBUhXyn5Nx5dQifMY1C4+J3vkLyFFk0b5YnA18W2WurUuWglr7iJwIEOHwNCguhjc92tFzW//CnPRp5I1fN4Sao5q2gEtou1x9snQrdtDS3ZtmJ07Uqw/SVxs3OBXejCWeMXxfNVX2hxI1RV3O5A2+iV9wEh1NytU2AUH23OXh0Mla6d6t1OrHUqLnQZ/kyqVtwmSdU7JtLnk+Li5PAsZNFwVJrGwN8/1iVdLvuRM7MFEqF46wUKzC9bGORBNSqDpofF9rHYTHxXzHDA2YlgJc65VhRsi34s1B+3Ch+OLF2bsbLq6huiWzb7LzC8HWzwqZZiY45z1YxQpZPqK7nnN6Y1Ir6ltqxxf3IZ+kyb3JUrJz4il7bItQovHFmOUAgZH96E6FXf4+52wP9oTxcXLgtmLdnS9wrzMTxdIXsCt4jXiP3EJPvxup8RWQhVcRvd5BRtnxwYz4FrZbDZPnBoQi/qsI3H1Zhd1v7QNqvxolHuCwyBPGl/sFb7ciOspO0Hi9EUU43tq+pJBI+Z4CAk+G7lzyDKKij3jfUftETeppxiU9Tv4u9BM+JJTDIig7O2vO+MSricUeaRjBzZdls5fpQCts1zripiwPF6Z5UiyNVyFBauuZL1qwJGJBXBW3V/AICOtMQ13G1V2vmmufa27mnnu3G5HrQkcMLxjIq9gnveEXqby26QzMPhppZOI5Kn9KB4NBKz7Qmm/5Bu6Y1GpmfvceQ1j5aw1XIkIMTepfrqs9J2kI0zldjLWy7xMiWZ3TjW7LOgi7WRdQufmMvotCZmbXKLSz83ARGsVtS1BfikTOLlBD/CWjhChf6dHNXeZGJ0er++DokEN4I01b9UM7Y0vGTpTQBWSQZfIrtv20OoGofNl1JM6eJ21e5lTH9dv64pTOEWJaOvLUVd96hN2VxmvCxxtaAU6r2vPl0Q3wpTtlJ7N47Q7pNMNyReSYPrvr16xIsQ+qcyUxbaSQPDxv1YTz+GrKM9ZgzHmN5/maEFpYQ+gZkeOxw4PoJr35qkXToxtiWG+VSUNSpyimk9Lyltjm/6BY7hIogH0iJWqMJxKmd54Keb5giGFXt/Y7xMULUV6PGW4yQmISCZCWPfeDKA3Ox9c8TAq+hvz3UMFRfXjrU7K3Qw2nj9tmB1VwtGaXG65VP3K5vTJkPOnmNlMLgXdXSz0ayvyhYkrknT/sXTVS/ZPvhYrY+qPFNG43h2Bobtp+cVE3oWKZt6gKpjextgdYsKUnxBiOBx3tykLvTMYuZMiKhnaLDQp2on+6Orw2o1bZ7X/xTbk/kx8y1AJ8uVIayyevGOSdt3/+DUIwol4TO4n8c/2aflg+yf8mv+l5iaFsipjr2uxcY2FIZmAn940qodwkyl0EEVcdNPAIo+vHYQyS3+HXVkmL3Wi+/SX3DqPyY5FctuUKgy2coQiYNMpY3ZCV6qrsdt0GG5fQhc0SvAxGFcpKyhQzE1+Vfy+nBiAnYk3xV8yLRX5d92SzP08eISzCZuUcId1U+4iyHSwdk5qeHqYpkkY0RmCFqHV+zip9Oq1WM0lG1D0GTdGnm9XM8E01Bcd1F0FVuxoXcgfMP2YFkYWaL4v89Zb18k79OMyhCWyZzXvBPENd5Ykc1daS8d+BItx+upyuCkZCKLTcmD+zD2g68bYrAiHvYGN8hYowj3o8m2htGO4p88GoSZaYZ/udW5comRquyEm9luDPVqNdyLhuFeIOjz2f29T5f++K7JgdELMFeXwFT3dUTyF5ZS+/O1ubttPeuxCdH5LNfK8Vb5nupsnw/ufiZZzab9jW/1i0fHP9drqZ9j+CPYqxolzJOzL3/f6umQUttATuiPpSb0lL9j+KRmgiVJUSo2wS+2fLfNEmGrLdZujMf3/sn+iqrSIIseQuMHfIgi9pg0nwySkxZ+rmBJhf8hHimvXVnaEi5QydFTx6O63UU1efFs2oqUCea8MkVM4infltIWZJWytBQrOqYJMjsTe5C+S3oBDHl9ESY4qSIZeuKg2pGbsWTpLjfZDRx9k1mf2925hMLzQlUTXyzwaxUU59Ni39dM4AhThRWC0Xc2dwpwSQcepfrGjCj0N1NhD2MLbwMJIvXrVsGoJoXxen5kVZf3wkPoT1MUbgvIDkloK0bIuVrSEsH6g7NOXFfcjD1nBKHtBFukdBDcP3tjMc9EzU3Vqc67R0kLNQw2RfDe6YLv98LT5wjxFJgCEb06cn0G1FaIwoUQOSgicijwdlWyssbssBQyZUHdHLOw3oovnrB17ojU2BdYvQseAJuGP13g8vVg0llkoQwNF5xtnQUAS7XLsYXVgqvr+6yZlhNd096Jw5r88j0tQCAlcIfl18pVTsJqmiYVKK9ZwTbMDYy9VqItiZqJdX35nVgJGGbJcasKLlnVbNWtcnNzKL2jI+RYl2Zz+xOe0XiCH/iVGwlAT4zPFsJ7dGRyST/9AhGJ2uO5AW1IFiWku+trJ81PO6IJvuA7P2R3y0H2btXqvrBoLGvAymeU0dw2Cv0iF/dVbXyaS5Xayd9PpZOpty8jo+5mZJvBYlBMtBzBainxvgFWnWM7iXM9k2tO4fIKxLahaJEoy6JVlg2VnouzO2Es96JXJcSi3dywGIpG9whcpc+z8dha0hlxXx9x6URDg4z0jR5Ix5+hrhh26OeQWkN8SfkHybeC1hAEOEbM270tEkBOLzclieVf3hz+baMfZzX8FCQbckNQageVQ9ZQKATJQO5blS2lwI7vZbR8+l2QYsMaD4jzx0PRERbOSvMVI4CXSZsy7ey6LGoIIzR/wk8vpyEImNlPzU89ZEiF6Le7J3D6MNSPx8YrivyN5taseNfKe0OltLrXfvheKBpHX5O6AEC2h7iNzScFy5E5wCQLxF0ufX1TrLRVJKVspGqxZkPNBCbB9T4wt1sPiAp64R7B2/8u9BsAO4NTYgKiFoBscezevoiER0u6KVM5SDwmd1qOfZeEahaI9YlXyTg20Lffia+R/JrA0CvBFrprGzRqklJ+STKkpIT1NGqRfT3ibVwE4TFeEKEgDkkeWC3Tz3u1CnxaeDoqHLEGtREVqctgoFPaV8vZuJsMsgAU6lxBRApeRPgpZp8S0McNvR2IqzrkRwUNaWVk4/zcb8MHgtzDvW2qBckPr0sp2ByZUUvRTG0sarOAheQls4H4MlrDYO7hEaXoYMQ7e7OVSl5TeD8v+KKZOTtyxwlQvKLGaWv6eR61QrbqXJkI2jJ2YVXulcFappRL7Kryt0cpNnqIyCBufC0zX3B1VzzefcsgoRScyCHikqNg0qB4Ebb8x5JbCVqC9FqTykqXyf2ks0V8EjzhMPCqdY2pB4aqmD2UOxX7RKGk20ZVxdrrutgVhPlo43FQjEyktv+h2FMuJg8shLWmapI87woJijkR7oZbUp7X8m2ci0FASXEqipXs3wsdNEBf7LrQaeWmdHoO5AMpG//g1CMKKcUzgw+Nm6b3wUPa3+pz/GeYlIbxMNm/9oEHvAOC9w575PpKDTC3itBS2sO0f7hhDD2niJoXzVCzkXoqgTaROIuUhEytpsUZNYN+yTzMpqTA+0lspYHVjsRgE+N3QhyIYCNqULU3JZYc0xgoLNhZFcsq2CCUbzUdpXK7EPlPTf2aPoz1WQ4oV73JbMCUsmNgarLwXoUFi9aFbo7jSekQxS4BpRqlWa7Fto00bhBPTrpiNZkCGZfXdGHRCTxG7WJds/HTl5aKb/jTs359EsAu3rG4ZlWLrOJxzPMJX28trAICSdCE5JOJ5DGjcDf7CstGsQhxuV1NkkC9EGFmBNu8hRToyYNfF0XOofg9B2lbW227Fr1RInEiZ2I9vKtp536S2XQ5Wxk9B4Gb2WzNqcQ3AFGTacKGh0X7LVGAbRGAVwyAyAQ8HQ7ZFSfChw8QtUBcxdiq1kJkVlLwhtlH1jZd1pWEfHYaqMv/aOAzQWfnr+IydtXjWQRVCgjFMXKjLfErpl3Oruh+pigjCPiudTAKmaJ+N+gMDVhlK6bpiEE9a5kejYpi34xcpG+NcLU2raKu6YstlT8IoFyFDGkJDIGwJCsGip/BiZBV/f49h4Jr+QrxlcVs2Hmwhpxv0FnfH1Pj9ZwtZVxPSg2mv8ci/XPTIcXIYBPUU1FYIGsl2GqCDVblRKaLgyErnpRP/wd8X76GCPoPzaOE5ZaC0HXQT2i8hEl3yq3cdP/0kany0qPU5GKoc6x+nrSZLjF+SUtMEdMshy/9oqkz06mOrFKh6imEQn8imJfLP0LjUKSiGAv8OLGKAzItyn5HNRnYF5o+QvDA+eLlNjy5QoUXG6p3TepiI91M5p5ApUaE4LFAiNxNuEFXQtl1x6jztRip347EEN+S1+E95hPozSVlxp3kHLKhMGoDYJM7WmEw9RXxKyA8I2EwgXOTzOWhSKur+Em1j32lZ8lv6RiURbPs39aWIfAW1TeScJjdPmEsgkqtJW7qkfgQcvD3m2UxO1ChkcLMDPd+eV1126MbsamV7nJg8mnZBR4rXtvMsT0vg/zHCWNzF4pXvSzs+b93mDIghwnLk1K+u6+VdTqYll8rTyWgE8gn6z81IX6tslLCkLgDBRaxP9lPP2xn1zt26xXQg5KCzGRRWE0dCCXeFCajjlMyLMdOtdSaEIuMUt9iJy6vKQwVJGj0QJYfm0DR5Hs9AihExXF5W1Q2kQ1JZs7uBJip+Vt+hYReuTIuk2UL9brMcqJLNpBXBAfKiQyz/7aIYXyX3pyVhqdAq7rlWIlJPljhk78aGaZnUSRuIYKNZzoYMelPDXbwI5DieMk4WzbEIX2oTpiCV5SfUzle0lXJt4wPW5h0ppWOvva2sLER2IB4UOEnCAIcWhIFHXYhUI0Xk4j+qPJkYLHqlIRtDEzF1HpgaJ3YhT15hxqZYerNpXdNhtieqruPbJIoyDYoKb+8kzgCxo3517i2v0rllxlkPkkUtOIgjJE6fpHkMEEoTKfZKLsEAvypU1h0dhybIf3KPgngXrhk9kvZil8DKgZtplGRKUCvQb+2x7FcSaD10/4UoUNMvbddOUhx3y/u0iSv//E0rrcEvT+RbC6R6O3RaPRbQBBloSASQ6CGojFXRhi34ouwgn8uSxbegR49S1gtNkeTj2yB20AV5AmkYy3K7k+WCRQhiAdnmJjue3XRhmz5XPhry+R7EANFziVO3jmjOX21x3xakbTw8+i/RwVkGLTRe0+MQX06JbLuBNlN3UbgjWkhaYx/80zpS9faCD2uzHXi1PEi9q4pbR6nXhhZN8nJfILjPR7rz1KeQrun93jWZ7QvJ2xXLUhSmSgwMlAGGsz4qiEyGu0/FDO5x0yK7wULwJMpflLPgrS0sHLyRi3lqhtu3C3UczU0RWaDGmP/4NQjCi3ZO/SX9YP25/kb+rv7k/tP+weYpdaK+eutxWV+826OV/myI88SHVLwYjkHKVGhi3ypMDGn+dx0AwzY9SyJYV90b94jZ6B2PWjOCG0TsQ8MoEMRJhO5moj5WKvTRfkQy6RB1T2MuiPeUS8q5RdP4QZcDdvbPosKiJTpOLfM4EMSP9taqqShePE/JNpkV64XVXRF6M6hwMJgqXS9l466JFEWo6G6KVAV8Avp19Zpbr3A5UW/KdBU49VWjXW/3NP1iIOPWSAS6mhbp8QqMlJki0AtmoSXWCieDV5z4PmkYP8o8ZjNynScxNOsrxAn403LApLYepIJLeZOUZqTMMTBPoKqZCsRhfajk/f2Me/OO7b3hFwJOQ5u1FIGa7HnNljcQpTpmSHMtVpV1qMJWo2RXK8piirlFKsSllIvX0KzKLqMXxb5EM9cOsbkiZuxLLsh19D3rn1CfVT5dMM+5T+uwTXjpCF/vj8Rdm1HSkm02FW4LlLcmLiKGQ0yw73R7E9hq8WAr4YrE7F4eZHaW7RtWqKmK1SDc+jWpNeW1JWptMJWc0qZwrDM1ImZI0Cp5srWvKFuqeoEgeFoJtORLHtKKZLha1okxOogAD3QAFNAQyClxuwHpGJgDFQRMdiJnIJhZd/0MmQxPUwRodVCykY4lSKrJOYvSrJJ17gp+ToiVmikHAolQZVLcWLFrqMDThAEhdg6Ju44/rkg7q3Rycq95XJzhhhn+fl57Z0tdqZ7G3RoNRGd6+zbJFZGmmuyok8yERe8ovXkPe0ReyN80LwqLYWcu+QfGrxiKlSF/oqYlolweSf90/oy97OfcfHOJrjFpN2kHQBFBMwTSRjb0RIN4KNPxgttgQEpU6PY7Y2lUJdB9JfuApLYiXzzy1viJZanYrCSDc5Ij61gL2GIVrRaaqYaVT/i3RyMbq8N0smLCDKJ5ZByOrHiWmNJvOpoNv3y4QrhcEhqw1gVs44OxYeugXaYkhZiucvWmgjiKfzG2lbKBifbhe+1pRI96vb/UuXsFPsVSKx1WrbdXz9ZuiEOU5WVVz6TNQ6S9oy23pPBDBbKPLKZsRR5f1IixVIeOsS+VE+1YD9AuOQg4LoGTEGC+gpcJB87CtkZgSHWpHmSlibnToIvBoyJRhIhQMV6P/AlVkhQdOXj2zNyScGKVVfBgQLA9nxIKecDril3RQUQ82l0JHEPpKJ2xHbEMFDTcvqv8XIy/VYa1i63nWVCS3ZhKcWsAQcNK88L+A1tnL+iFQ2YoeJ1glUUzcjCBn9MDzAwG4vFOdIsPlqHQ0XkexmpA6ldzWVspRHhxTzvRksclipmOZIIFlQWNZeNM1SuW2zOEKGyNUhRKdJELeCuXxNYRsQO8SasET/iL4KmArZqR/S2QGSkyI4NOEH6Vv+Qk1Ks1v2gjlKSxgtkS4EFo0po/2YRkKJgw8Jqxd1snlG9CokeP1PEYNRHjKNaSfguhICtyTUmQshb8DPiRMJFYMtnbJ5qLwnlPKSlGfPNb+sUmnVt1gnBAUxlQurQwJfZdLNlrkobLYAcZ3KEioy4znmXC/Tem8wIIPpfyzQTG+ZGiKb6ff00qzW+Ue0tlPBOqYkI9lQqZASDDf8jqWNjGnTEYXn8CVsB5zQWKdFRqqrAnEFbwVGbRVSp6XgYgfgBSk41aE8rTI8KBCdos11zLzkY0X4KBTNBLx7e0uwD7eWbeZTnI1+JVBEpFDo+daeCq88EgesbrKCOUDLZqKqSxvRmN6R3ZDQCStKX+Mwp/KW0Y69Zl0ny1SipVKZqn1D10keEjTcn3A2QxMsLLxJYiw51jwhDZRW997JjLaKsl4rLbzaRhQQDgbd1xtbH8vE3EypN//OlDgdgNjxQrtBO1McTukHvprStEnD5mxK5MZGaLVSQtyXLIpjopLCM4SSz6/DXSGfyzN+UQz3V00o+BazOuHHHAl2wM856o9OLjo/7Kwe1yO6XkFZAYOshCIrVbra8dMhu6cDRPXGhxHb5g7IUckFsd2JKyChAdRPMKoPBgOFWiS7Zogr9FypoO0E8n//g1CMKMY04HMg3NFIsZXR1LH8kf6R9n5ifRrkxX38EA1w2QAsf+zwEqZN9uQISWWhXMS7J41oK4OEepbQpkp3eCQwircAgmqfeO+EJMziliSjjxUyzuE/8/NsqZEI5JYfRFu4zEZ2SGpc+uh2E/2OmKqEq6+g4UojdB9RTC7/7x8Hs1ayqrm5ezaz8M0JbThlhWcsSdiOUTvjO5LEzErwT5LI6phQcToB6thlTd7QV0aM2a4NtnohbAxOtqHeynJ+03Q93EGLUp2tAc2cexVc72f0UjyjELjWzchAUh/Qns8OhYYfJ+0CK+5qNtIqJd2sqm3Z2spfOn7T2b8lGqh6CIUzbPQT4QQaBpA61n6bc5MIZkaGhs3xT25KMJHixJDgVy6cKD/5oMq3nxeVf5pSs+faKW3jrBVZqXkB2BDiKbXRhc/YLLQrnsGaMW1FlrcQsz6uf2qPWHRdEb1CY+/YDqiY6UbJlyes5pguItxDxThHQPfnWyVwm7SPidSIczl/GU5W0JAgsOrVUhRolJc7B703VeE+6kVXDgQru9ACMcE7rx6iJ0R73EVXpwSQVwzuyzR1RbtMzgoxXBx1w+JCWSIjqj56EsjF+F35ZzJ++5yROFH1FIfkzgzc42PsJ+4T4a6h8tZeKDCUGMzOgw6lMswLb6Wtld1JnPGpaQv487JjJPkp16KbkcGSg8ZEurdFPNP93s/Ztch5KRbGspgZVzMUwazRG2Z2T+XwG2lOTX9PR3nlyEkRuwWIQe0kccISjA94QPVrP8yRFwRd5V7qoPJO0WNMvuvbWN7cXXLHA1kTz0sqbdIa9e2cnqMu76n9iKOF2PST22XlLi1Ryld5TSc9K0ra1uUYwjZ0abmeSnLbit0X3uVN0fv5x6+KMWyuJFFB+uzxvA1BDZU07AvvSIZyPe+UZTkXscSJkXupeWtsFCzkv9ou5N7Q1+NT3MgaNkj4S9nGf1YTuEp387BDyJ5haR/16OFRzg1iUeactrD/2ZknD8fI/ZaFb+XAmloJQSvSi/H3/VmWIeVHuV0tto8w40jwSZhRsd3GmF+2Xtze+TNsbpMJ1+25P9mR6QLnZgnmIrdVHU2e6x4ePKzymbHu1RDd2EGTVIq00fUbnlHS/D3pKaT8sycWHW7U06rImiBkaO3V0iWDp62njps4OlqcV2xNnfkz4t5JY7ojZTxrQhsTCQKnukE4INilGXeY5Hkw6275VLbageqiLe7EXCjvM7gbpZKrlOz6iNt/MvjqLYjmIDl9ajQl6Wg5NZcf6kVhO7jquzBNlvr69HFoqvnCnIlCQx+KR0YzMzGPXG+c+mTtaruBNGxZ9DBoQIeC1VJ1pFKaqN4Z25LywpHbwgXeqTHPwDhqOZyWdvMxoEhu4fZh1jaZTmaYT5Y1JJCPSL5XxVcgwjuWof3JVlCxKu0NiTbLhvfbsmXz28pwfweMtErTzYJ4XF3OsZ73zDa97YBcqgtO5azzrMLKyVcMbxauSQuGtu75w8b4SNI7nf5VpciXKzmWIha2ho/hr72d4nRSb6Vh7J1MnrEcc6upDHN/0vqjpEAeGUqo67O3cRSUSzBJsT+5p6t3yfXB8rLlh17/MpuzTd5TpsilESj9F/CgLEkxlttJSBOgzZQULBO5aDPVpFSXqKHSC/ZDOyd+XYSm1YiVriGRAvnNttwUfnXI5dPCNWYK/3xGSSWswJdDpPofTYl4LY1snprOm4Vi+7RTvXA5XKz6ziKrnbJEMmcI50ZXNxSK5twHw0l2SkWsH04fhSJrhthQyiSPGGHWDesyDV9C3mHiNpXK11WE6tk6gFnjdN+JDhfAyZT+/XUflUYJCXV+d28AlHkFVppJTUroZ8DHiA1gfJ9leZ2RjhM5VL3n5q4dF5Vhk/Jyx41ZNeTtf0zXcIkTLWRM1KCgGG4eVmwsan5NAcW5hfEmy11G/BWSSKvLACqXMnkR6kuI+pSS3xZq3DFsPSqsw5kJ1KOMt3e6sXZxEui4wwxZpAKlStVTm6rUJI4533sJYOvfNUCnpDEnti6X4KMDbPaZJMWFaTFcidL8Qn1Hi6tPaTpGDY1HhJ6YOXFH8d7C5yQWKFIkSB//g1CMKNZEra7N2L4EDiIeH/36LmJdaxuGQjq7ht33BhSP2BhE6ggQiMZnxw59UCkXty7QKWDQ1kyXZpuluFHFilNpjRngFAxHNdnwaEaJKhdF5Cv4ixUf0UeAR8UsYoslmVdPp6gKFq+xulahyCVr/mxQtOcRXdjZtpd4IWaWR61H20YMq7Q5qbsQkAoEu1QOVrBT8Thx4zrk5emgYuC2n6XYzANj+hcsLUm+Ehlx4jhsxIkVbRhcEVDPix8arXkm9F2u87j6N5gGHxv9boBu1gjJXvfNC5ROxJM5JNhMuokOoZWo5vj0MU+UovXt9bIs+66Z3XPknhIU122TEWeNahJMGe50gFOhIc/uXF0tkVfS0Xvihu6k8AnoLyKcOIHBotZeeP9Xjv7qA1qTgnhzUgZxWhn/oKTAhtaBaryRdhi41wbcrtFy9xMsJeqFZuFTnAQ/JATCHjO35y2SY1A6aWbpugrL3RWCDDPOWyFXC/cboTQffz2csQcdOagDVssTAopTbV0diqefmxnI64oQhVdkULNMKryMmlBYB6EOBLwCmXlEKyJp6ZMboZPCNhFI7jPkr/R34yX+hqZKoY0t+GrszOgxWCtUG90D41mISFx0+TsTyjAkYlc/hINiv8TqPtmlfrI+2sN0gs4sZqxWDNWTpkzNZdDon6oTZEZ2hDi/17s2K3XnUa5b2jWnqGQ84/aagjJ76eIH6mcODUUkgFcEUWgtjUczTK8sUeSu/cgPH0gXkFNA6AgEjO+qHmFm/h7Lu5I53TfKBCKqazgxMoWakNv1lEX4Wq11xV6EvVRqrEanT7jQ3ITetwvR1+B4TRYlTG1J5r+jjUo2MLvUZCHrLERNl6IPuRuQX+dao5EtKiiMnsxHuMPVScGpbZW4OAV57S0R8g9p2IqMUS/UMuwEJsfyZCtEIsBzi9S0ism/H916+GsSaSim5WVKG0g1Lld4JxEkjsw9EYU1+qpJVNekXrZZPHyqapQWLr9EWNT9VVPxch81ZDJoY1PkMgFA5pWTc82TXwA7SpoffIV2QbWuGqvh3jgl7KbHIfwJDzEYp53cbvHNC2FzMvRFghC4kJaximRz89CtSiAUGYdt7gUkEof9bQ4JEaDCA2PuiNNYnlezCC7OfrBFo5Thsr86Y+kYwnkoK1G/p2Tz3rJGiqmgZTGc222Gj6NvAoiNGlEa8tBiXMF9JmRYK+OROCwJ2cmQmo3RJq2DzFoLKSXWe6/Le7udhxPKEHCDDF5kly+7guivlw7dErpEF3WY4kCf5W6TgKdgDEiOSTb2I4XlkygrlJLXT8yLhafxUv0fQJ3btnriIC+Y2VZcs5RUKEsMKjK0RPUeQk671/+lIvZF3ODEBIVaLY+8cp3FnZLl+HmaUWI9zP2tXu5F1AROnP4l8duY2QvS6jSHOAz9EDEdWtERzPspNKjQwaBzhkmmGQO0NiUMFIOcN4qBhR6sjbgop7XuKD15FnEtSo2TCyTe2SlF639jzmcK6UNWHScOBZrnUEA1ksEmKDqqS0jse2KKPVRxa9ymUWA+C8ydHQ8Ei9V5Vqq2WJbZo6MsLJ7JTdecIRRRW40mSDqmQTvZLsETHEHtSInQzf1Y/OTJDjxAhnALJ6PH+SNxoJ0l6fj280uVBBqjVlM+VUBQktCTeeG7kCM2ACXngUCyWxtUWP/itXanXz+1sUM5uZxmyBySC8ty3BLdteqpjr85ky65pjBHWJ7kKahMDoB1LonCBKqI3BqG082nwpQrl/rOPtf5+bh8Rf3yImUiUMSKojb5WRBzu3irJD7FrLGbJwAO98Mo/sVUcg8e5ilJICUEMH2Ddg4Bu0tXwEP+AQkhB/Q0j9uECYKq3AQOsDT8Ik9b0Yl74bxNkF1nSIAFF34mY0opcWeCIMkdMZ439ISAuJXx/8kwPpbN3B3tOEgs+2b90Eg/KphtQny2hAEsTCXqiUi9jjOCsi8TxCZQ/yjnSXXmiZ4NMQ6AeZrwWwQNxlWN6/21iVfu5EWdYA4w11+s4TISNnCLvvGB6xUKAL+kcbV+ZRT7rueVyZ3K5KzdHMzcPDBYPZU+skqNLhPqJ0ItObczvbnECTdQUuafBwl2DeA//4NQjCjm1MFhkXbBj+GAwV9RRBEnLmJfi5XDjsA8A5Xuzg1QKDWGwNitGvFpCyKjR32xqZo4iaMywjv+6mMkNqxvNlyJL/CN6WtGk5NIjzD9Qjmn76sPLNpyuZlv33xclngiFC24CZ/6/VukFDFIdcWBRbXsqXZjJwvrX5n+7FCT1ZjoKJ/Qes/Jw/uK1xMFr4ch1LPIRSllToqqMCrBjrnm1nr6gE78AlkPOm95TEt9BcILMVPyJzE1Knq5tJGQSB/t0IdcDuihun4DQRSZJMqVejyVU1Pc9Fsfzrarb4o0h0wsVFXX/2cQ2wKf+aFwGRt/ORikxXFlvv6p6ZMTCPqbBAGvQyM5KwCuKLELS+rRG3zMBNF2E0e7VsosctrG1qVf+n8f5iBLHXjsClyCrnlmBIYupQlIETYHDZF0yqRNZpyYvwsjC6sUaH/Ta18ovIyCiri9cIWaH3Ql2CS9HxzVdzXGx3ogxJCTH1S2A2vwEU+/vmtwQ7ct1rX5lpEjs7bTfyA6Rhk4ZQHcRwN6ZECRZ/Dd/0WTAVQVIH8cpmkiLgrSNRgl88J0s9ml3xcHo85ZjH1yli1Qg1GZ7KC0Hwj0poEauaqKYyFLLg1q41s4Y+NsqkWULn3QscWIC7EooCmOT4C3UtCHDALxFYbsD6ZJ+HKfLpmHEXXMQ5nDNR5MtZfktIUiXbM10t4eLAZD39W5iC/FNbAZXLPI5oG2IZ1F7iZhFK8Zlp6oKVKMTfr8NJ3zl1iZkSohjiOvjHrS3g0qw8WFROibj1EtKbdS/S1/pVnguODGWtUNOx71zTyKQWSs5y+CJJVNRCCKKHO30WbuCAU5sEe5niHYzyZYk1ecwgr8EckRmPwGitZLpLvetl8d0PLrV9ulSBZ6ZjXoQxPFug9th5l6E/rK3JVzndIxYFFsAmK3ttoyTthNyfA8j2Wae3RAJLsjXdpfNwYwviItDPSh/i1YWx5VhPJl4otCEGNdx7066EI07179PMZLzPIrnyRWAqXO5DGXjGRZ+UiLSxlmKksHutahBIx7DdXZql/g3B8O5BbNMdZUzMZLo3yaUtHiqQLIzRPCM2Ty+YgX5Sc1GQEc4kHaFfnlCWuvJehiqZMYbEVpxvPcmrnCcp06YRRNk9D2j6VrNd+GsTYEIhef4LYn1dhRNKxWBLlosBpcfEbqxEhVERsMle8KMfDL4lx5gqycer9u2IQBWmpfPfWjWrLVTpeuF0oplqghPNk13xOpOIu4i4eCcrak2uPTqJ2lulqVS0v5smZU6W5zEMPIQNqR6xhqOuXmrDnxNdZrJfPXUg/XwRS39EWUKB4HORWDI0kSXz35yXRM/UmJHZyVXAhyNn5hJdFCm2kiY9DVz/qNjpUiUcmku7rw42152r2j6qHPpCQnA83jxehFf9C8Hqt4GAV6QtKAjIF2RwrXjH/eqQ1kpK4MElU+/Zm4Y5CSt+QGEsfbLmXdt3komyXglM7jKxw2D2N9as4UsikYSsvDMOyS8ZWKZJqipOCIZqOTCy/VY7LBi0ogSLLkst3CZyoIhQObY5lGTe2iRJ65KOT+rCYzD/o44P9fdvjf1fUyWjrDop/yNYaGMlG2ZSRriOaC8Lmoj+mx+6r43j24E448vCKfd6HkqihpuRps1SWUEsZxn9iHMWm9IappCkuYI/9NUY3Txphc4BFKRBo67xEIo5RK4sEQEi0GwS0wRpnH2rRdL+Kqq9bem3EPGMXeDQEW0YuLqW9+YkA1c5Q9fhGt1DYFlLRJcIObT8ZfqReQcfCU7PiFipubZ3nJhO/OAFTP/4NQjCj2pO8a/nEuR438LgyeaX7EHppeYpeKIufm9kGY1caARMfegBIPoEwiJSGacZLyzak1WpdUaHLREnOPJAnPMzqrgrqk860ChFQI1X4h5yKNUeVm+dghY6kg1ASkFcD6mKj3+wUig1oDqb11imTljrizeDLn1D74AV34uTjh8gLJvdfmjK4LZKXjxIZqIislgyPhPM7RjHa7wVlZ3Dsle8rOaXDEiKQMnRQr7RrG5c+JHPzxFweOfHGO3qrF4NuB8g/4uIJ3IdpaU067lBKf5vcoEzInNR6GsOxS2b0IJNT3P9Vmk6/0mD4iD1Lx+xslnM3r7ivt7i2pRida1XMCpfibM5uq0qHJXTIT9rR15CydMPl2QOPvGrobz1AMMWcw4NsGyC0HRBtbMVDDIybkBMJRSRFMxJFPeiPFLEXHHnKCtfTVy9/la9QNqf4J3Tv67FVwuLyfCVP6AQ5Z1+R3IpEVLpF2DD5orcEaGIqKoRoTjOhRB7WUrp0FmiJUN5VlfuC0QoALAGuPUG7BNoUDwloWIx4i/TX5XuXhYMggt8GnKHE5iPArFHeXDWWFP1yZEKdmLvP8ovlbcJDs5QseOBIDA/gUORBSZKTRXHkIT38ROFT5l7hMEBNUrXU3cJZW+tYslsUsSoyGoJxYUBEg2jfw0ADc3Cs+caFdFKwURKapX+xO+HNx0OaCu884M4liBysP6PpJfcjsKOHdQzVfamxqsLbPtL3Passv/2vKFYQMMdepFWGs8/bIO4NQW1HiD5sdslFlPva16xKL0qWPZQmMKKOAnx3QnhmoC83ffsb8LX8pMfUlJM8qX2gpP/FOD+ROw/9BFGlwyGKjUoCLQvLCVqwWTL+auRgO09Vc0BpM/dgYiJVyJlDvn/6U/G8Y64hDSRPTYa42WgCMrhT+hJYCMb9QgVSoNvFpmxAVxwguzJQIdUBI93oewL359IO8lTxL5kppzOhbJ6jMZFFVxF75apjf9jWFF4LfKJWLrHIfYCvvQmrNcPLugrz1PQMTsPCYLKAeAUdi/xeplPeZSwK7rtTVdGiL/hOk2oqDUcuQtA+4C9o5lkKnXK4QpcJciPSyjSLkEyDpqISpBLRy96kHAiu+GplH8eLpolBxmBLrDmxiC1hmfvNpe8yDDuAo22jAE0XIU3oVW18pIm7imajLML1dtFmtwVZLq6rGkExuo9iP3TV0iVsMI4B1heZlG5iIzcjg2aGoXeN/v/4ODdxeUWFXamaaNSHr5u+lOb8RzL+PJOuUOsZtYaPthqulFy8TfTMkf/mlyWUKRlpuWsqpLVxnSw0oKEnqSKo8Ak4yZQ7DMIODKH/bgXRQjL86RejQF/Ok4Eb4CW5WupGG97kZTmKLryfdk+oVEGEAYW1hIYr95LAbfNf3CHjetZFXyRYZn7J+1fe0/WkmJYN5wJ3hUh8NGQkwq97LELIQXugA6iyaLFTNgVkk28d6+svWmBxhJaYUImoX3vwQ4VQQtVhTqiU1ORHvXeNj8/yj4nLM7k1IzuBIeNzuGM9GgmGsTHjvc0aTkx1cW2S2is2msyK1GnnN+Er3etoa4tOGtkwBX+WhjyLaGW94BEXLsWd8gx27NPyILmiKsTkardpn5KCBSjjwqFHnKUHYqMM735K3HzHf6IPYpzC5NKI4ER7zQmmRkl73P5oORYxPiXY2006dTKsX46k+fRt8rVcOcFZTOsz9yKaIsIrLPKwWt+3OIUQE+zQSFt+S3mX6twU6oPMsLUrXroJUQ6CXlOH6VccLs/jy09JFR+rBTdEHXIiwoGgPcWGsO8BguxF40MyHsYpl7Um94y08tm72xqfcrLqgmPJZkNT0Mp+RDDt345wxe1Kc19RCiepbX9IRKkBX4SISDO7sUxOVm5G0S9sj/GiYCkPWJsKkBh/qXXqr5t9v3fVff25zcdHU4hYXfB6/QlE6Is9R/f7r+iZU8CH8sCl6hjMRTRkRePPpSX0oQnBMHcVvtsmErae5LotcfFLBKXgV4majkxJD+ZDtpR1tfr38iAhHhKekhMY+hun2L8JvenXEZ80YIIjRy/pN/wMsVrn/sFvpljBhq/4BabDaL/dzhRfExWhEoeInToLjB0r9E/bnoyRLiluMYlyknqN2MFjWe6Zs0MV5ZAakn/+DUIwpA3Th51IkMlJSW3JPckriMPInzmJvix5E8r0QC+vbhilz7VATPmk2jLPYK+40jZyTd1vjvhP1kCdjK5xWHgSRvMJ9I/epFBJlvzhUdY721fCi44c4eOC20fwzhVbuVuAidD+EpvcOQflSPGQMNIzsKPKgYFmfM2LGCcqKqrxm4K2Zaox20gTESUjRGKIpIjiqy82oaYk9wC0oP0lvj3B3m9l3ZQCrcmgLfdN6xbuxf5wImJR6k6GzwVzADN3T5M93aEY5/THKS6s/wycfjWOQXNmDyYzjpFX3urroKgeqreqqIrczJh1fpkdYt7aUQKccZGGF1ZRuq6a5COsfs36niK4RD403s5oEvI1bYSqD/Zvt9Z7qr3cC78hDh2xXPs9l0Kjus44MPWop2e8rYvHm+1siufGH9HCpOsZ1XJzsowrVkvUWrakkVLCviKeU8wCHWxSTf0DMewqul+LVaJotIadVaLs6vnKM0SKrlj/xzQshHY5gohWh0B64r0ldosRoGSnHKPOowSCKR2lzCp3pyQQb52zzIvlRu71Yya80vKfr1JL90lk/wrhxmUR1epZki3LKeCxedcgKkkN2GqdgwyWWjY3zGESTzC3y8sezXiezqpWsFsx9J3sLahcMZ4VWTjlmRi+ILxbDG12/RV+eONIUWVLbdOt4qNR0cs4KmWnF4avHaHoOsf55XaOr8+mC0EStHyDDni+UyXTcMv49giFYArYV5hGEtee1MM8+t0yV8xjqcrzpN5W4ZfP2M2+19lfu8scb9qrNDQVgmFZOY5r5DCdBuNFXm6TiLztWwPy5ckSNIDzlomHlQsHpiNGGogEVLvc7z0sLVJFaPfX83ajRhT7Y6K2/P98iMyQB6JaKJLM8tyVqQNZkFRgkC7UskhavI1sKViJvfRqO0jYYnpMjXyFr+rzkZTdAjr5C+QP8GwKsmoIrKCYOlYvKazzeFJM6HtMHOqZO8pv7YtxObQMyedBPtlcDd0UKtUUv24vIX6R7ZcQMI24oOHKITJxL/G687g2R6REOzZPctHPDNakOpO27c1Dv8+RvhEBN1axytNIUSu0g6Xb8eQRdNnJoTeRMzI6YeZ4AWns2gwuTJChDNKzFMdFWYjcf0lJ+cKWiSOe6j9iNNQihhciId1vBc90MnaiY65lGZhSlCf0VcduE1d2Vvw8CYLryJ1BPcQFQZTCvuEPm6+xVo8JY/EXhO7zEnmDXdNlpIZVuMBQPNHUt4ZpHc0cRlwTkl6wS2goUiU4qg0vw9w6B3KKtW8cdQfqsYNrCmSTjHfVu7YWIQJxd5KwZOTazU2lx4mnpnMX41jkvUEFsCir8qLFSrW63aqaDWk7O+zLnK1ka0L1UscerJ61DppQh23nXA8tW2Iibd485hpJKyCvcXJsbeuTI3MnOAR84UKcv0JTrZcaKoyjPi7owY7WU0JUKrCLCRC03kqd/Ox4At7B0JpTGFd1rfvrlfmNLtdZAqrmkqPSYeyJNzedEN5i5BUEdw35PSYc+RjjiPo1kr5uTgtYTQS0/XyutFGY8VxKeN4C98vOjYVIt/4tZcp0mD5DTJeYJOMwsfrjScQQj1lrxS6dpoj5JDXLcWYtXi7nRRq/0ZvA6PiNSIGIUIU3v1WDdZxo3o9o/Fh2vaCLnYAxiHsmcLtbz+xT8n/517T7zDDbNrk16LUUy9eeEaF6nY0s/drDAq1QRr2JNlVUQLaiGxAKcP5uWUz0lW4/5wJiGVKyLsFMqZ3dmKrkVOPkUVxy4z476AqbQgIjS5bwNRX0h8UabRzJGAkAg9hs9n487KwIfJpkDUy3tyrxWD48XktvKdeqK9UPBCJdQIGzJw3hb+ybTdl4q2kUxd+VfNai9XB71uVc5LhXazCZ/5P3LDEoFiCraaU0VWuBeWu/oHvL4S2HLAWuzTqSwZFdMSP0IIkCjT5iEkv8XeATz7BA5k4W1+ZXu7asUCJQVqRGvYE3xo5gYO0sL2O5ViIIIDbhEGxoElsNZ4SoC3cC65WQjQny5CwkrtJJotR2+yW5iwiaDyzjjFsldnbPXIjQhR+z0DOVNpoKNVfPkuntrYnx9/K2rq2tAkREGOqamhI+51mPLb/+DUIwpEwTBSREEIKsQXSAyoDVwPm5iUhvRI4a/QASt8TYIiBkdYDkDqRz6Rso4lb+M4ntJK59heXhivt0xk6t/+oWWS3E4RsWGdOWMpBVFQdS6mSfHzAJMEGzcKSdO2GspmPGo0iXSWWOHYr6Qh/fPQ4RCSXEA6Mm5SZXOWycicSY6rizgyw0uRkvk0NtkzpOeYtK6mhjSAswv0LFLxSuHkT8KAbSLHa6HoAT0RqjI9REgTXcfAzuSaTMQpHNl5WC1tt5Ej09MeaFLhKVy63D7IIbu1Ya17k+vCdhEo8yFYSRrcH2zS6WN2YlOXl7l+Apu5l4OLjS984H1YYllyxD568XUozGPUcD7O3XWQHriaGi3fVfB6iP8G1acWn13iFWn0GHPmSiqulSIKoGFlxTcaD6gmTZqlGiI7ldtLB3sEWlUzKo4UTAyYZ1re4dThfcTVU0OLtLIsHmjPE8/mR0lXwM+VFsturdg+atkLOnxHBDt4X0nrN+Qa4Zvy0Rl7XMVTXtwL3qTaLswhNCFmG7zdfr5Sz3U5f3RAx7Rr+j9dSMUehfTP9MsJvnk6ecovr7YbUhvmNxfsREJbPvG6JygL9s3NdY2xRdA4m0MOTfZGprevdV0P6ob+x2xEAXH+3MGKkDUH0tttZ0K18c89q2TyoSR2JPsTrA3jXrO3Hi7XN6gsbfuboNzh9hVMaSsHxnAfOIDeHMyDX8KO/nKFKzREp6tToaaZLZXEyFAI7ICph46xvAeI2wyKMfwPLo1XC+mKc04uSlbfKmSMLBONPRVK13F1MPqRBwngQpfnLgZW9M1QEXidx1CAPHVBqYW6MAXHN1EQYU14DArXJkZHW2VpjJt6Ejzq0VL3IWrPxUQRrfsFVZ+d5v9xz5LZ5l8SViUjaKPtAwFOsBzMh+S3GOgOQmxCeY9XBBbFRpXd3RK2ooMoRbZmCQUUlP7ArHvnMTu5KKHUciyFab3O0lrxZCc5fzVsy0BE1e0nZVxHzpNtLE/9ZFB3P7dj8rXqkWwk8MpQz9VXZJtywijIWg7Es/cjNFZenAFlMSY5k+wzjNOb2/xtjaTC6PG5WAfU6Ft/WEQcU3gJEovG45rTfG2ApHKzJV4N8XD0jPJVrg9BDjxAhIdJnTDssOjJRCXONeFIXPPAjyqzkZOWCb7pj7vcT/tYzHWWPaIU7QWFIXzFNP2nxxI4lhnRLn3q7jOCIaLGoml8qrlECNIiI1OoW/L8L0nbRhTQpVVPYtXaQFkSQQ8VJicEv0Ub+lFwXEgCMr+JbH9iHOBMjRjuEnqTQFLTKnVXgyshbGkEEwE4jqThDjl1BOXjggk58EwCJuSiSk0nWeVzTds/TK5G2NqZW7NKZJIpekWUixjdlLRKBZr3UU58NyySOpivy3oXXigeYvB6h/51hGvMYYIv6ccEQMLkh8Cb6o6VVOD9YY+KnJwgUGrlnwtqTBgZ37ykpojJqkKX3hEmovz5BN4RT1lK8l/5E4SGicQY+iVVUtla5EVEW5ZRllj1d8kfAM7d7tnlD6MHJHXG8uB/730l7LahYsiifbOwZKoie56sSdPtpEufydrm9Nl7SlBY78eywFvJWRLvp0YaaQtWbmfz0lbTGJZh/FSebKCNb43I5pp8AcazRTdKVxLcjmbaGoSyo7TZsmQ1PmCyVSu6s6mAnLly57XZKchtj5C7UKWZ00e7VXpI+VIipmEiWXuYetSQS5Saig5VVkOfzbuXxKF2INo2CWuXzTpyzH/JHiXNYJQ69ToMwQt0ZMz5NEhLorB62Lw0DWcnEHa6SEl5rTwS7F+oCHbWsk72GEU1tyewRqKRdHox3tRMe1uaR5Od+IoTgshp1zxOB9xCEBUHK35VM+tyC0rlTB9NXH9HTidvTvk6GyWgQ6Js2paoOTu0N7RVHHGMW9SU9cTc+2oNLIXR8Mrg0ZIM/Vlnm8aCYqClZVeytO6JMQLB2ygfHqzOi5DMpVWqZBkqpzkwjF61noJPY81svjxB2S2TANVsiI82Zkzgee0khQABof//4NQjCkjlM/DH+HgCJAbAA2/8j/ifmJLK5BlM3o8jGXqrA3ANzgNjUNMnDz0DhYRpuyt8GKRt6jyOCDUUUq0KnP4U5wQQDysXhgHF8hXGIiZyqFllhKT+jYSivGmRt76FPxqediatCBEmxUqPpPeKeKXR+ytUuVDhGBZ1l+sWOhJpMh1dxBM9HCXqPX98/PkRDC7ScCbZNt0LZgTZ98nqeg1vcwjNF8twKJwsWu2iC+j+Q4ILlBfEME6+UXiEzEp+KdjwkGUpnmn7BWoey+RkNJVr9L6aMgwg7UoZpGNMpQRN2pSQa3e0YlLK5JCbza4XQTWSlGCFcawkKgiywMAHsGEaU8W5ZMF7wPrLa5FOM3TxhSjHyL1Or/8lCHY516vESJIsIsuMvM6XZJcDWEAWW6NBVK4giJJeshGgh6+x1ieF24Qtz9WMWVWFGMm0I9j7tPbq/uZWZAiWsTkpQxhneQ5K98H6Kby2GM9GRCd8jv+RSn670LKj9m73DQT7PsQtplRcEY4je8NBJmYv0MWF1EEfjrEVw4odLwohNU0JiO40+UEodGMMzLdBZ7ZlZRpQineqHWD0b8rDZYIdnHq9Sz1moZpJa6jsojhj5Bgvew1VEQKeYESiYxMVG7JXdhjEwvoCfOyKvJCCjcJClchIPRL2HEe5JN8CGP+TPm/mbeFtvWDODgrSO87R2EiFqwiCt08mXSzcZouBc1vPImg9dUWaZu48sNOmdryLdWo+RQ3NFK9We+shO5vxWpAtRJGMkSw4ly8EPZLCg4MURCM3tx0tGwSRXLfh7Gb069OQtFF2Tan3NMma7bPL61NEpyMCJLEjWzp2pN+3fDNbi8dad8iskkNAV7HtGYTBqWofwssnvWxO5DFrtWPIYvLxG8sEly7H2xO9czb0SeVquZSARtCdrXNssErcViYLhxGsimBfo2FxznVKacCCj2hZFXIxIX/ER9m1/WaKd4z4yI5Pb6JWzbgv0qIkoj+9GFQqjIloJD0nEhBAaSyI2bxmvw164QRRxMes3bjSES/Z8jfJXl7ryVNbwxBVece82lFJVovyT6aJR6c/lRtBpYMk25mOLqDU3oYXgnTaEHqmFy6n7b/HVH1pezD9+w7FOn6PXsdxzTUTQdGdV0hOMPxlA9S0VMFDQZA2pRnNlUx9HdrW9GEJw7AdLxFZ9CQVI8aV1NVzxMAAe6AfEIxBYozQfx7QBScgOXPlKbc+RP2z/CHtY1m6ztFLbX0aJ5asARwqyKsXrplCYFOKv3Bw2t7/JW8rnT08dEQcYP+AkAPAReEB+r7NINaJj53iMWCYBKBk7dxj+7eFob6S+fhLxoo10nPbOgNgbyEpr5dG9cQDLRkMVJuRcTYm+tStvuoYgeag1WDisjDHhFPxe5xuC7FUuUkW5eCTjLXW4DCy2RDRkgFXAREJmGEjr9z8ifqW7NTdoGzApiZwgszeHUrSuoYb2Oh2uw8XFdszQkRlbpI5RppZId2vjaaZP7hinPRnHlGkNZ1w8ktFpt0wqzmqzSlMDRm7Iss/YaOjKMY0vHW+ZkLZmSB3wdoGvHqBqIiXGjZz9keP7wNQTbhkEiuHDFULYtrmFBxpM6H1zxu6vDbHQJD7VyuzkX1sr2/zSOZxI6WUgzk1CvIyKcPppe8qUMCdLprySURDLKe1zREL5fYK+KRanAVbsaMnOCBAQeIEEDbh2oJz3XqixHnHgqhIeS4Pe2V74NxCLnjE8tMAqkk98gpMhQVSRzU3ORgUa68+VvteC91Vshz8Jcu+6HSyQhgzTuzS7qiYpQUhYMoW0ZcSo8bA1xsolDB0mCFUXIK0Cr0K+G4YDnAIyywWABvogMqpVoMEJbIX0cgQohIEKBTvOhrT64iNRDayymjyBu4tst2r3ZKdhQ5EqH3Rquxs/fOScrCvi/VkgVf3/+DUIwpM+Ttua4LjrNfF98cLuWOwr8ZrmKTWkOn2TY0l6fKyDuT5eAT/27ZwSEjKg1l0KrhW7O/m65IRHrnqoO1/0WkYsBpD3jpjJwD89wzgYYUCixKaKysiVJw/gOPthPQvse0ONQdLZZOUCAV1BvoYBOnE0AXmodconeK1GeJYicO1ZqaQir5lxlW4dkPXIkPoIsQ6YIVfKaA4hImutL6HFGIByPuidUwuWj0QwBlnjCUGJgJtobY4id93l+1q6zLVpEmm4lkOOOfE4MpmkYLF9uvrI12cIAwGJqvU259lbp0Boj/4gghox2mHvZFthyut9nVZUREhiWaz1Iyacw0dalYbKi62NaY7Xd2tDQKzBzRvwjICzK9QKDGzW1UPfBDmrWyWOxLx50tn4ylhPRZtct4BUNHNbbfAQi+eF3CTFKtKfGLnc6ZOpWrI0MYEwD+6afZ4lcGo15osHKaJk8RuZ8iEUKrayNrSLrlVJG1HnD7vrxtbOlDL85IgAHCGTkFL3HelVHjv2EbVuMJ9XhqHJ68inCTO5OZFnD6cZfmkFWIr0yyWRYmorYc2CBamNNSM3usfMbt1/UoGp/so/4Xb1TSlzIuRdP3eBOcWwjrhEhWi1UhQEInMb362ytrgkKfKnQ8DBHzc+IEAifEYQT9APZF46Ggj2i/LDzaDQmYCzV1KlFytNUXaDiU5aUIqp0TLJ+6mirNw1Z6efaY0z4uevF6EKH5wFPagNJyU/xATPcSJ4yu1RAC8ENNNQLWCXS56oH5M389GZjlL+gFAFgO4oMSu+3eGyhVUci5/xywVIV8p+TceXUInzGNQuPid75C8hRZNG+WJwNfFtlrq1LloJa+4icCBDh8DQoLoY3PdrRc1v/wpz0aeSNXzeEmqOatoBLaLtcfbJ0K3bQ0t2bZidO1KsP0lcbNzgV3owlnjF8XzVV9ocSNUVdzuQNvolfcBIdTcrVNgFB9tzl4dDJWunerdTqx1Ki50Gf5MqlbcJknVOybS55Pi4uTwLGTRcFSaxsDfP9YlXS77kTOzBRKheOsFCswvWxjkQTUqg6aHxfax2Ex8V8xwwNmJYCXOuVYUbIt+LNQftwofjixdm7Gy6uobols2+y8wvB1s8KmWYmOOc9WMUKWT6iu55zemNSK+pbascX9yGfpMm9yVKyc+Ipe2yLUKLxxZjlAIGR/ehOhV3+PudsD/aE8XFy4LZi3Z0vcK8zE8XSF7AreI14j9xCT78bqfEVkIVXEb3eQUbZ8cGM+Ba2Ww2T5waEIv6rCNx9WYXdb+0Dar8aJR7gsMgTxpf7BW+3IjrKTtB4vRFFON7avqSQSPmeAgJPhu5c8gyioo9431H7RE3qacYlPU7+LvQTPiSUwyIoOztrzvjEq4nFHmkYwc2XZbOX6UArbNc64qYsDxemeVIsjVchQWrrmS9asCRiQVwVt1fwCAjrTENdxtVdr5prn2tu5p57txuR60JHDC8YyKvYJ73hF6m8tukMzD4aaWTiOSp/SgeDQSs+0Jpv+QbumNRqZn73HkNY+WsNVyJCDE3qX66rPSdpCNM5XYy1su8TIlmd041uyzoIu1kXULn5jL6LQmZm1yi0s/NwERrFbUtQX4pEzi5QQ/wlo4QoX+nRzV3mRidHq/vg6JBDeCNNW/VDO2NLxk6U0AVkkGXyK7b9tDqBqHzZdSTOnidtXuZUx/Xb+uKUzhFiWjry1FXfeoTdlcZrwscbWgFOq9rz5dEN8KU7ZSezeO0O6TTDckXkmD6769esSLEPqnMlMW2kkDw8b9WE8/hqyjPWYMx5jef5mhBaWEPoGZHjscOD6Ca9+apF06MbYlhvlUlDUqcoppPS8pbY5v+gWO4SKIB9IiVqjCcSpneeCnm+YIhhV7f2O8TFC1FejxluMkJiEgmQlj33gygNzsfXPEwKvob891DBUX1461Oyt0MNp4/bZgdVcLRmlxuuVT9yub0yZDzp5jZTC4F3V0s9Gsr8oWJK5J0/7F01Uv2T74WK2PqjxTRuN4dgaG7afnFRN6FimbeoCqY3sbYHWLClJ8QYjgcd7cpC70zGLmTIioZ2iw0KdqJ/ujq8NqNW2e1/8U25P5MfMtQCfLlSGssnrxjkhEI//g1CMKUK0zuJ/HP9mn5YPsn/Jr/peYmhbIqY69rsXGNhSGZgJ/eNKqHcJMpdBBFXHTTwCKPrx2EMkt/h11ZJi91ovv0l9w6j8mORXLblCoMtnKEImDTKWN2Qleqq7HbdBhuX0IXNErwMRhXKSsoUMxNflX8vpwYgJ2JN8VfMi0V+Xfdksz9PHiEswmblHCHdVPuIsh0sHZOanh6mKZJGNEZghah1fs4qfTqtVjNJRtQ9Bk3Rp5vVzPBNNQXHdRdBVbsaF3IHzD9mBZGFmi+L/PWW9fJO/TjMoQlsmc17wTxDXeWJHNXWkvHfgSLcfrqcrgpGQii03Jg/sw9oOvG2KwIh72BjfIWKMI96PJtobRjuKfPBqEmWmGf7nVuXKJkarshJvZbgz1ajXci4bhXiDo89n9vU+X/viuyYHRCzBXl8BU93VE8heWUvvztbm7bT3rsQnR+SzXyvFW+Z7qbJ8P7n4mWc2m/Y1v9YtHxz/Xa6mfY/gj2KsaJcyTsy9/3+rpkFLbQE7oj6Um9JS/Y/ikZoIlSVEqNsEvtny3zRJhqy3WbozH9/7J/oqq0iCLHkLjB3yIIvaYNJ8MkpMWfq5gSYX/IR4pr11Z2hIuUMnRU8ejut1FNXnxbNqKlAnmvDJFTOIp35bSFmSVsrQUKzqmCTI7E3uQvkt6AQx5fREmOKkiGXrioNqRm7Fk6S432Q0cfZNZn9vduYTC80JVE18s8GsVFOfTYt/XTOAIU4UVgtF3NncKcEkHHqX6xowo9DdTYQ9jC28DCSL161bBqCaF8Xp+ZFWX98JD6E9TFG4LyA5JaCtGyLla0hLB+oOzTlxX3Iw9ZwSh7QRbpHQQ3D97YzHPRM1N1anOu0dJCzUMNkXw3umC7/fC0+cI8RSYAhG9OnJ9BtRWiMKFEDkoInIo8HZVsrLG7LAUMmVB3RyzsN6KL56wde6I1NgXWL0LHgCbhj9d4PL1YNJZZKEMDRecbZ0FAEu1y7GF1YKr6/usmZYTXdPeicOa/PI9LUAgJXCH5dfKVU7CapomFSivWcE2zA2MvVaiLYmaiXV9+Z1YCRhmyXGrCi5Z1WzVrXJzcyi9oyPkWJdmc/sTntF4gh/4lRsJQE+MzxbCe3Rkckk//QIRidrjuQFtSBYlpLvrayfNTzuiCb7gOz9kd8tB9m7V6r6waCxrwMpnlNHcNgr9Ihf3VW18mkuV2snfT6WTqbcvI6PuZmSbwWJQTLQcwWop8b4BVp1jO4lzPZNrTuHyCsS2oWiRKMuiVZYNlZ6LszthLPeiVyXEot3csBiKRvcIXKXPs/HYWtIZcV8fcelEQ4OM9I0eSMefoa4YdujnkFpDfEn5B8m3gtYQBDhGzNu9LRJATi83JYnlX94c/m2jH2c1/BQkG3JDUGoHlUPWUCgEyUDuW5UtpcCO72W0fPpdkGLDGg+I88dD0REWzkrzFSOAl0mbMu3suixqCCM0f8JPL6chCJjZT81PPWRIhei3uydw+jDUj8fGK4r8jebWrHjXyntDpbS61374XigaR1+TugBAtoe4jc0nBcuROcAkC8RdLn19U6y0VSSlbKRqsWZDzQQmwfU+MLdbD4gKeuEewdv/LvQbADuDU2ICohaAbHHs3r6IhEdLuilTOUg8Jndajn2XhGoWiPWJV8k4NtC334mvkfyawNArwRa6axs0apJSfkkypKSE9TRqkX094m1cBOExXhChIA5JHlgt0897tQp8Wng6KhyxBrURFanLYKBT2lfL2bibDLIAFOpcQUQKXkT4KWafEtDHDb0diKs65EcFDWllZOP83G/DB4Lcw71tqgXJD69LKdgcmVFL0UxtLGqzgIXkJbOB+DJaw2Du4RGl6GDEO3uzlUpeU3g/L/iimTk7cscJULyixmlr+nketUK26lyZCNoydmFV7pXBWqaUS+yq8rdHKTZ6iMggbnwtM19wdVc83n3LIKEUnMgh4pKjYNKgeBG2/MeSWwlagvRak8pKl8n9pLNFfBI84TDwqnWNqQeGqpg9lDsV+0ShpNtGVcXa67rYFYT5aONxUIxMpLb/odhTLiYPLIS1pmqSPO8KCYo5Ee6GW1Ke1/JtnItBQElxKoqV7N8LHTRAX+y60GnlpnR6DuQBeIf/4NQjClSxM4MPjZum98FD2t/qc/xnmJSG8TDZv/aBB7wDgvcOe+T6Sg0wt4rQUtrDtH+4YQw9p4iaF81Qs5F6KoE2kTiLlIRMrabFGTWDfsk8zKakwPtJbKWB1Y7EYBPjd0IciGAjalC1NyWWHNMYKCzYWRXLKtgglG81HaVyuxD5T039mj6M9VkOKFe9yWzAlLJjYGqy8F6FBYvWhW6O40npEMUuAaUapVmuxbaNNG4QT066YjWZAhmX13Rh0Qk8Ru1iXbPx05eWim/407N+fRLALt6xuGZVi6zicczzCV9vLawCAknQhOSTieQxo3A3+wrLRrEIcbldTZJAvRBhZgTbvIUU6MmDXxdFzqH4PQdpW1ttuxa9USJxImdiPbyraed+ktl0OVsZPQeBm9lszanENwBRk2nChodF+y1RgG0RgFcMgMgEPB0O2RUnwocPELVAXMXYqtZCZFZS8IbZR9Y2XdaVhHx2GqjL/2jgM0Fn56/iMnbV41kEVQoIxTFyoy3xK6Zdzq7ofqYoIwj4rnUwCpmifjfoDA1YZSum6YhBPWuZHo2KYt+MXKRvjXC1Nq2irumLLZU/CKBchQxpCQyBsCQrBoqfwYmQVf3+PYeCa/kK8ZXFbNh5sIacb9BZ3x9T4/WcLWVcT0oNpr/HIv1z0yHFyGAT1FNRWCBrJdhqgg1W5USmi4MhK56UT/8HfF++hgj6D82jhOWWgtB10E9ovIRJd8qt3HT/9JGp8tKj1ORiqHOsfp60mS4xfklLTBHTLIcv/aKpM9OpjqxSoeophEJ/IpiXyz9C41CkohgL/DixigMyLcp+RzUZ2BeaPkLwwPni5TY8uUKFFxuqd03qYiPdTOaeQKVGhOCxQIjcTbhBV0LZdceo87UYqd+OxBDfktfhPeYT6M0lZcad5ByyoTBqA2CTO1phMPUV8SsgPCNhMIFzk8zloUirq/hJtY99pWfJb+kYlEWz7N/WliHwFtU3knCY3T5hLIJKrSVu6pH4EHLw95tlMTtQoZHCzAz3fnldddujG7Gple5yYPJp2QUeK17bzLE9L4P8xwljcxeKV70s7Pm/d5gyIIcJy5NSvruvlXU6mJZfK08loBPIJ+s/NSF+rbJSwpC4AwUWsT/ZTz9sZ9c7dusV0IOSgsxkUVhNHQgl3hQmo45TMizHTrXUmhCLjFLfYicurykMFSRo9ECWH5tA0eR7PQIoRMVxeVtUNpENSWbO7gSYqflbfoWEXrkyLpNlC/W6zHKiSzaQVwQHyokMs/+2iGF8l96clYanQKu65ViJST5Y4ZO/GhmmZ1EkbiGCjWc6GDHpTw128COQ4njJOFs2xCF9qE6YgleUn1M5XtJVybeMD1uYdKaVjr72trCxEdiAeFDhJwgCHFoSBR12IVCNF5OI/qjyZGCx6pSEbQxMxdR6YGid2IU9eYcamWHqzaV3TYbYnqq7j2ySKMg2KCm/vJM4AsaN+de4tr9K5ZcZZD5JFLTiIIyROn6R5DBBKEyn2Si7BAL8qVNYdHYcmyH9yj4J4F64ZPZL2YpfAyoGbaZRkSlAr0G/tsexXEmg9dP+FKFDTL23XTlIcd8v7tIkr//xNK63BL0/kWwukejt0Wj0W0AQZaEgEkOghqIxV0YYt+KLsIJ/LksW3oEePUtYLTZHk49sgdtAFeQJpGMtyu5PlgkUIYgHZ5iY7nt10YZs+Vz4a8vkexADRc4lTt45ozl9tcd8WpG08PPov0cFZBi00XtPjEF9OiWy7gTZTd1G4I1pIWmMf/NM6UvX2gg9rsx14tTxIvauKW0ep14YWTfJyXyC4z0e689SnkK7p/d41me0LydsVy1IUpkoMDJQBhrM+KohMhrtPxQzucdMiu8FC8CTKX5Sz4K0tLBy8kYt5aobbtwt1HM1NEVmgT3v/+DUIwpYlTv0l/WD9uf5G/q7+5P7T/sHmKXWivnrrcVlfvNujlf5siPPEh1S8GI5BylRoYt8qTAxp/ncdAMM2PUsiWFfdG/eI2egdj1ozghtE7EPDKBDESYTuZqI+Vir00X5EMukQdU9jLoj3lEvKuUXT+EGXA3b2z6LCoiU6Ti3zOBDEj/bWqqkoXjxPyTaZFeuF1V0RejOocDCYKl0vZeOuiRRFqOhuilQFfAL6dfWaW69wOVFvynQVOPVVo11v9zT9YiDj1kgEupoW6fEKjJSZItALZqEl1gong1ec+D5pGD/KPGYzcp0nMTTrK8QJ+NNywKS2HqSCS3mTlGakzDEwT6CqmQrEYX2o5P39jHvzju294RcCTkObtRSBmux5zZY3EKU6ZkhzLVaVdajCVqNkVyvKYoq5RSrEpZSL19Csyi6jF8W+RDPXDrG5ImbsSy7IdfQ9659Qn1U+XTDPuU/rsE146Qhf74/EXZtR0pJtNhVuC5S3Ji4ihkNMsO90exPYavFgK+GKxOxeHmR2lu0bVqipitUg3Po1qTXltSVqbTCVnNKmcKwzNSJmSNAqebK1ryhbqnqBIHhaCbTkSx7SimS4WtaJMTqIAA90ABTQEMgpcbsB6RiYAxUETHYiZyCYWXf9DJkMT1MEaHVQspGOJUiqyTmL0qySde4Kfk6IlZopBwKJUGVS3Fixa6jA04QBIXYOibuOP65IO6t0cnKveVyc4YYZ/n5ee2dLXamext0aDURnevs2yRWRpprsqJPMhEXvKL15D3tEXsjfNC8Ki2FnLvkHxq8YipUhf6KmJaJcHkn/dP6Mvezn3Hxzia4xaTdpB0ARQTME0kY29ESDeCjT8YLbYEBKVOj2O2NpVCXQfSX7gKS2Il888tb4iWWp2Kwkg3OSI+tYC9hiFa0WmqmGlU/4t0cjG6vDdLJiwgyieWQcjqx4lpjSbzqaDb98uEK4XBIasNYFbOODsWHroF2mJIWYrnL1poI4in8xtpWygYn24XvtaUSPer2/1Ll7BT7FUisdVq23V8/WbohDlOVlVc+kzUOkvaMtt6TwQwWyjyymbEUeX9SIsVSHjrEvlRPtWA/QLjkIOC6BkxBgvoKXCQfOwrZGYEh1qR5kpYm506CLwaMiUYSIUDFej/wJVZIUHTl49szcknBilVXwYECwPZ8SCnnA64pd0UFEPNpdCRxD6SidsR2xDBQ03L6r/FyMv1WGtYut51lQkt2YSnFrAEHDSvPC/gNbZy/ohUNmKHidYJVFM3IwgZ/TA8wMBuLxTnSLD5ah0NF5HsZqQOpXc1lbKUR4cU870ZLHJYqZjmSCBZUFjWXjTNUrltszhChsjVIUSnSRC3grl8TWEbEDvEmrBE/4i+CpgK2akf0tkBkpMiODThB+lb/kJNSrNb9oI5SksYLZEuBBaNKaP9mEZCiYMPCasXdbJ5RvQqJHj9TxGDUR4yjWkn4LoSArck1JkLIW/Az4kTCRWDLZ2yeai8J5TykpRnzzW/rFJp1bdYJwQFMZULq0MCX2XSzZa5KGy2AHGdyhIqMuM55lwv03pvMCCD6X8s0ExvmRoim+n39NKs1vlHtLZTwTqmJCPZUKmQEgw3/I6ljYxp0xGF5/AlbAec0FinRUaqqwJxBW8FRm0VUqel4GIH4AUpONWhPK0yPCgQnaLNdcy85GNF+CgUzQS8e3tLsA+3lm3mU5yNfiVQRKRQ6PnWngqvPBIHrG6ygjlAy2aiqksb0Zjekd2Q0AkrSl/jMKfyltGOvWZdJ8tUoqVSmap9Q9dJHhI03J9wNkMTLCy8SWIsOdY8IQ2UVvfeyYy2irJeKy282kYUEA4G3dcbWx/LxNxMqTf/zpQ4HYDY8UK7QTtTHE7pB76a0rRJw+ZsSuTGRmi1UkLclyyKY6KSwjOEks+vw10hn8szflEM91dNKPgWszrhxxwJdsDPOeqPTi46P+ysHtcjul5BWQGDrIQiK1W62vHTIbunA0T1xocR2+YOyFHJBbHdiSsgoQHUTzCqDwYDhVoku2aIK/RcqaDtAMUv/4NQjClyJOBzINzRSLGV0dSx/JH+kfZ+Yn0a5MV9/BANcNkALH/s8BKmTfbkCElloVzEuyeNaCuDhHqW0KZKd3gkMIq3AIJqn3jvhCTM4pYko48VMs7hP/PzbKmRCOSWH0RbuMxGdkhqXProdhP9jpiqhKuvoOFKI3QfUUwu/+8fB7NWsqq5uXs2s/DNCW04ZYVnLEnYjlE74zuSxMxK8E+SyOqYUHE6AerYZU3e0FdGjNmuDbZ6IWwMTrah3spyftN0PdxBi1KdrQHNnHsVXO9n9FI8oxC41s3IQFIf0J7PDoWGHyftAivuajbSKiXdrKpt2drKXzp+09m/JRqoegiFM2z0E+EEGgaQOtZ+m3OTCGZGhobN8U9uSjCR4sSQ4FcunCg/+aDKt58XlX+aUrPn2ilt46wVWal5AdgQ4im10YXP2Cy0K57BmjFtRZa3ELM+rn9qj1h0XRG9QmPv2A6omOlGyZcnrOaYLiLcQ8U4R0D351slcJu0j4nUiHM5fxlOVtCQILDq1VIUaJSXOwe9N1XhPupFVw4EK7vQAjHBO68eoidEe9xFV6cEkFcM7ss0dUW7TM4KMVwcdcPiQlkiI6o+ehLIxfhd+WcyfvuckThR9RSH5M4M3ONj7CfuE+GuofLWXigwlBjMzoMOpTLMC2+lrZXdSZzxqWkL+POyYyT5Kdeim5HBkoPGRLq3RTzT/d7P2bXIeSkWxrKYGVczFMGs0Rtmdk/l8BtpTk1/T0d55chJEbsFiEHtJHHCEowPeED1az/MkRcEXeVe6qDyTtFjTL7r21je3F1yxwNZE89LKm3SGvXtnJ6jLu+p/Yijhdj0k9tl5S4tUcpXeU0nPStK2tblGMI2dGm5nkpy24rdF97lTdH7+cevijFsriRRQfrs8bwNQQ2VNOwL70iGcj3vlGU5F7HEiZF7qXlrbBQs5L/aLuTe0NfjU9zIGjZI+EvZxn9WE7hKd/OwQ8ieYWkf9ejhUc4NYlHmnLaw/9mZJw/HyP2WhW/lwJpaCUEr0ovx9/1ZliHlR7ldLbaPMONI8EmYUbHdxphftl7c3vkzbG6TCdftuT/ZkekC52YJ5iK3VR1NnuseHjys8pmx7tUQ3dhBk1SKtNH1G55R0vw96Smk/LMnFh1u1NOqyJogZGjt1dIlg6etp46bODpanFdsTZ35M+LeSWO6I2U8a0IbEwkCp7pBOCDYpRl3mOR5MOtu+VS22oHqoi3uxFwo7zO4G6WSq5Ts+ojbfzL46i2I5iA5fWo0JeloOTWXH+pFYTu46rswTZb6+vRxaKr5wpyJQkMfikdGMzMxj1xvnPpk7Wq7gTRsWfQwaECHgtVSdaRSmqjeGduS8sKR28IF3qkxz8A4ajmclnbzMaBIbuH2YdY2mU5mmE+WNSSQj0i+V8VXIMI7lqH9yVZQsSrtDYk2y4b327Jl89vKcH8HjLRK082CeFxdzrGe98w2ve2AXKoLTuWs86zCyslXDG8WrkkLhrbu+cPG+EjSO53+VaXIlys5liIWtoaP4a+9neJ0Um+lYeydTJ6xHHOrqQxzf9L6o6RAHhlKqOuzt3EUlEswSbE/uaerd8n1wfKy5Yde/zKbs03eU6bIpREo/RfwoCxJMZbbSUgToM2UFCwTuWgz1aRUl6ih0gv2Qzsnfl2EptWIla4hkQL5zbbcFH51yOXTwjVmCv98RkklrMCXQ6T6H02JeC2NbJ6azpuFYvu0U71wOVys+s4iq52yRDJnCOdGVzcUiubcB8NJdkpFrB9OH4Uia4bYUMokjxhh1g3rMg1fQt5h4jaVytdVhOrZOoBZ43TfiQ4XwMmU/v11H5VGCQl1fndvAJR5BVaaSU1K6GfAx4gNYHyfZXmdkY4TOVS95+auHReVYZPycseNWTXk7X9M13CJEy1kTNSgoBhuHlZsLGp+TQHFuYXxJstdRvwVkkirywAqlzJ5EepLiPqUkt8WatwxbD0qrMOZCdSjjLd3urF2cRLouMMMWaQCpUrVU5uq1CSOOd97CWDr3zVAp6QxJ7Yul+CjA2z2mSTFhWkxXInS/EJ9R4urT2k6Rg2NR4SemDlxR/HewuckFihSK75P/4NQjCmA9K2uzdi+BA4iHh/9+i5iXWsbhkI6u4bd9wYUj9gYROoIEIjGZ8cOfVApF7cu0Clg0NZMl2abpbhRxYpTaY0Z4BQMRzXZ8GhGiSoXReQr+IsVH9FHgEfFLGKLJZlXT6eoChavsbpWocgla/5sULTnEV3Y2baXeCFmlketR9tGDKu0Oam7EJAKBLtUDlawU/E4ceM65OXpoGLgtp+l2MwDY/oXLC1JvhIZceI4bMSJFW0YXBFQz4sfGq15JvRdrvO4+jeYBh8b/W6AbtYIyV73zQuUTsSTOSTYTLqJDqGVqOb49DFPlKL17fWyLPuumd1z5J4SFNdtkxFnjWoSTBnudIBToSHP7lxdLZFX0tF74obupPAJ6C8inDiBwaLWXnj/V47+6gNak4J4c1IGcVoZ/6CkwIbWgWq8kXYYuNcG3K7RcvcTLCXqhWbhU5wEPyQEwh4zt+ctkmNQOmlm6boKy90VggwzzlshVwv3G6E0H389nLEHHTmoA1bLEwKKU21dHYqnn5sZyOuKEIVXZFCzTCq8jJpQWAehDgS8Apl5RCsiaemTG6GTwjYRSO4z5K/0d+Ml/oamSqGNLfhq7MzoMVgrVBvdA+NZiEhcdPk7E8owJGJXP4SDYr/E6j7ZpX6yPtrDdILOLGasVgzVk6ZMzWXQ6J+qE2RGdoQ4v9e7Nit151GuW9o1p6hkPOP2moIye+niB+pnDg1FJIBXBFFoLY1HM0yvLFHkrv3IDx9IF5BTQOgIBIzvqh5hZv4ey7uSOd03ygQiqms4MTKFmpDb9ZRF+FqtdcVehL1UaqxGp0+40NyE3rcL0dfgeE0WJUxtSea/o41KNjC71GQh6yxETZeiD7kbkF/nWqORLSoojJ7MR7jD1UnBqW2VuDgFee0tEfIPadiKjFEv1DLsBCbH8mQrRCLAc4vUtIrJvx/devhrEmkopuVlShtINS5XeCcRJI7MPRGFNfqqSVTXpF62WTx8qmqUFi6/RFjU/VVT8XIfNWQyaGNT5DIBQOaVk3PNk18AO0qaH3yFdkG1rhqr4d44JeymxyH8CQ8xGKed3G7xzQthczL0RYIQuJCWsYpkc/PQrUogFBmHbe4FJBKH/W0OCRGgwgNj7ojTWJ5Xswguzn6wRaOU4bK/OmPpGMJ5KCtRv6dk896yRoqpoGUxnNttho+jbwKIjRpRGvLQYlzBfSZkWCvjkTgsCdnJkJqN0Satg8xaCykl1nuvy3u7nYcTyhBwgwxeZJcvu4Lor5cO3RK6RBd1mOJAn+Vuk4CnYAxIjkk29iOF5ZMoK5SS10/Mi4Wn8VL9H0Cd27Z64iAvmNlWXLOUVChLDCoytET1HkJOu9f/pSL2RdzgxASFWi2PvHKdxZ2S5fh5mlFiPcz9rV7uRdQETpz+JfHbmNkL0uo0hzgM/RAxHVrREcz7KTSo0MGgc4ZJphkDtDYlDBSDnDeKgYUerI24KKe17ig9eRZxLUqNkwsk3tkpRet/Y85nCulDVh0nDgWa51BANZLBJig6qktI7Htiij1UcWvcplFgPgvMnR0PBIvVeVaqtliW2aOjLCyeyU3XnCEUUVuNJkg6pkE72S7BExxB7UiJ0M39WPzkyQ48QIZwCyejx/kjcaCdJen49vNLlQQao1ZTPlVAUJLQk3nhu5AjNgAl54FAslsbVFj/4rV2p18/tbFDObmcZsgckgvLctwS3bXqqY6/OZMuuaYwR1ie5CmoTA6AdS6JwgSqiNwahtPNp8KUK5f6zj7X+fm4fEX98iJlIlDEiqI2+VkQc7t4qyQ+xayxmycADvfDKP7FVHIPHuYpSSAlBDB9g3YOAbtLV8BD/gEJIQf0NI/bhAmCqtwEDrA0/CJPW9GJe+G8TZBdZ0iABRd+JmNKKXFngiDJHTGeN/SEgLiV8f/JMD6Wzdwd7ThILPtm/dBIPyqYbUJ8toQBLEwl6olIvY4zgrIvE8QmUP8o50l15omeDTEOgHma8FsEDcZVjev9tYlX7uRFnWAOMNdfrOEyEjZwi77xgesVCgC/pHG1fmUU+67nlcmdyuSs3RzM3DwwWD2VPrJKjS4T6idCLTm3M725xAk3UFLmnwcJdgpsz/+DUIwpkITBYZF2wY/hgMFfUUQRJy5iX4uVw47APAOV7s4NUCg1hsDYrRrxaQsio0d9samaOImjMsI7/upjJDasbzZciS/wjelrRpOTSI8w/UI5p++rDyzacrmZb998XJZ4IhQtuAmf+v1bpBQxSHXFgUW17Kl2YycL61+Z/uxQk9WY6Cif0HrPycP7itcTBa+HIdSzyEUpZU6KqjAqwY655tZ6+oBO/AJZDzpveUxLfQXCCzFT8icxNSp6ubSRkEgf7dCHXA7oobp+A0EUmSTKlXo8lVNT3PRbH862q2+KNIdMLFRV1/9nENsCn/mhcBkbfzkYpMVxZb7+qemTEwj6mwQBr0MjOSsAriixC0vq0Rt8zATRdhNHu1bKLHLaxtalX/p/H+YgSx147Apcgq55ZgSGLqUJSBE2Bw2RdMqkTWacmL8LIwurFGh/02tfKLyMgoq4vXCFmh90JdgkvR8c1Xc1xsd6IMSQkx9UtgNr8BFPv75rcEO3Lda1+ZaRI7O2038gOkYZOGUB3EcDemRAkWfw3f9FkwFUFSB/HKZpIi4K0jUYJfPCdLPZpd8XB6POWYx9cpYtUINRmeygtB8I9KaBGrmqimMhSy4NauNbOGPjbKpFlC590LHFiAuxKKApjk+At1LQhwwC8RWG7A+mSfhyny6ZhxF1zEOZwzUeTLWX5LSFIl2zNdLeHiwGQ9/VuYgvxTWwGVyzyOaBtiGdRe4mYRSvGZaeqClSjE36/DSd85dYmZEqIY4jr4x60t4NKsPFhUTom49RLSm3Uv0tf6VZ4LjgxlrVDTse9c08ikFkrOcvgiSVTUQgiihzt9Fm7ggFObBHuZ4h2M8mWJNXnMIK/BHJEZj8BorWS6S73rZfHdDy61fbpUgWemY16EMTxboPbYeZehP6ytyVc53SMWBRbAJit7baMk7YTcnwPI9lmnt0QCS7I13aXzcGML4iLQz0of4tWFseVYTyZeKLQhBjXce9OuhCNO9e/TzGS8zyK58kVgKlzuQxl4xkWflIi0sZZipLB7rWoQSMew3V2apf4NwfDuQWzTHWVMzGS6N8mlLR4qkCyM0TwjNk8vmIF+UnNRkBHOJB2hX55QlrryXoYqmTGGxFacbz3Jq5wnKdOmEUTZPQ9o+lazXfhrE2BCIXn+C2J9XYUTSsVgS5aLAaXHxG6sRIVREbDJXvCjHwy+JceYKsnHq/btiEAVpqXz31o1qy1U6XrhdKKZaoITzZNd8TqTiLuIuHgnK2pNrj06idpbpalUtL+bJmVOlucxDDyEDakesYajrl5qw58TXWayXz11IP18EUt/RFlCgeBzkVgyNJEl89+cl0TP1JiR2clVwIcjZ+YSXRQptpImPQ1c/6jY6VIlHJpLu68ONtedq9o+qhz6QkJwPN48XoRX/QvB6reBgFekLSgIyBdkcK14x/3qkNZKSuDBJVPv2ZuGOQkrfkBhLH2y5l3bd5KJsl4JTO4yscNg9jfWrOFLIpGErLwzDskvGVimSaoqTgiGajkwsv1WOywYtKIEiy5LLdwmcqCIUDm2OZRk3tokSeuSjk/qwmMw/6OOD/X3b439X1Mlo6w6Kf8jWGhjJRtmUka4jmgvC5qI/psfuq+N49uBOOPLwin3eh5KooabkabNUllBLGcZ/YhzFpvSGqaQpLmCP/TVGN08aYXOARSkQaOu8RCKOUSuLBEBItBsEtMEaZx9q0XS/iqqvW3ptxDxjF3g0BFtGLi6lvfmJANXOUPX4RrdQ2BZS0SXCDm0/GX6kXkHHwlOz4hYqbm2d5yYTvzgATP/+DUIwpoBTvGv5xLkeN/C4Mnml+xB6aXmKXiiLn5vZBmNXGgETH3oASD6BMIiUhmnGS8s2pNVqXVGhy0RJzjyQJzzM6q4K6pPOtAoRUCNV+IecijVHlZvnYIWOpINQEpBXA+pio9/sFIoNaA6m9dYpk5Y64s3gy59Q++AFd+Lk44fICyb3X5oyuC2Sl48SGaiIrJYMj4TzO0Yx2u8FZWdw7JXvKzmlwxIikDJ0UK+0axuXPiRz88RcHjnxxjt6qxeDbgfIP+LiCdyHaWlNOu5QSn+b3KBMyJzUehrDsUtm9CCTU9z/VZpOv9Jg+Ig9S8fsbJZzN6+4r7e4tqUYnWtVzAqX4mzObqtKhyV0yE/a0deQsnTD5dkDj7xq6G89QDDFnMODbBsgtB0QbWzFQwyMm5ATCUUkRTMSRT3ojxSxFxx5ygrX01cvf5WvUDan+Cd07+uxVcLi8nwlT+gEOWdfkdyKRFS6Rdgw+aK3BGhiKiqEaE4zoUQe1lK6dBZoiVDeVZX7gtEKACwBrj1BuwTaFA8JaFiMeIv01+V7l4WDIILfBpyhxOYjwKxR3lw1lhT9cmRCnZi7z/KL5W3CQ7OULHjgSAwP4FDkQUmSk0Vx5CE9/EThU+Ze4TBATVK11N3CWVvrWLJbFLEqMhqCcWFARINo38NAA3NwrPnGhXRSsFESmqV/sTvhzcdDmgrvPODOJYgcrD+j6SX3I7Cjh3UM1X2psarC2z7S9z2rLL/9ryhWEDDHXqRVhrPP2yDuDUFtR4g+bHbJRZT72tesSi9Klj2UJjCijgJ8d0J4ZqAvN337G/C1/KTH1JSTPKl9oKT/xTg/kTsP/QRRpcMhio1KAi0LywlasFky/mrkYDtPVXNAaTP3YGIiVciZQ75/+lPxvGOuIQ0kT02GuNloAjK4U/oSWAjG/UIFUqDbxaZsQFccILsyUCHVASPd6HsC9+fSDvJU8S+ZKaczoWyeozGRRVcRe+WqY3/Y1hReC3yiVi6xyH2Ar70JqzXDy7oK89T0DE7DwmCygHgFHYv8XqZT3mUsCu67U1XRoi/4TpNqKg1HLkLQPuAvaOZZCp1yuEKXCXIj0so0i5BMg6aiEqQS0cvepBwIrvhqZR/Hi6aJQcZgS6w5sYgtYZn7zaXvMgw7gKNtowBNFyFN6FVtfKSJu4pmoyzC9XbRZrcFWS6uqxpBMbqPYj901dIlbDCOAdYXmZRuYiM3I4NmhqF3jf7/+Dg3cXlFhV2pmmjUh6+bvpTm/Ecy/jyTrlDrGbWGj7YarpRcvE30zJH/5pcllCkZablrKqS1cZ0sNKChJ6kiqPAJOMmUOwzCDgyh/24F0UIy/OkXo0BfzpOBG+AluVrqRhve5GU5ii68n3ZPqFRBhAGFtYSGK/eSwG3zX9wh43rWRV8kWGZ+yftX3tP1pJiWDecCd4VIfDRkJMKveyxCyEF7oAOosmixUzYFZJNvHevrL1pgcYSWmFCJqF978EOFUELVYU6olNTkR713jY/P8o+JyzO5NSM7gSHjc7hjPRoJhrEx473NGk5MdXFtktorNprMitRp5zfhK93raGuLThrZMAV/loY8i2hlveARFy7FnfIMduzT8iC5oirE5Gq3aZ+SggUo48KhR5ylB2KjDO9+Stx8x3+iD2KcwuTSiOBEe80JpkZJe9z+aDkWMT4l2NtNOnUyrF+OpPn0bfK1XDnBWUzrM/cimiLCKyzysFrftziFEBPs0Ehbfkt5l+rcFOqDzLC1K166CVEOgl5Th+lXHC7P48tPSRUfqwU3RB1yIsKBoD3FhrDvAYLsReNDMh7GKZe1JveMtPLZu9san3Ky6oJjyWZDU9DKfkQw7d+OcMXtSnNfUQonqW1/SESpAV+EiEgzu7FMTlZuRtEvbI/xomApD1ibCpAYf6l16q+bfb931X39uc3HR1OIWF3wev0JROiLPUf3+6/omVPAh/LApeoYzEU0ZEXjz6Ul9KEJwTB3Fb7bJhK2nuS6LXHxSwSl4FeJmo5MSQ/mQ7aUdbX69/IgIR4SnpITGPobp9i/Cb3p1xGfNGCCI0cv6Tf8DLFa5/7Bb6ZYwYav+AWmw2i/3c4UXxMVoRKHiJ06C4wdK/RP256MkS4pbjGJcpJ6jdjBY1numbNDFeWQJdE//g1CMKbBk4edSJDJSUltyT3JK4jDyJ85ib4seRPK9EAvr24Ypc+1QEz5pNoyz2CvuNI2ck3db474T9ZAnYyucVh4EkbzCfSP3qRQSZb84VHWO9tXwouOHOHjgttH8M4VW7lbgInQ/hKb3DkH5UjxkDDSM7CjyoGBZnzNixgnKiqq8ZuCtmWqMdtIExElI0RiiKSI4qsvNqGmJPcAtKD9Jb49wd5vZd2UAq3JoC33TesW7sX+cCJiUepOhs8FcwAzd0+TPd2hGOf0xykurP8MnH41jkFzZg8mM46RV97q66CoHqq3qqiK3MyYdX6ZHWLe2lECnHGRhhdWUbqumuQjrH7N+p4iuEQ+NN7OaBLyNW2Eqg/2b7fWe6q93Au/IQ4dsVz7PZdCo7rOODD1qKdnvK2Lx5vtbIrnxh/RwqTrGdVyc7KMK1ZL1Fq2pJFSwr4inlPMAh1sUk39AzHsKrpfi1WiaLSGnVWi7Or5yjNEiq5Y/8c0LIR2OYKIVodAeuK9JXaLEaBkpxyjzqMEgikdpcwqd6ckEG+ds8yL5Ubu9WMmvNLyn69SS/dJZP8K4cZlEdXqWZItyyngsXnXICpJDdhqnYMMllo2N8xhEk8wt8vLHs14ns6qVrBbMfSd7C2oXDGeFVk45ZkYviC8Wwxtdv0VfnjjSFFlS23TreKjUdHLOCplpxeGrx2h6DrH+eV2jq/PpgtBErR8gw54vlMl03DL+PYIhWAK2FeYRhLXntTDPPrdMlfMY6nK86TeVuGXz9jNvtfZX7vLHG/aqzQ0FYJhWTmOa+QwnQbjRV5uk4i87VsD8uXJEjSA85aJh5ULB6YjRhqIBFS73O89LC1SRWj31/N2o0YU+2Oitvz/fIjMkAeiWiiSzPLclakDWZBUYJAu1LJIWryNbClYib30ajtI2GJ6TI18ha/q85GU3QI6+QvkD/BsCrJqCKygmDpWLyms83hSTOh7TBzqmTvKb+2LcTm0DMnnQT7ZXA3dFCrVFL9uLyF+ke2XEDCNuKDhyiEycS/xuvO4NkekRDs2T3LRzwzWpDqTtu3NQ7/Pkb4RATdWscrTSFErtIOl2/HkEXTZyaE3kTMyOmHmeAFp7NoMLkyQoQzSsxTHRVmI3H9JSfnClokjnuo/YjTUIoYXIiHdbwXPdDJ2omOuZRmYUpQn9FXHbhNXdlb8PAmC68idQT3EBUGUwr7hD5uvsVaPCWPxF4Tu8xJ5g13TZaSGVbjAUDzR1LeGaR3NHEZcE5JesEtoKFIlOKoNL8PcOgdyirVvHHUH6rGDawpkk4x31bu2FiECcXeSsGTk2s1NpceJp6ZzF+NY5L1BBbAoq/KixUq1ut2qmg1pOzvsy5ytZGtC9VLHHqyetQ6aUIdt51wPLVtiIm3ePOYaSSsgr3FybG3rkyNzJzgEfOFCnL9CU62XGiqMoz4u6MGO1lNCVCqwiwkQtN5KnfzseALewdCaUxhXda3765X5jS7XWQKq5pKj0mHsiTc3nRDeYuQVBHcN+T0mHPkY44j6NZK+bk4LWE0EtP18rrRRmPFcSnjeAvfLzo2FSLf+LWXKdJg+Q0yXmCTjMLH640nEEI9Za8UunaaI+SQ1y3FmLV4u50Uav9GbwOj4jUiBiFCFN79Vg3WcaN6PaPxYdr2gi52AMYh7JnC7W8/sU/J/+de0+8ww2za5Nei1FMvXnhGhep2NLP3awwKtUEa9iTZVVEC2ohsQCnD+bllM9JVuP+cCYhlSsi7BTKmd3Ziq5FTj5FFccuM+O+gKm0ICI0uW8DUV9IfFGm0cyRgJAIPYbPZ+POysCHyaZA1Mt7cq8Vg+PF5LbynXqivVDwQiXUCBsycN4W/sm03ZeKtpFMXflXzWovVwe9blXOS4V2swmf+T9ywxKBYgq2mlNFVrgXlrv6B7y+EthywFrs06ksGRXTEj9CCJAo0+YhJL/F3gE8+wQOZOFtfmV7u2rFAiUFakRr2BN8aOYGDtLC9juVYiCCA24RBsaBJbDWeEqAt3AuuVkI0J8uQsJK7SSaLUdvsluYsImg8s44xbJXZ2z1yI0IUfs9AzlTaaCjVXz5Lp7a2J8ffytq6trQJERBjqmpoSPudZpa6//g1CMKcE0wUkRBCCrEF0gMqA1cD5uYlIb0SOGv0AErfE2CIgZHWA5A6kc+kbKOJW/jOJ7SSufYXl4Yr7dMZOrf/qFlktxOEbFhnTljKQVRUHUupknx8wCTBBs3CknTthrKZjxqNIl0lljh2K+kIf3z0OEQklxAOjJuUmVzlsnInEmOq4s4MsNLkZL5NDbZM6TnmLSupoY0gLML9CxS8Urh5E/CgG0ix2uh6AE9EaoyPURIE13HwM7kmkzEKRzZeVgtbbeRI9PTHmhS4Slcutw+yCG7tWGte5PrwnYRKPMhWEka3B9s0uljdmJTl5e5fgKbuZeDi40vfOB9WGJZcsQ+evF1KMxj1HA+zt11kB64mhot31Xweoj/BtWnFp9d4hVp9Bhz5koqrpUiCqBhZcU3Gg+oJk2apRoiO5XbSwd7BFpVMyqOFEwMmGda3uHU4X3E1VNDi7SyLB5ozxPP5kdJV8DPlRbLbq3YPmrZCzp8RwQ7eF9J6zfkGuGb8tEZe1zFU17cC96k2i7MITQhZhu83X6+Us91OX90QMe0a/o/XUjFHoX0z/TLCb55OnnKL6+2G1Ib5jcX7ERCWz7xuicoC/bNzXWNsUXQOJtDDk32Rqa3r3VdD+qG/sdsRAFx/tzBipA1B9LbbWdCtfHPPatk8qEkdiT7E6wN416ztx4u1zeoLG37m6Dc4fYVTGkrB8ZwHziA3hzMg1/Cjv5yhSs0RKerU6GmmS2VxMhQCOyAqYeOsbwHiNsMijH8Dy6NVwvpinNOLkpW3ypkjCwTjT0VStdxdTD6kQcJ4EKX5y4GVvTNUBF4ncdQgDx1QamFujAFxzdREGFNeAwK1yZGR1tlaYybehI86tFS9yFqz8VEEa37BVWfneb/cc+S2eZfElYlI2ij7QMBTrAczIfktxjoDkJsQnmPVwQWxUaV3d0StqKDKEW2ZgkFFJT+wKx75zE7uSih1HIshWm9ztJa8WQnOX81bMtARNXtJ2VcR86TbSxP/WRQdz+3Y/K16pFsJPDKUM/VV2SbcsIoyFoOxLP3IzRWXpwBZTEmOZPsM4zTm9v8bY2kwujxuVgH1Ohbf1hEHFN4CRKLxuOa03xtgKRysyVeDfFw9IzyVa4PQQ48QISHSZ0w7LDoyUQlzjXhSFzzwI8qs5GTlgm+6Y+73E/7WMx1lj2iFO0FhSF8xTT9p8cSOJYZ0S596u4zgiGixqJpfKq5RAjSIiNTqFvy/C9J20YU0KVVT2LV2kBZEkEPFSYnBL9FG/pRcFxIAjK/iWx/YhzgTI0Y7hJ6k0BS0yp1V4MrIWxpBBMBOI6k4Q45dQTl44IJOfBMAibkokpNJ1nlc03bP0yuRtjamVuzSmSSKXpFlIsY3ZS0SgWa91FOfDcskjqYr8t6F14oHmLweof+dYRrzGGCL+nHBEDC5IfAm+qOlVTg/WGPipycIFBq5Z8LakwYGd+8pKaIyapCl94RJqL8+QTeEU9ZSvJf+ROEhonEGPolVVLZWuRFRFuWUZZY9XfJHwDO3e7Z5Q+jByR1xvLgf+99Jey2oWLIon2zsGSqInuerEnT7aRLn8na5vTZe0pQWO/HssBbyVkS76dGGmkLVm5n89JW0xiWYfxUnmygjW+NyOaafAHGs0U3SlcS3I5m2hqEsqO02bJkNT5gslUrurOpgJy5cue12SnIbY+Qu1ClmdNHu1V6SPlSIqZhIll7mHrUkEuUmooOVVZDn827l8ShdiDaNglrl806csx/yR4lzWCUOvU6DMELdGTM+TRIS6Kweti8NA1nJxB2ukhJea08EuxfqAh21rJO9hhFNbcnsEaikXR6Md7UTHtbmkeTnfiKE4LIadc8TgfcQhAVByt+VTPrcgtK5UwfTVx/R04nb075OhsloEOibNqWqDk7tDe0VRxxjFvUlPXE3PtqDSyF0fDK4NGSDP1ZZ5vGgmKgpWVXsrTuiTECwdsoHx6szouQzKVVqmQZKqc5MIxetZ6CT2PNbL48QdktkwDVbIiPNmZM4HntJIUAAhN3/+DUIwp0UTPwx/h4AiQGwANv/I/4n5iSyuQZTN6PIxl6qwNwDc4DY1DTJw89A4WEabsrfBikbeo8jgg1FFKtCpz+FOcEEA8rF4YBxfIVxiImcqhZZYSk/o2Eorxpkbe+hT8annYmrQgRJsVKj6T3inil0fsrVLlQ4RgWdZfrFjoSaTIdXcQTPRwl6j1/fPz5EQwu0nAm2TbdC2YE2ffJ6noNb3MIzRfLcCicLFrtogvo/kOCC5QXxDBOvlF4hMxKfinY8JBlKZ5p+wVqHsvkZDSVa/S+mjIMIO1KGaRjTKUETdqUkGt3tGJSyuSQm82uF0E1kpRghXGsJCoIssDAB7BhGlPFuWTBe8D6y2uRTjN08YUox8i9Tq//JQh2OderxEiSLCLLjLzOl2SXA1hAFlujQVSuIIiSXrIRoIevsdYnhduELc/VjFlVhRjJtCPY+7T26v7mVmQIlrE5KUMYZ3kOSvfB+im8thjPRkQnfI7/kUp+u9Cyo/Zu9w0E+z7ELaZUXBGOI3vDQSZmL9DFhdRBH46xFcOKHS8KITVNCYjuNPlBKHRjDMy3QWe2ZWUaUIp3qh1g9G/Kw2WCHZx6vUs9ZqGaSWuo7KI4Y+QYL3sNVRECnmBEomMTFRuyV3YYxML6AnzsiryQgo3CQpXISD0S9hxHuSTfAhj/kz5v5m3hbb1gzg4K0jvO0dhIhasIgrdPJl0s3GaLgXNbzyJoPXVFmmbuPLDTpna8i3VqPkUNzRSvVnvrITub8VqQLUSRjJEsOJcvBD2SwoODFEQjN7cdLRsEkVy34exm9OvTkLRRdk2p9zTJmu2zy+tTRKcjAiSxI1s6dqTft3wzW4vHWnfIrJJDQFex7RmEwalqH8LLJ71sTuQxa7VjyGLy8RvLBJcux9sTvXM29EnlarmUgEbQna1zbLBK3FYmC4cRrIpgX6Nhcc51SmnAgo9oWRVyMSF/xEfZtf1mineM+MiOT2+iVs24L9KiJKI/vRhUKoyJaCQ9JxIQQGksiNm8Zr8NeuEEUcTHrN240hEv2fI3yV5e68lTW8MQVXnHvNpRSVaL8k+miUenP5UbQaWDJNuZji6g1N6GF4J02hB6phcup+2/x1R9aXsw/fsOxTp+j17Hcc01E0HRnVdITjD8ZQPUtFTBQ0GQNqUZzZVMfR3a1vRhCcOwHS8RWfQkFSPGldTVc8TAAHugHxCMQWKM0H8e0AUnIDlz5Sm3PkT9s/wh7WNZus7RS219GieWrAEcKsirF66ZQmBTir9wcNre/yVvK509PHREHGD/gJADwEXhAfq+zSDWiY+d4jFgmASgZO3cY/u3haG+kvn4S8aKNdJz2zoDYG8hKa+XRvXEAy0ZDFSbkXE2JvrUrb7qGIHmoNVg4rIwx4RT8XucbguxVLlJFuXgk4y11uAwstkQ0ZIBVwERCZhhI6/c/In6luzU3aBswKYmcILM3h1K0rqGG9jodrsPFxXbM0JEZW6SOUaaWSHdr42mmT+4Ypz0Zx5RpDWdcPJLRabdMKs5qs0pTA0ZuyLLP2GjoyjGNLx1vmZC2Zkgd8HaBrx6gaiIlxo2c/ZHj+8DUE24ZBIrhwxVC2La5hQcaTOh9c8burw2x0CQ+1crs5F9bK9v80jmcSOllIM5NQryMinD6aXvKlDAnS6a8klEQyyntc0RC+X2CvikWpwFW7GjJzggQEHiBBA24dqCc916osR5x4KoSHkuD3tle+DcQi54xPLTAKpJPfIKTIUFUkc1NzkYFGuvPlb7XgvdVbIc/CXLvuh0skIYM07s0u6omKUFIWDKFtGXEqPGwNcbKJQwdJghVFyCtAq9CvhuGA5wCMssFgAb6IDKqVaDBCWyF9HIEKISBCgU7zoa0+uIjUQ2sspo8gbuLbLdq92SnYUORKh90arsbP3zknKwr4v1ZIB2F//g1CMKeHU7bmuC46zXxffHC7ljsK/Ga5ik1pDp9k2NJenysg7k+XgE/9u2cEhIyoNZdCq4Vuzv5uuSER656qDtf9FpGLAaQ946YycA/PcM4GGFAosSmisrIlScP4Dj7YT0L7HtDjUHS2WTlAgFdQb6GATpxNAF5qHXKJ3itRniWInDtWamkIq+ZcZVuHZD1yJD6CLEOmCFXymgOISJrrS+hxRiAcj7onVMLlo9EMAZZ4wlBiYCbaG2OInfd5ftausy1aRJpuJZDjjnxODKZpGCxfbr6yNdnCAMBiar1NufZW6dAaI/+IIIaMdph72RbYcrrfZ1WVERIYlms9SMmnMNHWpWGyoutjWmO13drQ0Cswc0b8IyAsyvUCgxs1tVD3wQ5q1sljsS8edLZ+MpYT0WbXLeAVDRzW23wEIvnhdwkxSrSnxi53OmTqVqyNDGBMA/umn2eJXBqNeaLBymiZPEbmfIhFCq2sja0i65VSRtR5w+768bWzpQy/OSIABwhk5BS9x3pVR479hG1bjCfV4ahyevIpwkzuTmRZw+nGX5pBViK9MslkWJqK2HNggWpjTUjN7rHzG7df1KBqf7KP+F29U0pcyLkXT93gTnFsI64RIVotVIUBCJzG9+tsra4JCnyp0PAwR83PiBAInxGEE/QD2ReOhoI9ovyw82g0JmAs1dSpRcrTVF2g4lOWlCKqdEyyfupoqzcNWenn2mNM+LnrxehCh+cBT2oDSclP8QEz3EieMrtUQAvBDTTUC1gl0ueqB+TN/PRmY5S/oBQBYDuKDErvt3hsoVVHIuf8csFSFfKfk3Hl1CJ8xjULj4ne+QvIUWTRvlicDXxbZa6tS5aCWvuInAgQ4fA0KC6GNz3a0XNb/8Kc9GnkjV83hJqjmraAS2i7XH2ydCt20NLdm2YnTtSrD9JXGzc4Fd6MJZ4xfF81VfaHEjVFXc7kDb6JX3ASHU3K1TYBQfbc5eHQyVrp3q3U6sdSoudBn+TKpW3CZJ1Tsm0ueT4uLk8Cxk0XBUmsbA3z/WJV0u+5EzswUSoXjrBQrML1sY5EE1KoOmh8X2sdhMfFfMcMDZiWAlzrlWFGyLfizUH7cKH44sXZuxsurqG6JbNvsvMLwdbPCplmJjjnPVjFClk+oruec3pjUivqW2rHF/chn6TJvclSsnPiKXtsi1Ci8cWY5QCBkf3oToVd/j7nbA/2hPFxcuC2Yt2dL3CvMxPF0hewK3iNeI/cQk+/G6nxFZCFVxG93kFG2fHBjPgWtlsNk+cGhCL+qwjcfVmF3W/tA2q/GiUe4LDIE8aX+wVvtyI6yk7QeL0RRTje2r6kkEj5ngICT4buXPIMoqKPeN9R+0RN6mnGJT1O/i70Ez4klMMiKDs7a874xKuJxR5pGMHNl2Wzl+lAK2zXOuKmLA8XpnlSLI1XIUFq65kvWrAkYkFcFbdX8AgI60xDXcbVXa+aa59rbuaee7cbketCRwwvGMir2Ce94RepvLbpDMw+Gmlk4jkqf0oHg0ErPtCab/kG7pjUamZ+9x5DWPlrDVciQgxN6l+uqz0naQjTOV2MtbLvEyJZndONbss6CLtZF1C5+Yy+i0JmZtcotLPzcBEaxW1LUF+KRM4uUEP8JaOEKF/p0c1d5kYnR6v74OiQQ3gjTVv1QztjS8ZOlNAFZJBl8iu2/bQ6gah82XUkzp4nbV7mVMf12/rilM4RYlo68tRV33qE3ZXGa8LHG1oBTqva8+XRDfClO2Uns3jtDuk0w3JF5Jg+u+vXrEixD6pzJTFtpJA8PG/VhPP4asoz1mDMeY3n+ZoQWlhD6BmR47HDg+gmvfmqRdOjG2JYb5VJQ1KnKKaT0vKW2Ob/oFjuEiiAfSIlaownEqZ3ngp5vmCIYVe39jvExQtRXo8ZbjJCYhIJkJY994MoDc7H1zxMCr6G/PdQwVF9eOtTsrdDDaeP22YHVXC0ZpcbrlU/crm9MmQ86eY2UwuBd1dLPRrK/KFiSuSdP+xdNVL9k++Fitj6o8U0bjeHYGhu2n5xUTehYpm3qAqmN7G2B1iwpSfEGI4HHe3KQu9Mxi5kyIqGdosNCnaif7o6vDajVtntf/FNuT+THzLUAny5UhrLJ68Y5IyzP/4NQjCnxpM7ifxz/Zp+WD7J/ya/6XmJoWyKmOva7FxjYUhmYCf3jSqh3CTKXQQRVx008Aij68dhDJLf4ddWSYvdaL79JfcOo/JjkVy25QqDLZyhCJg0yljdkJXqqux23QYbl9CFzRK8DEYVykrKFDMTX5V/L6cGICdiTfFXzItFfl33ZLM/Tx4hLMJm5Rwh3VT7iLIdLB2Tmp4epimSRjRGYIWodX7OKn06rVYzSUbUPQZN0aeb1czwTTUFx3UXQVW7GhdyB8w/ZgWRhZovi/z1lvXyTv04zKEJbJnNe8E8Q13liRzV1pLx34Ei3H66nK4KRkIotNyYP7MPaDrxtisCIe9gY3yFijCPejybaG0Y7inzwahJlphn+51blyiZGq7ISb2W4M9Wo13IuG4V4g6PPZ/b1Pl/74rsmB0QswV5fAVPd1RPIXllL787W5u20967EJ0fks18rxVvme6myfD+5+JlnNpv2Nb/WLR8c/12upn2P4I9irGiXMk7Mvf9/q6ZBS20BO6I+lJvSUv2P4pGaCJUlRKjbBL7Z8t80SYast1m6Mx/f+yf6KqtIgix5C4wd8iCL2mDSfDJKTFn6uYEmF/yEeKa9dWdoSLlDJ0VPHo7rdRTV58WzaipQJ5rwyRUziKd+W0hZklbK0FCs6pgkyOxN7kL5LegEMeX0RJjipIhl64qDakZuxZOkuN9kNHH2TWZ/b3bmEwvNCVRNfLPBrFRTn02Lf10zgCFOFFYLRdzZ3CnBJBx6l+saMKPQ3U2EPYwtvAwki9etWwagmhfF6fmRVl/fCQ+hPUxRuC8gOSWgrRsi5WtISwfqDs05cV9yMPWcEoe0EW6R0ENw/e2Mxz0TNTdWpzrtHSQs1DDZF8N7pgu/3wtPnCPEUmAIRvTpyfQbUVojChRA5KCJyKPB2VbKyxuywFDJlQd0cs7Deii+esHXuiNTYF1i9Cx4Am4Y/XeDy9WDSWWShDA0XnG2dBQBLtcuxhdWCq+v7rJmWE13T3onDmvzyPS1AICVwh+XXylVOwmqaJhUor1nBNswNjL1Woi2Jmol1ffmdWAkYZslxqwouWdVs1a1yc3MovaMj5FiXZnP7E57ReIIf+JUbCUBPjM8Wwnt0ZHJJP/0CEYna47kBbUgWJaS762snzU87ogm+4Ds/ZHfLQfZu1eq+sGgsa8DKZ5TR3DYK/SIX91VtfJpLldrJ30+lk6m3LyOj7mZkm8FiUEy0HMFqKfG+AVadYzuJcz2Ta07h8grEtqFokSjLolWWDZWei7M7YSz3olclxKLd3LAYikb3CFylz7Px2FrSGXFfH3HpREODjPSNHkjHn6GuGHbo55BaQ3xJ+QfJt4LWEAQ4RszbvS0SQE4vNyWJ5V/eHP5tox9nNfwUJBtyQ1BqB5VD1lAoBMlA7luVLaXAju9ltHz6XZBiwxoPiPPHQ9ERFs5K8xUjgJdJmzLt7LosaggjNH/CTy+nIQiY2U/NTz1kSIXot7sncPow1I/HxiuK/I3m1qx418p7Q6W0utd++F4oGkdfk7oAQLaHuI3NJwXLkTnAJAvEXS59fVOstFUkpWykarFmQ80EJsH1PjC3Ww+ICnrhHsHb/y70GwA7g1NiAqIWgGxx7N6+iIRHS7opUzlIPCZ3Wo59l4RqFoj1iVfJODbQt9+Jr5H8msDQK8EWumsbNGqSUn5JMqSkhPU0apF9PeJtXAThMV4QoSAOSR5YLdPPe7UKfFp4OiocsQa1ERWpy2CgU9pXy9m4mwyyABTqXEFECl5E+ClmnxLQxw29HYirOuRHBQ1pZWTj/NxvwweC3MO9baoFyQ+vSynYHJlRS9FMbSxqs4CF5CWzgfgyWsNg7uERpehgxDt7s5VKXlN4Py/4opk5O3LHCVC8osZpa/p5HrVCtupcmQjaMnZhVe6VwVqmlEvsqvK3Ryk2eojIIG58LTNfcHVXPN59yyChFJzIIeKSo2DSoHgRtvzHklsJWoL0WpPKSpfJ/aSzRXwSPOEw8Kp1jakHhqqYPZQ7FftEoaTbRlXF2uu62BWE+WjjcVCMTKS2/6HYUy4mDyyEtaZqkjzvCgmKORHuhltSntfybZyLQUBJcSqKlezfCx00QF/sutBp5aZ0eg7kArf//+DUIwqCnTODD42bpvfBQ9rf6nP8Z5iUhvEw2b/2gQe8A4L3Dnvk+koNMLeK0FLaw7R/uGEMPaeImhfNULOReiqBNpE4i5SETK2mxRk1g37JPMympMD7SWylgdWOxGAT43dCHIhgI2pQtTcllhzTGCgs2FkVyyrYIJRvNR2lcrsQ+U9N/Zo+jPVZDihXvclswJSyY2BqsvBehQWL1oVujuNJ6RDFLgGlGqVZrsW2jTRuEE9OumI1mQIZl9d0YdEJPEbtYl2z8dOXlopv+NOzfn0SwC7esbhmVYus4nHM8wlfby2sAgJJ0ITkk4nkMaNwN/sKy0axCHG5XU2SQL0QYWYE27yFFOjJg18XRc6h+D0HaVtbbbsWvVEicSJnYj28q2nnfpLZdDlbGT0HgZvZbM2pxDcAUZNpwoaHRfstUYBtEYBXDIDIBDwdDtkVJ8KHDxC1QFzF2KrWQmRWUvCG2UfWNl3WlYR8dhqoy/9o4DNBZ+ev4jJ21eNZBFUKCMUxcqMt8SumXc6u6H6mKCMI+K51MAqZon436AwNWGUrpumIQT1rmR6NimLfjFykb41wtTatoq7piy2VPwigXIUMaQkMgbAkKwaKn8GJkFX9/j2Hgmv5CvGVxWzYebCGnG/QWd8fU+P1nC1lXE9KDaa/xyL9c9MhxchgE9RTUVggayXYaoINVuVEpouDISuelE//B3xfvoYI+g/No4TlloLQddBPaLyESXfKrdx0//SRqfLSo9TkYqhzrH6etJkuMX5JS0wR0yyHL/2iqTPTqY6sUqHqKYRCfyKYl8s/QuNQpKIYC/w4sYoDMi3Kfkc1GdgXmj5C8MD54uU2PLlChRcbqndN6mIj3UzmnkClRoTgsUCI3E24QVdC2XXHqPO1GKnfjsQQ35LX4T3mE+jNJWXGneQcsqEwagNgkztaYTD1FfErIDwjYTCBc5PM5aFIq6v4SbWPfaVnyW/pGJRFs+zf1pYh8BbVN5JwmN0+YSyCSq0lbuqR+BBy8PebZTE7UKGRwswM9355XXXboxuxqZXucmDyadkFHite28yxPS+D/McJY3MXile9LOz5v3eYMiCHCcuTUr67r5V1OpiWXytPJaATyCfrPzUhfq2yUsKQuAMFFrE/2U8/bGfXO3brFdCDkoLMZFFYTR0IJd4UJqOOUzIsx0611JoQi4xS32InLq8pDBUkaPRAlh+bQNHkez0CKETFcXlbVDaRDUlmzu4EmKn5W36FhF65Mi6TZQv1usxyoks2kFcEB8qJDLP/tohhfJfenJWGp0CruuVYiUk+WOGTvxoZpmdRJG4hgo1nOhgx6U8NdvAjkOJ4yThbNsQhfahOmIJXlJ9TOV7SVcm3jA9bmHSmlY6+9rawsRHYgHhQ4ScIAhxaEgUddiFQjReTiP6o8mRgseqUhG0MTMXUemBondiFPXmHGplh6s2ld02G2J6qu49skijINigpv7yTOALGjfnXuLa/SuWXGWQ+SRS04iCMkTp+keQwQShMp9kouwQC/KlTWHR2HJsh/co+CeBeuGT2S9mKXwMqBm2mUZEpQK9Bv7bHsVxJoPXT/hShQ0y9t105SHHfL+7SJK//8TSutwS9P5FsLpHo7dFo9FtAEGWhIBJDoIaiMVdGGLfii7CCfy5LFt6BHj1LWC02R5OPbIHbQBXkCaRjLcruT5YJFCGIB2eYmO57ddGGbPlc+GvL5HsQA0XOJU7eOaM5fbXHfFqRtPDz6L9HBWQYtNF7T4xBfTolsu4E2U3dRuCNaSFpjH/zTOlL19oIPa7MdeLU8SL2riltHqdeGFk3ycl8guM9HuvPUp5Cu6f3eNZntC8nbFctSFKZKDAyUAYazPiqITIa7T8UM7nHTIrvBQvAkyl+Us+CtLSwcvJGLeWqG27cLdRzNTRFZoJEu//g1CMKhoE79Jf1g/bn+Rv6u/uT+0/7B5il1or5663FZX7zbo5X+bIjzxIdUvBiOQcpUaGLfKkwMaf53HQDDNj1LIlhX3Rv3iNnoHY9aM4IbROxDwygQxEmE7maiPlYq9NF+RDLpEHVPYy6I95RLyrlF0/hBlwN29s+iwqIlOk4t8zgQxI/21qqpKF48T8k2mRXrhdVdEXozqHAwmCpdL2XjrokURajobopUBXwC+nX1mluvcDlRb8p0FTj1VaNdb/c0/WIg49ZIBLqaFunxCoyUmSLQC2ahJdYKJ4NXnPg+aRg/yjxmM3KdJzE06yvECfjTcsCkth6kgkt5k5RmpMwxME+gqpkKxGF9qOT9/Yx7847tveEXAk5Dm7UUgZrsec2WNxClOmZIcy1WlXWowlajZFcrymKKuUUqxKWUi9fQrMouoxfFvkQz1w6xuSJm7EsuyHX0PeufUJ9VPl0wz7lP67BNeOkIX++PxF2bUdKSbTYVbguUtyYuIoZDTLDvdHsT2GrxYCvhisTsXh5kdpbtG1aoqYrVINz6Nak15bUlam0wlZzSpnCsMzUiZkjQKnmyta8oW6p6gSB4Wgm05Ese0opkuFrWiTE6iAAPdAAU0BDIKXG7AekYmAMVBEx2ImcgmFl3/QyZDE9TBGh1ULKRjiVIqsk5i9KsknXuCn5OiJWaKQcCiVBlUtxYsWuowNOEASF2Dom7jj+uSDurdHJyr3lcnOGGGf5+XntnS12pnsbdGg1EZ3r7NskVkaaa7KiTzIRF7yi9eQ97RF7I3zQvCothZy75B8avGIqVIX+ipiWiXB5J/3T+jL3s59x8c4muMWk3aQdAEUEzBNJGNvREg3go0/GC22BASlTo9jtjaVQl0H0l+4CktiJfPPLW+IllqdisJINzkiPrWAvYYhWtFpqphpVP+LdHIxurw3SyYsIMonlkHI6seJaY0m86mg2/fLhCuFwSGrDWBWzjg7Fh66BdpiSFmK5y9aaCOIp/MbaVsoGJ9uF77WlEj3q9v9S5ewU+xVIrHVatt1fP1m6IQ5TlZVXPpM1DpL2jLbek8EMFso8spmxFHl/UiLFUh46xL5UT7VgP0C45CDgugZMQYL6ClwkHzsK2RmBIdakeZKWJudOgi8GjIlGEiFAxXo/8CVWSFB05ePbM3JJwYpVV8GBAsD2fEgp5wOuKXdFBRDzaXQkcQ+konbEdsQwUNNy+q/xcjL9VhrWLredZUJLdmEpxawBBw0rzwv4DW2cv6IVDZih4nWCVRTNyMIGf0wPMDAbi8U50iw+WodDReR7GakDqV3NZWylEeHFPO9GSxyWKmY5kggWVBY1l40zVK5bbM4QobI1SFEp0kQt4K5fE1hGxA7xJqwRP+IvgqYCtmpH9LZAZKTIjg04QfpW/5CTUqzW/aCOUpLGC2RLgQWjSmj/ZhGQomDDwmrF3WyeUb0KiR4/U8Rg1EeMo1pJ+C6EgK3JNSZCyFvwM+JEwkVgy2dsnmovCeU8pKUZ881v6xSadW3WCcEBTGVC6tDAl9l0s2WuShstgBxncoSKjLjOeZcL9N6bzAgg+l/LNBMb5kaIpvp9/TSrNb5R7S2U8E6piQj2VCpkBIMN/yOpY2MadMRhefwJWwHnNBYp0VGqqsCcQVvBUZtFVKnpeBiB+AFKTjVoTytMjwoEJ2izXXMvORjRfgoFM0EvHt7S7APt5Zt5lOcjX4lUESkUOj51p4KrzwSB6xusoI5QMtmoqpLG9GY3pHdkNAJK0pf4zCn8pbRjr1mXSfLVKKlUpmqfUPXSR4SNNyfcDZDEywsvEliLDnWPCENlFb33smMtoqyXistvNpGFBAOBt3XG1sfy8TcTKk3/86UOB2A2PFCu0E7UxxO6Qe+mtK0ScPmbErkxkZotVJC3JcsimOiksIzhJLPr8NdIZ/LM35RDPdXTSj4FrM64cccCXbAzznqj04uOj/srB7XI7peQVkBg6yEIitVutrx0yG7pwNE9caHEdvmDshRyQWx3YkrIKEB1E8wqg8GA4VaJLtmiCv0XKmg7QRnH/+DUIwqKpTgcyDc0UixldHUsfyR/pH2fmJ9GuTFffwQDXDZACx/7PASpk325AhJZaFcxLsnjWgrg4R6ltCmSnd4JDCKtwCCap9474QkzOKWJKOPFTLO4T/z82ypkQjklh9EW7jMRnZIalz66HYT/Y6YqoSrr6DhSiN0H1FMLv/vHwezVrKqubl7NrPwzQltOGWFZyxJ2I5RO+M7ksTMSvBPksjqmFBxOgHq2GVN3tBXRozZrg22eiFsDE62od7Kcn7TdD3cQYtSna0BzZx7FVzvZ/RSPKMQuNbNyEBSH9Cezw6Fhh8n7QIr7mo20iol3ayqbdnayl86ftPZvyUaqHoIhTNs9BPhBBoGkDrWfptzkwhmRoaGzfFPbkowkeLEkOBXLpwoP/mgyrefF5V/mlKz59opbeOsFVmpeQHYEOIptdGFz9gstCuewZoxbUWWtxCzPq5/ao9YdF0RvUJj79gOqJjpRsmXJ6zmmC4i3EPFOEdA9+dbJXCbtI+J1IhzOX8ZTlbQkCCw6tVSFGiUlzsHvTdV4T7qRVcOBCu70AIxwTuvHqInRHvcRVenBJBXDO7LNHVFu0zOCjFcHHXD4kJZIiOqPnoSyMX4XflnMn77nJE4UfUUh+TODNzjY+wn7hPhrqHy1l4oMJQYzM6DDqUyzAtvpa2V3Umc8alpC/jzsmMk+SnXopuRwZKDxkS6t0U80/3ez9m1yHkpFsaymBlXMxTBrNEbZnZP5fAbaU5Nf09HeeXISRG7BYhB7SRxwhKMD3hA9Ws/zJEXBF3lXuqg8k7RY0y+69tY3txdcscDWRPPSypt0hr17Zyeoy7vqf2Io4XY9JPbZeUuLVHKV3lNJz0rStrW5RjCNnRpuZ5KctuK3Rfe5U3R+/nHr4oxbK4kUUH67PG8DUENlTTsC+9IhnI975RlORexxImRe6l5a2wULOS/2i7k3tDX41PcyBo2SPhL2cZ/VhO4SnfzsEPInmFpH/Xo4VHODWJR5py2sP/ZmScPx8j9loVv5cCaWglBK9KL8ff9WZYh5Ue5XS22jzDjSPBJmFGx3caYX7Ze3N75M2xukwnX7bk/2ZHpAudmCeYit1UdTZ7rHh48rPKZse7VEN3YQZNUirTR9RueUdL8PekppPyzJxYdbtTTqsiaIGRo7dXSJYOnraeOmzg6WpxXbE2d+TPi3kljuiNlPGtCGxMJAqe6QTgg2KUZd5jkeTDrbvlUttqB6qIt7sRcKO8zuBulkquU7PqI238y+OotiOYgOX1qNCXpaDk1lx/qRWE7uOq7ME2W+vr0cWiq+cKciUJDH4pHRjMzMY9cb5z6ZO1qu4E0bFn0MGhAh4LVUnWkUpqo3hnbkvLCkdvCBd6pMc/AOGo5nJZ28zGgSG7h9mHWNplOZphPljUkkI9IvlfFVyDCO5ah/clWULEq7Q2JNsuG99uyZfPbynB/B4y0StPNgnhcXc6xnvfMNr3tgFyqC07lrPOswsrJVwxvFq5JC4a27vnDxvhI0jud/lWlyJcrOZYiFraGj+GvvZ3idFJvpWHsnUyesRxzq6kMc3/S+qOkQB4ZSqjrs7dxFJRLMEmxP7mnq3fJ9cHysuWHXv8ym7NN3lOmyKURKP0X8KAsSTGW20lIE6DNlBQsE7loM9WkVJeoodIL9kM7J35dhKbViJWuIZEC+c223BR+dcjl08I1Zgr/fEZJJazAl0Ok+h9NiXgtjWyems6bhWL7tFO9cDlcrPrOIqudskQyZwjnRlc3FIrm3AfDSXZKRawfTh+FImuG2FDKJI8YYdYN6zINX0LeYeI2lcrXVYTq2TqAWeN034kOF8DJlP79dR+VRgkJdX53bwCUeQVWmklNSuhnwMeIDWB8n2V5nZGOEzlUvefmrh0XlWGT8nLHjVk15O1/TNdwiRMtZEzUoKAYbh5WbCxqfk0BxbmF8SbLXUb8FZJIq8sAKpcyeRHqS4j6lJLfFmrcMWw9KqzDmQnUo4y3d7qxdnES6LjDDFmkAqVK1VObqtQkjjnfewlg6981QKekMSe2LpfgowNs9pkkxYVpMVyJ0vxCfUeLq09pOkYNjUeEnpg5cUfx3sLnJBYoUitPz/+DUIwqOuStrs3YvgQOIh4f/fouYl1rG4ZCOruG3fcGFI/YGETqCBCIxmfHDn1QKRe3LtApYNDWTJdmm6W4UcWKU2mNGeAUDEc12fBoRokqF0XkK/iLFR/RR4BHxSxiiyWZV0+nqAoWr7G6VqHIJWv+bFC05xFd2Nm2l3ghZpZHrUfbRgyrtDmpuxCQCgS7VA5WsFPxOHHjOuTl6aBi4LafpdjMA2P6FywtSb4SGXHiOGzEiRVtGFwRUM+LHxqteSb0Xa7zuPo3mAYfG/1ugG7WCMle980LlE7Ekzkk2Ey6iQ6hlajm+PQxT5Si9e31siz7rpndc+SeEhTXbZMRZ41qEkwZ7nSAU6Ehz+5cXS2RV9LRe+KG7qTwCegvIpw4gcGi1l54/1eO/uoDWpOCeHNSBnFaGf+gpMCG1oFqvJF2GLjXBtyu0XL3Eywl6oVm4VOcBD8kBMIeM7fnLZJjUDppZum6CsvdFYIMM85bIVcL9xuhNB9/PZyxBx05qANWyxMCilNtXR2Kp5+bGcjrihCFV2RQs0wqvIyaUFgHoQ4EvAKZeUQrImnpkxuhk8I2EUjuM+Sv9HfjJf6GpkqhjS34auzM6DFYK1Qb3QPjWYhIXHT5OxPKMCRiVz+Eg2K/xOo+2aV+sj7aw3SCzixmrFYM1ZOmTM1l0OifqhNkRnaEOL/XuzYrdedRrlvaNaeoZDzj9pqCMnvp4gfqZw4NRSSAVwRRaC2NRzNMryxR5K79yA8fSBeQU0DoCASM76oeYWb+Hsu7kjndN8oEIqprODEyhZqQ2/WURfharXXFXoS9VGqsRqdPuNDchN63C9HX4HhNFiVMbUnmv6ONSjYwu9RkIessRE2Xog+5G5Bf51qjkS0qKIyezEe4w9VJwaltlbg4BXntLRHyD2nYioxRL9Qy7AQmx/JkK0QiwHOL1LSKyb8f3Xr4axJpKKblZUobSDUuV3gnESSOzD0RhTX6qklU16Retlk8fKpqlBYuv0RY1P1VU/FyHzVkMmhjU+QyAUDmlZNzzZNfADtKmh98hXZBta4aq+HeOCXspsch/AkPMRinndxu8c0LYXMy9EWCELiQlrGKZHPz0K1KIBQZh23uBSQSh/1tDgkRoMIDY+6I01ieV7MILs5+sEWjlOGyvzpj6RjCeSgrUb+nZPPeskaKqaBlMZzbbYaPo28CiI0aURry0GJcwX0mZFgr45E4LAnZyZCajdEmrYPMWgspJdZ7r8t7u52HE8oQcIMMXmSXL7uC6K+XDt0SukQXdZjiQJ/lbpOAp2AMSI5JNvYjheWTKCuUktdPzIuFp/FS/R9Andu2euIgL5jZVlyzlFQoSwwqMrRE9R5CTrvX/6Ui9kXc4MQEhVotj7xyncWdkuX4eZpRYj3M/a1e7kXUBE6c/iXx25jZC9LqNIc4DP0QMR1a0RHM+yk0qNDBoHOGSaYZA7Q2JQwUg5w3ioGFHqyNuCinte4oPXkWcS1KjZMLJN7ZKUXrf2POZwrpQ1YdJw4FmudQQDWSwSYoOqpLSOx7Yoo9VHFr3KZRYD4LzJ0dDwSL1XlWqrZYltmjoywsnslN15whFFFbjSZIOqZBO9kuwRMcQe1IidDN/Vj85MkOPECGcAsno8f5I3GgnSXp+PbzS5UEGqNWUz5VQFCS0JN54buQIzYAJeeBQLJbG1RY/+K1dqdfP7WxQzm5nGbIHJILy3LcEt216qmOvzmTLrmmMEdYnuQpqEwOgHUuicIEqojcGobTzafClCuX+s4+1/n5uHxF/fIiZSJQxIqiNvlZEHO7eKskPsWssZsnAA73wyj+xVRyDx7mKUkgJQQwfYN2DgG7S1fAQ/4BCSEH9DSP24QJgqrcBA6wNPwiT1vRiXvhvE2QXWdIgAUXfiZjSilxZ4IgyR0xnjf0hIC4lfH/yTA+ls3cHe04SCz7Zv3QSD8qmG1CfLaEASxMJeqJSL2OM4KyLxPEJlD/KOdJdeaJng0xDoB5mvBbBA3GVY3r/bWJV+7kRZ1gDjDXX6zhMhI2cIu+8YHrFQoAv6RxtX5lFPuu55XJncrkrN0czNw8MFg9lT6ySo0uE+onQi05tzO9ucQJN1BS5p8HCXYPl7//g1CMKku0wWGRdsGP4YDBX1FEEScuYl+LlcOOwDwDle7ODVAoNYbA2K0a8WkLIqNHfbGpmjiJozLCO/7qYyQ2rG82XIkv8I3pa0aTk0iPMP1COafvqw8s2nK5mW/ffFyWeCIULbgJn/r9W6QUMUh1xYFFteypdmMnC+tfmf7sUJPVmOgon9B6z8nD+4rXEwWvhyHUs8hFKWVOiqowKsGOuebWevqATvwCWQ86b3lMS30FwgsxU/InMTUqerm0kZBIH+3Qh1wO6KG6fgNBFJkkypV6PJVTU9z0Wx/OtqtvijSHTCxUVdf/ZxDbAp/5oXAZG385GKTFcWW+/qnpkxMI+psEAa9DIzkrAK4osQtL6tEbfMwE0XYTR7tWyixy2sbWpV/6fx/mIEsdeOwKXIKueWYEhi6lCUgRNgcNkXTKpE1mnJi/CyMLqxRof9NrXyi8jIKKuL1whZofdCXYJL0fHNV3NcbHeiDEkJMfVLYDa/ART7++a3BDty3WtfmWkSOzttN/IDpGGThlAdxHA3pkQJFn8N3/RZMBVBUgfxymaSIuCtI1GCXzwnSz2aXfFwejzlmMfXKWLVCDUZnsoLQfCPSmgRq5qopjIUsuDWrjWzhj42yqRZQufdCxxYgLsSigKY5PgLdS0IcMAvEVhuwPpkn4cp8umYcRdcxDmcM1Hky1l+S0hSJdszXS3h4sBkPf1bmIL8U1sBlcs8jmgbYhnUXuJmEUrxmWnqgpUoxN+vw0nfOXWJmRKiGOI6+MetLeDSrDxYVE6JuPUS0pt1L9LX+lWeC44MZa1Q07HvXNPIpBZKznL4IklU1EIIooc7fRZu4IBTmwR7meIdjPJliTV5zCCvwRyRGY/AaK1kuku962Xx3Q8utX26VIFnpmNehDE8W6D22HmXoT+srclXOd0jFgUWwCYre22jJO2E3J8DyPZZp7dEAkuyNd2l83BjC+Ii0M9KH+LVhbHlWE8mXii0IQY13HvTroQjTvXv08xkvM8iufJFYCpc7kMZeMZFn5SItLGWYqSwe61qEEjHsN1dmqX+DcHw7kFs0x1lTMxkujfJpS0eKpAsjNE8IzZPL5iBflJzUZARziQdoV+eUJa68l6GKpkxhsRWnG89yaucJynTphFE2T0PaPpWs134axNgQiF5/gtifV2FE0rFYEuWiwGlx8RurESFURGwyV7wox8MviXHmCrJx6v27YhAFaal899aNastVOl64XSimWqCE82TXfE6k4i7iLh4JytqTa49OonaW6WpVLS/myZlTpbnMQw8hA2pHrGGo65easOfE11msl89dSD9fBFLf0RZQoHgc5FYMjSRJfPfnJdEz9SYkdnJVcCHI2fmEl0UKbaSJj0NXP+o2OlSJRyaS7uvDjbXnavaPqoc+kJCcDzePF6EV/0Lweq3gYBXpC0oCMgXZHCteMf96pDWSkrgwSVT79mbhjkJK35AYSx9suZd23eSibJeCUzuMrHDYPY31qzhSyKRhKy8Mw7JLxlYpkmqKk4Ihmo5MLL9VjssGLSiBIsuSy3cJnKgiFA5tjmUZN7aJEnrko5P6sJjMP+jjg/192+N/V9TJaOsOin/I1hoYyUbZlJGuI5oLwuaiP6bH7qvjePbgTjjy8Ip93oeSqKGm5GmzVJZQSxnGf2Icxab0hqmkKS5gj/01RjdPGmFzgEUpEGjrvEQijlEriwRASLQbBLTBGmcfatF0v4qqr1t6bcQ8Yxd4NARbRi4upb35iQDVzlD1+Ea3UNgWUtElwg5tPxl+pF5Bx8JTs+IWKm5tnecmE784BHx//g1CMKlvE7xr+cS5HjfwuDJ5pfsQeml5il4oi5+b2QZjVxoBEx96AEg+gTCIlIZpxkvLNqTVal1RoctESc48kCc8zOquCuqTzrQKEVAjVfiHnIo1R5Wb52CFjqSDUBKQVwPqYqPf7BSKDWgOpvXWKZOWOuLN4MufUPvgBXfi5OOHyAsm91+aMrgtkpePEhmoiKyWDI+E8ztGMdrvBWVncOyV7ys5pcMSIpAydFCvtGsblz4kc/PEXB458cY7eqsXg24HyD/i4gnch2lpTTruUEp/m9ygTMic1Hoaw7FLZvQgk1Pc/1WaTr/SYPiIPUvH7GyWczevuK+3uLalGJ1rVcwKl+Jszm6rSocldMhP2tHXkLJ0w+XZA4+8auhvPUAwxZzDg2wbILQdEG1sxUMMjJuQEwlFJEUzEkU96I8UsRccecoK19NXL3+Vr1A2p/gndO/rsVXC4vJ8JU/oBDlnX5HcikRUukXYMPmitwRoYioqhGhOM6FEHtZSunQWaIlQ3lWV+4LRCgAsAa49QbsE2hQPCWhYjHiL9Nfle5eFgyCC3wacocTmI8CsUd5cNZYU/XJkQp2Yu8/yi+VtwkOzlCx44EgMD+BQ5EFJkpNFceQhPfxE4VPmXuEwQE1StdTdwllb61iyWxSxKjIagnFhQESDaN/DQANzcKz5xoV0UrBREpqlf7E74c3HQ5oK7zzgziWIHKw/o+kl9yOwo4d1DNV9qbGqwts+0vc9qyy//a8oVhAwx16kVYazz9sg7g1BbUeIPmx2yUWU+9rXrEovSpY9lCYwoo4CfHdCeGagLzd9+xvwtfykx9SUkzypfaCk/8U4P5E7D/0EUaXDIYqNSgItC8sJWrBZMv5q5GA7T1VzQGkz92BiIlXImUO+f/pT8bxjriENJE9NhrjZaAIyuFP6ElgIxv1CBVKg28WmbEBXHCC7MlAh1QEj3eh7Avfn0g7yVPEvmSmnM6FsnqMxkUVXEXvlqmN/2NYUXgt8olYusch9gK+9Cas1w8u6CvPU9AxOw8JgsoB4BR2L/F6mU95lLAruu1NV0aIv+E6TaioNRy5C0D7gL2jmWQqdcrhClwlyI9LKNIuQTIOmohKkEtHL3qQcCK74amUfx4umiUHGYEusObGILWGZ+82l7zIMO4CjbaMATRchTehVbXykibuKZqMswvV20Wa3BVkurqsaQTG6j2I/dNXSJWwwjgHWF5mUbmIjNyODZoahd43+//g4N3F5RYVdqZpo1Ievm76U5vxHMv48k65Q6xm1ho+2Gq6UXLxN9MyR/+aXJZQpGWm5ayqktXGdLDSgoSepIqjwCTjJlDsMwg4Mof9uBdFCMvzpF6NAX86TgRvgJbla6kYb3uRlOYouvJ92T6hUQYQBhbWEhiv3ksBt81/cIeN61kVfJFhmfsn7V97T9aSYlg3nAneFSHw0ZCTCr3ssQshBe6ADqLJosVM2BWSTbx3r6y9aYHGElphQiahfe/BDhVBC1WFOqJTU5Ee9d42Pz/KPicszuTUjO4Eh43O4Yz0aCYaxMeO9zRpOTHVxbZLaKzaazIrUaec34Svd62hri04a2TAFf5aGPItoZb3gERcuxZ3yDHbs0/IguaIqxORqt2mfkoIFKOPCoUecpQdiowzvfkrcfMd/og9inMLk0ojgRHvNCaZGSXvc/mg5FjE+JdjbTTp1MqxfjqT59G3ytVw5wVlM6zP3Ipoiwiss8rBa37c4hRAT7NBIW35LeZfq3BTqg8ywtSteuglRDoJeU4fpVxwuz+PLT0kVH6sFN0QdciLCgaA9xYaw7wGC7EXjQzIeximXtSb3jLTy2bvbGp9ysuqCY8lmQ1PQyn5EMO3fjnDF7UpzX1EKJ6ltf0hEqQFfhIhIM7uxTE5WbkbRL2yP8aJgKQ9YmwqQGH+pdeqvm32/d9V9/bnNx0dTiFhd8Hr9CUToiz1H9/uv6JlTwIfywKXqGMxFNGRF48+lJfShCcEwdxW+2yYStp7kui1x8UsEpeBXiZqOTEkP5kO2lHW1+vfyICEeEp6SExj6G6fYvwm96dcRnzRggiNHL+k3/AyxWuf+wW+mWMGGr/gFpsNov93OFF8TFaESh4idOguMHSv0T9uejJEuKW4xiXKSeo3YwWNZ7pmzQxXlkAQVv/4NQjCprVOHnUiQyUlJbck9ySuIw8ifOYm+LHkTyvRAL69uGKXPtUBM+aTaMs9gr7jSNnJN3W+O+E/WQJ2MrnFYeBJG8wn0j96kUEmW/OFR1jvbV8KLjhzh44LbR/DOFVu5W4CJ0P4Sm9w5B+VI8ZAw0jOwo8qBgWZ8zYsYJyoqqvGbgrZlqjHbSBMRJSNEYoikiOKrLzahpiT3ALSg/SW+PcHeb2XdlAKtyaAt903rFu7F/nAiYlHqTobPBXMAM3dPkz3doRjn9McpLqz/DJx+NY5Bc2YPJjOOkVfe6uugqB6qt6qoitzMmHV+mR1i3tpRApxxkYYXVlG6rprkI6x+zfqeIrhEPjTezmgS8jVthKoP9m+31nuqvdwLvyEOHbFc+z2XQqO6zjgw9ainZ7yti8eb7WyK58Yf0cKk6xnVcnOyjCtWS9RatqSRUsK+Ip5TzAIdbFJN/QMx7Cq6X4tVomi0hp1Vouzq+cozRIquWP/HNCyEdjmCiFaHQHrivSV2ixGgZKcco86jBIIpHaXMKnenJBBvnbPMi+VG7vVjJrzS8p+vUkv3SWT/CuHGZRHV6lmSLcsp4LF51yAqSQ3Yap2DDJZaNjfMYRJPMLfLyx7NeJ7OqlawWzH0newtqFwxnhVZOOWZGL4gvFsMbXb9FX5440hRZUtt063io1HRyzgqZacXhq8doeg6x/nldo6vz6YLQRK0fIMOeL5TJdNwy/j2CIVgCthXmEYS157Uwzz63TJXzGOpyvOk3lbhl8/Yzb7X2V+7yxxv2qs0NBWCYVk5jmvkMJ0G40VebpOIvO1bA/LlyRI0gPOWiYeVCwemI0YaiARUu9zvPSwtUkVo99fzdqNGFPtjorb8/3yIzJAHolookszy3JWpA1mQVGCQLtSySFq8jWwpWIm99Go7SNhiekyNfIWv6vORlN0COvkL5A/wbAqyagisoJg6Vi8prPN4Ukzoe0wc6pk7ym/ti3E5tAzJ50E+2VwN3RQq1RS/bi8hfpHtlxAwjbig4cohMnEv8brzuDZHpEQ7Nk9y0c8M1qQ6k7btzUO/z5G+EQE3VrHK00hRK7SDpdvx5BF02cmhN5EzMjph5ngBaezaDC5MkKEM0rMUx0VZiNx/SUn5wpaJI57qP2I01CKGFyIh3W8Fz3QydqJjrmUZmFKUJ/RVx24TV3ZW/DwJguvInUE9xAVBlMK+4Q+br7FWjwlj8ReE7vMSeYNd02WkhlW4wFA80dS3hmkdzRxGXBOSXrBLaChSJTiqDS/D3DoHcoq1bxx1B+qxg2sKZJOMd9W7thYhAnF3krBk5NrNTaXHiaemcxfjWOS9QQWwKKvyosVKtbrdqpoNaTs77MucrWRrQvVSxx6snrUOmlCHbedcDy1bYiJt3jzmGkkrIK9xcmxt65Mjcyc4BHzhQpy/QlOtlxoqjKM+LujBjtZTQlQqsIsJELTeSp387HgC3sHQmlMYV3Wt++uV+Y0u11kCquaSo9Jh7Ik3N50Q3mLkFQR3Dfk9Jhz5GOOI+jWSvm5OC1hNBLT9fK60UZjxXEp43gL3y86NhUi3/i1lynSYPkNMl5gk4zCx+uNJxBCPWWvFLp2miPkkNctxZi1eLudFGr/Rm8Do+I1IgYhQhTe/VYN1nGjej2j8WHa9oIudgDGIeyZwu1vP7FPyf/nXtPvMMNs2uTXotRTL154RoXqdjSz92sMCrVBGvYk2VVRAtqIbEApw/m5ZTPSVbj/nAmIZUrIuwUypnd2YquRU4+RRXHLjPjvoCptCAiNLlvA1FfSHxRptHMkYCQCD2Gz2fjzsrAh8mmQNTLe3KvFYPjxeS28p16or1Q8EIl1AgbMnDeFv7JtN2XiraRTF35V81qL1cHvW5VzkuFdrMJn/k/csMSgWIKtppTRVa4F5a7+ge8vhLYcsBa7NOpLBkV0xI/QgiQKNPmISS/xd4BPPsEDmThbX5le7tqxQIlBWpEa9gTfGjmBg7SwvY7lWIgggNuEQbGgSWw1nhKgLdwLrlZCNCfLkLCSu0kmi1Hb7JbmLCJoPLOOMWyV2ds9ciNCFH7PQM5U2mgo1V8+S6e2tifH38raura0CREQY6pqaEj7nWZaef/4NQjCp7JMFJEQQgqxBdIDKgNXA+bmJSG9Ejhr9ABK3xNgiIGR1gOQOpHPpGyjiVv4zie0krn2F5eGK+3TGTq3/6hZZLcThGxYZ05YykFUVB1LqZJ8fMAkwQbNwpJ07YaymY8ajSJdJZY4divpCH989DhEJJcQDoyblJlc5bJyJxJjquLODLDS5GS+TQ22TOk55i0rqaGNICzC/QsUvFK4eRPwoBtIsdroegBPRGqMj1ESBNdx8DO5JpMxCkc2XlYLW23kSPT0x5oUuEpXLrcPsghu7VhrXuT68J2ESjzIVhJGtwfbNLpY3ZiU5eXuX4Cm7mXg4uNL3zgfVhiWXLEPnrxdSjMY9RwPs7ddZAeuJoaLd9V8HqI/wbVpxafXeIVafQYc+ZKKq6VIgqgYWXFNxoPqCZNmqUaIjuV20sHewRaVTMqjhRMDJhnWt7h1OF9xNVTQ4u0siweaM8Tz+ZHSVfAz5UWy26t2D5q2Qs6fEcEO3hfSes35Brhm/LRGXtcxVNe3AvepNouzCE0IWYbvN1+vlLPdTl/dEDHtGv6P11IxR6F9M/0ywm+eTp5yi+vthtSG+Y3F+xEQls+8bonKAv2zc11jbFF0DibQw5N9kamt691XQ/qhv7HbEQBcf7cwYqQNQfS221nQrXxzz2rZPKhJHYk+xOsDeNes7ceLtc3qCxt+5ug3OH2FUxpKwfGcB84gN4czINfwo7+coUrNESnq1OhppktlcTIUAjsgKmHjrG8B4jbDIox/A8ujVcL6YpzTi5KVt8qZIwsE409FUrXcXUw+pEHCeBCl+cuBlb0zVAReJ3HUIA8dUGphbowBcc3URBhTXgMCtcmRkdbZWmMm3oSPOrRUvchas/FRBGt+wVVn53m/3HPktnmXxJWJSNoo+0DAU6wHMyH5LcY6A5CbEJ5j1cEFsVGld3dEraigyhFtmYJBRSU/sCse+cxO7koodRyLIVpvc7SWvFkJzl/NWzLQETV7SdlXEfOk20sT/1kUHc/t2PyteqRbCTwylDP1Vdkm3LCKMhaDsSz9yM0Vl6cAWUxJjmT7DOM05vb/G2NpMLo8blYB9ToW39YRBxTeAkSi8bjmtN8bYCkcrMlXg3xcPSM8lWuD0EOPECEh0mdMOyw6MlEJc414Uhc88CPKrORk5YJvumPu9xP+1jMdZY9ohTtBYUhfMU0/afHEjiWGdEuferuM4IhosaiaXyquUQI0iIjU6hb8vwvSdtGFNClVU9i1dpAWRJBDxUmJwS/RRv6UXBcSAIyv4lsf2Ic4EyNGO4SepNAUtMqdVeDKyFsaQQTATiOpOEOOXUE5eOCCTnwTAIm5KJKTSdZ5XNN2z9MrkbY2plbs0pkkil6RZSLGN2UtEoFmvdRTnw3LJI6mK/LehdeKB5i8HqH/nWEa8xhgi/pxwRAwuSHwJvqjpVU4P1hj4qcnCBQauWfC2pMGBnfvKSmiMmqQpfeESai/PkE3hFPWUryX/kThIaJxBj6JVVS2VrkRURbllGWWPV3yR8Azt3u2eUPowckdcby4H/vfSXstqFiyKJ9s7BkqiJ7nqxJ0+2kS5/J2ub02XtKUFjvx7LAW8lZEu+nRhppC1ZuZ/PSVtMYlmH8VJ5soI1vjcjmmnwBxrNFN0pXEtyOZtoahLKjtNmyZDU+YLJVK7qzqYCcuXLntdkpyG2PkLtQpZnTR7tVekj5UiKmYSJZe5h61JBLlJqKDlVWQ5/Nu5fEoXYg2jYJa5fNOnLMf8keJc1glDr1OgzBC3RkzPk0SEuisHrYvDQNZycQdrpISXmtPBLsX6gIdtayTvYYRTW3J7BGopF0ejHe1Ex7W5pHk534ihOCyGnXPE4H3EIQFQcrflUz63ILSuVMH01cf0dOJ29O+TobJaBDomzalqg5O7Q3tFUccYxb1JT1xNz7ag0shdHwyuDRkgz9WWebxoJioKVlV7K07okxAsHbKB8erM6LkMylVapkGSqnOTCMXrWegk9jzWy+PEHZLZMA1WyIjzZmTOB57SSFAANYg//g1CMKon0z8Mf4eAIkBsADb/yP+J+YksrkGUzejyMZeqsDcA3OA2NQ0ycPPQOFhGm7K3wYpG3qPI4INRRSrQqc/hTnBBAPKxeGAcXyFcYiJnKoWWWEpP6NhKK8aZG3voU/Gp52Jq0IESbFSo+k94p4pdH7K1S5UOEYFnWX6xY6EmkyHV3EEz0cJeo9f3z8+REMLtJwJtk23QtmBNn3yep6DW9zCM0Xy3AonCxa7aIL6P5DgguUF8QwTr5ReITMSn4p2PCQZSmeafsFah7L5GQ0lWv0vpoyDCDtShmkY0ylBE3alJBrd7RiUsrkkJvNrhdBNZKUYIVxrCQqCLLAwAewYRpTxblkwXvA+strkU4zdPGFKMfIvU6v/yUIdjnXq8RIkiwiy4y8zpdklwNYQBZbo0FUriCIkl6yEaCHr7HWJ4XbhC3P1YxZVYUYybQj2Pu09ur+5lZkCJaxOSlDGGd5Dkr3wfopvLYYz0ZEJ3yO/5FKfrvQsqP2bvcNBPs+xC2mVFwRjiN7w0EmZi/QxYXUQR+OsRXDih0vCiE1TQmI7jT5QSh0YwzMt0FntmVlGlCKd6odYPRvysNlgh2cer1LPWahmklrqOyiOGPkGC97DVURAp5gRKJjExUbsld2GMTC+gJ87Iq8kIKNwkKVyEg9EvYcR7kk3wIY/5M+b+Zt4W29YM4OCtI7ztHYSIWrCIK3TyZdLNxmi4FzW88iaD11RZpm7jyw06Z2vIt1aj5FDc0Ur1Z76yE7m/FakC1EkYyRLDiXLwQ9ksKDgxREIze3HS0bBJFct+HsZvTr05C0UXZNqfc0yZrts8vrU0SnIwIksSNbOnak37d8M1uLx1p3yKySQ0BXse0ZhMGpah/Cyye9bE7kMWu1Y8hi8vEbywSXLsfbE71zNvRJ5Wq5lIBG0J2tc2ywStxWJguHEayKYF+jYXHOdUppwIKPaFkVcjEhf8RH2bX9Zop3jPjIjk9volbNuC/SoiSiP70YVCqMiWgkPScSEEBpLIjZvGa/DXrhBFHEx6zduNIRL9nyN8leXuvJU1vDEFV5x7zaUUlWi/JPpolHpz+VG0GlgyTbmY4uoNTehheCdNoQeqYXLqftv8dUfWl7MP37DsU6fo9ex3HNNRNB0Z1XSE4w/GUD1LRUwUNBkDalGc2VTH0d2tb0YQnDsB0vEVn0JBUjxpXU1XPEwAB7oB8QjEFijNB/HtAFJyA5c+Uptz5E/bP8Ie1jWbrO0UttfRonlqwBHCrIqxeumUJgU4q/cHDa3v8lbyudPTx0RBxg/4CQA8BF4QH6vs0g1omPneIxYJgEoGTt3GP7t4WhvpL5+EvGijXSc9s6A2BvISmvl0b1xAMtGQxUm5FxNib61K2+6hiB5qDVYOKyMMeEU/F7nG4LsVS5SRbl4JOMtdbgMLLZENGSAVcBEQmYYSOv3PyJ+pbs1N2gbMCmJnCCzN4dStK6hhvY6Ha7DxcV2zNCRGVukjlGmlkh3a+Nppk/uGKc9GceUaQ1nXDyS0Wm3TCrOarNKUwNGbsiyz9ho6MoxjS8db5mQtmZIHfB2ga8eoGoiJcaNnP2R4/vA1BNuGQSK4cMVQti2uYUHGkzofXPG7q8NsdAkPtXK7ORfWyvb/NI5nEjpZSDOTUK8jIpw+ml7ypQwJ0umvJJREMsp7XNEQvl9gr4pFqcBVuxoyc4IEBB4gQQNuHagnPdeqLEeceCqEh5Lg97ZXvg3EIueMTy0wCqST3yCkyFBVJHNTc5GBRrrz5W+14L3VWyHPwly77odLJCGDNO7NLuqJilBSFgyhbRlxKjxsDXGyiUMHSYIVRcgrQKvQr4bhgOcAjLLBYAG+iAyqlWgwQlshfRyBCiEgQoFO86GtPriI1ENrLKaPIG7i2y3avdkp2FDkSofdGq7Gz985JysK+L9WSAkKv/4NQjCqZhO25rguOs18X3xwu5Y7CvxmuYpNaQ6fZNjSXp8rIO5Pl4BP/btnBISMqDWXQquFbs7+brkhEeueqg7X/RaRiwGkPeOmMnAPz3DOBhhQKLEporKyJUnD+A4+2E9C+x7Q41B0tlk5QIBXUG+hgE6cTQBeah1yid4rUZ4liJw7VmppCKvmXGVbh2Q9ciQ+gixDpghV8poDiEia60vocUYgHI+6J1TC5aPRDAGWeMJQYmAm2htjiJ33eX7WrrMtWkSabiWQ4458TgymaRgsX26+sjXZwgDAYmq9Tbn2VunQGiP/iCCGjHaYe9kW2HK632dVlRESGJZrPUjJpzDR1qVhsqLrY1pjtd3a0NArMHNG/CMgLMr1AoMbNbVQ98EOatbJY7EvHnS2fjKWE9Fm1y3gFQ0c1tt8BCL54XcJMUq0p8Yudzpk6lasjQxgTAP7pp9niVwajXmiwcpomTxG5nyIRQqtrI2tIuuVUkbUecPu+vG1s6UMvzkiAAcIZOQUvcd6VUeO/YRtW4wn1eGocnryKcJM7k5kWcPpxl+aQVYivTLJZFiaithzYIFqY01Ize6x8xu3X9Sgan+yj/hdvVNKXMi5F0/d4E5xbCOuESFaLVSFAQicxvfrbK2uCQp8qdDwMEfNz4gQCJ8RhBP0A9kXjoaCPaL8sPNoNCZgLNXUqUXK01RdoOJTlpQiqnRMsn7qaKs3DVnp59pjTPi568XoQofnAU9qA0nJT/EBM9xInjK7VEALwQ001AtYJdLnqgfkzfz0ZmOUv6AUAWA7igxK77d4bKFVRyLn/HLBUhXyn5Nx5dQifMY1C4+J3vkLyFFk0b5YnA18W2WurUuWglr7iJwIEOHwNCguhjc92tFzW//CnPRp5I1fN4Sao5q2gEtou1x9snQrdtDS3ZtmJ07Uqw/SVxs3OBXejCWeMXxfNVX2hxI1RV3O5A2+iV9wEh1NytU2AUH23OXh0Mla6d6t1OrHUqLnQZ/kyqVtwmSdU7JtLnk+Li5PAsZNFwVJrGwN8/1iVdLvuRM7MFEqF46wUKzC9bGORBNSqDpofF9rHYTHxXzHDA2YlgJc65VhRsi34s1B+3Ch+OLF2bsbLq6huiWzb7LzC8HWzwqZZiY45z1YxQpZPqK7nnN6Y1Ir6ltqxxf3IZ+kyb3JUrJz4il7bItQovHFmOUAgZH96E6FXf4+52wP9oTxcXLgtmLdnS9wrzMTxdIXsCt4jXiP3EJPvxup8RWQhVcRvd5BRtnxwYz4FrZbDZPnBoQi/qsI3H1Zhd1v7QNqvxolHuCwyBPGl/sFb7ciOspO0Hi9EUU43tq+pJBI+Z4CAk+G7lzyDKKij3jfUftETeppxiU9Tv4u9BM+JJTDIig7O2vO+MSricUeaRjBzZdls5fpQCts1zripiwPF6Z5UiyNVyFBauuZL1qwJGJBXBW3V/AICOtMQ13G1V2vmmufa27mnnu3G5HrQkcMLxjIq9gnveEXqby26QzMPhppZOI5Kn9KB4NBKz7Qmm/5Bu6Y1GpmfvceQ1j5aw1XIkIMTepfrqs9J2kI0zldjLWy7xMiWZ3TjW7LOgi7WRdQufmMvotCZmbXKLSz83ARGsVtS1BfikTOLlBD/CWjhChf6dHNXeZGJ0er++DokEN4I01b9UM7Y0vGTpTQBWSQZfIrtv20OoGofNl1JM6eJ21e5lTH9dv64pTOEWJaOvLUVd96hN2VxmvCxxtaAU6r2vPl0Q3wpTtlJ7N47Q7pNMNyReSYPrvr16xIsQ+qcyUxbaSQPDxv1YTz+GrKM9ZgzHmN5/maEFpYQ+gZkeOxw4PoJr35qkXToxtiWG+VSUNSpyimk9Lyltjm/6BY7hIogH0iJWqMJxKmd54Keb5giGFXt/Y7xMULUV6PGW4yQmISCZCWPfeDKA3Ox9c8TAq+hvz3UMFRfXjrU7K3Qw2nj9tmB1VwtGaXG65VP3K5vTJkPOnmNlMLgXdXSz0ayvyhYkrknT/sXTVS/ZPvhYrY+qPFNG43h2Bobtp+cVE3oWKZt6gKpjextgdYsKUnxBiOBx3tykLvTMYuZMiKhnaLDQp2on+6Orw2o1bZ7X/xTbk/kx8y1AJ8uVIayyevGOS3Tv/+DUIwqqRTO4n8c/2aflg+yf8mv+l5iaFsipjr2uxcY2FIZmAn940qodwkyl0EEVcdNPAIo+vHYQyS3+HXVkmL3Wi+/SX3DqPyY5FctuUKgy2coQiYNMpY3ZCV6qrsdt0GG5fQhc0SvAxGFcpKyhQzE1+Vfy+nBiAnYk3xV8yLRX5d92SzP08eISzCZuUcId1U+4iyHSwdk5qeHqYpkkY0RmCFqHV+zip9Oq1WM0lG1D0GTdGnm9XM8E01Bcd1F0FVuxoXcgfMP2YFkYWaL4v89Zb18k79OMyhCWyZzXvBPENd5Ykc1daS8d+BItx+upyuCkZCKLTcmD+zD2g68bYrAiHvYGN8hYowj3o8m2htGO4p88GoSZaYZ/udW5comRquyEm9luDPVqNdyLhuFeIOjz2f29T5f++K7JgdELMFeXwFT3dUTyF5ZS+/O1ubttPeuxCdH5LNfK8Vb5nupsnw/ufiZZzab9jW/1i0fHP9drqZ9j+CPYqxolzJOzL3/f6umQUttATuiPpSb0lL9j+KRmgiVJUSo2wS+2fLfNEmGrLdZujMf3/sn+iqrSIIseQuMHfIgi9pg0nwySkxZ+rmBJhf8hHimvXVnaEi5QydFTx6O63UU1efFs2oqUCea8MkVM4infltIWZJWytBQrOqYJMjsTe5C+S3oBDHl9ESY4qSIZeuKg2pGbsWTpLjfZDRx9k1mf2925hMLzQlUTXyzwaxUU59Ni39dM4AhThRWC0Xc2dwpwSQcepfrGjCj0N1NhD2MLbwMJIvXrVsGoJoXxen5kVZf3wkPoT1MUbgvIDkloK0bIuVrSEsH6g7NOXFfcjD1nBKHtBFukdBDcP3tjMc9EzU3Vqc67R0kLNQw2RfDe6YLv98LT5wjxFJgCEb06cn0G1FaIwoUQOSgicijwdlWyssbssBQyZUHdHLOw3oovnrB17ojU2BdYvQseAJuGP13g8vVg0llkoQwNF5xtnQUAS7XLsYXVgqvr+6yZlhNd096Jw5r88j0tQCAlcIfl18pVTsJqmiYVKK9ZwTbMDYy9VqItiZqJdX35nVgJGGbJcasKLlnVbNWtcnNzKL2jI+RYl2Zz+xOe0XiCH/iVGwlAT4zPFsJ7dGRyST/9AhGJ2uO5AW1IFiWku+trJ81PO6IJvuA7P2R3y0H2btXqvrBoLGvAymeU0dw2Cv0iF/dVbXyaS5Xayd9PpZOpty8jo+5mZJvBYlBMtBzBainxvgFWnWM7iXM9k2tO4fIKxLahaJEoy6JVlg2VnouzO2Es96JXJcSi3dywGIpG9whcpc+z8dha0hlxXx9x6URDg4z0jR5Ix5+hrhh26OeQWkN8SfkHybeC1hAEOEbM270tEkBOLzclieVf3hz+baMfZzX8FCQbckNQageVQ9ZQKATJQO5blS2lwI7vZbR8+l2QYsMaD4jzx0PRERbOSvMVI4CXSZsy7ey6LGoIIzR/wk8vpyEImNlPzU89ZEiF6Le7J3D6MNSPx8YrivyN5taseNfKe0OltLrXfvheKBpHX5O6AEC2h7iNzScFy5E5wCQLxF0ufX1TrLRVJKVspGqxZkPNBCbB9T4wt1sPiAp64R7B2/8u9BsAO4NTYgKiFoBscezevoiER0u6KVM5SDwmd1qOfZeEahaI9YlXyTg20Lffia+R/JrA0CvBFrprGzRqklJ+STKkpIT1NGqRfT3ibVwE4TFeEKEgDkkeWC3Tz3u1CnxaeDoqHLEGtREVqctgoFPaV8vZuJsMsgAU6lxBRApeRPgpZp8S0McNvR2IqzrkRwUNaWVk4/zcb8MHgtzDvW2qBckPr0sp2ByZUUvRTG0sarOAheQls4H4MlrDYO7hEaXoYMQ7e7OVSl5TeD8v+KKZOTtyxwlQvKLGaWv6eR61QrbqXJkI2jJ2YVXulcFappRL7Kryt0cpNnqIyCBufC0zX3B1VzzefcsgoRScyCHikqNg0qB4Ebb8x5JbCVqC9FqTykqXyf2ks0V8EjzhMPCqdY2pB4aqmD2UOxX7RKGk20ZVxdrrutgVhPlo43FQjEyktv+h2FMuJg8shLWmapI87woJijkR7oZbUp7X8m2ci0FASXEqipXs3wsdNEBf7LrQaeWmdHoO5AJkC//g1CMKrlkzgw+Nm6b3wUPa3+pz/GeYlIbxMNm/9oEHvAOC9w575PpKDTC3itBS2sO0f7hhDD2niJoXzVCzkXoqgTaROIuUhEytpsUZNYN+yTzMpqTA+0lspYHVjsRgE+N3QhyIYCNqULU3JZYc0xgoLNhZFcsq2CCUbzUdpXK7EPlPTf2aPoz1WQ4oV73JbMCUsmNgarLwXoUFi9aFbo7jSekQxS4BpRqlWa7Fto00bhBPTrpiNZkCGZfXdGHRCTxG7WJds/HTl5aKb/jTs359EsAu3rG4ZlWLrOJxzPMJX28trAICSdCE5JOJ5DGjcDf7CstGsQhxuV1NkkC9EGFmBNu8hRToyYNfF0XOofg9B2lbW227Fr1RInEiZ2I9vKtp536S2XQ5Wxk9B4Gb2WzNqcQ3AFGTacKGh0X7LVGAbRGAVwyAyAQ8HQ7ZFSfChw8QtUBcxdiq1kJkVlLwhtlH1jZd1pWEfHYaqMv/aOAzQWfnr+IydtXjWQRVCgjFMXKjLfErpl3Oruh+pigjCPiudTAKmaJ+N+gMDVhlK6bpiEE9a5kejYpi34xcpG+NcLU2raKu6YstlT8IoFyFDGkJDIGwJCsGip/BiZBV/f49h4Jr+QrxlcVs2Hmwhpxv0FnfH1Pj9ZwtZVxPSg2mv8ci/XPTIcXIYBPUU1FYIGsl2GqCDVblRKaLgyErnpRP/wd8X76GCPoPzaOE5ZaC0HXQT2i8hEl3yq3cdP/0kany0qPU5GKoc6x+nrSZLjF+SUtMEdMshy/9oqkz06mOrFKh6imEQn8imJfLP0LjUKSiGAv8OLGKAzItyn5HNRnYF5o+QvDA+eLlNjy5QoUXG6p3TepiI91M5p5ApUaE4LFAiNxNuEFXQtl1x6jztRip347EEN+S1+E95hPozSVlxp3kHLKhMGoDYJM7WmEw9RXxKyA8I2EwgXOTzOWhSKur+Em1j32lZ8lv6RiURbPs39aWIfAW1TeScJjdPmEsgkqtJW7qkfgQcvD3m2UxO1ChkcLMDPd+eV1126MbsamV7nJg8mnZBR4rXtvMsT0vg/zHCWNzF4pXvSzs+b93mDIghwnLk1K+u6+VdTqYll8rTyWgE8gn6z81IX6tslLCkLgDBRaxP9lPP2xn1zt26xXQg5KCzGRRWE0dCCXeFCajjlMyLMdOtdSaEIuMUt9iJy6vKQwVJGj0QJYfm0DR5Hs9AihExXF5W1Q2kQ1JZs7uBJip+Vt+hYReuTIuk2UL9brMcqJLNpBXBAfKiQyz/7aIYXyX3pyVhqdAq7rlWIlJPljhk78aGaZnUSRuIYKNZzoYMelPDXbwI5DieMk4WzbEIX2oTpiCV5SfUzle0lXJt4wPW5h0ppWOvva2sLER2IB4UOEnCAIcWhIFHXYhUI0Xk4j+qPJkYLHqlIRtDEzF1HpgaJ3YhT15hxqZYerNpXdNhtieqruPbJIoyDYoKb+8kzgCxo3517i2v0rllxlkPkkUtOIgjJE6fpHkMEEoTKfZKLsEAvypU1h0dhybIf3KPgngXrhk9kvZil8DKgZtplGRKUCvQb+2x7FcSaD10/4UoUNMvbddOUhx3y/u0iSv//E0rrcEvT+RbC6R6O3RaPRbQBBloSASQ6CGojFXRhi34ouwgn8uSxbegR49S1gtNkeTj2yB20AV5AmkYy3K7k+WCRQhiAdnmJjue3XRhmz5XPhry+R7EANFziVO3jmjOX21x3xakbTw8+i/RwVkGLTRe0+MQX06JbLuBNlN3UbgjWkhaYx/80zpS9faCD2uzHXi1PEi9q4pbR6nXhhZN8nJfILjPR7rz1KeQrun93jWZ7QvJ2xXLUhSmSgwMlAGGsz4qiEyGu0/FDO5x0yK7wULwJMpflLPgrS0sHLyRi3lqhtu3C3UczU0RWaDcuP/4NQjCrINO/SX9YP25/kb+rv7k/tP+weYpdaK+eutxWV+826OV/myI88SHVLwYjkHKVGhi3ypMDGn+dx0AwzY9SyJYV90b94jZ6B2PWjOCG0TsQ8MoEMRJhO5moj5WKvTRfkQy6RB1T2MuiPeUS8q5RdP4QZcDdvbPosKiJTpOLfM4EMSP9taqqShePE/JNpkV64XVXRF6M6hwMJgqXS9l466JFEWo6G6KVAV8Avp19Zpbr3A5UW/KdBU49VWjXW/3NP1iIOPWSAS6mhbp8QqMlJki0AtmoSXWCieDV5z4PmkYP8o8ZjNynScxNOsrxAn403LApLYepIJLeZOUZqTMMTBPoKqZCsRhfajk/f2Me/OO7b3hFwJOQ5u1FIGa7HnNljcQpTpmSHMtVpV1qMJWo2RXK8piirlFKsSllIvX0KzKLqMXxb5EM9cOsbkiZuxLLsh19D3rn1CfVT5dMM+5T+uwTXjpCF/vj8Rdm1HSkm02FW4LlLcmLiKGQ0yw73R7E9hq8WAr4YrE7F4eZHaW7RtWqKmK1SDc+jWpNeW1JWptMJWc0qZwrDM1ImZI0Cp5srWvKFuqeoEgeFoJtORLHtKKZLha1okxOogAD3QAFNAQyClxuwHpGJgDFQRMdiJnIJhZd/0MmQxPUwRodVCykY4lSKrJOYvSrJJ17gp+ToiVmikHAolQZVLcWLFrqMDThAEhdg6Ju44/rkg7q3Rycq95XJzhhhn+fl57Z0tdqZ7G3RoNRGd6+zbJFZGmmuyok8yERe8ovXkPe0ReyN80LwqLYWcu+QfGrxiKlSF/oqYlolweSf90/oy97OfcfHOJrjFpN2kHQBFBMwTSRjb0RIN4KNPxgttgQEpU6PY7Y2lUJdB9JfuApLYiXzzy1viJZanYrCSDc5Ij61gL2GIVrRaaqYaVT/i3RyMbq8N0smLCDKJ5ZByOrHiWmNJvOpoNv3y4QrhcEhqw1gVs44OxYeugXaYkhZiucvWmgjiKfzG2lbKBifbhe+1pRI96vb/UuXsFPsVSKx1WrbdXz9ZuiEOU5WVVz6TNQ6S9oy23pPBDBbKPLKZsRR5f1IixVIeOsS+VE+1YD9AuOQg4LoGTEGC+gpcJB87CtkZgSHWpHmSlibnToIvBoyJRhIhQMV6P/AlVkhQdOXj2zNyScGKVVfBgQLA9nxIKecDril3RQUQ82l0JHEPpKJ2xHbEMFDTcvqv8XIy/VYa1i63nWVCS3ZhKcWsAQcNK88L+A1tnL+iFQ2YoeJ1glUUzcjCBn9MDzAwG4vFOdIsPlqHQ0XkexmpA6ldzWVspRHhxTzvRksclipmOZIIFlQWNZeNM1SuW2zOEKGyNUhRKdJELeCuXxNYRsQO8SasET/iL4KmArZqR/S2QGSkyI4NOEH6Vv+Qk1Ks1v2gjlKSxgtkS4EFo0po/2YRkKJgw8Jqxd1snlG9CokeP1PEYNRHjKNaSfguhICtyTUmQshb8DPiRMJFYMtnbJ5qLwnlPKSlGfPNb+sUmnVt1gnBAUxlQurQwJfZdLNlrkobLYAcZ3KEioy4znmXC/Tem8wIIPpfyzQTG+ZGiKb6ff00qzW+Ue0tlPBOqYkI9lQqZASDDf8jqWNjGnTEYXn8CVsB5zQWKdFRqqrAnEFbwVGbRVSp6XgYgfgBSk41aE8rTI8KBCdos11zLzkY0X4KBTNBLx7e0uwD7eWbeZTnI1+JVBEpFDo+daeCq88EgesbrKCOUDLZqKqSxvRmN6R3ZDQCStKX+Mwp/KW0Y69Zl0ny1SipVKZqn1D10keEjTcn3A2QxMsLLxJYiw51jwhDZRW997JjLaKsl4rLbzaRhQQDgbd1xtbH8vE3EypN//OlDgdgNjxQrtBO1McTukHvprStEnD5mxK5MZGaLVSQtyXLIpjopLCM4SSz6/DXSGfyzN+UQz3V00o+BazOuHHHAl2wM856o9OLjo/7Kwe1yO6XkFZAYOshCIrVbra8dMhu6cDRPXGhxHb5g7IUckFsd2JKyChAdRPMKoPBgOFWiS7Zogr9FypoO0Iq4//h1CMKtAr+KTgcyDc0UixldHUsfyR/pH2fmKDOoQHvPVlmJXQDCuv8ZASu0vuBB9iEefVOb9L3mBEhixZ0YiuS+45eyE/QKeOg2rh1hbCq4Gyx/x+rGdFCdbt1XurwE3m3LWQZ2NWk/kkqxMRodtNNjmDcig0f5QPwRnis4z+vFKo/zu5G7rNCMl080pDSnT7lXBCdFyzE9TUzYNZL0tcqQ+yMhwXkBGcIDz9eS5bvTZat5eEoUTZpD1Pik5iFO3Bscx5IT6kpG3NZjKOYmisxW22dCia11KUjBL8XFDRUlBa5rN1xSX9xVKKczjFKwjpfiB2aVg2uAWctsQ+qvLsN3uL32fBtoI4coKkiccu68lWACZFtEHr9L2bZ0njFAypuik2Iwef+pIjHokl5n5XFKyWj77Xyq65XP+q16sJcLE0+xd6kFHzOdTQ7KXsFlU5jVSM6+LxdK0FvEow42AwnJSm0AKrpZjmWME7W7CMivFLEGPgB2dnsfwsqzD7oy1Vlbsky+y0pJuEn6C6McWIEcrLuM2qSt2bKDjZMCCbhgYxXcrMkCwCQsj7if0WYx/qh9rc9eq/L6s5nk9uGoCi9Wsf1F+1cnebp+wPh8AV8u3yLKwr2xyhOCxk4HTmc63Zqfjfio+RYt3qgEzd7TN8ErrVtv2+tpz56o5mr0NeDZM3++8OGWR67JiuzBGYSjiFrWZj/b3+k150CLwJ8ztaXxXDMeevO4LAblvRDxwpJm/1asHJ+Y2bnXRfUtt44qQUBcxqwr2VDUUkbpnxIZmrcosL6R7eHozzl7qd6NZ2L/+yK15mOkHT0s3qnvyLZNfofcCsRgxbSPWu4ddySmgVbb+z3ssqaMUtRnCcHpo4+iUqJWR1zMbGzuFUHnRrYnfY0kdVYyvWcOIHBIVL2xsPdqxAuhLj4xKdufFgYgxuOV43+ggWKXAoPwBjrHGV25QCVMoWHbr86z+FS+3TehZyCnufvFiSWtIeCl2XsGhkv5T066gs5cSg92x5hlwoNpn2/rTetyqdnQvpzYkdJxyTjVH3uWAeF0JRg1m/lQ8K9hEfLl6lGYe/bqZ11eJd9r2jCk3ELx4L/0Q4d3Knkx8AsuzZ+c7hlt/cQVTFNPHUFaPjStLsPcMtpSinqhXBvuSbKriAoP+4g1gDdbuofVf8oOx4eiJALd288PIzVPnCHnQEUFKCczeRGfi3F818xb8itsQgiZepIGV2s+cX2sQTOjJ0aHcTsIiyt14MljZTq++nJp2DFBUEdQWk5mznKKdWzHA+2LaqF+U7/p/WfssChz\" type=\"audio/flac\" />\n",
              "                    Your browser does not support the audio element.\n",
              "                </audio>\n",
              "              "
            ]
          },
          "metadata": {}
        }
      ]
    },
    {
      "cell_type": "markdown",
      "source": [
        "We will visualize thet features extracted for this example in a later section."
      ],
      "metadata": {
        "id": "aQ5X1z6CAZtR"
      }
    },
    {
      "cell_type": "markdown",
      "source": [
        "In the next section we will import AST and then automate the above process for each datapoint in our dataset, feed them to AST to generate features"
      ],
      "metadata": {
        "id": "WkuK-GbAIHZH"
      }
    },
    {
      "cell_type": "markdown",
      "source": [
        "Self Note: We may need to loop the audio files to get it to be a certain length. But we will run a trial run without it first.\n"
      ],
      "metadata": {
        "id": "SmDbdNAB2T6h"
      }
    },
    {
      "cell_type": "markdown",
      "source": [
        "# Section 2 : Importing AST"
      ],
      "metadata": {
        "id": "x79Fu85JdFgA"
      }
    },
    {
      "cell_type": "code",
      "source": [
        "#more imports\n",
        "\n",
        "import sys\n",
        "if 'google.colab' in sys.modules:\n",
        "    print('Running in Colab.')\n",
        "    !git clone https://github.com/YuanGongND/ast\n",
        "    sys.path.append('./ast')\n",
        "%cd /content/ast/\n",
        "\n",
        "! pip install timm==0.4.5\n",
        "! pip install wget\n",
        "import os, csv, argparse, wget\n",
        "os.environ['TORCH_HOME'] = '/content/ast/pretrained_models'\n",
        "if os.path.exists('/content/ast/pretrained_models') == False:\n",
        "  os.mkdir('/content/ast/pretrained_models')\n",
        "import timm\n",
        "from torch.cuda.amp import autocast\n",
        "import IPython"
      ],
      "metadata": {
        "colab": {
          "base_uri": "https://localhost:8080/"
        },
        "collapsed": true,
        "id": "FxH_w1M8bm5Q",
        "outputId": "e4e90d5f-9ded-4447-fb15-aa73b8bb87df"
      },
      "execution_count": null,
      "outputs": [
        {
          "output_type": "stream",
          "name": "stdout",
          "text": [
            "Running in Colab.\n",
            "Cloning into 'ast'...\n",
            "remote: Enumerating objects: 649, done.\u001b[K\n",
            "remote: Counting objects: 100% (209/209), done.\u001b[K\n",
            "remote: Compressing objects: 100% (50/50), done.\u001b[K\n",
            "remote: Total 649 (delta 172), reused 159 (delta 159), pack-reused 440 (from 1)\u001b[K\n",
            "Receiving objects: 100% (649/649), 2.41 MiB | 27.08 MiB/s, done.\n",
            "Resolving deltas: 100% (360/360), done.\n",
            "/content/ast\n",
            "Collecting timm==0.4.5\n",
            "  Downloading timm-0.4.5-py3-none-any.whl.metadata (24 kB)\n",
            "Requirement already satisfied: torch>=1.4 in /usr/local/lib/python3.10/dist-packages (from timm==0.4.5) (2.4.0+cu121)\n",
            "Requirement already satisfied: torchvision in /usr/local/lib/python3.10/dist-packages (from timm==0.4.5) (0.19.0+cu121)\n",
            "Requirement already satisfied: filelock in /usr/local/lib/python3.10/dist-packages (from torch>=1.4->timm==0.4.5) (3.15.4)\n",
            "Requirement already satisfied: typing-extensions>=4.8.0 in /usr/local/lib/python3.10/dist-packages (from torch>=1.4->timm==0.4.5) (4.12.2)\n",
            "Requirement already satisfied: sympy in /usr/local/lib/python3.10/dist-packages (from torch>=1.4->timm==0.4.5) (1.13.2)\n",
            "Requirement already satisfied: networkx in /usr/local/lib/python3.10/dist-packages (from torch>=1.4->timm==0.4.5) (3.3)\n",
            "Requirement already satisfied: jinja2 in /usr/local/lib/python3.10/dist-packages (from torch>=1.4->timm==0.4.5) (3.1.4)\n",
            "Requirement already satisfied: fsspec in /usr/local/lib/python3.10/dist-packages (from torch>=1.4->timm==0.4.5) (2024.6.1)\n",
            "Requirement already satisfied: numpy in /usr/local/lib/python3.10/dist-packages (from torchvision->timm==0.4.5) (1.26.4)\n",
            "Requirement already satisfied: pillow!=8.3.*,>=5.3.0 in /usr/local/lib/python3.10/dist-packages (from torchvision->timm==0.4.5) (9.4.0)\n",
            "Requirement already satisfied: MarkupSafe>=2.0 in /usr/local/lib/python3.10/dist-packages (from jinja2->torch>=1.4->timm==0.4.5) (2.1.5)\n",
            "Requirement already satisfied: mpmath<1.4,>=1.1.0 in /usr/local/lib/python3.10/dist-packages (from sympy->torch>=1.4->timm==0.4.5) (1.3.0)\n",
            "Downloading timm-0.4.5-py3-none-any.whl (287 kB)\n",
            "\u001b[2K   \u001b[90m━━━━━━━━━━━━━━━━━━━━━━━━━━━━━━━━━━━━━━━━\u001b[0m \u001b[32m287.4/287.4 kB\u001b[0m \u001b[31m6.6 MB/s\u001b[0m eta \u001b[36m0:00:00\u001b[0m\n",
            "\u001b[?25hInstalling collected packages: timm\n",
            "Successfully installed timm-0.4.5\n",
            "Collecting wget\n",
            "  Downloading wget-3.2.zip (10 kB)\n",
            "  Preparing metadata (setup.py) ... \u001b[?25l\u001b[?25hdone\n",
            "Building wheels for collected packages: wget\n",
            "  Building wheel for wget (setup.py) ... \u001b[?25l\u001b[?25hdone\n",
            "  Created wheel for wget: filename=wget-3.2-py3-none-any.whl size=9656 sha256=63dfec8c1db7940a0479c8aab5b685e20ef2168a4a5e702bbff292d8effff73f\n",
            "  Stored in directory: /root/.cache/pip/wheels/8b/f1/7f/5c94f0a7a505ca1c81cd1d9208ae2064675d97582078e6c769\n",
            "Successfully built wget\n",
            "Installing collected packages: wget\n",
            "Successfully installed wget-3.2\n"
          ]
        }
      ]
    },
    {
      "cell_type": "markdown",
      "source": [
        "Create AST model and load AudioSet pretrained weights."
      ],
      "metadata": {
        "id": "8PjBm6t7fKQd"
      }
    },
    {
      "cell_type": "code",
      "source": [
        "from src.models import ASTModel\n",
        "\n",
        "# Create a new class that inherits the original ASTModel class\n",
        "class ASTModelVis(ASTModel):\n",
        "    def get_att_map(self, block, x):\n",
        "        qkv = block.attn.qkv\n",
        "        num_heads = block.attn.num_heads\n",
        "        scale = block.attn.scale\n",
        "        B, N, C = x.shape\n",
        "        qkv = qkv(x).reshape(B, N, 3, num_heads, C // num_heads).permute(2, 0, 3, 1, 4)\n",
        "        q, k, v = qkv[0], qkv[1], qkv[2]  # make torchscript happy (cannot use tensor as tuple)\n",
        "        attn = (q @ k.transpose(-2, -1)) * scale\n",
        "        attn = attn.softmax(dim=-1)\n",
        "        return attn\n",
        "\n",
        "    def forward_visualization(self, x):\n",
        "        # expect input x = (batch_size, time_frame_num, frequency_bins), e.g., (12, 1024, 128)\n",
        "        x = x.unsqueeze(1)\n",
        "        x = x.transpose(2, 3)\n",
        "\n",
        "        B = x.shape[0]\n",
        "        x = self.v.patch_embed(x)\n",
        "        cls_tokens = self.v.cls_token.expand(B, -1, -1)\n",
        "        dist_token = self.v.dist_token.expand(B, -1, -1)\n",
        "        x = torch.cat((cls_tokens, dist_token, x), dim=1)\n",
        "        x = x + self.v.pos_embed\n",
        "        x = self.v.pos_drop(x)\n",
        "        # save the attention map of each of 12 Transformer layer\n",
        "        att_list = []\n",
        "        for blk in self.v.blocks:\n",
        "            cur_att = self.get_att_map(blk, x)\n",
        "            att_list.append(cur_att)\n",
        "            x = blk(x)\n",
        "        return att_list\n",
        "\n",
        "def make_features(wav_name, mel_bins, target_length=1024):\n",
        "    waveform, sr = torchaudio.load(wav_name)\n",
        "    assert sr == 16000, 'input audio sampling rate must be 16kHz'\n",
        "\n",
        "    fbank = torchaudio.compliance.kaldi.fbank(\n",
        "        waveform, htk_compat=True, sample_frequency=sr, use_energy=False,\n",
        "        window_type='hanning', num_mel_bins=mel_bins, dither=0.0, frame_shift=10)\n",
        "\n",
        "    n_frames = fbank.shape[0]\n",
        "\n",
        "    p = target_length - n_frames\n",
        "    if p > 0:\n",
        "        m = torch.nn.ZeroPad2d((0, 0, 0, p))\n",
        "        fbank = m(fbank)\n",
        "    elif p < 0:\n",
        "        fbank = fbank[0:target_length, :]\n",
        "\n",
        "    fbank = (fbank - (-4.2677393)) / (4.5689974 * 2)\n",
        "    return fbank\n",
        "\n",
        "#REMOVING SINCE WE WILL NOT USE THEIR LABELS\n",
        "#def load_label(label_csv):\n",
        "    #with open(label_csv, 'r') as f:\n",
        "        #reader = csv.reader(f, delimiter=',')\n",
        "        #lines = list(reader)\n",
        "    #labels = []\n",
        "    #ids = []  ## Each label has a unique id such as \"/m/068hy\"\n",
        "    #for i1 in range(1, len(lines)):\n",
        "        #id = lines[i1][1]\n",
        "        #label = lines[i1][2]\n",
        "        #ids.append(id)\n",
        "        #labels.append(label)\n",
        "    #return labels\n",
        "\n",
        "# Create an AST model and download the AudioSet pretrained weights\n",
        "audioset_mdl_url = 'https://www.dropbox.com/s/cv4knew8mvbrnvq/audioset_0.4593.pth?dl=1'\n",
        "if os.path.exists('/content/ast/pretrained_models/audio_mdl.pth') == False:\n",
        "  wget.download(audioset_mdl_url, out='/content/ast/pretrained_models/audio_mdl.pth')\n",
        "\n",
        "# Assume each input spectrogram has 1024 time frames\n",
        "input_tdim = 1024\n",
        "checkpoint_path = '/content/ast/pretrained_models/audio_mdl.pth'\n",
        "# now load the visualization model\n",
        "ast_mdl = ASTModelVis(label_dim=527, input_tdim=input_tdim, imagenet_pretrain=False, audioset_pretrain=False)\n",
        "print(f'[*INFO] load checkpoint: {checkpoint_path}')\n",
        "checkpoint = torch.load(checkpoint_path, map_location='cuda')\n",
        "audio_model = torch.nn.DataParallel(ast_mdl, device_ids=[0])\n",
        "audio_model.load_state_dict(checkpoint)\n",
        "audio_model = audio_model.to(torch.device(\"cuda:0\"))\n",
        "audio_model.eval()\n",
        "\n",
        "#REMOVING SINCE WE WILL NOT USE THEIR LABELS\n",
        "## Load the AudioSet label set\n",
        "#label_csv = '/content/ast/egs/audioset/data/class_labels_indices.csv'       ## label and indices for audioset data\n",
        "#labels = load_label(label_csv)"
      ],
      "metadata": {
        "colab": {
          "base_uri": "https://localhost:8080/"
        },
        "collapsed": true,
        "id": "hTeePyVfd1A3",
        "outputId": "3bd08bd4-9850-49a3-8939-42011350da61"
      },
      "execution_count": null,
      "outputs": [
        {
          "output_type": "stream",
          "name": "stderr",
          "text": [
            "/content/ast/src/models/ast_models.py:164: FutureWarning: `torch.cuda.amp.autocast(args...)` is deprecated. Please use `torch.amp.autocast('cuda', args...)` instead.\n",
            "  @autocast()\n"
          ]
        },
        {
          "output_type": "stream",
          "name": "stdout",
          "text": [
            "---------------AST Model Summary---------------\n",
            "ImageNet pretraining: False, AudioSet pretraining: False\n",
            "frequncey stride=10, time stride=10\n",
            "number of patches=1212\n",
            "[*INFO] load checkpoint: /content/ast/pretrained_models/audio_mdl.pth\n"
          ]
        },
        {
          "output_type": "stream",
          "name": "stderr",
          "text": [
            "<ipython-input-26-451c6cb809a9>:81: FutureWarning: You are using `torch.load` with `weights_only=False` (the current default value), which uses the default pickle module implicitly. It is possible to construct malicious pickle data which will execute arbitrary code during unpickling (See https://github.com/pytorch/pytorch/blob/main/SECURITY.md#untrusted-models for more details). In a future release, the default value for `weights_only` will be flipped to `True`. This limits the functions that could be executed during unpickling. Arbitrary objects will no longer be allowed to be loaded via this mode unless they are explicitly allowlisted by the user via `torch.serialization.add_safe_globals`. We recommend you start setting `weights_only=True` for any use case where you don't have full control of the loaded file. Please open an issue on GitHub for any issues related to this experimental feature.\n",
            "  checkpoint = torch.load(checkpoint_path, map_location='cuda')\n"
          ]
        },
        {
          "output_type": "execute_result",
          "data": {
            "text/plain": [
              "DataParallel(\n",
              "  (module): ASTModelVis(\n",
              "    (v): DistilledVisionTransformer(\n",
              "      (patch_embed): PatchEmbed(\n",
              "        (proj): Conv2d(1, 768, kernel_size=(16, 16), stride=(10, 10))\n",
              "      )\n",
              "      (pos_drop): Dropout(p=0.0, inplace=False)\n",
              "      (blocks): ModuleList(\n",
              "        (0-11): 12 x Block(\n",
              "          (norm1): LayerNorm((768,), eps=1e-06, elementwise_affine=True)\n",
              "          (attn): Attention(\n",
              "            (qkv): Linear(in_features=768, out_features=2304, bias=True)\n",
              "            (attn_drop): Dropout(p=0.0, inplace=False)\n",
              "            (proj): Linear(in_features=768, out_features=768, bias=True)\n",
              "            (proj_drop): Dropout(p=0.0, inplace=False)\n",
              "          )\n",
              "          (drop_path): Identity()\n",
              "          (norm2): LayerNorm((768,), eps=1e-06, elementwise_affine=True)\n",
              "          (mlp): Mlp(\n",
              "            (fc1): Linear(in_features=768, out_features=3072, bias=True)\n",
              "            (act): GELU(approximate='none')\n",
              "            (fc2): Linear(in_features=3072, out_features=768, bias=True)\n",
              "            (drop): Dropout(p=0.0, inplace=False)\n",
              "          )\n",
              "        )\n",
              "      )\n",
              "      (norm): LayerNorm((768,), eps=1e-06, elementwise_affine=True)\n",
              "      (pre_logits): Identity()\n",
              "      (head): Linear(in_features=768, out_features=1000, bias=True)\n",
              "      (head_dist): Linear(in_features=768, out_features=1000, bias=True)\n",
              "    )\n",
              "    (mlp_head): Sequential(\n",
              "      (0): LayerNorm((768,), eps=1e-05, elementwise_affine=True)\n",
              "      (1): Linear(in_features=768, out_features=527, bias=True)\n",
              "    )\n",
              "  )\n",
              ")"
            ]
          },
          "metadata": {},
          "execution_count": 26
        }
      ]
    },
    {
      "cell_type": "markdown",
      "source": [
        "Here we experiment with feature extraction using AST for the example we picked in the previous section"
      ],
      "metadata": {
        "id": "jLuisJtTjo2S"
      }
    },
    {
      "cell_type": "code",
      "source": [
        "# Use the make_features function to build spectrograoms and then perform some initial feature extraction process on it\n",
        "feats1 = make_features('/content/output_looped1.flac', mel_bins=128)\n",
        "\n",
        "feats1_data = feats1.expand(1, input_tdim, 128)           # reshape the feature\n",
        "feats1_data = feats1_data.to(torch.device(\"cuda:0\"))\n",
        "\n",
        "with torch.no_grad():\n",
        "  with autocast():\n",
        "    att_list1 = audio_model.module.forward_visualization(feats1_data)\n",
        "#REWRITE THE FOLLOWING TO NOT PRINT, BUT OUTPUT THE FEATURES IN THE DESIRED FORMAT\n",
        "#print(att_list[11])\n"
      ],
      "metadata": {
        "collapsed": true,
        "id": "QFTdraYEjoSg",
        "outputId": "4f22099a-77dd-48d6-930a-bda6d41f8637",
        "colab": {
          "base_uri": "https://localhost:8080/"
        }
      },
      "execution_count": null,
      "outputs": [
        {
          "output_type": "stream",
          "name": "stderr",
          "text": [
            "<ipython-input-27-a29ff1143657>:8: FutureWarning: `torch.cuda.amp.autocast(args...)` is deprecated. Please use `torch.amp.autocast('cuda', args...)` instead.\n",
            "  with autocast():\n"
          ]
        }
      ]
    },
    {
      "cell_type": "code",
      "source": [
        "# Tempporary Cell\n",
        "print(feats1.shape)"
      ],
      "metadata": {
        "id": "y_IVl3zmGYuu",
        "colab": {
          "base_uri": "https://localhost:8080/"
        },
        "outputId": "4cd4c2ef-7413-48eb-d50f-06b4a55189ad"
      },
      "execution_count": null,
      "outputs": [
        {
          "output_type": "stream",
          "name": "stdout",
          "text": [
            "torch.Size([1024, 128])\n"
          ]
        }
      ]
    },
    {
      "cell_type": "markdown",
      "source": [
        "## Visualize the features generated by the example"
      ],
      "metadata": {
        "id": "G3RYk2VUKfz3"
      }
    },
    {
      "cell_type": "code",
      "source": [
        "# Visualize the initial features that were extracted.\n",
        "\n",
        "# Create a heatmap\n",
        "plt.imshow(feats1, cmap='viridis', interpolation='nearest')\n",
        "\n",
        "# Add a colorbar to show the scale\n",
        "plt.colorbar()\n",
        "\n",
        "# Add labels and title if desired\n",
        "plt.title('Heatmap of Features')\n",
        "plt.xlabel('X-axis')\n",
        "plt.ylabel('Y-axis')\n",
        "\n",
        "# Show the plot\n",
        "plt.show()"
      ],
      "metadata": {
        "id": "7pHjS1nrGifa",
        "colab": {
          "base_uri": "https://localhost:8080/",
          "height": 472
        },
        "outputId": "d5a832d9-8dc5-46a7-cf69-e259c59c8652"
      },
      "execution_count": null,
      "outputs": [
        {
          "output_type": "display_data",
          "data": {
            "text/plain": [
              "<Figure size 640x480 with 2 Axes>"
            ],
            "image/png": "[encoded data removed]"
          },
          "metadata": {}
        }
      ]
    },
    {
      "cell_type": "code",
      "source": [
        "# Here at att_list is built to hold the results of further layers. And they are visualized as heat maps\n",
        "\n",
        "with torch.no_grad():\n",
        "  with autocast():\n",
        "    att_list1 = audio_model.module.forward_visualization(feats1_data)\n",
        "for i in range(len(att_list1)):\n",
        "  att_list1[i] = att_list1[i].data.cpu().numpy()\n",
        "  att_list1[i] = np.mean(att_list1[i][0], axis=0)\n",
        "  att_list1[i] = np.mean(att_list1[i][0:2], axis=0)\n",
        "  att_list1[i] = att_list1[i][2:].reshape(12, 101)\n",
        "  plt.imshow(att_list1[i], origin='lower')\n",
        "  plt.title('Mean Attention Map of Layer #{:d}'.format(i))\n",
        "  plt.show()\n",
        "  plt.close()"
      ],
      "metadata": {
        "id": "rhSTbtBtIkEi",
        "colab": {
          "base_uri": "https://localhost:8080/",
          "height": 1000
        },
        "outputId": "7a54938a-9a7a-4946-e138-1086816cd83b"
      },
      "execution_count": null,
      "outputs": [
        {
          "output_type": "stream",
          "name": "stderr",
          "text": [
            "<ipython-input-30-2f47c2be0b2b>:4: FutureWarning: `torch.cuda.amp.autocast(args...)` is deprecated. Please use `torch.amp.autocast('cuda', args...)` instead.\n",
            "  with autocast():\n"
          ]
        },
        {
          "output_type": "display_data",
          "data": {
            "text/plain": [
              "<Figure size 640x480 with 1 Axes>"
            ],
            "image/png": "[encoded data removed]"
          },
          "metadata": {}
        },
        {
          "output_type": "display_data",
          "data": {
            "text/plain": [
              "<Figure size 640x480 with 1 Axes>"
            ],
            "image/png": "[encoded data removed]"
          },
          "metadata": {}
        },
        {
          "output_type": "display_data",
          "data": {
            "text/plain": [
              "<Figure size 640x480 with 1 Axes>"
            ],
            "image/png": "[encoded data removed]"
          },
          "metadata": {}
        },
        {
          "output_type": "display_data",
          "data": {
            "text/plain": [
              "<Figure size 640x480 with 1 Axes>"
            ],
            "image/png": "[encoded data removed]"
          },
          "metadata": {}
        },
        {
          "output_type": "display_data",
          "data": {
            "text/plain": [
              "<Figure size 640x480 with 1 Axes>"
            ],
            "image/png": "[encoded data removed]"
          },
          "metadata": {}
        },
        {
          "output_type": "display_data",
          "data": {
            "text/plain": [
              "<Figure size 640x480 with 1 Axes>"
            ],
            "image/png": "[encoded data removed]"
          },
          "metadata": {}
        },
        {
          "output_type": "display_data",
          "data": {
            "text/plain": [
              "<Figure size 640x480 with 1 Axes>"
            ],
            "image/png": "[encoded data removed]"
          },
          "metadata": {}
        },
        {
          "output_type": "display_data",
          "data": {
            "text/plain": [
              "<Figure size 640x480 with 1 Axes>"
            ],
            "image/png": "[encoded data removed]"
          },
          "metadata": {}
        },
        {
          "output_type": "display_data",
          "data": {
            "text/plain": [
              "<Figure size 640x480 with 1 Axes>"
            ],
            "image/png": "[encoded data removed]"
          },
          "metadata": {}
        },
        {
          "output_type": "display_data",
          "data": {
            "text/plain": [
              "<Figure size 640x480 with 1 Axes>"
            ],
            "image/png": "[encoded data removed]"
          },
          "metadata": {}
        },
        {
          "output_type": "display_data",
          "data": {
            "text/plain": [
              "<Figure size 640x480 with 1 Axes>"
            ],
            "image/png": "[encoded data removed]"
          },
          "metadata": {}
        },
        {
          "output_type": "display_data",
          "data": {
            "text/plain": [
              "<Figure size 640x480 with 1 Axes>"
            ],
            "image/png": "[encoded data removed]"
          },
          "metadata": {}
        }
      ]
    },
    {
      "cell_type": "markdown",
      "source": [
        "Here we try the same visualization for a different example after looping the audio"
      ],
      "metadata": {
        "id": "gG5bqwi0IURC"
      }
    },
    {
      "cell_type": "markdown",
      "source": [
        "# Step 3 : Extracting Features for All the Data Points corresponding to Participant 01\n",
        "\n"
      ],
      "metadata": {
        "id": "EauW39sY4nax"
      }
    },
    {
      "cell_type": "code",
      "source": [
        "# these were run earlier\n",
        "# datadir = Path('/content/data/wav')\n",
        "# import torchaudio.transforms as T\n",
        "# target_sample_rate = 16000  # Target sample rate of 16 kHz\n",
        "\n",
        "#feats_list = [] # feature list 0 # Check if this should gather feats_data instead\n",
        "feats_2_list = [] # feature list 1\n",
        "Att1_list = [] # feature list 2 ###\n",
        "Att5_list = [] # feature list 3 ###\n",
        "Att3_list = [] # feature list 4 ###\n",
        "\n",
        "for filename in train_P01.Filename:\n",
        "  waveform, sample_rate = torchaudio.load(datadir / filename)\n",
        "  #resample\n",
        "  resampler = T.Resample(orig_freq=sample_rate, new_freq=target_sample_rate)\n",
        "  resampled_waveform = resampler(waveform) # Apply the resampler\n",
        "  #loop\n",
        "  l = len(resampled_waveform[0]) #take the length of the waveform\n",
        "  multiplier = math.ceil(200000 / l) #create a multiplier\n",
        "  tensors_list = [resampled_waveform] * multiplier  # Create a list of the tensor repeated num_repeats times\n",
        "  looped_waveform = torch.cat(tensors_list, dim=1) # Concatenate them along the new dimension\n",
        "  #Slice\n",
        "  end_index = 200000 #the length that fit the input format for AST\n",
        "  trimmed_tensor0 = looped_waveform[0][:end_index] #cutting off the tail\n",
        "  trimmed_tensor = torch.tensor(trimmed_tensor0)\n",
        "  trimmed_looped_waveform = trimmed_tensor.unsqueeze(0)\n",
        "  #Save flac file\n",
        "  torchaudio.save('output_looped.flac', trimmed_looped_waveform, target_sample_rate)\n",
        "  #new_wav , new_sam = torchaudio.load('output_looped.flac') #not needed\n",
        "\n",
        "  # use AST model to make features. Make sure the cell containing the model has been run\n",
        "  feats = make_features('output_looped.flac', mel_bins=128)\n",
        "\n",
        "  feats_data = feats.expand(1, input_tdim, 128)           # reshape the feature\n",
        "  feats_data = feats_data.to(torch.device(\"cuda:0\"))\n",
        "\n",
        "  #make the att_list that contains the results of later layers 1 through 11. We may choose any of these as our features\n",
        "  with torch.no_grad():\n",
        "    with autocast():\n",
        "      att_list = audio_model.module.forward_visualization(feats_data)\n",
        "  for i in range(len(att_list)):\n",
        "    att_list[i] = att_list[i].data.cpu().numpy()\n",
        "    att_list[i] = np.mean(att_list[i][0], axis=0)\n",
        "    att_list[i] = np.mean(att_list[i][0:2], axis=0)\n",
        "    att_list[i] = att_list[i][2:].reshape(12, 101)\n",
        "\n",
        "  att_list1 = torch.from_numpy(att_list[1]) #reshape to get a tensor\n",
        "  att_list5 = torch.from_numpy(att_list[5]) #reshape to get a tensor\n",
        "  att_list3 = torch.from_numpy(att_list[3]) #reshape to get a tensor\n",
        "\n",
        "  #turn the feats tensor into 1 dimensional arrays in two different ways\n",
        "  #feats_mean_axis1 = feats.mean(dim=1) #Averaging across the shorter direction so we get a 1024 long array instead of 1024 by 128 tensor\n",
        "  feats_mean_axis0 = feats.mean(dim=0)\n",
        "  att_list1_flat = torch.flatten(att_list1) #att_list[1] is two dimensional. here we concatenate rows to get a one dimensional array of length 1212\n",
        "  att_list5_flat = torch.flatten(att_list5) #same as above\n",
        "  att_list3_flat = torch.flatten(att_list3) #same as above\n",
        "\n",
        "  #gather the features into previously made lists\n",
        "  #feats_list.append(feats_mean_axis1)\n",
        "  feats_2_list.append(feats_mean_axis0)\n",
        "  Att1_list.append(att_list1_flat) ###\n",
        "  Att5_list.append(att_list5_flat) ###\n",
        "  Att3_list.append(att_list3_flat) ###\n",
        "\n",
        "#X = torch.stack(feats_list).detach()\n",
        "X_trainP1_1 = torch.stack(feats_2_list).detach()\n",
        "X_trainP1_2 = torch.stack(Att1_list).detach() ###\n",
        "X_trainP1_3 = torch.stack(Att5_list).detach() ###\n",
        "X_trainP1_4 = torch.stack(Att3_list).detach() ###\n",
        "\n",
        "labels = train_P01.Label.unique()\n",
        "y_trainP1 = torch.zeros(len(train_P01), dtype=torch.int)\n",
        "for idx, label in enumerate(labels):\n",
        "    y_trainP1[(train_P01.Label == label).values] = idx\n",
        "print(X_trainP1_1.shape, y_trainP1.shape)\n"
      ],
      "metadata": {
        "id": "0aM1zpTC4tvG",
        "colab": {
          "base_uri": "https://localhost:8080/"
        },
        "outputId": "98e09b8d-a2d3-4eb0-e838-dcc4040e458c"
      },
      "execution_count": null,
      "outputs": [
        {
          "output_type": "stream",
          "name": "stderr",
          "text": [
            "<ipython-input-35-5afe00603ec4>:25: UserWarning: To copy construct from a tensor, it is recommended to use sourceTensor.clone().detach() or sourceTensor.clone().detach().requires_grad_(True), rather than torch.tensor(sourceTensor).\n",
            "  trimmed_tensor = torch.tensor(trimmed_tensor0)\n",
            "<ipython-input-35-5afe00603ec4>:39: FutureWarning: `torch.cuda.amp.autocast(args...)` is deprecated. Please use `torch.amp.autocast('cuda', args...)` instead.\n",
            "  with autocast():\n"
          ]
        },
        {
          "output_type": "stream",
          "name": "stdout",
          "text": [
            "torch.Size([1287, 128]) torch.Size([1287])\n"
          ]
        }
      ]
    },
    {
      "cell_type": "code",
      "source": [
        "print(X_trainP1_2.shape, X_trainP1_3.shape, X_trainP1_4.shape)"
      ],
      "metadata": {
        "id": "JdXixcsQUFnB",
        "colab": {
          "base_uri": "https://localhost:8080/"
        },
        "outputId": "57d877a2-5314-460a-e0e9-07e318e14120"
      },
      "execution_count": null,
      "outputs": [
        {
          "output_type": "stream",
          "name": "stdout",
          "text": [
            "torch.Size([1287, 1212]) torch.Size([1287, 1212]) torch.Size([1287, 1212])\n"
          ]
        }
      ]
    },
    {
      "cell_type": "code",
      "source": [
        "from google.colab import files\n",
        "\n",
        "# Save the tensor to a file\n",
        "torch.save(X_trainP1_1, 'X_trainP1_1.pt')\n",
        "# Download the file\n",
        "files.download('X_trainP1_1.pt')\n",
        "\n",
        "torch.save(X_trainP1_2, 'X_trainP1_2.pt')\n",
        "files.download('X_trainP1_2.pt')\n",
        "\n",
        "torch.save(X_trainP1_3, 'X_trainP1_3.pt')\n",
        "files.download('X_trainP1_3.pt')\n",
        "\n",
        "torch.save(X_trainP1_4, 'X_trainP1_4.pt')\n",
        "files.download('X_trainP1_4.pt')\n",
        "\n",
        "torch.save(y_trainP1, 'y_trainP1.pt')\n",
        "files.download('y_trainP1.pt')\n"
      ],
      "metadata": {
        "id": "j7LRY0nir5dq",
        "outputId": "d0f0e0bd-9054-4dbb-e0c6-f441b4b42d0e",
        "colab": {
          "base_uri": "https://localhost:8080/",
          "height": 17
        }
      },
      "execution_count": null,
      "outputs": [
        {
          "output_type": "display_data",
          "data": {
            "text/plain": [
              "<IPython.core.display.Javascript object>"
            ],
            "application/javascript": [
              "\n",
              "    async function download(id, filename, size) {\n",
              "      if (!google.colab.kernel.accessAllowed) {\n",
              "        return;\n",
              "      }\n",
              "      const div = document.createElement('div');\n",
              "      const label = document.createElement('label');\n",
              "      label.textContent = `Downloading \"${filename}\": `;\n",
              "      div.appendChild(label);\n",
              "      const progress = document.createElement('progress');\n",
              "      progress.max = size;\n",
              "      div.appendChild(progress);\n",
              "      document.body.appendChild(div);\n",
              "\n",
              "      const buffers = [];\n",
              "      let downloaded = 0;\n",
              "\n",
              "      const channel = await google.colab.kernel.comms.open(id);\n",
              "      // Send a message to notify the kernel that we're ready.\n",
              "      channel.send({})\n",
              "\n",
              "      for await (const message of channel.messages) {\n",
              "        // Send a message to notify the kernel that we're ready.\n",
              "        channel.send({})\n",
              "        if (message.buffers) {\n",
              "          for (const buffer of message.buffers) {\n",
              "            buffers.push(buffer);\n",
              "            downloaded += buffer.byteLength;\n",
              "            progress.value = downloaded;\n",
              "          }\n",
              "        }\n",
              "      }\n",
              "      const blob = new Blob(buffers, {type: 'application/binary'});\n",
              "      const a = document.createElement('a');\n",
              "      a.href = window.URL.createObjectURL(blob);\n",
              "      a.download = filename;\n",
              "      div.appendChild(a);\n",
              "      a.click();\n",
              "      div.remove();\n",
              "    }\n",
              "  "
            ]
          },
          "metadata": {}
        },
        {
          "output_type": "display_data",
          "data": {
            "text/plain": [
              "<IPython.core.display.Javascript object>"
            ],
            "application/javascript": [
              "download(\"download_2699ad52-937c-419d-9368-4fc6231fe35c\", \"X_trainP1_2.pt\", 6240560)"
            ]
          },
          "metadata": {}
        },
        {
          "output_type": "display_data",
          "data": {
            "text/plain": [
              "<IPython.core.display.Javascript object>"
            ],
            "application/javascript": [
              "\n",
              "    async function download(id, filename, size) {\n",
              "      if (!google.colab.kernel.accessAllowed) {\n",
              "        return;\n",
              "      }\n",
              "      const div = document.createElement('div');\n",
              "      const label = document.createElement('label');\n",
              "      label.textContent = `Downloading \"${filename}\": `;\n",
              "      div.appendChild(label);\n",
              "      const progress = document.createElement('progress');\n",
              "      progress.max = size;\n",
              "      div.appendChild(progress);\n",
              "      document.body.appendChild(div);\n",
              "\n",
              "      const buffers = [];\n",
              "      let downloaded = 0;\n",
              "\n",
              "      const channel = await google.colab.kernel.comms.open(id);\n",
              "      // Send a message to notify the kernel that we're ready.\n",
              "      channel.send({})\n",
              "\n",
              "      for await (const message of channel.messages) {\n",
              "        // Send a message to notify the kernel that we're ready.\n",
              "        channel.send({})\n",
              "        if (message.buffers) {\n",
              "          for (const buffer of message.buffers) {\n",
              "            buffers.push(buffer);\n",
              "            downloaded += buffer.byteLength;\n",
              "            progress.value = downloaded;\n",
              "          }\n",
              "        }\n",
              "      }\n",
              "      const blob = new Blob(buffers, {type: 'application/binary'});\n",
              "      const a = document.createElement('a');\n",
              "      a.href = window.URL.createObjectURL(blob);\n",
              "      a.download = filename;\n",
              "      div.appendChild(a);\n",
              "      a.click();\n",
              "      div.remove();\n",
              "    }\n",
              "  "
            ]
          },
          "metadata": {}
        },
        {
          "output_type": "display_data",
          "data": {
            "text/plain": [
              "<IPython.core.display.Javascript object>"
            ],
            "application/javascript": [
              "download(\"download_320fd00f-36a7-447f-b7f6-16a6cd9dcdc9\", \"X_trainP1_3.pt\", 6240560)"
            ]
          },
          "metadata": {}
        },
        {
          "output_type": "display_data",
          "data": {
            "text/plain": [
              "<IPython.core.display.Javascript object>"
            ],
            "application/javascript": [
              "\n",
              "    async function download(id, filename, size) {\n",
              "      if (!google.colab.kernel.accessAllowed) {\n",
              "        return;\n",
              "      }\n",
              "      const div = document.createElement('div');\n",
              "      const label = document.createElement('label');\n",
              "      label.textContent = `Downloading \"${filename}\": `;\n",
              "      div.appendChild(label);\n",
              "      const progress = document.createElement('progress');\n",
              "      progress.max = size;\n",
              "      div.appendChild(progress);\n",
              "      document.body.appendChild(div);\n",
              "\n",
              "      const buffers = [];\n",
              "      let downloaded = 0;\n",
              "\n",
              "      const channel = await google.colab.kernel.comms.open(id);\n",
              "      // Send a message to notify the kernel that we're ready.\n",
              "      channel.send({})\n",
              "\n",
              "      for await (const message of channel.messages) {\n",
              "        // Send a message to notify the kernel that we're ready.\n",
              "        channel.send({})\n",
              "        if (message.buffers) {\n",
              "          for (const buffer of message.buffers) {\n",
              "            buffers.push(buffer);\n",
              "            downloaded += buffer.byteLength;\n",
              "            progress.value = downloaded;\n",
              "          }\n",
              "        }\n",
              "      }\n",
              "      const blob = new Blob(buffers, {type: 'application/binary'});\n",
              "      const a = document.createElement('a');\n",
              "      a.href = window.URL.createObjectURL(blob);\n",
              "      a.download = filename;\n",
              "      div.appendChild(a);\n",
              "      a.click();\n",
              "      div.remove();\n",
              "    }\n",
              "  "
            ]
          },
          "metadata": {}
        },
        {
          "output_type": "display_data",
          "data": {
            "text/plain": [
              "<IPython.core.display.Javascript object>"
            ],
            "application/javascript": [
              "download(\"download_1c008f9e-74de-4328-9dbf-7ce259a28dab\", \"X_trainP1_4.pt\", 6240560)"
            ]
          },
          "metadata": {}
        },
        {
          "output_type": "display_data",
          "data": {
            "text/plain": [
              "<IPython.core.display.Javascript object>"
            ],
            "application/javascript": [
              "\n",
              "    async function download(id, filename, size) {\n",
              "      if (!google.colab.kernel.accessAllowed) {\n",
              "        return;\n",
              "      }\n",
              "      const div = document.createElement('div');\n",
              "      const label = document.createElement('label');\n",
              "      label.textContent = `Downloading \"${filename}\": `;\n",
              "      div.appendChild(label);\n",
              "      const progress = document.createElement('progress');\n",
              "      progress.max = size;\n",
              "      div.appendChild(progress);\n",
              "      document.body.appendChild(div);\n",
              "\n",
              "      const buffers = [];\n",
              "      let downloaded = 0;\n",
              "\n",
              "      const channel = await google.colab.kernel.comms.open(id);\n",
              "      // Send a message to notify the kernel that we're ready.\n",
              "      channel.send({})\n",
              "\n",
              "      for await (const message of channel.messages) {\n",
              "        // Send a message to notify the kernel that we're ready.\n",
              "        channel.send({})\n",
              "        if (message.buffers) {\n",
              "          for (const buffer of message.buffers) {\n",
              "            buffers.push(buffer);\n",
              "            downloaded += buffer.byteLength;\n",
              "            progress.value = downloaded;\n",
              "          }\n",
              "        }\n",
              "      }\n",
              "      const blob = new Blob(buffers, {type: 'application/binary'});\n",
              "      const a = document.createElement('a');\n",
              "      a.href = window.URL.createObjectURL(blob);\n",
              "      a.download = filename;\n",
              "      div.appendChild(a);\n",
              "      a.click();\n",
              "      div.remove();\n",
              "    }\n",
              "  "
            ]
          },
          "metadata": {}
        },
        {
          "output_type": "display_data",
          "data": {
            "text/plain": [
              "<IPython.core.display.Javascript object>"
            ],
            "application/javascript": [
              "download(\"download_9aece317-e650-4def-99f5-e0e4149c2db9\", \"y_trainP1.pt\", 6310)"
            ]
          },
          "metadata": {}
        }
      ]
    },
    {
      "cell_type": "code",
      "source": [
        "# these were run earlier\n",
        "# datadir = Path('/content/data/wav')\n",
        "# import torchaudio.transforms as T\n",
        "# target_sample_rate = 16000  # Target sample rate of 16 kHz\n",
        "\n",
        "#feats_list = [] # feature list 0 # Check if this should gather feats_data instead\n",
        "feats_2_list = [] # feature list 1\n",
        "Att1_list = [] # feature list 2 ###\n",
        "Att5_list = [] # feature list 3 ###\n",
        "Att3_list = [] # feature list 4 ###\n",
        "\n",
        "for filename in test_P01.Filename:\n",
        "  waveform, sample_rate = torchaudio.load(datadir / filename)\n",
        "  #resample\n",
        "  resampler = T.Resample(orig_freq=sample_rate, new_freq=target_sample_rate)\n",
        "  resampled_waveform = resampler(waveform) # Apply the resampler\n",
        "  #loop\n",
        "  l = len(resampled_waveform[0]) #take the length of the waveform\n",
        "  multiplier = math.ceil(200000 / l) #create a multiplier\n",
        "  tensors_list = [resampled_waveform] * multiplier  # Create a list of the tensor repeated num_repeats times\n",
        "  looped_waveform = torch.cat(tensors_list, dim=1) # Concatenate them along the new dimension\n",
        "  #Slice\n",
        "  end_index = 200000 #the length that fit the input format for AST\n",
        "  trimmed_tensor0 = looped_waveform[0][:end_index] #cutting off the tail\n",
        "  trimmed_tensor = torch.tensor(trimmed_tensor0)\n",
        "  trimmed_looped_waveform = trimmed_tensor.unsqueeze(0)\n",
        "  #Save flac file\n",
        "  torchaudio.save('output_looped.flac', trimmed_looped_waveform, target_sample_rate)\n",
        "  #new_wav , new_sam = torchaudio.load('output_looped.flac') #not needed\n",
        "\n",
        "  # use AST model to make features. Make sure the cell containing the model has been run\n",
        "  feats = make_features('output_looped.flac', mel_bins=128)\n",
        "\n",
        "  feats_data = feats.expand(1, input_tdim, 128)           # reshape the feature\n",
        "  feats_data = feats_data.to(torch.device(\"cuda:0\"))\n",
        "\n",
        "  #make the att_list that contains the results of later layers 1 through 11. We may choose any of these as our features\n",
        "  with torch.no_grad():\n",
        "    with autocast():\n",
        "      att_list = audio_model.module.forward_visualization(feats_data)\n",
        "  for i in range(len(att_list)):\n",
        "    att_list[i] = att_list[i].data.cpu().numpy()\n",
        "    att_list[i] = np.mean(att_list[i][0], axis=0)\n",
        "    att_list[i] = np.mean(att_list[i][0:2], axis=0)\n",
        "    att_list[i] = att_list[i][2:].reshape(12, 101)\n",
        "\n",
        "  att_list1 = torch.from_numpy(att_list[1]) #reshape to get a tensor\n",
        "  att_list5 = torch.from_numpy(att_list[5]) #reshape to get a tensor\n",
        "  att_list3 = torch.from_numpy(att_list[3]) #reshape to get a tensor\n",
        "\n",
        "  #turn the feats tensor into 1 dimensional arrays in two different ways\n",
        "  #feats_mean_axis1 = feats.mean(dim=1) #Averaging across the shorter direction so we get a 1024 long array instead of 1024 by 128 tensor\n",
        "  feats_mean_axis0 = feats.mean(dim=0)\n",
        "  att_list1_flat = torch.flatten(att_list1) #att_list[1] is two dimensional. here we concatenate rows to get a one dimensional array of length 1212\n",
        "  att_list5_flat = torch.flatten(att_list5) #same as above\n",
        "  att_list3_flat = torch.flatten(att_list3) #same as above\n",
        "\n",
        "  #gather the features into previously made lists\n",
        "  #feats_list.append(feats_mean_axis1)\n",
        "  feats_2_list.append(feats_mean_axis0)\n",
        "  Att1_list.append(att_list1_flat) ###\n",
        "  Att5_list.append(att_list5_flat) ###\n",
        "  Att3_list.append(att_list3_flat) ###\n",
        "\n",
        "#X = torch.stack(feats_list).detach()\n",
        "X_testP1_1 = torch.stack(feats_2_list).detach()\n",
        "X_testP1_2 = torch.stack(Att1_list).detach() ###\n",
        "X_testP1_3 = torch.stack(Att5_list).detach() ###\n",
        "X_testP1_4 = torch.stack(Att3_list).detach() ###\n",
        "\n",
        "labels = test_P01.Label.unique()\n",
        "y_testP1 = torch.zeros(len(test_P01), dtype=torch.int)\n",
        "for idx, label in enumerate(labels):\n",
        "    y_testP1[(test_P01.Label == label).values] = idx\n",
        "print(X_testP1_1.shape, y_testP1.shape)\n",
        "\n",
        "## A later part of this cell gave an error which part I copied to the next cell and ran again."
      ],
      "metadata": {
        "colab": {
          "base_uri": "https://localhost:8080/",
          "height": 439
        },
        "id": "f-sADnGHR75t",
        "outputId": "7801c753-e572-4ff0-8572-33c3a7f4225e"
      },
      "execution_count": null,
      "outputs": [
        {
          "output_type": "stream",
          "name": "stderr",
          "text": [
            "<ipython-input-39-df419e36bc0e>:25: UserWarning: To copy construct from a tensor, it is recommended to use sourceTensor.clone().detach() or sourceTensor.clone().detach().requires_grad_(True), rather than torch.tensor(sourceTensor).\n",
            "  trimmed_tensor = torch.tensor(trimmed_tensor0)\n",
            "<ipython-input-39-df419e36bc0e>:39: FutureWarning: `torch.cuda.amp.autocast(args...)` is deprecated. Please use `torch.amp.autocast('cuda', args...)` instead.\n",
            "  with autocast():\n"
          ]
        },
        {
          "output_type": "stream",
          "name": "stdout",
          "text": [
            "torch.Size([382, 128]) torch.Size([382])\n"
          ]
        },
        {
          "output_type": "error",
          "ename": "FileNotFoundError",
          "evalue": "Cannot find file: X_testP1_2.pt",
          "traceback": [
            "\u001b[0;31m---------------------------------------------------------------------------\u001b[0m",
            "\u001b[0;31mFileNotFoundError\u001b[0m                         Traceback (most recent call last)",
            "\u001b[0;32m<ipython-input-39-df419e36bc0e>\u001b[0m in \u001b[0;36m<cell line: 79>\u001b[0;34m()\u001b[0m\n\u001b[1;32m     77\u001b[0m \u001b[0;31m#Save the Tensors\u001b[0m\u001b[0;34m\u001b[0m\u001b[0;34m\u001b[0m\u001b[0m\n\u001b[1;32m     78\u001b[0m \u001b[0mtorch\u001b[0m\u001b[0;34m.\u001b[0m\u001b[0msave\u001b[0m\u001b[0;34m(\u001b[0m\u001b[0mX_testP1_1\u001b[0m\u001b[0;34m,\u001b[0m \u001b[0;34m'X_testP1_1.pt'\u001b[0m\u001b[0;34m)\u001b[0m\u001b[0;34m\u001b[0m\u001b[0;34m\u001b[0m\u001b[0m\n\u001b[0;32m---> 79\u001b[0;31m \u001b[0mfiles\u001b[0m\u001b[0;34m.\u001b[0m\u001b[0mdownload\u001b[0m\u001b[0;34m(\u001b[0m\u001b[0;34m'X_testP1_2.pt'\u001b[0m\u001b[0;34m)\u001b[0m\u001b[0;34m\u001b[0m\u001b[0;34m\u001b[0m\u001b[0m\n\u001b[0m\u001b[1;32m     80\u001b[0m \u001b[0;34m\u001b[0m\u001b[0m\n\u001b[1;32m     81\u001b[0m \u001b[0mtorch\u001b[0m\u001b[0;34m.\u001b[0m\u001b[0msave\u001b[0m\u001b[0;34m(\u001b[0m\u001b[0mX_testP1_2\u001b[0m\u001b[0;34m,\u001b[0m \u001b[0;34m'X_testP1_2.pt'\u001b[0m\u001b[0;34m)\u001b[0m\u001b[0;34m\u001b[0m\u001b[0;34m\u001b[0m\u001b[0m\n",
            "\u001b[0;32m/usr/local/lib/python3.10/dist-packages/google/colab/files.py\u001b[0m in \u001b[0;36mdownload\u001b[0;34m(filename)\u001b[0m\n\u001b[1;32m    223\u001b[0m   \u001b[0;32mif\u001b[0m \u001b[0;32mnot\u001b[0m \u001b[0m_os\u001b[0m\u001b[0;34m.\u001b[0m\u001b[0mpath\u001b[0m\u001b[0;34m.\u001b[0m\u001b[0mexists\u001b[0m\u001b[0;34m(\u001b[0m\u001b[0mfilename\u001b[0m\u001b[0;34m)\u001b[0m\u001b[0;34m:\u001b[0m\u001b[0;34m\u001b[0m\u001b[0;34m\u001b[0m\u001b[0m\n\u001b[1;32m    224\u001b[0m     \u001b[0mmsg\u001b[0m \u001b[0;34m=\u001b[0m \u001b[0;34m'Cannot find file: {}'\u001b[0m\u001b[0;34m.\u001b[0m\u001b[0mformat\u001b[0m\u001b[0;34m(\u001b[0m\u001b[0mfilename\u001b[0m\u001b[0;34m)\u001b[0m\u001b[0;34m\u001b[0m\u001b[0;34m\u001b[0m\u001b[0m\n\u001b[0;32m--> 225\u001b[0;31m     \u001b[0;32mraise\u001b[0m \u001b[0mFileNotFoundError\u001b[0m\u001b[0;34m(\u001b[0m\u001b[0mmsg\u001b[0m\u001b[0;34m)\u001b[0m  \u001b[0;31m# pylint: disable=undefined-variable\u001b[0m\u001b[0;34m\u001b[0m\u001b[0;34m\u001b[0m\u001b[0m\n\u001b[0m\u001b[1;32m    226\u001b[0m \u001b[0;34m\u001b[0m\u001b[0m\n\u001b[1;32m    227\u001b[0m   \u001b[0mcomm_manager\u001b[0m \u001b[0;34m=\u001b[0m \u001b[0m_IPython\u001b[0m\u001b[0;34m.\u001b[0m\u001b[0mget_ipython\u001b[0m\u001b[0;34m(\u001b[0m\u001b[0;34m)\u001b[0m\u001b[0;34m.\u001b[0m\u001b[0mkernel\u001b[0m\u001b[0;34m.\u001b[0m\u001b[0mcomm_manager\u001b[0m\u001b[0;34m\u001b[0m\u001b[0;34m\u001b[0m\u001b[0m\n",
            "\u001b[0;31mFileNotFoundError\u001b[0m: Cannot find file: X_testP1_2.pt"
          ]
        }
      ]
    },
    {
      "cell_type": "code",
      "source": [
        "print(X_testP1_2.shape, X_testP1_3.shape, X_testP1_4.shape)"
      ],
      "metadata": {
        "colab": {
          "base_uri": "https://localhost:8080/"
        },
        "id": "1Ur2ufJgSU1D",
        "outputId": "67912739-f3d5-4481-b3dd-cba5d0bfb188"
      },
      "execution_count": null,
      "outputs": [
        {
          "output_type": "stream",
          "name": "stdout",
          "text": [
            "torch.Size([382, 1212]) torch.Size([382, 1212]) torch.Size([382, 1212])\n"
          ]
        }
      ]
    },
    {
      "cell_type": "code",
      "source": [
        "#Save the Tensors\n",
        "torch.save(X_testP1_1, 'X_testP1_1.pt')\n",
        "files.download('X_testP1_1.pt')\n",
        "\n",
        "torch.save(X_testP1_2, 'X_testP1_2.pt')\n",
        "files.download('X_testP1_2.pt')\n",
        "\n",
        "torch.save(X_testP1_3, 'X_testP1_3.pt')\n",
        "files.download('X_testP1_3.pt')\n",
        "\n",
        "torch.save(X_testP1_4, 'X_testP1_4.pt')\n",
        "files.download('X_testP1_4.pt')\n",
        "\n",
        "torch.save(y_testP1, 'y_testP1.pt')\n",
        "files.download('y_testP1.pt')\n"
      ],
      "metadata": {
        "colab": {
          "base_uri": "https://localhost:8080/",
          "height": 17
        },
        "id": "TKjQsA_gSdT6",
        "outputId": "454d59c5-cd7a-44bc-e95e-c81857ff56d8"
      },
      "execution_count": null,
      "outputs": [
        {
          "output_type": "display_data",
          "data": {
            "text/plain": [
              "<IPython.core.display.Javascript object>"
            ],
            "application/javascript": [
              "\n",
              "    async function download(id, filename, size) {\n",
              "      if (!google.colab.kernel.accessAllowed) {\n",
              "        return;\n",
              "      }\n",
              "      const div = document.createElement('div');\n",
              "      const label = document.createElement('label');\n",
              "      label.textContent = `Downloading \"${filename}\": `;\n",
              "      div.appendChild(label);\n",
              "      const progress = document.createElement('progress');\n",
              "      progress.max = size;\n",
              "      div.appendChild(progress);\n",
              "      document.body.appendChild(div);\n",
              "\n",
              "      const buffers = [];\n",
              "      let downloaded = 0;\n",
              "\n",
              "      const channel = await google.colab.kernel.comms.open(id);\n",
              "      // Send a message to notify the kernel that we're ready.\n",
              "      channel.send({})\n",
              "\n",
              "      for await (const message of channel.messages) {\n",
              "        // Send a message to notify the kernel that we're ready.\n",
              "        channel.send({})\n",
              "        if (message.buffers) {\n",
              "          for (const buffer of message.buffers) {\n",
              "            buffers.push(buffer);\n",
              "            downloaded += buffer.byteLength;\n",
              "            progress.value = downloaded;\n",
              "          }\n",
              "        }\n",
              "      }\n",
              "      const blob = new Blob(buffers, {type: 'application/binary'});\n",
              "      const a = document.createElement('a');\n",
              "      a.href = window.URL.createObjectURL(blob);\n",
              "      a.download = filename;\n",
              "      div.appendChild(a);\n",
              "      a.click();\n",
              "      div.remove();\n",
              "    }\n",
              "  "
            ]
          },
          "metadata": {}
        },
        {
          "output_type": "display_data",
          "data": {
            "text/plain": [
              "<IPython.core.display.Javascript object>"
            ],
            "application/javascript": [
              "download(\"download_c401669c-c1b7-4c60-ab04-9e6b4211c93b\", \"X_testP1_1.pt\", 196779)"
            ]
          },
          "metadata": {}
        },
        {
          "output_type": "display_data",
          "data": {
            "text/plain": [
              "<IPython.core.display.Javascript object>"
            ],
            "application/javascript": [
              "\n",
              "    async function download(id, filename, size) {\n",
              "      if (!google.colab.kernel.accessAllowed) {\n",
              "        return;\n",
              "      }\n",
              "      const div = document.createElement('div');\n",
              "      const label = document.createElement('label');\n",
              "      label.textContent = `Downloading \"${filename}\": `;\n",
              "      div.appendChild(label);\n",
              "      const progress = document.createElement('progress');\n",
              "      progress.max = size;\n",
              "      div.appendChild(progress);\n",
              "      document.body.appendChild(div);\n",
              "\n",
              "      const buffers = [];\n",
              "      let downloaded = 0;\n",
              "\n",
              "      const channel = await google.colab.kernel.comms.open(id);\n",
              "      // Send a message to notify the kernel that we're ready.\n",
              "      channel.send({})\n",
              "\n",
              "      for await (const message of channel.messages) {\n",
              "        // Send a message to notify the kernel that we're ready.\n",
              "        channel.send({})\n",
              "        if (message.buffers) {\n",
              "          for (const buffer of message.buffers) {\n",
              "            buffers.push(buffer);\n",
              "            downloaded += buffer.byteLength;\n",
              "            progress.value = downloaded;\n",
              "          }\n",
              "        }\n",
              "      }\n",
              "      const blob = new Blob(buffers, {type: 'application/binary'});\n",
              "      const a = document.createElement('a');\n",
              "      a.href = window.URL.createObjectURL(blob);\n",
              "      a.download = filename;\n",
              "      div.appendChild(a);\n",
              "      a.click();\n",
              "      div.remove();\n",
              "    }\n",
              "  "
            ]
          },
          "metadata": {}
        },
        {
          "output_type": "display_data",
          "data": {
            "text/plain": [
              "<IPython.core.display.Javascript object>"
            ],
            "application/javascript": [
              "download(\"download_96e50f9f-0b49-47cf-86e1-a555950b4733\", \"X_testP1_2.pt\", 1853099)"
            ]
          },
          "metadata": {}
        },
        {
          "output_type": "display_data",
          "data": {
            "text/plain": [
              "<IPython.core.display.Javascript object>"
            ],
            "application/javascript": [
              "\n",
              "    async function download(id, filename, size) {\n",
              "      if (!google.colab.kernel.accessAllowed) {\n",
              "        return;\n",
              "      }\n",
              "      const div = document.createElement('div');\n",
              "      const label = document.createElement('label');\n",
              "      label.textContent = `Downloading \"${filename}\": `;\n",
              "      div.appendChild(label);\n",
              "      const progress = document.createElement('progress');\n",
              "      progress.max = size;\n",
              "      div.appendChild(progress);\n",
              "      document.body.appendChild(div);\n",
              "\n",
              "      const buffers = [];\n",
              "      let downloaded = 0;\n",
              "\n",
              "      const channel = await google.colab.kernel.comms.open(id);\n",
              "      // Send a message to notify the kernel that we're ready.\n",
              "      channel.send({})\n",
              "\n",
              "      for await (const message of channel.messages) {\n",
              "        // Send a message to notify the kernel that we're ready.\n",
              "        channel.send({})\n",
              "        if (message.buffers) {\n",
              "          for (const buffer of message.buffers) {\n",
              "            buffers.push(buffer);\n",
              "            downloaded += buffer.byteLength;\n",
              "            progress.value = downloaded;\n",
              "          }\n",
              "        }\n",
              "      }\n",
              "      const blob = new Blob(buffers, {type: 'application/binary'});\n",
              "      const a = document.createElement('a');\n",
              "      a.href = window.URL.createObjectURL(blob);\n",
              "      a.download = filename;\n",
              "      div.appendChild(a);\n",
              "      a.click();\n",
              "      div.remove();\n",
              "    }\n",
              "  "
            ]
          },
          "metadata": {}
        },
        {
          "output_type": "display_data",
          "data": {
            "text/plain": [
              "<IPython.core.display.Javascript object>"
            ],
            "application/javascript": [
              "download(\"download_0c6b3e92-099a-4189-b15e-4053bbd17763\", \"X_testP1_3.pt\", 1853099)"
            ]
          },
          "metadata": {}
        },
        {
          "output_type": "display_data",
          "data": {
            "text/plain": [
              "<IPython.core.display.Javascript object>"
            ],
            "application/javascript": [
              "\n",
              "    async function download(id, filename, size) {\n",
              "      if (!google.colab.kernel.accessAllowed) {\n",
              "        return;\n",
              "      }\n",
              "      const div = document.createElement('div');\n",
              "      const label = document.createElement('label');\n",
              "      label.textContent = `Downloading \"${filename}\": `;\n",
              "      div.appendChild(label);\n",
              "      const progress = document.createElement('progress');\n",
              "      progress.max = size;\n",
              "      div.appendChild(progress);\n",
              "      document.body.appendChild(div);\n",
              "\n",
              "      const buffers = [];\n",
              "      let downloaded = 0;\n",
              "\n",
              "      const channel = await google.colab.kernel.comms.open(id);\n",
              "      // Send a message to notify the kernel that we're ready.\n",
              "      channel.send({})\n",
              "\n",
              "      for await (const message of channel.messages) {\n",
              "        // Send a message to notify the kernel that we're ready.\n",
              "        channel.send({})\n",
              "        if (message.buffers) {\n",
              "          for (const buffer of message.buffers) {\n",
              "            buffers.push(buffer);\n",
              "            downloaded += buffer.byteLength;\n",
              "            progress.value = downloaded;\n",
              "          }\n",
              "        }\n",
              "      }\n",
              "      const blob = new Blob(buffers, {type: 'application/binary'});\n",
              "      const a = document.createElement('a');\n",
              "      a.href = window.URL.createObjectURL(blob);\n",
              "      a.download = filename;\n",
              "      div.appendChild(a);\n",
              "      a.click();\n",
              "      div.remove();\n",
              "    }\n",
              "  "
            ]
          },
          "metadata": {}
        },
        {
          "output_type": "display_data",
          "data": {
            "text/plain": [
              "<IPython.core.display.Javascript object>"
            ],
            "application/javascript": [
              "download(\"download_b14082c5-31e3-4cbd-a113-35cfce93df35\", \"X_testP1_4.pt\", 1853099)"
            ]
          },
          "metadata": {}
        },
        {
          "output_type": "display_data",
          "data": {
            "text/plain": [
              "<IPython.core.display.Javascript object>"
            ],
            "application/javascript": [
              "\n",
              "    async function download(id, filename, size) {\n",
              "      if (!google.colab.kernel.accessAllowed) {\n",
              "        return;\n",
              "      }\n",
              "      const div = document.createElement('div');\n",
              "      const label = document.createElement('label');\n",
              "      label.textContent = `Downloading \"${filename}\": `;\n",
              "      div.appendChild(label);\n",
              "      const progress = document.createElement('progress');\n",
              "      progress.max = size;\n",
              "      div.appendChild(progress);\n",
              "      document.body.appendChild(div);\n",
              "\n",
              "      const buffers = [];\n",
              "      let downloaded = 0;\n",
              "\n",
              "      const channel = await google.colab.kernel.comms.open(id);\n",
              "      // Send a message to notify the kernel that we're ready.\n",
              "      channel.send({})\n",
              "\n",
              "      for await (const message of channel.messages) {\n",
              "        // Send a message to notify the kernel that we're ready.\n",
              "        channel.send({})\n",
              "        if (message.buffers) {\n",
              "          for (const buffer of message.buffers) {\n",
              "            buffers.push(buffer);\n",
              "            downloaded += buffer.byteLength;\n",
              "            progress.value = downloaded;\n",
              "          }\n",
              "        }\n",
              "      }\n",
              "      const blob = new Blob(buffers, {type: 'application/binary'});\n",
              "      const a = document.createElement('a');\n",
              "      a.href = window.URL.createObjectURL(blob);\n",
              "      a.download = filename;\n",
              "      div.appendChild(a);\n",
              "      a.click();\n",
              "      div.remove();\n",
              "    }\n",
              "  "
            ]
          },
          "metadata": {}
        },
        {
          "output_type": "display_data",
          "data": {
            "text/plain": [
              "<IPython.core.display.Javascript object>"
            ],
            "application/javascript": [
              "download(\"download_c9ffc94a-d9ad-4e9f-8324-f8bbdbe024d4\", \"y_testP1.pt\", 2657)"
            ]
          },
          "metadata": {}
        }
      ]
    },
    {
      "cell_type": "markdown",
      "source": [
        "# Section 4 : Extracting Features for the Entire Dataset"
      ],
      "metadata": {
        "id": "L8baENAOR7iy"
      }
    },
    {
      "cell_type": "markdown",
      "source": [
        "SELF NOTE: PERHAPS DO THE FOLLOWING ONLY FOR X_1 TO SAVE TIME"
      ],
      "metadata": {
        "id": "iSZfZxxcqhGN"
      }
    },
    {
      "cell_type": "code",
      "source": [
        "# training features [DOUBLE CHECK]\n",
        "# [PERHAPS DO THIS ONLY FOR X_1 TO SAVE TIME]\n",
        "\n",
        "# these were run earlier\n",
        "# datadir = Path('/content/data/wav')\n",
        "# import torchaudio.transforms as T\n",
        "# target_sample_rate = 16000  # Target sample rate of 16 kHz\n",
        "\n",
        "#feats_list = [] # feature list 0 # Check if this should gather feats_data instead\n",
        "feats_2_list = [] # feature list 1\n",
        "##Att1_list = [] # feature list 2 ###\n",
        "##Att5_list = [] # feature list 3 ###\n",
        "##Att3_list = [] # feature list 4 ###\n",
        "\n",
        "for filename in train_all.Filename:\n",
        "  waveform, sample_rate = torchaudio.load(datadir / filename)\n",
        "  #resample\n",
        "  resampler = T.Resample(orig_freq=sample_rate, new_freq=target_sample_rate)\n",
        "  resampled_waveform = resampler(waveform) # Apply the resampler\n",
        "  #loop\n",
        "  l = len(resampled_waveform[0]) #take the length of the waveform\n",
        "  multiplier = math.ceil(200000 / l) #create a multiplier\n",
        "  tensors_list = [resampled_waveform] * multiplier  # Create a list of the tensor repeated num_repeats times\n",
        "  looped_waveform = torch.cat(tensors_list, dim=1) # Concatenate them along the new dimension\n",
        "  #Slice\n",
        "  end_index = 200000 #the length that fit the input format for AST\n",
        "  trimmed_tensor0 = looped_waveform[0][:end_index] #cutting off the tail\n",
        "  trimmed_tensor = torch.tensor(trimmed_tensor0)\n",
        "  trimmed_looped_waveform = trimmed_tensor.unsqueeze(0)\n",
        "  #Save flac file\n",
        "  torchaudio.save('output_looped.flac', trimmed_looped_waveform, target_sample_rate)\n",
        "  #new_wav , new_sam = torchaudio.load('output_looped.flac') #not needed\n",
        "\n",
        "  # use AST model to make features. Make sure the cell containing the model has been run\n",
        "  feats = make_features('output_looped.flac', mel_bins=128)\n",
        "\n",
        "  feats_data = feats.expand(1, input_tdim, 128)           # reshape the feature\n",
        "  feats_data = feats_data.to(torch.device(\"cuda:0\"))\n",
        "\n",
        "  #make the att_list that contains the results of later layers 1 through 11. We may choose any of these as our features\n",
        "  ##with torch.no_grad():\n",
        "    ##with autocast():\n",
        "      ##att_list = audio_model.module.forward_visualization(feats_data)\n",
        "  ##for i in range(len(att_list)):\n",
        "    ##att_list[i] = att_list[i].data.cpu().numpy()\n",
        "    ##att_list[i] = np.mean(att_list[i][0], axis=0)\n",
        "    ##att_list[i] = np.mean(att_list[i][0:2], axis=0)\n",
        "    ##att_list[i] = att_list[i][2:].reshape(12, 101)\n",
        "\n",
        "  ##att_list1 = torch.from_numpy(att_list[1]) #reshape to get a tensor\n",
        "  ##att_list5 = torch.from_numpy(att_list[5]) #reshape to get a tensor\n",
        "  ##att_list3 = torch.from_numpy(att_list[3]) #reshape to get a tensor\n",
        "\n",
        "  #turn the feats tensor into 1 dimensional arrays in two different ways\n",
        "  #feats_mean_axis1 = feats.mean(dim=1) #Averaging across the shorter direction so we get a 1024 long array instead of 1024 by 128 tensor\n",
        "  feats_mean_axis0 = feats.mean(dim=0)\n",
        "  ##att_list1_flat = torch.flatten(att_list1) #att_list[1] is two dimensional. here we concatenate rows to get a one dimensional array of length 1212\n",
        "  ##att_list5_flat = torch.flatten(att_list5) #same as above\n",
        "  ##att_list3_flat = torch.flatten(att_list3) #same as above\n",
        "\n",
        "  #gather the features into previously made lists\n",
        "  #feats_list.append(feats_mean_axis1)\n",
        "  feats_2_list.append(feats_mean_axis0)\n",
        "  ##Att1_list.append(att_list1_flat) ###\n",
        "  ##Att5_list.append(att_list5_flat) ###\n",
        "  ##Att3_list.append(att_list3_flat) ###\n",
        "\n",
        "#X = torch.stack(feats_list).detach()\n",
        "X_train_1 = torch.stack(feats_2_list).detach()\n",
        "##X_train_2 = torch.stack(Att1_list).detach() ###\n",
        "##X_train_3 = torch.stack(Att5_list).detach() ###\n",
        "##X_train_4 = torch.stack(Att3_list).detach() ###\n",
        "\n",
        "labels = train_all.Label.unique()\n",
        "y_train = torch.zeros(len(train_all), dtype=torch.int)\n",
        "for idx, label in enumerate(labels):\n",
        "    y_train[(train_all.Label == label).values] = idx\n",
        "print(X_train_1.shape, y_train.shape)"
      ],
      "metadata": {
        "colab": {
          "base_uri": "https://localhost:8080/"
        },
        "id": "H-LFLhdZcV16",
        "outputId": "ffedfc92-9133-4349-8c95-0c51faca6b1a"
      },
      "execution_count": null,
      "outputs": [
        {
          "output_type": "stream",
          "name": "stderr",
          "text": [
            "<ipython-input-42-ddfed0dc6ec7>:28: UserWarning: To copy construct from a tensor, it is recommended to use sourceTensor.clone().detach() or sourceTensor.clone().detach().requires_grad_(True), rather than torch.tensor(sourceTensor).\n",
            "  trimmed_tensor = torch.tensor(trimmed_tensor0)\n"
          ]
        },
        {
          "output_type": "stream",
          "name": "stdout",
          "text": [
            "torch.Size([4962, 128]) torch.Size([4962])\n"
          ]
        }
      ]
    },
    {
      "cell_type": "code",
      "source": [
        "#save tensors\n",
        "torch.save(X_train_1, 'X_train_1.pt')\n",
        "files.download('X_train_1.pt')\n",
        "\n",
        "##torch.save(X_train_2, 'X_train_2.pt')\n",
        "##files.download('X_train_2.pt')\n",
        "\n",
        "##torch.save(X_train_3, 'X_train_3.pt')\n",
        "##files.download('X_train_3.pt')\n",
        "\n",
        "##torch.save(X_train_4, 'X_train_4.pt')\n",
        "##files.download('X_train_4.pt')\n",
        "\n",
        "torch.save(y_train, 'y_train.pt')\n",
        "files.download('y_train.pt')"
      ],
      "metadata": {
        "colab": {
          "base_uri": "https://localhost:8080/",
          "height": 17
        },
        "id": "_5Sg8Va_eS05",
        "outputId": "702364b8-af4b-4f3c-eab8-7a7c59749484"
      },
      "execution_count": null,
      "outputs": [
        {
          "output_type": "display_data",
          "data": {
            "text/plain": [
              "<IPython.core.display.Javascript object>"
            ],
            "application/javascript": [
              "\n",
              "    async function download(id, filename, size) {\n",
              "      if (!google.colab.kernel.accessAllowed) {\n",
              "        return;\n",
              "      }\n",
              "      const div = document.createElement('div');\n",
              "      const label = document.createElement('label');\n",
              "      label.textContent = `Downloading \"${filename}\": `;\n",
              "      div.appendChild(label);\n",
              "      const progress = document.createElement('progress');\n",
              "      progress.max = size;\n",
              "      div.appendChild(progress);\n",
              "      document.body.appendChild(div);\n",
              "\n",
              "      const buffers = [];\n",
              "      let downloaded = 0;\n",
              "\n",
              "      const channel = await google.colab.kernel.comms.open(id);\n",
              "      // Send a message to notify the kernel that we're ready.\n",
              "      channel.send({})\n",
              "\n",
              "      for await (const message of channel.messages) {\n",
              "        // Send a message to notify the kernel that we're ready.\n",
              "        channel.send({})\n",
              "        if (message.buffers) {\n",
              "          for (const buffer of message.buffers) {\n",
              "            buffers.push(buffer);\n",
              "            downloaded += buffer.byteLength;\n",
              "            progress.value = downloaded;\n",
              "          }\n",
              "        }\n",
              "      }\n",
              "      const blob = new Blob(buffers, {type: 'application/binary'});\n",
              "      const a = document.createElement('a');\n",
              "      a.href = window.URL.createObjectURL(blob);\n",
              "      a.download = filename;\n",
              "      div.appendChild(a);\n",
              "      a.click();\n",
              "      div.remove();\n",
              "    }\n",
              "  "
            ]
          },
          "metadata": {}
        },
        {
          "output_type": "display_data",
          "data": {
            "text/plain": [
              "<IPython.core.display.Javascript object>"
            ],
            "application/javascript": [
              "download(\"download_cbcf294c-76e4-4bb2-a6e5-55e95b97be73\", \"X_train_1.pt\", 2541734)"
            ]
          },
          "metadata": {}
        },
        {
          "output_type": "display_data",
          "data": {
            "text/plain": [
              "<IPython.core.display.Javascript object>"
            ],
            "application/javascript": [
              "\n",
              "    async function download(id, filename, size) {\n",
              "      if (!google.colab.kernel.accessAllowed) {\n",
              "        return;\n",
              "      }\n",
              "      const div = document.createElement('div');\n",
              "      const label = document.createElement('label');\n",
              "      label.textContent = `Downloading \"${filename}\": `;\n",
              "      div.appendChild(label);\n",
              "      const progress = document.createElement('progress');\n",
              "      progress.max = size;\n",
              "      div.appendChild(progress);\n",
              "      document.body.appendChild(div);\n",
              "\n",
              "      const buffers = [];\n",
              "      let downloaded = 0;\n",
              "\n",
              "      const channel = await google.colab.kernel.comms.open(id);\n",
              "      // Send a message to notify the kernel that we're ready.\n",
              "      channel.send({})\n",
              "\n",
              "      for await (const message of channel.messages) {\n",
              "        // Send a message to notify the kernel that we're ready.\n",
              "        channel.send({})\n",
              "        if (message.buffers) {\n",
              "          for (const buffer of message.buffers) {\n",
              "            buffers.push(buffer);\n",
              "            downloaded += buffer.byteLength;\n",
              "            progress.value = downloaded;\n",
              "          }\n",
              "        }\n",
              "      }\n",
              "      const blob = new Blob(buffers, {type: 'application/binary'});\n",
              "      const a = document.createElement('a');\n",
              "      a.href = window.URL.createObjectURL(blob);\n",
              "      a.download = filename;\n",
              "      div.appendChild(a);\n",
              "      a.click();\n",
              "      div.remove();\n",
              "    }\n",
              "  "
            ]
          },
          "metadata": {}
        },
        {
          "output_type": "display_data",
          "data": {
            "text/plain": [
              "<IPython.core.display.Javascript object>"
            ],
            "application/javascript": [
              "download(\"download_8c4df29f-0856-4eab-bcaa-5a8aea158553\", \"y_train.pt\", 21020)"
            ]
          },
          "metadata": {}
        }
      ]
    },
    {
      "cell_type": "markdown",
      "source": [
        "Features for the Test Set"
      ],
      "metadata": {
        "id": "0Q79kYQSeTms"
      }
    },
    {
      "cell_type": "code",
      "source": [
        "# Test Features [DOUBLE CHECK]\n",
        "\n",
        "# these were run earlier\n",
        "# datadir = Path('/content/data/wav')\n",
        "# import torchaudio.transforms as T\n",
        "# target_sample_rate = 16000  # Target sample rate of 16 kHz\n",
        "\n",
        "#feats_list = [] # feature list 0 # Check if this should gather feats_data instead\n",
        "feats_2_list = [] # feature list 1\n",
        "##Att1_list = [] # feature list 2 ###\n",
        "##Att5_list = [] # feature list 3 ###\n",
        "##Att3_list = [] # feature list 4 ###\n",
        "\n",
        "for filename in test_all.Filename:\n",
        "  waveform, sample_rate = torchaudio.load(datadir / filename)\n",
        "  #resample\n",
        "  resampler = T.Resample(orig_freq=sample_rate, new_freq=target_sample_rate)\n",
        "  resampled_waveform = resampler(waveform) # Apply the resampler\n",
        "  #loop\n",
        "  l = len(resampled_waveform[0]) #take the length of the waveform\n",
        "  multiplier = math.ceil(200000 / l) #create a multiplier\n",
        "  tensors_list = [resampled_waveform] * multiplier  # Create a list of the tensor repeated num_repeats times\n",
        "  looped_waveform = torch.cat(tensors_list, dim=1) # Concatenate them along the new dimension\n",
        "  #Slice\n",
        "  end_index = 200000 #the length that fit the input format for AST\n",
        "  trimmed_tensor0 = looped_waveform[0][:end_index] #cutting off the tail\n",
        "  trimmed_tensor = torch.tensor(trimmed_tensor0)\n",
        "  trimmed_looped_waveform = trimmed_tensor.unsqueeze(0)\n",
        "  #Save flac file\n",
        "  torchaudio.save('output_looped.flac', trimmed_looped_waveform, target_sample_rate)\n",
        "  #new_wav , new_sam = torchaudio.load('output_looped.flac') #not needed\n",
        "\n",
        "  # use AST model to make features. Make sure the cell containing the model has been run\n",
        "  feats = make_features('output_looped.flac', mel_bins=128)\n",
        "\n",
        "  feats_data = feats.expand(1, input_tdim, 128)           # reshape the feature\n",
        "  feats_data = feats_data.to(torch.device(\"cuda:0\"))\n",
        "\n",
        "  #make the att_list that contains the results of later layers 1 through 11. We may choose any of these as our features\n",
        "  ##with torch.no_grad():\n",
        "    ##with autocast():\n",
        "      ##att_list = audio_model.module.forward_visualization(feats_data)\n",
        "  ##for i in range(len(att_list)):\n",
        "    ##att_list[i] = att_list[i].data.cpu().numpy()\n",
        "    ##att_list[i] = np.mean(att_list[i][0], axis=0)\n",
        "    ##att_list[i] = np.mean(att_list[i][0:2], axis=0)\n",
        "    ##att_list[i] = att_list[i][2:].reshape(12, 101)\n",
        "\n",
        "  ##att_list1 = torch.from_numpy(att_list[1]) #reshape to get a tensor\n",
        "  ##att_list5 = torch.from_numpy(att_list[5]) #reshape to get a tensor\n",
        "  ##att_list3 = torch.from_numpy(att_list[3]) #reshape to get a tensor\n",
        "\n",
        "  #turn the feats tensor into 1 dimensional arrays in two different ways\n",
        "  #feats_mean_axis1 = feats.mean(dim=1) #Averaging across the shorter direction so we get a 1024 long array instead of 1024 by 128 tensor\n",
        "  feats_mean_axis0 = feats.mean(dim=0)\n",
        "  ##att_list1_flat = torch.flatten(att_list1) #att_list[1] is two dimensional. here we concatenate rows to get a one dimensional array of length 1212\n",
        "  ##att_list5_flat = torch.flatten(att_list5) #same as above\n",
        "  ##att_list3_flat = torch.flatten(att_list3) #same as above\n",
        "\n",
        "  #gather the features into previously made lists\n",
        "  #feats_list.append(feats_mean_axis1)\n",
        "  feats_2_list.append(feats_mean_axis0)\n",
        "  ##Att1_list.append(att_list1_flat) ###\n",
        "  ##Att5_list.append(att_list5_flat) ###\n",
        "  ##Att3_list.append(att_list3_flat) ###\n",
        "\n",
        "#X = torch.stack(feats_list).detach()\n",
        "X_test_1 = torch.stack(feats_2_list).detach()\n",
        "##X_test_2 = torch.stack(Att1_list).detach() ###\n",
        "##X_test_3 = torch.stack(Att5_list).detach() ###\n",
        "##X_test_4 = torch.stack(Att3_list).detach() ###\n",
        "\n",
        "labels = test_all.Label.unique()\n",
        "y_test = torch.zeros(len(test_all), dtype=torch.int)\n",
        "for idx, label in enumerate(labels):\n",
        "    y_test[(test_all.Label == label).values] = idx\n",
        "print(X_test_1.shape, y_test.shape)"
      ],
      "metadata": {
        "colab": {
          "base_uri": "https://localhost:8080/"
        },
        "id": "o2i8AsnLcewI",
        "outputId": "56b39745-c396-4aff-a113-81c7b5c9ea25"
      },
      "execution_count": null,
      "outputs": [
        {
          "output_type": "stream",
          "name": "stderr",
          "text": [
            "<ipython-input-44-248d42715038>:27: UserWarning: To copy construct from a tensor, it is recommended to use sourceTensor.clone().detach() or sourceTensor.clone().detach().requires_grad_(True), rather than torch.tensor(sourceTensor).\n",
            "  trimmed_tensor = torch.tensor(trimmed_tensor0)\n"
          ]
        },
        {
          "output_type": "stream",
          "name": "stdout",
          "text": [
            "torch.Size([1968, 128]) torch.Size([1968])\n"
          ]
        }
      ]
    },
    {
      "cell_type": "code",
      "source": [
        "#Save the Tensors\n",
        "torch.save(X_test_1, 'X_test_1.pt')\n",
        "files.download('X_test_1.pt')\n",
        "\n",
        "##torch.save(X_test_2, 'X_test_2.pt')\n",
        "##files.download('X_test_2.pt')\n",
        "\n",
        "##torch.save(X_test_3, 'X_test_3.pt')\n",
        "##files.download('X_test_3.pt')\n",
        "\n",
        "##torch.save(X_test_4, 'X_test_4.pt')\n",
        "##files.download('X_test_4.pt')\n",
        "\n",
        "torch.save(y_test, 'y_test.pt')\n",
        "files.download('y_test.pt')"
      ],
      "metadata": {
        "colab": {
          "base_uri": "https://localhost:8080/",
          "height": 17
        },
        "id": "-g1jVHKZdYOM",
        "outputId": "3fe5b216-3576-4c22-dbad-7e05d7367070"
      },
      "execution_count": null,
      "outputs": [
        {
          "output_type": "display_data",
          "data": {
            "text/plain": [
              "<IPython.core.display.Javascript object>"
            ],
            "application/javascript": [
              "\n",
              "    async function download(id, filename, size) {\n",
              "      if (!google.colab.kernel.accessAllowed) {\n",
              "        return;\n",
              "      }\n",
              "      const div = document.createElement('div');\n",
              "      const label = document.createElement('label');\n",
              "      label.textContent = `Downloading \"${filename}\": `;\n",
              "      div.appendChild(label);\n",
              "      const progress = document.createElement('progress');\n",
              "      progress.max = size;\n",
              "      div.appendChild(progress);\n",
              "      document.body.appendChild(div);\n",
              "\n",
              "      const buffers = [];\n",
              "      let downloaded = 0;\n",
              "\n",
              "      const channel = await google.colab.kernel.comms.open(id);\n",
              "      // Send a message to notify the kernel that we're ready.\n",
              "      channel.send({})\n",
              "\n",
              "      for await (const message of channel.messages) {\n",
              "        // Send a message to notify the kernel that we're ready.\n",
              "        channel.send({})\n",
              "        if (message.buffers) {\n",
              "          for (const buffer of message.buffers) {\n",
              "            buffers.push(buffer);\n",
              "            downloaded += buffer.byteLength;\n",
              "            progress.value = downloaded;\n",
              "          }\n",
              "        }\n",
              "      }\n",
              "      const blob = new Blob(buffers, {type: 'application/binary'});\n",
              "      const a = document.createElement('a');\n",
              "      a.href = window.URL.createObjectURL(blob);\n",
              "      a.download = filename;\n",
              "      div.appendChild(a);\n",
              "      a.click();\n",
              "      div.remove();\n",
              "    }\n",
              "  "
            ]
          },
          "metadata": {}
        },
        {
          "output_type": "display_data",
          "data": {
            "text/plain": [
              "<IPython.core.display.Javascript object>"
            ],
            "application/javascript": [
              "download(\"download_b9f41c9e-2f65-4d51-bec7-47ce64efe1b2\", \"X_test_1.pt\", 1008801)"
            ]
          },
          "metadata": {}
        },
        {
          "output_type": "display_data",
          "data": {
            "text/plain": [
              "<IPython.core.display.Javascript object>"
            ],
            "application/javascript": [
              "\n",
              "    async function download(id, filename, size) {\n",
              "      if (!google.colab.kernel.accessAllowed) {\n",
              "        return;\n",
              "      }\n",
              "      const div = document.createElement('div');\n",
              "      const label = document.createElement('label');\n",
              "      label.textContent = `Downloading \"${filename}\": `;\n",
              "      div.appendChild(label);\n",
              "      const progress = document.createElement('progress');\n",
              "      progress.max = size;\n",
              "      div.appendChild(progress);\n",
              "      document.body.appendChild(div);\n",
              "\n",
              "      const buffers = [];\n",
              "      let downloaded = 0;\n",
              "\n",
              "      const channel = await google.colab.kernel.comms.open(id);\n",
              "      // Send a message to notify the kernel that we're ready.\n",
              "      channel.send({})\n",
              "\n",
              "      for await (const message of channel.messages) {\n",
              "        // Send a message to notify the kernel that we're ready.\n",
              "        channel.send({})\n",
              "        if (message.buffers) {\n",
              "          for (const buffer of message.buffers) {\n",
              "            buffers.push(buffer);\n",
              "            downloaded += buffer.byteLength;\n",
              "            progress.value = downloaded;\n",
              "          }\n",
              "        }\n",
              "      }\n",
              "      const blob = new Blob(buffers, {type: 'application/binary'});\n",
              "      const a = document.createElement('a');\n",
              "      a.href = window.URL.createObjectURL(blob);\n",
              "      a.download = filename;\n",
              "      div.appendChild(a);\n",
              "      a.click();\n",
              "      div.remove();\n",
              "    }\n",
              "  "
            ]
          },
          "metadata": {}
        },
        {
          "output_type": "display_data",
          "data": {
            "text/plain": [
              "<IPython.core.display.Javascript object>"
            ],
            "application/javascript": [
              "download(\"download_b4715457-742d-4c7e-b8d0-11945fd0240f\", \"y_test.pt\", 8983)"
            ]
          },
          "metadata": {}
        }
      ]
    },
    {
      "cell_type": "markdown",
      "source": [
        "# Section 5 : Extracting Features for the Test Data of Participant 05\n",
        "\n",
        "This is a leftover step that we didn't do in the previous notebook."
      ],
      "metadata": {
        "id": "59pNTYDDcA-j"
      }
    },
    {
      "cell_type": "code",
      "source": [
        "# these were run earlier\n",
        "# datadir = Path('/content/data/wav')\n",
        "# import torchaudio.transforms as T\n",
        "# target_sample_rate = 16000  # Target sample rate of 16 kHz\n",
        "\n",
        "#feats_list = [] # feature list 0 # Check if this should gather feats_data instead\n",
        "feats_2_list = [] # feature list 1\n",
        "Att1_list = [] # feature list 2 ###\n",
        "Att5_list = [] # feature list 3 ###\n",
        "Att3_list = [] # feature list 4 ###\n",
        "\n",
        "for filename in test_P05.Filename:\n",
        "  waveform, sample_rate = torchaudio.load(datadir / filename)\n",
        "  #resample\n",
        "  resampler = T.Resample(orig_freq=sample_rate, new_freq=target_sample_rate)\n",
        "  resampled_waveform = resampler(waveform) # Apply the resampler\n",
        "  #loop\n",
        "  l = len(resampled_waveform[0]) #take the length of the waveform\n",
        "  multiplier = math.ceil(200000 / l) #create a multiplier\n",
        "  tensors_list = [resampled_waveform] * multiplier  # Create a list of the tensor repeated num_repeats times\n",
        "  looped_waveform = torch.cat(tensors_list, dim=1) # Concatenate them along the new dimension\n",
        "  #Slice\n",
        "  end_index = 200000 #the length that fit the input format for AST\n",
        "  trimmed_tensor0 = looped_waveform[0][:end_index] #cutting off the tail\n",
        "  trimmed_tensor = torch.tensor(trimmed_tensor0)\n",
        "  trimmed_looped_waveform = trimmed_tensor.unsqueeze(0)\n",
        "  #Save flac file\n",
        "  torchaudio.save('output_looped.flac', trimmed_looped_waveform, target_sample_rate)\n",
        "  #new_wav , new_sam = torchaudio.load('output_looped.flac') #not needed\n",
        "\n",
        "  # use AST model to make features. Make sure the cell containing the model has been run\n",
        "  feats = make_features('output_looped.flac', mel_bins=128)\n",
        "\n",
        "  feats_data = feats.expand(1, input_tdim, 128)           # reshape the feature\n",
        "  feats_data = feats_data.to(torch.device(\"cuda:0\"))\n",
        "\n",
        "  #make the att_list that contains the results of later layers 1 through 11. We may choose any of these as our features\n",
        "  with torch.no_grad():\n",
        "    with autocast():\n",
        "      att_list = audio_model.module.forward_visualization(feats_data)\n",
        "  for i in range(len(att_list)):\n",
        "    att_list[i] = att_list[i].data.cpu().numpy()\n",
        "    att_list[i] = np.mean(att_list[i][0], axis=0)\n",
        "    att_list[i] = np.mean(att_list[i][0:2], axis=0)\n",
        "    att_list[i] = att_list[i][2:].reshape(12, 101)\n",
        "\n",
        "  att_list1 = torch.from_numpy(att_list[1]) #reshape to get a tensor\n",
        "  att_list5 = torch.from_numpy(att_list[5]) #reshape to get a tensor\n",
        "  att_list3 = torch.from_numpy(att_list[3]) #reshape to get a tensor\n",
        "\n",
        "  #turn the feats tensor into 1 dimensional arrays in two different ways\n",
        "  #feats_mean_axis1 = feats.mean(dim=1) #Averaging across the shorter direction so we get a 1024 long array instead of 1024 by 128 tensor\n",
        "  feats_mean_axis0 = feats.mean(dim=0)\n",
        "  att_list1_flat = torch.flatten(att_list1) #att_list[1] is two dimensional. here we concatenate rows to get a one dimensional array of length 1212\n",
        "  att_list5_flat = torch.flatten(att_list5) #same as above\n",
        "  att_list3_flat = torch.flatten(att_list3) #same as above\n",
        "\n",
        "  #gather the features into previously made lists\n",
        "  #feats_list.append(feats_mean_axis1)\n",
        "  feats_2_list.append(feats_mean_axis0)\n",
        "  Att1_list.append(att_list1_flat) ###\n",
        "  Att5_list.append(att_list5_flat) ###\n",
        "  Att3_list.append(att_list3_flat) ###\n",
        "\n",
        "#X = torch.stack(feats_list).detach()\n",
        "X_testP5_1 = torch.stack(feats_2_list).detach()\n",
        "X_testP5_2 = torch.stack(Att1_list).detach() ###\n",
        "X_testP5_3 = torch.stack(Att5_list).detach() ###\n",
        "X_testP5_4 = torch.stack(Att3_list).detach() ###\n",
        "\n",
        "labels = test_P05.Label.unique()\n",
        "y_testP5 = torch.zeros(len(test_P05), dtype=torch.int)\n",
        "for idx, label in enumerate(labels):\n",
        "    y_testP5[(test_P05.Label == label).values] = idx\n",
        "print(X_testP5_1.shape, y_testP5.shape)"
      ],
      "metadata": {
        "colab": {
          "base_uri": "https://localhost:8080/",
          "height": 283
        },
        "id": "k0T8aXDTcC_R",
        "outputId": "e98260e1-8487-45fd-d12c-20ec2bcec96c"
      },
      "execution_count": null,
      "outputs": [
        {
          "output_type": "stream",
          "name": "stderr",
          "text": [
            "<ipython-input-31-be94200350d9>:25: UserWarning: To copy construct from a tensor, it is recommended to use sourceTensor.clone().detach() or sourceTensor.clone().detach().requires_grad_(True), rather than torch.tensor(sourceTensor).\n",
            "  trimmed_tensor = torch.tensor(trimmed_tensor0)\n",
            "<ipython-input-31-be94200350d9>:39: FutureWarning: `torch.cuda.amp.autocast(args...)` is deprecated. Please use `torch.amp.autocast('cuda', args...)` instead.\n",
            "  with autocast():\n"
          ]
        },
        {
          "output_type": "error",
          "ename": "IndexError",
          "evalue": "The shape of the mask [308] at index 0 does not match the shape of the indexed tensor [673] at index 0",
          "traceback": [
            "\u001b[0;31m---------------------------------------------------------------------------\u001b[0m",
            "\u001b[0;31mIndexError\u001b[0m                                Traceback (most recent call last)",
            "\u001b[0;32m<ipython-input-31-be94200350d9>\u001b[0m in \u001b[0;36m<cell line: 73>\u001b[0;34m()\u001b[0m\n\u001b[1;32m     72\u001b[0m \u001b[0my_testP5\u001b[0m \u001b[0;34m=\u001b[0m \u001b[0mtorch\u001b[0m\u001b[0;34m.\u001b[0m\u001b[0mzeros\u001b[0m\u001b[0;34m(\u001b[0m\u001b[0mlen\u001b[0m\u001b[0;34m(\u001b[0m\u001b[0mtrain_P05\u001b[0m\u001b[0;34m)\u001b[0m\u001b[0;34m,\u001b[0m \u001b[0mdtype\u001b[0m\u001b[0;34m=\u001b[0m\u001b[0mtorch\u001b[0m\u001b[0;34m.\u001b[0m\u001b[0mint\u001b[0m\u001b[0;34m)\u001b[0m\u001b[0;34m\u001b[0m\u001b[0;34m\u001b[0m\u001b[0m\n\u001b[1;32m     73\u001b[0m \u001b[0;32mfor\u001b[0m \u001b[0midx\u001b[0m\u001b[0;34m,\u001b[0m \u001b[0mlabel\u001b[0m \u001b[0;32min\u001b[0m \u001b[0menumerate\u001b[0m\u001b[0;34m(\u001b[0m\u001b[0mlabels\u001b[0m\u001b[0;34m)\u001b[0m\u001b[0;34m:\u001b[0m\u001b[0;34m\u001b[0m\u001b[0;34m\u001b[0m\u001b[0m\n\u001b[0;32m---> 74\u001b[0;31m     \u001b[0my_testP5\u001b[0m\u001b[0;34m[\u001b[0m\u001b[0;34m(\u001b[0m\u001b[0mtest_P05\u001b[0m\u001b[0;34m.\u001b[0m\u001b[0mLabel\u001b[0m \u001b[0;34m==\u001b[0m \u001b[0mlabel\u001b[0m\u001b[0;34m)\u001b[0m\u001b[0;34m.\u001b[0m\u001b[0mvalues\u001b[0m\u001b[0;34m]\u001b[0m \u001b[0;34m=\u001b[0m \u001b[0midx\u001b[0m\u001b[0;34m\u001b[0m\u001b[0;34m\u001b[0m\u001b[0m\n\u001b[0m\u001b[1;32m     75\u001b[0m \u001b[0mprint\u001b[0m\u001b[0;34m(\u001b[0m\u001b[0mX_testP5_1\u001b[0m\u001b[0;34m.\u001b[0m\u001b[0mshape\u001b[0m\u001b[0;34m,\u001b[0m \u001b[0my_testP5\u001b[0m\u001b[0;34m.\u001b[0m\u001b[0mshape\u001b[0m\u001b[0;34m)\u001b[0m\u001b[0;34m\u001b[0m\u001b[0;34m\u001b[0m\u001b[0m\n",
            "\u001b[0;31mIndexError\u001b[0m: The shape of the mask [308] at index 0 does not match the shape of the indexed tensor [673] at index 0"
          ]
        }
      ]
    },
    {
      "cell_type": "code",
      "source": [
        "y_testP5 = torch.zeros(len(test_P05), dtype=torch.int)\n",
        "for idx, label in enumerate(labels):\n",
        "    y_testP5[(test_P05.Label == label).values] = idx\n",
        "print(X_testP5_1.shape, y_testP5.shape)"
      ],
      "metadata": {
        "colab": {
          "base_uri": "https://localhost:8080/"
        },
        "id": "Y3uh5kY6n2Tu",
        "outputId": "2551d15d-81e3-41af-9c51-8f948b0c3557"
      },
      "execution_count": null,
      "outputs": [
        {
          "output_type": "stream",
          "name": "stdout",
          "text": [
            "torch.Size([308, 128]) torch.Size([308])\n"
          ]
        }
      ]
    },
    {
      "cell_type": "code",
      "source": [
        "from google.colab import files\n",
        "\n",
        "#Save the Tensors\n",
        "torch.save(X_testP5_1, 'X_testP5_1.pt')\n",
        "files.download('X_testP5_1.pt')\n",
        "\n",
        "torch.save(X_testP5_2, 'X_testP5_2.pt')\n",
        "files.download('X_testP5_2.pt')\n",
        "\n",
        "torch.save(X_testP5_3, 'X_testP5_3.pt')\n",
        "files.download('X_testP5_3.pt')\n",
        "\n",
        "torch.save(X_testP5_4, 'X_testP5_4.pt')\n",
        "files.download('X_testP5_4.pt')\n",
        "\n",
        "torch.save(y_testP5, 'y_testP5.pt')\n",
        "files.download('y_testP5.pt')"
      ],
      "metadata": {
        "colab": {
          "base_uri": "https://localhost:8080/",
          "height": 17
        },
        "id": "rMNGNehKdEJg",
        "outputId": "9aa4ae96-71c5-4a0e-e656-9b100824652d"
      },
      "execution_count": null,
      "outputs": [
        {
          "output_type": "display_data",
          "data": {
            "text/plain": [
              "<IPython.core.display.Javascript object>"
            ],
            "application/javascript": [
              "\n",
              "    async function download(id, filename, size) {\n",
              "      if (!google.colab.kernel.accessAllowed) {\n",
              "        return;\n",
              "      }\n",
              "      const div = document.createElement('div');\n",
              "      const label = document.createElement('label');\n",
              "      label.textContent = `Downloading \"${filename}\": `;\n",
              "      div.appendChild(label);\n",
              "      const progress = document.createElement('progress');\n",
              "      progress.max = size;\n",
              "      div.appendChild(progress);\n",
              "      document.body.appendChild(div);\n",
              "\n",
              "      const buffers = [];\n",
              "      let downloaded = 0;\n",
              "\n",
              "      const channel = await google.colab.kernel.comms.open(id);\n",
              "      // Send a message to notify the kernel that we're ready.\n",
              "      channel.send({})\n",
              "\n",
              "      for await (const message of channel.messages) {\n",
              "        // Send a message to notify the kernel that we're ready.\n",
              "        channel.send({})\n",
              "        if (message.buffers) {\n",
              "          for (const buffer of message.buffers) {\n",
              "            buffers.push(buffer);\n",
              "            downloaded += buffer.byteLength;\n",
              "            progress.value = downloaded;\n",
              "          }\n",
              "        }\n",
              "      }\n",
              "      const blob = new Blob(buffers, {type: 'application/binary'});\n",
              "      const a = document.createElement('a');\n",
              "      a.href = window.URL.createObjectURL(blob);\n",
              "      a.download = filename;\n",
              "      div.appendChild(a);\n",
              "      a.click();\n",
              "      div.remove();\n",
              "    }\n",
              "  "
            ]
          },
          "metadata": {}
        },
        {
          "output_type": "display_data",
          "data": {
            "text/plain": [
              "<IPython.core.display.Javascript object>"
            ],
            "application/javascript": [
              "download(\"download_08cdfa84-3ff8-47cf-9f2a-56ca86557f5f\", \"X_testP5_1.pt\", 158891)"
            ]
          },
          "metadata": {}
        },
        {
          "output_type": "display_data",
          "data": {
            "text/plain": [
              "<IPython.core.display.Javascript object>"
            ],
            "application/javascript": [
              "\n",
              "    async function download(id, filename, size) {\n",
              "      if (!google.colab.kernel.accessAllowed) {\n",
              "        return;\n",
              "      }\n",
              "      const div = document.createElement('div');\n",
              "      const label = document.createElement('label');\n",
              "      label.textContent = `Downloading \"${filename}\": `;\n",
              "      div.appendChild(label);\n",
              "      const progress = document.createElement('progress');\n",
              "      progress.max = size;\n",
              "      div.appendChild(progress);\n",
              "      document.body.appendChild(div);\n",
              "\n",
              "      const buffers = [];\n",
              "      let downloaded = 0;\n",
              "\n",
              "      const channel = await google.colab.kernel.comms.open(id);\n",
              "      // Send a message to notify the kernel that we're ready.\n",
              "      channel.send({})\n",
              "\n",
              "      for await (const message of channel.messages) {\n",
              "        // Send a message to notify the kernel that we're ready.\n",
              "        channel.send({})\n",
              "        if (message.buffers) {\n",
              "          for (const buffer of message.buffers) {\n",
              "            buffers.push(buffer);\n",
              "            downloaded += buffer.byteLength;\n",
              "            progress.value = downloaded;\n",
              "          }\n",
              "        }\n",
              "      }\n",
              "      const blob = new Blob(buffers, {type: 'application/binary'});\n",
              "      const a = document.createElement('a');\n",
              "      a.href = window.URL.createObjectURL(blob);\n",
              "      a.download = filename;\n",
              "      div.appendChild(a);\n",
              "      a.click();\n",
              "      div.remove();\n",
              "    }\n",
              "  "
            ]
          },
          "metadata": {}
        },
        {
          "output_type": "display_data",
          "data": {
            "text/plain": [
              "<IPython.core.display.Javascript object>"
            ],
            "application/javascript": [
              "download(\"download_8194a948-1240-49ac-a97b-6d2be01fb847\", \"X_testP5_2.pt\", 1494379)"
            ]
          },
          "metadata": {}
        },
        {
          "output_type": "display_data",
          "data": {
            "text/plain": [
              "<IPython.core.display.Javascript object>"
            ],
            "application/javascript": [
              "\n",
              "    async function download(id, filename, size) {\n",
              "      if (!google.colab.kernel.accessAllowed) {\n",
              "        return;\n",
              "      }\n",
              "      const div = document.createElement('div');\n",
              "      const label = document.createElement('label');\n",
              "      label.textContent = `Downloading \"${filename}\": `;\n",
              "      div.appendChild(label);\n",
              "      const progress = document.createElement('progress');\n",
              "      progress.max = size;\n",
              "      div.appendChild(progress);\n",
              "      document.body.appendChild(div);\n",
              "\n",
              "      const buffers = [];\n",
              "      let downloaded = 0;\n",
              "\n",
              "      const channel = await google.colab.kernel.comms.open(id);\n",
              "      // Send a message to notify the kernel that we're ready.\n",
              "      channel.send({})\n",
              "\n",
              "      for await (const message of channel.messages) {\n",
              "        // Send a message to notify the kernel that we're ready.\n",
              "        channel.send({})\n",
              "        if (message.buffers) {\n",
              "          for (const buffer of message.buffers) {\n",
              "            buffers.push(buffer);\n",
              "            downloaded += buffer.byteLength;\n",
              "            progress.value = downloaded;\n",
              "          }\n",
              "        }\n",
              "      }\n",
              "      const blob = new Blob(buffers, {type: 'application/binary'});\n",
              "      const a = document.createElement('a');\n",
              "      a.href = window.URL.createObjectURL(blob);\n",
              "      a.download = filename;\n",
              "      div.appendChild(a);\n",
              "      a.click();\n",
              "      div.remove();\n",
              "    }\n",
              "  "
            ]
          },
          "metadata": {}
        },
        {
          "output_type": "display_data",
          "data": {
            "text/plain": [
              "<IPython.core.display.Javascript object>"
            ],
            "application/javascript": [
              "download(\"download_40f9ec92-95ab-4d5b-90d5-f3b1b1bc2b3a\", \"X_testP5_3.pt\", 1494379)"
            ]
          },
          "metadata": {}
        },
        {
          "output_type": "display_data",
          "data": {
            "text/plain": [
              "<IPython.core.display.Javascript object>"
            ],
            "application/javascript": [
              "\n",
              "    async function download(id, filename, size) {\n",
              "      if (!google.colab.kernel.accessAllowed) {\n",
              "        return;\n",
              "      }\n",
              "      const div = document.createElement('div');\n",
              "      const label = document.createElement('label');\n",
              "      label.textContent = `Downloading \"${filename}\": `;\n",
              "      div.appendChild(label);\n",
              "      const progress = document.createElement('progress');\n",
              "      progress.max = size;\n",
              "      div.appendChild(progress);\n",
              "      document.body.appendChild(div);\n",
              "\n",
              "      const buffers = [];\n",
              "      let downloaded = 0;\n",
              "\n",
              "      const channel = await google.colab.kernel.comms.open(id);\n",
              "      // Send a message to notify the kernel that we're ready.\n",
              "      channel.send({})\n",
              "\n",
              "      for await (const message of channel.messages) {\n",
              "        // Send a message to notify the kernel that we're ready.\n",
              "        channel.send({})\n",
              "        if (message.buffers) {\n",
              "          for (const buffer of message.buffers) {\n",
              "            buffers.push(buffer);\n",
              "            downloaded += buffer.byteLength;\n",
              "            progress.value = downloaded;\n",
              "          }\n",
              "        }\n",
              "      }\n",
              "      const blob = new Blob(buffers, {type: 'application/binary'});\n",
              "      const a = document.createElement('a');\n",
              "      a.href = window.URL.createObjectURL(blob);\n",
              "      a.download = filename;\n",
              "      div.appendChild(a);\n",
              "      a.click();\n",
              "      div.remove();\n",
              "    }\n",
              "  "
            ]
          },
          "metadata": {}
        },
        {
          "output_type": "display_data",
          "data": {
            "text/plain": [
              "<IPython.core.display.Javascript object>"
            ],
            "application/javascript": [
              "download(\"download_bf8edd93-392e-4c5b-af26-c2073b8bc598\", \"X_testP5_4.pt\", 1494379)"
            ]
          },
          "metadata": {}
        },
        {
          "output_type": "display_data",
          "data": {
            "text/plain": [
              "<IPython.core.display.Javascript object>"
            ],
            "application/javascript": [
              "\n",
              "    async function download(id, filename, size) {\n",
              "      if (!google.colab.kernel.accessAllowed) {\n",
              "        return;\n",
              "      }\n",
              "      const div = document.createElement('div');\n",
              "      const label = document.createElement('label');\n",
              "      label.textContent = `Downloading \"${filename}\": `;\n",
              "      div.appendChild(label);\n",
              "      const progress = document.createElement('progress');\n",
              "      progress.max = size;\n",
              "      div.appendChild(progress);\n",
              "      document.body.appendChild(div);\n",
              "\n",
              "      const buffers = [];\n",
              "      let downloaded = 0;\n",
              "\n",
              "      const channel = await google.colab.kernel.comms.open(id);\n",
              "      // Send a message to notify the kernel that we're ready.\n",
              "      channel.send({})\n",
              "\n",
              "      for await (const message of channel.messages) {\n",
              "        // Send a message to notify the kernel that we're ready.\n",
              "        channel.send({})\n",
              "        if (message.buffers) {\n",
              "          for (const buffer of message.buffers) {\n",
              "            buffers.push(buffer);\n",
              "            downloaded += buffer.byteLength;\n",
              "            progress.value = downloaded;\n",
              "          }\n",
              "        }\n",
              "      }\n",
              "      const blob = new Blob(buffers, {type: 'application/binary'});\n",
              "      const a = document.createElement('a');\n",
              "      a.href = window.URL.createObjectURL(blob);\n",
              "      a.download = filename;\n",
              "      div.appendChild(a);\n",
              "      a.click();\n",
              "      div.remove();\n",
              "    }\n",
              "  "
            ]
          },
          "metadata": {}
        },
        {
          "output_type": "display_data",
          "data": {
            "text/plain": [
              "<IPython.core.display.Javascript object>"
            ],
            "application/javascript": [
              "download(\"download_03a39d5d-afb5-4d85-a8bc-6f8b368922a4\", \"y_testP5.pt\", 2401)"
            ]
          },
          "metadata": {}
        }
      ]
    },
    {
      "cell_type": "markdown",
      "source": [
        "Outputs for P05 training data"
      ],
      "metadata": {
        "id": "ZvNQ7b-xJBlJ"
      }
    },
    {
      "cell_type": "code",
      "source": [
        "labels = train_P05.Label.unique()\n",
        "y_trainP5 = torch.zeros(len(train_P05), dtype=torch.int)\n",
        "for idx, label in enumerate(labels):\n",
        "    y_trainP5[(train_P05.Label == label).values] = idx\n",
        "print(y_trainP5.shape)"
      ],
      "metadata": {
        "colab": {
          "base_uri": "https://localhost:8080/"
        },
        "id": "WBNK6PnrJSXy",
        "outputId": "2459d64b-22b3-4ac2-d9cd-b198ac387cde"
      },
      "execution_count": null,
      "outputs": [
        {
          "output_type": "stream",
          "name": "stdout",
          "text": [
            "torch.Size([673])\n"
          ]
        }
      ]
    },
    {
      "cell_type": "code",
      "source": [
        "from google.colab import files\n",
        "\n",
        "#save the tensor\n",
        "torch.save(y_trainP5, 'y_trainP5.pt')\n",
        "files.download('y_trainP5.pt')"
      ],
      "metadata": {
        "colab": {
          "base_uri": "https://localhost:8080/",
          "height": 17
        },
        "id": "1hLBiXxJJ59K",
        "outputId": "1519f85f-b1c2-40c0-f18a-019771cf7abb"
      },
      "execution_count": null,
      "outputs": [
        {
          "output_type": "display_data",
          "data": {
            "text/plain": [
              "<IPython.core.display.Javascript object>"
            ],
            "application/javascript": [
              "\n",
              "    async function download(id, filename, size) {\n",
              "      if (!google.colab.kernel.accessAllowed) {\n",
              "        return;\n",
              "      }\n",
              "      const div = document.createElement('div');\n",
              "      const label = document.createElement('label');\n",
              "      label.textContent = `Downloading \"${filename}\": `;\n",
              "      div.appendChild(label);\n",
              "      const progress = document.createElement('progress');\n",
              "      progress.max = size;\n",
              "      div.appendChild(progress);\n",
              "      document.body.appendChild(div);\n",
              "\n",
              "      const buffers = [];\n",
              "      let downloaded = 0;\n",
              "\n",
              "      const channel = await google.colab.kernel.comms.open(id);\n",
              "      // Send a message to notify the kernel that we're ready.\n",
              "      channel.send({})\n",
              "\n",
              "      for await (const message of channel.messages) {\n",
              "        // Send a message to notify the kernel that we're ready.\n",
              "        channel.send({})\n",
              "        if (message.buffers) {\n",
              "          for (const buffer of message.buffers) {\n",
              "            buffers.push(buffer);\n",
              "            downloaded += buffer.byteLength;\n",
              "            progress.value = downloaded;\n",
              "          }\n",
              "        }\n",
              "      }\n",
              "      const blob = new Blob(buffers, {type: 'application/binary'});\n",
              "      const a = document.createElement('a');\n",
              "      a.href = window.URL.createObjectURL(blob);\n",
              "      a.download = filename;\n",
              "      div.appendChild(a);\n",
              "      a.click();\n",
              "      div.remove();\n",
              "    }\n",
              "  "
            ]
          },
          "metadata": {}
        },
        {
          "output_type": "display_data",
          "data": {
            "text/plain": [
              "<IPython.core.display.Javascript object>"
            ],
            "application/javascript": [
              "download(\"download_47ea6429-aa2f-4c03-934a-45422b419deb\", \"y_trainP5.pt\", 3878)"
            ]
          },
          "metadata": {}
        }
      ]
    }
  ]
}