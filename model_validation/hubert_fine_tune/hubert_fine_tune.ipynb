{
 "cells": [
  {
   "cell_type": "markdown",
   "metadata": {},
   "source": [
    "## Fine tune a HuBERT model\n",
    "\n",
    "We construct a label classifying by adding two fully-connected layers on top\n",
    "of a pretrained HuBERT feature extraction network. We train the two added layers\n",
    "on ReCANVo data, then we unfreeze the HuBERT extraction layer and train further."
   ]
  },
  {
   "cell_type": "code",
   "execution_count": 2,
   "metadata": {},
   "outputs": [],
   "source": [
    "from copy import deepcopy\n",
    "import os\n",
    "from pathlib import Path\n",
    "import random\n",
    "import sys\n",
    "\n",
    "import matplotlib.pyplot as plt\n",
    "import numpy as np\n",
    "import pandas as pd\n",
    "from sklearn.linear_model import LogisticRegression\n",
    "from sklearn.metrics import confusion_matrix\n",
    "from sklearn.pipeline import make_pipeline\n",
    "from sklearn.preprocessing import StandardScaler\n",
    "from tqdm.notebook import tqdm\n",
    "import torch\n",
    "from torch import nn\n",
    "import torchaudio\n",
    "from torcheval.metrics.functional import multiclass_f1_score\n",
    "\n",
    "helper_dir = Path(os.getcwd()).parent / \"helpers\"\n",
    "sys.path.append(str(helper_dir))\n",
    "from helpers import get_hubert_features, unweighted_f1"
   ]
  },
  {
   "cell_type": "code",
   "execution_count": 3,
   "metadata": {},
   "outputs": [],
   "source": [
    "class Model(nn.Module):\n",
    "    \"\"\"\n",
    "    Neural network using pre-trained HuBERT model with additional layers\n",
    "    \"\"\"\n",
    "\n",
    "    def __init__(self, hubert_model, additional_model):\n",
    "        super().__init__()\n",
    "        self.hubert_model = hubert_model\n",
    "        self.additional_model = additional_model\n",
    "\n",
    "    def forward(self, X, features=False):\n",
    "        \"\"\"\n",
    "        If features is True, treat X as input to self.additional_model.\n",
    "        Otherwise, treat X as a raw waveform and extract HuBERT features first.\n",
    "        \"\"\"\n",
    "        if not features:\n",
    "            X = self.hubert_features(X)\n",
    "        pred = self.additional_model(X)\n",
    "\n",
    "        return pred\n",
    "\n",
    "    def hubert_features(self, waveform):\n",
    "        if waveform.ndim == 3 and waveform.shape[0] == 1:\n",
    "            waveform = waveform.squeeze(0)\n",
    "        x = self.hubert_model.extract_features(waveform, num_layers=1)[0]\n",
    "        return x[0].mean((0, 1)).unsqueeze(0)\n",
    "\n",
    "    def freeze_hubert(self):\n",
    "        for param in self.hubert_model.parameters():\n",
    "            param.requires_grad = False\n",
    "\n",
    "    def unfreeze_hubert(self):\n",
    "        for param in self.hubert_model.parameters():\n",
    "            param.requires_grad = True"
   ]
  },
  {
   "cell_type": "code",
   "execution_count": 4,
   "metadata": {},
   "outputs": [
    {
     "data": {
      "application/vnd.jupyter.widget-view+json": {
       "model_id": "96c3fdca091b4b198c81572ce3c048e7",
       "version_major": 2,
       "version_minor": 0
      },
      "text/plain": [
       "  0%|          | 0/981 [00:00<?, ?it/s]"
      ]
     },
     "metadata": {},
     "output_type": "display_data"
    }
   ],
   "source": [
    "# Get HuBERT features for one participant\n",
    "hubert_features = get_hubert_features(\"P05\")\n",
    "label_list = hubert_features[\"label_list\"]\n",
    "X_tr = hubert_features[\"X_tr\"]\n",
    "y_tr = hubert_features[\"y_tr\"]\n",
    "X_te = hubert_features[\"X_te\"]"
   ]
  },
  {
   "cell_type": "markdown",
   "metadata": {},
   "source": [
    "## Fine tune HuBERT model\n",
    "\n",
    "First, we freeze HuBERT, train the remaining layers until out-of-sample performance\n",
    "is maximized. Then, we unfreeze the HuBERT layer, and train for an additional epoch,\n",
    "using a smaller learning rate."
   ]
  },
  {
   "cell_type": "code",
   "execution_count": 5,
   "metadata": {},
   "outputs": [
    {
     "data": {
      "application/vnd.jupyter.widget-view+json": {
       "model_id": "67ba50b6c31b4d44b4fd660675196310",
       "version_major": 2,
       "version_minor": 0
      },
      "text/plain": [
       "  0%|          | 0/300 [00:00<?, ?it/s]"
      ]
     },
     "metadata": {},
     "output_type": "display_data"
    },
    {
     "name": "stderr",
     "output_type": "stream",
     "text": [
      "/home/jr/miniconda3/envs/ml_311/lib/python3.11/site-packages/torch/nn/modules/module.py:1532: UserWarning: Implicit dimension choice for softmax has been deprecated. Change the call to include dim=X as an argument.\n",
      "  return self._call_impl(*args, **kwargs)\n",
      "/home/jr/miniconda3/envs/ml_311/lib/python3.11/site-packages/torch/autograd/graph.py:744: UserWarning: CUDA initialization: CUDA unknown error - this may be due to an incorrectly set up environment, e.g. changing env variable CUDA_VISIBLE_DEVICES after program start. Setting the available devices to be zero. (Triggered internally at ../c10/cuda/CUDAFunctions.cpp:108.)\n",
      "  return Variable._execution_engine.run_backward(  # Calls into the C++ engine to run the backward pass\n"
     ]
    },
    {
     "name": "stdout",
     "output_type": "stream",
     "text": [
      "0.6201506 122\n"
     ]
    },
    {
     "data": {
      "image/png": "[encoded data removed]",
      "text/plain": [
       "<Figure size 640x480 with 1 Axes>"
      ]
     },
     "metadata": {},
     "output_type": "display_data"
    }
   ],
   "source": [
    "np.random.seed(12345)\n",
    "test_folds = np.random.randint(0, 10, len(X_tr))\n",
    "\n",
    "hidden_size = 16\n",
    "torch.manual_seed(12345)\n",
    "additional_model = nn.Sequential(\n",
    "    nn.Linear(768, hidden_size),\n",
    "    nn.ReLU(),\n",
    "    nn.Linear(hidden_size, len(label_list)),\n",
    "    nn.Softmax(),\n",
    ")\n",
    "base_model = Model(\n",
    "    torchaudio.pipelines.HUBERT_BASE.get_model(), additional_model\n",
    ")\n",
    "model_dict = {}\n",
    "opt_dict = {}\n",
    "for test_fold in np.unique(test_folds):\n",
    "    model = deepcopy(base_model)\n",
    "    opt = torch.optim.AdamW(model.parameters(), lr=1e-2)\n",
    "    model_dict[test_fold] = model\n",
    "    opt_dict[test_fold] = opt\n",
    "\n",
    "scores = []\n",
    "for n in tqdm(range(300)):\n",
    "    pred = torch.zeros(len(X_tr), len(label_list))\n",
    "    for fold, model in model_dict.items():\n",
    "        opt = opt_dict[fold]\n",
    "        mask = test_folds == fold\n",
    "        loss = nn.NLLLoss()(\n",
    "            model(X_tr[~mask], features=True).log(), y_tr[~mask]\n",
    "        )\n",
    "        opt.zero_grad()\n",
    "        loss.backward()\n",
    "        opt.step()\n",
    "        with torch.no_grad():\n",
    "            pred[mask] = model(X_tr[mask], features=True)\n",
    "    score = multiclass_f1_score(\n",
    "        pred, y_tr, average=\"macro\", num_classes=len(label_list)\n",
    "    )\n",
    "    scores.append(score)\n",
    "scores = np.array(scores)\n",
    "smoothed_scores = sum(scores[n : -9 + n] for n in range(9)) / 9\n",
    "print(np.max(smoothed_scores), np.argmax(smoothed_scores) + 4)\n",
    "plt.plot(smoothed_scores)\n",
    "plt.show()"
   ]
  },
  {
   "cell_type": "code",
   "execution_count": 16,
   "metadata": {},
   "outputs": [
    {
     "data": {
      "application/vnd.jupyter.widget-view+json": {
       "model_id": "cbb6f4bafeed4050b577dc89beb798c7",
       "version_major": 2,
       "version_minor": 0
      },
      "text/plain": [
       "  0%|          | 0/123 [00:00<?, ?it/s]"
      ]
     },
     "metadata": {},
     "output_type": "display_data"
    },
    {
     "name": "stderr",
     "output_type": "stream",
     "text": [
      "/home/jr/miniconda3/envs/ml_311/lib/python3.11/site-packages/torch/nn/modules/module.py:1532: UserWarning: Implicit dimension choice for softmax has been deprecated. Change the call to include dim=X as an argument.\n",
      "  return self._call_impl(*args, **kwargs)\n"
     ]
    },
    {
     "name": "stdout",
     "output_type": "stream",
     "text": [
      "tensor(0.6192)\n"
     ]
    }
   ],
   "source": [
    "np.random.seed(12345)\n",
    "test_folds = np.random.randint(0, 10, len(X_tr))\n",
    "\n",
    "hidden_size = 16\n",
    "torch.manual_seed(12345)\n",
    "additional_model = nn.Sequential(\n",
    "    nn.Linear(768, hidden_size),\n",
    "    nn.ReLU(),\n",
    "    nn.Linear(hidden_size, len(label_list)),\n",
    "    nn.Softmax(),\n",
    ")\n",
    "base_model = Model(\n",
    "    torchaudio.pipelines.HUBERT_BASE.get_model(), additional_model\n",
    ")\n",
    "model_dict = {}\n",
    "opt_dict = {}\n",
    "for test_fold in np.unique(test_folds):\n",
    "    model = deepcopy(base_model)\n",
    "    opt = torch.optim.AdamW(model.parameters(), lr=1e-2)\n",
    "    model_dict[test_fold] = model\n",
    "    opt_dict[test_fold] = opt\n",
    "\n",
    "# Train network\n",
    "for n in tqdm(range(123)):\n",
    "    for fold, model in model_dict.items():\n",
    "        opt = opt_dict[fold]\n",
    "        mask = test_folds == fold\n",
    "        loss = nn.NLLLoss()(\n",
    "            model(X_tr[~mask], features=True).log(), y_tr[~mask]\n",
    "        )\n",
    "        opt.zero_grad()\n",
    "        loss.backward()\n",
    "        opt.step()\n",
    "\n",
    "# Check performance (should be very similar to previous cell)\n",
    "pred = torch.zeros(len(X_tr), len(label_list))\n",
    "for fold, model in model_dict.items():\n",
    "    opt = opt_dict[fold]\n",
    "    mask = test_folds == fold\n",
    "    loss = nn.NLLLoss()(model(X_tr[~mask], features=True).log(), y_tr[~mask])\n",
    "    opt.zero_grad()\n",
    "    loss.backward()\n",
    "    opt.step()\n",
    "    with torch.no_grad():\n",
    "        pred[mask] = model(X_tr[mask], features=True)\n",
    "score = multiclass_f1_score(\n",
    "    pred, y_tr, average=\"macro\", num_classes=len(label_list)\n",
    ")\n",
    "print(score)"
   ]
  },
  {
   "cell_type": "code",
   "execution_count": 9,
   "metadata": {},
   "outputs": [],
   "source": [
    "waveforms_tr = hubert_features[\"waveforms_tr\"]\n",
    "session_tr = hubert_features[\"session_tr\"]"
   ]
  },
  {
   "cell_type": "code",
   "execution_count": 18,
   "metadata": {},
   "outputs": [
    {
     "data": {
      "application/vnd.jupyter.widget-view+json": {
       "model_id": "c6a36c64121e4faf82e4ca1a6d63e23e",
       "version_major": 2,
       "version_minor": 0
      },
      "text/plain": [
       "0it [00:00, ?it/s]"
      ]
     },
     "metadata": {},
     "output_type": "display_data"
    },
    {
     "name": "stderr",
     "output_type": "stream",
     "text": [
      "/home/jr/miniconda3/envs/ml_311/lib/python3.11/site-packages/torch/nn/modules/module.py:1532: UserWarning: Implicit dimension choice for softmax has been deprecated. Change the call to include dim=X as an argument.\n",
      "  return self._call_impl(*args, **kwargs)\n"
     ]
    },
    {
     "name": "stdout",
     "output_type": "stream",
     "text": [
      "Score: tensor(0.5957)\n"
     ]
    },
    {
     "ename": "KeyboardInterrupt",
     "evalue": "",
     "output_type": "error",
     "traceback": [
      "\u001b[0;31m---------------------------------------------------------------------------\u001b[0m",
      "\u001b[0;31mKeyboardInterrupt\u001b[0m                         Traceback (most recent call last)",
      "Cell \u001b[0;32mIn[18], line 19\u001b[0m\n\u001b[1;32m     17\u001b[0m     loss \u001b[38;5;241m=\u001b[39m nn\u001b[38;5;241m.\u001b[39mNLLLoss()(model(waveform)\u001b[38;5;241m.\u001b[39mlog(), yy\u001b[38;5;241m.\u001b[39munsqueeze(\u001b[38;5;241m0\u001b[39m))\n\u001b[1;32m     18\u001b[0m     opt\u001b[38;5;241m.\u001b[39mzero_grad()\n\u001b[0;32m---> 19\u001b[0m     \u001b[43mloss\u001b[49m\u001b[38;5;241;43m.\u001b[39;49m\u001b[43mbackward\u001b[49m\u001b[43m(\u001b[49m\u001b[43m)\u001b[49m\n\u001b[1;32m     20\u001b[0m     opt\u001b[38;5;241m.\u001b[39mstep()\n\u001b[1;32m     21\u001b[0m \u001b[38;5;28;01mif\u001b[39;00m (count \u001b[38;5;241m+\u001b[39m \u001b[38;5;241m1\u001b[39m) \u001b[38;5;241m%\u001b[39m \u001b[38;5;241m50\u001b[39m \u001b[38;5;241m==\u001b[39m \u001b[38;5;241m0\u001b[39m:\n",
      "File \u001b[0;32m~/miniconda3/envs/ml_311/lib/python3.11/site-packages/torch/_tensor.py:525\u001b[0m, in \u001b[0;36mTensor.backward\u001b[0;34m(self, gradient, retain_graph, create_graph, inputs)\u001b[0m\n\u001b[1;32m    515\u001b[0m \u001b[38;5;28;01mif\u001b[39;00m has_torch_function_unary(\u001b[38;5;28mself\u001b[39m):\n\u001b[1;32m    516\u001b[0m     \u001b[38;5;28;01mreturn\u001b[39;00m handle_torch_function(\n\u001b[1;32m    517\u001b[0m         Tensor\u001b[38;5;241m.\u001b[39mbackward,\n\u001b[1;32m    518\u001b[0m         (\u001b[38;5;28mself\u001b[39m,),\n\u001b[0;32m   (...)\u001b[0m\n\u001b[1;32m    523\u001b[0m         inputs\u001b[38;5;241m=\u001b[39minputs,\n\u001b[1;32m    524\u001b[0m     )\n\u001b[0;32m--> 525\u001b[0m \u001b[43mtorch\u001b[49m\u001b[38;5;241;43m.\u001b[39;49m\u001b[43mautograd\u001b[49m\u001b[38;5;241;43m.\u001b[39;49m\u001b[43mbackward\u001b[49m\u001b[43m(\u001b[49m\n\u001b[1;32m    526\u001b[0m \u001b[43m    \u001b[49m\u001b[38;5;28;43mself\u001b[39;49m\u001b[43m,\u001b[49m\u001b[43m \u001b[49m\u001b[43mgradient\u001b[49m\u001b[43m,\u001b[49m\u001b[43m \u001b[49m\u001b[43mretain_graph\u001b[49m\u001b[43m,\u001b[49m\u001b[43m \u001b[49m\u001b[43mcreate_graph\u001b[49m\u001b[43m,\u001b[49m\u001b[43m \u001b[49m\u001b[43minputs\u001b[49m\u001b[38;5;241;43m=\u001b[39;49m\u001b[43minputs\u001b[49m\n\u001b[1;32m    527\u001b[0m \u001b[43m\u001b[49m\u001b[43m)\u001b[49m\n",
      "File \u001b[0;32m~/miniconda3/envs/ml_311/lib/python3.11/site-packages/torch/autograd/__init__.py:267\u001b[0m, in \u001b[0;36mbackward\u001b[0;34m(tensors, grad_tensors, retain_graph, create_graph, grad_variables, inputs)\u001b[0m\n\u001b[1;32m    262\u001b[0m     retain_graph \u001b[38;5;241m=\u001b[39m create_graph\n\u001b[1;32m    264\u001b[0m \u001b[38;5;66;03m# The reason we repeat the same comment below is that\u001b[39;00m\n\u001b[1;32m    265\u001b[0m \u001b[38;5;66;03m# some Python versions print out the first line of a multi-line function\u001b[39;00m\n\u001b[1;32m    266\u001b[0m \u001b[38;5;66;03m# calls in the traceback and some print out the last line\u001b[39;00m\n\u001b[0;32m--> 267\u001b[0m \u001b[43m_engine_run_backward\u001b[49m\u001b[43m(\u001b[49m\n\u001b[1;32m    268\u001b[0m \u001b[43m    \u001b[49m\u001b[43mtensors\u001b[49m\u001b[43m,\u001b[49m\n\u001b[1;32m    269\u001b[0m \u001b[43m    \u001b[49m\u001b[43mgrad_tensors_\u001b[49m\u001b[43m,\u001b[49m\n\u001b[1;32m    270\u001b[0m \u001b[43m    \u001b[49m\u001b[43mretain_graph\u001b[49m\u001b[43m,\u001b[49m\n\u001b[1;32m    271\u001b[0m \u001b[43m    \u001b[49m\u001b[43mcreate_graph\u001b[49m\u001b[43m,\u001b[49m\n\u001b[1;32m    272\u001b[0m \u001b[43m    \u001b[49m\u001b[43minputs\u001b[49m\u001b[43m,\u001b[49m\n\u001b[1;32m    273\u001b[0m \u001b[43m    \u001b[49m\u001b[43mallow_unreachable\u001b[49m\u001b[38;5;241;43m=\u001b[39;49m\u001b[38;5;28;43;01mTrue\u001b[39;49;00m\u001b[43m,\u001b[49m\n\u001b[1;32m    274\u001b[0m \u001b[43m    \u001b[49m\u001b[43maccumulate_grad\u001b[49m\u001b[38;5;241;43m=\u001b[39;49m\u001b[38;5;28;43;01mTrue\u001b[39;49;00m\u001b[43m,\u001b[49m\n\u001b[1;32m    275\u001b[0m \u001b[43m\u001b[49m\u001b[43m)\u001b[49m\n",
      "File \u001b[0;32m~/miniconda3/envs/ml_311/lib/python3.11/site-packages/torch/autograd/graph.py:744\u001b[0m, in \u001b[0;36m_engine_run_backward\u001b[0;34m(t_outputs, *args, **kwargs)\u001b[0m\n\u001b[1;32m    742\u001b[0m     unregister_hooks \u001b[38;5;241m=\u001b[39m _register_logging_hooks_on_whole_graph(t_outputs)\n\u001b[1;32m    743\u001b[0m \u001b[38;5;28;01mtry\u001b[39;00m:\n\u001b[0;32m--> 744\u001b[0m     \u001b[38;5;28;01mreturn\u001b[39;00m \u001b[43mVariable\u001b[49m\u001b[38;5;241;43m.\u001b[39;49m\u001b[43m_execution_engine\u001b[49m\u001b[38;5;241;43m.\u001b[39;49m\u001b[43mrun_backward\u001b[49m\u001b[43m(\u001b[49m\u001b[43m  \u001b[49m\u001b[38;5;66;43;03m# Calls into the C++ engine to run the backward pass\u001b[39;49;00m\n\u001b[1;32m    745\u001b[0m \u001b[43m        \u001b[49m\u001b[43mt_outputs\u001b[49m\u001b[43m,\u001b[49m\u001b[43m \u001b[49m\u001b[38;5;241;43m*\u001b[39;49m\u001b[43margs\u001b[49m\u001b[43m,\u001b[49m\u001b[43m \u001b[49m\u001b[38;5;241;43m*\u001b[39;49m\u001b[38;5;241;43m*\u001b[39;49m\u001b[43mkwargs\u001b[49m\n\u001b[1;32m    746\u001b[0m \u001b[43m    \u001b[49m\u001b[43m)\u001b[49m  \u001b[38;5;66;03m# Calls into the C++ engine to run the backward pass\u001b[39;00m\n\u001b[1;32m    747\u001b[0m \u001b[38;5;28;01mfinally\u001b[39;00m:\n\u001b[1;32m    748\u001b[0m     \u001b[38;5;28;01mif\u001b[39;00m attach_logging_hooks:\n",
      "\u001b[0;31mKeyboardInterrupt\u001b[0m: "
     ]
    }
   ],
   "source": [
    "# Unfreeze the HuBERT model and fine tune. We iterate through samples, and\n",
    "# monitor out-of-sample performance every 100 samples.\n",
    "for session, model in model_dict.items():\n",
    "    opt = torch.optim.AdamW(model.parameters(), lr=7e-7)\n",
    "    model.unfreeze_hubert()\n",
    "    opt_dict[session] = opt\n",
    "\n",
    "to_iterate = list(zip(waveforms_tr, test_folds, y_tr))\n",
    "random.shuffle(to_iterate)\n",
    "\n",
    "for count, (waveform, test_fold, yy) in tqdm(enumerate(to_iterate)):\n",
    "    for other_fold, model in model_dict.items():\n",
    "        if other_fold == test_fold:\n",
    "            continue\n",
    "        model = model_dict[other_fold]\n",
    "        opt = opt_dict[other_fold]\n",
    "        loss = nn.NLLLoss()(model(waveform).log(), yy.unsqueeze(0))\n",
    "\n",
    "        # We make a (very small) update after every sample. Batching waveforms\n",
    "        # is difficult because they have different shapes.\n",
    "        opt.zero_grad()\n",
    "        loss.backward()\n",
    "        opt.step()\n",
    "\n",
    "    if (count + 1) % 50 == 0:\n",
    "        with torch.no_grad():\n",
    "            preds = []\n",
    "            for waveform, fold in zip(waveforms_tr, test_folds):\n",
    "                model = model_dict[fold]\n",
    "                preds.append(model(waveform))\n",
    "        preds = torch.tensor(np.array([p[0].numpy() for p in preds]))\n",
    "        print(\n",
    "            \"Score:\",\n",
    "            multiclass_f1_score(\n",
    "                preds, y_tr, average=\"macro\", num_classes=len(label_list)\n",
    "            ),\n",
    "        )"
   ]
  },
  {
   "cell_type": "code",
   "execution_count": 15,
   "metadata": {},
   "outputs": [
    {
     "name": "stdout",
     "output_type": "stream",
     "text": [
      "Score: tensor(0.6075)\n"
     ]
    }
   ],
   "source": [
    "print(\n",
    "    \"Score:\",\n",
    "    multiclass_f1_score(\n",
    "        preds, y_tr, average=\"macro\", num_classes=len(label_list)\n",
    "    ),\n",
    ")"
   ]
  }
 ],
 "metadata": {
  "kernelspec": {
   "display_name": "ml_311",
   "language": "python",
   "name": "python3"
  },
  "language_info": {
   "codemirror_mode": {
    "name": "ipython",
    "version": 3
   },
   "file_extension": ".py",
   "mimetype": "text/x-python",
   "name": "python",
   "nbconvert_exporter": "python",
   "pygments_lexer": "ipython3",
   "version": "3.11.0"
  }
 },
 "nbformat": 4,
 "nbformat_minor": 2
}
