{
 "cells": [
  {
   "cell_type": "markdown",
   "metadata": {},
   "source": [
    "## Comparison of results\n",
    "\n",
    "This notebook compares the results of pretrained HuBERT + regularized logistic\n",
    "regression to the results of the paper `Transfer Learning with Real-World Nonverbal Vocalizations from Minimally Speaking Individuals`. We subsample our data to match\n",
    "the methodology of the paper, then run our classifier. For participants `P01` and `P16`, the model here performs significantly better than the models in the paper.\n",
    "For other participants, the results are comparable."
   ]
  },
  {
   "cell_type": "code",
   "execution_count": 2,
   "metadata": {},
   "outputs": [],
   "source": [
    "import os\n",
    "from pathlib import Path\n",
    "import sys\n",
    "\n",
    "import matplotlib.pyplot as plt\n",
    "import numpy as np\n",
    "import pandas as pd\n",
    "from sklearn.linear_model import LogisticRegression\n",
    "from sklearn.metrics import f1_score, confusion_matrix\n",
    "from sklearn.model_selection import KFold, cross_val_predict\n",
    "from sklearn.pipeline import make_pipeline\n",
    "from sklearn.preprocessing import StandardScaler\n",
    "from skopt import BayesSearchCV\n",
    "from tqdm.notebook import tqdm\n",
    "import torch\n",
    "\n",
    "helper_dir = Path(os.getcwd()).parent / \"helpers\"\n",
    "sys.path.append(str(helper_dir))\n",
    "from helpers import get_hubert_features, unweighted_f1"
   ]
  },
  {
   "cell_type": "code",
   "execution_count": 3,
   "metadata": {},
   "outputs": [],
   "source": [
    "classes = {\n",
    "    \"P01\": [\"delighted\", \"dysregulated\", \"request\", \"frustrated\"],\n",
    "    \"P02\": [\"delighted\", \"social\", \"frustrated\", \"selftalk\"],\n",
    "    \"P03\": [\"dysregulated\", \"request\", \"frustrated\", \"selftalk\"],\n",
    "    \"P05\": [\"dysregulated\", \"delighted\", \"frustrated\", \"selftalk\"],\n",
    "    \"P06\": [\"delighted\", \"request\", \"selftalk\", \"frustrated\", \"yes\"],\n",
    "    \"P08\": [\"frustrated\", \"delighted\", \"social\", \"selftalk\", \"request\"],\n",
    "    \"P11\": [\"delighted\", \"frustrated\", \"selftalk\", \"social\"],\n",
    "    \"P16\": [\"delighted\", \"frustrated\", \"selftalk\", \"social\"],\n",
    "}"
   ]
  },
  {
   "cell_type": "code",
   "execution_count": 12,
   "metadata": {},
   "outputs": [
    {
     "name": "stdout",
     "output_type": "stream",
     "text": [
      "P01\n"
     ]
    },
    {
     "data": {
      "application/vnd.jupyter.widget-view+json": {
       "model_id": "9445370e8c1540fd849890c6e9577e84",
       "version_major": 2,
       "version_minor": 0
      },
      "text/plain": [
       "  0%|          | 0/124 [00:00<?, ?it/s]"
      ]
     },
     "metadata": {},
     "output_type": "display_data"
    },
    {
     "name": "stdout",
     "output_type": "stream",
     "text": [
      "delighted       31\n",
      "dysregulated    31\n",
      "frustrated      31\n",
      "request         31\n",
      "Name: count, dtype: int64\n",
      "C=0.057336309409118366\n",
      "Out-of-sample f1 score: 0.7522\n",
      "P02\n"
     ]
    },
    {
     "data": {
      "application/vnd.jupyter.widget-view+json": {
       "model_id": "d909b14afe5f436c89d17e911829b8b9",
       "version_major": 2,
       "version_minor": 0
      },
      "text/plain": [
       "  0%|          | 0/136 [00:00<?, ?it/s]"
      ]
     },
     "metadata": {},
     "output_type": "display_data"
    },
    {
     "name": "stdout",
     "output_type": "stream",
     "text": [
      "delighted     34\n",
      "frustrated    34\n",
      "selftalk      34\n",
      "social        34\n",
      "Name: count, dtype: int64\n",
      "C=0.011337786404440388\n",
      "Out-of-sample f1 score: 0.4772\n",
      "P03\n"
     ]
    },
    {
     "data": {
      "application/vnd.jupyter.widget-view+json": {
       "model_id": "db1e89c4f1c34d8794dcedcb2148547d",
       "version_major": 2,
       "version_minor": 0
      },
      "text/plain": [
       "  0%|          | 0/100 [00:00<?, ?it/s]"
      ]
     },
     "metadata": {},
     "output_type": "display_data"
    },
    {
     "name": "stdout",
     "output_type": "stream",
     "text": [
      "dysregulated    25\n",
      "frustrated      25\n",
      "request         25\n",
      "selftalk        25\n",
      "Name: count, dtype: int64\n",
      "C=0.004744372218162122\n",
      "Out-of-sample f1 score: 0.6072\n",
      "P05\n"
     ]
    },
    {
     "data": {
      "application/vnd.jupyter.widget-view+json": {
       "model_id": "d7f5beadb0b04b8681751392800c6260",
       "version_major": 2,
       "version_minor": 0
      },
      "text/plain": [
       "  0%|          | 0/248 [00:00<?, ?it/s]"
      ]
     },
     "metadata": {},
     "output_type": "display_data"
    },
    {
     "name": "stdout",
     "output_type": "stream",
     "text": [
      "delighted       62\n",
      "dysregulated    62\n",
      "frustrated      62\n",
      "selftalk        62\n",
      "Name: count, dtype: int64\n",
      "C=0.0013303630764645157\n",
      "Out-of-sample f1 score: 0.5729\n",
      "P06\n"
     ]
    },
    {
     "data": {
      "application/vnd.jupyter.widget-view+json": {
       "model_id": "23ccb74291e741a8b5a65145ace23bd5",
       "version_major": 2,
       "version_minor": 0
      },
      "text/plain": [
       "  0%|          | 0/110 [00:00<?, ?it/s]"
      ]
     },
     "metadata": {},
     "output_type": "display_data"
    },
    {
     "name": "stdout",
     "output_type": "stream",
     "text": [
      "delighted     22\n",
      "frustrated    22\n",
      "request       22\n",
      "selftalk      22\n",
      "yes           22\n",
      "Name: count, dtype: int64\n",
      "C=0.0010494097133419778\n",
      "Out-of-sample f1 score: 0.3214\n",
      "P08\n"
     ]
    },
    {
     "data": {
      "application/vnd.jupyter.widget-view+json": {
       "model_id": "8f8ec10e3e27470bbf9eccd8819e5c98",
       "version_major": 2,
       "version_minor": 0
      },
      "text/plain": [
       "  0%|          | 0/165 [00:00<?, ?it/s]"
      ]
     },
     "metadata": {},
     "output_type": "display_data"
    },
    {
     "name": "stdout",
     "output_type": "stream",
     "text": [
      "delighted     33\n",
      "frustrated    33\n",
      "request       33\n",
      "selftalk      33\n",
      "social        33\n",
      "Name: count, dtype: int64\n",
      "C=0.04456512088719514\n",
      "Out-of-sample f1 score: 0.3558\n",
      "P11\n"
     ]
    },
    {
     "data": {
      "application/vnd.jupyter.widget-view+json": {
       "model_id": "adf5a2bd93264c7098d6215fee2c6743",
       "version_major": 2,
       "version_minor": 0
      },
      "text/plain": [
       "  0%|          | 0/108 [00:00<?, ?it/s]"
      ]
     },
     "metadata": {},
     "output_type": "display_data"
    },
    {
     "name": "stdout",
     "output_type": "stream",
     "text": [
      "delighted     27\n",
      "frustrated    27\n",
      "selftalk      27\n",
      "social        27\n",
      "Name: count, dtype: int64\n",
      "C=0.011981987662126424\n",
      "Out-of-sample f1 score: 0.4815\n",
      "P16\n"
     ]
    },
    {
     "data": {
      "application/vnd.jupyter.widget-view+json": {
       "model_id": "effcda6e611e420eb577abeef5aeae0f",
       "version_major": 2,
       "version_minor": 0
      },
      "text/plain": [
       "  0%|          | 0/188 [00:00<?, ?it/s]"
      ]
     },
     "metadata": {},
     "output_type": "display_data"
    },
    {
     "name": "stdout",
     "output_type": "stream",
     "text": [
      "delighted     47\n",
      "frustrated    47\n",
      "selftalk      47\n",
      "social        47\n",
      "Name: count, dtype: int64\n",
      "C=0.014083129952371255\n",
      "Out-of-sample f1 score: 0.7217\n"
     ]
    }
   ],
   "source": [
    "res = {}\n",
    "for participant in classes.keys():\n",
    "    print(participant)\n",
    "    hubert_features = get_hubert_features(\n",
    "        participant, label_list=classes[participant], subsample=True\n",
    "    )\n",
    "    X_tr, X_te = hubert_features[\"X_tr\"], hubert_features[\"X_te\"]\n",
    "    y_tr, y_te = hubert_features[\"y_tr\"], hubert_features[\"y_te\"]\n",
    "    session_tr, session_te = (\n",
    "        hubert_features[\"session_tr\"],\n",
    "        hubert_features[\"session_te\"],\n",
    "    )\n",
    "    label_list = hubert_features[\"label_list\"]\n",
    "    # df = pd.DataFrame(\n",
    "    #     torch.cat([X_tr, X_te]), columns=[f\"feature_{n}\" for n in range(768)]\n",
    "    # )\n",
    "    # df[\"label\"] = [label_list[n] for n in y_tr] + [label_list[n] for n in y_te]\n",
    "    # df[\"session\"] = np.concatenate([session_tr, session_te])\n",
    "    # df = df.loc[df.label.isin(classes[participant])]\n",
    "    # df_small = pd.DataFrame(\n",
    "    #     df.groupby([\"session\", \"label\"])\n",
    "    #     .apply(lambda data: data.sample(min(10, len(data))))\n",
    "    #     .values,\n",
    "    #     columns=df.columns,\n",
    "    # )\n",
    "    # vc = df_small.groupby(\"label\").size()\n",
    "    # df_subset = pd.DataFrame(\n",
    "    #     df_small.groupby(\"label\").apply(lambda data: data.sample(vc.min())).values,\n",
    "    #     columns=df_small.columns,\n",
    "    # )\n",
    "    # print(df_subset.label.value_counts())\n",
    "    # X_subset = df_subset[[f\"feature_{n}\" for n in range(768)]].values\n",
    "    # y_subset = np.array([label_list.index(label) for label in df_subset.label])\n",
    "    X_subset = torch.cat([X_tr, X_te])\n",
    "    y_subset = torch.cat([y_tr, y_te])\n",
    "    print(pd.Series([label_list[n] for n in y_subset]).value_counts())\n",
    "    est = make_pipeline(StandardScaler(), LogisticRegression(max_iter=10**6))\n",
    "    opt = BayesSearchCV(\n",
    "        est,\n",
    "        {\n",
    "            \"logisticregression__C\": (1e-4, 5, \"log-uniform\"),\n",
    "        },\n",
    "        n_iter=50,\n",
    "        cv=KFold(n_splits=10, shuffle=True, random_state=12345),\n",
    "        scoring=\"f1_macro\",\n",
    "    )\n",
    "    opt.fit(X_subset, y_subset)\n",
    "    C = opt.best_params_[\"logisticregression__C\"]\n",
    "    print(f\"{C=}\")\n",
    "    # Out-of-sample performance\n",
    "    est = make_pipeline(\n",
    "        StandardScaler(),\n",
    "        LogisticRegression(C=C, max_iter=10**6),\n",
    "    )\n",
    "    oos_pred_prob = cross_val_predict(\n",
    "        est,\n",
    "        X_subset,\n",
    "        y_subset,\n",
    "        cv=KFold(\n",
    "            n_splits=10,\n",
    "            shuffle=True,\n",
    "            random_state=1234,\n",
    "        ),\n",
    "        method=\"predict_proba\",\n",
    "    )\n",
    "    oos_pred = oos_pred_prob.argmax(1)\n",
    "    score = unweighted_f1(y_subset, oos_pred)\n",
    "    print(\"Out-of-sample f1 score:\", score)\n",
    "    res[participant] = score"
   ]
  },
  {
   "cell_type": "code",
   "execution_count": 13,
   "metadata": {},
   "outputs": [
    {
     "name": "stdout",
     "output_type": "stream",
     "text": [
      "P01    0.7522\n",
      "P02    0.4772\n",
      "P03    0.6072\n",
      "P05    0.5729\n",
      "P06    0.3214\n",
      "P08    0.3558\n",
      "P11    0.4815\n",
      "P16    0.7217\n",
      "dtype: float64\n"
     ]
    }
   ],
   "source": [
    "print(pd.Series(res))"
   ]
  },
  {
   "cell_type": "code",
   "execution_count": 16,
   "metadata": {},
   "outputs": [],
   "source": []
  }
 ],
 "metadata": {
  "kernelspec": {
   "display_name": "ml_311",
   "language": "python",
   "name": "python3"
  },
  "language_info": {
   "codemirror_mode": {
    "name": "ipython",
    "version": 3
   },
   "file_extension": ".py",
   "mimetype": "text/x-python",
   "name": "python",
   "nbconvert_exporter": "python",
   "pygments_lexer": "ipython3",
   "version": "3.11.0"
  }
 },
 "nbformat": 4,
 "nbformat_minor": 2
}
