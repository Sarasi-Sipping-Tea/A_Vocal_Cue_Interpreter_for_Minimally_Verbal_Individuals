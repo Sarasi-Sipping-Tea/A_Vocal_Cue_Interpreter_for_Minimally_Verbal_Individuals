{
  "nbformat": 4,
  "nbformat_minor": 0,
  "metadata": {
    "colab": {
      "provenance": [],
      "gpuType": "T4"
    },
    "kernelspec": {
      "name": "python3",
      "display_name": "Python 3"
    },
    "language_info": {
      "name": "python"
    },
    "accelerator": "GPU"
  },
  "cells": [
    {
      "cell_type": "markdown",
      "source": [
        "# Classifying Audio Data using AST and Logistic Regression\n",
        "\n",
        "[ADD BREIF INTRODUCTION TO THE PRIJECT]\n",
        "\n",
        "## Step 1 : Get the Data from the Recanovo Project"
      ],
      "metadata": {
        "id": "FWjKyuAOx7aI"
      }
    },
    {
      "cell_type": "code",
      "execution_count": null,
      "metadata": {
        "colab": {
          "base_uri": "https://localhost:8080/"
        },
        "id": "WLJhLAbMUYlk",
        "outputId": "72dcb117-a192-4e39-b09f-23016b218ee6"
      },
      "outputs": [
        {
          "output_type": "stream",
          "name": "stdout",
          "text": [
            "Downloading...\n",
            "From (original): https://drive.google.com/uc?id=1e3ilpZosYjvGzjmO1Jaur6Ln4cJD8yAm\n",
            "From (redirected): https://drive.google.com/uc?id=1e3ilpZosYjvGzjmO1Jaur6Ln4cJD8yAm&confirm=t&uuid=087738c7-562e-4fab-bb4d-1469a0b3df69\n",
            "To: /content/recanvo.tar.gz\n",
            "100% 1.06G/1.06G [00:11<00:00, 88.7MB/s]\n"
          ]
        }
      ],
      "source": [
        "# Get the Reconvo data from the link https://drive.google.com/uc?id=1e3ilpZosYjvGzjmO1Jaur6Ln4cJD8yAm\n",
        "# unzip it and put it in the directory: /content/data\n",
        "\n",
        "! gdown 1e3ilpZosYjvGzjmO1Jaur6Ln4cJD8yAm\n",
        "! tar -xf recanvo.tar.gz\n",
        "! rm recanvo.tar.gz\n",
        "! mv recanvo data"
      ]
    },
    {
      "cell_type": "code",
      "source": [
        "# Update/install packages to make google colab happy.\n",
        "\n",
        "! pip install -U scikit-learn\n",
        "! pip install scikit-optimize"
      ],
      "metadata": {
        "colab": {
          "base_uri": "https://localhost:8080/"
        },
        "id": "bdvaPmPlUyvP",
        "outputId": "a77c732e-77af-42a6-e5ed-f1688b98ca37",
        "collapsed": true
      },
      "execution_count": null,
      "outputs": [
        {
          "output_type": "stream",
          "name": "stdout",
          "text": [
            "Requirement already satisfied: scikit-learn in /usr/local/lib/python3.10/dist-packages (1.3.2)\n",
            "Collecting scikit-learn\n",
            "  Downloading scikit_learn-1.5.1-cp310-cp310-manylinux_2_17_x86_64.manylinux2014_x86_64.whl.metadata (12 kB)\n",
            "Requirement already satisfied: numpy>=1.19.5 in /usr/local/lib/python3.10/dist-packages (from scikit-learn) (1.26.4)\n",
            "Requirement already satisfied: scipy>=1.6.0 in /usr/local/lib/python3.10/dist-packages (from scikit-learn) (1.13.1)\n",
            "Requirement already satisfied: joblib>=1.2.0 in /usr/local/lib/python3.10/dist-packages (from scikit-learn) (1.4.2)\n",
            "Requirement already satisfied: threadpoolctl>=3.1.0 in /usr/local/lib/python3.10/dist-packages (from scikit-learn) (3.5.0)\n",
            "Downloading scikit_learn-1.5.1-cp310-cp310-manylinux_2_17_x86_64.manylinux2014_x86_64.whl (13.4 MB)\n",
            "\u001b[2K   \u001b[90m━━━━━━━━━━━━━━━━━━━━━━━━━━━━━━━━━━━━━━━━\u001b[0m \u001b[32m13.4/13.4 MB\u001b[0m \u001b[31m65.0 MB/s\u001b[0m eta \u001b[36m0:00:00\u001b[0m\n",
            "\u001b[?25hInstalling collected packages: scikit-learn\n",
            "  Attempting uninstall: scikit-learn\n",
            "    Found existing installation: scikit-learn 1.3.2\n",
            "    Uninstalling scikit-learn-1.3.2:\n",
            "      Successfully uninstalled scikit-learn-1.3.2\n",
            "Successfully installed scikit-learn-1.5.1\n",
            "Collecting scikit-optimize\n",
            "  Downloading scikit_optimize-0.10.2-py2.py3-none-any.whl.metadata (9.7 kB)\n",
            "Requirement already satisfied: joblib>=0.11 in /usr/local/lib/python3.10/dist-packages (from scikit-optimize) (1.4.2)\n",
            "Collecting pyaml>=16.9 (from scikit-optimize)\n",
            "  Downloading pyaml-24.7.0-py3-none-any.whl.metadata (11 kB)\n",
            "Requirement already satisfied: numpy>=1.20.3 in /usr/local/lib/python3.10/dist-packages (from scikit-optimize) (1.26.4)\n",
            "Requirement already satisfied: scipy>=1.1.0 in /usr/local/lib/python3.10/dist-packages (from scikit-optimize) (1.13.1)\n",
            "Requirement already satisfied: scikit-learn>=1.0.0 in /usr/local/lib/python3.10/dist-packages (from scikit-optimize) (1.5.1)\n",
            "Requirement already satisfied: packaging>=21.3 in /usr/local/lib/python3.10/dist-packages (from scikit-optimize) (24.1)\n",
            "Requirement already satisfied: PyYAML in /usr/local/lib/python3.10/dist-packages (from pyaml>=16.9->scikit-optimize) (6.0.2)\n",
            "Requirement already satisfied: threadpoolctl>=3.1.0 in /usr/local/lib/python3.10/dist-packages (from scikit-learn>=1.0.0->scikit-optimize) (3.5.0)\n",
            "Downloading scikit_optimize-0.10.2-py2.py3-none-any.whl (107 kB)\n",
            "\u001b[2K   \u001b[90m━━━━━━━━━━━━━━━━━━━━━━━━━━━━━━━━━━━━━━━━\u001b[0m \u001b[32m107.8/107.8 kB\u001b[0m \u001b[31m9.0 MB/s\u001b[0m eta \u001b[36m0:00:00\u001b[0m\n",
            "\u001b[?25hDownloading pyaml-24.7.0-py3-none-any.whl (24 kB)\n",
            "Installing collected packages: pyaml, scikit-optimize\n",
            "Successfully installed pyaml-24.7.0 scikit-optimize-0.10.2\n"
          ]
        }
      ]
    },
    {
      "cell_type": "markdown",
      "source": [
        "Importing necessary packages and libraries"
      ],
      "metadata": {
        "id": "zr2gZ7O0Q7Xd"
      }
    },
    {
      "cell_type": "code",
      "source": [
        "import functools\n",
        "from pathlib import Path\n",
        "\n",
        "import torchaudio.transforms as T\n",
        "import math\n",
        "\n",
        "\n",
        "import matplotlib.pyplot as plt\n",
        "import numpy as np\n",
        "import pandas as pd\n",
        "from sklearn.linear_model import LogisticRegression\n",
        "from sklearn.metrics import (\n",
        "    accuracy_score,\n",
        "    balanced_accuracy_score,\n",
        "    confusion_matrix,\n",
        "    f1_score,\n",
        "    log_loss,\n",
        "    recall_score,\n",
        ")\n",
        "from sklearn.model_selection import (\n",
        "    cross_val_predict,\n",
        "    StratifiedKFold,\n",
        ")\n",
        "from sklearn.pipeline import make_pipeline\n",
        "from sklearn.preprocessing import StandardScaler\n",
        "#self note: removed the skopt line below so it'll work, if it gives errors\n",
        "from skopt import BayesSearchCV\n",
        "import torch\n",
        "import torchaudio\n",
        "from tqdm.notebook import tqdm\n",
        "\n",
        "\n",
        "def to_prob(metric):\n",
        "    @functools.wraps(metric)\n",
        "    def metric_that_takes_prob(y_actual, y_pred, sample_weight=None):\n",
        "        return metric(y_actual, y_pred.argmax(1), sample_weight=sample_weight)\n",
        "\n",
        "    return metric_that_takes_prob\n",
        "\n",
        "\n",
        "metrics = {\n",
        "    \"accuracy\": to_prob(accuracy_score),\n",
        "    \"balanced_accuracy\": to_prob(balanced_accuracy_score),\n",
        "    \"unweighted_f1\": to_prob(functools.partial(f1_score, average=\"macro\")),\n",
        "    \"UAR\": to_prob(functools.partial(recall_score, average=\"macro\")),\n",
        "    \"logloss\": log_loss,\n",
        "}"
      ],
      "metadata": {
        "id": "PJDA5FFLUuQS"
      },
      "execution_count": null,
      "outputs": []
    },
    {
      "cell_type": "markdown",
      "source": [
        "The train test split is made so at least one whole session is in the test set\n"
      ],
      "metadata": {
        "id": "FiHI827_zVE3"
      }
    },
    {
      "cell_type": "code",
      "source": [
        "# data files [importing the new train test split made by Ale from the link: https://drive.google.com/uc?id=1zMQzBcjoMXR1FipmrFXJ0rjD7S5IgeT4]\n",
        "! gdown 1zMQzBcjoMXR1FipmrFXJ0rjD7S5IgeT4 -O /content/new_train_test.csv"
      ],
      "metadata": {
        "colab": {
          "base_uri": "https://localhost:8080/"
        },
        "id": "VBe-FToFRcbe",
        "outputId": "558d4808-4a3f-442b-eedc-9723888ef353"
      },
      "execution_count": null,
      "outputs": [
        {
          "output_type": "stream",
          "name": "stdout",
          "text": [
            "Downloading...\n",
            "From: https://drive.google.com/uc?id=1zMQzBcjoMXR1FipmrFXJ0rjD7S5IgeT4\n",
            "To: /content/new_train_test.csv\n",
            "\r  0% 0.00/523k [00:00<?, ?B/s]\r100% 523k/523k [00:00<00:00, 89.3MB/s]\n"
          ]
        }
      ]
    },
    {
      "cell_type": "code",
      "source": [
        "#create a dataframe to hold the data\n",
        "df = pd.read_csv('/content/new_train_test.csv')\n",
        "#check labels\n",
        "display(df.Label.value_counts())"
      ],
      "metadata": {
        "colab": {
          "base_uri": "https://localhost:8080/",
          "height": 805
        },
        "id": "6hb4vK3qDARw",
        "outputId": "e9ea92d3-fa0a-41d5-9ef0-93af7b42a087"
      },
      "execution_count": null,
      "outputs": [
        {
          "output_type": "display_data",
          "data": {
            "text/plain": [
              "Label\n",
              "selftalk                  1885\n",
              "frustrated                1536\n",
              "delighted                 1272\n",
              "dysregulated               704\n",
              "social                     634\n",
              "request                    419\n",
              "affectionate               129\n",
              "yes                        123\n",
              "laughter                    93\n",
              "dysregulation-sick          74\n",
              "happy                       61\n",
              "help                        24\n",
              "more                        22\n",
              "protest                     21\n",
              "bathroom                    20\n",
              "dysregulation-bathroom      18\n",
              "no                          12\n",
              "glee                         8\n",
              "laugh                        8\n",
              "tablet                       7\n",
              "hunger                       4\n",
              "greeting                     3\n",
              "Name: count, dtype: int64"
            ],
            "text/html": [
              "<div>\n",
              "<style scoped>\n",
              "    .dataframe tbody tr th:only-of-type {\n",
              "        vertical-align: middle;\n",
              "    }\n",
              "\n",
              "    .dataframe tbody tr th {\n",
              "        vertical-align: top;\n",
              "    }\n",
              "\n",
              "    .dataframe thead th {\n",
              "        text-align: right;\n",
              "    }\n",
              "</style>\n",
              "<table border=\"1\" class=\"dataframe\">\n",
              "  <thead>\n",
              "    <tr style=\"text-align: right;\">\n",
              "      <th></th>\n",
              "      <th>count</th>\n",
              "    </tr>\n",
              "    <tr>\n",
              "      <th>Label</th>\n",
              "      <th></th>\n",
              "    </tr>\n",
              "  </thead>\n",
              "  <tbody>\n",
              "    <tr>\n",
              "      <th>selftalk</th>\n",
              "      <td>1885</td>\n",
              "    </tr>\n",
              "    <tr>\n",
              "      <th>frustrated</th>\n",
              "      <td>1536</td>\n",
              "    </tr>\n",
              "    <tr>\n",
              "      <th>delighted</th>\n",
              "      <td>1272</td>\n",
              "    </tr>\n",
              "    <tr>\n",
              "      <th>dysregulated</th>\n",
              "      <td>704</td>\n",
              "    </tr>\n",
              "    <tr>\n",
              "      <th>social</th>\n",
              "      <td>634</td>\n",
              "    </tr>\n",
              "    <tr>\n",
              "      <th>request</th>\n",
              "      <td>419</td>\n",
              "    </tr>\n",
              "    <tr>\n",
              "      <th>affectionate</th>\n",
              "      <td>129</td>\n",
              "    </tr>\n",
              "    <tr>\n",
              "      <th>yes</th>\n",
              "      <td>123</td>\n",
              "    </tr>\n",
              "    <tr>\n",
              "      <th>laughter</th>\n",
              "      <td>93</td>\n",
              "    </tr>\n",
              "    <tr>\n",
              "      <th>dysregulation-sick</th>\n",
              "      <td>74</td>\n",
              "    </tr>\n",
              "    <tr>\n",
              "      <th>happy</th>\n",
              "      <td>61</td>\n",
              "    </tr>\n",
              "    <tr>\n",
              "      <th>help</th>\n",
              "      <td>24</td>\n",
              "    </tr>\n",
              "    <tr>\n",
              "      <th>more</th>\n",
              "      <td>22</td>\n",
              "    </tr>\n",
              "    <tr>\n",
              "      <th>protest</th>\n",
              "      <td>21</td>\n",
              "    </tr>\n",
              "    <tr>\n",
              "      <th>bathroom</th>\n",
              "      <td>20</td>\n",
              "    </tr>\n",
              "    <tr>\n",
              "      <th>dysregulation-bathroom</th>\n",
              "      <td>18</td>\n",
              "    </tr>\n",
              "    <tr>\n",
              "      <th>no</th>\n",
              "      <td>12</td>\n",
              "    </tr>\n",
              "    <tr>\n",
              "      <th>glee</th>\n",
              "      <td>8</td>\n",
              "    </tr>\n",
              "    <tr>\n",
              "      <th>laugh</th>\n",
              "      <td>8</td>\n",
              "    </tr>\n",
              "    <tr>\n",
              "      <th>tablet</th>\n",
              "      <td>7</td>\n",
              "    </tr>\n",
              "    <tr>\n",
              "      <th>hunger</th>\n",
              "      <td>4</td>\n",
              "    </tr>\n",
              "    <tr>\n",
              "      <th>greeting</th>\n",
              "      <td>3</td>\n",
              "    </tr>\n",
              "  </tbody>\n",
              "</table>\n",
              "</div><br><label><b>dtype:</b> int64</label>"
            ]
          },
          "metadata": {}
        }
      ]
    },
    {
      "cell_type": "code",
      "source": [
        "#Isolate the data for participant #05\n",
        "df_P05 = df.loc[df.Participant == \"P05\"]\n",
        "#check labels\n",
        "display(df_P05.Label.value_counts())"
      ],
      "metadata": {
        "colab": {
          "base_uri": "https://localhost:8080/",
          "height": 397
        },
        "id": "LIEQFM9iBXfl",
        "outputId": "2cfbed93-8776-4b5f-b377-93ba46ed3d04"
      },
      "execution_count": null,
      "outputs": [
        {
          "output_type": "display_data",
          "data": {
            "text/plain": [
              "Label\n",
              "selftalk        286\n",
              "frustrated      283\n",
              "delighted       235\n",
              "dysregulated    116\n",
              "happy            61\n",
              "help             24\n",
              "laughter         13\n",
              "request           6\n",
              "hunger            4\n",
              "Name: count, dtype: int64"
            ],
            "text/html": [
              "<div>\n",
              "<style scoped>\n",
              "    .dataframe tbody tr th:only-of-type {\n",
              "        vertical-align: middle;\n",
              "    }\n",
              "\n",
              "    .dataframe tbody tr th {\n",
              "        vertical-align: top;\n",
              "    }\n",
              "\n",
              "    .dataframe thead th {\n",
              "        text-align: right;\n",
              "    }\n",
              "</style>\n",
              "<table border=\"1\" class=\"dataframe\">\n",
              "  <thead>\n",
              "    <tr style=\"text-align: right;\">\n",
              "      <th></th>\n",
              "      <th>count</th>\n",
              "    </tr>\n",
              "    <tr>\n",
              "      <th>Label</th>\n",
              "      <th></th>\n",
              "    </tr>\n",
              "  </thead>\n",
              "  <tbody>\n",
              "    <tr>\n",
              "      <th>selftalk</th>\n",
              "      <td>286</td>\n",
              "    </tr>\n",
              "    <tr>\n",
              "      <th>frustrated</th>\n",
              "      <td>283</td>\n",
              "    </tr>\n",
              "    <tr>\n",
              "      <th>delighted</th>\n",
              "      <td>235</td>\n",
              "    </tr>\n",
              "    <tr>\n",
              "      <th>dysregulated</th>\n",
              "      <td>116</td>\n",
              "    </tr>\n",
              "    <tr>\n",
              "      <th>happy</th>\n",
              "      <td>61</td>\n",
              "    </tr>\n",
              "    <tr>\n",
              "      <th>help</th>\n",
              "      <td>24</td>\n",
              "    </tr>\n",
              "    <tr>\n",
              "      <th>laughter</th>\n",
              "      <td>13</td>\n",
              "    </tr>\n",
              "    <tr>\n",
              "      <th>request</th>\n",
              "      <td>6</td>\n",
              "    </tr>\n",
              "    <tr>\n",
              "      <th>hunger</th>\n",
              "      <td>4</td>\n",
              "    </tr>\n",
              "  </tbody>\n",
              "</table>\n",
              "</div><br><label><b>dtype:</b> int64</label>"
            ]
          },
          "metadata": {}
        }
      ]
    },
    {
      "cell_type": "code",
      "source": [
        "#Drop rows with label count < 30\n",
        "df_P05_dropped = df_P05[df_P05.Label != 'help']\n",
        "df_P05_dropped = df_P05_dropped[df_P05.Label != 'laughter']\n",
        "df_P05_dropped = df_P05_dropped[df_P05.Label != 'request']\n",
        "df_P05_dropped = df_P05_dropped[df_P05.Label != 'hunger']\n",
        "display(df_P05_dropped.Label.value_counts())"
      ],
      "metadata": {
        "colab": {
          "base_uri": "https://localhost:8080/",
          "height": 376
        },
        "id": "pmZ-woVMD1Aq",
        "outputId": "dcaf42d2-b47f-4095-d25a-2d7f4d90f96e"
      },
      "execution_count": null,
      "outputs": [
        {
          "output_type": "stream",
          "name": "stderr",
          "text": [
            "<ipython-input-7-66317e69b8e9>:3: UserWarning: Boolean Series key will be reindexed to match DataFrame index.\n",
            "  df_P05_dropped = df_P05_dropped[df_P05.Label != 'laughter']\n",
            "<ipython-input-7-66317e69b8e9>:4: UserWarning: Boolean Series key will be reindexed to match DataFrame index.\n",
            "  df_P05_dropped = df_P05_dropped[df_P05.Label != 'request']\n",
            "<ipython-input-7-66317e69b8e9>:5: UserWarning: Boolean Series key will be reindexed to match DataFrame index.\n",
            "  df_P05_dropped = df_P05_dropped[df_P05.Label != 'hunger']\n"
          ]
        },
        {
          "output_type": "display_data",
          "data": {
            "text/plain": [
              "Label\n",
              "selftalk        286\n",
              "frustrated      283\n",
              "delighted       235\n",
              "dysregulated    116\n",
              "happy            61\n",
              "Name: count, dtype: int64"
            ],
            "text/html": [
              "<div>\n",
              "<style scoped>\n",
              "    .dataframe tbody tr th:only-of-type {\n",
              "        vertical-align: middle;\n",
              "    }\n",
              "\n",
              "    .dataframe tbody tr th {\n",
              "        vertical-align: top;\n",
              "    }\n",
              "\n",
              "    .dataframe thead th {\n",
              "        text-align: right;\n",
              "    }\n",
              "</style>\n",
              "<table border=\"1\" class=\"dataframe\">\n",
              "  <thead>\n",
              "    <tr style=\"text-align: right;\">\n",
              "      <th></th>\n",
              "      <th>count</th>\n",
              "    </tr>\n",
              "    <tr>\n",
              "      <th>Label</th>\n",
              "      <th></th>\n",
              "    </tr>\n",
              "  </thead>\n",
              "  <tbody>\n",
              "    <tr>\n",
              "      <th>selftalk</th>\n",
              "      <td>286</td>\n",
              "    </tr>\n",
              "    <tr>\n",
              "      <th>frustrated</th>\n",
              "      <td>283</td>\n",
              "    </tr>\n",
              "    <tr>\n",
              "      <th>delighted</th>\n",
              "      <td>235</td>\n",
              "    </tr>\n",
              "    <tr>\n",
              "      <th>dysregulated</th>\n",
              "      <td>116</td>\n",
              "    </tr>\n",
              "    <tr>\n",
              "      <th>happy</th>\n",
              "      <td>61</td>\n",
              "    </tr>\n",
              "  </tbody>\n",
              "</table>\n",
              "</div><br><label><b>dtype:</b> int64</label>"
            ]
          },
          "metadata": {}
        }
      ]
    },
    {
      "cell_type": "markdown",
      "source": [
        "A dataframe is isolated to contain only the training data for participant 05"
      ],
      "metadata": {
        "id": "qNPb_7FWzhuD"
      }
    },
    {
      "cell_type": "code",
      "source": [
        "#create a dataframe that contains training data for participant 05\n",
        "train_P05 = df_P05_dropped.loc[df_P05_dropped.is_test == 0]"
      ],
      "metadata": {
        "id": "i2C39ZAZHFjK"
      },
      "execution_count": null,
      "outputs": []
    },
    {
      "cell_type": "code",
      "source": [
        "#temporary cell: checking the dataframe\n",
        "#print(train_P05)\n",
        "print(train_P05.Label.value_counts())"
      ],
      "metadata": {
        "colab": {
          "base_uri": "https://localhost:8080/"
        },
        "id": "Ykw-2_omWlFY",
        "outputId": "4b04b40f-87b9-41ba-ae6b-8445bfbf7936",
        "collapsed": true
      },
      "execution_count": null,
      "outputs": [
        {
          "output_type": "stream",
          "name": "stdout",
          "text": [
            "Label\n",
            "frustrated      208\n",
            "selftalk        199\n",
            "delighted       146\n",
            "dysregulated     74\n",
            "happy            46\n",
            "Name: count, dtype: int64\n"
          ]
        }
      ]
    },
    {
      "cell_type": "markdown",
      "source": [
        "## Reformatting & Looping an Example to Fit the Input Format of AST\n",
        "\n",
        "The sample rate for our audio files is 44.1k. To fit the input format for AST we need it to be in 16k. We also need to convert .wav files to .flac format (a compressed format), so it's in the correct input format for AST. We will also loop the audio to fit the length required to be an inout to AST.\n",
        "\n",
        "In the following few cells, we isolate a single .wav file from our dataset and perform the reformatting and looping tasks. We will generalize it later to the entire dataset."
      ],
      "metadata": {
        "id": "jps0xhMCzwN_"
      }
    },
    {
      "cell_type": "code",
      "source": [
        "datadir = Path('/content/ast/data/wav')\n",
        "\n",
        "target_sample_rate = 16000\n",
        "\n",
        "#choosing an example\n",
        "filename1 = train_P05.Filename.iloc[0]\n",
        "waveform1, sample_rate1 = torchaudio.load(datadir / filename1)\n",
        "resampler = T.Resample(orig_freq=sample_rate1, new_freq=target_sample_rate)\n",
        "# Apply the resampler\n",
        "resampled_waveform1 = resampler(waveform1)\n",
        "\n",
        "#check shape\n",
        "print(resampled_waveform1.shape)"
      ],
      "metadata": {
        "id": "WHM_rvO43cgB"
      },
      "execution_count": null,
      "outputs": []
    },
    {
      "cell_type": "code",
      "source": [
        "#here we assume the waveform is names \"resampled_waveform1\"\n",
        "#make sure to have imported the following\n",
        "# import math\n",
        "\n",
        "l = len(resampled_waveform1[0])\n",
        "multiplier = math.ceil(160200 / l)\n",
        "#print(multiplier)\n",
        "\n",
        "# Create a list of the tensor repeated num_repeats times\n",
        "tensors_list = [resampled_waveform1] * multiplier\n",
        "# Concatenate them along the new dimension\n",
        "looped_waveform = torch.cat(tensors_list, dim=1)\n",
        "\n",
        "# Compute the end index for slicing\n",
        "end_index = 160200\n",
        "\n",
        "# Slice the tensor\n",
        "trimmed_tensor0 = looped_waveform[0][:end_index]\n",
        "trimmed_tensor = torch.tensor(trimmed_tensor0)\n",
        "trimmed_looped_waveform1 = trimmed_tensor.unsqueeze(0)\n",
        "\n",
        "print(trimmed_looped_waveform1.shape)"
      ],
      "metadata": {
        "id": "R51rRjON353B"
      },
      "execution_count": null,
      "outputs": []
    },
    {
      "cell_type": "code",
      "source": [
        "#saving the wave form\n",
        "#target_sample_rate = 16000 #this was run before\n",
        "\n",
        "torchaudio.save('output_looped1.flac', trimmed_looped_waveform, target_sample_rate)\n",
        "new_wav , new_sam = torchaudio.load('output_looped1.flac')\n",
        "\n",
        "print(new_wav.shape)"
      ],
      "metadata": {
        "id": "n1CILneA4OxD"
      },
      "execution_count": null,
      "outputs": []
    },
    {
      "cell_type": "code",
      "source": [
        "#check the sound\n",
        "IPython.display.Audio('/content/ast/output_looped1.flac')"
      ],
      "metadata": {
        "id": "UrarBNJU4e3e"
      },
      "execution_count": null,
      "outputs": []
    },
    {
      "cell_type": "markdown",
      "source": [
        "We will visualize thet features extracted for this example in a later section."
      ],
      "metadata": {
        "id": "aQ5X1z6CAZtR"
      }
    },
    {
      "cell_type": "markdown",
      "source": [
        "# TEMP EDIT MARGIN 2024 08 27"
      ],
      "metadata": {
        "id": "gftrofig3X8g"
      }
    },
    {
      "cell_type": "markdown",
      "source": [
        "DELETE THE FOLLOWING THREE CELLS"
      ],
      "metadata": {
        "id": "ioaiF2D-4mJa"
      }
    },
    {
      "cell_type": "code",
      "source": [
        "##ERASE CELL\n",
        "#Importing a single wav file from our data\n",
        "\n",
        "datadir = Path('/content/data/wav')\n",
        "\n",
        "filename1 = train_P05.Filename.iloc[0]\n",
        "waveform1, sample_rate1 = torchaudio.load(datadir / filename1)\n",
        "\n",
        "# sample_rate = 44110\n",
        "# waveform is a tensor that of shape torch.Size([1, 25181])\n",
        "# waveform = tensor([[ 4.2725e-04, -1.4038e-03,  2.4719e-03,  ..., -2.4414e-04,\n",
        "          # 0.0000e+00, -9.1553e-05]])"
      ],
      "metadata": {
        "id": "Rthl8rLiYhA2"
      },
      "execution_count": null,
      "outputs": []
    },
    {
      "cell_type": "code",
      "source": [
        "##ERASE CELL\n",
        "# Here we resample the waveform to be 16kHz\n",
        "\n",
        "import torchaudio.transforms as T\n",
        "\n",
        "target_sample_rate = 16000  # Target sample rate of 16 kHz\n",
        "resampler = T.Resample(orig_freq=sample_rate1, new_freq=target_sample_rate)\n",
        "\n",
        "# Apply the resampler\n",
        "resampled_waveform1 = resampler(waveform1)\n",
        "\n",
        "# After the resampling:\n",
        "# resampled_waveform is of the shape torch.Size([1, 25181])\n",
        "# resampled_waveform = tensor([[ 0.0004, -0.0005, -0.0006,  ..., -0.0003, -0.0011, -0.0002]])\n"
      ],
      "metadata": {
        "id": "4iIKLXxNl-EO",
        "collapsed": true
      },
      "execution_count": null,
      "outputs": []
    },
    {
      "cell_type": "code",
      "source": [
        "##ERASE CELL\n",
        "# Here we save the resampled waveform as a flac file and import it again\n",
        "\n",
        "torchaudio.save('output_resampled1.flac', resampled_waveform1, target_sample_rate)\n",
        "new_wav , new_sam = torchaudio.load('output_resampled1.flac')\n",
        "\n",
        "# new_sam = 16000\n",
        "# new_wav is of the shape torch.Size([1, 9136])"
      ],
      "metadata": {
        "id": "KjrT1rKRxmk-"
      },
      "execution_count": null,
      "outputs": []
    },
    {
      "cell_type": "markdown",
      "source": [
        "In the next section we will import AST and then automate the above process for each datapoint in our dataset, feed them to AST to generate features"
      ],
      "metadata": {
        "id": "WkuK-GbAIHZH"
      }
    },
    {
      "cell_type": "markdown",
      "source": [
        "Self Note: We may need to loop the audio files to get it to be a certain length. But we will run a trial run without it first.\n"
      ],
      "metadata": {
        "id": "SmDbdNAB2T6h"
      }
    },
    {
      "cell_type": "markdown",
      "source": [
        "# Step 2 : Import AST\n",
        "\n",
        "Here we experiment with extracting features using AST that was introduced in  https://github.com/YuanGongND/ast [ADD A PROPER CITATION]"
      ],
      "metadata": {
        "id": "x79Fu85JdFgA"
      }
    },
    {
      "cell_type": "code",
      "source": [
        "#more imports\n",
        "\n",
        "import sys\n",
        "if 'google.colab' in sys.modules:\n",
        "    print('Running in Colab.')\n",
        "    !git clone https://github.com/YuanGongND/ast\n",
        "    sys.path.append('./ast')\n",
        "%cd /content/ast/\n",
        "\n",
        "! pip install timm==0.4.5\n",
        "! pip install wget\n",
        "import os, csv, argparse, wget\n",
        "os.environ['TORCH_HOME'] = '/content/ast/pretrained_models'\n",
        "if os.path.exists('/content/ast/pretrained_models') == False:\n",
        "  os.mkdir('/content/ast/pretrained_models')\n",
        "import timm\n",
        "from torch.cuda.amp import autocast\n",
        "import IPython"
      ],
      "metadata": {
        "colab": {
          "base_uri": "https://localhost:8080/"
        },
        "collapsed": true,
        "id": "FxH_w1M8bm5Q",
        "outputId": "9f7d8066-5ef2-413b-e89d-6d6df7f78078"
      },
      "execution_count": null,
      "outputs": [
        {
          "output_type": "stream",
          "name": "stdout",
          "text": [
            "Running in Colab.\n",
            "Cloning into 'ast'...\n",
            "remote: Enumerating objects: 649, done.\u001b[K\n",
            "remote: Counting objects: 100% (209/209), done.\u001b[K\n",
            "remote: Compressing objects: 100% (50/50), done.\u001b[K\n",
            "remote: Total 649 (delta 172), reused 159 (delta 159), pack-reused 440 (from 1)\u001b[K\n",
            "Receiving objects: 100% (649/649), 2.41 MiB | 16.11 MiB/s, done.\n",
            "Resolving deltas: 100% (360/360), done.\n",
            "/content/ast\n",
            "Collecting timm==0.4.5\n",
            "  Downloading timm-0.4.5-py3-none-any.whl.metadata (24 kB)\n",
            "Requirement already satisfied: torch>=1.4 in /usr/local/lib/python3.10/dist-packages (from timm==0.4.5) (2.3.1+cu121)\n",
            "Requirement already satisfied: torchvision in /usr/local/lib/python3.10/dist-packages (from timm==0.4.5) (0.18.1+cu121)\n",
            "Requirement already satisfied: filelock in /usr/local/lib/python3.10/dist-packages (from torch>=1.4->timm==0.4.5) (3.15.4)\n",
            "Requirement already satisfied: typing-extensions>=4.8.0 in /usr/local/lib/python3.10/dist-packages (from torch>=1.4->timm==0.4.5) (4.12.2)\n",
            "Requirement already satisfied: sympy in /usr/local/lib/python3.10/dist-packages (from torch>=1.4->timm==0.4.5) (1.13.2)\n",
            "Requirement already satisfied: networkx in /usr/local/lib/python3.10/dist-packages (from torch>=1.4->timm==0.4.5) (3.3)\n",
            "Requirement already satisfied: jinja2 in /usr/local/lib/python3.10/dist-packages (from torch>=1.4->timm==0.4.5) (3.1.4)\n",
            "Requirement already satisfied: fsspec in /usr/local/lib/python3.10/dist-packages (from torch>=1.4->timm==0.4.5) (2024.6.1)\n",
            "Collecting nvidia-cuda-nvrtc-cu12==12.1.105 (from torch>=1.4->timm==0.4.5)\n",
            "  Using cached nvidia_cuda_nvrtc_cu12-12.1.105-py3-none-manylinux1_x86_64.whl.metadata (1.5 kB)\n",
            "Collecting nvidia-cuda-runtime-cu12==12.1.105 (from torch>=1.4->timm==0.4.5)\n",
            "  Using cached nvidia_cuda_runtime_cu12-12.1.105-py3-none-manylinux1_x86_64.whl.metadata (1.5 kB)\n",
            "Collecting nvidia-cuda-cupti-cu12==12.1.105 (from torch>=1.4->timm==0.4.5)\n",
            "  Using cached nvidia_cuda_cupti_cu12-12.1.105-py3-none-manylinux1_x86_64.whl.metadata (1.6 kB)\n",
            "Collecting nvidia-cudnn-cu12==8.9.2.26 (from torch>=1.4->timm==0.4.5)\n",
            "  Using cached nvidia_cudnn_cu12-8.9.2.26-py3-none-manylinux1_x86_64.whl.metadata (1.6 kB)\n",
            "Collecting nvidia-cublas-cu12==12.1.3.1 (from torch>=1.4->timm==0.4.5)\n",
            "  Using cached nvidia_cublas_cu12-12.1.3.1-py3-none-manylinux1_x86_64.whl.metadata (1.5 kB)\n",
            "Collecting nvidia-cufft-cu12==11.0.2.54 (from torch>=1.4->timm==0.4.5)\n",
            "  Using cached nvidia_cufft_cu12-11.0.2.54-py3-none-manylinux1_x86_64.whl.metadata (1.5 kB)\n",
            "Collecting nvidia-curand-cu12==10.3.2.106 (from torch>=1.4->timm==0.4.5)\n",
            "  Using cached nvidia_curand_cu12-10.3.2.106-py3-none-manylinux1_x86_64.whl.metadata (1.5 kB)\n",
            "Collecting nvidia-cusolver-cu12==11.4.5.107 (from torch>=1.4->timm==0.4.5)\n",
            "  Using cached nvidia_cusolver_cu12-11.4.5.107-py3-none-manylinux1_x86_64.whl.metadata (1.6 kB)\n",
            "Collecting nvidia-cusparse-cu12==12.1.0.106 (from torch>=1.4->timm==0.4.5)\n",
            "  Using cached nvidia_cusparse_cu12-12.1.0.106-py3-none-manylinux1_x86_64.whl.metadata (1.6 kB)\n",
            "Collecting nvidia-nccl-cu12==2.20.5 (from torch>=1.4->timm==0.4.5)\n",
            "  Using cached nvidia_nccl_cu12-2.20.5-py3-none-manylinux2014_x86_64.whl.metadata (1.8 kB)\n",
            "Collecting nvidia-nvtx-cu12==12.1.105 (from torch>=1.4->timm==0.4.5)\n",
            "  Using cached nvidia_nvtx_cu12-12.1.105-py3-none-manylinux1_x86_64.whl.metadata (1.7 kB)\n",
            "Requirement already satisfied: triton==2.3.1 in /usr/local/lib/python3.10/dist-packages (from torch>=1.4->timm==0.4.5) (2.3.1)\n",
            "Collecting nvidia-nvjitlink-cu12 (from nvidia-cusolver-cu12==11.4.5.107->torch>=1.4->timm==0.4.5)\n",
            "  Using cached nvidia_nvjitlink_cu12-12.6.20-py3-none-manylinux2014_x86_64.whl.metadata (1.5 kB)\n",
            "Requirement already satisfied: numpy in /usr/local/lib/python3.10/dist-packages (from torchvision->timm==0.4.5) (1.26.4)\n",
            "Requirement already satisfied: pillow!=8.3.*,>=5.3.0 in /usr/local/lib/python3.10/dist-packages (from torchvision->timm==0.4.5) (9.4.0)\n",
            "Requirement already satisfied: MarkupSafe>=2.0 in /usr/local/lib/python3.10/dist-packages (from jinja2->torch>=1.4->timm==0.4.5) (2.1.5)\n",
            "Requirement already satisfied: mpmath<1.4,>=1.1.0 in /usr/local/lib/python3.10/dist-packages (from sympy->torch>=1.4->timm==0.4.5) (1.3.0)\n",
            "Downloading timm-0.4.5-py3-none-any.whl (287 kB)\n",
            "\u001b[2K   \u001b[90m━━━━━━━━━━━━━━━━━━━━━━━━━━━━━━━━━━━━━━━━\u001b[0m \u001b[32m287.4/287.4 kB\u001b[0m \u001b[31m13.6 MB/s\u001b[0m eta \u001b[36m0:00:00\u001b[0m\n",
            "\u001b[?25hUsing cached nvidia_cublas_cu12-12.1.3.1-py3-none-manylinux1_x86_64.whl (410.6 MB)\n",
            "Using cached nvidia_cuda_cupti_cu12-12.1.105-py3-none-manylinux1_x86_64.whl (14.1 MB)\n",
            "Using cached nvidia_cuda_nvrtc_cu12-12.1.105-py3-none-manylinux1_x86_64.whl (23.7 MB)\n",
            "Using cached nvidia_cuda_runtime_cu12-12.1.105-py3-none-manylinux1_x86_64.whl (823 kB)\n",
            "Using cached nvidia_cudnn_cu12-8.9.2.26-py3-none-manylinux1_x86_64.whl (731.7 MB)\n",
            "Using cached nvidia_cufft_cu12-11.0.2.54-py3-none-manylinux1_x86_64.whl (121.6 MB)\n",
            "Using cached nvidia_curand_cu12-10.3.2.106-py3-none-manylinux1_x86_64.whl (56.5 MB)\n",
            "Using cached nvidia_cusolver_cu12-11.4.5.107-py3-none-manylinux1_x86_64.whl (124.2 MB)\n",
            "Using cached nvidia_cusparse_cu12-12.1.0.106-py3-none-manylinux1_x86_64.whl (196.0 MB)\n",
            "Using cached nvidia_nccl_cu12-2.20.5-py3-none-manylinux2014_x86_64.whl (176.2 MB)\n",
            "Using cached nvidia_nvtx_cu12-12.1.105-py3-none-manylinux1_x86_64.whl (99 kB)\n",
            "Using cached nvidia_nvjitlink_cu12-12.6.20-py3-none-manylinux2014_x86_64.whl (19.7 MB)\n",
            "Installing collected packages: nvidia-nvtx-cu12, nvidia-nvjitlink-cu12, nvidia-nccl-cu12, nvidia-curand-cu12, nvidia-cufft-cu12, nvidia-cuda-runtime-cu12, nvidia-cuda-nvrtc-cu12, nvidia-cuda-cupti-cu12, nvidia-cublas-cu12, nvidia-cusparse-cu12, nvidia-cudnn-cu12, nvidia-cusolver-cu12, timm\n",
            "Successfully installed nvidia-cublas-cu12-12.1.3.1 nvidia-cuda-cupti-cu12-12.1.105 nvidia-cuda-nvrtc-cu12-12.1.105 nvidia-cuda-runtime-cu12-12.1.105 nvidia-cudnn-cu12-8.9.2.26 nvidia-cufft-cu12-11.0.2.54 nvidia-curand-cu12-10.3.2.106 nvidia-cusolver-cu12-11.4.5.107 nvidia-cusparse-cu12-12.1.0.106 nvidia-nccl-cu12-2.20.5 nvidia-nvjitlink-cu12-12.6.20 nvidia-nvtx-cu12-12.1.105 timm-0.4.5\n",
            "Collecting wget\n",
            "  Downloading wget-3.2.zip (10 kB)\n",
            "  Preparing metadata (setup.py) ... \u001b[?25l\u001b[?25hdone\n",
            "Building wheels for collected packages: wget\n",
            "  Building wheel for wget (setup.py) ... \u001b[?25l\u001b[?25hdone\n",
            "  Created wheel for wget: filename=wget-3.2-py3-none-any.whl size=9656 sha256=1c3d8b8f63955fdb7e73346b1ec59306cc8f39269ff878b0edbcc6a88644cc4e\n",
            "  Stored in directory: /root/.cache/pip/wheels/8b/f1/7f/5c94f0a7a505ca1c81cd1d9208ae2064675d97582078e6c769\n",
            "Successfully built wget\n",
            "Installing collected packages: wget\n",
            "Successfully installed wget-3.2\n"
          ]
        }
      ]
    },
    {
      "cell_type": "markdown",
      "source": [
        "Create AST model and load AudioSet pretrained weights."
      ],
      "metadata": {
        "id": "8PjBm6t7fKQd"
      }
    },
    {
      "cell_type": "code",
      "source": [
        "from src.models import ASTModel\n",
        "\n",
        "# Create a new class that inherits the original ASTModel class\n",
        "class ASTModelVis(ASTModel):\n",
        "    def get_att_map(self, block, x):\n",
        "        qkv = block.attn.qkv\n",
        "        num_heads = block.attn.num_heads\n",
        "        scale = block.attn.scale\n",
        "        B, N, C = x.shape\n",
        "        qkv = qkv(x).reshape(B, N, 3, num_heads, C // num_heads).permute(2, 0, 3, 1, 4)\n",
        "        q, k, v = qkv[0], qkv[1], qkv[2]  # make torchscript happy (cannot use tensor as tuple)\n",
        "        attn = (q @ k.transpose(-2, -1)) * scale\n",
        "        attn = attn.softmax(dim=-1)\n",
        "        return attn\n",
        "\n",
        "    def forward_visualization(self, x):\n",
        "        # expect input x = (batch_size, time_frame_num, frequency_bins), e.g., (12, 1024, 128)\n",
        "        x = x.unsqueeze(1)\n",
        "        x = x.transpose(2, 3)\n",
        "\n",
        "        B = x.shape[0]\n",
        "        x = self.v.patch_embed(x)\n",
        "        cls_tokens = self.v.cls_token.expand(B, -1, -1)\n",
        "        dist_token = self.v.dist_token.expand(B, -1, -1)\n",
        "        x = torch.cat((cls_tokens, dist_token, x), dim=1)\n",
        "        x = x + self.v.pos_embed\n",
        "        x = self.v.pos_drop(x)\n",
        "        # save the attention map of each of 12 Transformer layer\n",
        "        att_list = []\n",
        "        for blk in self.v.blocks:\n",
        "            cur_att = self.get_att_map(blk, x)\n",
        "            att_list.append(cur_att)\n",
        "            x = blk(x)\n",
        "        return att_list\n",
        "\n",
        "def make_features(wav_name, mel_bins, target_length=1024):\n",
        "    waveform, sr = torchaudio.load(wav_name)\n",
        "    assert sr == 16000, 'input audio sampling rate must be 16kHz'\n",
        "\n",
        "    fbank = torchaudio.compliance.kaldi.fbank(\n",
        "        waveform, htk_compat=True, sample_frequency=sr, use_energy=False,\n",
        "        window_type='hanning', num_mel_bins=mel_bins, dither=0.0, frame_shift=10)\n",
        "\n",
        "    n_frames = fbank.shape[0]\n",
        "\n",
        "    p = target_length - n_frames\n",
        "    if p > 0:\n",
        "        m = torch.nn.ZeroPad2d((0, 0, 0, p))\n",
        "        fbank = m(fbank)\n",
        "    elif p < 0:\n",
        "        fbank = fbank[0:target_length, :]\n",
        "\n",
        "    fbank = (fbank - (-4.2677393)) / (4.5689974 * 2)\n",
        "    return fbank\n",
        "\n",
        "#REMOVING SINCE WE WILL NOT USE THEIR LABELS\n",
        "#def load_label(label_csv):\n",
        "    #with open(label_csv, 'r') as f:\n",
        "        #reader = csv.reader(f, delimiter=',')\n",
        "        #lines = list(reader)\n",
        "    #labels = []\n",
        "    #ids = []  ## Each label has a unique id such as \"/m/068hy\"\n",
        "    #for i1 in range(1, len(lines)):\n",
        "        #id = lines[i1][1]\n",
        "        #label = lines[i1][2]\n",
        "        #ids.append(id)\n",
        "        #labels.append(label)\n",
        "    #return labels\n",
        "\n",
        "# Create an AST model and download the AudioSet pretrained weights\n",
        "audioset_mdl_url = 'https://www.dropbox.com/s/cv4knew8mvbrnvq/audioset_0.4593.pth?dl=1'\n",
        "if os.path.exists('/content/ast/pretrained_models/audio_mdl.pth') == False:\n",
        "  wget.download(audioset_mdl_url, out='/content/ast/pretrained_models/audio_mdl.pth')\n",
        "\n",
        "# Assume each input spectrogram has 1024 time frames\n",
        "input_tdim = 1024\n",
        "checkpoint_path = '/content/ast/pretrained_models/audio_mdl.pth'\n",
        "# now load the visualization model\n",
        "ast_mdl = ASTModelVis(label_dim=527, input_tdim=input_tdim, imagenet_pretrain=False, audioset_pretrain=False)\n",
        "print(f'[*INFO] load checkpoint: {checkpoint_path}')\n",
        "checkpoint = torch.load(checkpoint_path, map_location='cuda')\n",
        "audio_model = torch.nn.DataParallel(ast_mdl, device_ids=[0])\n",
        "audio_model.load_state_dict(checkpoint)\n",
        "audio_model = audio_model.to(torch.device(\"cuda:0\"))\n",
        "audio_model.eval()\n",
        "\n",
        "#REMOVING SINCE WE WILL NOT USE THEIR LABELS\n",
        "## Load the AudioSet label set\n",
        "#label_csv = '/content/ast/egs/audioset/data/class_labels_indices.csv'       ## label and indices for audioset data\n",
        "#labels = load_label(label_csv)"
      ],
      "metadata": {
        "colab": {
          "base_uri": "https://localhost:8080/"
        },
        "collapsed": true,
        "id": "hTeePyVfd1A3",
        "outputId": "7f48672b-671c-4790-a006-1c4d2424f3f8"
      },
      "execution_count": null,
      "outputs": [
        {
          "output_type": "stream",
          "name": "stdout",
          "text": [
            "---------------AST Model Summary---------------\n",
            "ImageNet pretraining: False, AudioSet pretraining: False\n",
            "frequncey stride=10, time stride=10\n",
            "number of patches=1212\n",
            "[*INFO] load checkpoint: /content/ast/pretrained_models/audio_mdl.pth\n"
          ]
        },
        {
          "output_type": "execute_result",
          "data": {
            "text/plain": [
              "DataParallel(\n",
              "  (module): ASTModelVis(\n",
              "    (v): DistilledVisionTransformer(\n",
              "      (patch_embed): PatchEmbed(\n",
              "        (proj): Conv2d(1, 768, kernel_size=(16, 16), stride=(10, 10))\n",
              "      )\n",
              "      (pos_drop): Dropout(p=0.0, inplace=False)\n",
              "      (blocks): ModuleList(\n",
              "        (0-11): 12 x Block(\n",
              "          (norm1): LayerNorm((768,), eps=1e-06, elementwise_affine=True)\n",
              "          (attn): Attention(\n",
              "            (qkv): Linear(in_features=768, out_features=2304, bias=True)\n",
              "            (attn_drop): Dropout(p=0.0, inplace=False)\n",
              "            (proj): Linear(in_features=768, out_features=768, bias=True)\n",
              "            (proj_drop): Dropout(p=0.0, inplace=False)\n",
              "          )\n",
              "          (drop_path): Identity()\n",
              "          (norm2): LayerNorm((768,), eps=1e-06, elementwise_affine=True)\n",
              "          (mlp): Mlp(\n",
              "            (fc1): Linear(in_features=768, out_features=3072, bias=True)\n",
              "            (act): GELU(approximate='none')\n",
              "            (fc2): Linear(in_features=3072, out_features=768, bias=True)\n",
              "            (drop): Dropout(p=0.0, inplace=False)\n",
              "          )\n",
              "        )\n",
              "      )\n",
              "      (norm): LayerNorm((768,), eps=1e-06, elementwise_affine=True)\n",
              "      (pre_logits): Identity()\n",
              "      (head): Linear(in_features=768, out_features=1000, bias=True)\n",
              "      (head_dist): Linear(in_features=768, out_features=1000, bias=True)\n",
              "    )\n",
              "    (mlp_head): Sequential(\n",
              "      (0): LayerNorm((768,), eps=1e-05, elementwise_affine=True)\n",
              "      (1): Linear(in_features=768, out_features=527, bias=True)\n",
              "    )\n",
              "  )\n",
              ")"
            ]
          },
          "metadata": {},
          "execution_count": 15
        }
      ]
    },
    {
      "cell_type": "markdown",
      "source": [
        "Here we experiment with feature extraction using AST for the example we picked in the previous section"
      ],
      "metadata": {
        "id": "jLuisJtTjo2S"
      }
    },
    {
      "cell_type": "code",
      "source": [
        "# Use the make_features function to build spectrograoms and then perform some initial feature extraction process on it\n",
        "feats1 = make_features('output_resampled1.flac', mel_bins=128)\n",
        "\n",
        "feats1_data = feats1.expand(1, input_tdim, 128)           # reshape the feature\n",
        "feats1_data = feats1_data.to(torch.device(\"cuda:0\"))\n",
        "\n",
        "with torch.no_grad():\n",
        "  with autocast():\n",
        "    att_list1 = audio_model.module.forward_visualization(feats1_data)\n",
        "#REWRITE THE FOLLOWING TO NOT PRINT, BUT OUTPUT THE FEATURES IN THE DESIRED FORMAT\n",
        "#print(att_list[11])\n"
      ],
      "metadata": {
        "collapsed": true,
        "id": "QFTdraYEjoSg"
      },
      "execution_count": null,
      "outputs": []
    },
    {
      "cell_type": "code",
      "source": [
        "# Tempporary Cell\n",
        "print(feats1.shape)"
      ],
      "metadata": {
        "id": "y_IVl3zmGYuu",
        "colab": {
          "base_uri": "https://localhost:8080/"
        },
        "outputId": "3cc6aacf-1ffb-4dbb-e6a8-9bcba188bd5c"
      },
      "execution_count": null,
      "outputs": [
        {
          "output_type": "stream",
          "name": "stdout",
          "text": [
            "torch.Size([1024, 128])\n"
          ]
        }
      ]
    },
    {
      "cell_type": "markdown",
      "source": [
        "We average over a specific dimension to simplify the tensor"
      ],
      "metadata": {
        "id": "nT7iWjzTKI8X"
      }
    },
    {
      "cell_type": "code",
      "source": [
        "# Tempporary Cell\n",
        "feats1_mean_axis0 = feats1.mean(dim=0)\n",
        "print(feats1_mean_axis0.shape)"
      ],
      "metadata": {
        "colab": {
          "base_uri": "https://localhost:8080/"
        },
        "id": "B1hL6pxsJ1az",
        "outputId": "ac639225-6d11-44ff-f0f5-6dc6ec47b1c9"
      },
      "execution_count": null,
      "outputs": [
        {
          "output_type": "stream",
          "name": "stdout",
          "text": [
            "torch.Size([128])\n"
          ]
        }
      ]
    },
    {
      "cell_type": "code",
      "source": [
        "# Tempporary Cell\n",
        "feats1_mean_axis1 = feats1.mean(dim=1)\n",
        "print(feats1_mean_axis1.shape)"
      ],
      "metadata": {
        "colab": {
          "base_uri": "https://localhost:8080/"
        },
        "id": "p3ZhbkUIKDhK",
        "outputId": "40620d46-373c-4557-fe7b-c03604983669"
      },
      "execution_count": null,
      "outputs": [
        {
          "output_type": "stream",
          "name": "stdout",
          "text": [
            "torch.Size([1024])\n"
          ]
        }
      ]
    },
    {
      "cell_type": "markdown",
      "source": [
        "Perhaps in the long run we will use the feats1 tensor averaged across dim1. So for each data point, we will have 1024 features"
      ],
      "metadata": {
        "id": "xQYVHqrpKSgQ"
      }
    },
    {
      "cell_type": "markdown",
      "source": [
        "## Visualize the features generated by the example"
      ],
      "metadata": {
        "id": "G3RYk2VUKfz3"
      }
    },
    {
      "cell_type": "code",
      "source": [
        "# Visualize the initial features that were extracted.\n",
        "\n",
        "# Create a heatmap\n",
        "plt.imshow(feats1, cmap='viridis', interpolation='nearest')\n",
        "\n",
        "# Add a colorbar to show the scale\n",
        "plt.colorbar()\n",
        "\n",
        "# Add labels and title if desired\n",
        "plt.title('Heatmap of Features')\n",
        "plt.xlabel('X-axis')\n",
        "plt.ylabel('Y-axis')\n",
        "\n",
        "# Show the plot\n",
        "plt.show()"
      ],
      "metadata": {
        "id": "7pHjS1nrGifa",
        "colab": {
          "base_uri": "https://localhost:8080/",
          "height": 472
        },
        "outputId": "45f96e55-af0d-482c-b07c-1a0106033695"
      },
      "execution_count": null,
      "outputs": [
        {
          "output_type": "display_data",
          "data": {
            "text/plain": [
              "<Figure size 640x480 with 2 Axes>"
            ],
            "image/png": "[encoded data removed]"
          },
          "metadata": {}
        }
      ]
    },
    {
      "cell_type": "code",
      "source": [
        "# Here at att_list is built to hold the results of further layers. And they are visualized as heat maps\n",
        "\n",
        "with torch.no_grad():\n",
        "  with autocast():\n",
        "    att_list1 = audio_model.module.forward_visualization(feats1_data)\n",
        "for i in range(len(att_list1)):\n",
        "  att_list1[i] = att_list1[i].data.cpu().numpy()\n",
        "  att_list1[i] = np.mean(att_list1[i][0], axis=0)\n",
        "  att_list1[i] = np.mean(att_list1[i][0:2], axis=0)\n",
        "  att_list1[i] = att_list1[i][2:].reshape(12, 101)\n",
        "  plt.imshow(att_list1[i], origin='lower')\n",
        "  plt.title('Mean Attention Map of Layer #{:d}'.format(i))\n",
        "  plt.show()\n",
        "  plt.close()"
      ],
      "metadata": {
        "id": "rhSTbtBtIkEi",
        "colab": {
          "base_uri": "https://localhost:8080/",
          "height": 1000
        },
        "outputId": "7b5cae3f-2a1d-45e1-b151-863cbd411934"
      },
      "execution_count": null,
      "outputs": [
        {
          "output_type": "display_data",
          "data": {
            "text/plain": [
              "<Figure size 640x480 with 1 Axes>"
            ],
            "image/png": "[encoded data removed]"
          },
          "metadata": {}
        },
        {
          "output_type": "display_data",
          "data": {
            "text/plain": [
              "<Figure size 640x480 with 1 Axes>"
            ],
            "image/png": "[encoded data removed]"
          },
          "metadata": {}
        },
        {
          "output_type": "display_data",
          "data": {
            "text/plain": [
              "<Figure size 640x480 with 1 Axes>"
            ],
            "image/png": "[encoded data removed]"
          },
          "metadata": {}
        },
        {
          "output_type": "display_data",
          "data": {
            "text/plain": [
              "<Figure size 640x480 with 1 Axes>"
            ],
            "image/png": "[encoded data removed]"
          },
          "metadata": {}
        },
        {
          "output_type": "display_data",
          "data": {
            "text/plain": [
              "<Figure size 640x480 with 1 Axes>"
            ],
            "image/png": "[encoded data removed]"
          },
          "metadata": {}
        },
        {
          "output_type": "display_data",
          "data": {
            "text/plain": [
              "<Figure size 640x480 with 1 Axes>"
            ],
            "image/png": "[encoded data removed]"
          },
          "metadata": {}
        },
        {
          "output_type": "display_data",
          "data": {
            "text/plain": [
              "<Figure size 640x480 with 1 Axes>"
            ],
            "image/png": "[encoded data removed]"
          },
          "metadata": {}
        },
        {
          "output_type": "display_data",
          "data": {
            "text/plain": [
              "<Figure size 640x480 with 1 Axes>"
            ],
            "image/png": "[encoded data removed]"
          },
          "metadata": {}
        },
        {
          "output_type": "display_data",
          "data": {
            "text/plain": [
              "<Figure size 640x480 with 1 Axes>"
            ],
            "image/png": "[encoded data removed]"
          },
          "metadata": {}
        },
        {
          "output_type": "display_data",
          "data": {
            "text/plain": [
              "<Figure size 640x480 with 1 Axes>"
            ],
            "image/png": "[encoded data removed]"
          },
          "metadata": {}
        },
        {
          "output_type": "display_data",
          "data": {
            "text/plain": [
              "<Figure size 640x480 with 1 Axes>"
            ],
            "image/png": "[encoded data removed]"
          },
          "metadata": {}
        },
        {
          "output_type": "display_data",
          "data": {
            "text/plain": [
              "<Figure size 640x480 with 1 Axes>"
            ],
            "image/png": "[encoded data removed]"
          },
          "metadata": {}
        }
      ]
    },
    {
      "cell_type": "markdown",
      "source": [
        "DELETE THE FOLLOWING 4 CELLS AFTER RUNNING ONCE"
      ],
      "metadata": {
        "id": "0NRPmZve_r0_"
      }
    },
    {
      "cell_type": "code",
      "source": [
        "# potential feature candidate 2 (1 being feats)\n",
        "print(att_list1[5].shape)"
      ],
      "metadata": {
        "id": "ha9yFW1K49Md",
        "colab": {
          "base_uri": "https://localhost:8080/"
        },
        "outputId": "f4dd52d1-0fd3-4c67-8dc7-ed1695af947a"
      },
      "execution_count": null,
      "outputs": [
        {
          "output_type": "stream",
          "name": "stdout",
          "text": [
            "(12, 101)\n"
          ]
        }
      ]
    },
    {
      "cell_type": "code",
      "source": [
        "print(att_list1[5])"
      ],
      "metadata": {
        "colab": {
          "base_uri": "https://localhost:8080/"
        },
        "id": "lbRJOeH59JrY",
        "outputId": "0d4874d5-0a89-4746-dd25-d62871940857"
      },
      "execution_count": null,
      "outputs": [
        {
          "output_type": "stream",
          "name": "stdout",
          "text": [
            "[[0.00288545 0.00204337 0.00198695 ... 0.00116765 0.00040526 0.00063775]\n",
            " [0.00364099 0.00352812 0.00481339 ... 0.00278701 0.00465114 0.00312485]\n",
            " [0.0028143  0.00521764 0.00249129 ... 0.00071957 0.00041222 0.00066948]\n",
            " ...\n",
            " [0.00764903 0.00090631 0.00179434 ... 0.00034722 0.00020413 0.00016807]\n",
            " [0.00648265 0.00172264 0.00267594 ... 0.0004606  0.000245   0.00028681]\n",
            " [0.0128057  0.0047717  0.00377587 ... 0.00081737 0.00032651 0.00029336]]\n"
          ]
        }
      ]
    },
    {
      "cell_type": "code",
      "source": [
        "att_5_trial = torch.from_numpy(att_list1[5])\n",
        "print(att_5_trial.shape)"
      ],
      "metadata": {
        "colab": {
          "base_uri": "https://localhost:8080/"
        },
        "id": "RF701Ppx9jDj",
        "outputId": "c37d132a-cdf4-442a-e59f-5ff527249589"
      },
      "execution_count": null,
      "outputs": [
        {
          "output_type": "stream",
          "name": "stdout",
          "text": [
            "torch.Size([12, 101])\n"
          ]
        }
      ]
    },
    {
      "cell_type": "code",
      "source": [
        "att_list5_flat = torch.flatten(att_5_trial)\n",
        "print(att_list5_flat.shape)"
      ],
      "metadata": {
        "colab": {
          "base_uri": "https://localhost:8080/"
        },
        "id": "rPafPdpQ-mQL",
        "outputId": "a6af33b2-5156-43f6-83d5-82f7d8793b92"
      },
      "execution_count": null,
      "outputs": [
        {
          "output_type": "stream",
          "name": "stdout",
          "text": [
            "torch.Size([1212])\n"
          ]
        }
      ]
    },
    {
      "cell_type": "markdown",
      "source": [
        "Here we try the same visualization for a different example after looping the audio"
      ],
      "metadata": {
        "id": "gG5bqwi0IURC"
      }
    },
    {
      "cell_type": "code",
      "source": [
        "#choosing another example\n",
        "filename2 = train_P05.Filename.iloc[5]\n",
        "waveform2, sample_rate2 = torchaudio.load(datadir / filename2)\n",
        "resampler = T.Resample(orig_freq=sample_rate2, new_freq=target_sample_rate)\n",
        "# Apply the resampler\n",
        "resampled_waveform2 = resampler(waveform2)\n",
        "\n",
        "l = len(resampled_waveform2[0]) #take the length of the waveform\n",
        "multiplier = math.ceil(160200 / l) #create a multiplier\n",
        "tensors_list = [resampled_waveform2] * multiplier  # Create a list of the tensor repeated num_repeats times\n",
        "looped_waveform = torch.cat(tensors_list, dim=1) # Concatenate them along the new dimension\n",
        "  #Slice\n",
        "end_index = 160200 #the length that fit the input format for AST\n",
        "trimmed_tensor0 = looped_waveform[0][:end_index] #cutting off the tail\n",
        "trimmed_tensor = torch.tensor(trimmed_tensor0)\n",
        "trimmed_looped_waveform2 = trimmed_tensor.unsqueeze(0)\n",
        "  #Save flac file\n",
        "torchaudio.save('output_looped2.flac', trimmed_looped_waveform2, target_sample_rate)\n",
        "#new_wav , new_sam = torchaudio.load('output_looped.flac') #not needed\n"
      ],
      "metadata": {
        "id": "pbbUM3gMIEN9"
      },
      "execution_count": null,
      "outputs": []
    },
    {
      "cell_type": "code",
      "source": [
        "#check the sound\n",
        "IPython.display.Audio('/content/ast/output_looped1.flac')"
      ],
      "metadata": {
        "id": "OHa5C5hb-oVo"
      },
      "execution_count": null,
      "outputs": []
    },
    {
      "cell_type": "code",
      "source": [
        "# Use the make_features function to build spectrograoms and then perform some initial feature extraction process on it\n",
        "feats2 = make_features('output_looped2.flac', mel_bins=128)\n",
        "\n",
        "feats2_data = feats2.expand(1, input_tdim, 128)           # reshape the feature\n",
        "feats2_data = feats2_data.to(torch.device(\"cuda:0\"))\n",
        "\n",
        "with torch.no_grad():\n",
        "  with autocast():\n",
        "    att_list2 = audio_model.module.forward_visualization(feats2_data)\n"
      ],
      "metadata": {
        "id": "CFj3nR9YIQaI"
      },
      "execution_count": null,
      "outputs": []
    },
    {
      "cell_type": "code",
      "source": [
        "# Visualize the initial features that were extracted.\n",
        "\n",
        "# Create a heatmap\n",
        "plt.imshow(feats2, cmap='viridis', interpolation='nearest')\n",
        "\n",
        "# Add a colorbar to show the scale\n",
        "plt.colorbar()\n",
        "\n",
        "# Add labels and title if desired\n",
        "plt.title('Heatmap of Features')\n",
        "plt.xlabel('X-axis')\n",
        "plt.ylabel('Y-axis')\n",
        "\n",
        "# Show the plot\n",
        "plt.show()"
      ],
      "metadata": {
        "id": "xuNI-f4LIZrQ"
      },
      "execution_count": null,
      "outputs": []
    },
    {
      "cell_type": "code",
      "source": [
        "# Here at att_list is built to hold the results of further layers. And they are visualized as heat maps\n",
        "\n",
        "with torch.no_grad():\n",
        "  with autocast():\n",
        "    att_list2 = audio_model.module.forward_visualization(feats2_data)\n",
        "for i in range(len(att_list2)):\n",
        "  att_list2[i] = att_list2[i].data.cpu().numpy()\n",
        "  att_list2[i] = np.mean(att_list2[i][0], axis=0)\n",
        "  att_list2[i] = np.mean(att_list2[i][0:2], axis=0)\n",
        "  att_list2[i] = att_list2[i][2:].reshape(12, 101)\n",
        "  plt.imshow(att_list2[i], origin='lower')\n",
        "  plt.title('Mean Attention Map of Layer #{:d}'.format(i))\n",
        "  plt.show()\n",
        "  plt.close()"
      ],
      "metadata": {
        "id": "dlI2XhQbIrBR"
      },
      "execution_count": null,
      "outputs": []
    },
    {
      "cell_type": "markdown",
      "source": [
        "# Step 3 : Extracting Features for All the Data Points in the Training Data for Participant 05\n",
        "\n"
      ],
      "metadata": {
        "id": "EauW39sY4nax"
      }
    },
    {
      "cell_type": "code",
      "source": [
        "# these were run earlier\n",
        "# datadir = Path('/content/data/wav')\n",
        "# import torchaudio.transforms as T\n",
        "# target_sample_rate = 16000  # Target sample rate of 16 kHz\n",
        "\n",
        "feats_list = [] # feature list 0 # Check if this should gather feats_data instead\n",
        "feats_2_list = [] # feature list 1\n",
        "Att1_list = [] # feature list 2 ###\n",
        "Att5_list = [] # feature list 3 ### commented out for now, since we have to figure out a feasible size compression tactic first\n",
        "\n",
        "for filename in train_P05.Filename:\n",
        "  waveform, sample_rate = torchaudio.load(datadir / filename)\n",
        "  #resample\n",
        "  resampler = T.Resample(orig_freq=sample_rate, new_freq=target_sample_rate)\n",
        "  resampled_waveform = resampler(waveform) # Apply the resampler\n",
        "  #loop\n",
        "  l = len(resampled_waveform[0]) #take the length of the waveform\n",
        "  multiplier = math.ceil(160200 / l) #create a multiplier\n",
        "  tensors_list = [resampled_waveform] * multiplier  # Create a list of the tensor repeated num_repeats times\n",
        "  looped_waveform = torch.cat(tensors_list, dim=1) # Concatenate them along the new dimension\n",
        "  #Slice\n",
        "  end_index = 160200 #the length that fit the input format for AST\n",
        "  trimmed_tensor0 = looped_waveform[0][:end_index] #cutting off the tail\n",
        "  trimmed_tensor = torch.tensor(trimmed_tensor0)\n",
        "  trimmed_looped_waveform = trimmed_tensor.unsqueeze(0)\n",
        "  #Save flac file\n",
        "  torchaudio.save('output_looped.flac', trimmed_looped_waveform, target_sample_rate)\n",
        "  #new_wav , new_sam = torchaudio.load('output_looped.flac') #not needed\n",
        "\n",
        "  # use AST model to make features. Make sure the cell containing the model has been run\n",
        "  feats = make_features('output_looped.flac', mel_bins=128)\n",
        "\n",
        "  feats_data = feats.expand(1, input_tdim, 128)           # reshape the feature\n",
        "  feats_data = feats_data.to(torch.device(\"cuda:0\"))\n",
        "\n",
        "  #make the att_list that contains the results of later layers 1 through 11. We may choose any of these as our features\n",
        "  with torch.no_grad():\n",
        "    with autocast():\n",
        "      att_list = audio_model.module.forward_visualization(feats_data)\n",
        "  for i in range(len(att_list)):\n",
        "    att_list[i] = att_list[i].data.cpu().numpy()\n",
        "    att_list[i] = np.mean(att_list[i][0], axis=0)\n",
        "    att_list[i] = np.mean(att_list[i][0:2], axis=0)\n",
        "    att_list[i] = att_list[i][2:].reshape(12, 101)\n",
        "\n",
        "  att_list1 = torch.from_numpy(att_list[1]) #reshape to get a tensor\n",
        "  att_list5 = torch.from_numpy(att_list[5]) #reshape to get a tensor\n",
        "\n",
        "  #turn the feats tensor into 1 dimensional arrays in two different ways\n",
        "  feats_mean_axis1 = feats.mean(dim=1) #Averaging across the shorter direction so we get a 1024 long array instead of 1024 by 128 tensor\n",
        "  feats_mean_axis0 = feats.mean(dim=0)\n",
        "  att_list1_flat = torch.flatten(att_list1) #att_list[1] is two dimensional. here we concatenate rows to get a one dimensional array of length 1212\n",
        "  att_list5_flat = torch.flatten(att_list5) #same as above\n",
        "\n",
        "  #gather the features into previously made lists\n",
        "  feats_list.append(feats_mean_axis1)\n",
        "  feats_2_list.append(feats_mean_axis0)\n",
        "  Att1_list.append(att_list1_flat) ###\n",
        "  Att5_list.append(att_list5_flat) ###\n",
        "\n",
        "X = torch.stack(feats_list).detach()\n",
        "X_1 = torch.stack(feats_2_list).detach()\n",
        "X_2 = torch.stack(Att1_list).detach() ###\n",
        "X_3 = torch.stack(Att5_list).detach() ###\n",
        "\n",
        "labels = train_P05.Label.unique()\n",
        "y = torch.zeros(len(train_P05), dtype=torch.int)\n",
        "for idx, label in enumerate(labels):\n",
        "    y[(train_P05.Label == label).values] = idx\n",
        "print(X.shape, y.shape)\n"
      ],
      "metadata": {
        "id": "0aM1zpTC4tvG",
        "colab": {
          "base_uri": "https://localhost:8080/"
        },
        "outputId": "ef9d0e8f-7da6-4c54-f8eb-99397e44ce2c"
      },
      "execution_count": null,
      "outputs": [
        {
          "output_type": "stream",
          "name": "stdout",
          "text": [
            "torch.Size([673, 1024]) torch.Size([673])\n"
          ]
        }
      ]
    },
    {
      "cell_type": "code",
      "source": [
        "print(X_1.shape, X_2.shape, X_3.shape)"
      ],
      "metadata": {
        "id": "JdXixcsQUFnB",
        "colab": {
          "base_uri": "https://localhost:8080/"
        },
        "outputId": "a1e84290-9aea-4348-94b0-672ffde634b0"
      },
      "execution_count": null,
      "outputs": [
        {
          "output_type": "stream",
          "name": "stdout",
          "text": [
            "torch.Size([673, 128]) torch.Size([673, 1212]) torch.Size([673, 1212])\n"
          ]
        }
      ]
    },
    {
      "cell_type": "markdown",
      "source": [
        "# Step 4 : Use Logistic Regression for the Classification"
      ],
      "metadata": {
        "id": "MWnYfwezkLRa"
      }
    },
    {
      "cell_type": "markdown",
      "source": [
        "Here we check accuracy for the four types of features we gathered"
      ],
      "metadata": {
        "id": "iCmHpZ2agy0K"
      }
    },
    {
      "cell_type": "code",
      "source": [
        "# seeing which feature makes the most sense\n",
        "# checking accuracy for feature set 0 : X\n",
        "est = make_pipeline(\n",
        "    StandardScaler(),\n",
        "    LogisticRegression(\n",
        "        max_iter=10**6,\n",
        "    ),\n",
        ")\n",
        "opt = BayesSearchCV(\n",
        "    est,\n",
        "    {\n",
        "        \"logisticregression__C\": (5e-3, 1, \"log-uniform\"),\n",
        "    },\n",
        "    n_iter=20,\n",
        "    cv=StratifiedKFold(n_splits=10, shuffle=True, random_state=12345),\n",
        "    scoring=\"accuracy\",\n",
        ")\n",
        "opt.fit(\n",
        "    X.reshape(len(X), -1),\n",
        "    y,\n",
        ")\n",
        "print(opt.best_params_)\n",
        "print(\"Best accuracy:\", opt.best_score_)"
      ],
      "metadata": {
        "colab": {
          "base_uri": "https://localhost:8080/"
        },
        "id": "D72UYyEZOj4g",
        "outputId": "583c1930-7882-4911-967e-c7ea710907df"
      },
      "execution_count": null,
      "outputs": [
        {
          "output_type": "stream",
          "name": "stdout",
          "text": [
            "OrderedDict([('logisticregression__C', 0.0060946674821578594)])\n",
            "Best accuracy: 0.34916593503072874\n"
          ]
        }
      ]
    },
    {
      "cell_type": "code",
      "source": [
        "# seeing which feature makes the most sense\n",
        "# checking accuracy for feature set 1 : X_1\n",
        "est = make_pipeline(\n",
        "    StandardScaler(),\n",
        "    LogisticRegression(\n",
        "        max_iter=10**6,\n",
        "    ),\n",
        ")\n",
        "opt = BayesSearchCV(\n",
        "    est,\n",
        "    {\n",
        "        \"logisticregression__C\": (5e-3, 1, \"log-uniform\"),\n",
        "    },\n",
        "    n_iter=20,\n",
        "    cv=StratifiedKFold(n_splits=10, shuffle=True, random_state=12345),\n",
        "    scoring=\"accuracy\",\n",
        ")\n",
        "opt.fit(\n",
        "    X_1.reshape(len(X_1), -1),\n",
        "    y,\n",
        ")\n",
        "print(opt.best_params_)\n",
        "print(\"Best accuracy:\", opt.best_score_)"
      ],
      "metadata": {
        "id": "VfMTccIsTroJ",
        "colab": {
          "base_uri": "https://localhost:8080/"
        },
        "outputId": "54e1e0f2-f759-4072-e35f-e6f6ea4e047c"
      },
      "execution_count": null,
      "outputs": [
        {
          "output_type": "stream",
          "name": "stdout",
          "text": [
            "OrderedDict([('logisticregression__C', 0.3735807453955014)])\n",
            "Best accuracy: 0.5736611062335382\n"
          ]
        }
      ]
    },
    {
      "cell_type": "code",
      "source": [
        "# seeing which feature makes the most sense\n",
        "# checking accuracy for feature set 2 : X_2\n",
        "est = make_pipeline(\n",
        "    StandardScaler(),\n",
        "    LogisticRegression(\n",
        "        max_iter=10**6,\n",
        "    ),\n",
        ")\n",
        "opt = BayesSearchCV(\n",
        "    est,\n",
        "    {\n",
        "        \"logisticregression__C\": (5e-3, 1, \"log-uniform\"),\n",
        "    },\n",
        "    n_iter=20,\n",
        "    cv=StratifiedKFold(n_splits=10, shuffle=True, random_state=12345),\n",
        "    scoring=\"accuracy\",\n",
        ")\n",
        "opt.fit(\n",
        "    X_2.reshape(len(X_2), -1),\n",
        "    y,\n",
        ")\n",
        "print(opt.best_params_)\n",
        "print(\"Best accuracy:\", opt.best_score_)"
      ],
      "metadata": {
        "id": "ObfpsOvDTzXP",
        "colab": {
          "base_uri": "https://localhost:8080/"
        },
        "outputId": "72b8149c-6c98-47fb-85c6-397833863906"
      },
      "execution_count": null,
      "outputs": [
        {
          "output_type": "stream",
          "name": "stdout",
          "text": [
            "OrderedDict([('logisticregression__C', 0.06329537160779325)])\n",
            "Best accuracy: 0.5454126426690078\n"
          ]
        }
      ]
    },
    {
      "cell_type": "code",
      "source": [
        "# seeing which feature makes the most sense\n",
        "# checking accuracy for feature set 3 : X_3\n",
        "est = make_pipeline(\n",
        "    StandardScaler(),\n",
        "    LogisticRegression(\n",
        "        max_iter=10**6,\n",
        "    ),\n",
        ")\n",
        "opt = BayesSearchCV(\n",
        "    est,\n",
        "    {\n",
        "        \"logisticregression__C\": (5e-3, 1, \"log-uniform\"),\n",
        "    },\n",
        "    n_iter=20,\n",
        "    cv=StratifiedKFold(n_splits=10, shuffle=True, random_state=12345),\n",
        "    scoring=\"accuracy\",\n",
        ")\n",
        "opt.fit(\n",
        "    X_3.reshape(len(X_3), -1),\n",
        "    y,\n",
        ")\n",
        "print(opt.best_params_)\n",
        "print(\"Best accuracy:\", opt.best_score_)"
      ],
      "metadata": {
        "id": "1wxAmBFHT346",
        "colab": {
          "base_uri": "https://localhost:8080/"
        },
        "outputId": "e3a18df1-896c-4b18-eebf-025c9536e15e"
      },
      "execution_count": null,
      "outputs": [
        {
          "output_type": "stream",
          "name": "stdout",
          "text": [
            "OrderedDict([('logisticregression__C', 0.0061887314073235025)])\n",
            "Best accuracy: 0.5320676031606674\n"
          ]
        }
      ]
    },
    {
      "cell_type": "markdown",
      "source": [
        "Run Logistic Regression and Check Accuracy"
      ],
      "metadata": {
        "id": "BeZ1x_EX6ZIm"
      }
    },
    {
      "cell_type": "code",
      "source": [
        "# Some possible sample weights for training and/or metrics.\n",
        "# session_weight weights each sample based on sessions, so\n",
        "# that the total weight of observations in each sesion is\n",
        "# constant. On top of that, session_and_label_weight assigns\n",
        "# a label to each weight, which is multiplied by the sesion weight,\n",
        "# in such a way to make the sum of the weights constant by label.\n",
        "session_weight = (\n",
        "    (1 / train_P05.Session.value_counts())\n",
        "    .clip(None, 0.1)\n",
        "    .loc[train_P05.Session]\n",
        ").values\n",
        "session_and_label_weight = (\n",
        "    1\n",
        "    / pd.Series(session_weight, train_P05.index)\n",
        "    .groupby(train_P05.Label)\n",
        "    .sum()\n",
        ").loc[train_P05.Label].values * session_weight"
      ],
      "metadata": {
        "id": "eyaXu60h6Yvs"
      },
      "execution_count": null,
      "outputs": []
    },
    {
      "cell_type": "markdown",
      "source": [
        "Running the experiment for feature X"
      ],
      "metadata": {
        "id": "1cOLDHBj7Npy"
      }
    },
    {
      "cell_type": "code",
      "source": [
        "# Generate out-of-sample predictions using a logistic\n",
        "# regression model, with the parameter determined by\n",
        "# the optimization above.\n",
        "#\n",
        "# We compute various metrics, using various weightings\n",
        "est = make_pipeline(\n",
        "    StandardScaler(),\n",
        "    LogisticRegression(\n",
        "        C=opt.best_params_[\"logisticregression__C\"],\n",
        "        max_iter=10**6,\n",
        "    ),\n",
        ")\n",
        "oos_pred_prob = cross_val_predict(\n",
        "    est,\n",
        "    X.reshape(len(X), -1),\n",
        "    y,\n",
        "    cv=StratifiedKFold(\n",
        "        n_splits=10,\n",
        "        shuffle=True,\n",
        "        random_state=1234,  # Using different seed to avoid over-fitting parameter\n",
        "    ),\n",
        "    method=\"predict_proba\",\n",
        "    params={\"logisticregression__sample_weight\": session_weight},\n",
        ")\n",
        "oos_pred = oos_pred_prob.argmax(1)\n",
        "\n",
        "display(\n",
        "    pd.Series(\n",
        "        {name: metric(y, oos_pred_prob) for name, metric in metrics.items()},\n",
        "        name=\"no_weight\",\n",
        "    ).round(3)\n",
        ")\n",
        "display(\n",
        "    pd.Series(\n",
        "        {\n",
        "            name: metric(y, oos_pred_prob, sample_weight=session_weight)\n",
        "            for name, metric in metrics.items()\n",
        "        },\n",
        "        name=\"session_weight\",\n",
        "    ).round(3)\n",
        ")\n",
        "display(\n",
        "    pd.Series(\n",
        "        {\n",
        "            name: metric(\n",
        "                y, oos_pred_prob, sample_weight=session_and_label_weight\n",
        "            )\n",
        "            for name, metric in metrics.items()\n",
        "        },\n",
        "        name=\"session_and_label_weight\",\n",
        "    ).round(3)\n",
        ")"
      ],
      "metadata": {
        "colab": {
          "base_uri": "https://localhost:8080/",
          "height": 688
        },
        "id": "K2puBCFM7F3Z",
        "outputId": "73ad7b98-ff17-4c91-d51b-aabbbcd64424"
      },
      "execution_count": null,
      "outputs": [
        {
          "output_type": "display_data",
          "data": {
            "text/plain": [
              "accuracy             0.305\n",
              "balanced_accuracy    0.253\n",
              "unweighted_f1        0.229\n",
              "UAR                  0.253\n",
              "logloss              1.561\n",
              "Name: no_weight, dtype: float64"
            ],
            "text/html": [
              "<div>\n",
              "<style scoped>\n",
              "    .dataframe tbody tr th:only-of-type {\n",
              "        vertical-align: middle;\n",
              "    }\n",
              "\n",
              "    .dataframe tbody tr th {\n",
              "        vertical-align: top;\n",
              "    }\n",
              "\n",
              "    .dataframe thead th {\n",
              "        text-align: right;\n",
              "    }\n",
              "</style>\n",
              "<table border=\"1\" class=\"dataframe\">\n",
              "  <thead>\n",
              "    <tr style=\"text-align: right;\">\n",
              "      <th></th>\n",
              "      <th>no_weight</th>\n",
              "    </tr>\n",
              "  </thead>\n",
              "  <tbody>\n",
              "    <tr>\n",
              "      <th>accuracy</th>\n",
              "      <td>0.305</td>\n",
              "    </tr>\n",
              "    <tr>\n",
              "      <th>balanced_accuracy</th>\n",
              "      <td>0.253</td>\n",
              "    </tr>\n",
              "    <tr>\n",
              "      <th>unweighted_f1</th>\n",
              "      <td>0.229</td>\n",
              "    </tr>\n",
              "    <tr>\n",
              "      <th>UAR</th>\n",
              "      <td>0.253</td>\n",
              "    </tr>\n",
              "    <tr>\n",
              "      <th>logloss</th>\n",
              "      <td>1.561</td>\n",
              "    </tr>\n",
              "  </tbody>\n",
              "</table>\n",
              "</div><br><label><b>dtype:</b> float64</label>"
            ]
          },
          "metadata": {}
        },
        {
          "output_type": "display_data",
          "data": {
            "text/plain": [
              "accuracy             0.352\n",
              "balanced_accuracy    0.261\n",
              "unweighted_f1        0.253\n",
              "UAR                  0.261\n",
              "logloss              1.454\n",
              "Name: session_weight, dtype: float64"
            ],
            "text/html": [
              "<div>\n",
              "<style scoped>\n",
              "    .dataframe tbody tr th:only-of-type {\n",
              "        vertical-align: middle;\n",
              "    }\n",
              "\n",
              "    .dataframe tbody tr th {\n",
              "        vertical-align: top;\n",
              "    }\n",
              "\n",
              "    .dataframe thead th {\n",
              "        text-align: right;\n",
              "    }\n",
              "</style>\n",
              "<table border=\"1\" class=\"dataframe\">\n",
              "  <thead>\n",
              "    <tr style=\"text-align: right;\">\n",
              "      <th></th>\n",
              "      <th>session_weight</th>\n",
              "    </tr>\n",
              "  </thead>\n",
              "  <tbody>\n",
              "    <tr>\n",
              "      <th>accuracy</th>\n",
              "      <td>0.352</td>\n",
              "    </tr>\n",
              "    <tr>\n",
              "      <th>balanced_accuracy</th>\n",
              "      <td>0.261</td>\n",
              "    </tr>\n",
              "    <tr>\n",
              "      <th>unweighted_f1</th>\n",
              "      <td>0.253</td>\n",
              "    </tr>\n",
              "    <tr>\n",
              "      <th>UAR</th>\n",
              "      <td>0.261</td>\n",
              "    </tr>\n",
              "    <tr>\n",
              "      <th>logloss</th>\n",
              "      <td>1.454</td>\n",
              "    </tr>\n",
              "  </tbody>\n",
              "</table>\n",
              "</div><br><label><b>dtype:</b> float64</label>"
            ]
          },
          "metadata": {}
        },
        {
          "output_type": "display_data",
          "data": {
            "text/plain": [
              "accuracy             0.261\n",
              "balanced_accuracy    0.261\n",
              "unweighted_f1        0.226\n",
              "UAR                  0.261\n",
              "logloss              1.757\n",
              "Name: session_and_label_weight, dtype: float64"
            ],
            "text/html": [
              "<div>\n",
              "<style scoped>\n",
              "    .dataframe tbody tr th:only-of-type {\n",
              "        vertical-align: middle;\n",
              "    }\n",
              "\n",
              "    .dataframe tbody tr th {\n",
              "        vertical-align: top;\n",
              "    }\n",
              "\n",
              "    .dataframe thead th {\n",
              "        text-align: right;\n",
              "    }\n",
              "</style>\n",
              "<table border=\"1\" class=\"dataframe\">\n",
              "  <thead>\n",
              "    <tr style=\"text-align: right;\">\n",
              "      <th></th>\n",
              "      <th>session_and_label_weight</th>\n",
              "    </tr>\n",
              "  </thead>\n",
              "  <tbody>\n",
              "    <tr>\n",
              "      <th>accuracy</th>\n",
              "      <td>0.261</td>\n",
              "    </tr>\n",
              "    <tr>\n",
              "      <th>balanced_accuracy</th>\n",
              "      <td>0.261</td>\n",
              "    </tr>\n",
              "    <tr>\n",
              "      <th>unweighted_f1</th>\n",
              "      <td>0.226</td>\n",
              "    </tr>\n",
              "    <tr>\n",
              "      <th>UAR</th>\n",
              "      <td>0.261</td>\n",
              "    </tr>\n",
              "    <tr>\n",
              "      <th>logloss</th>\n",
              "      <td>1.757</td>\n",
              "    </tr>\n",
              "  </tbody>\n",
              "</table>\n",
              "</div><br><label><b>dtype:</b> float64</label>"
            ]
          },
          "metadata": {}
        }
      ]
    },
    {
      "cell_type": "code",
      "source": [
        "# Confusion matrix\n",
        "\n",
        "conf_matrix_df = pd.DataFrame(\n",
        "    confusion_matrix(y, oos_pred), columns=labels, index=labels\n",
        ")\n",
        "conf_matrix_df.index.name = \"actual_label\"\n",
        "conf_matrix_df.columns.name = \"pred_label\"\n",
        "display(conf_matrix_df)"
      ],
      "metadata": {
        "id": "koye3T1r-8wX"
      },
      "execution_count": null,
      "outputs": []
    },
    {
      "cell_type": "code",
      "source": [
        "# Create a heatmap\n",
        "plt.imshow(conf_matrix_df, cmap='viridis', interpolation='nearest')\n",
        "\n",
        "# Add a colorbar to show the scale\n",
        "plt.colorbar()\n",
        "\n",
        "# Add labels and title if desired\n",
        "plt.title('Confusion Matrix')\n",
        "plt.xlabel('X-axis')\n",
        "plt.ylabel('Y-axis')\n",
        "\n",
        "# Show the plot\n",
        "plt.show()"
      ],
      "metadata": {
        "id": "igNsxnJV-9wo"
      },
      "execution_count": null,
      "outputs": []
    },
    {
      "cell_type": "markdown",
      "source": [
        "Running the experiment for feature X_1"
      ],
      "metadata": {
        "id": "P8UL6Wr77vua"
      }
    },
    {
      "cell_type": "code",
      "source": [
        "# Generate out-of-sample predictions using a logistic\n",
        "# regression model, with the parameter determined by\n",
        "# the optimization above.\n",
        "#\n",
        "# We compute various metrics, using various weightings\n",
        "est = make_pipeline(\n",
        "    StandardScaler(),\n",
        "    LogisticRegression(\n",
        "        C=opt.best_params_[\"logisticregression__C\"],\n",
        "        max_iter=10**6,\n",
        "    ),\n",
        ")\n",
        "oos_pred_prob = cross_val_predict(\n",
        "    est,\n",
        "    X_1.reshape(len(X_1), -1),\n",
        "    y,\n",
        "    cv=StratifiedKFold(\n",
        "        n_splits=10,\n",
        "        shuffle=True,\n",
        "        random_state=1234,  # Using different seed to avoid over-fitting parameter\n",
        "    ),\n",
        "    method=\"predict_proba\",\n",
        "    params={\"logisticregression__sample_weight\": session_weight},\n",
        ")\n",
        "oos_pred = oos_pred_prob.argmax(1)\n",
        "\n",
        "display(\n",
        "    pd.Series(\n",
        "        {name: metric(y, oos_pred_prob) for name, metric in metrics.items()},\n",
        "        name=\"no_weight\",\n",
        "    ).round(3)\n",
        ")\n",
        "display(\n",
        "    pd.Series(\n",
        "        {\n",
        "            name: metric(y, oos_pred_prob, sample_weight=session_weight)\n",
        "            for name, metric in metrics.items()\n",
        "        },\n",
        "        name=\"session_weight\",\n",
        "    ).round(3)\n",
        ")\n",
        "display(\n",
        "    pd.Series(\n",
        "        {\n",
        "            name: metric(\n",
        "                y, oos_pred_prob, sample_weight=session_and_label_weight\n",
        "            )\n",
        "            for name, metric in metrics.items()\n",
        "        },\n",
        "        name=\"session_and_label_weight\",\n",
        "    ).round(3)\n",
        ")"
      ],
      "metadata": {
        "colab": {
          "base_uri": "https://localhost:8080/",
          "height": 688
        },
        "id": "apzyLiku7xz5",
        "outputId": "d99364e0-9bab-419c-f55f-44c77c94d7eb"
      },
      "execution_count": null,
      "outputs": [
        {
          "output_type": "display_data",
          "data": {
            "text/plain": [
              "accuracy             0.501\n",
              "balanced_accuracy    0.361\n",
              "unweighted_f1        0.337\n",
              "UAR                  0.361\n",
              "logloss              1.299\n",
              "Name: no_weight, dtype: float64"
            ],
            "text/html": [
              "<div>\n",
              "<style scoped>\n",
              "    .dataframe tbody tr th:only-of-type {\n",
              "        vertical-align: middle;\n",
              "    }\n",
              "\n",
              "    .dataframe tbody tr th {\n",
              "        vertical-align: top;\n",
              "    }\n",
              "\n",
              "    .dataframe thead th {\n",
              "        text-align: right;\n",
              "    }\n",
              "</style>\n",
              "<table border=\"1\" class=\"dataframe\">\n",
              "  <thead>\n",
              "    <tr style=\"text-align: right;\">\n",
              "      <th></th>\n",
              "      <th>no_weight</th>\n",
              "    </tr>\n",
              "  </thead>\n",
              "  <tbody>\n",
              "    <tr>\n",
              "      <th>accuracy</th>\n",
              "      <td>0.501</td>\n",
              "    </tr>\n",
              "    <tr>\n",
              "      <th>balanced_accuracy</th>\n",
              "      <td>0.361</td>\n",
              "    </tr>\n",
              "    <tr>\n",
              "      <th>unweighted_f1</th>\n",
              "      <td>0.337</td>\n",
              "    </tr>\n",
              "    <tr>\n",
              "      <th>UAR</th>\n",
              "      <td>0.361</td>\n",
              "    </tr>\n",
              "    <tr>\n",
              "      <th>logloss</th>\n",
              "      <td>1.299</td>\n",
              "    </tr>\n",
              "  </tbody>\n",
              "</table>\n",
              "</div><br><label><b>dtype:</b> float64</label>"
            ]
          },
          "metadata": {}
        },
        {
          "output_type": "display_data",
          "data": {
            "text/plain": [
              "accuracy             0.481\n",
              "balanced_accuracy    0.340\n",
              "unweighted_f1        0.329\n",
              "UAR                  0.340\n",
              "logloss              1.236\n",
              "Name: session_weight, dtype: float64"
            ],
            "text/html": [
              "<div>\n",
              "<style scoped>\n",
              "    .dataframe tbody tr th:only-of-type {\n",
              "        vertical-align: middle;\n",
              "    }\n",
              "\n",
              "    .dataframe tbody tr th {\n",
              "        vertical-align: top;\n",
              "    }\n",
              "\n",
              "    .dataframe thead th {\n",
              "        text-align: right;\n",
              "    }\n",
              "</style>\n",
              "<table border=\"1\" class=\"dataframe\">\n",
              "  <thead>\n",
              "    <tr style=\"text-align: right;\">\n",
              "      <th></th>\n",
              "      <th>session_weight</th>\n",
              "    </tr>\n",
              "  </thead>\n",
              "  <tbody>\n",
              "    <tr>\n",
              "      <th>accuracy</th>\n",
              "      <td>0.481</td>\n",
              "    </tr>\n",
              "    <tr>\n",
              "      <th>balanced_accuracy</th>\n",
              "      <td>0.340</td>\n",
              "    </tr>\n",
              "    <tr>\n",
              "      <th>unweighted_f1</th>\n",
              "      <td>0.329</td>\n",
              "    </tr>\n",
              "    <tr>\n",
              "      <th>UAR</th>\n",
              "      <td>0.340</td>\n",
              "    </tr>\n",
              "    <tr>\n",
              "      <th>logloss</th>\n",
              "      <td>1.236</td>\n",
              "    </tr>\n",
              "  </tbody>\n",
              "</table>\n",
              "</div><br><label><b>dtype:</b> float64</label>"
            ]
          },
          "metadata": {}
        },
        {
          "output_type": "display_data",
          "data": {
            "text/plain": [
              "accuracy             0.340\n",
              "balanced_accuracy    0.340\n",
              "unweighted_f1        0.280\n",
              "UAR                  0.340\n",
              "logloss              1.522\n",
              "Name: session_and_label_weight, dtype: float64"
            ],
            "text/html": [
              "<div>\n",
              "<style scoped>\n",
              "    .dataframe tbody tr th:only-of-type {\n",
              "        vertical-align: middle;\n",
              "    }\n",
              "\n",
              "    .dataframe tbody tr th {\n",
              "        vertical-align: top;\n",
              "    }\n",
              "\n",
              "    .dataframe thead th {\n",
              "        text-align: right;\n",
              "    }\n",
              "</style>\n",
              "<table border=\"1\" class=\"dataframe\">\n",
              "  <thead>\n",
              "    <tr style=\"text-align: right;\">\n",
              "      <th></th>\n",
              "      <th>session_and_label_weight</th>\n",
              "    </tr>\n",
              "  </thead>\n",
              "  <tbody>\n",
              "    <tr>\n",
              "      <th>accuracy</th>\n",
              "      <td>0.340</td>\n",
              "    </tr>\n",
              "    <tr>\n",
              "      <th>balanced_accuracy</th>\n",
              "      <td>0.340</td>\n",
              "    </tr>\n",
              "    <tr>\n",
              "      <th>unweighted_f1</th>\n",
              "      <td>0.280</td>\n",
              "    </tr>\n",
              "    <tr>\n",
              "      <th>UAR</th>\n",
              "      <td>0.340</td>\n",
              "    </tr>\n",
              "    <tr>\n",
              "      <th>logloss</th>\n",
              "      <td>1.522</td>\n",
              "    </tr>\n",
              "  </tbody>\n",
              "</table>\n",
              "</div><br><label><b>dtype:</b> float64</label>"
            ]
          },
          "metadata": {}
        }
      ]
    },
    {
      "cell_type": "code",
      "source": [
        "# Confusion matrix\n",
        "\n",
        "conf_matrix_df = pd.DataFrame(\n",
        "    confusion_matrix(y, oos_pred), columns=labels, index=labels\n",
        ")\n",
        "conf_matrix_df.index.name = \"actual_label\"\n",
        "conf_matrix_df.columns.name = \"pred_label\"\n",
        "display(conf_matrix_df)"
      ],
      "metadata": {
        "colab": {
          "base_uri": "https://localhost:8080/",
          "height": 237
        },
        "id": "oCSvJAyf8RG3",
        "outputId": "d98e6895-6ff7-4f49-ef0f-3b8d0404ef9d"
      },
      "execution_count": null,
      "outputs": [
        {
          "output_type": "display_data",
          "data": {
            "text/plain": [
              "pred_label    happy  frustrated  dysregulated  selftalk  delighted\n",
              "actual_label                                                      \n",
              "happy             5           1             0        32          8\n",
              "frustrated        0         131             0        64         13\n",
              "dysregulated      3          22             0        40          9\n",
              "selftalk          0          13             0       171         15\n",
              "delighted         1          22             0        93         30"
            ],
            "text/html": [
              "\n",
              "  <div id=\"df-e9023424-af84-406d-8946-b76c35f2a603\" class=\"colab-df-container\">\n",
              "    <div>\n",
              "<style scoped>\n",
              "    .dataframe tbody tr th:only-of-type {\n",
              "        vertical-align: middle;\n",
              "    }\n",
              "\n",
              "    .dataframe tbody tr th {\n",
              "        vertical-align: top;\n",
              "    }\n",
              "\n",
              "    .dataframe thead th {\n",
              "        text-align: right;\n",
              "    }\n",
              "</style>\n",
              "<table border=\"1\" class=\"dataframe\">\n",
              "  <thead>\n",
              "    <tr style=\"text-align: right;\">\n",
              "      <th>pred_label</th>\n",
              "      <th>happy</th>\n",
              "      <th>frustrated</th>\n",
              "      <th>dysregulated</th>\n",
              "      <th>selftalk</th>\n",
              "      <th>delighted</th>\n",
              "    </tr>\n",
              "    <tr>\n",
              "      <th>actual_label</th>\n",
              "      <th></th>\n",
              "      <th></th>\n",
              "      <th></th>\n",
              "      <th></th>\n",
              "      <th></th>\n",
              "    </tr>\n",
              "  </thead>\n",
              "  <tbody>\n",
              "    <tr>\n",
              "      <th>happy</th>\n",
              "      <td>5</td>\n",
              "      <td>1</td>\n",
              "      <td>0</td>\n",
              "      <td>32</td>\n",
              "      <td>8</td>\n",
              "    </tr>\n",
              "    <tr>\n",
              "      <th>frustrated</th>\n",
              "      <td>0</td>\n",
              "      <td>131</td>\n",
              "      <td>0</td>\n",
              "      <td>64</td>\n",
              "      <td>13</td>\n",
              "    </tr>\n",
              "    <tr>\n",
              "      <th>dysregulated</th>\n",
              "      <td>3</td>\n",
              "      <td>22</td>\n",
              "      <td>0</td>\n",
              "      <td>40</td>\n",
              "      <td>9</td>\n",
              "    </tr>\n",
              "    <tr>\n",
              "      <th>selftalk</th>\n",
              "      <td>0</td>\n",
              "      <td>13</td>\n",
              "      <td>0</td>\n",
              "      <td>171</td>\n",
              "      <td>15</td>\n",
              "    </tr>\n",
              "    <tr>\n",
              "      <th>delighted</th>\n",
              "      <td>1</td>\n",
              "      <td>22</td>\n",
              "      <td>0</td>\n",
              "      <td>93</td>\n",
              "      <td>30</td>\n",
              "    </tr>\n",
              "  </tbody>\n",
              "</table>\n",
              "</div>\n",
              "    <div class=\"colab-df-buttons\">\n",
              "\n",
              "  <div class=\"colab-df-container\">\n",
              "    <button class=\"colab-df-convert\" onclick=\"convertToInteractive('df-e9023424-af84-406d-8946-b76c35f2a603')\"\n",
              "            title=\"Convert this dataframe to an interactive table.\"\n",
              "            style=\"display:none;\">\n",
              "\n",
              "  <svg xmlns=\"http://www.w3.org/2000/svg\" height=\"24px\" viewBox=\"0 -960 960 960\">\n",
              "    <path d=\"M120-120v-720h720v720H120Zm60-500h600v-160H180v160Zm220 220h160v-160H400v160Zm0 220h160v-160H400v160ZM180-400h160v-160H180v160Zm440 0h160v-160H620v160ZM180-180h160v-160H180v160Zm440 0h160v-160H620v160Z\"/>\n",
              "  </svg>\n",
              "    </button>\n",
              "\n",
              "  <style>\n",
              "    .colab-df-container {\n",
              "      display:flex;\n",
              "      gap: 12px;\n",
              "    }\n",
              "\n",
              "    .colab-df-convert {\n",
              "      background-color: #E8F0FE;\n",
              "      border: none;\n",
              "      border-radius: 50%;\n",
              "      cursor: pointer;\n",
              "      display: none;\n",
              "      fill: #1967D2;\n",
              "      height: 32px;\n",
              "      padding: 0 0 0 0;\n",
              "      width: 32px;\n",
              "    }\n",
              "\n",
              "    .colab-df-convert:hover {\n",
              "      background-color: #E2EBFA;\n",
              "      box-shadow: 0px 1px 2px rgba(60, 64, 67, 0.3), 0px 1px 3px 1px rgba(60, 64, 67, 0.15);\n",
              "      fill: #174EA6;\n",
              "    }\n",
              "\n",
              "    .colab-df-buttons div {\n",
              "      margin-bottom: 4px;\n",
              "    }\n",
              "\n",
              "    [theme=dark] .colab-df-convert {\n",
              "      background-color: #3B4455;\n",
              "      fill: #D2E3FC;\n",
              "    }\n",
              "\n",
              "    [theme=dark] .colab-df-convert:hover {\n",
              "      background-color: #434B5C;\n",
              "      box-shadow: 0px 1px 3px 1px rgba(0, 0, 0, 0.15);\n",
              "      filter: drop-shadow(0px 1px 2px rgba(0, 0, 0, 0.3));\n",
              "      fill: #FFFFFF;\n",
              "    }\n",
              "  </style>\n",
              "\n",
              "    <script>\n",
              "      const buttonEl =\n",
              "        document.querySelector('#df-e9023424-af84-406d-8946-b76c35f2a603 button.colab-df-convert');\n",
              "      buttonEl.style.display =\n",
              "        google.colab.kernel.accessAllowed ? 'block' : 'none';\n",
              "\n",
              "      async function convertToInteractive(key) {\n",
              "        const element = document.querySelector('#df-e9023424-af84-406d-8946-b76c35f2a603');\n",
              "        const dataTable =\n",
              "          await google.colab.kernel.invokeFunction('convertToInteractive',\n",
              "                                                    [key], {});\n",
              "        if (!dataTable) return;\n",
              "\n",
              "        const docLinkHtml = 'Like what you see? Visit the ' +\n",
              "          '<a target=\"_blank\" href=https://colab.research.google.com/notebooks/data_table.ipynb>data table notebook</a>'\n",
              "          + ' to learn more about interactive tables.';\n",
              "        element.innerHTML = '';\n",
              "        dataTable['output_type'] = 'display_data';\n",
              "        await google.colab.output.renderOutput(dataTable, element);\n",
              "        const docLink = document.createElement('div');\n",
              "        docLink.innerHTML = docLinkHtml;\n",
              "        element.appendChild(docLink);\n",
              "      }\n",
              "    </script>\n",
              "  </div>\n",
              "\n",
              "\n",
              "<div id=\"df-70ec42a6-f45d-429f-9f80-643d574ed4d7\">\n",
              "  <button class=\"colab-df-quickchart\" onclick=\"quickchart('df-70ec42a6-f45d-429f-9f80-643d574ed4d7')\"\n",
              "            title=\"Suggest charts\"\n",
              "            style=\"display:none;\">\n",
              "\n",
              "<svg xmlns=\"http://www.w3.org/2000/svg\" height=\"24px\"viewBox=\"0 0 24 24\"\n",
              "     width=\"24px\">\n",
              "    <g>\n",
              "        <path d=\"M19 3H5c-1.1 0-2 .9-2 2v14c0 1.1.9 2 2 2h14c1.1 0 2-.9 2-2V5c0-1.1-.9-2-2-2zM9 17H7v-7h2v7zm4 0h-2V7h2v10zm4 0h-2v-4h2v4z\"/>\n",
              "    </g>\n",
              "</svg>\n",
              "  </button>\n",
              "\n",
              "<style>\n",
              "  .colab-df-quickchart {\n",
              "      --bg-color: #E8F0FE;\n",
              "      --fill-color: #1967D2;\n",
              "      --hover-bg-color: #E2EBFA;\n",
              "      --hover-fill-color: #174EA6;\n",
              "      --disabled-fill-color: #AAA;\n",
              "      --disabled-bg-color: #DDD;\n",
              "  }\n",
              "\n",
              "  [theme=dark] .colab-df-quickchart {\n",
              "      --bg-color: #3B4455;\n",
              "      --fill-color: #D2E3FC;\n",
              "      --hover-bg-color: #434B5C;\n",
              "      --hover-fill-color: #FFFFFF;\n",
              "      --disabled-bg-color: #3B4455;\n",
              "      --disabled-fill-color: #666;\n",
              "  }\n",
              "\n",
              "  .colab-df-quickchart {\n",
              "    background-color: var(--bg-color);\n",
              "    border: none;\n",
              "    border-radius: 50%;\n",
              "    cursor: pointer;\n",
              "    display: none;\n",
              "    fill: var(--fill-color);\n",
              "    height: 32px;\n",
              "    padding: 0;\n",
              "    width: 32px;\n",
              "  }\n",
              "\n",
              "  .colab-df-quickchart:hover {\n",
              "    background-color: var(--hover-bg-color);\n",
              "    box-shadow: 0 1px 2px rgba(60, 64, 67, 0.3), 0 1px 3px 1px rgba(60, 64, 67, 0.15);\n",
              "    fill: var(--button-hover-fill-color);\n",
              "  }\n",
              "\n",
              "  .colab-df-quickchart-complete:disabled,\n",
              "  .colab-df-quickchart-complete:disabled:hover {\n",
              "    background-color: var(--disabled-bg-color);\n",
              "    fill: var(--disabled-fill-color);\n",
              "    box-shadow: none;\n",
              "  }\n",
              "\n",
              "  .colab-df-spinner {\n",
              "    border: 2px solid var(--fill-color);\n",
              "    border-color: transparent;\n",
              "    border-bottom-color: var(--fill-color);\n",
              "    animation:\n",
              "      spin 1s steps(1) infinite;\n",
              "  }\n",
              "\n",
              "  @keyframes spin {\n",
              "    0% {\n",
              "      border-color: transparent;\n",
              "      border-bottom-color: var(--fill-color);\n",
              "      border-left-color: var(--fill-color);\n",
              "    }\n",
              "    20% {\n",
              "      border-color: transparent;\n",
              "      border-left-color: var(--fill-color);\n",
              "      border-top-color: var(--fill-color);\n",
              "    }\n",
              "    30% {\n",
              "      border-color: transparent;\n",
              "      border-left-color: var(--fill-color);\n",
              "      border-top-color: var(--fill-color);\n",
              "      border-right-color: var(--fill-color);\n",
              "    }\n",
              "    40% {\n",
              "      border-color: transparent;\n",
              "      border-right-color: var(--fill-color);\n",
              "      border-top-color: var(--fill-color);\n",
              "    }\n",
              "    60% {\n",
              "      border-color: transparent;\n",
              "      border-right-color: var(--fill-color);\n",
              "    }\n",
              "    80% {\n",
              "      border-color: transparent;\n",
              "      border-right-color: var(--fill-color);\n",
              "      border-bottom-color: var(--fill-color);\n",
              "    }\n",
              "    90% {\n",
              "      border-color: transparent;\n",
              "      border-bottom-color: var(--fill-color);\n",
              "    }\n",
              "  }\n",
              "</style>\n",
              "\n",
              "  <script>\n",
              "    async function quickchart(key) {\n",
              "      const quickchartButtonEl =\n",
              "        document.querySelector('#' + key + ' button');\n",
              "      quickchartButtonEl.disabled = true;  // To prevent multiple clicks.\n",
              "      quickchartButtonEl.classList.add('colab-df-spinner');\n",
              "      try {\n",
              "        const charts = await google.colab.kernel.invokeFunction(\n",
              "            'suggestCharts', [key], {});\n",
              "      } catch (error) {\n",
              "        console.error('Error during call to suggestCharts:', error);\n",
              "      }\n",
              "      quickchartButtonEl.classList.remove('colab-df-spinner');\n",
              "      quickchartButtonEl.classList.add('colab-df-quickchart-complete');\n",
              "    }\n",
              "    (() => {\n",
              "      let quickchartButtonEl =\n",
              "        document.querySelector('#df-70ec42a6-f45d-429f-9f80-643d574ed4d7 button');\n",
              "      quickchartButtonEl.style.display =\n",
              "        google.colab.kernel.accessAllowed ? 'block' : 'none';\n",
              "    })();\n",
              "  </script>\n",
              "</div>\n",
              "\n",
              "  <div id=\"id_b939d80e-0083-4abf-aed9-031a139bf04e\">\n",
              "    <style>\n",
              "      .colab-df-generate {\n",
              "        background-color: #E8F0FE;\n",
              "        border: none;\n",
              "        border-radius: 50%;\n",
              "        cursor: pointer;\n",
              "        display: none;\n",
              "        fill: #1967D2;\n",
              "        height: 32px;\n",
              "        padding: 0 0 0 0;\n",
              "        width: 32px;\n",
              "      }\n",
              "\n",
              "      .colab-df-generate:hover {\n",
              "        background-color: #E2EBFA;\n",
              "        box-shadow: 0px 1px 2px rgba(60, 64, 67, 0.3), 0px 1px 3px 1px rgba(60, 64, 67, 0.15);\n",
              "        fill: #174EA6;\n",
              "      }\n",
              "\n",
              "      [theme=dark] .colab-df-generate {\n",
              "        background-color: #3B4455;\n",
              "        fill: #D2E3FC;\n",
              "      }\n",
              "\n",
              "      [theme=dark] .colab-df-generate:hover {\n",
              "        background-color: #434B5C;\n",
              "        box-shadow: 0px 1px 3px 1px rgba(0, 0, 0, 0.15);\n",
              "        filter: drop-shadow(0px 1px 2px rgba(0, 0, 0, 0.3));\n",
              "        fill: #FFFFFF;\n",
              "      }\n",
              "    </style>\n",
              "    <button class=\"colab-df-generate\" onclick=\"generateWithVariable('conf_matrix_df')\"\n",
              "            title=\"Generate code using this dataframe.\"\n",
              "            style=\"display:none;\">\n",
              "\n",
              "  <svg xmlns=\"http://www.w3.org/2000/svg\" height=\"24px\"viewBox=\"0 0 24 24\"\n",
              "       width=\"24px\">\n",
              "    <path d=\"M7,19H8.4L18.45,9,17,7.55,7,17.6ZM5,21V16.75L18.45,3.32a2,2,0,0,1,2.83,0l1.4,1.43a1.91,1.91,0,0,1,.58,1.4,1.91,1.91,0,0,1-.58,1.4L9.25,21ZM18.45,9,17,7.55Zm-12,3A5.31,5.31,0,0,0,4.9,8.1,5.31,5.31,0,0,0,1,6.5,5.31,5.31,0,0,0,4.9,4.9,5.31,5.31,0,0,0,6.5,1,5.31,5.31,0,0,0,8.1,4.9,5.31,5.31,0,0,0,12,6.5,5.46,5.46,0,0,0,6.5,12Z\"/>\n",
              "  </svg>\n",
              "    </button>\n",
              "    <script>\n",
              "      (() => {\n",
              "      const buttonEl =\n",
              "        document.querySelector('#id_b939d80e-0083-4abf-aed9-031a139bf04e button.colab-df-generate');\n",
              "      buttonEl.style.display =\n",
              "        google.colab.kernel.accessAllowed ? 'block' : 'none';\n",
              "\n",
              "      buttonEl.onclick = () => {\n",
              "        google.colab.notebook.generateWithVariable('conf_matrix_df');\n",
              "      }\n",
              "      })();\n",
              "    </script>\n",
              "  </div>\n",
              "\n",
              "    </div>\n",
              "  </div>\n"
            ],
            "application/vnd.google.colaboratory.intrinsic+json": {
              "type": "dataframe",
              "variable_name": "conf_matrix_df",
              "summary": "{\n  \"name\": \"conf_matrix_df\",\n  \"rows\": 5,\n  \"fields\": [\n    {\n      \"column\": \"actual_label\",\n      \"properties\": {\n        \"dtype\": \"string\",\n        \"num_unique_values\": 5,\n        \"samples\": [\n          \"frustrated\",\n          \"delighted\",\n          \"dysregulated\"\n        ],\n        \"semantic_type\": \"\",\n        \"description\": \"\"\n      }\n    },\n    {\n      \"column\": \"happy\",\n      \"properties\": {\n        \"dtype\": \"number\",\n        \"std\": 2,\n        \"min\": 0,\n        \"max\": 5,\n        \"num_unique_values\": 4,\n        \"samples\": [\n          0,\n          1,\n          5\n        ],\n        \"semantic_type\": \"\",\n        \"description\": \"\"\n      }\n    },\n    {\n      \"column\": \"frustrated\",\n      \"properties\": {\n        \"dtype\": \"number\",\n        \"std\": 52,\n        \"min\": 1,\n        \"max\": 131,\n        \"num_unique_values\": 4,\n        \"samples\": [\n          131,\n          13,\n          1\n        ],\n        \"semantic_type\": \"\",\n        \"description\": \"\"\n      }\n    },\n    {\n      \"column\": \"dysregulated\",\n      \"properties\": {\n        \"dtype\": \"number\",\n        \"std\": 0,\n        \"min\": 0,\n        \"max\": 0,\n        \"num_unique_values\": 1,\n        \"samples\": [\n          0\n        ],\n        \"semantic_type\": \"\",\n        \"description\": \"\"\n      }\n    },\n    {\n      \"column\": \"selftalk\",\n      \"properties\": {\n        \"dtype\": \"number\",\n        \"std\": 56,\n        \"min\": 32,\n        \"max\": 171,\n        \"num_unique_values\": 5,\n        \"samples\": [\n          64\n        ],\n        \"semantic_type\": \"\",\n        \"description\": \"\"\n      }\n    },\n    {\n      \"column\": \"delighted\",\n      \"properties\": {\n        \"dtype\": \"number\",\n        \"std\": 8,\n        \"min\": 8,\n        \"max\": 30,\n        \"num_unique_values\": 5,\n        \"samples\": [\n          13\n        ],\n        \"semantic_type\": \"\",\n        \"description\": \"\"\n      }\n    }\n  ]\n}"
            }
          },
          "metadata": {}
        }
      ]
    },
    {
      "cell_type": "code",
      "source": [
        "# Create a heatmap\n",
        "plt.imshow(conf_matrix_df, cmap='viridis', interpolation='nearest')\n",
        "\n",
        "# Add a colorbar to show the scale\n",
        "plt.colorbar()\n",
        "\n",
        "# Add labels and title if desired\n",
        "plt.title('Confusion Matrix')\n",
        "plt.xlabel('X-axis')\n",
        "plt.ylabel('Y-axis')\n",
        "\n",
        "# Show the plot\n",
        "plt.show()"
      ],
      "metadata": {
        "colab": {
          "base_uri": "https://localhost:8080/",
          "height": 472
        },
        "id": "Hq7CfZbw8bhW",
        "outputId": "dfa1294e-0cc3-4291-e8e9-34c140cea2a7"
      },
      "execution_count": null,
      "outputs": [
        {
          "output_type": "display_data",
          "data": {
            "text/plain": [
              "<Figure size 640x480 with 2 Axes>"
            ],
            "image/png": "[encoded data removed]"
          },
          "metadata": {}
        }
      ]
    },
    {
      "cell_type": "markdown",
      "source": [
        "Running the Experiment for feature X_2"
      ],
      "metadata": {
        "id": "LcxVMxOt8cgK"
      }
    },
    {
      "cell_type": "code",
      "source": [
        "# Generate out-of-sample predictions using a logistic\n",
        "# regression model, with the parameter determined by\n",
        "# the optimization above.\n",
        "#\n",
        "# We compute various metrics, using various weightings\n",
        "est = make_pipeline(\n",
        "    StandardScaler(),\n",
        "    LogisticRegression(\n",
        "        C=opt.best_params_[\"logisticregression__C\"],\n",
        "        max_iter=10**6,\n",
        "    ),\n",
        ")\n",
        "oos_pred_prob = cross_val_predict(\n",
        "    est,\n",
        "    X_2.reshape(len(X_2), -1),\n",
        "    y,\n",
        "    cv=StratifiedKFold(\n",
        "        n_splits=10,\n",
        "        shuffle=True,\n",
        "        random_state=1234,  # Using different seed to avoid over-fitting parameter\n",
        "    ),\n",
        "    method=\"predict_proba\",\n",
        "    params={\"logisticregression__sample_weight\": session_weight},\n",
        ")\n",
        "oos_pred = oos_pred_prob.argmax(1)\n",
        "\n",
        "display(\n",
        "    pd.Series(\n",
        "        {name: metric(y, oos_pred_prob) for name, metric in metrics.items()},\n",
        "        name=\"no_weight\",\n",
        "    ).round(3)\n",
        ")\n",
        "display(\n",
        "    pd.Series(\n",
        "        {\n",
        "            name: metric(y, oos_pred_prob, sample_weight=session_weight)\n",
        "            for name, metric in metrics.items()\n",
        "        },\n",
        "        name=\"session_weight\",\n",
        "    ).round(3)\n",
        ")\n",
        "display(\n",
        "    pd.Series(\n",
        "        {\n",
        "            name: metric(\n",
        "                y, oos_pred_prob, sample_weight=session_and_label_weight\n",
        "            )\n",
        "            for name, metric in metrics.items()\n",
        "        },\n",
        "        name=\"session_and_label_weight\",\n",
        "    ).round(3)\n",
        ")"
      ],
      "metadata": {
        "colab": {
          "base_uri": "https://localhost:8080/",
          "height": 688
        },
        "id": "lVH-omgsHGtl",
        "outputId": "b18bb6c5-6333-4935-ac56-4a494690cd43"
      },
      "execution_count": null,
      "outputs": [
        {
          "output_type": "display_data",
          "data": {
            "text/plain": [
              "accuracy             0.328\n",
              "balanced_accuracy    0.238\n",
              "unweighted_f1        0.194\n",
              "UAR                  0.238\n",
              "logloss              1.476\n",
              "Name: no_weight, dtype: float64"
            ],
            "text/html": [
              "<div>\n",
              "<style scoped>\n",
              "    .dataframe tbody tr th:only-of-type {\n",
              "        vertical-align: middle;\n",
              "    }\n",
              "\n",
              "    .dataframe tbody tr th {\n",
              "        vertical-align: top;\n",
              "    }\n",
              "\n",
              "    .dataframe thead th {\n",
              "        text-align: right;\n",
              "    }\n",
              "</style>\n",
              "<table border=\"1\" class=\"dataframe\">\n",
              "  <thead>\n",
              "    <tr style=\"text-align: right;\">\n",
              "      <th></th>\n",
              "      <th>no_weight</th>\n",
              "    </tr>\n",
              "  </thead>\n",
              "  <tbody>\n",
              "    <tr>\n",
              "      <th>accuracy</th>\n",
              "      <td>0.328</td>\n",
              "    </tr>\n",
              "    <tr>\n",
              "      <th>balanced_accuracy</th>\n",
              "      <td>0.238</td>\n",
              "    </tr>\n",
              "    <tr>\n",
              "      <th>unweighted_f1</th>\n",
              "      <td>0.194</td>\n",
              "    </tr>\n",
              "    <tr>\n",
              "      <th>UAR</th>\n",
              "      <td>0.238</td>\n",
              "    </tr>\n",
              "    <tr>\n",
              "      <th>logloss</th>\n",
              "      <td>1.476</td>\n",
              "    </tr>\n",
              "  </tbody>\n",
              "</table>\n",
              "</div><br><label><b>dtype:</b> float64</label>"
            ]
          },
          "metadata": {}
        },
        {
          "output_type": "display_data",
          "data": {
            "text/plain": [
              "accuracy             0.392\n",
              "balanced_accuracy    0.243\n",
              "unweighted_f1        0.216\n",
              "UAR                  0.243\n",
              "logloss              1.375\n",
              "Name: session_weight, dtype: float64"
            ],
            "text/html": [
              "<div>\n",
              "<style scoped>\n",
              "    .dataframe tbody tr th:only-of-type {\n",
              "        vertical-align: middle;\n",
              "    }\n",
              "\n",
              "    .dataframe tbody tr th {\n",
              "        vertical-align: top;\n",
              "    }\n",
              "\n",
              "    .dataframe thead th {\n",
              "        text-align: right;\n",
              "    }\n",
              "</style>\n",
              "<table border=\"1\" class=\"dataframe\">\n",
              "  <thead>\n",
              "    <tr style=\"text-align: right;\">\n",
              "      <th></th>\n",
              "      <th>session_weight</th>\n",
              "    </tr>\n",
              "  </thead>\n",
              "  <tbody>\n",
              "    <tr>\n",
              "      <th>accuracy</th>\n",
              "      <td>0.392</td>\n",
              "    </tr>\n",
              "    <tr>\n",
              "      <th>balanced_accuracy</th>\n",
              "      <td>0.243</td>\n",
              "    </tr>\n",
              "    <tr>\n",
              "      <th>unweighted_f1</th>\n",
              "      <td>0.216</td>\n",
              "    </tr>\n",
              "    <tr>\n",
              "      <th>UAR</th>\n",
              "      <td>0.243</td>\n",
              "    </tr>\n",
              "    <tr>\n",
              "      <th>logloss</th>\n",
              "      <td>1.375</td>\n",
              "    </tr>\n",
              "  </tbody>\n",
              "</table>\n",
              "</div><br><label><b>dtype:</b> float64</label>"
            ]
          },
          "metadata": {}
        },
        {
          "output_type": "display_data",
          "data": {
            "text/plain": [
              "accuracy             0.243\n",
              "balanced_accuracy    0.243\n",
              "unweighted_f1        0.172\n",
              "UAR                  0.243\n",
              "logloss              1.697\n",
              "Name: session_and_label_weight, dtype: float64"
            ],
            "text/html": [
              "<div>\n",
              "<style scoped>\n",
              "    .dataframe tbody tr th:only-of-type {\n",
              "        vertical-align: middle;\n",
              "    }\n",
              "\n",
              "    .dataframe tbody tr th {\n",
              "        vertical-align: top;\n",
              "    }\n",
              "\n",
              "    .dataframe thead th {\n",
              "        text-align: right;\n",
              "    }\n",
              "</style>\n",
              "<table border=\"1\" class=\"dataframe\">\n",
              "  <thead>\n",
              "    <tr style=\"text-align: right;\">\n",
              "      <th></th>\n",
              "      <th>session_and_label_weight</th>\n",
              "    </tr>\n",
              "  </thead>\n",
              "  <tbody>\n",
              "    <tr>\n",
              "      <th>accuracy</th>\n",
              "      <td>0.243</td>\n",
              "    </tr>\n",
              "    <tr>\n",
              "      <th>balanced_accuracy</th>\n",
              "      <td>0.243</td>\n",
              "    </tr>\n",
              "    <tr>\n",
              "      <th>unweighted_f1</th>\n",
              "      <td>0.172</td>\n",
              "    </tr>\n",
              "    <tr>\n",
              "      <th>UAR</th>\n",
              "      <td>0.243</td>\n",
              "    </tr>\n",
              "    <tr>\n",
              "      <th>logloss</th>\n",
              "      <td>1.697</td>\n",
              "    </tr>\n",
              "  </tbody>\n",
              "</table>\n",
              "</div><br><label><b>dtype:</b> float64</label>"
            ]
          },
          "metadata": {}
        }
      ]
    },
    {
      "cell_type": "code",
      "source": [
        "# Confusion matrix\n",
        "\n",
        "conf_matrix_df = pd.DataFrame(\n",
        "    confusion_matrix(y, oos_pred), columns=labels, index=labels\n",
        ")\n",
        "conf_matrix_df.index.name = \"actual_label\"\n",
        "conf_matrix_df.columns.name = \"pred_label\"\n",
        "display(conf_matrix_df)"
      ],
      "metadata": {
        "colab": {
          "base_uri": "https://localhost:8080/",
          "height": 237
        },
        "id": "OwbZtPnnIeqC",
        "outputId": "f30657e5-c5f2-4c2a-a808-0102a5b0631a"
      },
      "execution_count": null,
      "outputs": [
        {
          "output_type": "display_data",
          "data": {
            "text/plain": [
              "pred_label    happy  frustrated  dysregulated  selftalk  delighted\n",
              "actual_label                                                      \n",
              "happy             2           0             0        31         13\n",
              "frustrated        0          25             0       152         31\n",
              "dysregulated      1           3             0        65          5\n",
              "selftalk          0           3             0       165         31\n",
              "delighted         0           4             0       113         29"
            ],
            "text/html": [
              "\n",
              "  <div id=\"df-56772cb2-df4d-4d21-befa-eeb1e6c66b73\" class=\"colab-df-container\">\n",
              "    <div>\n",
              "<style scoped>\n",
              "    .dataframe tbody tr th:only-of-type {\n",
              "        vertical-align: middle;\n",
              "    }\n",
              "\n",
              "    .dataframe tbody tr th {\n",
              "        vertical-align: top;\n",
              "    }\n",
              "\n",
              "    .dataframe thead th {\n",
              "        text-align: right;\n",
              "    }\n",
              "</style>\n",
              "<table border=\"1\" class=\"dataframe\">\n",
              "  <thead>\n",
              "    <tr style=\"text-align: right;\">\n",
              "      <th>pred_label</th>\n",
              "      <th>happy</th>\n",
              "      <th>frustrated</th>\n",
              "      <th>dysregulated</th>\n",
              "      <th>selftalk</th>\n",
              "      <th>delighted</th>\n",
              "    </tr>\n",
              "    <tr>\n",
              "      <th>actual_label</th>\n",
              "      <th></th>\n",
              "      <th></th>\n",
              "      <th></th>\n",
              "      <th></th>\n",
              "      <th></th>\n",
              "    </tr>\n",
              "  </thead>\n",
              "  <tbody>\n",
              "    <tr>\n",
              "      <th>happy</th>\n",
              "      <td>2</td>\n",
              "      <td>0</td>\n",
              "      <td>0</td>\n",
              "      <td>31</td>\n",
              "      <td>13</td>\n",
              "    </tr>\n",
              "    <tr>\n",
              "      <th>frustrated</th>\n",
              "      <td>0</td>\n",
              "      <td>25</td>\n",
              "      <td>0</td>\n",
              "      <td>152</td>\n",
              "      <td>31</td>\n",
              "    </tr>\n",
              "    <tr>\n",
              "      <th>dysregulated</th>\n",
              "      <td>1</td>\n",
              "      <td>3</td>\n",
              "      <td>0</td>\n",
              "      <td>65</td>\n",
              "      <td>5</td>\n",
              "    </tr>\n",
              "    <tr>\n",
              "      <th>selftalk</th>\n",
              "      <td>0</td>\n",
              "      <td>3</td>\n",
              "      <td>0</td>\n",
              "      <td>165</td>\n",
              "      <td>31</td>\n",
              "    </tr>\n",
              "    <tr>\n",
              "      <th>delighted</th>\n",
              "      <td>0</td>\n",
              "      <td>4</td>\n",
              "      <td>0</td>\n",
              "      <td>113</td>\n",
              "      <td>29</td>\n",
              "    </tr>\n",
              "  </tbody>\n",
              "</table>\n",
              "</div>\n",
              "    <div class=\"colab-df-buttons\">\n",
              "\n",
              "  <div class=\"colab-df-container\">\n",
              "    <button class=\"colab-df-convert\" onclick=\"convertToInteractive('df-56772cb2-df4d-4d21-befa-eeb1e6c66b73')\"\n",
              "            title=\"Convert this dataframe to an interactive table.\"\n",
              "            style=\"display:none;\">\n",
              "\n",
              "  <svg xmlns=\"http://www.w3.org/2000/svg\" height=\"24px\" viewBox=\"0 -960 960 960\">\n",
              "    <path d=\"M120-120v-720h720v720H120Zm60-500h600v-160H180v160Zm220 220h160v-160H400v160Zm0 220h160v-160H400v160ZM180-400h160v-160H180v160Zm440 0h160v-160H620v160ZM180-180h160v-160H180v160Zm440 0h160v-160H620v160Z\"/>\n",
              "  </svg>\n",
              "    </button>\n",
              "\n",
              "  <style>\n",
              "    .colab-df-container {\n",
              "      display:flex;\n",
              "      gap: 12px;\n",
              "    }\n",
              "\n",
              "    .colab-df-convert {\n",
              "      background-color: #E8F0FE;\n",
              "      border: none;\n",
              "      border-radius: 50%;\n",
              "      cursor: pointer;\n",
              "      display: none;\n",
              "      fill: #1967D2;\n",
              "      height: 32px;\n",
              "      padding: 0 0 0 0;\n",
              "      width: 32px;\n",
              "    }\n",
              "\n",
              "    .colab-df-convert:hover {\n",
              "      background-color: #E2EBFA;\n",
              "      box-shadow: 0px 1px 2px rgba(60, 64, 67, 0.3), 0px 1px 3px 1px rgba(60, 64, 67, 0.15);\n",
              "      fill: #174EA6;\n",
              "    }\n",
              "\n",
              "    .colab-df-buttons div {\n",
              "      margin-bottom: 4px;\n",
              "    }\n",
              "\n",
              "    [theme=dark] .colab-df-convert {\n",
              "      background-color: #3B4455;\n",
              "      fill: #D2E3FC;\n",
              "    }\n",
              "\n",
              "    [theme=dark] .colab-df-convert:hover {\n",
              "      background-color: #434B5C;\n",
              "      box-shadow: 0px 1px 3px 1px rgba(0, 0, 0, 0.15);\n",
              "      filter: drop-shadow(0px 1px 2px rgba(0, 0, 0, 0.3));\n",
              "      fill: #FFFFFF;\n",
              "    }\n",
              "  </style>\n",
              "\n",
              "    <script>\n",
              "      const buttonEl =\n",
              "        document.querySelector('#df-56772cb2-df4d-4d21-befa-eeb1e6c66b73 button.colab-df-convert');\n",
              "      buttonEl.style.display =\n",
              "        google.colab.kernel.accessAllowed ? 'block' : 'none';\n",
              "\n",
              "      async function convertToInteractive(key) {\n",
              "        const element = document.querySelector('#df-56772cb2-df4d-4d21-befa-eeb1e6c66b73');\n",
              "        const dataTable =\n",
              "          await google.colab.kernel.invokeFunction('convertToInteractive',\n",
              "                                                    [key], {});\n",
              "        if (!dataTable) return;\n",
              "\n",
              "        const docLinkHtml = 'Like what you see? Visit the ' +\n",
              "          '<a target=\"_blank\" href=https://colab.research.google.com/notebooks/data_table.ipynb>data table notebook</a>'\n",
              "          + ' to learn more about interactive tables.';\n",
              "        element.innerHTML = '';\n",
              "        dataTable['output_type'] = 'display_data';\n",
              "        await google.colab.output.renderOutput(dataTable, element);\n",
              "        const docLink = document.createElement('div');\n",
              "        docLink.innerHTML = docLinkHtml;\n",
              "        element.appendChild(docLink);\n",
              "      }\n",
              "    </script>\n",
              "  </div>\n",
              "\n",
              "\n",
              "<div id=\"df-7f64e2f7-a1b7-4e51-ad38-7e7ff122afe0\">\n",
              "  <button class=\"colab-df-quickchart\" onclick=\"quickchart('df-7f64e2f7-a1b7-4e51-ad38-7e7ff122afe0')\"\n",
              "            title=\"Suggest charts\"\n",
              "            style=\"display:none;\">\n",
              "\n",
              "<svg xmlns=\"http://www.w3.org/2000/svg\" height=\"24px\"viewBox=\"0 0 24 24\"\n",
              "     width=\"24px\">\n",
              "    <g>\n",
              "        <path d=\"M19 3H5c-1.1 0-2 .9-2 2v14c0 1.1.9 2 2 2h14c1.1 0 2-.9 2-2V5c0-1.1-.9-2-2-2zM9 17H7v-7h2v7zm4 0h-2V7h2v10zm4 0h-2v-4h2v4z\"/>\n",
              "    </g>\n",
              "</svg>\n",
              "  </button>\n",
              "\n",
              "<style>\n",
              "  .colab-df-quickchart {\n",
              "      --bg-color: #E8F0FE;\n",
              "      --fill-color: #1967D2;\n",
              "      --hover-bg-color: #E2EBFA;\n",
              "      --hover-fill-color: #174EA6;\n",
              "      --disabled-fill-color: #AAA;\n",
              "      --disabled-bg-color: #DDD;\n",
              "  }\n",
              "\n",
              "  [theme=dark] .colab-df-quickchart {\n",
              "      --bg-color: #3B4455;\n",
              "      --fill-color: #D2E3FC;\n",
              "      --hover-bg-color: #434B5C;\n",
              "      --hover-fill-color: #FFFFFF;\n",
              "      --disabled-bg-color: #3B4455;\n",
              "      --disabled-fill-color: #666;\n",
              "  }\n",
              "\n",
              "  .colab-df-quickchart {\n",
              "    background-color: var(--bg-color);\n",
              "    border: none;\n",
              "    border-radius: 50%;\n",
              "    cursor: pointer;\n",
              "    display: none;\n",
              "    fill: var(--fill-color);\n",
              "    height: 32px;\n",
              "    padding: 0;\n",
              "    width: 32px;\n",
              "  }\n",
              "\n",
              "  .colab-df-quickchart:hover {\n",
              "    background-color: var(--hover-bg-color);\n",
              "    box-shadow: 0 1px 2px rgba(60, 64, 67, 0.3), 0 1px 3px 1px rgba(60, 64, 67, 0.15);\n",
              "    fill: var(--button-hover-fill-color);\n",
              "  }\n",
              "\n",
              "  .colab-df-quickchart-complete:disabled,\n",
              "  .colab-df-quickchart-complete:disabled:hover {\n",
              "    background-color: var(--disabled-bg-color);\n",
              "    fill: var(--disabled-fill-color);\n",
              "    box-shadow: none;\n",
              "  }\n",
              "\n",
              "  .colab-df-spinner {\n",
              "    border: 2px solid var(--fill-color);\n",
              "    border-color: transparent;\n",
              "    border-bottom-color: var(--fill-color);\n",
              "    animation:\n",
              "      spin 1s steps(1) infinite;\n",
              "  }\n",
              "\n",
              "  @keyframes spin {\n",
              "    0% {\n",
              "      border-color: transparent;\n",
              "      border-bottom-color: var(--fill-color);\n",
              "      border-left-color: var(--fill-color);\n",
              "    }\n",
              "    20% {\n",
              "      border-color: transparent;\n",
              "      border-left-color: var(--fill-color);\n",
              "      border-top-color: var(--fill-color);\n",
              "    }\n",
              "    30% {\n",
              "      border-color: transparent;\n",
              "      border-left-color: var(--fill-color);\n",
              "      border-top-color: var(--fill-color);\n",
              "      border-right-color: var(--fill-color);\n",
              "    }\n",
              "    40% {\n",
              "      border-color: transparent;\n",
              "      border-right-color: var(--fill-color);\n",
              "      border-top-color: var(--fill-color);\n",
              "    }\n",
              "    60% {\n",
              "      border-color: transparent;\n",
              "      border-right-color: var(--fill-color);\n",
              "    }\n",
              "    80% {\n",
              "      border-color: transparent;\n",
              "      border-right-color: var(--fill-color);\n",
              "      border-bottom-color: var(--fill-color);\n",
              "    }\n",
              "    90% {\n",
              "      border-color: transparent;\n",
              "      border-bottom-color: var(--fill-color);\n",
              "    }\n",
              "  }\n",
              "</style>\n",
              "\n",
              "  <script>\n",
              "    async function quickchart(key) {\n",
              "      const quickchartButtonEl =\n",
              "        document.querySelector('#' + key + ' button');\n",
              "      quickchartButtonEl.disabled = true;  // To prevent multiple clicks.\n",
              "      quickchartButtonEl.classList.add('colab-df-spinner');\n",
              "      try {\n",
              "        const charts = await google.colab.kernel.invokeFunction(\n",
              "            'suggestCharts', [key], {});\n",
              "      } catch (error) {\n",
              "        console.error('Error during call to suggestCharts:', error);\n",
              "      }\n",
              "      quickchartButtonEl.classList.remove('colab-df-spinner');\n",
              "      quickchartButtonEl.classList.add('colab-df-quickchart-complete');\n",
              "    }\n",
              "    (() => {\n",
              "      let quickchartButtonEl =\n",
              "        document.querySelector('#df-7f64e2f7-a1b7-4e51-ad38-7e7ff122afe0 button');\n",
              "      quickchartButtonEl.style.display =\n",
              "        google.colab.kernel.accessAllowed ? 'block' : 'none';\n",
              "    })();\n",
              "  </script>\n",
              "</div>\n",
              "\n",
              "  <div id=\"id_7531b946-abb0-415e-8957-db18656458c3\">\n",
              "    <style>\n",
              "      .colab-df-generate {\n",
              "        background-color: #E8F0FE;\n",
              "        border: none;\n",
              "        border-radius: 50%;\n",
              "        cursor: pointer;\n",
              "        display: none;\n",
              "        fill: #1967D2;\n",
              "        height: 32px;\n",
              "        padding: 0 0 0 0;\n",
              "        width: 32px;\n",
              "      }\n",
              "\n",
              "      .colab-df-generate:hover {\n",
              "        background-color: #E2EBFA;\n",
              "        box-shadow: 0px 1px 2px rgba(60, 64, 67, 0.3), 0px 1px 3px 1px rgba(60, 64, 67, 0.15);\n",
              "        fill: #174EA6;\n",
              "      }\n",
              "\n",
              "      [theme=dark] .colab-df-generate {\n",
              "        background-color: #3B4455;\n",
              "        fill: #D2E3FC;\n",
              "      }\n",
              "\n",
              "      [theme=dark] .colab-df-generate:hover {\n",
              "        background-color: #434B5C;\n",
              "        box-shadow: 0px 1px 3px 1px rgba(0, 0, 0, 0.15);\n",
              "        filter: drop-shadow(0px 1px 2px rgba(0, 0, 0, 0.3));\n",
              "        fill: #FFFFFF;\n",
              "      }\n",
              "    </style>\n",
              "    <button class=\"colab-df-generate\" onclick=\"generateWithVariable('conf_matrix_df')\"\n",
              "            title=\"Generate code using this dataframe.\"\n",
              "            style=\"display:none;\">\n",
              "\n",
              "  <svg xmlns=\"http://www.w3.org/2000/svg\" height=\"24px\"viewBox=\"0 0 24 24\"\n",
              "       width=\"24px\">\n",
              "    <path d=\"M7,19H8.4L18.45,9,17,7.55,7,17.6ZM5,21V16.75L18.45,3.32a2,2,0,0,1,2.83,0l1.4,1.43a1.91,1.91,0,0,1,.58,1.4,1.91,1.91,0,0,1-.58,1.4L9.25,21ZM18.45,9,17,7.55Zm-12,3A5.31,5.31,0,0,0,4.9,8.1,5.31,5.31,0,0,0,1,6.5,5.31,5.31,0,0,0,4.9,4.9,5.31,5.31,0,0,0,6.5,1,5.31,5.31,0,0,0,8.1,4.9,5.31,5.31,0,0,0,12,6.5,5.46,5.46,0,0,0,6.5,12Z\"/>\n",
              "  </svg>\n",
              "    </button>\n",
              "    <script>\n",
              "      (() => {\n",
              "      const buttonEl =\n",
              "        document.querySelector('#id_7531b946-abb0-415e-8957-db18656458c3 button.colab-df-generate');\n",
              "      buttonEl.style.display =\n",
              "        google.colab.kernel.accessAllowed ? 'block' : 'none';\n",
              "\n",
              "      buttonEl.onclick = () => {\n",
              "        google.colab.notebook.generateWithVariable('conf_matrix_df');\n",
              "      }\n",
              "      })();\n",
              "    </script>\n",
              "  </div>\n",
              "\n",
              "    </div>\n",
              "  </div>\n"
            ],
            "application/vnd.google.colaboratory.intrinsic+json": {
              "type": "dataframe",
              "variable_name": "conf_matrix_df",
              "summary": "{\n  \"name\": \"conf_matrix_df\",\n  \"rows\": 5,\n  \"fields\": [\n    {\n      \"column\": \"actual_label\",\n      \"properties\": {\n        \"dtype\": \"string\",\n        \"num_unique_values\": 5,\n        \"samples\": [\n          \"frustrated\",\n          \"delighted\",\n          \"dysregulated\"\n        ],\n        \"semantic_type\": \"\",\n        \"description\": \"\"\n      }\n    },\n    {\n      \"column\": \"happy\",\n      \"properties\": {\n        \"dtype\": \"number\",\n        \"std\": 0,\n        \"min\": 0,\n        \"max\": 2,\n        \"num_unique_values\": 3,\n        \"samples\": [\n          2,\n          0,\n          1\n        ],\n        \"semantic_type\": \"\",\n        \"description\": \"\"\n      }\n    },\n    {\n      \"column\": \"frustrated\",\n      \"properties\": {\n        \"dtype\": \"number\",\n        \"std\": 10,\n        \"min\": 0,\n        \"max\": 25,\n        \"num_unique_values\": 4,\n        \"samples\": [\n          25,\n          4,\n          0\n        ],\n        \"semantic_type\": \"\",\n        \"description\": \"\"\n      }\n    },\n    {\n      \"column\": \"dysregulated\",\n      \"properties\": {\n        \"dtype\": \"number\",\n        \"std\": 0,\n        \"min\": 0,\n        \"max\": 0,\n        \"num_unique_values\": 1,\n        \"samples\": [\n          0\n        ],\n        \"semantic_type\": \"\",\n        \"description\": \"\"\n      }\n    },\n    {\n      \"column\": \"selftalk\",\n      \"properties\": {\n        \"dtype\": \"number\",\n        \"std\": 56,\n        \"min\": 31,\n        \"max\": 165,\n        \"num_unique_values\": 5,\n        \"samples\": [\n          152\n        ],\n        \"semantic_type\": \"\",\n        \"description\": \"\"\n      }\n    },\n    {\n      \"column\": \"delighted\",\n      \"properties\": {\n        \"dtype\": \"number\",\n        \"std\": 12,\n        \"min\": 5,\n        \"max\": 31,\n        \"num_unique_values\": 4,\n        \"samples\": [\n          31\n        ],\n        \"semantic_type\": \"\",\n        \"description\": \"\"\n      }\n    }\n  ]\n}"
            }
          },
          "metadata": {}
        }
      ]
    },
    {
      "cell_type": "code",
      "source": [
        "# Create a heatmap\n",
        "plt.imshow(conf_matrix_df, cmap='viridis', interpolation='nearest')\n",
        "\n",
        "# Add a colorbar to show the scale\n",
        "plt.colorbar()\n",
        "\n",
        "# Add labels and title if desired\n",
        "plt.title('Confusion Matrix')\n",
        "plt.xlabel('X-axis')\n",
        "plt.ylabel('Y-axis')\n",
        "\n",
        "# Show the plot\n",
        "plt.show()"
      ],
      "metadata": {
        "colab": {
          "base_uri": "https://localhost:8080/",
          "height": 472
        },
        "id": "8UKy13KHImVz",
        "outputId": "6eda234f-95a7-4be1-9c23-f1fac60c2133"
      },
      "execution_count": null,
      "outputs": [
        {
          "output_type": "display_data",
          "data": {
            "text/plain": [
              "<Figure size 640x480 with 2 Axes>"
            ],
            "image/png": "[encoded data removed]"
          },
          "metadata": {}
        }
      ]
    },
    {
      "cell_type": "markdown",
      "source": [
        "Running the Experiment for X_3"
      ],
      "metadata": {
        "id": "xR85FA5nI4vo"
      }
    },
    {
      "cell_type": "code",
      "source": [
        "# Generate out-of-sample predictions using a logistic\n",
        "# regression model, with the parameter determined by\n",
        "# the optimization above.\n",
        "#\n",
        "# We compute various metrics, using various weightings\n",
        "est = make_pipeline(\n",
        "    StandardScaler(),\n",
        "    LogisticRegression(\n",
        "        C=opt.best_params_[\"logisticregression__C\"],\n",
        "        max_iter=10**6,\n",
        "    ),\n",
        ")\n",
        "oos_pred_prob = cross_val_predict(\n",
        "    est,\n",
        "    X_3.reshape(len(X_3), -1), #why was this reshaping done?\n",
        "    y,\n",
        "    cv=StratifiedKFold(\n",
        "        n_splits=10,\n",
        "        shuffle=True,\n",
        "        random_state=1234,  # Using different seed to avoid over-fitting parameter\n",
        "    ),\n",
        "    method=\"predict_proba\",\n",
        "    params={\"logisticregression__sample_weight\": session_weight},\n",
        ")\n",
        "oos_pred = oos_pred_prob.argmax(1)\n",
        "\n",
        "display(\n",
        "    pd.Series(\n",
        "        {name: metric(y, oos_pred_prob) for name, metric in metrics.items()},\n",
        "        name=\"no_weight\",\n",
        "    ).round(3)\n",
        ")\n",
        "display(\n",
        "    pd.Series(\n",
        "        {\n",
        "            name: metric(y, oos_pred_prob, sample_weight=session_weight)\n",
        "            for name, metric in metrics.items()\n",
        "        },\n",
        "        name=\"session_weight\",\n",
        "    ).round(3)\n",
        ")\n",
        "display(\n",
        "    pd.Series(\n",
        "        {\n",
        "            name: metric(\n",
        "                y, oos_pred_prob, sample_weight=session_and_label_weight\n",
        "            )\n",
        "            for name, metric in metrics.items()\n",
        "        },\n",
        "        name=\"session_and_label_weight\",\n",
        "    ).round(3)\n",
        ")"
      ],
      "metadata": {
        "colab": {
          "base_uri": "https://localhost:8080/",
          "height": 688
        },
        "id": "YUxfhd2yI4ZP",
        "outputId": "07e1b512-ded8-453c-af24-a12198e48a4e"
      },
      "execution_count": null,
      "outputs": [
        {
          "output_type": "display_data",
          "data": {
            "text/plain": [
              "accuracy             0.299\n",
              "balanced_accuracy    0.209\n",
              "unweighted_f1        0.132\n",
              "UAR                  0.209\n",
              "logloss              1.482\n",
              "Name: no_weight, dtype: float64"
            ],
            "text/html": [
              "<div>\n",
              "<style scoped>\n",
              "    .dataframe tbody tr th:only-of-type {\n",
              "        vertical-align: middle;\n",
              "    }\n",
              "\n",
              "    .dataframe tbody tr th {\n",
              "        vertical-align: top;\n",
              "    }\n",
              "\n",
              "    .dataframe thead th {\n",
              "        text-align: right;\n",
              "    }\n",
              "</style>\n",
              "<table border=\"1\" class=\"dataframe\">\n",
              "  <thead>\n",
              "    <tr style=\"text-align: right;\">\n",
              "      <th></th>\n",
              "      <th>no_weight</th>\n",
              "    </tr>\n",
              "  </thead>\n",
              "  <tbody>\n",
              "    <tr>\n",
              "      <th>accuracy</th>\n",
              "      <td>0.299</td>\n",
              "    </tr>\n",
              "    <tr>\n",
              "      <th>balanced_accuracy</th>\n",
              "      <td>0.209</td>\n",
              "    </tr>\n",
              "    <tr>\n",
              "      <th>unweighted_f1</th>\n",
              "      <td>0.132</td>\n",
              "    </tr>\n",
              "    <tr>\n",
              "      <th>UAR</th>\n",
              "      <td>0.209</td>\n",
              "    </tr>\n",
              "    <tr>\n",
              "      <th>logloss</th>\n",
              "      <td>1.482</td>\n",
              "    </tr>\n",
              "  </tbody>\n",
              "</table>\n",
              "</div><br><label><b>dtype:</b> float64</label>"
            ]
          },
          "metadata": {}
        },
        {
          "output_type": "display_data",
          "data": {
            "text/plain": [
              "accuracy             0.364\n",
              "balanced_accuracy    0.207\n",
              "unweighted_f1        0.148\n",
              "UAR                  0.207\n",
              "logloss              1.384\n",
              "Name: session_weight, dtype: float64"
            ],
            "text/html": [
              "<div>\n",
              "<style scoped>\n",
              "    .dataframe tbody tr th:only-of-type {\n",
              "        vertical-align: middle;\n",
              "    }\n",
              "\n",
              "    .dataframe tbody tr th {\n",
              "        vertical-align: top;\n",
              "    }\n",
              "\n",
              "    .dataframe thead th {\n",
              "        text-align: right;\n",
              "    }\n",
              "</style>\n",
              "<table border=\"1\" class=\"dataframe\">\n",
              "  <thead>\n",
              "    <tr style=\"text-align: right;\">\n",
              "      <th></th>\n",
              "      <th>session_weight</th>\n",
              "    </tr>\n",
              "  </thead>\n",
              "  <tbody>\n",
              "    <tr>\n",
              "      <th>accuracy</th>\n",
              "      <td>0.364</td>\n",
              "    </tr>\n",
              "    <tr>\n",
              "      <th>balanced_accuracy</th>\n",
              "      <td>0.207</td>\n",
              "    </tr>\n",
              "    <tr>\n",
              "      <th>unweighted_f1</th>\n",
              "      <td>0.148</td>\n",
              "    </tr>\n",
              "    <tr>\n",
              "      <th>UAR</th>\n",
              "      <td>0.207</td>\n",
              "    </tr>\n",
              "    <tr>\n",
              "      <th>logloss</th>\n",
              "      <td>1.384</td>\n",
              "    </tr>\n",
              "  </tbody>\n",
              "</table>\n",
              "</div><br><label><b>dtype:</b> float64</label>"
            ]
          },
          "metadata": {}
        },
        {
          "output_type": "display_data",
          "data": {
            "text/plain": [
              "accuracy             0.207\n",
              "balanced_accuracy    0.207\n",
              "unweighted_f1        0.107\n",
              "UAR                  0.207\n",
              "logloss              1.712\n",
              "Name: session_and_label_weight, dtype: float64"
            ],
            "text/html": [
              "<div>\n",
              "<style scoped>\n",
              "    .dataframe tbody tr th:only-of-type {\n",
              "        vertical-align: middle;\n",
              "    }\n",
              "\n",
              "    .dataframe tbody tr th {\n",
              "        vertical-align: top;\n",
              "    }\n",
              "\n",
              "    .dataframe thead th {\n",
              "        text-align: right;\n",
              "    }\n",
              "</style>\n",
              "<table border=\"1\" class=\"dataframe\">\n",
              "  <thead>\n",
              "    <tr style=\"text-align: right;\">\n",
              "      <th></th>\n",
              "      <th>session_and_label_weight</th>\n",
              "    </tr>\n",
              "  </thead>\n",
              "  <tbody>\n",
              "    <tr>\n",
              "      <th>accuracy</th>\n",
              "      <td>0.207</td>\n",
              "    </tr>\n",
              "    <tr>\n",
              "      <th>balanced_accuracy</th>\n",
              "      <td>0.207</td>\n",
              "    </tr>\n",
              "    <tr>\n",
              "      <th>unweighted_f1</th>\n",
              "      <td>0.107</td>\n",
              "    </tr>\n",
              "    <tr>\n",
              "      <th>UAR</th>\n",
              "      <td>0.207</td>\n",
              "    </tr>\n",
              "    <tr>\n",
              "      <th>logloss</th>\n",
              "      <td>1.712</td>\n",
              "    </tr>\n",
              "  </tbody>\n",
              "</table>\n",
              "</div><br><label><b>dtype:</b> float64</label>"
            ]
          },
          "metadata": {}
        }
      ]
    },
    {
      "cell_type": "code",
      "source": [
        "# Confusion matrix\n",
        "\n",
        "conf_matrix_df = pd.DataFrame(\n",
        "    confusion_matrix(y, oos_pred), columns=labels, index=labels\n",
        ")\n",
        "conf_matrix_df.index.name = \"actual_label\"\n",
        "conf_matrix_df.columns.name = \"pred_label\"\n",
        "display(conf_matrix_df)"
      ],
      "metadata": {
        "colab": {
          "base_uri": "https://localhost:8080/",
          "height": 237
        },
        "id": "M9b2n_TdJP_s",
        "outputId": "5d9629a0-44a2-45ad-da3d-42a212ed7509"
      },
      "execution_count": null,
      "outputs": [
        {
          "output_type": "display_data",
          "data": {
            "text/plain": [
              "pred_label    happy  frustrated  dysregulated  selftalk  delighted\n",
              "actual_label                                                      \n",
              "happy             0           0             0        45          1\n",
              "frustrated        0           4             0       157         47\n",
              "dysregulated      0           1             0        70          3\n",
              "selftalk          0           2             0       178         19\n",
              "delighted         0           2             0       125         19"
            ],
            "text/html": [
              "\n",
              "  <div id=\"df-7514dd14-41b9-47fb-aaf5-4fdd1b97a445\" class=\"colab-df-container\">\n",
              "    <div>\n",
              "<style scoped>\n",
              "    .dataframe tbody tr th:only-of-type {\n",
              "        vertical-align: middle;\n",
              "    }\n",
              "\n",
              "    .dataframe tbody tr th {\n",
              "        vertical-align: top;\n",
              "    }\n",
              "\n",
              "    .dataframe thead th {\n",
              "        text-align: right;\n",
              "    }\n",
              "</style>\n",
              "<table border=\"1\" class=\"dataframe\">\n",
              "  <thead>\n",
              "    <tr style=\"text-align: right;\">\n",
              "      <th>pred_label</th>\n",
              "      <th>happy</th>\n",
              "      <th>frustrated</th>\n",
              "      <th>dysregulated</th>\n",
              "      <th>selftalk</th>\n",
              "      <th>delighted</th>\n",
              "    </tr>\n",
              "    <tr>\n",
              "      <th>actual_label</th>\n",
              "      <th></th>\n",
              "      <th></th>\n",
              "      <th></th>\n",
              "      <th></th>\n",
              "      <th></th>\n",
              "    </tr>\n",
              "  </thead>\n",
              "  <tbody>\n",
              "    <tr>\n",
              "      <th>happy</th>\n",
              "      <td>0</td>\n",
              "      <td>0</td>\n",
              "      <td>0</td>\n",
              "      <td>45</td>\n",
              "      <td>1</td>\n",
              "    </tr>\n",
              "    <tr>\n",
              "      <th>frustrated</th>\n",
              "      <td>0</td>\n",
              "      <td>4</td>\n",
              "      <td>0</td>\n",
              "      <td>157</td>\n",
              "      <td>47</td>\n",
              "    </tr>\n",
              "    <tr>\n",
              "      <th>dysregulated</th>\n",
              "      <td>0</td>\n",
              "      <td>1</td>\n",
              "      <td>0</td>\n",
              "      <td>70</td>\n",
              "      <td>3</td>\n",
              "    </tr>\n",
              "    <tr>\n",
              "      <th>selftalk</th>\n",
              "      <td>0</td>\n",
              "      <td>2</td>\n",
              "      <td>0</td>\n",
              "      <td>178</td>\n",
              "      <td>19</td>\n",
              "    </tr>\n",
              "    <tr>\n",
              "      <th>delighted</th>\n",
              "      <td>0</td>\n",
              "      <td>2</td>\n",
              "      <td>0</td>\n",
              "      <td>125</td>\n",
              "      <td>19</td>\n",
              "    </tr>\n",
              "  </tbody>\n",
              "</table>\n",
              "</div>\n",
              "    <div class=\"colab-df-buttons\">\n",
              "\n",
              "  <div class=\"colab-df-container\">\n",
              "    <button class=\"colab-df-convert\" onclick=\"convertToInteractive('df-7514dd14-41b9-47fb-aaf5-4fdd1b97a445')\"\n",
              "            title=\"Convert this dataframe to an interactive table.\"\n",
              "            style=\"display:none;\">\n",
              "\n",
              "  <svg xmlns=\"http://www.w3.org/2000/svg\" height=\"24px\" viewBox=\"0 -960 960 960\">\n",
              "    <path d=\"M120-120v-720h720v720H120Zm60-500h600v-160H180v160Zm220 220h160v-160H400v160Zm0 220h160v-160H400v160ZM180-400h160v-160H180v160Zm440 0h160v-160H620v160ZM180-180h160v-160H180v160Zm440 0h160v-160H620v160Z\"/>\n",
              "  </svg>\n",
              "    </button>\n",
              "\n",
              "  <style>\n",
              "    .colab-df-container {\n",
              "      display:flex;\n",
              "      gap: 12px;\n",
              "    }\n",
              "\n",
              "    .colab-df-convert {\n",
              "      background-color: #E8F0FE;\n",
              "      border: none;\n",
              "      border-radius: 50%;\n",
              "      cursor: pointer;\n",
              "      display: none;\n",
              "      fill: #1967D2;\n",
              "      height: 32px;\n",
              "      padding: 0 0 0 0;\n",
              "      width: 32px;\n",
              "    }\n",
              "\n",
              "    .colab-df-convert:hover {\n",
              "      background-color: #E2EBFA;\n",
              "      box-shadow: 0px 1px 2px rgba(60, 64, 67, 0.3), 0px 1px 3px 1px rgba(60, 64, 67, 0.15);\n",
              "      fill: #174EA6;\n",
              "    }\n",
              "\n",
              "    .colab-df-buttons div {\n",
              "      margin-bottom: 4px;\n",
              "    }\n",
              "\n",
              "    [theme=dark] .colab-df-convert {\n",
              "      background-color: #3B4455;\n",
              "      fill: #D2E3FC;\n",
              "    }\n",
              "\n",
              "    [theme=dark] .colab-df-convert:hover {\n",
              "      background-color: #434B5C;\n",
              "      box-shadow: 0px 1px 3px 1px rgba(0, 0, 0, 0.15);\n",
              "      filter: drop-shadow(0px 1px 2px rgba(0, 0, 0, 0.3));\n",
              "      fill: #FFFFFF;\n",
              "    }\n",
              "  </style>\n",
              "\n",
              "    <script>\n",
              "      const buttonEl =\n",
              "        document.querySelector('#df-7514dd14-41b9-47fb-aaf5-4fdd1b97a445 button.colab-df-convert');\n",
              "      buttonEl.style.display =\n",
              "        google.colab.kernel.accessAllowed ? 'block' : 'none';\n",
              "\n",
              "      async function convertToInteractive(key) {\n",
              "        const element = document.querySelector('#df-7514dd14-41b9-47fb-aaf5-4fdd1b97a445');\n",
              "        const dataTable =\n",
              "          await google.colab.kernel.invokeFunction('convertToInteractive',\n",
              "                                                    [key], {});\n",
              "        if (!dataTable) return;\n",
              "\n",
              "        const docLinkHtml = 'Like what you see? Visit the ' +\n",
              "          '<a target=\"_blank\" href=https://colab.research.google.com/notebooks/data_table.ipynb>data table notebook</a>'\n",
              "          + ' to learn more about interactive tables.';\n",
              "        element.innerHTML = '';\n",
              "        dataTable['output_type'] = 'display_data';\n",
              "        await google.colab.output.renderOutput(dataTable, element);\n",
              "        const docLink = document.createElement('div');\n",
              "        docLink.innerHTML = docLinkHtml;\n",
              "        element.appendChild(docLink);\n",
              "      }\n",
              "    </script>\n",
              "  </div>\n",
              "\n",
              "\n",
              "<div id=\"df-6d363224-6261-4387-98fd-714a966f05e3\">\n",
              "  <button class=\"colab-df-quickchart\" onclick=\"quickchart('df-6d363224-6261-4387-98fd-714a966f05e3')\"\n",
              "            title=\"Suggest charts\"\n",
              "            style=\"display:none;\">\n",
              "\n",
              "<svg xmlns=\"http://www.w3.org/2000/svg\" height=\"24px\"viewBox=\"0 0 24 24\"\n",
              "     width=\"24px\">\n",
              "    <g>\n",
              "        <path d=\"M19 3H5c-1.1 0-2 .9-2 2v14c0 1.1.9 2 2 2h14c1.1 0 2-.9 2-2V5c0-1.1-.9-2-2-2zM9 17H7v-7h2v7zm4 0h-2V7h2v10zm4 0h-2v-4h2v4z\"/>\n",
              "    </g>\n",
              "</svg>\n",
              "  </button>\n",
              "\n",
              "<style>\n",
              "  .colab-df-quickchart {\n",
              "      --bg-color: #E8F0FE;\n",
              "      --fill-color: #1967D2;\n",
              "      --hover-bg-color: #E2EBFA;\n",
              "      --hover-fill-color: #174EA6;\n",
              "      --disabled-fill-color: #AAA;\n",
              "      --disabled-bg-color: #DDD;\n",
              "  }\n",
              "\n",
              "  [theme=dark] .colab-df-quickchart {\n",
              "      --bg-color: #3B4455;\n",
              "      --fill-color: #D2E3FC;\n",
              "      --hover-bg-color: #434B5C;\n",
              "      --hover-fill-color: #FFFFFF;\n",
              "      --disabled-bg-color: #3B4455;\n",
              "      --disabled-fill-color: #666;\n",
              "  }\n",
              "\n",
              "  .colab-df-quickchart {\n",
              "    background-color: var(--bg-color);\n",
              "    border: none;\n",
              "    border-radius: 50%;\n",
              "    cursor: pointer;\n",
              "    display: none;\n",
              "    fill: var(--fill-color);\n",
              "    height: 32px;\n",
              "    padding: 0;\n",
              "    width: 32px;\n",
              "  }\n",
              "\n",
              "  .colab-df-quickchart:hover {\n",
              "    background-color: var(--hover-bg-color);\n",
              "    box-shadow: 0 1px 2px rgba(60, 64, 67, 0.3), 0 1px 3px 1px rgba(60, 64, 67, 0.15);\n",
              "    fill: var(--button-hover-fill-color);\n",
              "  }\n",
              "\n",
              "  .colab-df-quickchart-complete:disabled,\n",
              "  .colab-df-quickchart-complete:disabled:hover {\n",
              "    background-color: var(--disabled-bg-color);\n",
              "    fill: var(--disabled-fill-color);\n",
              "    box-shadow: none;\n",
              "  }\n",
              "\n",
              "  .colab-df-spinner {\n",
              "    border: 2px solid var(--fill-color);\n",
              "    border-color: transparent;\n",
              "    border-bottom-color: var(--fill-color);\n",
              "    animation:\n",
              "      spin 1s steps(1) infinite;\n",
              "  }\n",
              "\n",
              "  @keyframes spin {\n",
              "    0% {\n",
              "      border-color: transparent;\n",
              "      border-bottom-color: var(--fill-color);\n",
              "      border-left-color: var(--fill-color);\n",
              "    }\n",
              "    20% {\n",
              "      border-color: transparent;\n",
              "      border-left-color: var(--fill-color);\n",
              "      border-top-color: var(--fill-color);\n",
              "    }\n",
              "    30% {\n",
              "      border-color: transparent;\n",
              "      border-left-color: var(--fill-color);\n",
              "      border-top-color: var(--fill-color);\n",
              "      border-right-color: var(--fill-color);\n",
              "    }\n",
              "    40% {\n",
              "      border-color: transparent;\n",
              "      border-right-color: var(--fill-color);\n",
              "      border-top-color: var(--fill-color);\n",
              "    }\n",
              "    60% {\n",
              "      border-color: transparent;\n",
              "      border-right-color: var(--fill-color);\n",
              "    }\n",
              "    80% {\n",
              "      border-color: transparent;\n",
              "      border-right-color: var(--fill-color);\n",
              "      border-bottom-color: var(--fill-color);\n",
              "    }\n",
              "    90% {\n",
              "      border-color: transparent;\n",
              "      border-bottom-color: var(--fill-color);\n",
              "    }\n",
              "  }\n",
              "</style>\n",
              "\n",
              "  <script>\n",
              "    async function quickchart(key) {\n",
              "      const quickchartButtonEl =\n",
              "        document.querySelector('#' + key + ' button');\n",
              "      quickchartButtonEl.disabled = true;  // To prevent multiple clicks.\n",
              "      quickchartButtonEl.classList.add('colab-df-spinner');\n",
              "      try {\n",
              "        const charts = await google.colab.kernel.invokeFunction(\n",
              "            'suggestCharts', [key], {});\n",
              "      } catch (error) {\n",
              "        console.error('Error during call to suggestCharts:', error);\n",
              "      }\n",
              "      quickchartButtonEl.classList.remove('colab-df-spinner');\n",
              "      quickchartButtonEl.classList.add('colab-df-quickchart-complete');\n",
              "    }\n",
              "    (() => {\n",
              "      let quickchartButtonEl =\n",
              "        document.querySelector('#df-6d363224-6261-4387-98fd-714a966f05e3 button');\n",
              "      quickchartButtonEl.style.display =\n",
              "        google.colab.kernel.accessAllowed ? 'block' : 'none';\n",
              "    })();\n",
              "  </script>\n",
              "</div>\n",
              "\n",
              "  <div id=\"id_8d758461-ac5f-4c8b-859f-d7b8dc578cdb\">\n",
              "    <style>\n",
              "      .colab-df-generate {\n",
              "        background-color: #E8F0FE;\n",
              "        border: none;\n",
              "        border-radius: 50%;\n",
              "        cursor: pointer;\n",
              "        display: none;\n",
              "        fill: #1967D2;\n",
              "        height: 32px;\n",
              "        padding: 0 0 0 0;\n",
              "        width: 32px;\n",
              "      }\n",
              "\n",
              "      .colab-df-generate:hover {\n",
              "        background-color: #E2EBFA;\n",
              "        box-shadow: 0px 1px 2px rgba(60, 64, 67, 0.3), 0px 1px 3px 1px rgba(60, 64, 67, 0.15);\n",
              "        fill: #174EA6;\n",
              "      }\n",
              "\n",
              "      [theme=dark] .colab-df-generate {\n",
              "        background-color: #3B4455;\n",
              "        fill: #D2E3FC;\n",
              "      }\n",
              "\n",
              "      [theme=dark] .colab-df-generate:hover {\n",
              "        background-color: #434B5C;\n",
              "        box-shadow: 0px 1px 3px 1px rgba(0, 0, 0, 0.15);\n",
              "        filter: drop-shadow(0px 1px 2px rgba(0, 0, 0, 0.3));\n",
              "        fill: #FFFFFF;\n",
              "      }\n",
              "    </style>\n",
              "    <button class=\"colab-df-generate\" onclick=\"generateWithVariable('conf_matrix_df')\"\n",
              "            title=\"Generate code using this dataframe.\"\n",
              "            style=\"display:none;\">\n",
              "\n",
              "  <svg xmlns=\"http://www.w3.org/2000/svg\" height=\"24px\"viewBox=\"0 0 24 24\"\n",
              "       width=\"24px\">\n",
              "    <path d=\"M7,19H8.4L18.45,9,17,7.55,7,17.6ZM5,21V16.75L18.45,3.32a2,2,0,0,1,2.83,0l1.4,1.43a1.91,1.91,0,0,1,.58,1.4,1.91,1.91,0,0,1-.58,1.4L9.25,21ZM18.45,9,17,7.55Zm-12,3A5.31,5.31,0,0,0,4.9,8.1,5.31,5.31,0,0,0,1,6.5,5.31,5.31,0,0,0,4.9,4.9,5.31,5.31,0,0,0,6.5,1,5.31,5.31,0,0,0,8.1,4.9,5.31,5.31,0,0,0,12,6.5,5.46,5.46,0,0,0,6.5,12Z\"/>\n",
              "  </svg>\n",
              "    </button>\n",
              "    <script>\n",
              "      (() => {\n",
              "      const buttonEl =\n",
              "        document.querySelector('#id_8d758461-ac5f-4c8b-859f-d7b8dc578cdb button.colab-df-generate');\n",
              "      buttonEl.style.display =\n",
              "        google.colab.kernel.accessAllowed ? 'block' : 'none';\n",
              "\n",
              "      buttonEl.onclick = () => {\n",
              "        google.colab.notebook.generateWithVariable('conf_matrix_df');\n",
              "      }\n",
              "      })();\n",
              "    </script>\n",
              "  </div>\n",
              "\n",
              "    </div>\n",
              "  </div>\n"
            ],
            "application/vnd.google.colaboratory.intrinsic+json": {
              "type": "dataframe",
              "variable_name": "conf_matrix_df",
              "summary": "{\n  \"name\": \"conf_matrix_df\",\n  \"rows\": 5,\n  \"fields\": [\n    {\n      \"column\": \"actual_label\",\n      \"properties\": {\n        \"dtype\": \"string\",\n        \"num_unique_values\": 5,\n        \"samples\": [\n          \"frustrated\",\n          \"delighted\",\n          \"dysregulated\"\n        ],\n        \"semantic_type\": \"\",\n        \"description\": \"\"\n      }\n    },\n    {\n      \"column\": \"happy\",\n      \"properties\": {\n        \"dtype\": \"number\",\n        \"std\": 0,\n        \"min\": 0,\n        \"max\": 0,\n        \"num_unique_values\": 1,\n        \"samples\": [\n          0\n        ],\n        \"semantic_type\": \"\",\n        \"description\": \"\"\n      }\n    },\n    {\n      \"column\": \"frustrated\",\n      \"properties\": {\n        \"dtype\": \"number\",\n        \"std\": 1,\n        \"min\": 0,\n        \"max\": 4,\n        \"num_unique_values\": 4,\n        \"samples\": [\n          4\n        ],\n        \"semantic_type\": \"\",\n        \"description\": \"\"\n      }\n    },\n    {\n      \"column\": \"dysregulated\",\n      \"properties\": {\n        \"dtype\": \"number\",\n        \"std\": 0,\n        \"min\": 0,\n        \"max\": 0,\n        \"num_unique_values\": 1,\n        \"samples\": [\n          0\n        ],\n        \"semantic_type\": \"\",\n        \"description\": \"\"\n      }\n    },\n    {\n      \"column\": \"selftalk\",\n      \"properties\": {\n        \"dtype\": \"number\",\n        \"std\": 56,\n        \"min\": 45,\n        \"max\": 178,\n        \"num_unique_values\": 5,\n        \"samples\": [\n          157\n        ],\n        \"semantic_type\": \"\",\n        \"description\": \"\"\n      }\n    },\n    {\n      \"column\": \"delighted\",\n      \"properties\": {\n        \"dtype\": \"number\",\n        \"std\": 18,\n        \"min\": 1,\n        \"max\": 47,\n        \"num_unique_values\": 4,\n        \"samples\": [\n          47\n        ],\n        \"semantic_type\": \"\",\n        \"description\": \"\"\n      }\n    }\n  ]\n}"
            }
          },
          "metadata": {}
        }
      ]
    },
    {
      "cell_type": "code",
      "source": [
        "# Create a heatmap\n",
        "plt.imshow(conf_matrix_df, cmap='viridis', interpolation='nearest')\n",
        "\n",
        "# Add a colorbar to show the scale\n",
        "plt.colorbar()\n",
        "\n",
        "# Add labels and title if desired\n",
        "plt.title('Confusion Matrix')\n",
        "plt.xlabel('X-axis')\n",
        "plt.ylabel('Y-axis')\n",
        "\n",
        "# Show the plot\n",
        "plt.show()"
      ],
      "metadata": {
        "colab": {
          "base_uri": "https://localhost:8080/",
          "height": 472
        },
        "id": "wy-q1CbAJVTD",
        "outputId": "baa1fd32-4ddb-4777-90da-eea0d094aa95"
      },
      "execution_count": null,
      "outputs": [
        {
          "output_type": "display_data",
          "data": {
            "text/plain": [
              "<Figure size 640x480 with 2 Axes>"
            ],
            "image/png": "[encoded data removed]"
          },
          "metadata": {}
        }
      ]
    },
    {
      "cell_type": "markdown",
      "source": [
        "# Conclusions\n",
        "\n",
        "[FILL]\n"
      ],
      "metadata": {
        "id": "4qyxazh0_Wpw"
      }
    },
    {
      "cell_type": "code",
      "source": [],
      "metadata": {
        "id": "yYiioNco_c7N"
      },
      "execution_count": null,
      "outputs": []
    }
  ]
}